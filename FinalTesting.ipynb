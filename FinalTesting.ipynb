{
 "cells": [
  {
   "cell_type": "code",
   "execution_count": 3,
   "metadata": {},
   "outputs": [
    {
     "name": "stdout",
     "output_type": "stream",
     "text": [
      "model loaded\n",
      "Loaded Model from disk\n",
      "weights loaded\n",
      "Model: \"sequential\"\n",
      "_________________________________________________________________\n",
      "Layer (type)                 Output Shape              Param #   \n",
      "=================================================================\n",
      "resnet50v2 (Functional)      (None, 7, 7, 2048)        23564800  \n",
      "_________________________________________________________________\n",
      "flatten (Flatten)            (None, 100352)            0         \n",
      "_________________________________________________________________\n",
      "dense (Dense)                (None, 256)               25690368  \n",
      "_________________________________________________________________\n",
      "dropout (Dropout)            (None, 256)               0         \n",
      "_________________________________________________________________\n",
      "dense_1 (Dense)              (None, 512)               131584    \n",
      "_________________________________________________________________\n",
      "dropout_1 (Dropout)          (None, 512)               0         \n",
      "_________________________________________________________________\n",
      "dense_2 (Dense)              (None, 512)               262656    \n",
      "_________________________________________________________________\n",
      "dropout_2 (Dropout)          (None, 512)               0         \n",
      "_________________________________________________________________\n",
      "dense_3 (Dense)              (None, 6)                 3078      \n",
      "=================================================================\n",
      "Total params: 49,652,486\n",
      "Trainable params: 26,087,686\n",
      "Non-trainable params: 23,564,800\n",
      "_________________________________________________________________\n",
      "model prepared\n",
      "done\n"
     ]
    },
    {
     "name": "stderr",
     "output_type": "stream",
     "text": [
      "  0%|                                                                                          | 0/208 [00:00<?, ?it/s]"
     ]
    },
    {
     "name": "stdout",
     "output_type": "stream",
     "text": [
      "WARNING:tensorflow:From <ipython-input-3-7accd131cf5a>:111: Sequential.predict_classes (from tensorflow.python.keras.engine.sequential) is deprecated and will be removed after 2021-01-01.\n",
      "Instructions for updating:\n",
      "Please use instead:* `np.argmax(model.predict(x), axis=-1)`,   if your model does multi-class classification   (e.g. if it uses a `softmax` last-layer activation).* `(model.predict(x) > 0.5).astype(\"int32\")`,   if your model does binary classification   (e.g. if it uses a `sigmoid` last-layer activation).\n"
     ]
    },
    {
     "name": "stderr",
     "output_type": "stream",
     "text": [
      "  0%|▍                                                                                 | 1/208 [00:03<12:18,  3.57s/it]"
     ]
    },
    {
     "name": "stdout",
     "output_type": "stream",
     "text": [
      "['BabyCrawling']\n",
      "['BabyCrawling']\n"
     ]
    },
    {
     "name": "stderr",
     "output_type": "stream",
     "text": [
      "  1%|▊                                                                                 | 2/208 [00:04<09:44,  2.84s/it]"
     ]
    },
    {
     "name": "stdout",
     "output_type": "stream",
     "text": [
      "['BabyCrawling', 'BabyCrawling']\n",
      "['BabyCrawling', 'BabyCrawling']\n"
     ]
    },
    {
     "name": "stderr",
     "output_type": "stream",
     "text": [
      "  1%|█▏                                                                                | 3/208 [00:05<07:49,  2.29s/it]"
     ]
    },
    {
     "name": "stdout",
     "output_type": "stream",
     "text": [
      "['BabyCrawling', 'BabyCrawling', 'BabyCrawling']\n",
      "['BabyCrawling', 'BabyCrawling', 'BabyCrawling']\n"
     ]
    },
    {
     "name": "stderr",
     "output_type": "stream",
     "text": [
      "  2%|█▌                                                                                | 4/208 [00:07<06:45,  1.99s/it]"
     ]
    },
    {
     "name": "stdout",
     "output_type": "stream",
     "text": [
      "['BabyCrawling', 'BabyCrawling', 'BabyCrawling', 'BabyCrawling']\n",
      "['BabyCrawling', 'BabyCrawling', 'BabyCrawling', 'BabyCrawling']\n"
     ]
    },
    {
     "name": "stderr",
     "output_type": "stream",
     "text": [
      "  2%|█▉                                                                                | 5/208 [00:07<05:33,  1.64s/it]"
     ]
    },
    {
     "name": "stdout",
     "output_type": "stream",
     "text": [
      "['BabyCrawling', 'BabyCrawling', 'BabyCrawling', 'BabyCrawling', 'BabyCrawling']\n",
      "['BabyCrawling', 'BabyCrawling', 'BabyCrawling', 'BabyCrawling', 'BabyCrawling']\n"
     ]
    },
    {
     "name": "stderr",
     "output_type": "stream",
     "text": [
      "  3%|██▎                                                                               | 6/208 [00:08<04:43,  1.41s/it]"
     ]
    },
    {
     "name": "stdout",
     "output_type": "stream",
     "text": [
      "['BabyCrawling', 'BabyCrawling', 'BabyCrawling', 'BabyCrawling', 'BabyCrawling', 'BabyCrawling']\n",
      "['BabyCrawling', 'BabyCrawling', 'BabyCrawling', 'BabyCrawling', 'BabyCrawling', 'BabyCrawling']\n"
     ]
    },
    {
     "name": "stderr",
     "output_type": "stream",
     "text": [
      "  3%|██▊                                                                               | 7/208 [00:09<04:11,  1.25s/it]"
     ]
    },
    {
     "name": "stdout",
     "output_type": "stream",
     "text": [
      "['BabyCrawling', 'BabyCrawling', 'BabyCrawling', 'BabyCrawling', 'BabyCrawling', 'BabyCrawling', 'BabyCrawling']\n",
      "['BabyCrawling', 'BabyCrawling', 'BabyCrawling', 'BabyCrawling', 'BabyCrawling', 'BabyCrawling', 'BabyCrawling']\n"
     ]
    },
    {
     "name": "stderr",
     "output_type": "stream",
     "text": [
      "  4%|███▏                                                                              | 8/208 [00:10<03:44,  1.12s/it]"
     ]
    },
    {
     "name": "stdout",
     "output_type": "stream",
     "text": [
      "['BabyCrawling', 'BabyCrawling', 'BabyCrawling', 'BabyCrawling', 'BabyCrawling', 'BabyCrawling', 'BabyCrawling', 'BabyCrawling']\n",
      "['BabyCrawling', 'BabyCrawling', 'BabyCrawling', 'BabyCrawling', 'BabyCrawling', 'BabyCrawling', 'BabyCrawling', 'BabyCrawling']\n"
     ]
    },
    {
     "name": "stderr",
     "output_type": "stream",
     "text": [
      "  4%|███▌                                                                              | 9/208 [00:11<03:21,  1.01s/it]"
     ]
    },
    {
     "name": "stdout",
     "output_type": "stream",
     "text": [
      "['BabyCrawling', 'BabyCrawling', 'BabyCrawling', 'BabyCrawling', 'BabyCrawling', 'BabyCrawling', 'BabyCrawling', 'BabyCrawling', 'BabyCrawling']\n",
      "['BabyCrawling', 'BabyCrawling', 'BabyCrawling', 'BabyCrawling', 'BabyCrawling', 'BabyCrawling', 'BabyCrawling', 'BabyCrawling', 'BabyCrawling']\n"
     ]
    },
    {
     "name": "stderr",
     "output_type": "stream",
     "text": [
      "  5%|███▉                                                                             | 10/208 [00:12<03:33,  1.08s/it]"
     ]
    },
    {
     "name": "stdout",
     "output_type": "stream",
     "text": [
      "['BabyCrawling', 'BabyCrawling', 'BabyCrawling', 'BabyCrawling', 'BabyCrawling', 'BabyCrawling', 'BabyCrawling', 'BabyCrawling', 'BabyCrawling', 'BabyCrawling']\n",
      "['BabyCrawling', 'BabyCrawling', 'BabyCrawling', 'BabyCrawling', 'BabyCrawling', 'BabyCrawling', 'BabyCrawling', 'BabyCrawling', 'BabyCrawling', 'BabyCrawling']\n"
     ]
    },
    {
     "name": "stderr",
     "output_type": "stream",
     "text": [
      "  5%|████▎                                                                            | 11/208 [00:13<03:49,  1.16s/it]"
     ]
    },
    {
     "name": "stdout",
     "output_type": "stream",
     "text": [
      "['BabyCrawling', 'BabyCrawling', 'BabyCrawling', 'BabyCrawling', 'BabyCrawling', 'BabyCrawling', 'BabyCrawling', 'BabyCrawling', 'BabyCrawling', 'BabyCrawling', 'BabyCrawling']\n",
      "['BabyCrawling', 'BabyCrawling', 'BabyCrawling', 'BabyCrawling', 'BabyCrawling', 'BabyCrawling', 'BabyCrawling', 'BabyCrawling', 'BabyCrawling', 'BabyCrawling', 'BabyCrawling']\n"
     ]
    },
    {
     "name": "stderr",
     "output_type": "stream",
     "text": [
      "  6%|████▋                                                                            | 12/208 [00:14<03:48,  1.17s/it]"
     ]
    },
    {
     "name": "stdout",
     "output_type": "stream",
     "text": [
      "['BabyCrawling', 'BabyCrawling', 'BabyCrawling', 'BabyCrawling', 'BabyCrawling', 'BabyCrawling', 'BabyCrawling', 'BabyCrawling', 'BabyCrawling', 'BabyCrawling', 'BabyCrawling', 'BabyCrawling']\n",
      "['BabyCrawling', 'BabyCrawling', 'BabyCrawling', 'BabyCrawling', 'BabyCrawling', 'BabyCrawling', 'BabyCrawling', 'BabyCrawling', 'BabyCrawling', 'BabyCrawling', 'BabyCrawling', 'BabyCrawling']\n"
     ]
    },
    {
     "name": "stderr",
     "output_type": "stream",
     "text": [
      "  6%|█████                                                                            | 13/208 [00:16<03:50,  1.18s/it]"
     ]
    },
    {
     "name": "stdout",
     "output_type": "stream",
     "text": [
      "['BabyCrawling', 'BabyCrawling', 'BabyCrawling', 'BabyCrawling', 'BabyCrawling', 'BabyCrawling', 'BabyCrawling', 'BabyCrawling', 'BabyCrawling', 'BabyCrawling', 'BabyCrawling', 'BabyCrawling', 'BabyCrawling']\n",
      "['BabyCrawling', 'BabyCrawling', 'BabyCrawling', 'BabyCrawling', 'BabyCrawling', 'BabyCrawling', 'BabyCrawling', 'BabyCrawling', 'BabyCrawling', 'BabyCrawling', 'BabyCrawling', 'BabyCrawling', 'BabyCrawling']\n"
     ]
    },
    {
     "name": "stderr",
     "output_type": "stream",
     "text": [
      "  7%|█████▍                                                                           | 14/208 [00:17<03:59,  1.24s/it]"
     ]
    },
    {
     "name": "stdout",
     "output_type": "stream",
     "text": [
      "['BabyCrawling', 'BabyCrawling', 'BabyCrawling', 'BabyCrawling', 'BabyCrawling', 'BabyCrawling', 'BabyCrawling', 'BabyCrawling', 'BabyCrawling', 'BabyCrawling', 'BabyCrawling', 'BabyCrawling', 'BabyCrawling', 'BabyCrawling']\n",
      "['BabyCrawling', 'BabyCrawling', 'BabyCrawling', 'BabyCrawling', 'BabyCrawling', 'BabyCrawling', 'BabyCrawling', 'BabyCrawling', 'BabyCrawling', 'BabyCrawling', 'BabyCrawling', 'BabyCrawling', 'BabyCrawling', 'BabyCrawling']\n"
     ]
    },
    {
     "name": "stderr",
     "output_type": "stream",
     "text": [
      "  7%|█████▊                                                                           | 15/208 [00:18<03:40,  1.14s/it]"
     ]
    },
    {
     "name": "stdout",
     "output_type": "stream",
     "text": [
      "['BabyCrawling', 'BabyCrawling', 'BabyCrawling', 'BabyCrawling', 'BabyCrawling', 'BabyCrawling', 'BabyCrawling', 'BabyCrawling', 'BabyCrawling', 'BabyCrawling', 'BabyCrawling', 'BabyCrawling', 'BabyCrawling', 'BabyCrawling', 'BabyCrawling']\n",
      "['BabyCrawling', 'BabyCrawling', 'BabyCrawling', 'BabyCrawling', 'BabyCrawling', 'BabyCrawling', 'BabyCrawling', 'BabyCrawling', 'BabyCrawling', 'BabyCrawling', 'BabyCrawling', 'BabyCrawling', 'BabyCrawling', 'BabyCrawling', 'BabyCrawling']\n"
     ]
    },
    {
     "name": "stderr",
     "output_type": "stream",
     "text": [
      "  8%|██████▏                                                                          | 16/208 [00:19<03:40,  1.15s/it]"
     ]
    },
    {
     "name": "stdout",
     "output_type": "stream",
     "text": [
      "['BabyCrawling', 'BabyCrawling', 'BabyCrawling', 'BabyCrawling', 'BabyCrawling', 'BabyCrawling', 'BabyCrawling', 'BabyCrawling', 'BabyCrawling', 'BabyCrawling', 'BabyCrawling', 'BabyCrawling', 'BabyCrawling', 'BabyCrawling', 'BabyCrawling', 'BabyCrawling']\n",
      "['BabyCrawling', 'BabyCrawling', 'BabyCrawling', 'BabyCrawling', 'BabyCrawling', 'BabyCrawling', 'BabyCrawling', 'BabyCrawling', 'BabyCrawling', 'BabyCrawling', 'BabyCrawling', 'BabyCrawling', 'BabyCrawling', 'BabyCrawling', 'BabyCrawling', 'BabyCrawling']\n"
     ]
    },
    {
     "name": "stderr",
     "output_type": "stream",
     "text": [
      "  8%|██████▌                                                                          | 17/208 [00:20<03:32,  1.11s/it]"
     ]
    },
    {
     "name": "stdout",
     "output_type": "stream",
     "text": [
      "['BabyCrawling', 'BabyCrawling', 'BabyCrawling', 'BabyCrawling', 'BabyCrawling', 'BabyCrawling', 'BabyCrawling', 'BabyCrawling', 'BabyCrawling', 'BabyCrawling', 'BabyCrawling', 'BabyCrawling', 'BabyCrawling', 'BabyCrawling', 'BabyCrawling', 'BabyCrawling', 'BabyCrawling']\n",
      "['BabyCrawling', 'BabyCrawling', 'BabyCrawling', 'BabyCrawling', 'BabyCrawling', 'BabyCrawling', 'BabyCrawling', 'BabyCrawling', 'BabyCrawling', 'BabyCrawling', 'BabyCrawling', 'BabyCrawling', 'BabyCrawling', 'BabyCrawling', 'BabyCrawling', 'BabyCrawling', 'BabyCrawling']\n"
     ]
    },
    {
     "name": "stderr",
     "output_type": "stream",
     "text": [
      "  9%|███████                                                                          | 18/208 [00:21<03:40,  1.16s/it]"
     ]
    },
    {
     "name": "stdout",
     "output_type": "stream",
     "text": [
      "['BabyCrawling', 'BabyCrawling', 'BabyCrawling', 'BabyCrawling', 'BabyCrawling', 'BabyCrawling', 'BabyCrawling', 'BabyCrawling', 'BabyCrawling', 'BabyCrawling', 'BabyCrawling', 'BabyCrawling', 'BabyCrawling', 'BabyCrawling', 'BabyCrawling', 'BabyCrawling', 'BabyCrawling', 'BabyCrawling']\n",
      "['BabyCrawling', 'BabyCrawling', 'BabyCrawling', 'BabyCrawling', 'BabyCrawling', 'BabyCrawling', 'BabyCrawling', 'BabyCrawling', 'BabyCrawling', 'BabyCrawling', 'BabyCrawling', 'BabyCrawling', 'BabyCrawling', 'BabyCrawling', 'BabyCrawling', 'BabyCrawling', 'BabyCrawling', 'BabyCrawling']\n"
     ]
    },
    {
     "name": "stderr",
     "output_type": "stream",
     "text": [
      "  9%|███████▍                                                                         | 19/208 [00:23<03:45,  1.20s/it]"
     ]
    },
    {
     "name": "stdout",
     "output_type": "stream",
     "text": [
      "['BabyCrawling', 'BabyCrawling', 'BabyCrawling', 'BabyCrawling', 'BabyCrawling', 'BabyCrawling', 'BabyCrawling', 'BabyCrawling', 'BabyCrawling', 'BabyCrawling', 'BabyCrawling', 'BabyCrawling', 'BabyCrawling', 'BabyCrawling', 'BabyCrawling', 'BabyCrawling', 'BabyCrawling', 'BabyCrawling', 'BabyCrawling']\n",
      "['BabyCrawling', 'BabyCrawling', 'BabyCrawling', 'BabyCrawling', 'BabyCrawling', 'BabyCrawling', 'BabyCrawling', 'BabyCrawling', 'BabyCrawling', 'BabyCrawling', 'BabyCrawling', 'BabyCrawling', 'BabyCrawling', 'BabyCrawling', 'BabyCrawling', 'BabyCrawling', 'BabyCrawling', 'BabyCrawling', 'BabyCrawling']\n"
     ]
    },
    {
     "name": "stderr",
     "output_type": "stream",
     "text": [
      " 10%|███████▊                                                                         | 20/208 [00:24<03:41,  1.18s/it]"
     ]
    },
    {
     "name": "stdout",
     "output_type": "stream",
     "text": [
      "['BabyCrawling', 'BabyCrawling', 'BabyCrawling', 'BabyCrawling', 'BabyCrawling', 'BabyCrawling', 'BabyCrawling', 'BabyCrawling', 'BabyCrawling', 'BabyCrawling', 'BabyCrawling', 'BabyCrawling', 'BabyCrawling', 'BabyCrawling', 'BabyCrawling', 'BabyCrawling', 'BabyCrawling', 'BabyCrawling', 'BabyCrawling', 'BabyCrawling']\n",
      "['BabyCrawling', 'BabyCrawling', 'BabyCrawling', 'BabyCrawling', 'BabyCrawling', 'BabyCrawling', 'BabyCrawling', 'BabyCrawling', 'BabyCrawling', 'BabyCrawling', 'BabyCrawling', 'BabyCrawling', 'BabyCrawling', 'BabyCrawling', 'BabyCrawling', 'BabyCrawling', 'BabyCrawling', 'BabyCrawling', 'BabyCrawling', 'BabyCrawling']\n"
     ]
    },
    {
     "name": "stderr",
     "output_type": "stream",
     "text": [
      " 10%|████████▏                                                                        | 21/208 [00:25<04:04,  1.31s/it]"
     ]
    },
    {
     "name": "stdout",
     "output_type": "stream",
     "text": [
      "['BabyCrawling', 'BabyCrawling', 'BabyCrawling', 'BabyCrawling', 'BabyCrawling', 'BabyCrawling', 'BabyCrawling', 'BabyCrawling', 'BabyCrawling', 'BabyCrawling', 'BabyCrawling', 'BabyCrawling', 'BabyCrawling', 'BabyCrawling', 'BabyCrawling', 'BabyCrawling', 'BabyCrawling', 'BabyCrawling', 'BabyCrawling', 'BabyCrawling', 'BabyCrawling']\n",
      "['BabyCrawling', 'BabyCrawling', 'BabyCrawling', 'BabyCrawling', 'BabyCrawling', 'BabyCrawling', 'BabyCrawling', 'BabyCrawling', 'BabyCrawling', 'BabyCrawling', 'BabyCrawling', 'BabyCrawling', 'BabyCrawling', 'BabyCrawling', 'BabyCrawling', 'BabyCrawling', 'BabyCrawling', 'BabyCrawling', 'BabyCrawling', 'BabyCrawling', 'BabyCrawling']\n"
     ]
    },
    {
     "name": "stderr",
     "output_type": "stream",
     "text": [
      " 11%|████████▌                                                                        | 22/208 [00:27<04:09,  1.34s/it]"
     ]
    },
    {
     "name": "stdout",
     "output_type": "stream",
     "text": [
      "['BabyCrawling', 'BabyCrawling', 'BabyCrawling', 'BabyCrawling', 'BabyCrawling', 'BabyCrawling', 'BabyCrawling', 'BabyCrawling', 'BabyCrawling', 'BabyCrawling', 'BabyCrawling', 'BabyCrawling', 'BabyCrawling', 'BabyCrawling', 'BabyCrawling', 'BabyCrawling', 'BabyCrawling', 'BabyCrawling', 'BabyCrawling', 'BabyCrawling', 'BabyCrawling', 'BabyCrawling']\n",
      "['BabyCrawling', 'BabyCrawling', 'BabyCrawling', 'BabyCrawling', 'BabyCrawling', 'BabyCrawling', 'BabyCrawling', 'BabyCrawling', 'BabyCrawling', 'BabyCrawling', 'BabyCrawling', 'BabyCrawling', 'BabyCrawling', 'BabyCrawling', 'BabyCrawling', 'BabyCrawling', 'BabyCrawling', 'BabyCrawling', 'BabyCrawling', 'BabyCrawling', 'BabyCrawling', 'BabyCrawling']\n"
     ]
    },
    {
     "name": "stderr",
     "output_type": "stream",
     "text": [
      " 11%|████████▉                                                                        | 23/208 [00:28<03:51,  1.25s/it]"
     ]
    },
    {
     "name": "stdout",
     "output_type": "stream",
     "text": [
      "['BabyCrawling', 'BabyCrawling', 'BabyCrawling', 'BabyCrawling', 'BabyCrawling', 'BabyCrawling', 'BabyCrawling', 'BabyCrawling', 'BabyCrawling', 'BabyCrawling', 'BabyCrawling', 'BabyCrawling', 'BabyCrawling', 'BabyCrawling', 'BabyCrawling', 'BabyCrawling', 'BabyCrawling', 'BabyCrawling', 'BabyCrawling', 'BabyCrawling', 'BabyCrawling', 'BabyCrawling', 'BabyCrawling']\n",
      "['BabyCrawling', 'BabyCrawling', 'BabyCrawling', 'BabyCrawling', 'BabyCrawling', 'BabyCrawling', 'BabyCrawling', 'BabyCrawling', 'BabyCrawling', 'BabyCrawling', 'BabyCrawling', 'BabyCrawling', 'BabyCrawling', 'BabyCrawling', 'BabyCrawling', 'BabyCrawling', 'BabyCrawling', 'BabyCrawling', 'BabyCrawling', 'BabyCrawling', 'BabyCrawling', 'BabyCrawling', 'BabyCrawling']\n"
     ]
    },
    {
     "name": "stderr",
     "output_type": "stream",
     "text": [
      " 12%|█████████▎                                                                       | 24/208 [00:29<03:48,  1.24s/it]"
     ]
    },
    {
     "name": "stdout",
     "output_type": "stream",
     "text": [
      "['BabyCrawling', 'BabyCrawling', 'BabyCrawling', 'BabyCrawling', 'BabyCrawling', 'BabyCrawling', 'BabyCrawling', 'BabyCrawling', 'BabyCrawling', 'BabyCrawling', 'BabyCrawling', 'BabyCrawling', 'BabyCrawling', 'BabyCrawling', 'BabyCrawling', 'BabyCrawling', 'BabyCrawling', 'BabyCrawling', 'BabyCrawling', 'BabyCrawling', 'BabyCrawling', 'BabyCrawling', 'BabyCrawling', 'BabyCrawling']\n",
      "['BabyCrawling', 'BabyCrawling', 'BabyCrawling', 'BabyCrawling', 'BabyCrawling', 'BabyCrawling', 'BabyCrawling', 'BabyCrawling', 'BabyCrawling', 'BabyCrawling', 'BabyCrawling', 'BabyCrawling', 'BabyCrawling', 'BabyCrawling', 'BabyCrawling', 'BabyCrawling', 'BabyCrawling', 'BabyCrawling', 'BabyCrawling', 'BabyCrawling', 'BabyCrawling', 'BabyCrawling', 'BabyCrawling', 'BabyCrawling']\n"
     ]
    },
    {
     "name": "stderr",
     "output_type": "stream",
     "text": [
      " 12%|█████████▋                                                                       | 25/208 [00:30<03:38,  1.20s/it]"
     ]
    },
    {
     "name": "stdout",
     "output_type": "stream",
     "text": [
      "['BabyCrawling', 'BabyCrawling', 'BabyCrawling', 'BabyCrawling', 'BabyCrawling', 'BabyCrawling', 'BabyCrawling', 'BabyCrawling', 'BabyCrawling', 'BabyCrawling', 'BabyCrawling', 'BabyCrawling', 'BabyCrawling', 'BabyCrawling', 'BabyCrawling', 'BabyCrawling', 'BabyCrawling', 'BabyCrawling', 'BabyCrawling', 'BabyCrawling', 'BabyCrawling', 'BabyCrawling', 'BabyCrawling', 'BabyCrawling', 'BabyCrawling']\n",
      "['BabyCrawling', 'BabyCrawling', 'BabyCrawling', 'BabyCrawling', 'BabyCrawling', 'BabyCrawling', 'BabyCrawling', 'BabyCrawling', 'BabyCrawling', 'BabyCrawling', 'BabyCrawling', 'BabyCrawling', 'BabyCrawling', 'BabyCrawling', 'BabyCrawling', 'BabyCrawling', 'BabyCrawling', 'BabyCrawling', 'BabyCrawling', 'BabyCrawling', 'BabyCrawling', 'BabyCrawling', 'BabyCrawling', 'BabyCrawling', 'BabyCrawling']\n"
     ]
    },
    {
     "name": "stderr",
     "output_type": "stream",
     "text": [
      " 12%|██████████▏                                                                      | 26/208 [00:32<03:45,  1.24s/it]"
     ]
    },
    {
     "name": "stdout",
     "output_type": "stream",
     "text": [
      "['BabyCrawling', 'BabyCrawling', 'BabyCrawling', 'BabyCrawling', 'BabyCrawling', 'BabyCrawling', 'BabyCrawling', 'BabyCrawling', 'BabyCrawling', 'BabyCrawling', 'BabyCrawling', 'BabyCrawling', 'BabyCrawling', 'BabyCrawling', 'BabyCrawling', 'BabyCrawling', 'BabyCrawling', 'BabyCrawling', 'BabyCrawling', 'BabyCrawling', 'BabyCrawling', 'BabyCrawling', 'BabyCrawling', 'BabyCrawling', 'BabyCrawling', 'BabyCrawling']\n",
      "['BabyCrawling', 'BabyCrawling', 'BabyCrawling', 'BabyCrawling', 'BabyCrawling', 'BabyCrawling', 'BabyCrawling', 'BabyCrawling', 'BabyCrawling', 'BabyCrawling', 'BabyCrawling', 'BabyCrawling', 'BabyCrawling', 'BabyCrawling', 'BabyCrawling', 'BabyCrawling', 'BabyCrawling', 'BabyCrawling', 'BabyCrawling', 'BabyCrawling', 'BabyCrawling', 'BabyCrawling', 'BabyCrawling', 'BabyCrawling', 'BabyCrawling', 'BabyCrawling']\n"
     ]
    },
    {
     "name": "stderr",
     "output_type": "stream",
     "text": [
      " 13%|██████████▌                                                                      | 27/208 [00:32<03:22,  1.12s/it]"
     ]
    },
    {
     "name": "stdout",
     "output_type": "stream",
     "text": [
      "['BabyCrawling', 'BabyCrawling', 'BabyCrawling', 'BabyCrawling', 'BabyCrawling', 'BabyCrawling', 'BabyCrawling', 'BabyCrawling', 'BabyCrawling', 'BabyCrawling', 'BabyCrawling', 'BabyCrawling', 'BabyCrawling', 'BabyCrawling', 'BabyCrawling', 'BabyCrawling', 'BabyCrawling', 'BabyCrawling', 'BabyCrawling', 'BabyCrawling', 'BabyCrawling', 'BabyCrawling', 'BabyCrawling', 'BabyCrawling', 'BabyCrawling', 'BabyCrawling', 'BabyCrawling']\n",
      "['BabyCrawling', 'BabyCrawling', 'BabyCrawling', 'BabyCrawling', 'BabyCrawling', 'BabyCrawling', 'BabyCrawling', 'BabyCrawling', 'BabyCrawling', 'BabyCrawling', 'BabyCrawling', 'BabyCrawling', 'BabyCrawling', 'BabyCrawling', 'BabyCrawling', 'BabyCrawling', 'BabyCrawling', 'BabyCrawling', 'BabyCrawling', 'BabyCrawling', 'BabyCrawling', 'BabyCrawling', 'BabyCrawling', 'BabyCrawling', 'BabyCrawling', 'BabyCrawling', 'BabyCrawling']\n"
     ]
    },
    {
     "name": "stderr",
     "output_type": "stream",
     "text": [
      " 13%|██████████▉                                                                      | 28/208 [00:34<04:04,  1.36s/it]"
     ]
    },
    {
     "name": "stdout",
     "output_type": "stream",
     "text": [
      "['BabyCrawling', 'BabyCrawling', 'BabyCrawling', 'BabyCrawling', 'BabyCrawling', 'BabyCrawling', 'BabyCrawling', 'BabyCrawling', 'BabyCrawling', 'BabyCrawling', 'BabyCrawling', 'BabyCrawling', 'BabyCrawling', 'BabyCrawling', 'BabyCrawling', 'BabyCrawling', 'BabyCrawling', 'BabyCrawling', 'BabyCrawling', 'BabyCrawling', 'BabyCrawling', 'BabyCrawling', 'BabyCrawling', 'BabyCrawling', 'BabyCrawling', 'BabyCrawling', 'BabyCrawling', 'BabyCrawling']\n",
      "['BabyCrawling', 'BabyCrawling', 'BabyCrawling', 'BabyCrawling', 'BabyCrawling', 'BabyCrawling', 'BabyCrawling', 'BabyCrawling', 'BabyCrawling', 'BabyCrawling', 'BabyCrawling', 'BabyCrawling', 'BabyCrawling', 'BabyCrawling', 'BabyCrawling', 'BabyCrawling', 'BabyCrawling', 'BabyCrawling', 'BabyCrawling', 'BabyCrawling', 'BabyCrawling', 'BabyCrawling', 'BabyCrawling', 'BabyCrawling', 'BabyCrawling', 'BabyCrawling', 'BabyCrawling', 'BabyCrawling']\n"
     ]
    },
    {
     "name": "stderr",
     "output_type": "stream",
     "text": [
      " 14%|███████████▎                                                                     | 29/208 [00:37<04:52,  1.63s/it]"
     ]
    },
    {
     "name": "stdout",
     "output_type": "stream",
     "text": [
      "['BabyCrawling', 'BabyCrawling', 'BabyCrawling', 'BabyCrawling', 'BabyCrawling', 'BabyCrawling', 'BabyCrawling', 'BabyCrawling', 'BabyCrawling', 'BabyCrawling', 'BabyCrawling', 'BabyCrawling', 'BabyCrawling', 'BabyCrawling', 'BabyCrawling', 'BabyCrawling', 'BabyCrawling', 'BabyCrawling', 'BabyCrawling', 'BabyCrawling', 'BabyCrawling', 'BabyCrawling', 'BabyCrawling', 'BabyCrawling', 'BabyCrawling', 'BabyCrawling', 'BabyCrawling', 'BabyCrawling', 'BabyCrawling']\n",
      "['BabyCrawling', 'BabyCrawling', 'BabyCrawling', 'BabyCrawling', 'BabyCrawling', 'BabyCrawling', 'BabyCrawling', 'BabyCrawling', 'BabyCrawling', 'BabyCrawling', 'BabyCrawling', 'BabyCrawling', 'BabyCrawling', 'BabyCrawling', 'BabyCrawling', 'BabyCrawling', 'BabyCrawling', 'BabyCrawling', 'BabyCrawling', 'BabyCrawling', 'BabyCrawling', 'BabyCrawling', 'BabyCrawling', 'BabyCrawling', 'BabyCrawling', 'BabyCrawling', 'BabyCrawling', 'BabyCrawling', 'BabyCrawling']\n"
     ]
    },
    {
     "name": "stderr",
     "output_type": "stream",
     "text": [
      " 14%|███████████▋                                                                     | 30/208 [00:38<04:38,  1.57s/it]"
     ]
    },
    {
     "name": "stdout",
     "output_type": "stream",
     "text": [
      "['BabyCrawling', 'BabyCrawling', 'BabyCrawling', 'BabyCrawling', 'BabyCrawling', 'BabyCrawling', 'BabyCrawling', 'BabyCrawling', 'BabyCrawling', 'BabyCrawling', 'BabyCrawling', 'BabyCrawling', 'BabyCrawling', 'BabyCrawling', 'BabyCrawling', 'BabyCrawling', 'BabyCrawling', 'BabyCrawling', 'BabyCrawling', 'BabyCrawling', 'BabyCrawling', 'BabyCrawling', 'BabyCrawling', 'BabyCrawling', 'BabyCrawling', 'BabyCrawling', 'BabyCrawling', 'BabyCrawling', 'BabyCrawling', 'BabyCrawling']\n",
      "['BabyCrawling', 'BabyCrawling', 'BabyCrawling', 'BabyCrawling', 'BabyCrawling', 'BabyCrawling', 'BabyCrawling', 'BabyCrawling', 'BabyCrawling', 'BabyCrawling', 'BabyCrawling', 'BabyCrawling', 'BabyCrawling', 'BabyCrawling', 'BabyCrawling', 'BabyCrawling', 'BabyCrawling', 'BabyCrawling', 'BabyCrawling', 'BabyCrawling', 'BabyCrawling', 'BabyCrawling', 'BabyCrawling', 'BabyCrawling', 'BabyCrawling', 'BabyCrawling', 'BabyCrawling', 'BabyCrawling', 'BabyCrawling', 'BabyCrawling']\n"
     ]
    },
    {
     "name": "stderr",
     "output_type": "stream",
     "text": [
      " 15%|████████████                                                                     | 31/208 [00:39<04:02,  1.37s/it]"
     ]
    },
    {
     "name": "stdout",
     "output_type": "stream",
     "text": [
      "['BabyCrawling', 'BabyCrawling', 'BabyCrawling', 'BabyCrawling', 'BabyCrawling', 'BabyCrawling', 'BabyCrawling', 'BabyCrawling', 'BabyCrawling', 'BabyCrawling', 'BabyCrawling', 'BabyCrawling', 'BabyCrawling', 'BabyCrawling', 'BabyCrawling', 'BabyCrawling', 'BabyCrawling', 'BabyCrawling', 'BabyCrawling', 'BabyCrawling', 'BabyCrawling', 'BabyCrawling', 'BabyCrawling', 'BabyCrawling', 'BabyCrawling', 'BabyCrawling', 'BabyCrawling', 'BabyCrawling', 'BabyCrawling', 'BabyCrawling', 'BabyCrawling']\n",
      "['BabyCrawling', 'BabyCrawling', 'BabyCrawling', 'BabyCrawling', 'BabyCrawling', 'BabyCrawling', 'BabyCrawling', 'BabyCrawling', 'BabyCrawling', 'BabyCrawling', 'BabyCrawling', 'BabyCrawling', 'BabyCrawling', 'BabyCrawling', 'BabyCrawling', 'BabyCrawling', 'BabyCrawling', 'BabyCrawling', 'BabyCrawling', 'BabyCrawling', 'BabyCrawling', 'BabyCrawling', 'BabyCrawling', 'BabyCrawling', 'BabyCrawling', 'BabyCrawling', 'BabyCrawling', 'BabyCrawling', 'BabyCrawling', 'BabyCrawling', 'BabyCrawling']\n"
     ]
    },
    {
     "name": "stderr",
     "output_type": "stream",
     "text": [
      " 15%|████████████▍                                                                    | 32/208 [00:40<03:43,  1.27s/it]"
     ]
    },
    {
     "name": "stdout",
     "output_type": "stream",
     "text": [
      "['BabyCrawling', 'BabyCrawling', 'BabyCrawling', 'BabyCrawling', 'BabyCrawling', 'BabyCrawling', 'BabyCrawling', 'BabyCrawling', 'BabyCrawling', 'BabyCrawling', 'BabyCrawling', 'BabyCrawling', 'BabyCrawling', 'BabyCrawling', 'BabyCrawling', 'BabyCrawling', 'BabyCrawling', 'BabyCrawling', 'BabyCrawling', 'BabyCrawling', 'BabyCrawling', 'BabyCrawling', 'BabyCrawling', 'BabyCrawling', 'BabyCrawling', 'BabyCrawling', 'BabyCrawling', 'BabyCrawling', 'BabyCrawling', 'BabyCrawling', 'BabyCrawling', 'BabyCrawling']\n",
      "['BabyCrawling', 'BabyCrawling', 'BabyCrawling', 'BabyCrawling', 'BabyCrawling', 'BabyCrawling', 'BabyCrawling', 'BabyCrawling', 'BabyCrawling', 'BabyCrawling', 'BabyCrawling', 'BabyCrawling', 'BabyCrawling', 'BabyCrawling', 'BabyCrawling', 'BabyCrawling', 'BabyCrawling', 'BabyCrawling', 'BabyCrawling', 'BabyCrawling', 'BabyCrawling', 'BabyCrawling', 'BabyCrawling', 'BabyCrawling', 'BabyCrawling', 'BabyCrawling', 'BabyCrawling', 'BabyCrawling', 'BabyCrawling', 'BabyCrawling', 'BabyCrawling', 'BabyCrawling']\n"
     ]
    },
    {
     "name": "stderr",
     "output_type": "stream",
     "text": [
      " 16%|████████████▊                                                                    | 33/208 [00:41<03:43,  1.28s/it]"
     ]
    },
    {
     "name": "stdout",
     "output_type": "stream",
     "text": [
      "['BabyCrawling', 'BabyCrawling', 'BabyCrawling', 'BabyCrawling', 'BabyCrawling', 'BabyCrawling', 'BabyCrawling', 'BabyCrawling', 'BabyCrawling', 'BabyCrawling', 'BabyCrawling', 'BabyCrawling', 'BabyCrawling', 'BabyCrawling', 'BabyCrawling', 'BabyCrawling', 'BabyCrawling', 'BabyCrawling', 'BabyCrawling', 'BabyCrawling', 'BabyCrawling', 'BabyCrawling', 'BabyCrawling', 'BabyCrawling', 'BabyCrawling', 'BabyCrawling', 'BabyCrawling', 'BabyCrawling', 'BabyCrawling', 'BabyCrawling', 'BabyCrawling', 'BabyCrawling', 'BabyCrawling']\n",
      "['BabyCrawling', 'BabyCrawling', 'BabyCrawling', 'BabyCrawling', 'BabyCrawling', 'BabyCrawling', 'BabyCrawling', 'BabyCrawling', 'BabyCrawling', 'BabyCrawling', 'BabyCrawling', 'BabyCrawling', 'BabyCrawling', 'BabyCrawling', 'BabyCrawling', 'BabyCrawling', 'BabyCrawling', 'BabyCrawling', 'BabyCrawling', 'BabyCrawling', 'BabyCrawling', 'BabyCrawling', 'BabyCrawling', 'BabyCrawling', 'BabyCrawling', 'BabyCrawling', 'BabyCrawling', 'BabyCrawling', 'BabyCrawling', 'BabyCrawling', 'BabyCrawling', 'BabyCrawling', 'BabyCrawling']\n"
     ]
    },
    {
     "name": "stderr",
     "output_type": "stream",
     "text": [
      " 16%|█████████████▏                                                                   | 34/208 [00:42<03:23,  1.17s/it]"
     ]
    },
    {
     "name": "stdout",
     "output_type": "stream",
     "text": [
      "['BabyCrawling', 'BabyCrawling', 'BabyCrawling', 'BabyCrawling', 'BabyCrawling', 'BabyCrawling', 'BabyCrawling', 'BabyCrawling', 'BabyCrawling', 'BabyCrawling', 'BabyCrawling', 'BabyCrawling', 'BabyCrawling', 'BabyCrawling', 'BabyCrawling', 'BabyCrawling', 'BabyCrawling', 'BabyCrawling', 'BabyCrawling', 'BabyCrawling', 'BabyCrawling', 'BabyCrawling', 'BabyCrawling', 'BabyCrawling', 'BabyCrawling', 'BabyCrawling', 'BabyCrawling', 'BabyCrawling', 'BabyCrawling', 'BabyCrawling', 'BabyCrawling', 'BabyCrawling', 'BabyCrawling', 'BabyCrawling']\n",
      "['BabyCrawling', 'BabyCrawling', 'BabyCrawling', 'BabyCrawling', 'BabyCrawling', 'BabyCrawling', 'BabyCrawling', 'BabyCrawling', 'BabyCrawling', 'BabyCrawling', 'BabyCrawling', 'BabyCrawling', 'BabyCrawling', 'BabyCrawling', 'BabyCrawling', 'BabyCrawling', 'BabyCrawling', 'BabyCrawling', 'BabyCrawling', 'BabyCrawling', 'BabyCrawling', 'BabyCrawling', 'BabyCrawling', 'BabyCrawling', 'BabyCrawling', 'BabyCrawling', 'BabyCrawling', 'BabyCrawling', 'BabyCrawling', 'BabyCrawling', 'BabyCrawling', 'BabyCrawling', 'BabyCrawling', 'BabyCrawling']\n"
     ]
    },
    {
     "name": "stderr",
     "output_type": "stream",
     "text": [
      " 17%|█████████████▋                                                                   | 35/208 [00:43<03:28,  1.21s/it]"
     ]
    },
    {
     "name": "stdout",
     "output_type": "stream",
     "text": [
      "['BabyCrawling', 'BabyCrawling', 'BabyCrawling', 'BabyCrawling', 'BabyCrawling', 'BabyCrawling', 'BabyCrawling', 'BabyCrawling', 'BabyCrawling', 'BabyCrawling', 'BabyCrawling', 'BabyCrawling', 'BabyCrawling', 'BabyCrawling', 'BabyCrawling', 'BabyCrawling', 'BabyCrawling', 'BabyCrawling', 'BabyCrawling', 'BabyCrawling', 'BabyCrawling', 'BabyCrawling', 'BabyCrawling', 'BabyCrawling', 'BabyCrawling', 'BabyCrawling', 'BabyCrawling', 'BabyCrawling', 'BabyCrawling', 'BabyCrawling', 'BabyCrawling', 'BabyCrawling', 'BabyCrawling', 'BabyCrawling', 'BabyCrawling']\n",
      "['BabyCrawling', 'BabyCrawling', 'BabyCrawling', 'BabyCrawling', 'BabyCrawling', 'BabyCrawling', 'BabyCrawling', 'BabyCrawling', 'BabyCrawling', 'BabyCrawling', 'BabyCrawling', 'BabyCrawling', 'BabyCrawling', 'BabyCrawling', 'BabyCrawling', 'BabyCrawling', 'BabyCrawling', 'BabyCrawling', 'BabyCrawling', 'BabyCrawling', 'BabyCrawling', 'BabyCrawling', 'BabyCrawling', 'BabyCrawling', 'BabyCrawling', 'BabyCrawling', 'BabyCrawling', 'BabyCrawling', 'BabyCrawling', 'BabyCrawling', 'BabyCrawling', 'BabyCrawling', 'BabyCrawling', 'BabyCrawling', 'BabyCrawling']\n"
     ]
    },
    {
     "name": "stderr",
     "output_type": "stream",
     "text": [
      " 17%|██████████████                                                                   | 36/208 [00:46<04:34,  1.60s/it]"
     ]
    },
    {
     "name": "stdout",
     "output_type": "stream",
     "text": [
      "['BabyCrawling', 'BabyCrawling', 'BabyCrawling', 'BabyCrawling', 'BabyCrawling', 'BabyCrawling', 'BabyCrawling', 'BabyCrawling', 'BabyCrawling', 'BabyCrawling', 'BabyCrawling', 'BabyCrawling', 'BabyCrawling', 'BabyCrawling', 'BabyCrawling', 'BabyCrawling', 'BabyCrawling', 'BabyCrawling', 'BabyCrawling', 'BabyCrawling', 'BabyCrawling', 'BabyCrawling', 'BabyCrawling', 'BabyCrawling', 'BabyCrawling', 'BabyCrawling', 'BabyCrawling', 'BabyCrawling', 'BabyCrawling', 'BabyCrawling', 'BabyCrawling', 'BabyCrawling', 'BabyCrawling', 'BabyCrawling', 'BabyCrawling', 'Surfing']\n",
      "['BabyCrawling', 'BabyCrawling', 'BabyCrawling', 'BabyCrawling', 'BabyCrawling', 'BabyCrawling', 'BabyCrawling', 'BabyCrawling', 'BabyCrawling', 'BabyCrawling', 'BabyCrawling', 'BabyCrawling', 'BabyCrawling', 'BabyCrawling', 'BabyCrawling', 'BabyCrawling', 'BabyCrawling', 'BabyCrawling', 'BabyCrawling', 'BabyCrawling', 'BabyCrawling', 'BabyCrawling', 'BabyCrawling', 'BabyCrawling', 'BabyCrawling', 'BabyCrawling', 'BabyCrawling', 'BabyCrawling', 'BabyCrawling', 'BabyCrawling', 'BabyCrawling', 'BabyCrawling', 'BabyCrawling', 'BabyCrawling', 'BabyCrawling', 'Surfing']\n"
     ]
    },
    {
     "name": "stderr",
     "output_type": "stream",
     "text": [
      " 18%|██████████████▍                                                                  | 37/208 [00:47<04:15,  1.49s/it]"
     ]
    },
    {
     "name": "stdout",
     "output_type": "stream",
     "text": [
      "['BabyCrawling', 'BabyCrawling', 'BabyCrawling', 'BabyCrawling', 'BabyCrawling', 'BabyCrawling', 'BabyCrawling', 'BabyCrawling', 'BabyCrawling', 'BabyCrawling', 'BabyCrawling', 'BabyCrawling', 'BabyCrawling', 'BabyCrawling', 'BabyCrawling', 'BabyCrawling', 'BabyCrawling', 'BabyCrawling', 'BabyCrawling', 'BabyCrawling', 'BabyCrawling', 'BabyCrawling', 'BabyCrawling', 'BabyCrawling', 'BabyCrawling', 'BabyCrawling', 'BabyCrawling', 'BabyCrawling', 'BabyCrawling', 'BabyCrawling', 'BabyCrawling', 'BabyCrawling', 'BabyCrawling', 'BabyCrawling', 'BabyCrawling', 'Surfing', 'Surfing']\n",
      "['BabyCrawling', 'BabyCrawling', 'BabyCrawling', 'BabyCrawling', 'BabyCrawling', 'BabyCrawling', 'BabyCrawling', 'BabyCrawling', 'BabyCrawling', 'BabyCrawling', 'BabyCrawling', 'BabyCrawling', 'BabyCrawling', 'BabyCrawling', 'BabyCrawling', 'BabyCrawling', 'BabyCrawling', 'BabyCrawling', 'BabyCrawling', 'BabyCrawling', 'BabyCrawling', 'BabyCrawling', 'BabyCrawling', 'BabyCrawling', 'BabyCrawling', 'BabyCrawling', 'BabyCrawling', 'BabyCrawling', 'BabyCrawling', 'BabyCrawling', 'BabyCrawling', 'BabyCrawling', 'BabyCrawling', 'BabyCrawling', 'BabyCrawling', 'Surfing', 'Surfing']\n"
     ]
    },
    {
     "name": "stderr",
     "output_type": "stream",
     "text": [
      " 18%|██████████████▊                                                                  | 38/208 [00:48<04:01,  1.42s/it]"
     ]
    },
    {
     "name": "stdout",
     "output_type": "stream",
     "text": [
      "['BabyCrawling', 'BabyCrawling', 'BabyCrawling', 'BabyCrawling', 'BabyCrawling', 'BabyCrawling', 'BabyCrawling', 'BabyCrawling', 'BabyCrawling', 'BabyCrawling', 'BabyCrawling', 'BabyCrawling', 'BabyCrawling', 'BabyCrawling', 'BabyCrawling', 'BabyCrawling', 'BabyCrawling', 'BabyCrawling', 'BabyCrawling', 'BabyCrawling', 'BabyCrawling', 'BabyCrawling', 'BabyCrawling', 'BabyCrawling', 'BabyCrawling', 'BabyCrawling', 'BabyCrawling', 'BabyCrawling', 'BabyCrawling', 'BabyCrawling', 'BabyCrawling', 'BabyCrawling', 'BabyCrawling', 'BabyCrawling', 'BabyCrawling', 'Surfing', 'Surfing', 'Surfing']\n",
      "['BabyCrawling', 'BabyCrawling', 'BabyCrawling', 'BabyCrawling', 'BabyCrawling', 'BabyCrawling', 'BabyCrawling', 'BabyCrawling', 'BabyCrawling', 'BabyCrawling', 'BabyCrawling', 'BabyCrawling', 'BabyCrawling', 'BabyCrawling', 'BabyCrawling', 'BabyCrawling', 'BabyCrawling', 'BabyCrawling', 'BabyCrawling', 'BabyCrawling', 'BabyCrawling', 'BabyCrawling', 'BabyCrawling', 'BabyCrawling', 'BabyCrawling', 'BabyCrawling', 'BabyCrawling', 'BabyCrawling', 'BabyCrawling', 'BabyCrawling', 'BabyCrawling', 'BabyCrawling', 'BabyCrawling', 'BabyCrawling', 'BabyCrawling', 'Surfing', 'Surfing', 'Surfing']\n"
     ]
    },
    {
     "name": "stderr",
     "output_type": "stream",
     "text": [
      " 19%|███████████████▏                                                                 | 39/208 [00:50<04:10,  1.48s/it]"
     ]
    },
    {
     "name": "stdout",
     "output_type": "stream",
     "text": [
      "['BabyCrawling', 'BabyCrawling', 'BabyCrawling', 'BabyCrawling', 'BabyCrawling', 'BabyCrawling', 'BabyCrawling', 'BabyCrawling', 'BabyCrawling', 'BabyCrawling', 'BabyCrawling', 'BabyCrawling', 'BabyCrawling', 'BabyCrawling', 'BabyCrawling', 'BabyCrawling', 'BabyCrawling', 'BabyCrawling', 'BabyCrawling', 'BabyCrawling', 'BabyCrawling', 'BabyCrawling', 'BabyCrawling', 'BabyCrawling', 'BabyCrawling', 'BabyCrawling', 'BabyCrawling', 'BabyCrawling', 'BabyCrawling', 'BabyCrawling', 'BabyCrawling', 'BabyCrawling', 'BabyCrawling', 'BabyCrawling', 'BabyCrawling', 'Surfing', 'Surfing', 'Surfing', 'Surfing']\n",
      "['BabyCrawling', 'BabyCrawling', 'BabyCrawling', 'BabyCrawling', 'BabyCrawling', 'BabyCrawling', 'BabyCrawling', 'BabyCrawling', 'BabyCrawling', 'BabyCrawling', 'BabyCrawling', 'BabyCrawling', 'BabyCrawling', 'BabyCrawling', 'BabyCrawling', 'BabyCrawling', 'BabyCrawling', 'BabyCrawling', 'BabyCrawling', 'BabyCrawling', 'BabyCrawling', 'BabyCrawling', 'BabyCrawling', 'BabyCrawling', 'BabyCrawling', 'BabyCrawling', 'BabyCrawling', 'BabyCrawling', 'BabyCrawling', 'BabyCrawling', 'BabyCrawling', 'BabyCrawling', 'BabyCrawling', 'BabyCrawling', 'BabyCrawling', 'Surfing', 'Surfing', 'Surfing', 'Surfing']\n"
     ]
    },
    {
     "name": "stderr",
     "output_type": "stream",
     "text": [
      " 19%|███████████████▌                                                                 | 40/208 [00:51<03:35,  1.28s/it]"
     ]
    },
    {
     "name": "stdout",
     "output_type": "stream",
     "text": [
      "['BabyCrawling', 'BabyCrawling', 'BabyCrawling', 'BabyCrawling', 'BabyCrawling', 'BabyCrawling', 'BabyCrawling', 'BabyCrawling', 'BabyCrawling', 'BabyCrawling', 'BabyCrawling', 'BabyCrawling', 'BabyCrawling', 'BabyCrawling', 'BabyCrawling', 'BabyCrawling', 'BabyCrawling', 'BabyCrawling', 'BabyCrawling', 'BabyCrawling', 'BabyCrawling', 'BabyCrawling', 'BabyCrawling', 'BabyCrawling', 'BabyCrawling', 'BabyCrawling', 'BabyCrawling', 'BabyCrawling', 'BabyCrawling', 'BabyCrawling', 'BabyCrawling', 'BabyCrawling', 'BabyCrawling', 'BabyCrawling', 'BabyCrawling', 'Surfing', 'Surfing', 'Surfing', 'Surfing', 'Surfing']\n",
      "['BabyCrawling', 'BabyCrawling', 'BabyCrawling', 'BabyCrawling', 'BabyCrawling', 'BabyCrawling', 'BabyCrawling', 'BabyCrawling', 'BabyCrawling', 'BabyCrawling', 'BabyCrawling', 'BabyCrawling', 'BabyCrawling', 'BabyCrawling', 'BabyCrawling', 'BabyCrawling', 'BabyCrawling', 'BabyCrawling', 'BabyCrawling', 'BabyCrawling', 'BabyCrawling', 'BabyCrawling', 'BabyCrawling', 'BabyCrawling', 'BabyCrawling', 'BabyCrawling', 'BabyCrawling', 'BabyCrawling', 'BabyCrawling', 'BabyCrawling', 'BabyCrawling', 'BabyCrawling', 'BabyCrawling', 'BabyCrawling', 'BabyCrawling', 'Surfing', 'Surfing', 'Surfing', 'Surfing', 'Surfing']\n"
     ]
    },
    {
     "name": "stderr",
     "output_type": "stream",
     "text": [
      " 20%|███████████████▉                                                                 | 41/208 [00:52<03:33,  1.28s/it]"
     ]
    },
    {
     "name": "stdout",
     "output_type": "stream",
     "text": [
      "['BabyCrawling', 'BabyCrawling', 'BabyCrawling', 'BabyCrawling', 'BabyCrawling', 'BabyCrawling', 'BabyCrawling', 'BabyCrawling', 'BabyCrawling', 'BabyCrawling', 'BabyCrawling', 'BabyCrawling', 'BabyCrawling', 'BabyCrawling', 'BabyCrawling', 'BabyCrawling', 'BabyCrawling', 'BabyCrawling', 'BabyCrawling', 'BabyCrawling', 'BabyCrawling', 'BabyCrawling', 'BabyCrawling', 'BabyCrawling', 'BabyCrawling', 'BabyCrawling', 'BabyCrawling', 'BabyCrawling', 'BabyCrawling', 'BabyCrawling', 'BabyCrawling', 'BabyCrawling', 'BabyCrawling', 'BabyCrawling', 'BabyCrawling', 'Surfing', 'Surfing', 'Surfing', 'Surfing', 'Surfing', 'Surfing']\n",
      "['BabyCrawling', 'BabyCrawling', 'BabyCrawling', 'BabyCrawling', 'BabyCrawling', 'BabyCrawling', 'BabyCrawling', 'BabyCrawling', 'BabyCrawling', 'BabyCrawling', 'BabyCrawling', 'BabyCrawling', 'BabyCrawling', 'BabyCrawling', 'BabyCrawling', 'BabyCrawling', 'BabyCrawling', 'BabyCrawling', 'BabyCrawling', 'BabyCrawling', 'BabyCrawling', 'BabyCrawling', 'BabyCrawling', 'BabyCrawling', 'BabyCrawling', 'BabyCrawling', 'BabyCrawling', 'BabyCrawling', 'BabyCrawling', 'BabyCrawling', 'BabyCrawling', 'BabyCrawling', 'BabyCrawling', 'BabyCrawling', 'BabyCrawling', 'Surfing', 'Surfing', 'Surfing', 'Surfing', 'Surfing', 'Surfing']\n"
     ]
    },
    {
     "name": "stderr",
     "output_type": "stream",
     "text": [
      " 20%|████████████████▎                                                                | 42/208 [00:54<03:38,  1.31s/it]"
     ]
    },
    {
     "name": "stdout",
     "output_type": "stream",
     "text": [
      "['BabyCrawling', 'BabyCrawling', 'BabyCrawling', 'BabyCrawling', 'BabyCrawling', 'BabyCrawling', 'BabyCrawling', 'BabyCrawling', 'BabyCrawling', 'BabyCrawling', 'BabyCrawling', 'BabyCrawling', 'BabyCrawling', 'BabyCrawling', 'BabyCrawling', 'BabyCrawling', 'BabyCrawling', 'BabyCrawling', 'BabyCrawling', 'BabyCrawling', 'BabyCrawling', 'BabyCrawling', 'BabyCrawling', 'BabyCrawling', 'BabyCrawling', 'BabyCrawling', 'BabyCrawling', 'BabyCrawling', 'BabyCrawling', 'BabyCrawling', 'BabyCrawling', 'BabyCrawling', 'BabyCrawling', 'BabyCrawling', 'BabyCrawling', 'Surfing', 'Surfing', 'Surfing', 'Surfing', 'Surfing', 'Surfing', 'Surfing']\n",
      "['BabyCrawling', 'BabyCrawling', 'BabyCrawling', 'BabyCrawling', 'BabyCrawling', 'BabyCrawling', 'BabyCrawling', 'BabyCrawling', 'BabyCrawling', 'BabyCrawling', 'BabyCrawling', 'BabyCrawling', 'BabyCrawling', 'BabyCrawling', 'BabyCrawling', 'BabyCrawling', 'BabyCrawling', 'BabyCrawling', 'BabyCrawling', 'BabyCrawling', 'BabyCrawling', 'BabyCrawling', 'BabyCrawling', 'BabyCrawling', 'BabyCrawling', 'BabyCrawling', 'BabyCrawling', 'BabyCrawling', 'BabyCrawling', 'BabyCrawling', 'BabyCrawling', 'BabyCrawling', 'BabyCrawling', 'BabyCrawling', 'BabyCrawling', 'Surfing', 'Surfing', 'Surfing', 'Surfing', 'Surfing', 'Surfing', 'Surfing']\n"
     ]
    },
    {
     "name": "stderr",
     "output_type": "stream",
     "text": [
      " 21%|████████████████▋                                                                | 43/208 [00:55<03:21,  1.22s/it]"
     ]
    },
    {
     "name": "stdout",
     "output_type": "stream",
     "text": [
      "['BabyCrawling', 'BabyCrawling', 'BabyCrawling', 'BabyCrawling', 'BabyCrawling', 'BabyCrawling', 'BabyCrawling', 'BabyCrawling', 'BabyCrawling', 'BabyCrawling', 'BabyCrawling', 'BabyCrawling', 'BabyCrawling', 'BabyCrawling', 'BabyCrawling', 'BabyCrawling', 'BabyCrawling', 'BabyCrawling', 'BabyCrawling', 'BabyCrawling', 'BabyCrawling', 'BabyCrawling', 'BabyCrawling', 'BabyCrawling', 'BabyCrawling', 'BabyCrawling', 'BabyCrawling', 'BabyCrawling', 'BabyCrawling', 'BabyCrawling', 'BabyCrawling', 'BabyCrawling', 'BabyCrawling', 'BabyCrawling', 'BabyCrawling', 'Surfing', 'Surfing', 'Surfing', 'Surfing', 'Surfing', 'Surfing', 'Surfing', 'Surfing']\n",
      "['BabyCrawling', 'BabyCrawling', 'BabyCrawling', 'BabyCrawling', 'BabyCrawling', 'BabyCrawling', 'BabyCrawling', 'BabyCrawling', 'BabyCrawling', 'BabyCrawling', 'BabyCrawling', 'BabyCrawling', 'BabyCrawling', 'BabyCrawling', 'BabyCrawling', 'BabyCrawling', 'BabyCrawling', 'BabyCrawling', 'BabyCrawling', 'BabyCrawling', 'BabyCrawling', 'BabyCrawling', 'BabyCrawling', 'BabyCrawling', 'BabyCrawling', 'BabyCrawling', 'BabyCrawling', 'BabyCrawling', 'BabyCrawling', 'BabyCrawling', 'BabyCrawling', 'BabyCrawling', 'BabyCrawling', 'BabyCrawling', 'BabyCrawling', 'Surfing', 'Surfing', 'Surfing', 'Surfing', 'Surfing', 'Surfing', 'Surfing', 'Surfing']\n"
     ]
    },
    {
     "name": "stderr",
     "output_type": "stream",
     "text": [
      " 21%|█████████████████▏                                                               | 44/208 [00:55<02:54,  1.06s/it]"
     ]
    },
    {
     "name": "stdout",
     "output_type": "stream",
     "text": [
      "['BabyCrawling', 'BabyCrawling', 'BabyCrawling', 'BabyCrawling', 'BabyCrawling', 'BabyCrawling', 'BabyCrawling', 'BabyCrawling', 'BabyCrawling', 'BabyCrawling', 'BabyCrawling', 'BabyCrawling', 'BabyCrawling', 'BabyCrawling', 'BabyCrawling', 'BabyCrawling', 'BabyCrawling', 'BabyCrawling', 'BabyCrawling', 'BabyCrawling', 'BabyCrawling', 'BabyCrawling', 'BabyCrawling', 'BabyCrawling', 'BabyCrawling', 'BabyCrawling', 'BabyCrawling', 'BabyCrawling', 'BabyCrawling', 'BabyCrawling', 'BabyCrawling', 'BabyCrawling', 'BabyCrawling', 'BabyCrawling', 'BabyCrawling', 'Surfing', 'Surfing', 'Surfing', 'Surfing', 'Surfing', 'Surfing', 'Surfing', 'Surfing', 'Surfing']\n",
      "['BabyCrawling', 'BabyCrawling', 'BabyCrawling', 'BabyCrawling', 'BabyCrawling', 'BabyCrawling', 'BabyCrawling', 'BabyCrawling', 'BabyCrawling', 'BabyCrawling', 'BabyCrawling', 'BabyCrawling', 'BabyCrawling', 'BabyCrawling', 'BabyCrawling', 'BabyCrawling', 'BabyCrawling', 'BabyCrawling', 'BabyCrawling', 'BabyCrawling', 'BabyCrawling', 'BabyCrawling', 'BabyCrawling', 'BabyCrawling', 'BabyCrawling', 'BabyCrawling', 'BabyCrawling', 'BabyCrawling', 'BabyCrawling', 'BabyCrawling', 'BabyCrawling', 'BabyCrawling', 'BabyCrawling', 'BabyCrawling', 'BabyCrawling', 'Surfing', 'Surfing', 'Surfing', 'Surfing', 'Surfing', 'Surfing', 'Surfing', 'Surfing', 'Surfing']\n"
     ]
    },
    {
     "name": "stderr",
     "output_type": "stream",
     "text": [
      " 22%|█████████████████▌                                                               | 45/208 [00:57<03:21,  1.24s/it]"
     ]
    },
    {
     "name": "stdout",
     "output_type": "stream",
     "text": [
      "['BabyCrawling', 'BabyCrawling', 'BabyCrawling', 'BabyCrawling', 'BabyCrawling', 'BabyCrawling', 'BabyCrawling', 'BabyCrawling', 'BabyCrawling', 'BabyCrawling', 'BabyCrawling', 'BabyCrawling', 'BabyCrawling', 'BabyCrawling', 'BabyCrawling', 'BabyCrawling', 'BabyCrawling', 'BabyCrawling', 'BabyCrawling', 'BabyCrawling', 'BabyCrawling', 'BabyCrawling', 'BabyCrawling', 'BabyCrawling', 'BabyCrawling', 'BabyCrawling', 'BabyCrawling', 'BabyCrawling', 'BabyCrawling', 'BabyCrawling', 'BabyCrawling', 'BabyCrawling', 'BabyCrawling', 'BabyCrawling', 'BabyCrawling', 'Surfing', 'Surfing', 'Surfing', 'Surfing', 'Surfing', 'Surfing', 'Surfing', 'Surfing', 'Surfing', 'Surfing']\n",
      "['BabyCrawling', 'BabyCrawling', 'BabyCrawling', 'BabyCrawling', 'BabyCrawling', 'BabyCrawling', 'BabyCrawling', 'BabyCrawling', 'BabyCrawling', 'BabyCrawling', 'BabyCrawling', 'BabyCrawling', 'BabyCrawling', 'BabyCrawling', 'BabyCrawling', 'BabyCrawling', 'BabyCrawling', 'BabyCrawling', 'BabyCrawling', 'BabyCrawling', 'BabyCrawling', 'BabyCrawling', 'BabyCrawling', 'BabyCrawling', 'BabyCrawling', 'BabyCrawling', 'BabyCrawling', 'BabyCrawling', 'BabyCrawling', 'BabyCrawling', 'BabyCrawling', 'BabyCrawling', 'BabyCrawling', 'BabyCrawling', 'BabyCrawling', 'Surfing', 'Surfing', 'Surfing', 'Surfing', 'Surfing', 'Surfing', 'Surfing', 'Surfing', 'Surfing', 'Surfing']\n"
     ]
    },
    {
     "name": "stderr",
     "output_type": "stream",
     "text": [
      " 22%|█████████████████▉                                                               | 46/208 [00:58<03:28,  1.29s/it]"
     ]
    },
    {
     "name": "stdout",
     "output_type": "stream",
     "text": [
      "['BabyCrawling', 'BabyCrawling', 'BabyCrawling', 'BabyCrawling', 'BabyCrawling', 'BabyCrawling', 'BabyCrawling', 'BabyCrawling', 'BabyCrawling', 'BabyCrawling', 'BabyCrawling', 'BabyCrawling', 'BabyCrawling', 'BabyCrawling', 'BabyCrawling', 'BabyCrawling', 'BabyCrawling', 'BabyCrawling', 'BabyCrawling', 'BabyCrawling', 'BabyCrawling', 'BabyCrawling', 'BabyCrawling', 'BabyCrawling', 'BabyCrawling', 'BabyCrawling', 'BabyCrawling', 'BabyCrawling', 'BabyCrawling', 'BabyCrawling', 'BabyCrawling', 'BabyCrawling', 'BabyCrawling', 'BabyCrawling', 'BabyCrawling', 'Surfing', 'Surfing', 'Surfing', 'Surfing', 'Surfing', 'Surfing', 'Surfing', 'Surfing', 'Surfing', 'Surfing', 'Surfing']\n",
      "['BabyCrawling', 'BabyCrawling', 'BabyCrawling', 'BabyCrawling', 'BabyCrawling', 'BabyCrawling', 'BabyCrawling', 'BabyCrawling', 'BabyCrawling', 'BabyCrawling', 'BabyCrawling', 'BabyCrawling', 'BabyCrawling', 'BabyCrawling', 'BabyCrawling', 'BabyCrawling', 'BabyCrawling', 'BabyCrawling', 'BabyCrawling', 'BabyCrawling', 'BabyCrawling', 'BabyCrawling', 'BabyCrawling', 'BabyCrawling', 'BabyCrawling', 'BabyCrawling', 'BabyCrawling', 'BabyCrawling', 'BabyCrawling', 'BabyCrawling', 'BabyCrawling', 'BabyCrawling', 'BabyCrawling', 'BabyCrawling', 'BabyCrawling', 'Surfing', 'Surfing', 'Surfing', 'Surfing', 'Surfing', 'Surfing', 'Surfing', 'Surfing', 'Surfing', 'Surfing', 'Surfing']\n"
     ]
    },
    {
     "name": "stderr",
     "output_type": "stream",
     "text": [
      " 23%|██████████████████▎                                                              | 47/208 [00:59<03:14,  1.21s/it]"
     ]
    },
    {
     "name": "stdout",
     "output_type": "stream",
     "text": [
      "['BabyCrawling', 'BabyCrawling', 'BabyCrawling', 'BabyCrawling', 'BabyCrawling', 'BabyCrawling', 'BabyCrawling', 'BabyCrawling', 'BabyCrawling', 'BabyCrawling', 'BabyCrawling', 'BabyCrawling', 'BabyCrawling', 'BabyCrawling', 'BabyCrawling', 'BabyCrawling', 'BabyCrawling', 'BabyCrawling', 'BabyCrawling', 'BabyCrawling', 'BabyCrawling', 'BabyCrawling', 'BabyCrawling', 'BabyCrawling', 'BabyCrawling', 'BabyCrawling', 'BabyCrawling', 'BabyCrawling', 'BabyCrawling', 'BabyCrawling', 'BabyCrawling', 'BabyCrawling', 'BabyCrawling', 'BabyCrawling', 'BabyCrawling', 'Surfing', 'Surfing', 'Surfing', 'Surfing', 'Surfing', 'Surfing', 'Surfing', 'Surfing', 'Surfing', 'Surfing', 'Surfing', 'Surfing']\n",
      "['BabyCrawling', 'BabyCrawling', 'BabyCrawling', 'BabyCrawling', 'BabyCrawling', 'BabyCrawling', 'BabyCrawling', 'BabyCrawling', 'BabyCrawling', 'BabyCrawling', 'BabyCrawling', 'BabyCrawling', 'BabyCrawling', 'BabyCrawling', 'BabyCrawling', 'BabyCrawling', 'BabyCrawling', 'BabyCrawling', 'BabyCrawling', 'BabyCrawling', 'BabyCrawling', 'BabyCrawling', 'BabyCrawling', 'BabyCrawling', 'BabyCrawling', 'BabyCrawling', 'BabyCrawling', 'BabyCrawling', 'BabyCrawling', 'BabyCrawling', 'BabyCrawling', 'BabyCrawling', 'BabyCrawling', 'BabyCrawling', 'BabyCrawling', 'Surfing', 'Surfing', 'Surfing', 'Surfing', 'Surfing', 'Surfing', 'Surfing', 'Surfing', 'Surfing', 'Surfing', 'Surfing', 'Surfing']\n"
     ]
    },
    {
     "name": "stderr",
     "output_type": "stream",
     "text": [
      " 23%|██████████████████▋                                                              | 48/208 [01:01<03:34,  1.34s/it]"
     ]
    },
    {
     "name": "stdout",
     "output_type": "stream",
     "text": [
      "['BabyCrawling', 'BabyCrawling', 'BabyCrawling', 'BabyCrawling', 'BabyCrawling', 'BabyCrawling', 'BabyCrawling', 'BabyCrawling', 'BabyCrawling', 'BabyCrawling', 'BabyCrawling', 'BabyCrawling', 'BabyCrawling', 'BabyCrawling', 'BabyCrawling', 'BabyCrawling', 'BabyCrawling', 'BabyCrawling', 'BabyCrawling', 'BabyCrawling', 'BabyCrawling', 'BabyCrawling', 'BabyCrawling', 'BabyCrawling', 'BabyCrawling', 'BabyCrawling', 'BabyCrawling', 'BabyCrawling', 'BabyCrawling', 'BabyCrawling', 'BabyCrawling', 'BabyCrawling', 'BabyCrawling', 'BabyCrawling', 'BabyCrawling', 'Surfing', 'Surfing', 'Surfing', 'Surfing', 'Surfing', 'Surfing', 'Surfing', 'Surfing', 'Surfing', 'Surfing', 'Surfing', 'Surfing', 'Surfing']\n",
      "['BabyCrawling', 'BabyCrawling', 'BabyCrawling', 'BabyCrawling', 'BabyCrawling', 'BabyCrawling', 'BabyCrawling', 'BabyCrawling', 'BabyCrawling', 'BabyCrawling', 'BabyCrawling', 'BabyCrawling', 'BabyCrawling', 'BabyCrawling', 'BabyCrawling', 'BabyCrawling', 'BabyCrawling', 'BabyCrawling', 'BabyCrawling', 'BabyCrawling', 'BabyCrawling', 'BabyCrawling', 'BabyCrawling', 'BabyCrawling', 'BabyCrawling', 'BabyCrawling', 'BabyCrawling', 'BabyCrawling', 'BabyCrawling', 'BabyCrawling', 'BabyCrawling', 'BabyCrawling', 'BabyCrawling', 'BabyCrawling', 'BabyCrawling', 'Surfing', 'Surfing', 'Surfing', 'Surfing', 'Surfing', 'Surfing', 'Surfing', 'Surfing', 'Surfing', 'Surfing', 'Surfing', 'Surfing', 'Surfing']\n"
     ]
    },
    {
     "name": "stderr",
     "output_type": "stream",
     "text": [
      " 24%|███████████████████                                                              | 49/208 [01:02<03:06,  1.17s/it]"
     ]
    },
    {
     "name": "stdout",
     "output_type": "stream",
     "text": [
      "['BabyCrawling', 'BabyCrawling', 'BabyCrawling', 'BabyCrawling', 'BabyCrawling', 'BabyCrawling', 'BabyCrawling', 'BabyCrawling', 'BabyCrawling', 'BabyCrawling', 'BabyCrawling', 'BabyCrawling', 'BabyCrawling', 'BabyCrawling', 'BabyCrawling', 'BabyCrawling', 'BabyCrawling', 'BabyCrawling', 'BabyCrawling', 'BabyCrawling', 'BabyCrawling', 'BabyCrawling', 'BabyCrawling', 'BabyCrawling', 'BabyCrawling', 'BabyCrawling', 'BabyCrawling', 'BabyCrawling', 'BabyCrawling', 'BabyCrawling', 'BabyCrawling', 'BabyCrawling', 'BabyCrawling', 'BabyCrawling', 'BabyCrawling', 'Surfing', 'Surfing', 'Surfing', 'Surfing', 'Surfing', 'Surfing', 'Surfing', 'Surfing', 'Surfing', 'Surfing', 'Surfing', 'Surfing', 'Surfing', 'Surfing']\n",
      "['BabyCrawling', 'BabyCrawling', 'BabyCrawling', 'BabyCrawling', 'BabyCrawling', 'BabyCrawling', 'BabyCrawling', 'BabyCrawling', 'BabyCrawling', 'BabyCrawling', 'BabyCrawling', 'BabyCrawling', 'BabyCrawling', 'BabyCrawling', 'BabyCrawling', 'BabyCrawling', 'BabyCrawling', 'BabyCrawling', 'BabyCrawling', 'BabyCrawling', 'BabyCrawling', 'BabyCrawling', 'BabyCrawling', 'BabyCrawling', 'BabyCrawling', 'BabyCrawling', 'BabyCrawling', 'BabyCrawling', 'BabyCrawling', 'BabyCrawling', 'BabyCrawling', 'BabyCrawling', 'BabyCrawling', 'BabyCrawling', 'BabyCrawling', 'Surfing', 'Surfing', 'Surfing', 'Surfing', 'Surfing', 'Surfing', 'Surfing', 'Surfing', 'Surfing', 'Surfing', 'Surfing', 'Surfing', 'Surfing', 'Surfing']\n"
     ]
    },
    {
     "name": "stderr",
     "output_type": "stream",
     "text": [
      " 24%|███████████████████▍                                                             | 50/208 [01:03<02:52,  1.09s/it]"
     ]
    },
    {
     "name": "stdout",
     "output_type": "stream",
     "text": [
      "['BabyCrawling', 'BabyCrawling', 'BabyCrawling', 'BabyCrawling', 'BabyCrawling', 'BabyCrawling', 'BabyCrawling', 'BabyCrawling', 'BabyCrawling', 'BabyCrawling', 'BabyCrawling', 'BabyCrawling', 'BabyCrawling', 'BabyCrawling', 'BabyCrawling', 'BabyCrawling', 'BabyCrawling', 'BabyCrawling', 'BabyCrawling', 'BabyCrawling', 'BabyCrawling', 'BabyCrawling', 'BabyCrawling', 'BabyCrawling', 'BabyCrawling', 'BabyCrawling', 'BabyCrawling', 'BabyCrawling', 'BabyCrawling', 'BabyCrawling', 'BabyCrawling', 'BabyCrawling', 'BabyCrawling', 'BabyCrawling', 'BabyCrawling', 'Surfing', 'Surfing', 'Surfing', 'Surfing', 'Surfing', 'Surfing', 'Surfing', 'Surfing', 'Surfing', 'Surfing', 'Surfing', 'Surfing', 'Surfing', 'Surfing', 'Surfing']\n",
      "['BabyCrawling', 'BabyCrawling', 'BabyCrawling', 'BabyCrawling', 'BabyCrawling', 'BabyCrawling', 'BabyCrawling', 'BabyCrawling', 'BabyCrawling', 'BabyCrawling', 'BabyCrawling', 'BabyCrawling', 'BabyCrawling', 'BabyCrawling', 'BabyCrawling', 'BabyCrawling', 'BabyCrawling', 'BabyCrawling', 'BabyCrawling', 'BabyCrawling', 'BabyCrawling', 'BabyCrawling', 'BabyCrawling', 'BabyCrawling', 'BabyCrawling', 'BabyCrawling', 'BabyCrawling', 'BabyCrawling', 'BabyCrawling', 'BabyCrawling', 'BabyCrawling', 'BabyCrawling', 'BabyCrawling', 'BabyCrawling', 'BabyCrawling', 'Surfing', 'Surfing', 'Surfing', 'Surfing', 'Surfing', 'Surfing', 'Surfing', 'Surfing', 'Surfing', 'Surfing', 'Surfing', 'Surfing', 'Surfing', 'Surfing', 'Surfing']\n"
     ]
    },
    {
     "name": "stderr",
     "output_type": "stream",
     "text": [
      " 25%|███████████████████▊                                                             | 51/208 [01:03<02:37,  1.00s/it]"
     ]
    },
    {
     "name": "stdout",
     "output_type": "stream",
     "text": [
      "['BabyCrawling', 'BabyCrawling', 'BabyCrawling', 'BabyCrawling', 'BabyCrawling', 'BabyCrawling', 'BabyCrawling', 'BabyCrawling', 'BabyCrawling', 'BabyCrawling', 'BabyCrawling', 'BabyCrawling', 'BabyCrawling', 'BabyCrawling', 'BabyCrawling', 'BabyCrawling', 'BabyCrawling', 'BabyCrawling', 'BabyCrawling', 'BabyCrawling', 'BabyCrawling', 'BabyCrawling', 'BabyCrawling', 'BabyCrawling', 'BabyCrawling', 'BabyCrawling', 'BabyCrawling', 'BabyCrawling', 'BabyCrawling', 'BabyCrawling', 'BabyCrawling', 'BabyCrawling', 'BabyCrawling', 'BabyCrawling', 'BabyCrawling', 'Surfing', 'Surfing', 'Surfing', 'Surfing', 'Surfing', 'Surfing', 'Surfing', 'Surfing', 'Surfing', 'Surfing', 'Surfing', 'Surfing', 'Surfing', 'Surfing', 'Surfing', 'Surfing']\n",
      "['BabyCrawling', 'BabyCrawling', 'BabyCrawling', 'BabyCrawling', 'BabyCrawling', 'BabyCrawling', 'BabyCrawling', 'BabyCrawling', 'BabyCrawling', 'BabyCrawling', 'BabyCrawling', 'BabyCrawling', 'BabyCrawling', 'BabyCrawling', 'BabyCrawling', 'BabyCrawling', 'BabyCrawling', 'BabyCrawling', 'BabyCrawling', 'BabyCrawling', 'BabyCrawling', 'BabyCrawling', 'BabyCrawling', 'BabyCrawling', 'BabyCrawling', 'BabyCrawling', 'BabyCrawling', 'BabyCrawling', 'BabyCrawling', 'BabyCrawling', 'BabyCrawling', 'BabyCrawling', 'BabyCrawling', 'BabyCrawling', 'BabyCrawling', 'Surfing', 'Surfing', 'Surfing', 'Surfing', 'Surfing', 'Surfing', 'Surfing', 'Surfing', 'Surfing', 'Surfing', 'Surfing', 'Surfing', 'Surfing', 'Surfing', 'Surfing', 'Surfing']\n"
     ]
    },
    {
     "name": "stderr",
     "output_type": "stream",
     "text": [
      " 25%|████████████████████▎                                                            | 52/208 [01:04<02:33,  1.02it/s]"
     ]
    },
    {
     "name": "stdout",
     "output_type": "stream",
     "text": [
      "['BabyCrawling', 'BabyCrawling', 'BabyCrawling', 'BabyCrawling', 'BabyCrawling', 'BabyCrawling', 'BabyCrawling', 'BabyCrawling', 'BabyCrawling', 'BabyCrawling', 'BabyCrawling', 'BabyCrawling', 'BabyCrawling', 'BabyCrawling', 'BabyCrawling', 'BabyCrawling', 'BabyCrawling', 'BabyCrawling', 'BabyCrawling', 'BabyCrawling', 'BabyCrawling', 'BabyCrawling', 'BabyCrawling', 'BabyCrawling', 'BabyCrawling', 'BabyCrawling', 'BabyCrawling', 'BabyCrawling', 'BabyCrawling', 'BabyCrawling', 'BabyCrawling', 'BabyCrawling', 'BabyCrawling', 'BabyCrawling', 'BabyCrawling', 'Surfing', 'Surfing', 'Surfing', 'Surfing', 'Surfing', 'Surfing', 'Surfing', 'Surfing', 'Surfing', 'Surfing', 'Surfing', 'Surfing', 'Surfing', 'Surfing', 'Surfing', 'Surfing', 'Surfing']\n",
      "['BabyCrawling', 'BabyCrawling', 'BabyCrawling', 'BabyCrawling', 'BabyCrawling', 'BabyCrawling', 'BabyCrawling', 'BabyCrawling', 'BabyCrawling', 'BabyCrawling', 'BabyCrawling', 'BabyCrawling', 'BabyCrawling', 'BabyCrawling', 'BabyCrawling', 'BabyCrawling', 'BabyCrawling', 'BabyCrawling', 'BabyCrawling', 'BabyCrawling', 'BabyCrawling', 'BabyCrawling', 'BabyCrawling', 'BabyCrawling', 'BabyCrawling', 'BabyCrawling', 'BabyCrawling', 'BabyCrawling', 'BabyCrawling', 'BabyCrawling', 'BabyCrawling', 'BabyCrawling', 'BabyCrawling', 'BabyCrawling', 'BabyCrawling', 'Surfing', 'Surfing', 'Surfing', 'Surfing', 'Surfing', 'Surfing', 'Surfing', 'Surfing', 'Surfing', 'Surfing', 'Surfing', 'Surfing', 'Surfing', 'Surfing', 'Surfing', 'Surfing', 'Surfing']\n"
     ]
    },
    {
     "name": "stderr",
     "output_type": "stream",
     "text": [
      " 25%|████████████████████▋                                                            | 53/208 [01:05<02:22,  1.09it/s]"
     ]
    },
    {
     "name": "stdout",
     "output_type": "stream",
     "text": [
      "['BabyCrawling', 'BabyCrawling', 'BabyCrawling', 'BabyCrawling', 'BabyCrawling', 'BabyCrawling', 'BabyCrawling', 'BabyCrawling', 'BabyCrawling', 'BabyCrawling', 'BabyCrawling', 'BabyCrawling', 'BabyCrawling', 'BabyCrawling', 'BabyCrawling', 'BabyCrawling', 'BabyCrawling', 'BabyCrawling', 'BabyCrawling', 'BabyCrawling', 'BabyCrawling', 'BabyCrawling', 'BabyCrawling', 'BabyCrawling', 'BabyCrawling', 'BabyCrawling', 'BabyCrawling', 'BabyCrawling', 'BabyCrawling', 'BabyCrawling', 'BabyCrawling', 'BabyCrawling', 'BabyCrawling', 'BabyCrawling', 'BabyCrawling', 'Surfing', 'Surfing', 'Surfing', 'Surfing', 'Surfing', 'Surfing', 'Surfing', 'Surfing', 'Surfing', 'Surfing', 'Surfing', 'Surfing', 'Surfing', 'Surfing', 'Surfing', 'Surfing', 'Surfing', 'Surfing']\n",
      "['BabyCrawling', 'BabyCrawling', 'BabyCrawling', 'BabyCrawling', 'BabyCrawling', 'BabyCrawling', 'BabyCrawling', 'BabyCrawling', 'BabyCrawling', 'BabyCrawling', 'BabyCrawling', 'BabyCrawling', 'BabyCrawling', 'BabyCrawling', 'BabyCrawling', 'BabyCrawling', 'BabyCrawling', 'BabyCrawling', 'BabyCrawling', 'BabyCrawling', 'BabyCrawling', 'BabyCrawling', 'BabyCrawling', 'BabyCrawling', 'BabyCrawling', 'BabyCrawling', 'BabyCrawling', 'BabyCrawling', 'BabyCrawling', 'BabyCrawling', 'BabyCrawling', 'BabyCrawling', 'BabyCrawling', 'BabyCrawling', 'BabyCrawling', 'Surfing', 'Surfing', 'Surfing', 'Surfing', 'Surfing', 'Surfing', 'Surfing', 'Surfing', 'Surfing', 'Surfing', 'Surfing', 'Surfing', 'Surfing', 'Surfing', 'Surfing', 'Surfing', 'Surfing', 'Surfing']\n"
     ]
    },
    {
     "name": "stderr",
     "output_type": "stream",
     "text": [
      " 26%|█████████████████████                                                            | 54/208 [01:06<02:31,  1.02it/s]"
     ]
    },
    {
     "name": "stdout",
     "output_type": "stream",
     "text": [
      "['BabyCrawling', 'BabyCrawling', 'BabyCrawling', 'BabyCrawling', 'BabyCrawling', 'BabyCrawling', 'BabyCrawling', 'BabyCrawling', 'BabyCrawling', 'BabyCrawling', 'BabyCrawling', 'BabyCrawling', 'BabyCrawling', 'BabyCrawling', 'BabyCrawling', 'BabyCrawling', 'BabyCrawling', 'BabyCrawling', 'BabyCrawling', 'BabyCrawling', 'BabyCrawling', 'BabyCrawling', 'BabyCrawling', 'BabyCrawling', 'BabyCrawling', 'BabyCrawling', 'BabyCrawling', 'BabyCrawling', 'BabyCrawling', 'BabyCrawling', 'BabyCrawling', 'BabyCrawling', 'BabyCrawling', 'BabyCrawling', 'BabyCrawling', 'Surfing', 'Surfing', 'Surfing', 'Surfing', 'Surfing', 'Surfing', 'Surfing', 'Surfing', 'Surfing', 'Surfing', 'Surfing', 'Surfing', 'Surfing', 'Surfing', 'Surfing', 'Surfing', 'Surfing', 'Surfing', 'Surfing']\n",
      "['BabyCrawling', 'BabyCrawling', 'BabyCrawling', 'BabyCrawling', 'BabyCrawling', 'BabyCrawling', 'BabyCrawling', 'BabyCrawling', 'BabyCrawling', 'BabyCrawling', 'BabyCrawling', 'BabyCrawling', 'BabyCrawling', 'BabyCrawling', 'BabyCrawling', 'BabyCrawling', 'BabyCrawling', 'BabyCrawling', 'BabyCrawling', 'BabyCrawling', 'BabyCrawling', 'BabyCrawling', 'BabyCrawling', 'BabyCrawling', 'BabyCrawling', 'BabyCrawling', 'BabyCrawling', 'BabyCrawling', 'BabyCrawling', 'BabyCrawling', 'BabyCrawling', 'BabyCrawling', 'BabyCrawling', 'BabyCrawling', 'BabyCrawling', 'Surfing', 'Surfing', 'Surfing', 'Surfing', 'Surfing', 'Surfing', 'Surfing', 'Surfing', 'Surfing', 'Surfing', 'Surfing', 'Surfing', 'Surfing', 'Surfing', 'Surfing', 'Surfing', 'Surfing', 'Surfing', 'Surfing']\n"
     ]
    },
    {
     "name": "stderr",
     "output_type": "stream",
     "text": [
      " 26%|█████████████████████▍                                                           | 55/208 [01:07<02:37,  1.03s/it]"
     ]
    },
    {
     "name": "stdout",
     "output_type": "stream",
     "text": [
      "['BabyCrawling', 'BabyCrawling', 'BabyCrawling', 'BabyCrawling', 'BabyCrawling', 'BabyCrawling', 'BabyCrawling', 'BabyCrawling', 'BabyCrawling', 'BabyCrawling', 'BabyCrawling', 'BabyCrawling', 'BabyCrawling', 'BabyCrawling', 'BabyCrawling', 'BabyCrawling', 'BabyCrawling', 'BabyCrawling', 'BabyCrawling', 'BabyCrawling', 'BabyCrawling', 'BabyCrawling', 'BabyCrawling', 'BabyCrawling', 'BabyCrawling', 'BabyCrawling', 'BabyCrawling', 'BabyCrawling', 'BabyCrawling', 'BabyCrawling', 'BabyCrawling', 'BabyCrawling', 'BabyCrawling', 'BabyCrawling', 'BabyCrawling', 'Surfing', 'Surfing', 'Surfing', 'Surfing', 'Surfing', 'Surfing', 'Surfing', 'Surfing', 'Surfing', 'Surfing', 'Surfing', 'Surfing', 'Surfing', 'Surfing', 'Surfing', 'Surfing', 'Surfing', 'Surfing', 'Surfing', 'Surfing']\n",
      "['BabyCrawling', 'BabyCrawling', 'BabyCrawling', 'BabyCrawling', 'BabyCrawling', 'BabyCrawling', 'BabyCrawling', 'BabyCrawling', 'BabyCrawling', 'BabyCrawling', 'BabyCrawling', 'BabyCrawling', 'BabyCrawling', 'BabyCrawling', 'BabyCrawling', 'BabyCrawling', 'BabyCrawling', 'BabyCrawling', 'BabyCrawling', 'BabyCrawling', 'BabyCrawling', 'BabyCrawling', 'BabyCrawling', 'BabyCrawling', 'BabyCrawling', 'BabyCrawling', 'BabyCrawling', 'BabyCrawling', 'BabyCrawling', 'BabyCrawling', 'BabyCrawling', 'BabyCrawling', 'BabyCrawling', 'BabyCrawling', 'BabyCrawling', 'Surfing', 'Surfing', 'Surfing', 'Surfing', 'Surfing', 'Surfing', 'Surfing', 'Surfing', 'Surfing', 'Surfing', 'Surfing', 'Surfing', 'Surfing', 'Surfing', 'Surfing', 'Surfing', 'Surfing', 'Surfing', 'Surfing', 'Surfing']\n"
     ]
    },
    {
     "name": "stderr",
     "output_type": "stream",
     "text": [
      " 27%|█████████████████████▊                                                           | 56/208 [01:08<02:34,  1.02s/it]"
     ]
    },
    {
     "name": "stdout",
     "output_type": "stream",
     "text": [
      "['BabyCrawling', 'BabyCrawling', 'BabyCrawling', 'BabyCrawling', 'BabyCrawling', 'BabyCrawling', 'BabyCrawling', 'BabyCrawling', 'BabyCrawling', 'BabyCrawling', 'BabyCrawling', 'BabyCrawling', 'BabyCrawling', 'BabyCrawling', 'BabyCrawling', 'BabyCrawling', 'BabyCrawling', 'BabyCrawling', 'BabyCrawling', 'BabyCrawling', 'BabyCrawling', 'BabyCrawling', 'BabyCrawling', 'BabyCrawling', 'BabyCrawling', 'BabyCrawling', 'BabyCrawling', 'BabyCrawling', 'BabyCrawling', 'BabyCrawling', 'BabyCrawling', 'BabyCrawling', 'BabyCrawling', 'BabyCrawling', 'BabyCrawling', 'Surfing', 'Surfing', 'Surfing', 'Surfing', 'Surfing', 'Surfing', 'Surfing', 'Surfing', 'Surfing', 'Surfing', 'Surfing', 'Surfing', 'Surfing', 'Surfing', 'Surfing', 'Surfing', 'Surfing', 'Surfing', 'Surfing', 'Surfing', 'Surfing']\n",
      "['BabyCrawling', 'BabyCrawling', 'BabyCrawling', 'BabyCrawling', 'BabyCrawling', 'BabyCrawling', 'BabyCrawling', 'BabyCrawling', 'BabyCrawling', 'BabyCrawling', 'BabyCrawling', 'BabyCrawling', 'BabyCrawling', 'BabyCrawling', 'BabyCrawling', 'BabyCrawling', 'BabyCrawling', 'BabyCrawling', 'BabyCrawling', 'BabyCrawling', 'BabyCrawling', 'BabyCrawling', 'BabyCrawling', 'BabyCrawling', 'BabyCrawling', 'BabyCrawling', 'BabyCrawling', 'BabyCrawling', 'BabyCrawling', 'BabyCrawling', 'BabyCrawling', 'BabyCrawling', 'BabyCrawling', 'BabyCrawling', 'BabyCrawling', 'Surfing', 'Surfing', 'Surfing', 'Surfing', 'Surfing', 'Surfing', 'Surfing', 'Surfing', 'Surfing', 'Surfing', 'Surfing', 'Surfing', 'Surfing', 'Surfing', 'Surfing', 'Surfing', 'Surfing', 'Surfing', 'Surfing', 'Surfing', 'Surfing']\n"
     ]
    },
    {
     "name": "stderr",
     "output_type": "stream",
     "text": [
      " 27%|██████████████████████▏                                                          | 57/208 [01:10<03:00,  1.20s/it]"
     ]
    },
    {
     "name": "stdout",
     "output_type": "stream",
     "text": [
      "['BabyCrawling', 'BabyCrawling', 'BabyCrawling', 'BabyCrawling', 'BabyCrawling', 'BabyCrawling', 'BabyCrawling', 'BabyCrawling', 'BabyCrawling', 'BabyCrawling', 'BabyCrawling', 'BabyCrawling', 'BabyCrawling', 'BabyCrawling', 'BabyCrawling', 'BabyCrawling', 'BabyCrawling', 'BabyCrawling', 'BabyCrawling', 'BabyCrawling', 'BabyCrawling', 'BabyCrawling', 'BabyCrawling', 'BabyCrawling', 'BabyCrawling', 'BabyCrawling', 'BabyCrawling', 'BabyCrawling', 'BabyCrawling', 'BabyCrawling', 'BabyCrawling', 'BabyCrawling', 'BabyCrawling', 'BabyCrawling', 'BabyCrawling', 'Surfing', 'Surfing', 'Surfing', 'Surfing', 'Surfing', 'Surfing', 'Surfing', 'Surfing', 'Surfing', 'Surfing', 'Surfing', 'Surfing', 'Surfing', 'Surfing', 'Surfing', 'Surfing', 'Surfing', 'Surfing', 'Surfing', 'Surfing', 'Surfing', 'Surfing']\n",
      "['BabyCrawling', 'BabyCrawling', 'BabyCrawling', 'BabyCrawling', 'BabyCrawling', 'BabyCrawling', 'BabyCrawling', 'BabyCrawling', 'BabyCrawling', 'BabyCrawling', 'BabyCrawling', 'BabyCrawling', 'BabyCrawling', 'BabyCrawling', 'BabyCrawling', 'BabyCrawling', 'BabyCrawling', 'BabyCrawling', 'BabyCrawling', 'BabyCrawling', 'BabyCrawling', 'BabyCrawling', 'BabyCrawling', 'BabyCrawling', 'BabyCrawling', 'BabyCrawling', 'BabyCrawling', 'BabyCrawling', 'BabyCrawling', 'BabyCrawling', 'BabyCrawling', 'BabyCrawling', 'BabyCrawling', 'BabyCrawling', 'BabyCrawling', 'Surfing', 'Surfing', 'Surfing', 'Surfing', 'Surfing', 'Surfing', 'Surfing', 'Surfing', 'Surfing', 'Surfing', 'Surfing', 'Surfing', 'Surfing', 'Surfing', 'Surfing', 'Surfing', 'Surfing', 'Surfing', 'Surfing', 'Surfing', 'Surfing', 'Surfing']\n"
     ]
    },
    {
     "name": "stderr",
     "output_type": "stream",
     "text": [
      " 28%|██████████████████████▌                                                          | 58/208 [01:12<03:20,  1.34s/it]"
     ]
    },
    {
     "name": "stdout",
     "output_type": "stream",
     "text": [
      "['BabyCrawling', 'BabyCrawling', 'BabyCrawling', 'BabyCrawling', 'BabyCrawling', 'BabyCrawling', 'BabyCrawling', 'BabyCrawling', 'BabyCrawling', 'BabyCrawling', 'BabyCrawling', 'BabyCrawling', 'BabyCrawling', 'BabyCrawling', 'BabyCrawling', 'BabyCrawling', 'BabyCrawling', 'BabyCrawling', 'BabyCrawling', 'BabyCrawling', 'BabyCrawling', 'BabyCrawling', 'BabyCrawling', 'BabyCrawling', 'BabyCrawling', 'BabyCrawling', 'BabyCrawling', 'BabyCrawling', 'BabyCrawling', 'BabyCrawling', 'BabyCrawling', 'BabyCrawling', 'BabyCrawling', 'BabyCrawling', 'BabyCrawling', 'Surfing', 'Surfing', 'Surfing', 'Surfing', 'Surfing', 'Surfing', 'Surfing', 'Surfing', 'Surfing', 'Surfing', 'Surfing', 'Surfing', 'Surfing', 'Surfing', 'Surfing', 'Surfing', 'Surfing', 'Surfing', 'Surfing', 'Surfing', 'Surfing', 'Surfing', 'Surfing']\n",
      "['BabyCrawling', 'BabyCrawling', 'BabyCrawling', 'BabyCrawling', 'BabyCrawling', 'BabyCrawling', 'BabyCrawling', 'BabyCrawling', 'BabyCrawling', 'BabyCrawling', 'BabyCrawling', 'BabyCrawling', 'BabyCrawling', 'BabyCrawling', 'BabyCrawling', 'BabyCrawling', 'BabyCrawling', 'BabyCrawling', 'BabyCrawling', 'BabyCrawling', 'BabyCrawling', 'BabyCrawling', 'BabyCrawling', 'BabyCrawling', 'BabyCrawling', 'BabyCrawling', 'BabyCrawling', 'BabyCrawling', 'BabyCrawling', 'BabyCrawling', 'BabyCrawling', 'BabyCrawling', 'BabyCrawling', 'BabyCrawling', 'BabyCrawling', 'Surfing', 'Surfing', 'Surfing', 'Surfing', 'Surfing', 'Surfing', 'Surfing', 'Surfing', 'Surfing', 'Surfing', 'Surfing', 'Surfing', 'Surfing', 'Surfing', 'Surfing', 'Surfing', 'Surfing', 'Surfing', 'Surfing', 'Surfing', 'Surfing', 'Surfing', 'Surfing']\n"
     ]
    },
    {
     "name": "stderr",
     "output_type": "stream",
     "text": [
      " 28%|██████████████████████▉                                                          | 59/208 [01:13<03:30,  1.41s/it]"
     ]
    },
    {
     "name": "stdout",
     "output_type": "stream",
     "text": [
      "['BabyCrawling', 'BabyCrawling', 'BabyCrawling', 'BabyCrawling', 'BabyCrawling', 'BabyCrawling', 'BabyCrawling', 'BabyCrawling', 'BabyCrawling', 'BabyCrawling', 'BabyCrawling', 'BabyCrawling', 'BabyCrawling', 'BabyCrawling', 'BabyCrawling', 'BabyCrawling', 'BabyCrawling', 'BabyCrawling', 'BabyCrawling', 'BabyCrawling', 'BabyCrawling', 'BabyCrawling', 'BabyCrawling', 'BabyCrawling', 'BabyCrawling', 'BabyCrawling', 'BabyCrawling', 'BabyCrawling', 'BabyCrawling', 'BabyCrawling', 'BabyCrawling', 'BabyCrawling', 'BabyCrawling', 'BabyCrawling', 'BabyCrawling', 'Surfing', 'Surfing', 'Surfing', 'Surfing', 'Surfing', 'Surfing', 'Surfing', 'Surfing', 'Surfing', 'Surfing', 'Surfing', 'Surfing', 'Surfing', 'Surfing', 'Surfing', 'Surfing', 'Surfing', 'Surfing', 'Surfing', 'Surfing', 'Surfing', 'Surfing', 'Surfing', 'Surfing']\n",
      "['BabyCrawling', 'BabyCrawling', 'BabyCrawling', 'BabyCrawling', 'BabyCrawling', 'BabyCrawling', 'BabyCrawling', 'BabyCrawling', 'BabyCrawling', 'BabyCrawling', 'BabyCrawling', 'BabyCrawling', 'BabyCrawling', 'BabyCrawling', 'BabyCrawling', 'BabyCrawling', 'BabyCrawling', 'BabyCrawling', 'BabyCrawling', 'BabyCrawling', 'BabyCrawling', 'BabyCrawling', 'BabyCrawling', 'BabyCrawling', 'BabyCrawling', 'BabyCrawling', 'BabyCrawling', 'BabyCrawling', 'BabyCrawling', 'BabyCrawling', 'BabyCrawling', 'BabyCrawling', 'BabyCrawling', 'BabyCrawling', 'BabyCrawling', 'Surfing', 'Surfing', 'Surfing', 'Surfing', 'Surfing', 'Surfing', 'Surfing', 'Surfing', 'Surfing', 'Surfing', 'Surfing', 'Surfing', 'Surfing', 'Surfing', 'Surfing', 'Surfing', 'Surfing', 'Surfing', 'Surfing', 'Surfing', 'Surfing', 'Surfing', 'Surfing', 'Surfing']\n"
     ]
    },
    {
     "name": "stderr",
     "output_type": "stream",
     "text": [
      " 29%|███████████████████████▎                                                         | 60/208 [01:15<03:27,  1.40s/it]"
     ]
    },
    {
     "name": "stdout",
     "output_type": "stream",
     "text": [
      "['BabyCrawling', 'BabyCrawling', 'BabyCrawling', 'BabyCrawling', 'BabyCrawling', 'BabyCrawling', 'BabyCrawling', 'BabyCrawling', 'BabyCrawling', 'BabyCrawling', 'BabyCrawling', 'BabyCrawling', 'BabyCrawling', 'BabyCrawling', 'BabyCrawling', 'BabyCrawling', 'BabyCrawling', 'BabyCrawling', 'BabyCrawling', 'BabyCrawling', 'BabyCrawling', 'BabyCrawling', 'BabyCrawling', 'BabyCrawling', 'BabyCrawling', 'BabyCrawling', 'BabyCrawling', 'BabyCrawling', 'BabyCrawling', 'BabyCrawling', 'BabyCrawling', 'BabyCrawling', 'BabyCrawling', 'BabyCrawling', 'BabyCrawling', 'Surfing', 'Surfing', 'Surfing', 'Surfing', 'Surfing', 'Surfing', 'Surfing', 'Surfing', 'Surfing', 'Surfing', 'Surfing', 'Surfing', 'Surfing', 'Surfing', 'Surfing', 'Surfing', 'Surfing', 'Surfing', 'Surfing', 'Surfing', 'Surfing', 'Surfing', 'Surfing', 'Surfing', 'Surfing']\n",
      "['BabyCrawling', 'BabyCrawling', 'BabyCrawling', 'BabyCrawling', 'BabyCrawling', 'BabyCrawling', 'BabyCrawling', 'BabyCrawling', 'BabyCrawling', 'BabyCrawling', 'BabyCrawling', 'BabyCrawling', 'BabyCrawling', 'BabyCrawling', 'BabyCrawling', 'BabyCrawling', 'BabyCrawling', 'BabyCrawling', 'BabyCrawling', 'BabyCrawling', 'BabyCrawling', 'BabyCrawling', 'BabyCrawling', 'BabyCrawling', 'BabyCrawling', 'BabyCrawling', 'BabyCrawling', 'BabyCrawling', 'BabyCrawling', 'BabyCrawling', 'BabyCrawling', 'BabyCrawling', 'BabyCrawling', 'BabyCrawling', 'BabyCrawling', 'Surfing', 'Surfing', 'Surfing', 'Surfing', 'Surfing', 'Surfing', 'Surfing', 'Surfing', 'Surfing', 'Surfing', 'Surfing', 'Surfing', 'Surfing', 'Surfing', 'Surfing', 'Surfing', 'Surfing', 'Surfing', 'Surfing', 'Surfing', 'Surfing', 'Surfing', 'Surfing', 'Surfing', 'Surfing']\n"
     ]
    },
    {
     "name": "stderr",
     "output_type": "stream",
     "text": [
      " 29%|███████████████████████▊                                                         | 61/208 [01:16<03:31,  1.44s/it]"
     ]
    },
    {
     "name": "stdout",
     "output_type": "stream",
     "text": [
      "['BabyCrawling', 'BabyCrawling', 'BabyCrawling', 'BabyCrawling', 'BabyCrawling', 'BabyCrawling', 'BabyCrawling', 'BabyCrawling', 'BabyCrawling', 'BabyCrawling', 'BabyCrawling', 'BabyCrawling', 'BabyCrawling', 'BabyCrawling', 'BabyCrawling', 'BabyCrawling', 'BabyCrawling', 'BabyCrawling', 'BabyCrawling', 'BabyCrawling', 'BabyCrawling', 'BabyCrawling', 'BabyCrawling', 'BabyCrawling', 'BabyCrawling', 'BabyCrawling', 'BabyCrawling', 'BabyCrawling', 'BabyCrawling', 'BabyCrawling', 'BabyCrawling', 'BabyCrawling', 'BabyCrawling', 'BabyCrawling', 'BabyCrawling', 'Surfing', 'Surfing', 'Surfing', 'Surfing', 'Surfing', 'Surfing', 'Surfing', 'Surfing', 'Surfing', 'Surfing', 'Surfing', 'Surfing', 'Surfing', 'Surfing', 'Surfing', 'Surfing', 'Surfing', 'Surfing', 'Surfing', 'Surfing', 'Surfing', 'Surfing', 'Surfing', 'Surfing', 'Surfing', 'Surfing']\n",
      "['BabyCrawling', 'BabyCrawling', 'BabyCrawling', 'BabyCrawling', 'BabyCrawling', 'BabyCrawling', 'BabyCrawling', 'BabyCrawling', 'BabyCrawling', 'BabyCrawling', 'BabyCrawling', 'BabyCrawling', 'BabyCrawling', 'BabyCrawling', 'BabyCrawling', 'BabyCrawling', 'BabyCrawling', 'BabyCrawling', 'BabyCrawling', 'BabyCrawling', 'BabyCrawling', 'BabyCrawling', 'BabyCrawling', 'BabyCrawling', 'BabyCrawling', 'BabyCrawling', 'BabyCrawling', 'BabyCrawling', 'BabyCrawling', 'BabyCrawling', 'BabyCrawling', 'BabyCrawling', 'BabyCrawling', 'BabyCrawling', 'BabyCrawling', 'Surfing', 'Surfing', 'Surfing', 'Surfing', 'Surfing', 'Surfing', 'Surfing', 'Surfing', 'Surfing', 'Surfing', 'Surfing', 'Surfing', 'Surfing', 'Surfing', 'Surfing', 'Surfing', 'Surfing', 'Surfing', 'Surfing', 'Surfing', 'Surfing', 'Surfing', 'Surfing', 'Surfing', 'Surfing', 'Surfing']\n"
     ]
    },
    {
     "name": "stderr",
     "output_type": "stream",
     "text": [
      " 30%|████████████████████████▏                                                        | 62/208 [01:18<03:33,  1.46s/it]"
     ]
    },
    {
     "name": "stdout",
     "output_type": "stream",
     "text": [
      "['BabyCrawling', 'BabyCrawling', 'BabyCrawling', 'BabyCrawling', 'BabyCrawling', 'BabyCrawling', 'BabyCrawling', 'BabyCrawling', 'BabyCrawling', 'BabyCrawling', 'BabyCrawling', 'BabyCrawling', 'BabyCrawling', 'BabyCrawling', 'BabyCrawling', 'BabyCrawling', 'BabyCrawling', 'BabyCrawling', 'BabyCrawling', 'BabyCrawling', 'BabyCrawling', 'BabyCrawling', 'BabyCrawling', 'BabyCrawling', 'BabyCrawling', 'BabyCrawling', 'BabyCrawling', 'BabyCrawling', 'BabyCrawling', 'BabyCrawling', 'BabyCrawling', 'BabyCrawling', 'BabyCrawling', 'BabyCrawling', 'BabyCrawling', 'Surfing', 'Surfing', 'Surfing', 'Surfing', 'Surfing', 'Surfing', 'Surfing', 'Surfing', 'Surfing', 'Surfing', 'Surfing', 'Surfing', 'Surfing', 'Surfing', 'Surfing', 'Surfing', 'Surfing', 'Surfing', 'Surfing', 'Surfing', 'Surfing', 'Surfing', 'Surfing', 'Surfing', 'Surfing', 'Surfing', 'Surfing']\n",
      "['BabyCrawling', 'BabyCrawling', 'BabyCrawling', 'BabyCrawling', 'BabyCrawling', 'BabyCrawling', 'BabyCrawling', 'BabyCrawling', 'BabyCrawling', 'BabyCrawling', 'BabyCrawling', 'BabyCrawling', 'BabyCrawling', 'BabyCrawling', 'BabyCrawling', 'BabyCrawling', 'BabyCrawling', 'BabyCrawling', 'BabyCrawling', 'BabyCrawling', 'BabyCrawling', 'BabyCrawling', 'BabyCrawling', 'BabyCrawling', 'BabyCrawling', 'BabyCrawling', 'BabyCrawling', 'BabyCrawling', 'BabyCrawling', 'BabyCrawling', 'BabyCrawling', 'BabyCrawling', 'BabyCrawling', 'BabyCrawling', 'BabyCrawling', 'Surfing', 'Surfing', 'Surfing', 'Surfing', 'Surfing', 'Surfing', 'Surfing', 'Surfing', 'Surfing', 'Surfing', 'Surfing', 'Surfing', 'Surfing', 'Surfing', 'Surfing', 'Surfing', 'Surfing', 'Surfing', 'Surfing', 'Surfing', 'Surfing', 'Surfing', 'Surfing', 'Surfing', 'Surfing', 'Surfing', 'Surfing']\n"
     ]
    },
    {
     "name": "stderr",
     "output_type": "stream",
     "text": [
      " 30%|████████████████████████▌                                                        | 63/208 [01:18<03:01,  1.25s/it]"
     ]
    },
    {
     "name": "stdout",
     "output_type": "stream",
     "text": [
      "['BabyCrawling', 'BabyCrawling', 'BabyCrawling', 'BabyCrawling', 'BabyCrawling', 'BabyCrawling', 'BabyCrawling', 'BabyCrawling', 'BabyCrawling', 'BabyCrawling', 'BabyCrawling', 'BabyCrawling', 'BabyCrawling', 'BabyCrawling', 'BabyCrawling', 'BabyCrawling', 'BabyCrawling', 'BabyCrawling', 'BabyCrawling', 'BabyCrawling', 'BabyCrawling', 'BabyCrawling', 'BabyCrawling', 'BabyCrawling', 'BabyCrawling', 'BabyCrawling', 'BabyCrawling', 'BabyCrawling', 'BabyCrawling', 'BabyCrawling', 'BabyCrawling', 'BabyCrawling', 'BabyCrawling', 'BabyCrawling', 'BabyCrawling', 'Surfing', 'Surfing', 'Surfing', 'Surfing', 'Surfing', 'Surfing', 'Surfing', 'Surfing', 'Surfing', 'Surfing', 'Surfing', 'Surfing', 'Surfing', 'Surfing', 'Surfing', 'Surfing', 'Surfing', 'Surfing', 'Surfing', 'Surfing', 'Surfing', 'Surfing', 'Surfing', 'Surfing', 'Surfing', 'Surfing', 'Surfing', 'Surfing']\n",
      "['BabyCrawling', 'BabyCrawling', 'BabyCrawling', 'BabyCrawling', 'BabyCrawling', 'BabyCrawling', 'BabyCrawling', 'BabyCrawling', 'BabyCrawling', 'BabyCrawling', 'BabyCrawling', 'BabyCrawling', 'BabyCrawling', 'BabyCrawling', 'BabyCrawling', 'BabyCrawling', 'BabyCrawling', 'BabyCrawling', 'BabyCrawling', 'BabyCrawling', 'BabyCrawling', 'BabyCrawling', 'BabyCrawling', 'BabyCrawling', 'BabyCrawling', 'BabyCrawling', 'BabyCrawling', 'BabyCrawling', 'BabyCrawling', 'BabyCrawling', 'BabyCrawling', 'BabyCrawling', 'BabyCrawling', 'BabyCrawling', 'BabyCrawling', 'Surfing', 'Surfing', 'Surfing', 'Surfing', 'Surfing', 'Surfing', 'Surfing', 'Surfing', 'Surfing', 'Surfing', 'Surfing', 'Surfing', 'Surfing', 'Surfing', 'Surfing', 'Surfing', 'Surfing', 'Surfing', 'Surfing', 'Surfing', 'Surfing', 'Surfing', 'Surfing', 'Surfing', 'Surfing', 'Surfing', 'Surfing', 'Surfing']\n"
     ]
    },
    {
     "name": "stderr",
     "output_type": "stream",
     "text": [
      " 31%|████████████████████████▉                                                        | 64/208 [01:19<02:44,  1.14s/it]"
     ]
    },
    {
     "name": "stdout",
     "output_type": "stream",
     "text": [
      "['BabyCrawling', 'BabyCrawling', 'BabyCrawling', 'BabyCrawling', 'BabyCrawling', 'BabyCrawling', 'BabyCrawling', 'BabyCrawling', 'BabyCrawling', 'BabyCrawling', 'BabyCrawling', 'BabyCrawling', 'BabyCrawling', 'BabyCrawling', 'BabyCrawling', 'BabyCrawling', 'BabyCrawling', 'BabyCrawling', 'BabyCrawling', 'BabyCrawling', 'BabyCrawling', 'BabyCrawling', 'BabyCrawling', 'BabyCrawling', 'BabyCrawling', 'BabyCrawling', 'BabyCrawling', 'BabyCrawling', 'BabyCrawling', 'BabyCrawling', 'BabyCrawling', 'BabyCrawling', 'BabyCrawling', 'BabyCrawling', 'BabyCrawling', 'Surfing', 'Surfing', 'Surfing', 'Surfing', 'Surfing', 'Surfing', 'Surfing', 'Surfing', 'Surfing', 'Surfing', 'Surfing', 'Surfing', 'Surfing', 'Surfing', 'Surfing', 'Surfing', 'Surfing', 'Surfing', 'Surfing', 'Surfing', 'Surfing', 'Surfing', 'Surfing', 'Surfing', 'Surfing', 'Surfing', 'Surfing', 'Surfing', 'Surfing']\n",
      "['BabyCrawling', 'BabyCrawling', 'BabyCrawling', 'BabyCrawling', 'BabyCrawling', 'BabyCrawling', 'BabyCrawling', 'BabyCrawling', 'BabyCrawling', 'BabyCrawling', 'BabyCrawling', 'BabyCrawling', 'BabyCrawling', 'BabyCrawling', 'BabyCrawling', 'BabyCrawling', 'BabyCrawling', 'BabyCrawling', 'BabyCrawling', 'BabyCrawling', 'BabyCrawling', 'BabyCrawling', 'BabyCrawling', 'BabyCrawling', 'BabyCrawling', 'BabyCrawling', 'BabyCrawling', 'BabyCrawling', 'BabyCrawling', 'BabyCrawling', 'BabyCrawling', 'BabyCrawling', 'BabyCrawling', 'BabyCrawling', 'BabyCrawling', 'Surfing', 'Surfing', 'Surfing', 'Surfing', 'Surfing', 'Surfing', 'Surfing', 'Surfing', 'Surfing', 'Surfing', 'Surfing', 'Surfing', 'Surfing', 'Surfing', 'Surfing', 'Surfing', 'Surfing', 'Surfing', 'Surfing', 'Surfing', 'Surfing', 'Surfing', 'Surfing', 'Surfing', 'Surfing', 'Surfing', 'Surfing', 'Surfing', 'Surfing']\n"
     ]
    },
    {
     "name": "stderr",
     "output_type": "stream",
     "text": [
      " 31%|█████████████████████████▎                                                       | 65/208 [01:21<02:59,  1.26s/it]"
     ]
    },
    {
     "name": "stdout",
     "output_type": "stream",
     "text": [
      "['BabyCrawling', 'BabyCrawling', 'BabyCrawling', 'BabyCrawling', 'BabyCrawling', 'BabyCrawling', 'BabyCrawling', 'BabyCrawling', 'BabyCrawling', 'BabyCrawling', 'BabyCrawling', 'BabyCrawling', 'BabyCrawling', 'BabyCrawling', 'BabyCrawling', 'BabyCrawling', 'BabyCrawling', 'BabyCrawling', 'BabyCrawling', 'BabyCrawling', 'BabyCrawling', 'BabyCrawling', 'BabyCrawling', 'BabyCrawling', 'BabyCrawling', 'BabyCrawling', 'BabyCrawling', 'BabyCrawling', 'BabyCrawling', 'BabyCrawling', 'BabyCrawling', 'BabyCrawling', 'BabyCrawling', 'BabyCrawling', 'BabyCrawling', 'Surfing', 'Surfing', 'Surfing', 'Surfing', 'Surfing', 'Surfing', 'Surfing', 'Surfing', 'Surfing', 'Surfing', 'Surfing', 'Surfing', 'Surfing', 'Surfing', 'Surfing', 'Surfing', 'Surfing', 'Surfing', 'Surfing', 'Surfing', 'Surfing', 'Surfing', 'Surfing', 'Surfing', 'Surfing', 'Surfing', 'Surfing', 'Surfing', 'Surfing', 'Surfing']\n",
      "['BabyCrawling', 'BabyCrawling', 'BabyCrawling', 'BabyCrawling', 'BabyCrawling', 'BabyCrawling', 'BabyCrawling', 'BabyCrawling', 'BabyCrawling', 'BabyCrawling', 'BabyCrawling', 'BabyCrawling', 'BabyCrawling', 'BabyCrawling', 'BabyCrawling', 'BabyCrawling', 'BabyCrawling', 'BabyCrawling', 'BabyCrawling', 'BabyCrawling', 'BabyCrawling', 'BabyCrawling', 'BabyCrawling', 'BabyCrawling', 'BabyCrawling', 'BabyCrawling', 'BabyCrawling', 'BabyCrawling', 'BabyCrawling', 'BabyCrawling', 'BabyCrawling', 'BabyCrawling', 'BabyCrawling', 'BabyCrawling', 'BabyCrawling', 'Surfing', 'Surfing', 'Surfing', 'Surfing', 'Surfing', 'Surfing', 'Surfing', 'Surfing', 'Surfing', 'Surfing', 'Surfing', 'Surfing', 'Surfing', 'Surfing', 'Surfing', 'Surfing', 'Surfing', 'Surfing', 'Surfing', 'Surfing', 'Surfing', 'Surfing', 'Surfing', 'Surfing', 'Surfing', 'Surfing', 'Surfing', 'Surfing', 'Surfing', 'Surfing']\n"
     ]
    },
    {
     "name": "stderr",
     "output_type": "stream",
     "text": [
      " 32%|█████████████████████████▋                                                       | 66/208 [01:22<03:03,  1.29s/it]"
     ]
    },
    {
     "name": "stdout",
     "output_type": "stream",
     "text": [
      "['BabyCrawling', 'BabyCrawling', 'BabyCrawling', 'BabyCrawling', 'BabyCrawling', 'BabyCrawling', 'BabyCrawling', 'BabyCrawling', 'BabyCrawling', 'BabyCrawling', 'BabyCrawling', 'BabyCrawling', 'BabyCrawling', 'BabyCrawling', 'BabyCrawling', 'BabyCrawling', 'BabyCrawling', 'BabyCrawling', 'BabyCrawling', 'BabyCrawling', 'BabyCrawling', 'BabyCrawling', 'BabyCrawling', 'BabyCrawling', 'BabyCrawling', 'BabyCrawling', 'BabyCrawling', 'BabyCrawling', 'BabyCrawling', 'BabyCrawling', 'BabyCrawling', 'BabyCrawling', 'BabyCrawling', 'BabyCrawling', 'BabyCrawling', 'Surfing', 'Surfing', 'Surfing', 'Surfing', 'Surfing', 'Surfing', 'Surfing', 'Surfing', 'Surfing', 'Surfing', 'Surfing', 'Surfing', 'Surfing', 'Surfing', 'Surfing', 'Surfing', 'Surfing', 'Surfing', 'Surfing', 'Surfing', 'Surfing', 'Surfing', 'Surfing', 'Surfing', 'Surfing', 'Surfing', 'Surfing', 'Surfing', 'Surfing', 'Surfing', 'Surfing']\n",
      "['BabyCrawling', 'BabyCrawling', 'BabyCrawling', 'BabyCrawling', 'BabyCrawling', 'BabyCrawling', 'BabyCrawling', 'BabyCrawling', 'BabyCrawling', 'BabyCrawling', 'BabyCrawling', 'BabyCrawling', 'BabyCrawling', 'BabyCrawling', 'BabyCrawling', 'BabyCrawling', 'BabyCrawling', 'BabyCrawling', 'BabyCrawling', 'BabyCrawling', 'BabyCrawling', 'BabyCrawling', 'BabyCrawling', 'BabyCrawling', 'BabyCrawling', 'BabyCrawling', 'BabyCrawling', 'BabyCrawling', 'BabyCrawling', 'BabyCrawling', 'BabyCrawling', 'BabyCrawling', 'BabyCrawling', 'BabyCrawling', 'BabyCrawling', 'Surfing', 'Surfing', 'Surfing', 'Surfing', 'Surfing', 'Surfing', 'Surfing', 'Surfing', 'Surfing', 'Surfing', 'Surfing', 'Surfing', 'Surfing', 'Surfing', 'Surfing', 'Surfing', 'Surfing', 'Surfing', 'Surfing', 'Surfing', 'Surfing', 'Surfing', 'Surfing', 'Surfing', 'Surfing', 'Surfing', 'Surfing', 'Surfing', 'Surfing', 'Surfing', 'Surfing']\n"
     ]
    },
    {
     "name": "stderr",
     "output_type": "stream",
     "text": [
      " 32%|██████████████████████████                                                       | 67/208 [01:23<02:54,  1.24s/it]"
     ]
    },
    {
     "name": "stdout",
     "output_type": "stream",
     "text": [
      "['BabyCrawling', 'BabyCrawling', 'BabyCrawling', 'BabyCrawling', 'BabyCrawling', 'BabyCrawling', 'BabyCrawling', 'BabyCrawling', 'BabyCrawling', 'BabyCrawling', 'BabyCrawling', 'BabyCrawling', 'BabyCrawling', 'BabyCrawling', 'BabyCrawling', 'BabyCrawling', 'BabyCrawling', 'BabyCrawling', 'BabyCrawling', 'BabyCrawling', 'BabyCrawling', 'BabyCrawling', 'BabyCrawling', 'BabyCrawling', 'BabyCrawling', 'BabyCrawling', 'BabyCrawling', 'BabyCrawling', 'BabyCrawling', 'BabyCrawling', 'BabyCrawling', 'BabyCrawling', 'BabyCrawling', 'BabyCrawling', 'BabyCrawling', 'Surfing', 'Surfing', 'Surfing', 'Surfing', 'Surfing', 'Surfing', 'Surfing', 'Surfing', 'Surfing', 'Surfing', 'Surfing', 'Surfing', 'Surfing', 'Surfing', 'Surfing', 'Surfing', 'Surfing', 'Surfing', 'Surfing', 'Surfing', 'Surfing', 'Surfing', 'Surfing', 'Surfing', 'Surfing', 'Surfing', 'Surfing', 'Surfing', 'Surfing', 'Surfing', 'Surfing', 'Surfing']\n",
      "['BabyCrawling', 'BabyCrawling', 'BabyCrawling', 'BabyCrawling', 'BabyCrawling', 'BabyCrawling', 'BabyCrawling', 'BabyCrawling', 'BabyCrawling', 'BabyCrawling', 'BabyCrawling', 'BabyCrawling', 'BabyCrawling', 'BabyCrawling', 'BabyCrawling', 'BabyCrawling', 'BabyCrawling', 'BabyCrawling', 'BabyCrawling', 'BabyCrawling', 'BabyCrawling', 'BabyCrawling', 'BabyCrawling', 'BabyCrawling', 'BabyCrawling', 'BabyCrawling', 'BabyCrawling', 'BabyCrawling', 'BabyCrawling', 'BabyCrawling', 'BabyCrawling', 'BabyCrawling', 'BabyCrawling', 'BabyCrawling', 'BabyCrawling', 'Surfing', 'Surfing', 'Surfing', 'Surfing', 'Surfing', 'Surfing', 'Surfing', 'Surfing', 'Surfing', 'Surfing', 'Surfing', 'Surfing', 'Surfing', 'Surfing', 'Surfing', 'Surfing', 'Surfing', 'Surfing', 'Surfing', 'Surfing', 'Surfing', 'Surfing', 'Surfing', 'Surfing', 'Surfing', 'Surfing', 'Surfing', 'Surfing', 'Surfing', 'Surfing', 'Surfing', 'Surfing']\n"
     ]
    },
    {
     "name": "stderr",
     "output_type": "stream",
     "text": [
      " 33%|██████████████████████████▍                                                      | 68/208 [01:25<02:53,  1.24s/it]"
     ]
    },
    {
     "name": "stdout",
     "output_type": "stream",
     "text": [
      "['BabyCrawling', 'BabyCrawling', 'BabyCrawling', 'BabyCrawling', 'BabyCrawling', 'BabyCrawling', 'BabyCrawling', 'BabyCrawling', 'BabyCrawling', 'BabyCrawling', 'BabyCrawling', 'BabyCrawling', 'BabyCrawling', 'BabyCrawling', 'BabyCrawling', 'BabyCrawling', 'BabyCrawling', 'BabyCrawling', 'BabyCrawling', 'BabyCrawling', 'BabyCrawling', 'BabyCrawling', 'BabyCrawling', 'BabyCrawling', 'BabyCrawling', 'BabyCrawling', 'BabyCrawling', 'BabyCrawling', 'BabyCrawling', 'BabyCrawling', 'BabyCrawling', 'BabyCrawling', 'BabyCrawling', 'BabyCrawling', 'BabyCrawling', 'Surfing', 'Surfing', 'Surfing', 'Surfing', 'Surfing', 'Surfing', 'Surfing', 'Surfing', 'Surfing', 'Surfing', 'Surfing', 'Surfing', 'Surfing', 'Surfing', 'Surfing', 'Surfing', 'Surfing', 'Surfing', 'Surfing', 'Surfing', 'Surfing', 'Surfing', 'Surfing', 'Surfing', 'Surfing', 'Surfing', 'Surfing', 'Surfing', 'Surfing', 'Surfing', 'Surfing', 'Surfing', 'Surfing']\n",
      "['BabyCrawling', 'BabyCrawling', 'BabyCrawling', 'BabyCrawling', 'BabyCrawling', 'BabyCrawling', 'BabyCrawling', 'BabyCrawling', 'BabyCrawling', 'BabyCrawling', 'BabyCrawling', 'BabyCrawling', 'BabyCrawling', 'BabyCrawling', 'BabyCrawling', 'BabyCrawling', 'BabyCrawling', 'BabyCrawling', 'BabyCrawling', 'BabyCrawling', 'BabyCrawling', 'BabyCrawling', 'BabyCrawling', 'BabyCrawling', 'BabyCrawling', 'BabyCrawling', 'BabyCrawling', 'BabyCrawling', 'BabyCrawling', 'BabyCrawling', 'BabyCrawling', 'BabyCrawling', 'BabyCrawling', 'BabyCrawling', 'BabyCrawling', 'Surfing', 'Surfing', 'Surfing', 'Surfing', 'Surfing', 'Surfing', 'Surfing', 'Surfing', 'Surfing', 'Surfing', 'Surfing', 'Surfing', 'Surfing', 'Surfing', 'Surfing', 'Surfing', 'Surfing', 'Surfing', 'Surfing', 'Surfing', 'Surfing', 'Surfing', 'Surfing', 'Surfing', 'Surfing', 'Surfing', 'Surfing', 'Surfing', 'Surfing', 'Surfing', 'Surfing', 'Surfing', 'Surfing']\n"
     ]
    },
    {
     "name": "stderr",
     "output_type": "stream",
     "text": [
      " 33%|██████████████████████████▊                                                      | 69/208 [01:26<02:44,  1.18s/it]"
     ]
    },
    {
     "name": "stdout",
     "output_type": "stream",
     "text": [
      "['BabyCrawling', 'BabyCrawling', 'BabyCrawling', 'BabyCrawling', 'BabyCrawling', 'BabyCrawling', 'BabyCrawling', 'BabyCrawling', 'BabyCrawling', 'BabyCrawling', 'BabyCrawling', 'BabyCrawling', 'BabyCrawling', 'BabyCrawling', 'BabyCrawling', 'BabyCrawling', 'BabyCrawling', 'BabyCrawling', 'BabyCrawling', 'BabyCrawling', 'BabyCrawling', 'BabyCrawling', 'BabyCrawling', 'BabyCrawling', 'BabyCrawling', 'BabyCrawling', 'BabyCrawling', 'BabyCrawling', 'BabyCrawling', 'BabyCrawling', 'BabyCrawling', 'BabyCrawling', 'BabyCrawling', 'BabyCrawling', 'BabyCrawling', 'Surfing', 'Surfing', 'Surfing', 'Surfing', 'Surfing', 'Surfing', 'Surfing', 'Surfing', 'Surfing', 'Surfing', 'Surfing', 'Surfing', 'Surfing', 'Surfing', 'Surfing', 'Surfing', 'Surfing', 'Surfing', 'Surfing', 'Surfing', 'Surfing', 'Surfing', 'Surfing', 'Surfing', 'Surfing', 'Surfing', 'Surfing', 'Surfing', 'Surfing', 'Surfing', 'Surfing', 'Surfing', 'Surfing', 'Typing']\n",
      "['BabyCrawling', 'BabyCrawling', 'BabyCrawling', 'BabyCrawling', 'BabyCrawling', 'BabyCrawling', 'BabyCrawling', 'BabyCrawling', 'BabyCrawling', 'BabyCrawling', 'BabyCrawling', 'BabyCrawling', 'BabyCrawling', 'BabyCrawling', 'BabyCrawling', 'BabyCrawling', 'BabyCrawling', 'BabyCrawling', 'BabyCrawling', 'BabyCrawling', 'BabyCrawling', 'BabyCrawling', 'BabyCrawling', 'BabyCrawling', 'BabyCrawling', 'BabyCrawling', 'BabyCrawling', 'BabyCrawling', 'BabyCrawling', 'BabyCrawling', 'BabyCrawling', 'BabyCrawling', 'BabyCrawling', 'BabyCrawling', 'BabyCrawling', 'Surfing', 'Surfing', 'Surfing', 'Surfing', 'Surfing', 'Surfing', 'Surfing', 'Surfing', 'Surfing', 'Surfing', 'Surfing', 'Surfing', 'Surfing', 'Surfing', 'Surfing', 'Surfing', 'Surfing', 'Surfing', 'Surfing', 'Surfing', 'Surfing', 'Surfing', 'Surfing', 'Surfing', 'Surfing', 'Surfing', 'Surfing', 'Surfing', 'Surfing', 'Surfing', 'Surfing', 'Surfing', 'Surfing', 'Typing']\n"
     ]
    },
    {
     "name": "stderr",
     "output_type": "stream",
     "text": [
      " 34%|███████████████████████████▎                                                     | 70/208 [01:26<02:27,  1.07s/it]"
     ]
    },
    {
     "name": "stdout",
     "output_type": "stream",
     "text": [
      "['BabyCrawling', 'BabyCrawling', 'BabyCrawling', 'BabyCrawling', 'BabyCrawling', 'BabyCrawling', 'BabyCrawling', 'BabyCrawling', 'BabyCrawling', 'BabyCrawling', 'BabyCrawling', 'BabyCrawling', 'BabyCrawling', 'BabyCrawling', 'BabyCrawling', 'BabyCrawling', 'BabyCrawling', 'BabyCrawling', 'BabyCrawling', 'BabyCrawling', 'BabyCrawling', 'BabyCrawling', 'BabyCrawling', 'BabyCrawling', 'BabyCrawling', 'BabyCrawling', 'BabyCrawling', 'BabyCrawling', 'BabyCrawling', 'BabyCrawling', 'BabyCrawling', 'BabyCrawling', 'BabyCrawling', 'BabyCrawling', 'BabyCrawling', 'Surfing', 'Surfing', 'Surfing', 'Surfing', 'Surfing', 'Surfing', 'Surfing', 'Surfing', 'Surfing', 'Surfing', 'Surfing', 'Surfing', 'Surfing', 'Surfing', 'Surfing', 'Surfing', 'Surfing', 'Surfing', 'Surfing', 'Surfing', 'Surfing', 'Surfing', 'Surfing', 'Surfing', 'Surfing', 'Surfing', 'Surfing', 'Surfing', 'Surfing', 'Surfing', 'Surfing', 'Surfing', 'Surfing', 'Typing', 'Typing']\n",
      "['BabyCrawling', 'BabyCrawling', 'BabyCrawling', 'BabyCrawling', 'BabyCrawling', 'BabyCrawling', 'BabyCrawling', 'BabyCrawling', 'BabyCrawling', 'BabyCrawling', 'BabyCrawling', 'BabyCrawling', 'BabyCrawling', 'BabyCrawling', 'BabyCrawling', 'BabyCrawling', 'BabyCrawling', 'BabyCrawling', 'BabyCrawling', 'BabyCrawling', 'BabyCrawling', 'BabyCrawling', 'BabyCrawling', 'BabyCrawling', 'BabyCrawling', 'BabyCrawling', 'BabyCrawling', 'BabyCrawling', 'BabyCrawling', 'BabyCrawling', 'BabyCrawling', 'BabyCrawling', 'BabyCrawling', 'BabyCrawling', 'BabyCrawling', 'Surfing', 'Surfing', 'Surfing', 'Surfing', 'Surfing', 'Surfing', 'Surfing', 'Surfing', 'Surfing', 'Surfing', 'Surfing', 'Surfing', 'Surfing', 'Surfing', 'Surfing', 'Surfing', 'Surfing', 'Surfing', 'Surfing', 'Surfing', 'Surfing', 'Surfing', 'Surfing', 'Surfing', 'Surfing', 'Surfing', 'Surfing', 'Surfing', 'Surfing', 'Surfing', 'Surfing', 'Surfing', 'Surfing', 'Typing', 'Typing']\n"
     ]
    },
    {
     "name": "stderr",
     "output_type": "stream",
     "text": [
      " 34%|███████████████████████████▋                                                     | 71/208 [01:27<02:21,  1.03s/it]"
     ]
    },
    {
     "name": "stdout",
     "output_type": "stream",
     "text": [
      "['BabyCrawling', 'BabyCrawling', 'BabyCrawling', 'BabyCrawling', 'BabyCrawling', 'BabyCrawling', 'BabyCrawling', 'BabyCrawling', 'BabyCrawling', 'BabyCrawling', 'BabyCrawling', 'BabyCrawling', 'BabyCrawling', 'BabyCrawling', 'BabyCrawling', 'BabyCrawling', 'BabyCrawling', 'BabyCrawling', 'BabyCrawling', 'BabyCrawling', 'BabyCrawling', 'BabyCrawling', 'BabyCrawling', 'BabyCrawling', 'BabyCrawling', 'BabyCrawling', 'BabyCrawling', 'BabyCrawling', 'BabyCrawling', 'BabyCrawling', 'BabyCrawling', 'BabyCrawling', 'BabyCrawling', 'BabyCrawling', 'BabyCrawling', 'Surfing', 'Surfing', 'Surfing', 'Surfing', 'Surfing', 'Surfing', 'Surfing', 'Surfing', 'Surfing', 'Surfing', 'Surfing', 'Surfing', 'Surfing', 'Surfing', 'Surfing', 'Surfing', 'Surfing', 'Surfing', 'Surfing', 'Surfing', 'Surfing', 'Surfing', 'Surfing', 'Surfing', 'Surfing', 'Surfing', 'Surfing', 'Surfing', 'Surfing', 'Surfing', 'Surfing', 'Surfing', 'Surfing', 'Typing', 'Typing', 'Typing']\n",
      "['BabyCrawling', 'BabyCrawling', 'BabyCrawling', 'BabyCrawling', 'BabyCrawling', 'BabyCrawling', 'BabyCrawling', 'BabyCrawling', 'BabyCrawling', 'BabyCrawling', 'BabyCrawling', 'BabyCrawling', 'BabyCrawling', 'BabyCrawling', 'BabyCrawling', 'BabyCrawling', 'BabyCrawling', 'BabyCrawling', 'BabyCrawling', 'BabyCrawling', 'BabyCrawling', 'BabyCrawling', 'BabyCrawling', 'BabyCrawling', 'BabyCrawling', 'BabyCrawling', 'BabyCrawling', 'BabyCrawling', 'BabyCrawling', 'BabyCrawling', 'BabyCrawling', 'BabyCrawling', 'BabyCrawling', 'BabyCrawling', 'BabyCrawling', 'Surfing', 'Surfing', 'Surfing', 'Surfing', 'Surfing', 'Surfing', 'Surfing', 'Surfing', 'Surfing', 'Surfing', 'Surfing', 'Surfing', 'Surfing', 'Surfing', 'Surfing', 'Surfing', 'Surfing', 'Surfing', 'Surfing', 'Surfing', 'Surfing', 'Surfing', 'Surfing', 'Surfing', 'Surfing', 'Surfing', 'Surfing', 'Surfing', 'Surfing', 'Surfing', 'Surfing', 'Surfing', 'Surfing', 'Typing', 'Typing', 'Typing']\n"
     ]
    },
    {
     "name": "stderr",
     "output_type": "stream",
     "text": [
      " 35%|████████████████████████████                                                     | 72/208 [01:28<02:22,  1.05s/it]"
     ]
    },
    {
     "name": "stdout",
     "output_type": "stream",
     "text": [
      "['BabyCrawling', 'BabyCrawling', 'BabyCrawling', 'BabyCrawling', 'BabyCrawling', 'BabyCrawling', 'BabyCrawling', 'BabyCrawling', 'BabyCrawling', 'BabyCrawling', 'BabyCrawling', 'BabyCrawling', 'BabyCrawling', 'BabyCrawling', 'BabyCrawling', 'BabyCrawling', 'BabyCrawling', 'BabyCrawling', 'BabyCrawling', 'BabyCrawling', 'BabyCrawling', 'BabyCrawling', 'BabyCrawling', 'BabyCrawling', 'BabyCrawling', 'BabyCrawling', 'BabyCrawling', 'BabyCrawling', 'BabyCrawling', 'BabyCrawling', 'BabyCrawling', 'BabyCrawling', 'BabyCrawling', 'BabyCrawling', 'BabyCrawling', 'Surfing', 'Surfing', 'Surfing', 'Surfing', 'Surfing', 'Surfing', 'Surfing', 'Surfing', 'Surfing', 'Surfing', 'Surfing', 'Surfing', 'Surfing', 'Surfing', 'Surfing', 'Surfing', 'Surfing', 'Surfing', 'Surfing', 'Surfing', 'Surfing', 'Surfing', 'Surfing', 'Surfing', 'Surfing', 'Surfing', 'Surfing', 'Surfing', 'Surfing', 'Surfing', 'Surfing', 'Surfing', 'Surfing', 'Typing', 'Typing', 'Typing', 'Typing']\n",
      "['BabyCrawling', 'BabyCrawling', 'BabyCrawling', 'BabyCrawling', 'BabyCrawling', 'BabyCrawling', 'BabyCrawling', 'BabyCrawling', 'BabyCrawling', 'BabyCrawling', 'BabyCrawling', 'BabyCrawling', 'BabyCrawling', 'BabyCrawling', 'BabyCrawling', 'BabyCrawling', 'BabyCrawling', 'BabyCrawling', 'BabyCrawling', 'BabyCrawling', 'BabyCrawling', 'BabyCrawling', 'BabyCrawling', 'BabyCrawling', 'BabyCrawling', 'BabyCrawling', 'BabyCrawling', 'BabyCrawling', 'BabyCrawling', 'BabyCrawling', 'BabyCrawling', 'BabyCrawling', 'BabyCrawling', 'BabyCrawling', 'BabyCrawling', 'Surfing', 'Surfing', 'Surfing', 'Surfing', 'Surfing', 'Surfing', 'Surfing', 'Surfing', 'Surfing', 'Surfing', 'Surfing', 'Surfing', 'Surfing', 'Surfing', 'Surfing', 'Surfing', 'Surfing', 'Surfing', 'Surfing', 'Surfing', 'Surfing', 'Surfing', 'Surfing', 'Surfing', 'Surfing', 'Surfing', 'Surfing', 'Surfing', 'Surfing', 'Surfing', 'Surfing', 'Surfing', 'Surfing', 'Typing', 'Typing', 'Typing', 'Typing']\n"
     ]
    },
    {
     "name": "stderr",
     "output_type": "stream",
     "text": [
      " 35%|████████████████████████████▍                                                    | 73/208 [01:29<02:11,  1.03it/s]"
     ]
    },
    {
     "name": "stdout",
     "output_type": "stream",
     "text": [
      "['BabyCrawling', 'BabyCrawling', 'BabyCrawling', 'BabyCrawling', 'BabyCrawling', 'BabyCrawling', 'BabyCrawling', 'BabyCrawling', 'BabyCrawling', 'BabyCrawling', 'BabyCrawling', 'BabyCrawling', 'BabyCrawling', 'BabyCrawling', 'BabyCrawling', 'BabyCrawling', 'BabyCrawling', 'BabyCrawling', 'BabyCrawling', 'BabyCrawling', 'BabyCrawling', 'BabyCrawling', 'BabyCrawling', 'BabyCrawling', 'BabyCrawling', 'BabyCrawling', 'BabyCrawling', 'BabyCrawling', 'BabyCrawling', 'BabyCrawling', 'BabyCrawling', 'BabyCrawling', 'BabyCrawling', 'BabyCrawling', 'BabyCrawling', 'Surfing', 'Surfing', 'Surfing', 'Surfing', 'Surfing', 'Surfing', 'Surfing', 'Surfing', 'Surfing', 'Surfing', 'Surfing', 'Surfing', 'Surfing', 'Surfing', 'Surfing', 'Surfing', 'Surfing', 'Surfing', 'Surfing', 'Surfing', 'Surfing', 'Surfing', 'Surfing', 'Surfing', 'Surfing', 'Surfing', 'Surfing', 'Surfing', 'Surfing', 'Surfing', 'Surfing', 'Surfing', 'Surfing', 'Typing', 'Typing', 'Typing', 'Typing', 'Typing']\n",
      "['BabyCrawling', 'BabyCrawling', 'BabyCrawling', 'BabyCrawling', 'BabyCrawling', 'BabyCrawling', 'BabyCrawling', 'BabyCrawling', 'BabyCrawling', 'BabyCrawling', 'BabyCrawling', 'BabyCrawling', 'BabyCrawling', 'BabyCrawling', 'BabyCrawling', 'BabyCrawling', 'BabyCrawling', 'BabyCrawling', 'BabyCrawling', 'BabyCrawling', 'BabyCrawling', 'BabyCrawling', 'BabyCrawling', 'BabyCrawling', 'BabyCrawling', 'BabyCrawling', 'BabyCrawling', 'BabyCrawling', 'BabyCrawling', 'BabyCrawling', 'BabyCrawling', 'BabyCrawling', 'BabyCrawling', 'BabyCrawling', 'BabyCrawling', 'Surfing', 'Surfing', 'Surfing', 'Surfing', 'Surfing', 'Surfing', 'Surfing', 'Surfing', 'Surfing', 'Surfing', 'Surfing', 'Surfing', 'Surfing', 'Surfing', 'Surfing', 'Surfing', 'Surfing', 'Surfing', 'Surfing', 'Surfing', 'Surfing', 'Surfing', 'Surfing', 'Surfing', 'Surfing', 'Surfing', 'Surfing', 'Surfing', 'Surfing', 'Surfing', 'Surfing', 'Surfing', 'Surfing', 'Typing', 'Typing', 'Typing', 'Typing', 'Typing']\n"
     ]
    },
    {
     "name": "stderr",
     "output_type": "stream",
     "text": [
      " 36%|████████████████████████████▊                                                    | 74/208 [01:30<02:08,  1.04it/s]"
     ]
    },
    {
     "name": "stdout",
     "output_type": "stream",
     "text": [
      "['BabyCrawling', 'BabyCrawling', 'BabyCrawling', 'BabyCrawling', 'BabyCrawling', 'BabyCrawling', 'BabyCrawling', 'BabyCrawling', 'BabyCrawling', 'BabyCrawling', 'BabyCrawling', 'BabyCrawling', 'BabyCrawling', 'BabyCrawling', 'BabyCrawling', 'BabyCrawling', 'BabyCrawling', 'BabyCrawling', 'BabyCrawling', 'BabyCrawling', 'BabyCrawling', 'BabyCrawling', 'BabyCrawling', 'BabyCrawling', 'BabyCrawling', 'BabyCrawling', 'BabyCrawling', 'BabyCrawling', 'BabyCrawling', 'BabyCrawling', 'BabyCrawling', 'BabyCrawling', 'BabyCrawling', 'BabyCrawling', 'BabyCrawling', 'Surfing', 'Surfing', 'Surfing', 'Surfing', 'Surfing', 'Surfing', 'Surfing', 'Surfing', 'Surfing', 'Surfing', 'Surfing', 'Surfing', 'Surfing', 'Surfing', 'Surfing', 'Surfing', 'Surfing', 'Surfing', 'Surfing', 'Surfing', 'Surfing', 'Surfing', 'Surfing', 'Surfing', 'Surfing', 'Surfing', 'Surfing', 'Surfing', 'Surfing', 'Surfing', 'Surfing', 'Surfing', 'Surfing', 'Typing', 'Typing', 'Typing', 'Typing', 'Typing', 'Typing']\n",
      "['BabyCrawling', 'BabyCrawling', 'BabyCrawling', 'BabyCrawling', 'BabyCrawling', 'BabyCrawling', 'BabyCrawling', 'BabyCrawling', 'BabyCrawling', 'BabyCrawling', 'BabyCrawling', 'BabyCrawling', 'BabyCrawling', 'BabyCrawling', 'BabyCrawling', 'BabyCrawling', 'BabyCrawling', 'BabyCrawling', 'BabyCrawling', 'BabyCrawling', 'BabyCrawling', 'BabyCrawling', 'BabyCrawling', 'BabyCrawling', 'BabyCrawling', 'BabyCrawling', 'BabyCrawling', 'BabyCrawling', 'BabyCrawling', 'BabyCrawling', 'BabyCrawling', 'BabyCrawling', 'BabyCrawling', 'BabyCrawling', 'BabyCrawling', 'Surfing', 'Surfing', 'Surfing', 'Surfing', 'Surfing', 'Surfing', 'Surfing', 'Surfing', 'Surfing', 'Surfing', 'Surfing', 'Surfing', 'Surfing', 'Surfing', 'Surfing', 'Surfing', 'Surfing', 'Surfing', 'Surfing', 'Surfing', 'Surfing', 'Surfing', 'Surfing', 'Surfing', 'Surfing', 'Surfing', 'Surfing', 'Surfing', 'Surfing', 'Surfing', 'Surfing', 'Surfing', 'Surfing', 'Typing', 'Typing', 'Typing', 'Typing', 'Typing', 'Typing']\n"
     ]
    },
    {
     "name": "stderr",
     "output_type": "stream",
     "text": [
      " 36%|█████████████████████████████▏                                                   | 75/208 [01:31<02:06,  1.05it/s]"
     ]
    },
    {
     "name": "stdout",
     "output_type": "stream",
     "text": [
      "['BabyCrawling', 'BabyCrawling', 'BabyCrawling', 'BabyCrawling', 'BabyCrawling', 'BabyCrawling', 'BabyCrawling', 'BabyCrawling', 'BabyCrawling', 'BabyCrawling', 'BabyCrawling', 'BabyCrawling', 'BabyCrawling', 'BabyCrawling', 'BabyCrawling', 'BabyCrawling', 'BabyCrawling', 'BabyCrawling', 'BabyCrawling', 'BabyCrawling', 'BabyCrawling', 'BabyCrawling', 'BabyCrawling', 'BabyCrawling', 'BabyCrawling', 'BabyCrawling', 'BabyCrawling', 'BabyCrawling', 'BabyCrawling', 'BabyCrawling', 'BabyCrawling', 'BabyCrawling', 'BabyCrawling', 'BabyCrawling', 'BabyCrawling', 'Surfing', 'Surfing', 'Surfing', 'Surfing', 'Surfing', 'Surfing', 'Surfing', 'Surfing', 'Surfing', 'Surfing', 'Surfing', 'Surfing', 'Surfing', 'Surfing', 'Surfing', 'Surfing', 'Surfing', 'Surfing', 'Surfing', 'Surfing', 'Surfing', 'Surfing', 'Surfing', 'Surfing', 'Surfing', 'Surfing', 'Surfing', 'Surfing', 'Surfing', 'Surfing', 'Surfing', 'Surfing', 'Surfing', 'Typing', 'Typing', 'Typing', 'Typing', 'Typing', 'Typing', 'Typing']\n",
      "['BabyCrawling', 'BabyCrawling', 'BabyCrawling', 'BabyCrawling', 'BabyCrawling', 'BabyCrawling', 'BabyCrawling', 'BabyCrawling', 'BabyCrawling', 'BabyCrawling', 'BabyCrawling', 'BabyCrawling', 'BabyCrawling', 'BabyCrawling', 'BabyCrawling', 'BabyCrawling', 'BabyCrawling', 'BabyCrawling', 'BabyCrawling', 'BabyCrawling', 'BabyCrawling', 'BabyCrawling', 'BabyCrawling', 'BabyCrawling', 'BabyCrawling', 'BabyCrawling', 'BabyCrawling', 'BabyCrawling', 'BabyCrawling', 'BabyCrawling', 'BabyCrawling', 'BabyCrawling', 'BabyCrawling', 'BabyCrawling', 'BabyCrawling', 'Surfing', 'Surfing', 'Surfing', 'Surfing', 'Surfing', 'Surfing', 'Surfing', 'Surfing', 'Surfing', 'Surfing', 'Surfing', 'Surfing', 'Surfing', 'Surfing', 'Surfing', 'Surfing', 'Surfing', 'Surfing', 'Surfing', 'Surfing', 'Surfing', 'Surfing', 'Surfing', 'Surfing', 'Surfing', 'Surfing', 'Surfing', 'Surfing', 'Surfing', 'Surfing', 'Surfing', 'Surfing', 'Surfing', 'Typing', 'Typing', 'Typing', 'Typing', 'Typing', 'Typing', 'Typing']\n"
     ]
    },
    {
     "name": "stderr",
     "output_type": "stream",
     "text": [
      " 37%|█████████████████████████████▌                                                   | 76/208 [01:33<02:22,  1.08s/it]"
     ]
    },
    {
     "name": "stdout",
     "output_type": "stream",
     "text": [
      "['BabyCrawling', 'BabyCrawling', 'BabyCrawling', 'BabyCrawling', 'BabyCrawling', 'BabyCrawling', 'BabyCrawling', 'BabyCrawling', 'BabyCrawling', 'BabyCrawling', 'BabyCrawling', 'BabyCrawling', 'BabyCrawling', 'BabyCrawling', 'BabyCrawling', 'BabyCrawling', 'BabyCrawling', 'BabyCrawling', 'BabyCrawling', 'BabyCrawling', 'BabyCrawling', 'BabyCrawling', 'BabyCrawling', 'BabyCrawling', 'BabyCrawling', 'BabyCrawling', 'BabyCrawling', 'BabyCrawling', 'BabyCrawling', 'BabyCrawling', 'BabyCrawling', 'BabyCrawling', 'BabyCrawling', 'BabyCrawling', 'BabyCrawling', 'Surfing', 'Surfing', 'Surfing', 'Surfing', 'Surfing', 'Surfing', 'Surfing', 'Surfing', 'Surfing', 'Surfing', 'Surfing', 'Surfing', 'Surfing', 'Surfing', 'Surfing', 'Surfing', 'Surfing', 'Surfing', 'Surfing', 'Surfing', 'Surfing', 'Surfing', 'Surfing', 'Surfing', 'Surfing', 'Surfing', 'Surfing', 'Surfing', 'Surfing', 'Surfing', 'Surfing', 'Surfing', 'Surfing', 'Typing', 'Typing', 'Typing', 'Typing', 'Typing', 'Typing', 'Typing', 'Typing']\n",
      "['BabyCrawling', 'BabyCrawling', 'BabyCrawling', 'BabyCrawling', 'BabyCrawling', 'BabyCrawling', 'BabyCrawling', 'BabyCrawling', 'BabyCrawling', 'BabyCrawling', 'BabyCrawling', 'BabyCrawling', 'BabyCrawling', 'BabyCrawling', 'BabyCrawling', 'BabyCrawling', 'BabyCrawling', 'BabyCrawling', 'BabyCrawling', 'BabyCrawling', 'BabyCrawling', 'BabyCrawling', 'BabyCrawling', 'BabyCrawling', 'BabyCrawling', 'BabyCrawling', 'BabyCrawling', 'BabyCrawling', 'BabyCrawling', 'BabyCrawling', 'BabyCrawling', 'BabyCrawling', 'BabyCrawling', 'BabyCrawling', 'BabyCrawling', 'Surfing', 'Surfing', 'Surfing', 'Surfing', 'Surfing', 'Surfing', 'Surfing', 'Surfing', 'Surfing', 'Surfing', 'Surfing', 'Surfing', 'Surfing', 'Surfing', 'Surfing', 'Surfing', 'Surfing', 'Surfing', 'Surfing', 'Surfing', 'Surfing', 'Surfing', 'Surfing', 'Surfing', 'Surfing', 'Surfing', 'Surfing', 'Surfing', 'Surfing', 'Surfing', 'Surfing', 'Surfing', 'Surfing', 'Typing', 'Typing', 'Typing', 'Typing', 'Typing', 'Typing', 'Typing', 'Typing']\n"
     ]
    },
    {
     "name": "stderr",
     "output_type": "stream",
     "text": [
      " 37%|█████████████████████████████▉                                                   | 77/208 [01:34<02:33,  1.17s/it]"
     ]
    },
    {
     "name": "stdout",
     "output_type": "stream",
     "text": [
      "['BabyCrawling', 'BabyCrawling', 'BabyCrawling', 'BabyCrawling', 'BabyCrawling', 'BabyCrawling', 'BabyCrawling', 'BabyCrawling', 'BabyCrawling', 'BabyCrawling', 'BabyCrawling', 'BabyCrawling', 'BabyCrawling', 'BabyCrawling', 'BabyCrawling', 'BabyCrawling', 'BabyCrawling', 'BabyCrawling', 'BabyCrawling', 'BabyCrawling', 'BabyCrawling', 'BabyCrawling', 'BabyCrawling', 'BabyCrawling', 'BabyCrawling', 'BabyCrawling', 'BabyCrawling', 'BabyCrawling', 'BabyCrawling', 'BabyCrawling', 'BabyCrawling', 'BabyCrawling', 'BabyCrawling', 'BabyCrawling', 'BabyCrawling', 'Surfing', 'Surfing', 'Surfing', 'Surfing', 'Surfing', 'Surfing', 'Surfing', 'Surfing', 'Surfing', 'Surfing', 'Surfing', 'Surfing', 'Surfing', 'Surfing', 'Surfing', 'Surfing', 'Surfing', 'Surfing', 'Surfing', 'Surfing', 'Surfing', 'Surfing', 'Surfing', 'Surfing', 'Surfing', 'Surfing', 'Surfing', 'Surfing', 'Surfing', 'Surfing', 'Surfing', 'Surfing', 'Surfing', 'Typing', 'Typing', 'Typing', 'Typing', 'Typing', 'Typing', 'Typing', 'Typing', 'Typing']\n",
      "['BabyCrawling', 'BabyCrawling', 'BabyCrawling', 'BabyCrawling', 'BabyCrawling', 'BabyCrawling', 'BabyCrawling', 'BabyCrawling', 'BabyCrawling', 'BabyCrawling', 'BabyCrawling', 'BabyCrawling', 'BabyCrawling', 'BabyCrawling', 'BabyCrawling', 'BabyCrawling', 'BabyCrawling', 'BabyCrawling', 'BabyCrawling', 'BabyCrawling', 'BabyCrawling', 'BabyCrawling', 'BabyCrawling', 'BabyCrawling', 'BabyCrawling', 'BabyCrawling', 'BabyCrawling', 'BabyCrawling', 'BabyCrawling', 'BabyCrawling', 'BabyCrawling', 'BabyCrawling', 'BabyCrawling', 'BabyCrawling', 'BabyCrawling', 'Surfing', 'Surfing', 'Surfing', 'Surfing', 'Surfing', 'Surfing', 'Surfing', 'Surfing', 'Surfing', 'Surfing', 'Surfing', 'Surfing', 'Surfing', 'Surfing', 'Surfing', 'Surfing', 'Surfing', 'Surfing', 'Surfing', 'Surfing', 'Surfing', 'Surfing', 'Surfing', 'Surfing', 'Surfing', 'Surfing', 'Surfing', 'Surfing', 'Surfing', 'Surfing', 'Surfing', 'Surfing', 'Surfing', 'Typing', 'Typing', 'Typing', 'Typing', 'Typing', 'Typing', 'Typing', 'Typing', 'Typing']\n"
     ]
    },
    {
     "name": "stderr",
     "output_type": "stream",
     "text": [
      " 38%|██████████████████████████████▍                                                  | 78/208 [01:35<02:40,  1.24s/it]"
     ]
    },
    {
     "name": "stdout",
     "output_type": "stream",
     "text": [
      "['BabyCrawling', 'BabyCrawling', 'BabyCrawling', 'BabyCrawling', 'BabyCrawling', 'BabyCrawling', 'BabyCrawling', 'BabyCrawling', 'BabyCrawling', 'BabyCrawling', 'BabyCrawling', 'BabyCrawling', 'BabyCrawling', 'BabyCrawling', 'BabyCrawling', 'BabyCrawling', 'BabyCrawling', 'BabyCrawling', 'BabyCrawling', 'BabyCrawling', 'BabyCrawling', 'BabyCrawling', 'BabyCrawling', 'BabyCrawling', 'BabyCrawling', 'BabyCrawling', 'BabyCrawling', 'BabyCrawling', 'BabyCrawling', 'BabyCrawling', 'BabyCrawling', 'BabyCrawling', 'BabyCrawling', 'BabyCrawling', 'BabyCrawling', 'Surfing', 'Surfing', 'Surfing', 'Surfing', 'Surfing', 'Surfing', 'Surfing', 'Surfing', 'Surfing', 'Surfing', 'Surfing', 'Surfing', 'Surfing', 'Surfing', 'Surfing', 'Surfing', 'Surfing', 'Surfing', 'Surfing', 'Surfing', 'Surfing', 'Surfing', 'Surfing', 'Surfing', 'Surfing', 'Surfing', 'Surfing', 'Surfing', 'Surfing', 'Surfing', 'Surfing', 'Surfing', 'Surfing', 'Typing', 'Typing', 'Typing', 'Typing', 'Typing', 'Typing', 'Typing', 'Typing', 'Typing', 'Typing']\n",
      "['BabyCrawling', 'BabyCrawling', 'BabyCrawling', 'BabyCrawling', 'BabyCrawling', 'BabyCrawling', 'BabyCrawling', 'BabyCrawling', 'BabyCrawling', 'BabyCrawling', 'BabyCrawling', 'BabyCrawling', 'BabyCrawling', 'BabyCrawling', 'BabyCrawling', 'BabyCrawling', 'BabyCrawling', 'BabyCrawling', 'BabyCrawling', 'BabyCrawling', 'BabyCrawling', 'BabyCrawling', 'BabyCrawling', 'BabyCrawling', 'BabyCrawling', 'BabyCrawling', 'BabyCrawling', 'BabyCrawling', 'BabyCrawling', 'BabyCrawling', 'BabyCrawling', 'BabyCrawling', 'BabyCrawling', 'BabyCrawling', 'BabyCrawling', 'Surfing', 'Surfing', 'Surfing', 'Surfing', 'Surfing', 'Surfing', 'Surfing', 'Surfing', 'Surfing', 'Surfing', 'Surfing', 'Surfing', 'Surfing', 'Surfing', 'Surfing', 'Surfing', 'Surfing', 'Surfing', 'Surfing', 'Surfing', 'Surfing', 'Surfing', 'Surfing', 'Surfing', 'Surfing', 'Surfing', 'Surfing', 'Surfing', 'Surfing', 'Surfing', 'Surfing', 'Surfing', 'Surfing', 'Typing', 'Typing', 'Typing', 'Typing', 'Typing', 'Typing', 'Typing', 'Typing', 'Typing', 'Typing']\n"
     ]
    },
    {
     "name": "stderr",
     "output_type": "stream",
     "text": [
      " 38%|██████████████████████████████▊                                                  | 79/208 [01:37<02:46,  1.29s/it]"
     ]
    },
    {
     "name": "stdout",
     "output_type": "stream",
     "text": [
      "['BabyCrawling', 'BabyCrawling', 'BabyCrawling', 'BabyCrawling', 'BabyCrawling', 'BabyCrawling', 'BabyCrawling', 'BabyCrawling', 'BabyCrawling', 'BabyCrawling', 'BabyCrawling', 'BabyCrawling', 'BabyCrawling', 'BabyCrawling', 'BabyCrawling', 'BabyCrawling', 'BabyCrawling', 'BabyCrawling', 'BabyCrawling', 'BabyCrawling', 'BabyCrawling', 'BabyCrawling', 'BabyCrawling', 'BabyCrawling', 'BabyCrawling', 'BabyCrawling', 'BabyCrawling', 'BabyCrawling', 'BabyCrawling', 'BabyCrawling', 'BabyCrawling', 'BabyCrawling', 'BabyCrawling', 'BabyCrawling', 'BabyCrawling', 'Surfing', 'Surfing', 'Surfing', 'Surfing', 'Surfing', 'Surfing', 'Surfing', 'Surfing', 'Surfing', 'Surfing', 'Surfing', 'Surfing', 'Surfing', 'Surfing', 'Surfing', 'Surfing', 'Surfing', 'Surfing', 'Surfing', 'Surfing', 'Surfing', 'Surfing', 'Surfing', 'Surfing', 'Surfing', 'Surfing', 'Surfing', 'Surfing', 'Surfing', 'Surfing', 'Surfing', 'Surfing', 'Surfing', 'Typing', 'Typing', 'Typing', 'Typing', 'Typing', 'Typing', 'Typing', 'Typing', 'Typing', 'Typing', 'Typing']\n",
      "['BabyCrawling', 'BabyCrawling', 'BabyCrawling', 'BabyCrawling', 'BabyCrawling', 'BabyCrawling', 'BabyCrawling', 'BabyCrawling', 'BabyCrawling', 'BabyCrawling', 'BabyCrawling', 'BabyCrawling', 'BabyCrawling', 'BabyCrawling', 'BabyCrawling', 'BabyCrawling', 'BabyCrawling', 'BabyCrawling', 'BabyCrawling', 'BabyCrawling', 'BabyCrawling', 'BabyCrawling', 'BabyCrawling', 'BabyCrawling', 'BabyCrawling', 'BabyCrawling', 'BabyCrawling', 'BabyCrawling', 'BabyCrawling', 'BabyCrawling', 'BabyCrawling', 'BabyCrawling', 'BabyCrawling', 'BabyCrawling', 'BabyCrawling', 'Surfing', 'Surfing', 'Surfing', 'Surfing', 'Surfing', 'Surfing', 'Surfing', 'Surfing', 'Surfing', 'Surfing', 'Surfing', 'Surfing', 'Surfing', 'Surfing', 'Surfing', 'Surfing', 'Surfing', 'Surfing', 'Surfing', 'Surfing', 'Surfing', 'Surfing', 'Surfing', 'Surfing', 'Surfing', 'Surfing', 'Surfing', 'Surfing', 'Surfing', 'Surfing', 'Surfing', 'Surfing', 'Surfing', 'Typing', 'Typing', 'Typing', 'Typing', 'Typing', 'Typing', 'Typing', 'Typing', 'Typing', 'Typing', 'Typing']\n"
     ]
    },
    {
     "name": "stderr",
     "output_type": "stream",
     "text": [
      " 38%|███████████████████████████████▏                                                 | 80/208 [01:38<02:50,  1.33s/it]"
     ]
    },
    {
     "name": "stdout",
     "output_type": "stream",
     "text": [
      "['BabyCrawling', 'BabyCrawling', 'BabyCrawling', 'BabyCrawling', 'BabyCrawling', 'BabyCrawling', 'BabyCrawling', 'BabyCrawling', 'BabyCrawling', 'BabyCrawling', 'BabyCrawling', 'BabyCrawling', 'BabyCrawling', 'BabyCrawling', 'BabyCrawling', 'BabyCrawling', 'BabyCrawling', 'BabyCrawling', 'BabyCrawling', 'BabyCrawling', 'BabyCrawling', 'BabyCrawling', 'BabyCrawling', 'BabyCrawling', 'BabyCrawling', 'BabyCrawling', 'BabyCrawling', 'BabyCrawling', 'BabyCrawling', 'BabyCrawling', 'BabyCrawling', 'BabyCrawling', 'BabyCrawling', 'BabyCrawling', 'BabyCrawling', 'Surfing', 'Surfing', 'Surfing', 'Surfing', 'Surfing', 'Surfing', 'Surfing', 'Surfing', 'Surfing', 'Surfing', 'Surfing', 'Surfing', 'Surfing', 'Surfing', 'Surfing', 'Surfing', 'Surfing', 'Surfing', 'Surfing', 'Surfing', 'Surfing', 'Surfing', 'Surfing', 'Surfing', 'Surfing', 'Surfing', 'Surfing', 'Surfing', 'Surfing', 'Surfing', 'Surfing', 'Surfing', 'Surfing', 'Typing', 'Typing', 'Typing', 'Typing', 'Typing', 'Typing', 'Typing', 'Typing', 'Typing', 'Typing', 'Typing', 'Typing']\n",
      "['BabyCrawling', 'BabyCrawling', 'BabyCrawling', 'BabyCrawling', 'BabyCrawling', 'BabyCrawling', 'BabyCrawling', 'BabyCrawling', 'BabyCrawling', 'BabyCrawling', 'BabyCrawling', 'BabyCrawling', 'BabyCrawling', 'BabyCrawling', 'BabyCrawling', 'BabyCrawling', 'BabyCrawling', 'BabyCrawling', 'BabyCrawling', 'BabyCrawling', 'BabyCrawling', 'BabyCrawling', 'BabyCrawling', 'BabyCrawling', 'BabyCrawling', 'BabyCrawling', 'BabyCrawling', 'BabyCrawling', 'BabyCrawling', 'BabyCrawling', 'BabyCrawling', 'BabyCrawling', 'BabyCrawling', 'BabyCrawling', 'BabyCrawling', 'Surfing', 'Surfing', 'Surfing', 'Surfing', 'Surfing', 'Surfing', 'Surfing', 'Surfing', 'Surfing', 'Surfing', 'Surfing', 'Surfing', 'Surfing', 'Surfing', 'Surfing', 'Surfing', 'Surfing', 'Surfing', 'Surfing', 'Surfing', 'Surfing', 'Surfing', 'Surfing', 'Surfing', 'Surfing', 'Surfing', 'Surfing', 'Surfing', 'Surfing', 'Surfing', 'Surfing', 'Surfing', 'Surfing', 'Typing', 'Typing', 'Typing', 'Typing', 'Typing', 'Typing', 'Typing', 'Typing', 'Typing', 'Typing', 'Typing', 'Typing']\n"
     ]
    },
    {
     "name": "stderr",
     "output_type": "stream",
     "text": [
      " 39%|███████████████████████████████▌                                                 | 81/208 [01:40<02:52,  1.36s/it]"
     ]
    },
    {
     "name": "stdout",
     "output_type": "stream",
     "text": [
      "['BabyCrawling', 'BabyCrawling', 'BabyCrawling', 'BabyCrawling', 'BabyCrawling', 'BabyCrawling', 'BabyCrawling', 'BabyCrawling', 'BabyCrawling', 'BabyCrawling', 'BabyCrawling', 'BabyCrawling', 'BabyCrawling', 'BabyCrawling', 'BabyCrawling', 'BabyCrawling', 'BabyCrawling', 'BabyCrawling', 'BabyCrawling', 'BabyCrawling', 'BabyCrawling', 'BabyCrawling', 'BabyCrawling', 'BabyCrawling', 'BabyCrawling', 'BabyCrawling', 'BabyCrawling', 'BabyCrawling', 'BabyCrawling', 'BabyCrawling', 'BabyCrawling', 'BabyCrawling', 'BabyCrawling', 'BabyCrawling', 'BabyCrawling', 'Surfing', 'Surfing', 'Surfing', 'Surfing', 'Surfing', 'Surfing', 'Surfing', 'Surfing', 'Surfing', 'Surfing', 'Surfing', 'Surfing', 'Surfing', 'Surfing', 'Surfing', 'Surfing', 'Surfing', 'Surfing', 'Surfing', 'Surfing', 'Surfing', 'Surfing', 'Surfing', 'Surfing', 'Surfing', 'Surfing', 'Surfing', 'Surfing', 'Surfing', 'Surfing', 'Surfing', 'Surfing', 'Surfing', 'Typing', 'Typing', 'Typing', 'Typing', 'Typing', 'Typing', 'Typing', 'Typing', 'Typing', 'Typing', 'Typing', 'Typing', 'Typing']\n",
      "['BabyCrawling', 'BabyCrawling', 'BabyCrawling', 'BabyCrawling', 'BabyCrawling', 'BabyCrawling', 'BabyCrawling', 'BabyCrawling', 'BabyCrawling', 'BabyCrawling', 'BabyCrawling', 'BabyCrawling', 'BabyCrawling', 'BabyCrawling', 'BabyCrawling', 'BabyCrawling', 'BabyCrawling', 'BabyCrawling', 'BabyCrawling', 'BabyCrawling', 'BabyCrawling', 'BabyCrawling', 'BabyCrawling', 'BabyCrawling', 'BabyCrawling', 'BabyCrawling', 'BabyCrawling', 'BabyCrawling', 'BabyCrawling', 'BabyCrawling', 'BabyCrawling', 'BabyCrawling', 'BabyCrawling', 'BabyCrawling', 'BabyCrawling', 'Surfing', 'Surfing', 'Surfing', 'Surfing', 'Surfing', 'Surfing', 'Surfing', 'Surfing', 'Surfing', 'Surfing', 'Surfing', 'Surfing', 'Surfing', 'Surfing', 'Surfing', 'Surfing', 'Surfing', 'Surfing', 'Surfing', 'Surfing', 'Surfing', 'Surfing', 'Surfing', 'Surfing', 'Surfing', 'Surfing', 'Surfing', 'Surfing', 'Surfing', 'Surfing', 'Surfing', 'Surfing', 'Surfing', 'Typing', 'Typing', 'Typing', 'Typing', 'Typing', 'Typing', 'Typing', 'Typing', 'Typing', 'Typing', 'Typing', 'Typing', 'Typing']\n"
     ]
    },
    {
     "name": "stderr",
     "output_type": "stream",
     "text": [
      " 39%|███████████████████████████████▉                                                 | 82/208 [01:41<02:55,  1.39s/it]"
     ]
    },
    {
     "name": "stdout",
     "output_type": "stream",
     "text": [
      "['BabyCrawling', 'BabyCrawling', 'BabyCrawling', 'BabyCrawling', 'BabyCrawling', 'BabyCrawling', 'BabyCrawling', 'BabyCrawling', 'BabyCrawling', 'BabyCrawling', 'BabyCrawling', 'BabyCrawling', 'BabyCrawling', 'BabyCrawling', 'BabyCrawling', 'BabyCrawling', 'BabyCrawling', 'BabyCrawling', 'BabyCrawling', 'BabyCrawling', 'BabyCrawling', 'BabyCrawling', 'BabyCrawling', 'BabyCrawling', 'BabyCrawling', 'BabyCrawling', 'BabyCrawling', 'BabyCrawling', 'BabyCrawling', 'BabyCrawling', 'BabyCrawling', 'BabyCrawling', 'BabyCrawling', 'BabyCrawling', 'BabyCrawling', 'Surfing', 'Surfing', 'Surfing', 'Surfing', 'Surfing', 'Surfing', 'Surfing', 'Surfing', 'Surfing', 'Surfing', 'Surfing', 'Surfing', 'Surfing', 'Surfing', 'Surfing', 'Surfing', 'Surfing', 'Surfing', 'Surfing', 'Surfing', 'Surfing', 'Surfing', 'Surfing', 'Surfing', 'Surfing', 'Surfing', 'Surfing', 'Surfing', 'Surfing', 'Surfing', 'Surfing', 'Surfing', 'Surfing', 'Typing', 'Typing', 'Typing', 'Typing', 'Typing', 'Typing', 'Typing', 'Typing', 'Typing', 'Typing', 'Typing', 'Typing', 'Typing', 'Typing']\n",
      "['BabyCrawling', 'BabyCrawling', 'BabyCrawling', 'BabyCrawling', 'BabyCrawling', 'BabyCrawling', 'BabyCrawling', 'BabyCrawling', 'BabyCrawling', 'BabyCrawling', 'BabyCrawling', 'BabyCrawling', 'BabyCrawling', 'BabyCrawling', 'BabyCrawling', 'BabyCrawling', 'BabyCrawling', 'BabyCrawling', 'BabyCrawling', 'BabyCrawling', 'BabyCrawling', 'BabyCrawling', 'BabyCrawling', 'BabyCrawling', 'BabyCrawling', 'BabyCrawling', 'BabyCrawling', 'BabyCrawling', 'BabyCrawling', 'BabyCrawling', 'BabyCrawling', 'BabyCrawling', 'BabyCrawling', 'BabyCrawling', 'BabyCrawling', 'Surfing', 'Surfing', 'Surfing', 'Surfing', 'Surfing', 'Surfing', 'Surfing', 'Surfing', 'Surfing', 'Surfing', 'Surfing', 'Surfing', 'Surfing', 'Surfing', 'Surfing', 'Surfing', 'Surfing', 'Surfing', 'Surfing', 'Surfing', 'Surfing', 'Surfing', 'Surfing', 'Surfing', 'Surfing', 'Surfing', 'Surfing', 'Surfing', 'Surfing', 'Surfing', 'Surfing', 'Surfing', 'Surfing', 'Typing', 'Typing', 'Typing', 'Typing', 'Typing', 'Typing', 'Typing', 'Typing', 'Typing', 'Typing', 'Typing', 'Typing', 'Typing', 'Typing']\n"
     ]
    },
    {
     "name": "stderr",
     "output_type": "stream",
     "text": [
      " 40%|████████████████████████████████▎                                                | 83/208 [01:42<02:56,  1.41s/it]"
     ]
    },
    {
     "name": "stdout",
     "output_type": "stream",
     "text": [
      "['BabyCrawling', 'BabyCrawling', 'BabyCrawling', 'BabyCrawling', 'BabyCrawling', 'BabyCrawling', 'BabyCrawling', 'BabyCrawling', 'BabyCrawling', 'BabyCrawling', 'BabyCrawling', 'BabyCrawling', 'BabyCrawling', 'BabyCrawling', 'BabyCrawling', 'BabyCrawling', 'BabyCrawling', 'BabyCrawling', 'BabyCrawling', 'BabyCrawling', 'BabyCrawling', 'BabyCrawling', 'BabyCrawling', 'BabyCrawling', 'BabyCrawling', 'BabyCrawling', 'BabyCrawling', 'BabyCrawling', 'BabyCrawling', 'BabyCrawling', 'BabyCrawling', 'BabyCrawling', 'BabyCrawling', 'BabyCrawling', 'BabyCrawling', 'Surfing', 'Surfing', 'Surfing', 'Surfing', 'Surfing', 'Surfing', 'Surfing', 'Surfing', 'Surfing', 'Surfing', 'Surfing', 'Surfing', 'Surfing', 'Surfing', 'Surfing', 'Surfing', 'Surfing', 'Surfing', 'Surfing', 'Surfing', 'Surfing', 'Surfing', 'Surfing', 'Surfing', 'Surfing', 'Surfing', 'Surfing', 'Surfing', 'Surfing', 'Surfing', 'Surfing', 'Surfing', 'Surfing', 'Typing', 'Typing', 'Typing', 'Typing', 'Typing', 'Typing', 'Typing', 'Typing', 'Typing', 'Typing', 'Typing', 'Typing', 'Typing', 'Typing', 'Typing']\n",
      "['BabyCrawling', 'BabyCrawling', 'BabyCrawling', 'BabyCrawling', 'BabyCrawling', 'BabyCrawling', 'BabyCrawling', 'BabyCrawling', 'BabyCrawling', 'BabyCrawling', 'BabyCrawling', 'BabyCrawling', 'BabyCrawling', 'BabyCrawling', 'BabyCrawling', 'BabyCrawling', 'BabyCrawling', 'BabyCrawling', 'BabyCrawling', 'BabyCrawling', 'BabyCrawling', 'BabyCrawling', 'BabyCrawling', 'BabyCrawling', 'BabyCrawling', 'BabyCrawling', 'BabyCrawling', 'BabyCrawling', 'BabyCrawling', 'BabyCrawling', 'BabyCrawling', 'BabyCrawling', 'BabyCrawling', 'BabyCrawling', 'BabyCrawling', 'Surfing', 'Surfing', 'Surfing', 'Surfing', 'Surfing', 'Surfing', 'Surfing', 'Surfing', 'Surfing', 'Surfing', 'Surfing', 'Surfing', 'Surfing', 'Surfing', 'Surfing', 'Surfing', 'Surfing', 'Surfing', 'Surfing', 'Surfing', 'Surfing', 'Surfing', 'Surfing', 'Surfing', 'Surfing', 'Surfing', 'Surfing', 'Surfing', 'Surfing', 'Surfing', 'Surfing', 'Surfing', 'Surfing', 'Typing', 'Typing', 'Typing', 'Typing', 'Typing', 'Typing', 'Typing', 'Typing', 'Typing', 'Typing', 'Typing', 'Typing', 'Typing', 'Typing', 'Typing']\n"
     ]
    },
    {
     "name": "stderr",
     "output_type": "stream",
     "text": [
      " 40%|████████████████████████████████▋                                                | 84/208 [01:44<02:58,  1.44s/it]"
     ]
    },
    {
     "name": "stdout",
     "output_type": "stream",
     "text": [
      "['BabyCrawling', 'BabyCrawling', 'BabyCrawling', 'BabyCrawling', 'BabyCrawling', 'BabyCrawling', 'BabyCrawling', 'BabyCrawling', 'BabyCrawling', 'BabyCrawling', 'BabyCrawling', 'BabyCrawling', 'BabyCrawling', 'BabyCrawling', 'BabyCrawling', 'BabyCrawling', 'BabyCrawling', 'BabyCrawling', 'BabyCrawling', 'BabyCrawling', 'BabyCrawling', 'BabyCrawling', 'BabyCrawling', 'BabyCrawling', 'BabyCrawling', 'BabyCrawling', 'BabyCrawling', 'BabyCrawling', 'BabyCrawling', 'BabyCrawling', 'BabyCrawling', 'BabyCrawling', 'BabyCrawling', 'BabyCrawling', 'BabyCrawling', 'Surfing', 'Surfing', 'Surfing', 'Surfing', 'Surfing', 'Surfing', 'Surfing', 'Surfing', 'Surfing', 'Surfing', 'Surfing', 'Surfing', 'Surfing', 'Surfing', 'Surfing', 'Surfing', 'Surfing', 'Surfing', 'Surfing', 'Surfing', 'Surfing', 'Surfing', 'Surfing', 'Surfing', 'Surfing', 'Surfing', 'Surfing', 'Surfing', 'Surfing', 'Surfing', 'Surfing', 'Surfing', 'Surfing', 'Typing', 'Typing', 'Typing', 'Typing', 'Typing', 'Typing', 'Typing', 'Typing', 'Typing', 'Typing', 'Typing', 'Typing', 'Typing', 'Typing', 'Typing', 'Typing']\n",
      "['BabyCrawling', 'BabyCrawling', 'BabyCrawling', 'BabyCrawling', 'BabyCrawling', 'BabyCrawling', 'BabyCrawling', 'BabyCrawling', 'BabyCrawling', 'BabyCrawling', 'BabyCrawling', 'BabyCrawling', 'BabyCrawling', 'BabyCrawling', 'BabyCrawling', 'BabyCrawling', 'BabyCrawling', 'BabyCrawling', 'BabyCrawling', 'BabyCrawling', 'BabyCrawling', 'BabyCrawling', 'BabyCrawling', 'BabyCrawling', 'BabyCrawling', 'BabyCrawling', 'BabyCrawling', 'BabyCrawling', 'BabyCrawling', 'BabyCrawling', 'BabyCrawling', 'BabyCrawling', 'BabyCrawling', 'BabyCrawling', 'BabyCrawling', 'Surfing', 'Surfing', 'Surfing', 'Surfing', 'Surfing', 'Surfing', 'Surfing', 'Surfing', 'Surfing', 'Surfing', 'Surfing', 'Surfing', 'Surfing', 'Surfing', 'Surfing', 'Surfing', 'Surfing', 'Surfing', 'Surfing', 'Surfing', 'Surfing', 'Surfing', 'Surfing', 'Surfing', 'Surfing', 'Surfing', 'Surfing', 'Surfing', 'Surfing', 'Surfing', 'Surfing', 'Surfing', 'Surfing', 'Typing', 'Typing', 'Typing', 'Typing', 'Typing', 'Typing', 'Typing', 'Typing', 'Typing', 'Typing', 'Typing', 'Typing', 'Typing', 'Typing', 'Typing', 'Typing']\n"
     ]
    },
    {
     "name": "stderr",
     "output_type": "stream",
     "text": [
      " 41%|█████████████████████████████████                                                | 85/208 [01:46<03:00,  1.47s/it]"
     ]
    },
    {
     "name": "stdout",
     "output_type": "stream",
     "text": [
      "['BabyCrawling', 'BabyCrawling', 'BabyCrawling', 'BabyCrawling', 'BabyCrawling', 'BabyCrawling', 'BabyCrawling', 'BabyCrawling', 'BabyCrawling', 'BabyCrawling', 'BabyCrawling', 'BabyCrawling', 'BabyCrawling', 'BabyCrawling', 'BabyCrawling', 'BabyCrawling', 'BabyCrawling', 'BabyCrawling', 'BabyCrawling', 'BabyCrawling', 'BabyCrawling', 'BabyCrawling', 'BabyCrawling', 'BabyCrawling', 'BabyCrawling', 'BabyCrawling', 'BabyCrawling', 'BabyCrawling', 'BabyCrawling', 'BabyCrawling', 'BabyCrawling', 'BabyCrawling', 'BabyCrawling', 'BabyCrawling', 'BabyCrawling', 'Surfing', 'Surfing', 'Surfing', 'Surfing', 'Surfing', 'Surfing', 'Surfing', 'Surfing', 'Surfing', 'Surfing', 'Surfing', 'Surfing', 'Surfing', 'Surfing', 'Surfing', 'Surfing', 'Surfing', 'Surfing', 'Surfing', 'Surfing', 'Surfing', 'Surfing', 'Surfing', 'Surfing', 'Surfing', 'Surfing', 'Surfing', 'Surfing', 'Surfing', 'Surfing', 'Surfing', 'Surfing', 'Surfing', 'Typing', 'Typing', 'Typing', 'Typing', 'Typing', 'Typing', 'Typing', 'Typing', 'Typing', 'Typing', 'Typing', 'Typing', 'Typing', 'Typing', 'Typing', 'Typing', 'Typing']\n",
      "['BabyCrawling', 'BabyCrawling', 'BabyCrawling', 'BabyCrawling', 'BabyCrawling', 'BabyCrawling', 'BabyCrawling', 'BabyCrawling', 'BabyCrawling', 'BabyCrawling', 'BabyCrawling', 'BabyCrawling', 'BabyCrawling', 'BabyCrawling', 'BabyCrawling', 'BabyCrawling', 'BabyCrawling', 'BabyCrawling', 'BabyCrawling', 'BabyCrawling', 'BabyCrawling', 'BabyCrawling', 'BabyCrawling', 'BabyCrawling', 'BabyCrawling', 'BabyCrawling', 'BabyCrawling', 'BabyCrawling', 'BabyCrawling', 'BabyCrawling', 'BabyCrawling', 'BabyCrawling', 'BabyCrawling', 'BabyCrawling', 'BabyCrawling', 'Surfing', 'Surfing', 'Surfing', 'Surfing', 'Surfing', 'Surfing', 'Surfing', 'Surfing', 'Surfing', 'Surfing', 'Surfing', 'Surfing', 'Surfing', 'Surfing', 'Surfing', 'Surfing', 'Surfing', 'Surfing', 'Surfing', 'Surfing', 'Surfing', 'Surfing', 'Surfing', 'Surfing', 'Surfing', 'Surfing', 'Surfing', 'Surfing', 'Surfing', 'Surfing', 'Surfing', 'Surfing', 'Surfing', 'Typing', 'Typing', 'Typing', 'Typing', 'Typing', 'Typing', 'Typing', 'Typing', 'Typing', 'Typing', 'Typing', 'Typing', 'Typing', 'Typing', 'Typing', 'Typing', 'Typing']\n"
     ]
    },
    {
     "name": "stderr",
     "output_type": "stream",
     "text": [
      " 41%|█████████████████████████████████▍                                               | 86/208 [01:47<02:58,  1.46s/it]"
     ]
    },
    {
     "name": "stdout",
     "output_type": "stream",
     "text": [
      "['BabyCrawling', 'BabyCrawling', 'BabyCrawling', 'BabyCrawling', 'BabyCrawling', 'BabyCrawling', 'BabyCrawling', 'BabyCrawling', 'BabyCrawling', 'BabyCrawling', 'BabyCrawling', 'BabyCrawling', 'BabyCrawling', 'BabyCrawling', 'BabyCrawling', 'BabyCrawling', 'BabyCrawling', 'BabyCrawling', 'BabyCrawling', 'BabyCrawling', 'BabyCrawling', 'BabyCrawling', 'BabyCrawling', 'BabyCrawling', 'BabyCrawling', 'BabyCrawling', 'BabyCrawling', 'BabyCrawling', 'BabyCrawling', 'BabyCrawling', 'BabyCrawling', 'BabyCrawling', 'BabyCrawling', 'BabyCrawling', 'BabyCrawling', 'Surfing', 'Surfing', 'Surfing', 'Surfing', 'Surfing', 'Surfing', 'Surfing', 'Surfing', 'Surfing', 'Surfing', 'Surfing', 'Surfing', 'Surfing', 'Surfing', 'Surfing', 'Surfing', 'Surfing', 'Surfing', 'Surfing', 'Surfing', 'Surfing', 'Surfing', 'Surfing', 'Surfing', 'Surfing', 'Surfing', 'Surfing', 'Surfing', 'Surfing', 'Surfing', 'Surfing', 'Surfing', 'Surfing', 'Typing', 'Typing', 'Typing', 'Typing', 'Typing', 'Typing', 'Typing', 'Typing', 'Typing', 'Typing', 'Typing', 'Typing', 'Typing', 'Typing', 'Typing', 'Typing', 'Typing', 'Typing']\n",
      "['BabyCrawling', 'BabyCrawling', 'BabyCrawling', 'BabyCrawling', 'BabyCrawling', 'BabyCrawling', 'BabyCrawling', 'BabyCrawling', 'BabyCrawling', 'BabyCrawling', 'BabyCrawling', 'BabyCrawling', 'BabyCrawling', 'BabyCrawling', 'BabyCrawling', 'BabyCrawling', 'BabyCrawling', 'BabyCrawling', 'BabyCrawling', 'BabyCrawling', 'BabyCrawling', 'BabyCrawling', 'BabyCrawling', 'BabyCrawling', 'BabyCrawling', 'BabyCrawling', 'BabyCrawling', 'BabyCrawling', 'BabyCrawling', 'BabyCrawling', 'BabyCrawling', 'BabyCrawling', 'BabyCrawling', 'BabyCrawling', 'BabyCrawling', 'Surfing', 'Surfing', 'Surfing', 'Surfing', 'Surfing', 'Surfing', 'Surfing', 'Surfing', 'Surfing', 'Surfing', 'Surfing', 'Surfing', 'Surfing', 'Surfing', 'Surfing', 'Surfing', 'Surfing', 'Surfing', 'Surfing', 'Surfing', 'Surfing', 'Surfing', 'Surfing', 'Surfing', 'Surfing', 'Surfing', 'Surfing', 'Surfing', 'Surfing', 'Surfing', 'Surfing', 'Surfing', 'Surfing', 'Typing', 'Typing', 'Typing', 'Typing', 'Typing', 'Typing', 'Typing', 'Typing', 'Typing', 'Typing', 'Typing', 'Typing', 'Typing', 'Typing', 'Typing', 'Typing', 'Typing', 'Typing']\n"
     ]
    },
    {
     "name": "stderr",
     "output_type": "stream",
     "text": [
      " 42%|█████████████████████████████████▉                                               | 87/208 [01:49<03:01,  1.50s/it]"
     ]
    },
    {
     "name": "stdout",
     "output_type": "stream",
     "text": [
      "['BabyCrawling', 'BabyCrawling', 'BabyCrawling', 'BabyCrawling', 'BabyCrawling', 'BabyCrawling', 'BabyCrawling', 'BabyCrawling', 'BabyCrawling', 'BabyCrawling', 'BabyCrawling', 'BabyCrawling', 'BabyCrawling', 'BabyCrawling', 'BabyCrawling', 'BabyCrawling', 'BabyCrawling', 'BabyCrawling', 'BabyCrawling', 'BabyCrawling', 'BabyCrawling', 'BabyCrawling', 'BabyCrawling', 'BabyCrawling', 'BabyCrawling', 'BabyCrawling', 'BabyCrawling', 'BabyCrawling', 'BabyCrawling', 'BabyCrawling', 'BabyCrawling', 'BabyCrawling', 'BabyCrawling', 'BabyCrawling', 'BabyCrawling', 'Surfing', 'Surfing', 'Surfing', 'Surfing', 'Surfing', 'Surfing', 'Surfing', 'Surfing', 'Surfing', 'Surfing', 'Surfing', 'Surfing', 'Surfing', 'Surfing', 'Surfing', 'Surfing', 'Surfing', 'Surfing', 'Surfing', 'Surfing', 'Surfing', 'Surfing', 'Surfing', 'Surfing', 'Surfing', 'Surfing', 'Surfing', 'Surfing', 'Surfing', 'Surfing', 'Surfing', 'Surfing', 'Surfing', 'Typing', 'Typing', 'Typing', 'Typing', 'Typing', 'Typing', 'Typing', 'Typing', 'Typing', 'Typing', 'Typing', 'Typing', 'Typing', 'Typing', 'Typing', 'Typing', 'Typing', 'Typing', 'Typing']\n",
      "['BabyCrawling', 'BabyCrawling', 'BabyCrawling', 'BabyCrawling', 'BabyCrawling', 'BabyCrawling', 'BabyCrawling', 'BabyCrawling', 'BabyCrawling', 'BabyCrawling', 'BabyCrawling', 'BabyCrawling', 'BabyCrawling', 'BabyCrawling', 'BabyCrawling', 'BabyCrawling', 'BabyCrawling', 'BabyCrawling', 'BabyCrawling', 'BabyCrawling', 'BabyCrawling', 'BabyCrawling', 'BabyCrawling', 'BabyCrawling', 'BabyCrawling', 'BabyCrawling', 'BabyCrawling', 'BabyCrawling', 'BabyCrawling', 'BabyCrawling', 'BabyCrawling', 'BabyCrawling', 'BabyCrawling', 'BabyCrawling', 'BabyCrawling', 'Surfing', 'Surfing', 'Surfing', 'Surfing', 'Surfing', 'Surfing', 'Surfing', 'Surfing', 'Surfing', 'Surfing', 'Surfing', 'Surfing', 'Surfing', 'Surfing', 'Surfing', 'Surfing', 'Surfing', 'Surfing', 'Surfing', 'Surfing', 'Surfing', 'Surfing', 'Surfing', 'Surfing', 'Surfing', 'Surfing', 'Surfing', 'Surfing', 'Surfing', 'Surfing', 'Surfing', 'Surfing', 'Surfing', 'Typing', 'Typing', 'Typing', 'Typing', 'Typing', 'Typing', 'Typing', 'Typing', 'Typing', 'Typing', 'Typing', 'Typing', 'Typing', 'Typing', 'Typing', 'Typing', 'Typing', 'Typing', 'Typing']\n"
     ]
    },
    {
     "name": "stderr",
     "output_type": "stream",
     "text": [
      " 42%|██████████████████████████████████▎                                              | 88/208 [01:50<02:57,  1.48s/it]"
     ]
    },
    {
     "name": "stdout",
     "output_type": "stream",
     "text": [
      "['BabyCrawling', 'BabyCrawling', 'BabyCrawling', 'BabyCrawling', 'BabyCrawling', 'BabyCrawling', 'BabyCrawling', 'BabyCrawling', 'BabyCrawling', 'BabyCrawling', 'BabyCrawling', 'BabyCrawling', 'BabyCrawling', 'BabyCrawling', 'BabyCrawling', 'BabyCrawling', 'BabyCrawling', 'BabyCrawling', 'BabyCrawling', 'BabyCrawling', 'BabyCrawling', 'BabyCrawling', 'BabyCrawling', 'BabyCrawling', 'BabyCrawling', 'BabyCrawling', 'BabyCrawling', 'BabyCrawling', 'BabyCrawling', 'BabyCrawling', 'BabyCrawling', 'BabyCrawling', 'BabyCrawling', 'BabyCrawling', 'BabyCrawling', 'Surfing', 'Surfing', 'Surfing', 'Surfing', 'Surfing', 'Surfing', 'Surfing', 'Surfing', 'Surfing', 'Surfing', 'Surfing', 'Surfing', 'Surfing', 'Surfing', 'Surfing', 'Surfing', 'Surfing', 'Surfing', 'Surfing', 'Surfing', 'Surfing', 'Surfing', 'Surfing', 'Surfing', 'Surfing', 'Surfing', 'Surfing', 'Surfing', 'Surfing', 'Surfing', 'Surfing', 'Surfing', 'Surfing', 'Typing', 'Typing', 'Typing', 'Typing', 'Typing', 'Typing', 'Typing', 'Typing', 'Typing', 'Typing', 'Typing', 'Typing', 'Typing', 'Typing', 'Typing', 'Typing', 'Typing', 'Typing', 'Typing', 'Typing']\n",
      "['BabyCrawling', 'BabyCrawling', 'BabyCrawling', 'BabyCrawling', 'BabyCrawling', 'BabyCrawling', 'BabyCrawling', 'BabyCrawling', 'BabyCrawling', 'BabyCrawling', 'BabyCrawling', 'BabyCrawling', 'BabyCrawling', 'BabyCrawling', 'BabyCrawling', 'BabyCrawling', 'BabyCrawling', 'BabyCrawling', 'BabyCrawling', 'BabyCrawling', 'BabyCrawling', 'BabyCrawling', 'BabyCrawling', 'BabyCrawling', 'BabyCrawling', 'BabyCrawling', 'BabyCrawling', 'BabyCrawling', 'BabyCrawling', 'BabyCrawling', 'BabyCrawling', 'BabyCrawling', 'BabyCrawling', 'BabyCrawling', 'BabyCrawling', 'Surfing', 'Surfing', 'Surfing', 'Surfing', 'Surfing', 'Surfing', 'Surfing', 'Surfing', 'Surfing', 'Surfing', 'Surfing', 'Surfing', 'Surfing', 'Surfing', 'Surfing', 'Surfing', 'Surfing', 'Surfing', 'Surfing', 'Surfing', 'Surfing', 'Surfing', 'Surfing', 'Surfing', 'Surfing', 'Surfing', 'Surfing', 'Surfing', 'Surfing', 'Surfing', 'Surfing', 'Surfing', 'Surfing', 'Typing', 'Typing', 'Typing', 'Typing', 'Typing', 'Typing', 'Typing', 'Typing', 'Typing', 'Typing', 'Typing', 'Typing', 'Typing', 'Typing', 'Typing', 'Typing', 'Typing', 'Typing', 'Typing', 'Typing']\n"
     ]
    },
    {
     "name": "stderr",
     "output_type": "stream",
     "text": [
      " 43%|██████████████████████████████████▋                                              | 89/208 [01:51<02:54,  1.47s/it]"
     ]
    },
    {
     "name": "stdout",
     "output_type": "stream",
     "text": [
      "['BabyCrawling', 'BabyCrawling', 'BabyCrawling', 'BabyCrawling', 'BabyCrawling', 'BabyCrawling', 'BabyCrawling', 'BabyCrawling', 'BabyCrawling', 'BabyCrawling', 'BabyCrawling', 'BabyCrawling', 'BabyCrawling', 'BabyCrawling', 'BabyCrawling', 'BabyCrawling', 'BabyCrawling', 'BabyCrawling', 'BabyCrawling', 'BabyCrawling', 'BabyCrawling', 'BabyCrawling', 'BabyCrawling', 'BabyCrawling', 'BabyCrawling', 'BabyCrawling', 'BabyCrawling', 'BabyCrawling', 'BabyCrawling', 'BabyCrawling', 'BabyCrawling', 'BabyCrawling', 'BabyCrawling', 'BabyCrawling', 'BabyCrawling', 'Surfing', 'Surfing', 'Surfing', 'Surfing', 'Surfing', 'Surfing', 'Surfing', 'Surfing', 'Surfing', 'Surfing', 'Surfing', 'Surfing', 'Surfing', 'Surfing', 'Surfing', 'Surfing', 'Surfing', 'Surfing', 'Surfing', 'Surfing', 'Surfing', 'Surfing', 'Surfing', 'Surfing', 'Surfing', 'Surfing', 'Surfing', 'Surfing', 'Surfing', 'Surfing', 'Surfing', 'Surfing', 'Surfing', 'Typing', 'Typing', 'Typing', 'Typing', 'Typing', 'Typing', 'Typing', 'Typing', 'Typing', 'Typing', 'Typing', 'Typing', 'Typing', 'Typing', 'Typing', 'Typing', 'Typing', 'Typing', 'Typing', 'Typing', 'Typing']\n",
      "['BabyCrawling', 'BabyCrawling', 'BabyCrawling', 'BabyCrawling', 'BabyCrawling', 'BabyCrawling', 'BabyCrawling', 'BabyCrawling', 'BabyCrawling', 'BabyCrawling', 'BabyCrawling', 'BabyCrawling', 'BabyCrawling', 'BabyCrawling', 'BabyCrawling', 'BabyCrawling', 'BabyCrawling', 'BabyCrawling', 'BabyCrawling', 'BabyCrawling', 'BabyCrawling', 'BabyCrawling', 'BabyCrawling', 'BabyCrawling', 'BabyCrawling', 'BabyCrawling', 'BabyCrawling', 'BabyCrawling', 'BabyCrawling', 'BabyCrawling', 'BabyCrawling', 'BabyCrawling', 'BabyCrawling', 'BabyCrawling', 'BabyCrawling', 'Surfing', 'Surfing', 'Surfing', 'Surfing', 'Surfing', 'Surfing', 'Surfing', 'Surfing', 'Surfing', 'Surfing', 'Surfing', 'Surfing', 'Surfing', 'Surfing', 'Surfing', 'Surfing', 'Surfing', 'Surfing', 'Surfing', 'Surfing', 'Surfing', 'Surfing', 'Surfing', 'Surfing', 'Surfing', 'Surfing', 'Surfing', 'Surfing', 'Surfing', 'Surfing', 'Surfing', 'Surfing', 'Surfing', 'Typing', 'Typing', 'Typing', 'Typing', 'Typing', 'Typing', 'Typing', 'Typing', 'Typing', 'Typing', 'Typing', 'Typing', 'Typing', 'Typing', 'Typing', 'Typing', 'Typing', 'Typing', 'Typing', 'Typing', 'BabyCrawling']\n"
     ]
    },
    {
     "name": "stderr",
     "output_type": "stream",
     "text": [
      " 43%|███████████████████████████████████                                              | 90/208 [01:53<02:41,  1.37s/it]"
     ]
    },
    {
     "name": "stdout",
     "output_type": "stream",
     "text": [
      "['BabyCrawling', 'BabyCrawling', 'BabyCrawling', 'BabyCrawling', 'BabyCrawling', 'BabyCrawling', 'BabyCrawling', 'BabyCrawling', 'BabyCrawling', 'BabyCrawling', 'BabyCrawling', 'BabyCrawling', 'BabyCrawling', 'BabyCrawling', 'BabyCrawling', 'BabyCrawling', 'BabyCrawling', 'BabyCrawling', 'BabyCrawling', 'BabyCrawling', 'BabyCrawling', 'BabyCrawling', 'BabyCrawling', 'BabyCrawling', 'BabyCrawling', 'BabyCrawling', 'BabyCrawling', 'BabyCrawling', 'BabyCrawling', 'BabyCrawling', 'BabyCrawling', 'BabyCrawling', 'BabyCrawling', 'BabyCrawling', 'BabyCrawling', 'Surfing', 'Surfing', 'Surfing', 'Surfing', 'Surfing', 'Surfing', 'Surfing', 'Surfing', 'Surfing', 'Surfing', 'Surfing', 'Surfing', 'Surfing', 'Surfing', 'Surfing', 'Surfing', 'Surfing', 'Surfing', 'Surfing', 'Surfing', 'Surfing', 'Surfing', 'Surfing', 'Surfing', 'Surfing', 'Surfing', 'Surfing', 'Surfing', 'Surfing', 'Surfing', 'Surfing', 'Surfing', 'Surfing', 'Typing', 'Typing', 'Typing', 'Typing', 'Typing', 'Typing', 'Typing', 'Typing', 'Typing', 'Typing', 'Typing', 'Typing', 'Typing', 'Typing', 'Typing', 'Typing', 'Typing', 'Typing', 'Typing', 'Typing', 'Typing', 'Typing']\n",
      "['BabyCrawling', 'BabyCrawling', 'BabyCrawling', 'BabyCrawling', 'BabyCrawling', 'BabyCrawling', 'BabyCrawling', 'BabyCrawling', 'BabyCrawling', 'BabyCrawling', 'BabyCrawling', 'BabyCrawling', 'BabyCrawling', 'BabyCrawling', 'BabyCrawling', 'BabyCrawling', 'BabyCrawling', 'BabyCrawling', 'BabyCrawling', 'BabyCrawling', 'BabyCrawling', 'BabyCrawling', 'BabyCrawling', 'BabyCrawling', 'BabyCrawling', 'BabyCrawling', 'BabyCrawling', 'BabyCrawling', 'BabyCrawling', 'BabyCrawling', 'BabyCrawling', 'BabyCrawling', 'BabyCrawling', 'BabyCrawling', 'BabyCrawling', 'Surfing', 'Surfing', 'Surfing', 'Surfing', 'Surfing', 'Surfing', 'Surfing', 'Surfing', 'Surfing', 'Surfing', 'Surfing', 'Surfing', 'Surfing', 'Surfing', 'Surfing', 'Surfing', 'Surfing', 'Surfing', 'Surfing', 'Surfing', 'Surfing', 'Surfing', 'Surfing', 'Surfing', 'Surfing', 'Surfing', 'Surfing', 'Surfing', 'Surfing', 'Surfing', 'Surfing', 'Surfing', 'Surfing', 'Typing', 'Typing', 'Typing', 'Typing', 'Typing', 'Typing', 'Typing', 'Typing', 'Typing', 'Typing', 'Typing', 'Typing', 'Typing', 'Typing', 'Typing', 'Typing', 'Typing', 'Typing', 'Typing', 'Typing', 'BabyCrawling', 'Knitting']\n"
     ]
    },
    {
     "name": "stderr",
     "output_type": "stream",
     "text": [
      " 44%|███████████████████████████████████▍                                             | 91/208 [01:54<02:24,  1.24s/it]"
     ]
    },
    {
     "name": "stdout",
     "output_type": "stream",
     "text": [
      "['BabyCrawling', 'BabyCrawling', 'BabyCrawling', 'BabyCrawling', 'BabyCrawling', 'BabyCrawling', 'BabyCrawling', 'BabyCrawling', 'BabyCrawling', 'BabyCrawling', 'BabyCrawling', 'BabyCrawling', 'BabyCrawling', 'BabyCrawling', 'BabyCrawling', 'BabyCrawling', 'BabyCrawling', 'BabyCrawling', 'BabyCrawling', 'BabyCrawling', 'BabyCrawling', 'BabyCrawling', 'BabyCrawling', 'BabyCrawling', 'BabyCrawling', 'BabyCrawling', 'BabyCrawling', 'BabyCrawling', 'BabyCrawling', 'BabyCrawling', 'BabyCrawling', 'BabyCrawling', 'BabyCrawling', 'BabyCrawling', 'BabyCrawling', 'Surfing', 'Surfing', 'Surfing', 'Surfing', 'Surfing', 'Surfing', 'Surfing', 'Surfing', 'Surfing', 'Surfing', 'Surfing', 'Surfing', 'Surfing', 'Surfing', 'Surfing', 'Surfing', 'Surfing', 'Surfing', 'Surfing', 'Surfing', 'Surfing', 'Surfing', 'Surfing', 'Surfing', 'Surfing', 'Surfing', 'Surfing', 'Surfing', 'Surfing', 'Surfing', 'Surfing', 'Surfing', 'Surfing', 'Typing', 'Typing', 'Typing', 'Typing', 'Typing', 'Typing', 'Typing', 'Typing', 'Typing', 'Typing', 'Typing', 'Typing', 'Typing', 'Typing', 'Typing', 'Typing', 'Typing', 'Typing', 'Typing', 'Typing', 'Typing', 'Typing', 'Typing']\n",
      "['BabyCrawling', 'BabyCrawling', 'BabyCrawling', 'BabyCrawling', 'BabyCrawling', 'BabyCrawling', 'BabyCrawling', 'BabyCrawling', 'BabyCrawling', 'BabyCrawling', 'BabyCrawling', 'BabyCrawling', 'BabyCrawling', 'BabyCrawling', 'BabyCrawling', 'BabyCrawling', 'BabyCrawling', 'BabyCrawling', 'BabyCrawling', 'BabyCrawling', 'BabyCrawling', 'BabyCrawling', 'BabyCrawling', 'BabyCrawling', 'BabyCrawling', 'BabyCrawling', 'BabyCrawling', 'BabyCrawling', 'BabyCrawling', 'BabyCrawling', 'BabyCrawling', 'BabyCrawling', 'BabyCrawling', 'BabyCrawling', 'BabyCrawling', 'Surfing', 'Surfing', 'Surfing', 'Surfing', 'Surfing', 'Surfing', 'Surfing', 'Surfing', 'Surfing', 'Surfing', 'Surfing', 'Surfing', 'Surfing', 'Surfing', 'Surfing', 'Surfing', 'Surfing', 'Surfing', 'Surfing', 'Surfing', 'Surfing', 'Surfing', 'Surfing', 'Surfing', 'Surfing', 'Surfing', 'Surfing', 'Surfing', 'Surfing', 'Surfing', 'Surfing', 'Surfing', 'Surfing', 'Typing', 'Typing', 'Typing', 'Typing', 'Typing', 'Typing', 'Typing', 'Typing', 'Typing', 'Typing', 'Typing', 'Typing', 'Typing', 'Typing', 'Typing', 'Typing', 'Typing', 'Typing', 'Typing', 'Typing', 'BabyCrawling', 'Knitting', 'Knitting']\n"
     ]
    },
    {
     "name": "stderr",
     "output_type": "stream",
     "text": [
      " 44%|███████████████████████████████████▊                                             | 92/208 [01:55<02:28,  1.28s/it]"
     ]
    },
    {
     "name": "stdout",
     "output_type": "stream",
     "text": [
      "['BabyCrawling', 'BabyCrawling', 'BabyCrawling', 'BabyCrawling', 'BabyCrawling', 'BabyCrawling', 'BabyCrawling', 'BabyCrawling', 'BabyCrawling', 'BabyCrawling', 'BabyCrawling', 'BabyCrawling', 'BabyCrawling', 'BabyCrawling', 'BabyCrawling', 'BabyCrawling', 'BabyCrawling', 'BabyCrawling', 'BabyCrawling', 'BabyCrawling', 'BabyCrawling', 'BabyCrawling', 'BabyCrawling', 'BabyCrawling', 'BabyCrawling', 'BabyCrawling', 'BabyCrawling', 'BabyCrawling', 'BabyCrawling', 'BabyCrawling', 'BabyCrawling', 'BabyCrawling', 'BabyCrawling', 'BabyCrawling', 'BabyCrawling', 'Surfing', 'Surfing', 'Surfing', 'Surfing', 'Surfing', 'Surfing', 'Surfing', 'Surfing', 'Surfing', 'Surfing', 'Surfing', 'Surfing', 'Surfing', 'Surfing', 'Surfing', 'Surfing', 'Surfing', 'Surfing', 'Surfing', 'Surfing', 'Surfing', 'Surfing', 'Surfing', 'Surfing', 'Surfing', 'Surfing', 'Surfing', 'Surfing', 'Surfing', 'Surfing', 'Surfing', 'Surfing', 'Surfing', 'Typing', 'Typing', 'Typing', 'Typing', 'Typing', 'Typing', 'Typing', 'Typing', 'Typing', 'Typing', 'Typing', 'Typing', 'Typing', 'Typing', 'Typing', 'Typing', 'Typing', 'Typing', 'Typing', 'Typing', 'Typing', 'Typing', 'Typing', 'Typing']\n",
      "['BabyCrawling', 'BabyCrawling', 'BabyCrawling', 'BabyCrawling', 'BabyCrawling', 'BabyCrawling', 'BabyCrawling', 'BabyCrawling', 'BabyCrawling', 'BabyCrawling', 'BabyCrawling', 'BabyCrawling', 'BabyCrawling', 'BabyCrawling', 'BabyCrawling', 'BabyCrawling', 'BabyCrawling', 'BabyCrawling', 'BabyCrawling', 'BabyCrawling', 'BabyCrawling', 'BabyCrawling', 'BabyCrawling', 'BabyCrawling', 'BabyCrawling', 'BabyCrawling', 'BabyCrawling', 'BabyCrawling', 'BabyCrawling', 'BabyCrawling', 'BabyCrawling', 'BabyCrawling', 'BabyCrawling', 'BabyCrawling', 'BabyCrawling', 'Surfing', 'Surfing', 'Surfing', 'Surfing', 'Surfing', 'Surfing', 'Surfing', 'Surfing', 'Surfing', 'Surfing', 'Surfing', 'Surfing', 'Surfing', 'Surfing', 'Surfing', 'Surfing', 'Surfing', 'Surfing', 'Surfing', 'Surfing', 'Surfing', 'Surfing', 'Surfing', 'Surfing', 'Surfing', 'Surfing', 'Surfing', 'Surfing', 'Surfing', 'Surfing', 'Surfing', 'Surfing', 'Surfing', 'Typing', 'Typing', 'Typing', 'Typing', 'Typing', 'Typing', 'Typing', 'Typing', 'Typing', 'Typing', 'Typing', 'Typing', 'Typing', 'Typing', 'Typing', 'Typing', 'Typing', 'Typing', 'Typing', 'Typing', 'BabyCrawling', 'Knitting', 'Knitting', 'Knitting']\n"
     ]
    },
    {
     "name": "stderr",
     "output_type": "stream",
     "text": [
      " 45%|████████████████████████████████████▏                                            | 93/208 [01:56<02:32,  1.33s/it]"
     ]
    },
    {
     "name": "stdout",
     "output_type": "stream",
     "text": [
      "['BabyCrawling', 'BabyCrawling', 'BabyCrawling', 'BabyCrawling', 'BabyCrawling', 'BabyCrawling', 'BabyCrawling', 'BabyCrawling', 'BabyCrawling', 'BabyCrawling', 'BabyCrawling', 'BabyCrawling', 'BabyCrawling', 'BabyCrawling', 'BabyCrawling', 'BabyCrawling', 'BabyCrawling', 'BabyCrawling', 'BabyCrawling', 'BabyCrawling', 'BabyCrawling', 'BabyCrawling', 'BabyCrawling', 'BabyCrawling', 'BabyCrawling', 'BabyCrawling', 'BabyCrawling', 'BabyCrawling', 'BabyCrawling', 'BabyCrawling', 'BabyCrawling', 'BabyCrawling', 'BabyCrawling', 'BabyCrawling', 'BabyCrawling', 'Surfing', 'Surfing', 'Surfing', 'Surfing', 'Surfing', 'Surfing', 'Surfing', 'Surfing', 'Surfing', 'Surfing', 'Surfing', 'Surfing', 'Surfing', 'Surfing', 'Surfing', 'Surfing', 'Surfing', 'Surfing', 'Surfing', 'Surfing', 'Surfing', 'Surfing', 'Surfing', 'Surfing', 'Surfing', 'Surfing', 'Surfing', 'Surfing', 'Surfing', 'Surfing', 'Surfing', 'Surfing', 'Surfing', 'Typing', 'Typing', 'Typing', 'Typing', 'Typing', 'Typing', 'Typing', 'Typing', 'Typing', 'Typing', 'Typing', 'Typing', 'Typing', 'Typing', 'Typing', 'Typing', 'Typing', 'Typing', 'Typing', 'Typing', 'Typing', 'Typing', 'Typing', 'Typing', 'Typing']\n",
      "['BabyCrawling', 'BabyCrawling', 'BabyCrawling', 'BabyCrawling', 'BabyCrawling', 'BabyCrawling', 'BabyCrawling', 'BabyCrawling', 'BabyCrawling', 'BabyCrawling', 'BabyCrawling', 'BabyCrawling', 'BabyCrawling', 'BabyCrawling', 'BabyCrawling', 'BabyCrawling', 'BabyCrawling', 'BabyCrawling', 'BabyCrawling', 'BabyCrawling', 'BabyCrawling', 'BabyCrawling', 'BabyCrawling', 'BabyCrawling', 'BabyCrawling', 'BabyCrawling', 'BabyCrawling', 'BabyCrawling', 'BabyCrawling', 'BabyCrawling', 'BabyCrawling', 'BabyCrawling', 'BabyCrawling', 'BabyCrawling', 'BabyCrawling', 'Surfing', 'Surfing', 'Surfing', 'Surfing', 'Surfing', 'Surfing', 'Surfing', 'Surfing', 'Surfing', 'Surfing', 'Surfing', 'Surfing', 'Surfing', 'Surfing', 'Surfing', 'Surfing', 'Surfing', 'Surfing', 'Surfing', 'Surfing', 'Surfing', 'Surfing', 'Surfing', 'Surfing', 'Surfing', 'Surfing', 'Surfing', 'Surfing', 'Surfing', 'Surfing', 'Surfing', 'Surfing', 'Surfing', 'Typing', 'Typing', 'Typing', 'Typing', 'Typing', 'Typing', 'Typing', 'Typing', 'Typing', 'Typing', 'Typing', 'Typing', 'Typing', 'Typing', 'Typing', 'Typing', 'Typing', 'Typing', 'Typing', 'Typing', 'BabyCrawling', 'Knitting', 'Knitting', 'Knitting', 'Typing']\n"
     ]
    },
    {
     "name": "stderr",
     "output_type": "stream",
     "text": [
      " 45%|████████████████████████████████████▌                                            | 94/208 [01:58<02:34,  1.36s/it]"
     ]
    },
    {
     "name": "stdout",
     "output_type": "stream",
     "text": [
      "['BabyCrawling', 'BabyCrawling', 'BabyCrawling', 'BabyCrawling', 'BabyCrawling', 'BabyCrawling', 'BabyCrawling', 'BabyCrawling', 'BabyCrawling', 'BabyCrawling', 'BabyCrawling', 'BabyCrawling', 'BabyCrawling', 'BabyCrawling', 'BabyCrawling', 'BabyCrawling', 'BabyCrawling', 'BabyCrawling', 'BabyCrawling', 'BabyCrawling', 'BabyCrawling', 'BabyCrawling', 'BabyCrawling', 'BabyCrawling', 'BabyCrawling', 'BabyCrawling', 'BabyCrawling', 'BabyCrawling', 'BabyCrawling', 'BabyCrawling', 'BabyCrawling', 'BabyCrawling', 'BabyCrawling', 'BabyCrawling', 'BabyCrawling', 'Surfing', 'Surfing', 'Surfing', 'Surfing', 'Surfing', 'Surfing', 'Surfing', 'Surfing', 'Surfing', 'Surfing', 'Surfing', 'Surfing', 'Surfing', 'Surfing', 'Surfing', 'Surfing', 'Surfing', 'Surfing', 'Surfing', 'Surfing', 'Surfing', 'Surfing', 'Surfing', 'Surfing', 'Surfing', 'Surfing', 'Surfing', 'Surfing', 'Surfing', 'Surfing', 'Surfing', 'Surfing', 'Surfing', 'Typing', 'Typing', 'Typing', 'Typing', 'Typing', 'Typing', 'Typing', 'Typing', 'Typing', 'Typing', 'Typing', 'Typing', 'Typing', 'Typing', 'Typing', 'Typing', 'Typing', 'Typing', 'Typing', 'Typing', 'Typing', 'Typing', 'Typing', 'Typing', 'Typing', 'Typing']\n",
      "['BabyCrawling', 'BabyCrawling', 'BabyCrawling', 'BabyCrawling', 'BabyCrawling', 'BabyCrawling', 'BabyCrawling', 'BabyCrawling', 'BabyCrawling', 'BabyCrawling', 'BabyCrawling', 'BabyCrawling', 'BabyCrawling', 'BabyCrawling', 'BabyCrawling', 'BabyCrawling', 'BabyCrawling', 'BabyCrawling', 'BabyCrawling', 'BabyCrawling', 'BabyCrawling', 'BabyCrawling', 'BabyCrawling', 'BabyCrawling', 'BabyCrawling', 'BabyCrawling', 'BabyCrawling', 'BabyCrawling', 'BabyCrawling', 'BabyCrawling', 'BabyCrawling', 'BabyCrawling', 'BabyCrawling', 'BabyCrawling', 'BabyCrawling', 'Surfing', 'Surfing', 'Surfing', 'Surfing', 'Surfing', 'Surfing', 'Surfing', 'Surfing', 'Surfing', 'Surfing', 'Surfing', 'Surfing', 'Surfing', 'Surfing', 'Surfing', 'Surfing', 'Surfing', 'Surfing', 'Surfing', 'Surfing', 'Surfing', 'Surfing', 'Surfing', 'Surfing', 'Surfing', 'Surfing', 'Surfing', 'Surfing', 'Surfing', 'Surfing', 'Surfing', 'Surfing', 'Surfing', 'Typing', 'Typing', 'Typing', 'Typing', 'Typing', 'Typing', 'Typing', 'Typing', 'Typing', 'Typing', 'Typing', 'Typing', 'Typing', 'Typing', 'Typing', 'Typing', 'Typing', 'Typing', 'Typing', 'Typing', 'BabyCrawling', 'Knitting', 'Knitting', 'Knitting', 'Typing', 'Typing']\n"
     ]
    },
    {
     "name": "stderr",
     "output_type": "stream",
     "text": [
      " 46%|████████████████████████████████████▉                                            | 95/208 [01:59<02:36,  1.38s/it]"
     ]
    },
    {
     "name": "stdout",
     "output_type": "stream",
     "text": [
      "['BabyCrawling', 'BabyCrawling', 'BabyCrawling', 'BabyCrawling', 'BabyCrawling', 'BabyCrawling', 'BabyCrawling', 'BabyCrawling', 'BabyCrawling', 'BabyCrawling', 'BabyCrawling', 'BabyCrawling', 'BabyCrawling', 'BabyCrawling', 'BabyCrawling', 'BabyCrawling', 'BabyCrawling', 'BabyCrawling', 'BabyCrawling', 'BabyCrawling', 'BabyCrawling', 'BabyCrawling', 'BabyCrawling', 'BabyCrawling', 'BabyCrawling', 'BabyCrawling', 'BabyCrawling', 'BabyCrawling', 'BabyCrawling', 'BabyCrawling', 'BabyCrawling', 'BabyCrawling', 'BabyCrawling', 'BabyCrawling', 'BabyCrawling', 'Surfing', 'Surfing', 'Surfing', 'Surfing', 'Surfing', 'Surfing', 'Surfing', 'Surfing', 'Surfing', 'Surfing', 'Surfing', 'Surfing', 'Surfing', 'Surfing', 'Surfing', 'Surfing', 'Surfing', 'Surfing', 'Surfing', 'Surfing', 'Surfing', 'Surfing', 'Surfing', 'Surfing', 'Surfing', 'Surfing', 'Surfing', 'Surfing', 'Surfing', 'Surfing', 'Surfing', 'Surfing', 'Surfing', 'Typing', 'Typing', 'Typing', 'Typing', 'Typing', 'Typing', 'Typing', 'Typing', 'Typing', 'Typing', 'Typing', 'Typing', 'Typing', 'Typing', 'Typing', 'Typing', 'Typing', 'Typing', 'Typing', 'Typing', 'Typing', 'Typing', 'Typing', 'Typing', 'Typing', 'Typing', 'Typing']\n",
      "['BabyCrawling', 'BabyCrawling', 'BabyCrawling', 'BabyCrawling', 'BabyCrawling', 'BabyCrawling', 'BabyCrawling', 'BabyCrawling', 'BabyCrawling', 'BabyCrawling', 'BabyCrawling', 'BabyCrawling', 'BabyCrawling', 'BabyCrawling', 'BabyCrawling', 'BabyCrawling', 'BabyCrawling', 'BabyCrawling', 'BabyCrawling', 'BabyCrawling', 'BabyCrawling', 'BabyCrawling', 'BabyCrawling', 'BabyCrawling', 'BabyCrawling', 'BabyCrawling', 'BabyCrawling', 'BabyCrawling', 'BabyCrawling', 'BabyCrawling', 'BabyCrawling', 'BabyCrawling', 'BabyCrawling', 'BabyCrawling', 'BabyCrawling', 'Surfing', 'Surfing', 'Surfing', 'Surfing', 'Surfing', 'Surfing', 'Surfing', 'Surfing', 'Surfing', 'Surfing', 'Surfing', 'Surfing', 'Surfing', 'Surfing', 'Surfing', 'Surfing', 'Surfing', 'Surfing', 'Surfing', 'Surfing', 'Surfing', 'Surfing', 'Surfing', 'Surfing', 'Surfing', 'Surfing', 'Surfing', 'Surfing', 'Surfing', 'Surfing', 'Surfing', 'Surfing', 'Surfing', 'Typing', 'Typing', 'Typing', 'Typing', 'Typing', 'Typing', 'Typing', 'Typing', 'Typing', 'Typing', 'Typing', 'Typing', 'Typing', 'Typing', 'Typing', 'Typing', 'Typing', 'Typing', 'Typing', 'Typing', 'BabyCrawling', 'Knitting', 'Knitting', 'Knitting', 'Typing', 'Typing', 'Typing']\n"
     ]
    },
    {
     "name": "stderr",
     "output_type": "stream",
     "text": [
      " 46%|█████████████████████████████████████▍                                           | 96/208 [02:01<02:39,  1.42s/it]"
     ]
    },
    {
     "name": "stdout",
     "output_type": "stream",
     "text": [
      "['BabyCrawling', 'BabyCrawling', 'BabyCrawling', 'BabyCrawling', 'BabyCrawling', 'BabyCrawling', 'BabyCrawling', 'BabyCrawling', 'BabyCrawling', 'BabyCrawling', 'BabyCrawling', 'BabyCrawling', 'BabyCrawling', 'BabyCrawling', 'BabyCrawling', 'BabyCrawling', 'BabyCrawling', 'BabyCrawling', 'BabyCrawling', 'BabyCrawling', 'BabyCrawling', 'BabyCrawling', 'BabyCrawling', 'BabyCrawling', 'BabyCrawling', 'BabyCrawling', 'BabyCrawling', 'BabyCrawling', 'BabyCrawling', 'BabyCrawling', 'BabyCrawling', 'BabyCrawling', 'BabyCrawling', 'BabyCrawling', 'BabyCrawling', 'Surfing', 'Surfing', 'Surfing', 'Surfing', 'Surfing', 'Surfing', 'Surfing', 'Surfing', 'Surfing', 'Surfing', 'Surfing', 'Surfing', 'Surfing', 'Surfing', 'Surfing', 'Surfing', 'Surfing', 'Surfing', 'Surfing', 'Surfing', 'Surfing', 'Surfing', 'Surfing', 'Surfing', 'Surfing', 'Surfing', 'Surfing', 'Surfing', 'Surfing', 'Surfing', 'Surfing', 'Surfing', 'Surfing', 'Typing', 'Typing', 'Typing', 'Typing', 'Typing', 'Typing', 'Typing', 'Typing', 'Typing', 'Typing', 'Typing', 'Typing', 'Typing', 'Typing', 'Typing', 'Typing', 'Typing', 'Typing', 'Typing', 'Typing', 'Typing', 'Typing', 'Typing', 'Typing', 'Typing', 'Typing', 'Typing', 'Typing']\n",
      "['BabyCrawling', 'BabyCrawling', 'BabyCrawling', 'BabyCrawling', 'BabyCrawling', 'BabyCrawling', 'BabyCrawling', 'BabyCrawling', 'BabyCrawling', 'BabyCrawling', 'BabyCrawling', 'BabyCrawling', 'BabyCrawling', 'BabyCrawling', 'BabyCrawling', 'BabyCrawling', 'BabyCrawling', 'BabyCrawling', 'BabyCrawling', 'BabyCrawling', 'BabyCrawling', 'BabyCrawling', 'BabyCrawling', 'BabyCrawling', 'BabyCrawling', 'BabyCrawling', 'BabyCrawling', 'BabyCrawling', 'BabyCrawling', 'BabyCrawling', 'BabyCrawling', 'BabyCrawling', 'BabyCrawling', 'BabyCrawling', 'BabyCrawling', 'Surfing', 'Surfing', 'Surfing', 'Surfing', 'Surfing', 'Surfing', 'Surfing', 'Surfing', 'Surfing', 'Surfing', 'Surfing', 'Surfing', 'Surfing', 'Surfing', 'Surfing', 'Surfing', 'Surfing', 'Surfing', 'Surfing', 'Surfing', 'Surfing', 'Surfing', 'Surfing', 'Surfing', 'Surfing', 'Surfing', 'Surfing', 'Surfing', 'Surfing', 'Surfing', 'Surfing', 'Surfing', 'Surfing', 'Typing', 'Typing', 'Typing', 'Typing', 'Typing', 'Typing', 'Typing', 'Typing', 'Typing', 'Typing', 'Typing', 'Typing', 'Typing', 'Typing', 'Typing', 'Typing', 'Typing', 'Typing', 'Typing', 'Typing', 'BabyCrawling', 'Knitting', 'Knitting', 'Knitting', 'Typing', 'Typing', 'Typing', 'Typing']\n"
     ]
    },
    {
     "name": "stderr",
     "output_type": "stream",
     "text": [
      " 47%|█████████████████████████████████████▊                                           | 97/208 [02:02<02:40,  1.45s/it]"
     ]
    },
    {
     "name": "stdout",
     "output_type": "stream",
     "text": [
      "['BabyCrawling', 'BabyCrawling', 'BabyCrawling', 'BabyCrawling', 'BabyCrawling', 'BabyCrawling', 'BabyCrawling', 'BabyCrawling', 'BabyCrawling', 'BabyCrawling', 'BabyCrawling', 'BabyCrawling', 'BabyCrawling', 'BabyCrawling', 'BabyCrawling', 'BabyCrawling', 'BabyCrawling', 'BabyCrawling', 'BabyCrawling', 'BabyCrawling', 'BabyCrawling', 'BabyCrawling', 'BabyCrawling', 'BabyCrawling', 'BabyCrawling', 'BabyCrawling', 'BabyCrawling', 'BabyCrawling', 'BabyCrawling', 'BabyCrawling', 'BabyCrawling', 'BabyCrawling', 'BabyCrawling', 'BabyCrawling', 'BabyCrawling', 'Surfing', 'Surfing', 'Surfing', 'Surfing', 'Surfing', 'Surfing', 'Surfing', 'Surfing', 'Surfing', 'Surfing', 'Surfing', 'Surfing', 'Surfing', 'Surfing', 'Surfing', 'Surfing', 'Surfing', 'Surfing', 'Surfing', 'Surfing', 'Surfing', 'Surfing', 'Surfing', 'Surfing', 'Surfing', 'Surfing', 'Surfing', 'Surfing', 'Surfing', 'Surfing', 'Surfing', 'Surfing', 'Surfing', 'Typing', 'Typing', 'Typing', 'Typing', 'Typing', 'Typing', 'Typing', 'Typing', 'Typing', 'Typing', 'Typing', 'Typing', 'Typing', 'Typing', 'Typing', 'Typing', 'Typing', 'Typing', 'Typing', 'Typing', 'Typing', 'Typing', 'Typing', 'Typing', 'Typing', 'Typing', 'Typing', 'Typing', 'Typing']\n",
      "['BabyCrawling', 'BabyCrawling', 'BabyCrawling', 'BabyCrawling', 'BabyCrawling', 'BabyCrawling', 'BabyCrawling', 'BabyCrawling', 'BabyCrawling', 'BabyCrawling', 'BabyCrawling', 'BabyCrawling', 'BabyCrawling', 'BabyCrawling', 'BabyCrawling', 'BabyCrawling', 'BabyCrawling', 'BabyCrawling', 'BabyCrawling', 'BabyCrawling', 'BabyCrawling', 'BabyCrawling', 'BabyCrawling', 'BabyCrawling', 'BabyCrawling', 'BabyCrawling', 'BabyCrawling', 'BabyCrawling', 'BabyCrawling', 'BabyCrawling', 'BabyCrawling', 'BabyCrawling', 'BabyCrawling', 'BabyCrawling', 'BabyCrawling', 'Surfing', 'Surfing', 'Surfing', 'Surfing', 'Surfing', 'Surfing', 'Surfing', 'Surfing', 'Surfing', 'Surfing', 'Surfing', 'Surfing', 'Surfing', 'Surfing', 'Surfing', 'Surfing', 'Surfing', 'Surfing', 'Surfing', 'Surfing', 'Surfing', 'Surfing', 'Surfing', 'Surfing', 'Surfing', 'Surfing', 'Surfing', 'Surfing', 'Surfing', 'Surfing', 'Surfing', 'Surfing', 'Surfing', 'Typing', 'Typing', 'Typing', 'Typing', 'Typing', 'Typing', 'Typing', 'Typing', 'Typing', 'Typing', 'Typing', 'Typing', 'Typing', 'Typing', 'Typing', 'Typing', 'Typing', 'Typing', 'Typing', 'Typing', 'BabyCrawling', 'Knitting', 'Knitting', 'Knitting', 'Typing', 'Typing', 'Typing', 'Typing', 'Typing']\n"
     ]
    },
    {
     "name": "stderr",
     "output_type": "stream",
     "text": [
      " 47%|██████████████████████████████████████▏                                          | 98/208 [02:04<02:38,  1.44s/it]"
     ]
    },
    {
     "name": "stdout",
     "output_type": "stream",
     "text": [
      "['BabyCrawling', 'BabyCrawling', 'BabyCrawling', 'BabyCrawling', 'BabyCrawling', 'BabyCrawling', 'BabyCrawling', 'BabyCrawling', 'BabyCrawling', 'BabyCrawling', 'BabyCrawling', 'BabyCrawling', 'BabyCrawling', 'BabyCrawling', 'BabyCrawling', 'BabyCrawling', 'BabyCrawling', 'BabyCrawling', 'BabyCrawling', 'BabyCrawling', 'BabyCrawling', 'BabyCrawling', 'BabyCrawling', 'BabyCrawling', 'BabyCrawling', 'BabyCrawling', 'BabyCrawling', 'BabyCrawling', 'BabyCrawling', 'BabyCrawling', 'BabyCrawling', 'BabyCrawling', 'BabyCrawling', 'BabyCrawling', 'BabyCrawling', 'Surfing', 'Surfing', 'Surfing', 'Surfing', 'Surfing', 'Surfing', 'Surfing', 'Surfing', 'Surfing', 'Surfing', 'Surfing', 'Surfing', 'Surfing', 'Surfing', 'Surfing', 'Surfing', 'Surfing', 'Surfing', 'Surfing', 'Surfing', 'Surfing', 'Surfing', 'Surfing', 'Surfing', 'Surfing', 'Surfing', 'Surfing', 'Surfing', 'Surfing', 'Surfing', 'Surfing', 'Surfing', 'Surfing', 'Typing', 'Typing', 'Typing', 'Typing', 'Typing', 'Typing', 'Typing', 'Typing', 'Typing', 'Typing', 'Typing', 'Typing', 'Typing', 'Typing', 'Typing', 'Typing', 'Typing', 'Typing', 'Typing', 'Typing', 'Typing', 'Typing', 'Typing', 'Typing', 'Typing', 'Typing', 'Typing', 'Typing', 'Typing', 'Typing']\n",
      "['BabyCrawling', 'BabyCrawling', 'BabyCrawling', 'BabyCrawling', 'BabyCrawling', 'BabyCrawling', 'BabyCrawling', 'BabyCrawling', 'BabyCrawling', 'BabyCrawling', 'BabyCrawling', 'BabyCrawling', 'BabyCrawling', 'BabyCrawling', 'BabyCrawling', 'BabyCrawling', 'BabyCrawling', 'BabyCrawling', 'BabyCrawling', 'BabyCrawling', 'BabyCrawling', 'BabyCrawling', 'BabyCrawling', 'BabyCrawling', 'BabyCrawling', 'BabyCrawling', 'BabyCrawling', 'BabyCrawling', 'BabyCrawling', 'BabyCrawling', 'BabyCrawling', 'BabyCrawling', 'BabyCrawling', 'BabyCrawling', 'BabyCrawling', 'Surfing', 'Surfing', 'Surfing', 'Surfing', 'Surfing', 'Surfing', 'Surfing', 'Surfing', 'Surfing', 'Surfing', 'Surfing', 'Surfing', 'Surfing', 'Surfing', 'Surfing', 'Surfing', 'Surfing', 'Surfing', 'Surfing', 'Surfing', 'Surfing', 'Surfing', 'Surfing', 'Surfing', 'Surfing', 'Surfing', 'Surfing', 'Surfing', 'Surfing', 'Surfing', 'Surfing', 'Surfing', 'Surfing', 'Typing', 'Typing', 'Typing', 'Typing', 'Typing', 'Typing', 'Typing', 'Typing', 'Typing', 'Typing', 'Typing', 'Typing', 'Typing', 'Typing', 'Typing', 'Typing', 'Typing', 'Typing', 'Typing', 'Typing', 'BabyCrawling', 'Knitting', 'Knitting', 'Knitting', 'Typing', 'Typing', 'Typing', 'Typing', 'Typing', 'Typing']\n"
     ]
    },
    {
     "name": "stderr",
     "output_type": "stream",
     "text": [
      " 48%|██████████████████████████████████████▌                                          | 99/208 [02:05<02:19,  1.28s/it]"
     ]
    },
    {
     "name": "stdout",
     "output_type": "stream",
     "text": [
      "['BabyCrawling', 'BabyCrawling', 'BabyCrawling', 'BabyCrawling', 'BabyCrawling', 'BabyCrawling', 'BabyCrawling', 'BabyCrawling', 'BabyCrawling', 'BabyCrawling', 'BabyCrawling', 'BabyCrawling', 'BabyCrawling', 'BabyCrawling', 'BabyCrawling', 'BabyCrawling', 'BabyCrawling', 'BabyCrawling', 'BabyCrawling', 'BabyCrawling', 'BabyCrawling', 'BabyCrawling', 'BabyCrawling', 'BabyCrawling', 'BabyCrawling', 'BabyCrawling', 'BabyCrawling', 'BabyCrawling', 'BabyCrawling', 'BabyCrawling', 'BabyCrawling', 'BabyCrawling', 'BabyCrawling', 'BabyCrawling', 'BabyCrawling', 'Surfing', 'Surfing', 'Surfing', 'Surfing', 'Surfing', 'Surfing', 'Surfing', 'Surfing', 'Surfing', 'Surfing', 'Surfing', 'Surfing', 'Surfing', 'Surfing', 'Surfing', 'Surfing', 'Surfing', 'Surfing', 'Surfing', 'Surfing', 'Surfing', 'Surfing', 'Surfing', 'Surfing', 'Surfing', 'Surfing', 'Surfing', 'Surfing', 'Surfing', 'Surfing', 'Surfing', 'Surfing', 'Surfing', 'Typing', 'Typing', 'Typing', 'Typing', 'Typing', 'Typing', 'Typing', 'Typing', 'Typing', 'Typing', 'Typing', 'Typing', 'Typing', 'Typing', 'Typing', 'Typing', 'Typing', 'Typing', 'Typing', 'Typing', 'Typing', 'Typing', 'Typing', 'Typing', 'Typing', 'Typing', 'Typing', 'Typing', 'Typing', 'Typing', 'Typing']\n",
      "['BabyCrawling', 'BabyCrawling', 'BabyCrawling', 'BabyCrawling', 'BabyCrawling', 'BabyCrawling', 'BabyCrawling', 'BabyCrawling', 'BabyCrawling', 'BabyCrawling', 'BabyCrawling', 'BabyCrawling', 'BabyCrawling', 'BabyCrawling', 'BabyCrawling', 'BabyCrawling', 'BabyCrawling', 'BabyCrawling', 'BabyCrawling', 'BabyCrawling', 'BabyCrawling', 'BabyCrawling', 'BabyCrawling', 'BabyCrawling', 'BabyCrawling', 'BabyCrawling', 'BabyCrawling', 'BabyCrawling', 'BabyCrawling', 'BabyCrawling', 'BabyCrawling', 'BabyCrawling', 'BabyCrawling', 'BabyCrawling', 'BabyCrawling', 'Surfing', 'Surfing', 'Surfing', 'Surfing', 'Surfing', 'Surfing', 'Surfing', 'Surfing', 'Surfing', 'Surfing', 'Surfing', 'Surfing', 'Surfing', 'Surfing', 'Surfing', 'Surfing', 'Surfing', 'Surfing', 'Surfing', 'Surfing', 'Surfing', 'Surfing', 'Surfing', 'Surfing', 'Surfing', 'Surfing', 'Surfing', 'Surfing', 'Surfing', 'Surfing', 'Surfing', 'Surfing', 'Surfing', 'Typing', 'Typing', 'Typing', 'Typing', 'Typing', 'Typing', 'Typing', 'Typing', 'Typing', 'Typing', 'Typing', 'Typing', 'Typing', 'Typing', 'Typing', 'Typing', 'Typing', 'Typing', 'Typing', 'Typing', 'BabyCrawling', 'Knitting', 'Knitting', 'Knitting', 'Typing', 'Typing', 'Typing', 'Typing', 'Typing', 'Typing', 'Typing']\n"
     ]
    },
    {
     "name": "stderr",
     "output_type": "stream",
     "text": [
      " 48%|██████████████████████████████████████▍                                         | 100/208 [02:05<02:04,  1.15s/it]"
     ]
    },
    {
     "name": "stdout",
     "output_type": "stream",
     "text": [
      "['BabyCrawling', 'BabyCrawling', 'BabyCrawling', 'BabyCrawling', 'BabyCrawling', 'BabyCrawling', 'BabyCrawling', 'BabyCrawling', 'BabyCrawling', 'BabyCrawling', 'BabyCrawling', 'BabyCrawling', 'BabyCrawling', 'BabyCrawling', 'BabyCrawling', 'BabyCrawling', 'BabyCrawling', 'BabyCrawling', 'BabyCrawling', 'BabyCrawling', 'BabyCrawling', 'BabyCrawling', 'BabyCrawling', 'BabyCrawling', 'BabyCrawling', 'BabyCrawling', 'BabyCrawling', 'BabyCrawling', 'BabyCrawling', 'BabyCrawling', 'BabyCrawling', 'BabyCrawling', 'BabyCrawling', 'BabyCrawling', 'BabyCrawling', 'Surfing', 'Surfing', 'Surfing', 'Surfing', 'Surfing', 'Surfing', 'Surfing', 'Surfing', 'Surfing', 'Surfing', 'Surfing', 'Surfing', 'Surfing', 'Surfing', 'Surfing', 'Surfing', 'Surfing', 'Surfing', 'Surfing', 'Surfing', 'Surfing', 'Surfing', 'Surfing', 'Surfing', 'Surfing', 'Surfing', 'Surfing', 'Surfing', 'Surfing', 'Surfing', 'Surfing', 'Surfing', 'Surfing', 'Typing', 'Typing', 'Typing', 'Typing', 'Typing', 'Typing', 'Typing', 'Typing', 'Typing', 'Typing', 'Typing', 'Typing', 'Typing', 'Typing', 'Typing', 'Typing', 'Typing', 'Typing', 'Typing', 'Typing', 'Typing', 'Typing', 'Typing', 'Typing', 'Typing', 'Typing', 'Typing', 'Typing', 'Typing', 'Typing', 'Typing', 'Typing']\n",
      "['BabyCrawling', 'BabyCrawling', 'BabyCrawling', 'BabyCrawling', 'BabyCrawling', 'BabyCrawling', 'BabyCrawling', 'BabyCrawling', 'BabyCrawling', 'BabyCrawling', 'BabyCrawling', 'BabyCrawling', 'BabyCrawling', 'BabyCrawling', 'BabyCrawling', 'BabyCrawling', 'BabyCrawling', 'BabyCrawling', 'BabyCrawling', 'BabyCrawling', 'BabyCrawling', 'BabyCrawling', 'BabyCrawling', 'BabyCrawling', 'BabyCrawling', 'BabyCrawling', 'BabyCrawling', 'BabyCrawling', 'BabyCrawling', 'BabyCrawling', 'BabyCrawling', 'BabyCrawling', 'BabyCrawling', 'BabyCrawling', 'BabyCrawling', 'Surfing', 'Surfing', 'Surfing', 'Surfing', 'Surfing', 'Surfing', 'Surfing', 'Surfing', 'Surfing', 'Surfing', 'Surfing', 'Surfing', 'Surfing', 'Surfing', 'Surfing', 'Surfing', 'Surfing', 'Surfing', 'Surfing', 'Surfing', 'Surfing', 'Surfing', 'Surfing', 'Surfing', 'Surfing', 'Surfing', 'Surfing', 'Surfing', 'Surfing', 'Surfing', 'Surfing', 'Surfing', 'Surfing', 'Typing', 'Typing', 'Typing', 'Typing', 'Typing', 'Typing', 'Typing', 'Typing', 'Typing', 'Typing', 'Typing', 'Typing', 'Typing', 'Typing', 'Typing', 'Typing', 'Typing', 'Typing', 'Typing', 'Typing', 'BabyCrawling', 'Knitting', 'Knitting', 'Knitting', 'Typing', 'Typing', 'Typing', 'Typing', 'Typing', 'Typing', 'Typing', 'Typing']\n"
     ]
    },
    {
     "name": "stderr",
     "output_type": "stream",
     "text": [
      " 49%|██████████████████████████████████████▊                                         | 101/208 [02:06<01:56,  1.09s/it]"
     ]
    },
    {
     "name": "stdout",
     "output_type": "stream",
     "text": [
      "['BabyCrawling', 'BabyCrawling', 'BabyCrawling', 'BabyCrawling', 'BabyCrawling', 'BabyCrawling', 'BabyCrawling', 'BabyCrawling', 'BabyCrawling', 'BabyCrawling', 'BabyCrawling', 'BabyCrawling', 'BabyCrawling', 'BabyCrawling', 'BabyCrawling', 'BabyCrawling', 'BabyCrawling', 'BabyCrawling', 'BabyCrawling', 'BabyCrawling', 'BabyCrawling', 'BabyCrawling', 'BabyCrawling', 'BabyCrawling', 'BabyCrawling', 'BabyCrawling', 'BabyCrawling', 'BabyCrawling', 'BabyCrawling', 'BabyCrawling', 'BabyCrawling', 'BabyCrawling', 'BabyCrawling', 'BabyCrawling', 'BabyCrawling', 'Surfing', 'Surfing', 'Surfing', 'Surfing', 'Surfing', 'Surfing', 'Surfing', 'Surfing', 'Surfing', 'Surfing', 'Surfing', 'Surfing', 'Surfing', 'Surfing', 'Surfing', 'Surfing', 'Surfing', 'Surfing', 'Surfing', 'Surfing', 'Surfing', 'Surfing', 'Surfing', 'Surfing', 'Surfing', 'Surfing', 'Surfing', 'Surfing', 'Surfing', 'Surfing', 'Surfing', 'Surfing', 'Surfing', 'Typing', 'Typing', 'Typing', 'Typing', 'Typing', 'Typing', 'Typing', 'Typing', 'Typing', 'Typing', 'Typing', 'Typing', 'Typing', 'Typing', 'Typing', 'Typing', 'Typing', 'Typing', 'Typing', 'Typing', 'Typing', 'Typing', 'Typing', 'Typing', 'Typing', 'Typing', 'Typing', 'Typing', 'Typing', 'Typing', 'Typing', 'Typing', 'Typing']\n",
      "['BabyCrawling', 'BabyCrawling', 'BabyCrawling', 'BabyCrawling', 'BabyCrawling', 'BabyCrawling', 'BabyCrawling', 'BabyCrawling', 'BabyCrawling', 'BabyCrawling', 'BabyCrawling', 'BabyCrawling', 'BabyCrawling', 'BabyCrawling', 'BabyCrawling', 'BabyCrawling', 'BabyCrawling', 'BabyCrawling', 'BabyCrawling', 'BabyCrawling', 'BabyCrawling', 'BabyCrawling', 'BabyCrawling', 'BabyCrawling', 'BabyCrawling', 'BabyCrawling', 'BabyCrawling', 'BabyCrawling', 'BabyCrawling', 'BabyCrawling', 'BabyCrawling', 'BabyCrawling', 'BabyCrawling', 'BabyCrawling', 'BabyCrawling', 'Surfing', 'Surfing', 'Surfing', 'Surfing', 'Surfing', 'Surfing', 'Surfing', 'Surfing', 'Surfing', 'Surfing', 'Surfing', 'Surfing', 'Surfing', 'Surfing', 'Surfing', 'Surfing', 'Surfing', 'Surfing', 'Surfing', 'Surfing', 'Surfing', 'Surfing', 'Surfing', 'Surfing', 'Surfing', 'Surfing', 'Surfing', 'Surfing', 'Surfing', 'Surfing', 'Surfing', 'Surfing', 'Surfing', 'Typing', 'Typing', 'Typing', 'Typing', 'Typing', 'Typing', 'Typing', 'Typing', 'Typing', 'Typing', 'Typing', 'Typing', 'Typing', 'Typing', 'Typing', 'Typing', 'Typing', 'Typing', 'Typing', 'Typing', 'BabyCrawling', 'Knitting', 'Knitting', 'Knitting', 'Typing', 'Typing', 'Typing', 'Typing', 'Typing', 'Typing', 'Typing', 'Typing', 'Typing']\n"
     ]
    },
    {
     "name": "stderr",
     "output_type": "stream",
     "text": [
      " 49%|███████████████████████████████████████▏                                        | 102/208 [02:07<01:45,  1.00it/s]"
     ]
    },
    {
     "name": "stdout",
     "output_type": "stream",
     "text": [
      "['BabyCrawling', 'BabyCrawling', 'BabyCrawling', 'BabyCrawling', 'BabyCrawling', 'BabyCrawling', 'BabyCrawling', 'BabyCrawling', 'BabyCrawling', 'BabyCrawling', 'BabyCrawling', 'BabyCrawling', 'BabyCrawling', 'BabyCrawling', 'BabyCrawling', 'BabyCrawling', 'BabyCrawling', 'BabyCrawling', 'BabyCrawling', 'BabyCrawling', 'BabyCrawling', 'BabyCrawling', 'BabyCrawling', 'BabyCrawling', 'BabyCrawling', 'BabyCrawling', 'BabyCrawling', 'BabyCrawling', 'BabyCrawling', 'BabyCrawling', 'BabyCrawling', 'BabyCrawling', 'BabyCrawling', 'BabyCrawling', 'BabyCrawling', 'Surfing', 'Surfing', 'Surfing', 'Surfing', 'Surfing', 'Surfing', 'Surfing', 'Surfing', 'Surfing', 'Surfing', 'Surfing', 'Surfing', 'Surfing', 'Surfing', 'Surfing', 'Surfing', 'Surfing', 'Surfing', 'Surfing', 'Surfing', 'Surfing', 'Surfing', 'Surfing', 'Surfing', 'Surfing', 'Surfing', 'Surfing', 'Surfing', 'Surfing', 'Surfing', 'Surfing', 'Surfing', 'Surfing', 'Typing', 'Typing', 'Typing', 'Typing', 'Typing', 'Typing', 'Typing', 'Typing', 'Typing', 'Typing', 'Typing', 'Typing', 'Typing', 'Typing', 'Typing', 'Typing', 'Typing', 'Typing', 'Typing', 'Typing', 'Typing', 'Typing', 'Typing', 'Typing', 'Typing', 'Typing', 'Typing', 'Typing', 'Typing', 'Typing', 'Typing', 'Typing', 'Typing', 'Typing']\n",
      "['BabyCrawling', 'BabyCrawling', 'BabyCrawling', 'BabyCrawling', 'BabyCrawling', 'BabyCrawling', 'BabyCrawling', 'BabyCrawling', 'BabyCrawling', 'BabyCrawling', 'BabyCrawling', 'BabyCrawling', 'BabyCrawling', 'BabyCrawling', 'BabyCrawling', 'BabyCrawling', 'BabyCrawling', 'BabyCrawling', 'BabyCrawling', 'BabyCrawling', 'BabyCrawling', 'BabyCrawling', 'BabyCrawling', 'BabyCrawling', 'BabyCrawling', 'BabyCrawling', 'BabyCrawling', 'BabyCrawling', 'BabyCrawling', 'BabyCrawling', 'BabyCrawling', 'BabyCrawling', 'BabyCrawling', 'BabyCrawling', 'BabyCrawling', 'Surfing', 'Surfing', 'Surfing', 'Surfing', 'Surfing', 'Surfing', 'Surfing', 'Surfing', 'Surfing', 'Surfing', 'Surfing', 'Surfing', 'Surfing', 'Surfing', 'Surfing', 'Surfing', 'Surfing', 'Surfing', 'Surfing', 'Surfing', 'Surfing', 'Surfing', 'Surfing', 'Surfing', 'Surfing', 'Surfing', 'Surfing', 'Surfing', 'Surfing', 'Surfing', 'Surfing', 'Surfing', 'Surfing', 'Typing', 'Typing', 'Typing', 'Typing', 'Typing', 'Typing', 'Typing', 'Typing', 'Typing', 'Typing', 'Typing', 'Typing', 'Typing', 'Typing', 'Typing', 'Typing', 'Typing', 'Typing', 'Typing', 'Typing', 'BabyCrawling', 'Knitting', 'Knitting', 'Knitting', 'Typing', 'Typing', 'Typing', 'Typing', 'Typing', 'Typing', 'Typing', 'Typing', 'Typing', 'Typing']\n"
     ]
    },
    {
     "name": "stderr",
     "output_type": "stream",
     "text": [
      " 50%|███████████████████████████████████████▌                                        | 103/208 [02:08<01:38,  1.07it/s]"
     ]
    },
    {
     "name": "stdout",
     "output_type": "stream",
     "text": [
      "['BabyCrawling', 'BabyCrawling', 'BabyCrawling', 'BabyCrawling', 'BabyCrawling', 'BabyCrawling', 'BabyCrawling', 'BabyCrawling', 'BabyCrawling', 'BabyCrawling', 'BabyCrawling', 'BabyCrawling', 'BabyCrawling', 'BabyCrawling', 'BabyCrawling', 'BabyCrawling', 'BabyCrawling', 'BabyCrawling', 'BabyCrawling', 'BabyCrawling', 'BabyCrawling', 'BabyCrawling', 'BabyCrawling', 'BabyCrawling', 'BabyCrawling', 'BabyCrawling', 'BabyCrawling', 'BabyCrawling', 'BabyCrawling', 'BabyCrawling', 'BabyCrawling', 'BabyCrawling', 'BabyCrawling', 'BabyCrawling', 'BabyCrawling', 'Surfing', 'Surfing', 'Surfing', 'Surfing', 'Surfing', 'Surfing', 'Surfing', 'Surfing', 'Surfing', 'Surfing', 'Surfing', 'Surfing', 'Surfing', 'Surfing', 'Surfing', 'Surfing', 'Surfing', 'Surfing', 'Surfing', 'Surfing', 'Surfing', 'Surfing', 'Surfing', 'Surfing', 'Surfing', 'Surfing', 'Surfing', 'Surfing', 'Surfing', 'Surfing', 'Surfing', 'Surfing', 'Surfing', 'Typing', 'Typing', 'Typing', 'Typing', 'Typing', 'Typing', 'Typing', 'Typing', 'Typing', 'Typing', 'Typing', 'Typing', 'Typing', 'Typing', 'Typing', 'Typing', 'Typing', 'Typing', 'Typing', 'Typing', 'Typing', 'Typing', 'Typing', 'Typing', 'Typing', 'Typing', 'Typing', 'Typing', 'Typing', 'Typing', 'Typing', 'Typing', 'Typing', 'Typing', 'Typing']\n",
      "['BabyCrawling', 'BabyCrawling', 'BabyCrawling', 'BabyCrawling', 'BabyCrawling', 'BabyCrawling', 'BabyCrawling', 'BabyCrawling', 'BabyCrawling', 'BabyCrawling', 'BabyCrawling', 'BabyCrawling', 'BabyCrawling', 'BabyCrawling', 'BabyCrawling', 'BabyCrawling', 'BabyCrawling', 'BabyCrawling', 'BabyCrawling', 'BabyCrawling', 'BabyCrawling', 'BabyCrawling', 'BabyCrawling', 'BabyCrawling', 'BabyCrawling', 'BabyCrawling', 'BabyCrawling', 'BabyCrawling', 'BabyCrawling', 'BabyCrawling', 'BabyCrawling', 'BabyCrawling', 'BabyCrawling', 'BabyCrawling', 'BabyCrawling', 'Surfing', 'Surfing', 'Surfing', 'Surfing', 'Surfing', 'Surfing', 'Surfing', 'Surfing', 'Surfing', 'Surfing', 'Surfing', 'Surfing', 'Surfing', 'Surfing', 'Surfing', 'Surfing', 'Surfing', 'Surfing', 'Surfing', 'Surfing', 'Surfing', 'Surfing', 'Surfing', 'Surfing', 'Surfing', 'Surfing', 'Surfing', 'Surfing', 'Surfing', 'Surfing', 'Surfing', 'Surfing', 'Surfing', 'Typing', 'Typing', 'Typing', 'Typing', 'Typing', 'Typing', 'Typing', 'Typing', 'Typing', 'Typing', 'Typing', 'Typing', 'Typing', 'Typing', 'Typing', 'Typing', 'Typing', 'Typing', 'Typing', 'Typing', 'BabyCrawling', 'Knitting', 'Knitting', 'Knitting', 'Typing', 'Typing', 'Typing', 'Typing', 'Typing', 'Typing', 'Typing', 'Typing', 'Typing', 'Typing', 'Typing']\n"
     ]
    },
    {
     "name": "stderr",
     "output_type": "stream",
     "text": [
      " 50%|████████████████████████████████████████                                        | 104/208 [02:09<01:36,  1.08it/s]"
     ]
    },
    {
     "name": "stdout",
     "output_type": "stream",
     "text": [
      "['BabyCrawling', 'BabyCrawling', 'BabyCrawling', 'BabyCrawling', 'BabyCrawling', 'BabyCrawling', 'BabyCrawling', 'BabyCrawling', 'BabyCrawling', 'BabyCrawling', 'BabyCrawling', 'BabyCrawling', 'BabyCrawling', 'BabyCrawling', 'BabyCrawling', 'BabyCrawling', 'BabyCrawling', 'BabyCrawling', 'BabyCrawling', 'BabyCrawling', 'BabyCrawling', 'BabyCrawling', 'BabyCrawling', 'BabyCrawling', 'BabyCrawling', 'BabyCrawling', 'BabyCrawling', 'BabyCrawling', 'BabyCrawling', 'BabyCrawling', 'BabyCrawling', 'BabyCrawling', 'BabyCrawling', 'BabyCrawling', 'BabyCrawling', 'Surfing', 'Surfing', 'Surfing', 'Surfing', 'Surfing', 'Surfing', 'Surfing', 'Surfing', 'Surfing', 'Surfing', 'Surfing', 'Surfing', 'Surfing', 'Surfing', 'Surfing', 'Surfing', 'Surfing', 'Surfing', 'Surfing', 'Surfing', 'Surfing', 'Surfing', 'Surfing', 'Surfing', 'Surfing', 'Surfing', 'Surfing', 'Surfing', 'Surfing', 'Surfing', 'Surfing', 'Surfing', 'Surfing', 'Typing', 'Typing', 'Typing', 'Typing', 'Typing', 'Typing', 'Typing', 'Typing', 'Typing', 'Typing', 'Typing', 'Typing', 'Typing', 'Typing', 'Typing', 'Typing', 'Typing', 'Typing', 'Typing', 'Typing', 'Typing', 'Typing', 'Typing', 'Typing', 'Typing', 'Typing', 'Typing', 'Typing', 'Typing', 'Typing', 'Typing', 'Typing', 'Typing', 'Typing', 'Typing', 'Typing']\n",
      "['BabyCrawling', 'BabyCrawling', 'BabyCrawling', 'BabyCrawling', 'BabyCrawling', 'BabyCrawling', 'BabyCrawling', 'BabyCrawling', 'BabyCrawling', 'BabyCrawling', 'BabyCrawling', 'BabyCrawling', 'BabyCrawling', 'BabyCrawling', 'BabyCrawling', 'BabyCrawling', 'BabyCrawling', 'BabyCrawling', 'BabyCrawling', 'BabyCrawling', 'BabyCrawling', 'BabyCrawling', 'BabyCrawling', 'BabyCrawling', 'BabyCrawling', 'BabyCrawling', 'BabyCrawling', 'BabyCrawling', 'BabyCrawling', 'BabyCrawling', 'BabyCrawling', 'BabyCrawling', 'BabyCrawling', 'BabyCrawling', 'BabyCrawling', 'Surfing', 'Surfing', 'Surfing', 'Surfing', 'Surfing', 'Surfing', 'Surfing', 'Surfing', 'Surfing', 'Surfing', 'Surfing', 'Surfing', 'Surfing', 'Surfing', 'Surfing', 'Surfing', 'Surfing', 'Surfing', 'Surfing', 'Surfing', 'Surfing', 'Surfing', 'Surfing', 'Surfing', 'Surfing', 'Surfing', 'Surfing', 'Surfing', 'Surfing', 'Surfing', 'Surfing', 'Surfing', 'Surfing', 'Typing', 'Typing', 'Typing', 'Typing', 'Typing', 'Typing', 'Typing', 'Typing', 'Typing', 'Typing', 'Typing', 'Typing', 'Typing', 'Typing', 'Typing', 'Typing', 'Typing', 'Typing', 'Typing', 'Typing', 'BabyCrawling', 'Knitting', 'Knitting', 'Knitting', 'Typing', 'Typing', 'Typing', 'Typing', 'Typing', 'Typing', 'Typing', 'Typing', 'Typing', 'Typing', 'Typing', 'Typing']\n"
     ]
    },
    {
     "name": "stderr",
     "output_type": "stream",
     "text": [
      " 50%|████████████████████████████████████████▍                                       | 105/208 [02:10<01:31,  1.12it/s]"
     ]
    },
    {
     "name": "stdout",
     "output_type": "stream",
     "text": [
      "['BabyCrawling', 'BabyCrawling', 'BabyCrawling', 'BabyCrawling', 'BabyCrawling', 'BabyCrawling', 'BabyCrawling', 'BabyCrawling', 'BabyCrawling', 'BabyCrawling', 'BabyCrawling', 'BabyCrawling', 'BabyCrawling', 'BabyCrawling', 'BabyCrawling', 'BabyCrawling', 'BabyCrawling', 'BabyCrawling', 'BabyCrawling', 'BabyCrawling', 'BabyCrawling', 'BabyCrawling', 'BabyCrawling', 'BabyCrawling', 'BabyCrawling', 'BabyCrawling', 'BabyCrawling', 'BabyCrawling', 'BabyCrawling', 'BabyCrawling', 'BabyCrawling', 'BabyCrawling', 'BabyCrawling', 'BabyCrawling', 'BabyCrawling', 'Surfing', 'Surfing', 'Surfing', 'Surfing', 'Surfing', 'Surfing', 'Surfing', 'Surfing', 'Surfing', 'Surfing', 'Surfing', 'Surfing', 'Surfing', 'Surfing', 'Surfing', 'Surfing', 'Surfing', 'Surfing', 'Surfing', 'Surfing', 'Surfing', 'Surfing', 'Surfing', 'Surfing', 'Surfing', 'Surfing', 'Surfing', 'Surfing', 'Surfing', 'Surfing', 'Surfing', 'Surfing', 'Surfing', 'Typing', 'Typing', 'Typing', 'Typing', 'Typing', 'Typing', 'Typing', 'Typing', 'Typing', 'Typing', 'Typing', 'Typing', 'Typing', 'Typing', 'Typing', 'Typing', 'Typing', 'Typing', 'Typing', 'Typing', 'Typing', 'Typing', 'Typing', 'Typing', 'Typing', 'Typing', 'Typing', 'Typing', 'Typing', 'Typing', 'Typing', 'Typing', 'Typing', 'Typing', 'Typing', 'Typing', 'Typing']\n",
      "['BabyCrawling', 'BabyCrawling', 'BabyCrawling', 'BabyCrawling', 'BabyCrawling', 'BabyCrawling', 'BabyCrawling', 'BabyCrawling', 'BabyCrawling', 'BabyCrawling', 'BabyCrawling', 'BabyCrawling', 'BabyCrawling', 'BabyCrawling', 'BabyCrawling', 'BabyCrawling', 'BabyCrawling', 'BabyCrawling', 'BabyCrawling', 'BabyCrawling', 'BabyCrawling', 'BabyCrawling', 'BabyCrawling', 'BabyCrawling', 'BabyCrawling', 'BabyCrawling', 'BabyCrawling', 'BabyCrawling', 'BabyCrawling', 'BabyCrawling', 'BabyCrawling', 'BabyCrawling', 'BabyCrawling', 'BabyCrawling', 'BabyCrawling', 'Surfing', 'Surfing', 'Surfing', 'Surfing', 'Surfing', 'Surfing', 'Surfing', 'Surfing', 'Surfing', 'Surfing', 'Surfing', 'Surfing', 'Surfing', 'Surfing', 'Surfing', 'Surfing', 'Surfing', 'Surfing', 'Surfing', 'Surfing', 'Surfing', 'Surfing', 'Surfing', 'Surfing', 'Surfing', 'Surfing', 'Surfing', 'Surfing', 'Surfing', 'Surfing', 'Surfing', 'Surfing', 'Surfing', 'Typing', 'Typing', 'Typing', 'Typing', 'Typing', 'Typing', 'Typing', 'Typing', 'Typing', 'Typing', 'Typing', 'Typing', 'Typing', 'Typing', 'Typing', 'Typing', 'Typing', 'Typing', 'Typing', 'Typing', 'BabyCrawling', 'Knitting', 'Knitting', 'Knitting', 'Typing', 'Typing', 'Typing', 'Typing', 'Typing', 'Typing', 'Typing', 'Typing', 'Typing', 'Typing', 'Typing', 'Typing', 'Typing']\n"
     ]
    },
    {
     "name": "stderr",
     "output_type": "stream",
     "text": [
      " 51%|████████████████████████████████████████▊                                       | 106/208 [02:10<01:27,  1.16it/s]"
     ]
    },
    {
     "name": "stdout",
     "output_type": "stream",
     "text": [
      "['BabyCrawling', 'BabyCrawling', 'BabyCrawling', 'BabyCrawling', 'BabyCrawling', 'BabyCrawling', 'BabyCrawling', 'BabyCrawling', 'BabyCrawling', 'BabyCrawling', 'BabyCrawling', 'BabyCrawling', 'BabyCrawling', 'BabyCrawling', 'BabyCrawling', 'BabyCrawling', 'BabyCrawling', 'BabyCrawling', 'BabyCrawling', 'BabyCrawling', 'BabyCrawling', 'BabyCrawling', 'BabyCrawling', 'BabyCrawling', 'BabyCrawling', 'BabyCrawling', 'BabyCrawling', 'BabyCrawling', 'BabyCrawling', 'BabyCrawling', 'BabyCrawling', 'BabyCrawling', 'BabyCrawling', 'BabyCrawling', 'BabyCrawling', 'Surfing', 'Surfing', 'Surfing', 'Surfing', 'Surfing', 'Surfing', 'Surfing', 'Surfing', 'Surfing', 'Surfing', 'Surfing', 'Surfing', 'Surfing', 'Surfing', 'Surfing', 'Surfing', 'Surfing', 'Surfing', 'Surfing', 'Surfing', 'Surfing', 'Surfing', 'Surfing', 'Surfing', 'Surfing', 'Surfing', 'Surfing', 'Surfing', 'Surfing', 'Surfing', 'Surfing', 'Surfing', 'Surfing', 'Typing', 'Typing', 'Typing', 'Typing', 'Typing', 'Typing', 'Typing', 'Typing', 'Typing', 'Typing', 'Typing', 'Typing', 'Typing', 'Typing', 'Typing', 'Typing', 'Typing', 'Typing', 'Typing', 'Typing', 'Typing', 'Typing', 'Typing', 'Typing', 'Typing', 'Typing', 'Typing', 'Typing', 'Typing', 'Typing', 'Typing', 'Typing', 'Typing', 'Typing', 'Typing', 'Typing', 'Typing', 'Typing']\n",
      "['BabyCrawling', 'BabyCrawling', 'BabyCrawling', 'BabyCrawling', 'BabyCrawling', 'BabyCrawling', 'BabyCrawling', 'BabyCrawling', 'BabyCrawling', 'BabyCrawling', 'BabyCrawling', 'BabyCrawling', 'BabyCrawling', 'BabyCrawling', 'BabyCrawling', 'BabyCrawling', 'BabyCrawling', 'BabyCrawling', 'BabyCrawling', 'BabyCrawling', 'BabyCrawling', 'BabyCrawling', 'BabyCrawling', 'BabyCrawling', 'BabyCrawling', 'BabyCrawling', 'BabyCrawling', 'BabyCrawling', 'BabyCrawling', 'BabyCrawling', 'BabyCrawling', 'BabyCrawling', 'BabyCrawling', 'BabyCrawling', 'BabyCrawling', 'Surfing', 'Surfing', 'Surfing', 'Surfing', 'Surfing', 'Surfing', 'Surfing', 'Surfing', 'Surfing', 'Surfing', 'Surfing', 'Surfing', 'Surfing', 'Surfing', 'Surfing', 'Surfing', 'Surfing', 'Surfing', 'Surfing', 'Surfing', 'Surfing', 'Surfing', 'Surfing', 'Surfing', 'Surfing', 'Surfing', 'Surfing', 'Surfing', 'Surfing', 'Surfing', 'Surfing', 'Surfing', 'Surfing', 'Typing', 'Typing', 'Typing', 'Typing', 'Typing', 'Typing', 'Typing', 'Typing', 'Typing', 'Typing', 'Typing', 'Typing', 'Typing', 'Typing', 'Typing', 'Typing', 'Typing', 'Typing', 'Typing', 'Typing', 'BabyCrawling', 'Knitting', 'Knitting', 'Knitting', 'Typing', 'Typing', 'Typing', 'Typing', 'Typing', 'Typing', 'Typing', 'Typing', 'Typing', 'Typing', 'Typing', 'Typing', 'Typing', 'Typing']\n"
     ]
    },
    {
     "name": "stderr",
     "output_type": "stream",
     "text": [
      " 51%|█████████████████████████████████████████▏                                      | 107/208 [02:11<01:24,  1.19it/s]"
     ]
    },
    {
     "name": "stdout",
     "output_type": "stream",
     "text": [
      "['BabyCrawling', 'BabyCrawling', 'BabyCrawling', 'BabyCrawling', 'BabyCrawling', 'BabyCrawling', 'BabyCrawling', 'BabyCrawling', 'BabyCrawling', 'BabyCrawling', 'BabyCrawling', 'BabyCrawling', 'BabyCrawling', 'BabyCrawling', 'BabyCrawling', 'BabyCrawling', 'BabyCrawling', 'BabyCrawling', 'BabyCrawling', 'BabyCrawling', 'BabyCrawling', 'BabyCrawling', 'BabyCrawling', 'BabyCrawling', 'BabyCrawling', 'BabyCrawling', 'BabyCrawling', 'BabyCrawling', 'BabyCrawling', 'BabyCrawling', 'BabyCrawling', 'BabyCrawling', 'BabyCrawling', 'BabyCrawling', 'BabyCrawling', 'Surfing', 'Surfing', 'Surfing', 'Surfing', 'Surfing', 'Surfing', 'Surfing', 'Surfing', 'Surfing', 'Surfing', 'Surfing', 'Surfing', 'Surfing', 'Surfing', 'Surfing', 'Surfing', 'Surfing', 'Surfing', 'Surfing', 'Surfing', 'Surfing', 'Surfing', 'Surfing', 'Surfing', 'Surfing', 'Surfing', 'Surfing', 'Surfing', 'Surfing', 'Surfing', 'Surfing', 'Surfing', 'Surfing', 'Typing', 'Typing', 'Typing', 'Typing', 'Typing', 'Typing', 'Typing', 'Typing', 'Typing', 'Typing', 'Typing', 'Typing', 'Typing', 'Typing', 'Typing', 'Typing', 'Typing', 'Typing', 'Typing', 'Typing', 'Typing', 'Typing', 'Typing', 'Typing', 'Typing', 'Typing', 'Typing', 'Typing', 'Typing', 'Typing', 'Typing', 'Typing', 'Typing', 'Typing', 'Typing', 'Typing', 'Typing', 'Typing', 'Typing']\n",
      "['BabyCrawling', 'BabyCrawling', 'BabyCrawling', 'BabyCrawling', 'BabyCrawling', 'BabyCrawling', 'BabyCrawling', 'BabyCrawling', 'BabyCrawling', 'BabyCrawling', 'BabyCrawling', 'BabyCrawling', 'BabyCrawling', 'BabyCrawling', 'BabyCrawling', 'BabyCrawling', 'BabyCrawling', 'BabyCrawling', 'BabyCrawling', 'BabyCrawling', 'BabyCrawling', 'BabyCrawling', 'BabyCrawling', 'BabyCrawling', 'BabyCrawling', 'BabyCrawling', 'BabyCrawling', 'BabyCrawling', 'BabyCrawling', 'BabyCrawling', 'BabyCrawling', 'BabyCrawling', 'BabyCrawling', 'BabyCrawling', 'BabyCrawling', 'Surfing', 'Surfing', 'Surfing', 'Surfing', 'Surfing', 'Surfing', 'Surfing', 'Surfing', 'Surfing', 'Surfing', 'Surfing', 'Surfing', 'Surfing', 'Surfing', 'Surfing', 'Surfing', 'Surfing', 'Surfing', 'Surfing', 'Surfing', 'Surfing', 'Surfing', 'Surfing', 'Surfing', 'Surfing', 'Surfing', 'Surfing', 'Surfing', 'Surfing', 'Surfing', 'Surfing', 'Surfing', 'Surfing', 'Typing', 'Typing', 'Typing', 'Typing', 'Typing', 'Typing', 'Typing', 'Typing', 'Typing', 'Typing', 'Typing', 'Typing', 'Typing', 'Typing', 'Typing', 'Typing', 'Typing', 'Typing', 'Typing', 'Typing', 'BabyCrawling', 'Knitting', 'Knitting', 'Knitting', 'Typing', 'Typing', 'Typing', 'Typing', 'Typing', 'Typing', 'Typing', 'Typing', 'Typing', 'Typing', 'Typing', 'Typing', 'Typing', 'Typing', 'Typing']\n"
     ]
    },
    {
     "name": "stderr",
     "output_type": "stream",
     "text": [
      " 52%|█████████████████████████████████████████▌                                      | 108/208 [02:12<01:24,  1.18it/s]"
     ]
    },
    {
     "name": "stdout",
     "output_type": "stream",
     "text": [
      "['BabyCrawling', 'BabyCrawling', 'BabyCrawling', 'BabyCrawling', 'BabyCrawling', 'BabyCrawling', 'BabyCrawling', 'BabyCrawling', 'BabyCrawling', 'BabyCrawling', 'BabyCrawling', 'BabyCrawling', 'BabyCrawling', 'BabyCrawling', 'BabyCrawling', 'BabyCrawling', 'BabyCrawling', 'BabyCrawling', 'BabyCrawling', 'BabyCrawling', 'BabyCrawling', 'BabyCrawling', 'BabyCrawling', 'BabyCrawling', 'BabyCrawling', 'BabyCrawling', 'BabyCrawling', 'BabyCrawling', 'BabyCrawling', 'BabyCrawling', 'BabyCrawling', 'BabyCrawling', 'BabyCrawling', 'BabyCrawling', 'BabyCrawling', 'Surfing', 'Surfing', 'Surfing', 'Surfing', 'Surfing', 'Surfing', 'Surfing', 'Surfing', 'Surfing', 'Surfing', 'Surfing', 'Surfing', 'Surfing', 'Surfing', 'Surfing', 'Surfing', 'Surfing', 'Surfing', 'Surfing', 'Surfing', 'Surfing', 'Surfing', 'Surfing', 'Surfing', 'Surfing', 'Surfing', 'Surfing', 'Surfing', 'Surfing', 'Surfing', 'Surfing', 'Surfing', 'Surfing', 'Typing', 'Typing', 'Typing', 'Typing', 'Typing', 'Typing', 'Typing', 'Typing', 'Typing', 'Typing', 'Typing', 'Typing', 'Typing', 'Typing', 'Typing', 'Typing', 'Typing', 'Typing', 'Typing', 'Typing', 'Typing', 'Typing', 'Typing', 'Typing', 'Typing', 'Typing', 'Typing', 'Typing', 'Typing', 'Typing', 'Typing', 'Typing', 'Typing', 'Typing', 'Typing', 'Typing', 'Typing', 'Typing', 'Typing', 'Typing']\n",
      "['BabyCrawling', 'BabyCrawling', 'BabyCrawling', 'BabyCrawling', 'BabyCrawling', 'BabyCrawling', 'BabyCrawling', 'BabyCrawling', 'BabyCrawling', 'BabyCrawling', 'BabyCrawling', 'BabyCrawling', 'BabyCrawling', 'BabyCrawling', 'BabyCrawling', 'BabyCrawling', 'BabyCrawling', 'BabyCrawling', 'BabyCrawling', 'BabyCrawling', 'BabyCrawling', 'BabyCrawling', 'BabyCrawling', 'BabyCrawling', 'BabyCrawling', 'BabyCrawling', 'BabyCrawling', 'BabyCrawling', 'BabyCrawling', 'BabyCrawling', 'BabyCrawling', 'BabyCrawling', 'BabyCrawling', 'BabyCrawling', 'BabyCrawling', 'Surfing', 'Surfing', 'Surfing', 'Surfing', 'Surfing', 'Surfing', 'Surfing', 'Surfing', 'Surfing', 'Surfing', 'Surfing', 'Surfing', 'Surfing', 'Surfing', 'Surfing', 'Surfing', 'Surfing', 'Surfing', 'Surfing', 'Surfing', 'Surfing', 'Surfing', 'Surfing', 'Surfing', 'Surfing', 'Surfing', 'Surfing', 'Surfing', 'Surfing', 'Surfing', 'Surfing', 'Surfing', 'Surfing', 'Typing', 'Typing', 'Typing', 'Typing', 'Typing', 'Typing', 'Typing', 'Typing', 'Typing', 'Typing', 'Typing', 'Typing', 'Typing', 'Typing', 'Typing', 'Typing', 'Typing', 'Typing', 'Typing', 'Typing', 'BabyCrawling', 'Knitting', 'Knitting', 'Knitting', 'Typing', 'Typing', 'Typing', 'Typing', 'Typing', 'Typing', 'Typing', 'Typing', 'Typing', 'Typing', 'Typing', 'Typing', 'Typing', 'Typing', 'Typing', 'Typing']\n"
     ]
    },
    {
     "name": "stderr",
     "output_type": "stream",
     "text": [
      " 52%|█████████████████████████████████████████▉                                      | 109/208 [02:13<01:21,  1.21it/s]"
     ]
    },
    {
     "name": "stdout",
     "output_type": "stream",
     "text": [
      "['BabyCrawling', 'BabyCrawling', 'BabyCrawling', 'BabyCrawling', 'BabyCrawling', 'BabyCrawling', 'BabyCrawling', 'BabyCrawling', 'BabyCrawling', 'BabyCrawling', 'BabyCrawling', 'BabyCrawling', 'BabyCrawling', 'BabyCrawling', 'BabyCrawling', 'BabyCrawling', 'BabyCrawling', 'BabyCrawling', 'BabyCrawling', 'BabyCrawling', 'BabyCrawling', 'BabyCrawling', 'BabyCrawling', 'BabyCrawling', 'BabyCrawling', 'BabyCrawling', 'BabyCrawling', 'BabyCrawling', 'BabyCrawling', 'BabyCrawling', 'BabyCrawling', 'BabyCrawling', 'BabyCrawling', 'BabyCrawling', 'BabyCrawling', 'Surfing', 'Surfing', 'Surfing', 'Surfing', 'Surfing', 'Surfing', 'Surfing', 'Surfing', 'Surfing', 'Surfing', 'Surfing', 'Surfing', 'Surfing', 'Surfing', 'Surfing', 'Surfing', 'Surfing', 'Surfing', 'Surfing', 'Surfing', 'Surfing', 'Surfing', 'Surfing', 'Surfing', 'Surfing', 'Surfing', 'Surfing', 'Surfing', 'Surfing', 'Surfing', 'Surfing', 'Surfing', 'Surfing', 'Typing', 'Typing', 'Typing', 'Typing', 'Typing', 'Typing', 'Typing', 'Typing', 'Typing', 'Typing', 'Typing', 'Typing', 'Typing', 'Typing', 'Typing', 'Typing', 'Typing', 'Typing', 'Typing', 'Typing', 'Typing', 'Typing', 'Typing', 'Typing', 'Typing', 'Typing', 'Typing', 'Typing', 'Typing', 'Typing', 'Typing', 'Typing', 'Typing', 'Typing', 'Typing', 'Typing', 'Typing', 'Typing', 'Typing', 'Typing', 'Typing']\n",
      "['BabyCrawling', 'BabyCrawling', 'BabyCrawling', 'BabyCrawling', 'BabyCrawling', 'BabyCrawling', 'BabyCrawling', 'BabyCrawling', 'BabyCrawling', 'BabyCrawling', 'BabyCrawling', 'BabyCrawling', 'BabyCrawling', 'BabyCrawling', 'BabyCrawling', 'BabyCrawling', 'BabyCrawling', 'BabyCrawling', 'BabyCrawling', 'BabyCrawling', 'BabyCrawling', 'BabyCrawling', 'BabyCrawling', 'BabyCrawling', 'BabyCrawling', 'BabyCrawling', 'BabyCrawling', 'BabyCrawling', 'BabyCrawling', 'BabyCrawling', 'BabyCrawling', 'BabyCrawling', 'BabyCrawling', 'BabyCrawling', 'BabyCrawling', 'Surfing', 'Surfing', 'Surfing', 'Surfing', 'Surfing', 'Surfing', 'Surfing', 'Surfing', 'Surfing', 'Surfing', 'Surfing', 'Surfing', 'Surfing', 'Surfing', 'Surfing', 'Surfing', 'Surfing', 'Surfing', 'Surfing', 'Surfing', 'Surfing', 'Surfing', 'Surfing', 'Surfing', 'Surfing', 'Surfing', 'Surfing', 'Surfing', 'Surfing', 'Surfing', 'Surfing', 'Surfing', 'Surfing', 'Typing', 'Typing', 'Typing', 'Typing', 'Typing', 'Typing', 'Typing', 'Typing', 'Typing', 'Typing', 'Typing', 'Typing', 'Typing', 'Typing', 'Typing', 'Typing', 'Typing', 'Typing', 'Typing', 'Typing', 'BabyCrawling', 'Knitting', 'Knitting', 'Knitting', 'Typing', 'Typing', 'Typing', 'Typing', 'Typing', 'Typing', 'Typing', 'Typing', 'Typing', 'Typing', 'Typing', 'Typing', 'Typing', 'Typing', 'Typing', 'Typing', 'Typing']\n"
     ]
    },
    {
     "name": "stderr",
     "output_type": "stream",
     "text": [
      " 53%|██████████████████████████████████████████▎                                     | 110/208 [02:14<01:22,  1.19it/s]"
     ]
    },
    {
     "name": "stdout",
     "output_type": "stream",
     "text": [
      "['BabyCrawling', 'BabyCrawling', 'BabyCrawling', 'BabyCrawling', 'BabyCrawling', 'BabyCrawling', 'BabyCrawling', 'BabyCrawling', 'BabyCrawling', 'BabyCrawling', 'BabyCrawling', 'BabyCrawling', 'BabyCrawling', 'BabyCrawling', 'BabyCrawling', 'BabyCrawling', 'BabyCrawling', 'BabyCrawling', 'BabyCrawling', 'BabyCrawling', 'BabyCrawling', 'BabyCrawling', 'BabyCrawling', 'BabyCrawling', 'BabyCrawling', 'BabyCrawling', 'BabyCrawling', 'BabyCrawling', 'BabyCrawling', 'BabyCrawling', 'BabyCrawling', 'BabyCrawling', 'BabyCrawling', 'BabyCrawling', 'BabyCrawling', 'Surfing', 'Surfing', 'Surfing', 'Surfing', 'Surfing', 'Surfing', 'Surfing', 'Surfing', 'Surfing', 'Surfing', 'Surfing', 'Surfing', 'Surfing', 'Surfing', 'Surfing', 'Surfing', 'Surfing', 'Surfing', 'Surfing', 'Surfing', 'Surfing', 'Surfing', 'Surfing', 'Surfing', 'Surfing', 'Surfing', 'Surfing', 'Surfing', 'Surfing', 'Surfing', 'Surfing', 'Surfing', 'Surfing', 'Typing', 'Typing', 'Typing', 'Typing', 'Typing', 'Typing', 'Typing', 'Typing', 'Typing', 'Typing', 'Typing', 'Typing', 'Typing', 'Typing', 'Typing', 'Typing', 'Typing', 'Typing', 'Typing', 'Typing', 'Typing', 'Typing', 'Typing', 'Typing', 'Typing', 'Typing', 'Typing', 'Typing', 'Typing', 'Typing', 'Typing', 'Typing', 'Typing', 'Typing', 'Typing', 'Typing', 'Typing', 'Typing', 'Typing', 'Typing', 'Typing', 'Typing']\n",
      "['BabyCrawling', 'BabyCrawling', 'BabyCrawling', 'BabyCrawling', 'BabyCrawling', 'BabyCrawling', 'BabyCrawling', 'BabyCrawling', 'BabyCrawling', 'BabyCrawling', 'BabyCrawling', 'BabyCrawling', 'BabyCrawling', 'BabyCrawling', 'BabyCrawling', 'BabyCrawling', 'BabyCrawling', 'BabyCrawling', 'BabyCrawling', 'BabyCrawling', 'BabyCrawling', 'BabyCrawling', 'BabyCrawling', 'BabyCrawling', 'BabyCrawling', 'BabyCrawling', 'BabyCrawling', 'BabyCrawling', 'BabyCrawling', 'BabyCrawling', 'BabyCrawling', 'BabyCrawling', 'BabyCrawling', 'BabyCrawling', 'BabyCrawling', 'Surfing', 'Surfing', 'Surfing', 'Surfing', 'Surfing', 'Surfing', 'Surfing', 'Surfing', 'Surfing', 'Surfing', 'Surfing', 'Surfing', 'Surfing', 'Surfing', 'Surfing', 'Surfing', 'Surfing', 'Surfing', 'Surfing', 'Surfing', 'Surfing', 'Surfing', 'Surfing', 'Surfing', 'Surfing', 'Surfing', 'Surfing', 'Surfing', 'Surfing', 'Surfing', 'Surfing', 'Surfing', 'Surfing', 'Typing', 'Typing', 'Typing', 'Typing', 'Typing', 'Typing', 'Typing', 'Typing', 'Typing', 'Typing', 'Typing', 'Typing', 'Typing', 'Typing', 'Typing', 'Typing', 'Typing', 'Typing', 'Typing', 'Typing', 'BabyCrawling', 'Knitting', 'Knitting', 'Knitting', 'Typing', 'Typing', 'Typing', 'Typing', 'Typing', 'Typing', 'Typing', 'Typing', 'Typing', 'Typing', 'Typing', 'Typing', 'Typing', 'Typing', 'Typing', 'Typing', 'Typing', 'Typing']\n"
     ]
    },
    {
     "name": "stderr",
     "output_type": "stream",
     "text": [
      " 53%|██████████████████████████████████████████▋                                     | 111/208 [02:15<01:19,  1.21it/s]"
     ]
    },
    {
     "name": "stdout",
     "output_type": "stream",
     "text": [
      "['BabyCrawling', 'BabyCrawling', 'BabyCrawling', 'BabyCrawling', 'BabyCrawling', 'BabyCrawling', 'BabyCrawling', 'BabyCrawling', 'BabyCrawling', 'BabyCrawling', 'BabyCrawling', 'BabyCrawling', 'BabyCrawling', 'BabyCrawling', 'BabyCrawling', 'BabyCrawling', 'BabyCrawling', 'BabyCrawling', 'BabyCrawling', 'BabyCrawling', 'BabyCrawling', 'BabyCrawling', 'BabyCrawling', 'BabyCrawling', 'BabyCrawling', 'BabyCrawling', 'BabyCrawling', 'BabyCrawling', 'BabyCrawling', 'BabyCrawling', 'BabyCrawling', 'BabyCrawling', 'BabyCrawling', 'BabyCrawling', 'BabyCrawling', 'Surfing', 'Surfing', 'Surfing', 'Surfing', 'Surfing', 'Surfing', 'Surfing', 'Surfing', 'Surfing', 'Surfing', 'Surfing', 'Surfing', 'Surfing', 'Surfing', 'Surfing', 'Surfing', 'Surfing', 'Surfing', 'Surfing', 'Surfing', 'Surfing', 'Surfing', 'Surfing', 'Surfing', 'Surfing', 'Surfing', 'Surfing', 'Surfing', 'Surfing', 'Surfing', 'Surfing', 'Surfing', 'Surfing', 'Typing', 'Typing', 'Typing', 'Typing', 'Typing', 'Typing', 'Typing', 'Typing', 'Typing', 'Typing', 'Typing', 'Typing', 'Typing', 'Typing', 'Typing', 'Typing', 'Typing', 'Typing', 'Typing', 'Typing', 'Typing', 'Typing', 'Typing', 'Typing', 'Typing', 'Typing', 'Typing', 'Typing', 'Typing', 'Typing', 'Typing', 'Typing', 'Typing', 'Typing', 'Typing', 'Typing', 'Typing', 'Typing', 'Typing', 'Typing', 'Typing', 'Typing', 'Typing']\n",
      "['BabyCrawling', 'BabyCrawling', 'BabyCrawling', 'BabyCrawling', 'BabyCrawling', 'BabyCrawling', 'BabyCrawling', 'BabyCrawling', 'BabyCrawling', 'BabyCrawling', 'BabyCrawling', 'BabyCrawling', 'BabyCrawling', 'BabyCrawling', 'BabyCrawling', 'BabyCrawling', 'BabyCrawling', 'BabyCrawling', 'BabyCrawling', 'BabyCrawling', 'BabyCrawling', 'BabyCrawling', 'BabyCrawling', 'BabyCrawling', 'BabyCrawling', 'BabyCrawling', 'BabyCrawling', 'BabyCrawling', 'BabyCrawling', 'BabyCrawling', 'BabyCrawling', 'BabyCrawling', 'BabyCrawling', 'BabyCrawling', 'BabyCrawling', 'Surfing', 'Surfing', 'Surfing', 'Surfing', 'Surfing', 'Surfing', 'Surfing', 'Surfing', 'Surfing', 'Surfing', 'Surfing', 'Surfing', 'Surfing', 'Surfing', 'Surfing', 'Surfing', 'Surfing', 'Surfing', 'Surfing', 'Surfing', 'Surfing', 'Surfing', 'Surfing', 'Surfing', 'Surfing', 'Surfing', 'Surfing', 'Surfing', 'Surfing', 'Surfing', 'Surfing', 'Surfing', 'Surfing', 'Typing', 'Typing', 'Typing', 'Typing', 'Typing', 'Typing', 'Typing', 'Typing', 'Typing', 'Typing', 'Typing', 'Typing', 'Typing', 'Typing', 'Typing', 'Typing', 'Typing', 'Typing', 'Typing', 'Typing', 'BabyCrawling', 'Knitting', 'Knitting', 'Knitting', 'Typing', 'Typing', 'Typing', 'Typing', 'Typing', 'Typing', 'Typing', 'Typing', 'Typing', 'Typing', 'Typing', 'Typing', 'Typing', 'Typing', 'Typing', 'Typing', 'Typing', 'Typing', 'Typing']\n"
     ]
    },
    {
     "name": "stderr",
     "output_type": "stream",
     "text": [
      " 54%|███████████████████████████████████████████                                     | 112/208 [02:16<01:33,  1.02it/s]"
     ]
    },
    {
     "name": "stdout",
     "output_type": "stream",
     "text": [
      "['BabyCrawling', 'BabyCrawling', 'BabyCrawling', 'BabyCrawling', 'BabyCrawling', 'BabyCrawling', 'BabyCrawling', 'BabyCrawling', 'BabyCrawling', 'BabyCrawling', 'BabyCrawling', 'BabyCrawling', 'BabyCrawling', 'BabyCrawling', 'BabyCrawling', 'BabyCrawling', 'BabyCrawling', 'BabyCrawling', 'BabyCrawling', 'BabyCrawling', 'BabyCrawling', 'BabyCrawling', 'BabyCrawling', 'BabyCrawling', 'BabyCrawling', 'BabyCrawling', 'BabyCrawling', 'BabyCrawling', 'BabyCrawling', 'BabyCrawling', 'BabyCrawling', 'BabyCrawling', 'BabyCrawling', 'BabyCrawling', 'BabyCrawling', 'Surfing', 'Surfing', 'Surfing', 'Surfing', 'Surfing', 'Surfing', 'Surfing', 'Surfing', 'Surfing', 'Surfing', 'Surfing', 'Surfing', 'Surfing', 'Surfing', 'Surfing', 'Surfing', 'Surfing', 'Surfing', 'Surfing', 'Surfing', 'Surfing', 'Surfing', 'Surfing', 'Surfing', 'Surfing', 'Surfing', 'Surfing', 'Surfing', 'Surfing', 'Surfing', 'Surfing', 'Surfing', 'Surfing', 'Typing', 'Typing', 'Typing', 'Typing', 'Typing', 'Typing', 'Typing', 'Typing', 'Typing', 'Typing', 'Typing', 'Typing', 'Typing', 'Typing', 'Typing', 'Typing', 'Typing', 'Typing', 'Typing', 'Typing', 'Typing', 'Typing', 'Typing', 'Typing', 'Typing', 'Typing', 'Typing', 'Typing', 'Typing', 'Typing', 'Typing', 'Typing', 'Typing', 'Typing', 'Typing', 'Typing', 'Typing', 'Typing', 'Typing', 'Typing', 'Typing', 'Typing', 'Typing', 'WalkingWithDog']\n",
      "['BabyCrawling', 'BabyCrawling', 'BabyCrawling', 'BabyCrawling', 'BabyCrawling', 'BabyCrawling', 'BabyCrawling', 'BabyCrawling', 'BabyCrawling', 'BabyCrawling', 'BabyCrawling', 'BabyCrawling', 'BabyCrawling', 'BabyCrawling', 'BabyCrawling', 'BabyCrawling', 'BabyCrawling', 'BabyCrawling', 'BabyCrawling', 'BabyCrawling', 'BabyCrawling', 'BabyCrawling', 'BabyCrawling', 'BabyCrawling', 'BabyCrawling', 'BabyCrawling', 'BabyCrawling', 'BabyCrawling', 'BabyCrawling', 'BabyCrawling', 'BabyCrawling', 'BabyCrawling', 'BabyCrawling', 'BabyCrawling', 'BabyCrawling', 'Surfing', 'Surfing', 'Surfing', 'Surfing', 'Surfing', 'Surfing', 'Surfing', 'Surfing', 'Surfing', 'Surfing', 'Surfing', 'Surfing', 'Surfing', 'Surfing', 'Surfing', 'Surfing', 'Surfing', 'Surfing', 'Surfing', 'Surfing', 'Surfing', 'Surfing', 'Surfing', 'Surfing', 'Surfing', 'Surfing', 'Surfing', 'Surfing', 'Surfing', 'Surfing', 'Surfing', 'Surfing', 'Surfing', 'Typing', 'Typing', 'Typing', 'Typing', 'Typing', 'Typing', 'Typing', 'Typing', 'Typing', 'Typing', 'Typing', 'Typing', 'Typing', 'Typing', 'Typing', 'Typing', 'Typing', 'Typing', 'Typing', 'Typing', 'BabyCrawling', 'Knitting', 'Knitting', 'Knitting', 'Typing', 'Typing', 'Typing', 'Typing', 'Typing', 'Typing', 'Typing', 'Typing', 'Typing', 'Typing', 'Typing', 'Typing', 'Typing', 'Typing', 'Typing', 'Typing', 'Typing', 'Typing', 'Typing', 'WalkingWithDog']\n"
     ]
    },
    {
     "name": "stderr",
     "output_type": "stream",
     "text": [
      " 54%|███████████████████████████████████████████▍                                    | 113/208 [02:17<01:41,  1.07s/it]"
     ]
    },
    {
     "name": "stdout",
     "output_type": "stream",
     "text": [
      "['BabyCrawling', 'BabyCrawling', 'BabyCrawling', 'BabyCrawling', 'BabyCrawling', 'BabyCrawling', 'BabyCrawling', 'BabyCrawling', 'BabyCrawling', 'BabyCrawling', 'BabyCrawling', 'BabyCrawling', 'BabyCrawling', 'BabyCrawling', 'BabyCrawling', 'BabyCrawling', 'BabyCrawling', 'BabyCrawling', 'BabyCrawling', 'BabyCrawling', 'BabyCrawling', 'BabyCrawling', 'BabyCrawling', 'BabyCrawling', 'BabyCrawling', 'BabyCrawling', 'BabyCrawling', 'BabyCrawling', 'BabyCrawling', 'BabyCrawling', 'BabyCrawling', 'BabyCrawling', 'BabyCrawling', 'BabyCrawling', 'BabyCrawling', 'Surfing', 'Surfing', 'Surfing', 'Surfing', 'Surfing', 'Surfing', 'Surfing', 'Surfing', 'Surfing', 'Surfing', 'Surfing', 'Surfing', 'Surfing', 'Surfing', 'Surfing', 'Surfing', 'Surfing', 'Surfing', 'Surfing', 'Surfing', 'Surfing', 'Surfing', 'Surfing', 'Surfing', 'Surfing', 'Surfing', 'Surfing', 'Surfing', 'Surfing', 'Surfing', 'Surfing', 'Surfing', 'Surfing', 'Typing', 'Typing', 'Typing', 'Typing', 'Typing', 'Typing', 'Typing', 'Typing', 'Typing', 'Typing', 'Typing', 'Typing', 'Typing', 'Typing', 'Typing', 'Typing', 'Typing', 'Typing', 'Typing', 'Typing', 'Typing', 'Typing', 'Typing', 'Typing', 'Typing', 'Typing', 'Typing', 'Typing', 'Typing', 'Typing', 'Typing', 'Typing', 'Typing', 'Typing', 'Typing', 'Typing', 'Typing', 'Typing', 'Typing', 'Typing', 'Typing', 'Typing', 'Typing', 'WalkingWithDog', 'WalkingWithDog']\n",
      "['BabyCrawling', 'BabyCrawling', 'BabyCrawling', 'BabyCrawling', 'BabyCrawling', 'BabyCrawling', 'BabyCrawling', 'BabyCrawling', 'BabyCrawling', 'BabyCrawling', 'BabyCrawling', 'BabyCrawling', 'BabyCrawling', 'BabyCrawling', 'BabyCrawling', 'BabyCrawling', 'BabyCrawling', 'BabyCrawling', 'BabyCrawling', 'BabyCrawling', 'BabyCrawling', 'BabyCrawling', 'BabyCrawling', 'BabyCrawling', 'BabyCrawling', 'BabyCrawling', 'BabyCrawling', 'BabyCrawling', 'BabyCrawling', 'BabyCrawling', 'BabyCrawling', 'BabyCrawling', 'BabyCrawling', 'BabyCrawling', 'BabyCrawling', 'Surfing', 'Surfing', 'Surfing', 'Surfing', 'Surfing', 'Surfing', 'Surfing', 'Surfing', 'Surfing', 'Surfing', 'Surfing', 'Surfing', 'Surfing', 'Surfing', 'Surfing', 'Surfing', 'Surfing', 'Surfing', 'Surfing', 'Surfing', 'Surfing', 'Surfing', 'Surfing', 'Surfing', 'Surfing', 'Surfing', 'Surfing', 'Surfing', 'Surfing', 'Surfing', 'Surfing', 'Surfing', 'Surfing', 'Typing', 'Typing', 'Typing', 'Typing', 'Typing', 'Typing', 'Typing', 'Typing', 'Typing', 'Typing', 'Typing', 'Typing', 'Typing', 'Typing', 'Typing', 'Typing', 'Typing', 'Typing', 'Typing', 'Typing', 'BabyCrawling', 'Knitting', 'Knitting', 'Knitting', 'Typing', 'Typing', 'Typing', 'Typing', 'Typing', 'Typing', 'Typing', 'Typing', 'Typing', 'Typing', 'Typing', 'Typing', 'Typing', 'Typing', 'Typing', 'Typing', 'Typing', 'Typing', 'Typing', 'WalkingWithDog', 'WalkingWithDog']\n"
     ]
    },
    {
     "name": "stderr",
     "output_type": "stream",
     "text": [
      " 55%|███████████████████████████████████████████▊                                    | 114/208 [02:18<01:46,  1.13s/it]"
     ]
    },
    {
     "name": "stdout",
     "output_type": "stream",
     "text": [
      "['BabyCrawling', 'BabyCrawling', 'BabyCrawling', 'BabyCrawling', 'BabyCrawling', 'BabyCrawling', 'BabyCrawling', 'BabyCrawling', 'BabyCrawling', 'BabyCrawling', 'BabyCrawling', 'BabyCrawling', 'BabyCrawling', 'BabyCrawling', 'BabyCrawling', 'BabyCrawling', 'BabyCrawling', 'BabyCrawling', 'BabyCrawling', 'BabyCrawling', 'BabyCrawling', 'BabyCrawling', 'BabyCrawling', 'BabyCrawling', 'BabyCrawling', 'BabyCrawling', 'BabyCrawling', 'BabyCrawling', 'BabyCrawling', 'BabyCrawling', 'BabyCrawling', 'BabyCrawling', 'BabyCrawling', 'BabyCrawling', 'BabyCrawling', 'Surfing', 'Surfing', 'Surfing', 'Surfing', 'Surfing', 'Surfing', 'Surfing', 'Surfing', 'Surfing', 'Surfing', 'Surfing', 'Surfing', 'Surfing', 'Surfing', 'Surfing', 'Surfing', 'Surfing', 'Surfing', 'Surfing', 'Surfing', 'Surfing', 'Surfing', 'Surfing', 'Surfing', 'Surfing', 'Surfing', 'Surfing', 'Surfing', 'Surfing', 'Surfing', 'Surfing', 'Surfing', 'Surfing', 'Typing', 'Typing', 'Typing', 'Typing', 'Typing', 'Typing', 'Typing', 'Typing', 'Typing', 'Typing', 'Typing', 'Typing', 'Typing', 'Typing', 'Typing', 'Typing', 'Typing', 'Typing', 'Typing', 'Typing', 'Typing', 'Typing', 'Typing', 'Typing', 'Typing', 'Typing', 'Typing', 'Typing', 'Typing', 'Typing', 'Typing', 'Typing', 'Typing', 'Typing', 'Typing', 'Typing', 'Typing', 'Typing', 'Typing', 'Typing', 'Typing', 'Typing', 'Typing', 'WalkingWithDog', 'WalkingWithDog', 'WalkingWithDog']\n",
      "['BabyCrawling', 'BabyCrawling', 'BabyCrawling', 'BabyCrawling', 'BabyCrawling', 'BabyCrawling', 'BabyCrawling', 'BabyCrawling', 'BabyCrawling', 'BabyCrawling', 'BabyCrawling', 'BabyCrawling', 'BabyCrawling', 'BabyCrawling', 'BabyCrawling', 'BabyCrawling', 'BabyCrawling', 'BabyCrawling', 'BabyCrawling', 'BabyCrawling', 'BabyCrawling', 'BabyCrawling', 'BabyCrawling', 'BabyCrawling', 'BabyCrawling', 'BabyCrawling', 'BabyCrawling', 'BabyCrawling', 'BabyCrawling', 'BabyCrawling', 'BabyCrawling', 'BabyCrawling', 'BabyCrawling', 'BabyCrawling', 'BabyCrawling', 'Surfing', 'Surfing', 'Surfing', 'Surfing', 'Surfing', 'Surfing', 'Surfing', 'Surfing', 'Surfing', 'Surfing', 'Surfing', 'Surfing', 'Surfing', 'Surfing', 'Surfing', 'Surfing', 'Surfing', 'Surfing', 'Surfing', 'Surfing', 'Surfing', 'Surfing', 'Surfing', 'Surfing', 'Surfing', 'Surfing', 'Surfing', 'Surfing', 'Surfing', 'Surfing', 'Surfing', 'Surfing', 'Surfing', 'Typing', 'Typing', 'Typing', 'Typing', 'Typing', 'Typing', 'Typing', 'Typing', 'Typing', 'Typing', 'Typing', 'Typing', 'Typing', 'Typing', 'Typing', 'Typing', 'Typing', 'Typing', 'Typing', 'Typing', 'BabyCrawling', 'Knitting', 'Knitting', 'Knitting', 'Typing', 'Typing', 'Typing', 'Typing', 'Typing', 'Typing', 'Typing', 'Typing', 'Typing', 'Typing', 'Typing', 'Typing', 'Typing', 'Typing', 'Typing', 'Typing', 'Typing', 'Typing', 'Typing', 'WalkingWithDog', 'WalkingWithDog', 'WalkingWithDog']\n"
     ]
    },
    {
     "name": "stderr",
     "output_type": "stream",
     "text": [
      " 55%|████████████████████████████████████████████▏                                   | 115/208 [02:19<01:42,  1.11s/it]"
     ]
    },
    {
     "name": "stdout",
     "output_type": "stream",
     "text": [
      "['BabyCrawling', 'BabyCrawling', 'BabyCrawling', 'BabyCrawling', 'BabyCrawling', 'BabyCrawling', 'BabyCrawling', 'BabyCrawling', 'BabyCrawling', 'BabyCrawling', 'BabyCrawling', 'BabyCrawling', 'BabyCrawling', 'BabyCrawling', 'BabyCrawling', 'BabyCrawling', 'BabyCrawling', 'BabyCrawling', 'BabyCrawling', 'BabyCrawling', 'BabyCrawling', 'BabyCrawling', 'BabyCrawling', 'BabyCrawling', 'BabyCrawling', 'BabyCrawling', 'BabyCrawling', 'BabyCrawling', 'BabyCrawling', 'BabyCrawling', 'BabyCrawling', 'BabyCrawling', 'BabyCrawling', 'BabyCrawling', 'BabyCrawling', 'Surfing', 'Surfing', 'Surfing', 'Surfing', 'Surfing', 'Surfing', 'Surfing', 'Surfing', 'Surfing', 'Surfing', 'Surfing', 'Surfing', 'Surfing', 'Surfing', 'Surfing', 'Surfing', 'Surfing', 'Surfing', 'Surfing', 'Surfing', 'Surfing', 'Surfing', 'Surfing', 'Surfing', 'Surfing', 'Surfing', 'Surfing', 'Surfing', 'Surfing', 'Surfing', 'Surfing', 'Surfing', 'Surfing', 'Typing', 'Typing', 'Typing', 'Typing', 'Typing', 'Typing', 'Typing', 'Typing', 'Typing', 'Typing', 'Typing', 'Typing', 'Typing', 'Typing', 'Typing', 'Typing', 'Typing', 'Typing', 'Typing', 'Typing', 'Typing', 'Typing', 'Typing', 'Typing', 'Typing', 'Typing', 'Typing', 'Typing', 'Typing', 'Typing', 'Typing', 'Typing', 'Typing', 'Typing', 'Typing', 'Typing', 'Typing', 'Typing', 'Typing', 'Typing', 'Typing', 'Typing', 'Typing', 'WalkingWithDog', 'WalkingWithDog', 'WalkingWithDog', 'WalkingWithDog']\n",
      "['BabyCrawling', 'BabyCrawling', 'BabyCrawling', 'BabyCrawling', 'BabyCrawling', 'BabyCrawling', 'BabyCrawling', 'BabyCrawling', 'BabyCrawling', 'BabyCrawling', 'BabyCrawling', 'BabyCrawling', 'BabyCrawling', 'BabyCrawling', 'BabyCrawling', 'BabyCrawling', 'BabyCrawling', 'BabyCrawling', 'BabyCrawling', 'BabyCrawling', 'BabyCrawling', 'BabyCrawling', 'BabyCrawling', 'BabyCrawling', 'BabyCrawling', 'BabyCrawling', 'BabyCrawling', 'BabyCrawling', 'BabyCrawling', 'BabyCrawling', 'BabyCrawling', 'BabyCrawling', 'BabyCrawling', 'BabyCrawling', 'BabyCrawling', 'Surfing', 'Surfing', 'Surfing', 'Surfing', 'Surfing', 'Surfing', 'Surfing', 'Surfing', 'Surfing', 'Surfing', 'Surfing', 'Surfing', 'Surfing', 'Surfing', 'Surfing', 'Surfing', 'Surfing', 'Surfing', 'Surfing', 'Surfing', 'Surfing', 'Surfing', 'Surfing', 'Surfing', 'Surfing', 'Surfing', 'Surfing', 'Surfing', 'Surfing', 'Surfing', 'Surfing', 'Surfing', 'Surfing', 'Typing', 'Typing', 'Typing', 'Typing', 'Typing', 'Typing', 'Typing', 'Typing', 'Typing', 'Typing', 'Typing', 'Typing', 'Typing', 'Typing', 'Typing', 'Typing', 'Typing', 'Typing', 'Typing', 'Typing', 'BabyCrawling', 'Knitting', 'Knitting', 'Knitting', 'Typing', 'Typing', 'Typing', 'Typing', 'Typing', 'Typing', 'Typing', 'Typing', 'Typing', 'Typing', 'Typing', 'Typing', 'Typing', 'Typing', 'Typing', 'Typing', 'Typing', 'Typing', 'Typing', 'WalkingWithDog', 'WalkingWithDog', 'WalkingWithDog', 'WalkingWithDog']\n"
     ]
    },
    {
     "name": "stderr",
     "output_type": "stream",
     "text": [
      " 56%|████████████████████████████████████████████▌                                   | 116/208 [02:21<01:44,  1.14s/it]"
     ]
    },
    {
     "name": "stdout",
     "output_type": "stream",
     "text": [
      "['BabyCrawling', 'BabyCrawling', 'BabyCrawling', 'BabyCrawling', 'BabyCrawling', 'BabyCrawling', 'BabyCrawling', 'BabyCrawling', 'BabyCrawling', 'BabyCrawling', 'BabyCrawling', 'BabyCrawling', 'BabyCrawling', 'BabyCrawling', 'BabyCrawling', 'BabyCrawling', 'BabyCrawling', 'BabyCrawling', 'BabyCrawling', 'BabyCrawling', 'BabyCrawling', 'BabyCrawling', 'BabyCrawling', 'BabyCrawling', 'BabyCrawling', 'BabyCrawling', 'BabyCrawling', 'BabyCrawling', 'BabyCrawling', 'BabyCrawling', 'BabyCrawling', 'BabyCrawling', 'BabyCrawling', 'BabyCrawling', 'BabyCrawling', 'Surfing', 'Surfing', 'Surfing', 'Surfing', 'Surfing', 'Surfing', 'Surfing', 'Surfing', 'Surfing', 'Surfing', 'Surfing', 'Surfing', 'Surfing', 'Surfing', 'Surfing', 'Surfing', 'Surfing', 'Surfing', 'Surfing', 'Surfing', 'Surfing', 'Surfing', 'Surfing', 'Surfing', 'Surfing', 'Surfing', 'Surfing', 'Surfing', 'Surfing', 'Surfing', 'Surfing', 'Surfing', 'Surfing', 'Typing', 'Typing', 'Typing', 'Typing', 'Typing', 'Typing', 'Typing', 'Typing', 'Typing', 'Typing', 'Typing', 'Typing', 'Typing', 'Typing', 'Typing', 'Typing', 'Typing', 'Typing', 'Typing', 'Typing', 'Typing', 'Typing', 'Typing', 'Typing', 'Typing', 'Typing', 'Typing', 'Typing', 'Typing', 'Typing', 'Typing', 'Typing', 'Typing', 'Typing', 'Typing', 'Typing', 'Typing', 'Typing', 'Typing', 'Typing', 'Typing', 'Typing', 'Typing', 'WalkingWithDog', 'WalkingWithDog', 'WalkingWithDog', 'WalkingWithDog', 'WalkingWithDog']\n",
      "['BabyCrawling', 'BabyCrawling', 'BabyCrawling', 'BabyCrawling', 'BabyCrawling', 'BabyCrawling', 'BabyCrawling', 'BabyCrawling', 'BabyCrawling', 'BabyCrawling', 'BabyCrawling', 'BabyCrawling', 'BabyCrawling', 'BabyCrawling', 'BabyCrawling', 'BabyCrawling', 'BabyCrawling', 'BabyCrawling', 'BabyCrawling', 'BabyCrawling', 'BabyCrawling', 'BabyCrawling', 'BabyCrawling', 'BabyCrawling', 'BabyCrawling', 'BabyCrawling', 'BabyCrawling', 'BabyCrawling', 'BabyCrawling', 'BabyCrawling', 'BabyCrawling', 'BabyCrawling', 'BabyCrawling', 'BabyCrawling', 'BabyCrawling', 'Surfing', 'Surfing', 'Surfing', 'Surfing', 'Surfing', 'Surfing', 'Surfing', 'Surfing', 'Surfing', 'Surfing', 'Surfing', 'Surfing', 'Surfing', 'Surfing', 'Surfing', 'Surfing', 'Surfing', 'Surfing', 'Surfing', 'Surfing', 'Surfing', 'Surfing', 'Surfing', 'Surfing', 'Surfing', 'Surfing', 'Surfing', 'Surfing', 'Surfing', 'Surfing', 'Surfing', 'Surfing', 'Surfing', 'Typing', 'Typing', 'Typing', 'Typing', 'Typing', 'Typing', 'Typing', 'Typing', 'Typing', 'Typing', 'Typing', 'Typing', 'Typing', 'Typing', 'Typing', 'Typing', 'Typing', 'Typing', 'Typing', 'Typing', 'BabyCrawling', 'Knitting', 'Knitting', 'Knitting', 'Typing', 'Typing', 'Typing', 'Typing', 'Typing', 'Typing', 'Typing', 'Typing', 'Typing', 'Typing', 'Typing', 'Typing', 'Typing', 'Typing', 'Typing', 'Typing', 'Typing', 'Typing', 'Typing', 'WalkingWithDog', 'WalkingWithDog', 'WalkingWithDog', 'WalkingWithDog', 'WalkingWithDog']\n"
     ]
    },
    {
     "name": "stderr",
     "output_type": "stream",
     "text": [
      " 56%|█████████████████████████████████████████████                                   | 117/208 [02:22<01:46,  1.17s/it]"
     ]
    },
    {
     "name": "stdout",
     "output_type": "stream",
     "text": [
      "['BabyCrawling', 'BabyCrawling', 'BabyCrawling', 'BabyCrawling', 'BabyCrawling', 'BabyCrawling', 'BabyCrawling', 'BabyCrawling', 'BabyCrawling', 'BabyCrawling', 'BabyCrawling', 'BabyCrawling', 'BabyCrawling', 'BabyCrawling', 'BabyCrawling', 'BabyCrawling', 'BabyCrawling', 'BabyCrawling', 'BabyCrawling', 'BabyCrawling', 'BabyCrawling', 'BabyCrawling', 'BabyCrawling', 'BabyCrawling', 'BabyCrawling', 'BabyCrawling', 'BabyCrawling', 'BabyCrawling', 'BabyCrawling', 'BabyCrawling', 'BabyCrawling', 'BabyCrawling', 'BabyCrawling', 'BabyCrawling', 'BabyCrawling', 'Surfing', 'Surfing', 'Surfing', 'Surfing', 'Surfing', 'Surfing', 'Surfing', 'Surfing', 'Surfing', 'Surfing', 'Surfing', 'Surfing', 'Surfing', 'Surfing', 'Surfing', 'Surfing', 'Surfing', 'Surfing', 'Surfing', 'Surfing', 'Surfing', 'Surfing', 'Surfing', 'Surfing', 'Surfing', 'Surfing', 'Surfing', 'Surfing', 'Surfing', 'Surfing', 'Surfing', 'Surfing', 'Surfing', 'Typing', 'Typing', 'Typing', 'Typing', 'Typing', 'Typing', 'Typing', 'Typing', 'Typing', 'Typing', 'Typing', 'Typing', 'Typing', 'Typing', 'Typing', 'Typing', 'Typing', 'Typing', 'Typing', 'Typing', 'Typing', 'Typing', 'Typing', 'Typing', 'Typing', 'Typing', 'Typing', 'Typing', 'Typing', 'Typing', 'Typing', 'Typing', 'Typing', 'Typing', 'Typing', 'Typing', 'Typing', 'Typing', 'Typing', 'Typing', 'Typing', 'Typing', 'Typing', 'WalkingWithDog', 'WalkingWithDog', 'WalkingWithDog', 'WalkingWithDog', 'WalkingWithDog', 'WalkingWithDog']\n",
      "['BabyCrawling', 'BabyCrawling', 'BabyCrawling', 'BabyCrawling', 'BabyCrawling', 'BabyCrawling', 'BabyCrawling', 'BabyCrawling', 'BabyCrawling', 'BabyCrawling', 'BabyCrawling', 'BabyCrawling', 'BabyCrawling', 'BabyCrawling', 'BabyCrawling', 'BabyCrawling', 'BabyCrawling', 'BabyCrawling', 'BabyCrawling', 'BabyCrawling', 'BabyCrawling', 'BabyCrawling', 'BabyCrawling', 'BabyCrawling', 'BabyCrawling', 'BabyCrawling', 'BabyCrawling', 'BabyCrawling', 'BabyCrawling', 'BabyCrawling', 'BabyCrawling', 'BabyCrawling', 'BabyCrawling', 'BabyCrawling', 'BabyCrawling', 'Surfing', 'Surfing', 'Surfing', 'Surfing', 'Surfing', 'Surfing', 'Surfing', 'Surfing', 'Surfing', 'Surfing', 'Surfing', 'Surfing', 'Surfing', 'Surfing', 'Surfing', 'Surfing', 'Surfing', 'Surfing', 'Surfing', 'Surfing', 'Surfing', 'Surfing', 'Surfing', 'Surfing', 'Surfing', 'Surfing', 'Surfing', 'Surfing', 'Surfing', 'Surfing', 'Surfing', 'Surfing', 'Surfing', 'Typing', 'Typing', 'Typing', 'Typing', 'Typing', 'Typing', 'Typing', 'Typing', 'Typing', 'Typing', 'Typing', 'Typing', 'Typing', 'Typing', 'Typing', 'Typing', 'Typing', 'Typing', 'Typing', 'Typing', 'BabyCrawling', 'Knitting', 'Knitting', 'Knitting', 'Typing', 'Typing', 'Typing', 'Typing', 'Typing', 'Typing', 'Typing', 'Typing', 'Typing', 'Typing', 'Typing', 'Typing', 'Typing', 'Typing', 'Typing', 'Typing', 'Typing', 'Typing', 'Typing', 'WalkingWithDog', 'WalkingWithDog', 'WalkingWithDog', 'WalkingWithDog', 'WalkingWithDog', 'WalkingWithDog']\n"
     ]
    },
    {
     "name": "stderr",
     "output_type": "stream",
     "text": [
      " 57%|█████████████████████████████████████████████▍                                  | 118/208 [02:23<01:47,  1.19s/it]"
     ]
    },
    {
     "name": "stdout",
     "output_type": "stream",
     "text": [
      "['BabyCrawling', 'BabyCrawling', 'BabyCrawling', 'BabyCrawling', 'BabyCrawling', 'BabyCrawling', 'BabyCrawling', 'BabyCrawling', 'BabyCrawling', 'BabyCrawling', 'BabyCrawling', 'BabyCrawling', 'BabyCrawling', 'BabyCrawling', 'BabyCrawling', 'BabyCrawling', 'BabyCrawling', 'BabyCrawling', 'BabyCrawling', 'BabyCrawling', 'BabyCrawling', 'BabyCrawling', 'BabyCrawling', 'BabyCrawling', 'BabyCrawling', 'BabyCrawling', 'BabyCrawling', 'BabyCrawling', 'BabyCrawling', 'BabyCrawling', 'BabyCrawling', 'BabyCrawling', 'BabyCrawling', 'BabyCrawling', 'BabyCrawling', 'Surfing', 'Surfing', 'Surfing', 'Surfing', 'Surfing', 'Surfing', 'Surfing', 'Surfing', 'Surfing', 'Surfing', 'Surfing', 'Surfing', 'Surfing', 'Surfing', 'Surfing', 'Surfing', 'Surfing', 'Surfing', 'Surfing', 'Surfing', 'Surfing', 'Surfing', 'Surfing', 'Surfing', 'Surfing', 'Surfing', 'Surfing', 'Surfing', 'Surfing', 'Surfing', 'Surfing', 'Surfing', 'Surfing', 'Typing', 'Typing', 'Typing', 'Typing', 'Typing', 'Typing', 'Typing', 'Typing', 'Typing', 'Typing', 'Typing', 'Typing', 'Typing', 'Typing', 'Typing', 'Typing', 'Typing', 'Typing', 'Typing', 'Typing', 'Typing', 'Typing', 'Typing', 'Typing', 'Typing', 'Typing', 'Typing', 'Typing', 'Typing', 'Typing', 'Typing', 'Typing', 'Typing', 'Typing', 'Typing', 'Typing', 'Typing', 'Typing', 'Typing', 'Typing', 'Typing', 'Typing', 'Typing', 'WalkingWithDog', 'WalkingWithDog', 'WalkingWithDog', 'WalkingWithDog', 'WalkingWithDog', 'WalkingWithDog', 'WalkingWithDog']\n",
      "['BabyCrawling', 'BabyCrawling', 'BabyCrawling', 'BabyCrawling', 'BabyCrawling', 'BabyCrawling', 'BabyCrawling', 'BabyCrawling', 'BabyCrawling', 'BabyCrawling', 'BabyCrawling', 'BabyCrawling', 'BabyCrawling', 'BabyCrawling', 'BabyCrawling', 'BabyCrawling', 'BabyCrawling', 'BabyCrawling', 'BabyCrawling', 'BabyCrawling', 'BabyCrawling', 'BabyCrawling', 'BabyCrawling', 'BabyCrawling', 'BabyCrawling', 'BabyCrawling', 'BabyCrawling', 'BabyCrawling', 'BabyCrawling', 'BabyCrawling', 'BabyCrawling', 'BabyCrawling', 'BabyCrawling', 'BabyCrawling', 'BabyCrawling', 'Surfing', 'Surfing', 'Surfing', 'Surfing', 'Surfing', 'Surfing', 'Surfing', 'Surfing', 'Surfing', 'Surfing', 'Surfing', 'Surfing', 'Surfing', 'Surfing', 'Surfing', 'Surfing', 'Surfing', 'Surfing', 'Surfing', 'Surfing', 'Surfing', 'Surfing', 'Surfing', 'Surfing', 'Surfing', 'Surfing', 'Surfing', 'Surfing', 'Surfing', 'Surfing', 'Surfing', 'Surfing', 'Surfing', 'Typing', 'Typing', 'Typing', 'Typing', 'Typing', 'Typing', 'Typing', 'Typing', 'Typing', 'Typing', 'Typing', 'Typing', 'Typing', 'Typing', 'Typing', 'Typing', 'Typing', 'Typing', 'Typing', 'Typing', 'BabyCrawling', 'Knitting', 'Knitting', 'Knitting', 'Typing', 'Typing', 'Typing', 'Typing', 'Typing', 'Typing', 'Typing', 'Typing', 'Typing', 'Typing', 'Typing', 'Typing', 'Typing', 'Typing', 'Typing', 'Typing', 'Typing', 'Typing', 'Typing', 'WalkingWithDog', 'WalkingWithDog', 'WalkingWithDog', 'WalkingWithDog', 'WalkingWithDog', 'WalkingWithDog', 'WalkingWithDog']\n"
     ]
    },
    {
     "name": "stderr",
     "output_type": "stream",
     "text": [
      " 57%|█████████████████████████████████████████████▊                                  | 119/208 [02:24<01:47,  1.21s/it]"
     ]
    },
    {
     "name": "stdout",
     "output_type": "stream",
     "text": [
      "['BabyCrawling', 'BabyCrawling', 'BabyCrawling', 'BabyCrawling', 'BabyCrawling', 'BabyCrawling', 'BabyCrawling', 'BabyCrawling', 'BabyCrawling', 'BabyCrawling', 'BabyCrawling', 'BabyCrawling', 'BabyCrawling', 'BabyCrawling', 'BabyCrawling', 'BabyCrawling', 'BabyCrawling', 'BabyCrawling', 'BabyCrawling', 'BabyCrawling', 'BabyCrawling', 'BabyCrawling', 'BabyCrawling', 'BabyCrawling', 'BabyCrawling', 'BabyCrawling', 'BabyCrawling', 'BabyCrawling', 'BabyCrawling', 'BabyCrawling', 'BabyCrawling', 'BabyCrawling', 'BabyCrawling', 'BabyCrawling', 'BabyCrawling', 'Surfing', 'Surfing', 'Surfing', 'Surfing', 'Surfing', 'Surfing', 'Surfing', 'Surfing', 'Surfing', 'Surfing', 'Surfing', 'Surfing', 'Surfing', 'Surfing', 'Surfing', 'Surfing', 'Surfing', 'Surfing', 'Surfing', 'Surfing', 'Surfing', 'Surfing', 'Surfing', 'Surfing', 'Surfing', 'Surfing', 'Surfing', 'Surfing', 'Surfing', 'Surfing', 'Surfing', 'Surfing', 'Surfing', 'Typing', 'Typing', 'Typing', 'Typing', 'Typing', 'Typing', 'Typing', 'Typing', 'Typing', 'Typing', 'Typing', 'Typing', 'Typing', 'Typing', 'Typing', 'Typing', 'Typing', 'Typing', 'Typing', 'Typing', 'Typing', 'Typing', 'Typing', 'Typing', 'Typing', 'Typing', 'Typing', 'Typing', 'Typing', 'Typing', 'Typing', 'Typing', 'Typing', 'Typing', 'Typing', 'Typing', 'Typing', 'Typing', 'Typing', 'Typing', 'Typing', 'Typing', 'Typing', 'WalkingWithDog', 'WalkingWithDog', 'WalkingWithDog', 'WalkingWithDog', 'WalkingWithDog', 'WalkingWithDog', 'WalkingWithDog', 'WalkingWithDog']\n",
      "['BabyCrawling', 'BabyCrawling', 'BabyCrawling', 'BabyCrawling', 'BabyCrawling', 'BabyCrawling', 'BabyCrawling', 'BabyCrawling', 'BabyCrawling', 'BabyCrawling', 'BabyCrawling', 'BabyCrawling', 'BabyCrawling', 'BabyCrawling', 'BabyCrawling', 'BabyCrawling', 'BabyCrawling', 'BabyCrawling', 'BabyCrawling', 'BabyCrawling', 'BabyCrawling', 'BabyCrawling', 'BabyCrawling', 'BabyCrawling', 'BabyCrawling', 'BabyCrawling', 'BabyCrawling', 'BabyCrawling', 'BabyCrawling', 'BabyCrawling', 'BabyCrawling', 'BabyCrawling', 'BabyCrawling', 'BabyCrawling', 'BabyCrawling', 'Surfing', 'Surfing', 'Surfing', 'Surfing', 'Surfing', 'Surfing', 'Surfing', 'Surfing', 'Surfing', 'Surfing', 'Surfing', 'Surfing', 'Surfing', 'Surfing', 'Surfing', 'Surfing', 'Surfing', 'Surfing', 'Surfing', 'Surfing', 'Surfing', 'Surfing', 'Surfing', 'Surfing', 'Surfing', 'Surfing', 'Surfing', 'Surfing', 'Surfing', 'Surfing', 'Surfing', 'Surfing', 'Surfing', 'Typing', 'Typing', 'Typing', 'Typing', 'Typing', 'Typing', 'Typing', 'Typing', 'Typing', 'Typing', 'Typing', 'Typing', 'Typing', 'Typing', 'Typing', 'Typing', 'Typing', 'Typing', 'Typing', 'Typing', 'BabyCrawling', 'Knitting', 'Knitting', 'Knitting', 'Typing', 'Typing', 'Typing', 'Typing', 'Typing', 'Typing', 'Typing', 'Typing', 'Typing', 'Typing', 'Typing', 'Typing', 'Typing', 'Typing', 'Typing', 'Typing', 'Typing', 'Typing', 'Typing', 'WalkingWithDog', 'WalkingWithDog', 'WalkingWithDog', 'WalkingWithDog', 'WalkingWithDog', 'WalkingWithDog', 'WalkingWithDog', 'WalkingWithDog']\n"
     ]
    },
    {
     "name": "stderr",
     "output_type": "stream",
     "text": [
      " 58%|██████████████████████████████████████████████▏                                 | 120/208 [02:26<01:50,  1.25s/it]"
     ]
    },
    {
     "name": "stdout",
     "output_type": "stream",
     "text": [
      "['BabyCrawling', 'BabyCrawling', 'BabyCrawling', 'BabyCrawling', 'BabyCrawling', 'BabyCrawling', 'BabyCrawling', 'BabyCrawling', 'BabyCrawling', 'BabyCrawling', 'BabyCrawling', 'BabyCrawling', 'BabyCrawling', 'BabyCrawling', 'BabyCrawling', 'BabyCrawling', 'BabyCrawling', 'BabyCrawling', 'BabyCrawling', 'BabyCrawling', 'BabyCrawling', 'BabyCrawling', 'BabyCrawling', 'BabyCrawling', 'BabyCrawling', 'BabyCrawling', 'BabyCrawling', 'BabyCrawling', 'BabyCrawling', 'BabyCrawling', 'BabyCrawling', 'BabyCrawling', 'BabyCrawling', 'BabyCrawling', 'BabyCrawling', 'Surfing', 'Surfing', 'Surfing', 'Surfing', 'Surfing', 'Surfing', 'Surfing', 'Surfing', 'Surfing', 'Surfing', 'Surfing', 'Surfing', 'Surfing', 'Surfing', 'Surfing', 'Surfing', 'Surfing', 'Surfing', 'Surfing', 'Surfing', 'Surfing', 'Surfing', 'Surfing', 'Surfing', 'Surfing', 'Surfing', 'Surfing', 'Surfing', 'Surfing', 'Surfing', 'Surfing', 'Surfing', 'Surfing', 'Typing', 'Typing', 'Typing', 'Typing', 'Typing', 'Typing', 'Typing', 'Typing', 'Typing', 'Typing', 'Typing', 'Typing', 'Typing', 'Typing', 'Typing', 'Typing', 'Typing', 'Typing', 'Typing', 'Typing', 'Typing', 'Typing', 'Typing', 'Typing', 'Typing', 'Typing', 'Typing', 'Typing', 'Typing', 'Typing', 'Typing', 'Typing', 'Typing', 'Typing', 'Typing', 'Typing', 'Typing', 'Typing', 'Typing', 'Typing', 'Typing', 'Typing', 'Typing', 'WalkingWithDog', 'WalkingWithDog', 'WalkingWithDog', 'WalkingWithDog', 'WalkingWithDog', 'WalkingWithDog', 'WalkingWithDog', 'WalkingWithDog', 'WalkingWithDog']\n",
      "['BabyCrawling', 'BabyCrawling', 'BabyCrawling', 'BabyCrawling', 'BabyCrawling', 'BabyCrawling', 'BabyCrawling', 'BabyCrawling', 'BabyCrawling', 'BabyCrawling', 'BabyCrawling', 'BabyCrawling', 'BabyCrawling', 'BabyCrawling', 'BabyCrawling', 'BabyCrawling', 'BabyCrawling', 'BabyCrawling', 'BabyCrawling', 'BabyCrawling', 'BabyCrawling', 'BabyCrawling', 'BabyCrawling', 'BabyCrawling', 'BabyCrawling', 'BabyCrawling', 'BabyCrawling', 'BabyCrawling', 'BabyCrawling', 'BabyCrawling', 'BabyCrawling', 'BabyCrawling', 'BabyCrawling', 'BabyCrawling', 'BabyCrawling', 'Surfing', 'Surfing', 'Surfing', 'Surfing', 'Surfing', 'Surfing', 'Surfing', 'Surfing', 'Surfing', 'Surfing', 'Surfing', 'Surfing', 'Surfing', 'Surfing', 'Surfing', 'Surfing', 'Surfing', 'Surfing', 'Surfing', 'Surfing', 'Surfing', 'Surfing', 'Surfing', 'Surfing', 'Surfing', 'Surfing', 'Surfing', 'Surfing', 'Surfing', 'Surfing', 'Surfing', 'Surfing', 'Surfing', 'Typing', 'Typing', 'Typing', 'Typing', 'Typing', 'Typing', 'Typing', 'Typing', 'Typing', 'Typing', 'Typing', 'Typing', 'Typing', 'Typing', 'Typing', 'Typing', 'Typing', 'Typing', 'Typing', 'Typing', 'BabyCrawling', 'Knitting', 'Knitting', 'Knitting', 'Typing', 'Typing', 'Typing', 'Typing', 'Typing', 'Typing', 'Typing', 'Typing', 'Typing', 'Typing', 'Typing', 'Typing', 'Typing', 'Typing', 'Typing', 'Typing', 'Typing', 'Typing', 'Typing', 'WalkingWithDog', 'WalkingWithDog', 'WalkingWithDog', 'WalkingWithDog', 'WalkingWithDog', 'WalkingWithDog', 'WalkingWithDog', 'WalkingWithDog', 'WalkingWithDog']\n"
     ]
    },
    {
     "name": "stderr",
     "output_type": "stream",
     "text": [
      " 58%|██████████████████████████████████████████████▌                                 | 121/208 [02:27<01:49,  1.26s/it]"
     ]
    },
    {
     "name": "stdout",
     "output_type": "stream",
     "text": [
      "['BabyCrawling', 'BabyCrawling', 'BabyCrawling', 'BabyCrawling', 'BabyCrawling', 'BabyCrawling', 'BabyCrawling', 'BabyCrawling', 'BabyCrawling', 'BabyCrawling', 'BabyCrawling', 'BabyCrawling', 'BabyCrawling', 'BabyCrawling', 'BabyCrawling', 'BabyCrawling', 'BabyCrawling', 'BabyCrawling', 'BabyCrawling', 'BabyCrawling', 'BabyCrawling', 'BabyCrawling', 'BabyCrawling', 'BabyCrawling', 'BabyCrawling', 'BabyCrawling', 'BabyCrawling', 'BabyCrawling', 'BabyCrawling', 'BabyCrawling', 'BabyCrawling', 'BabyCrawling', 'BabyCrawling', 'BabyCrawling', 'BabyCrawling', 'Surfing', 'Surfing', 'Surfing', 'Surfing', 'Surfing', 'Surfing', 'Surfing', 'Surfing', 'Surfing', 'Surfing', 'Surfing', 'Surfing', 'Surfing', 'Surfing', 'Surfing', 'Surfing', 'Surfing', 'Surfing', 'Surfing', 'Surfing', 'Surfing', 'Surfing', 'Surfing', 'Surfing', 'Surfing', 'Surfing', 'Surfing', 'Surfing', 'Surfing', 'Surfing', 'Surfing', 'Surfing', 'Surfing', 'Typing', 'Typing', 'Typing', 'Typing', 'Typing', 'Typing', 'Typing', 'Typing', 'Typing', 'Typing', 'Typing', 'Typing', 'Typing', 'Typing', 'Typing', 'Typing', 'Typing', 'Typing', 'Typing', 'Typing', 'Typing', 'Typing', 'Typing', 'Typing', 'Typing', 'Typing', 'Typing', 'Typing', 'Typing', 'Typing', 'Typing', 'Typing', 'Typing', 'Typing', 'Typing', 'Typing', 'Typing', 'Typing', 'Typing', 'Typing', 'Typing', 'Typing', 'Typing', 'WalkingWithDog', 'WalkingWithDog', 'WalkingWithDog', 'WalkingWithDog', 'WalkingWithDog', 'WalkingWithDog', 'WalkingWithDog', 'WalkingWithDog', 'WalkingWithDog', 'WalkingWithDog']\n",
      "['BabyCrawling', 'BabyCrawling', 'BabyCrawling', 'BabyCrawling', 'BabyCrawling', 'BabyCrawling', 'BabyCrawling', 'BabyCrawling', 'BabyCrawling', 'BabyCrawling', 'BabyCrawling', 'BabyCrawling', 'BabyCrawling', 'BabyCrawling', 'BabyCrawling', 'BabyCrawling', 'BabyCrawling', 'BabyCrawling', 'BabyCrawling', 'BabyCrawling', 'BabyCrawling', 'BabyCrawling', 'BabyCrawling', 'BabyCrawling', 'BabyCrawling', 'BabyCrawling', 'BabyCrawling', 'BabyCrawling', 'BabyCrawling', 'BabyCrawling', 'BabyCrawling', 'BabyCrawling', 'BabyCrawling', 'BabyCrawling', 'BabyCrawling', 'Surfing', 'Surfing', 'Surfing', 'Surfing', 'Surfing', 'Surfing', 'Surfing', 'Surfing', 'Surfing', 'Surfing', 'Surfing', 'Surfing', 'Surfing', 'Surfing', 'Surfing', 'Surfing', 'Surfing', 'Surfing', 'Surfing', 'Surfing', 'Surfing', 'Surfing', 'Surfing', 'Surfing', 'Surfing', 'Surfing', 'Surfing', 'Surfing', 'Surfing', 'Surfing', 'Surfing', 'Surfing', 'Surfing', 'Typing', 'Typing', 'Typing', 'Typing', 'Typing', 'Typing', 'Typing', 'Typing', 'Typing', 'Typing', 'Typing', 'Typing', 'Typing', 'Typing', 'Typing', 'Typing', 'Typing', 'Typing', 'Typing', 'Typing', 'BabyCrawling', 'Knitting', 'Knitting', 'Knitting', 'Typing', 'Typing', 'Typing', 'Typing', 'Typing', 'Typing', 'Typing', 'Typing', 'Typing', 'Typing', 'Typing', 'Typing', 'Typing', 'Typing', 'Typing', 'Typing', 'Typing', 'Typing', 'Typing', 'WalkingWithDog', 'WalkingWithDog', 'WalkingWithDog', 'WalkingWithDog', 'WalkingWithDog', 'WalkingWithDog', 'WalkingWithDog', 'WalkingWithDog', 'WalkingWithDog', 'WalkingWithDog']\n"
     ]
    },
    {
     "name": "stderr",
     "output_type": "stream",
     "text": [
      " 59%|██████████████████████████████████████████████▉                                 | 122/208 [02:28<01:50,  1.29s/it]"
     ]
    },
    {
     "name": "stdout",
     "output_type": "stream",
     "text": [
      "['BabyCrawling', 'BabyCrawling', 'BabyCrawling', 'BabyCrawling', 'BabyCrawling', 'BabyCrawling', 'BabyCrawling', 'BabyCrawling', 'BabyCrawling', 'BabyCrawling', 'BabyCrawling', 'BabyCrawling', 'BabyCrawling', 'BabyCrawling', 'BabyCrawling', 'BabyCrawling', 'BabyCrawling', 'BabyCrawling', 'BabyCrawling', 'BabyCrawling', 'BabyCrawling', 'BabyCrawling', 'BabyCrawling', 'BabyCrawling', 'BabyCrawling', 'BabyCrawling', 'BabyCrawling', 'BabyCrawling', 'BabyCrawling', 'BabyCrawling', 'BabyCrawling', 'BabyCrawling', 'BabyCrawling', 'BabyCrawling', 'BabyCrawling', 'Surfing', 'Surfing', 'Surfing', 'Surfing', 'Surfing', 'Surfing', 'Surfing', 'Surfing', 'Surfing', 'Surfing', 'Surfing', 'Surfing', 'Surfing', 'Surfing', 'Surfing', 'Surfing', 'Surfing', 'Surfing', 'Surfing', 'Surfing', 'Surfing', 'Surfing', 'Surfing', 'Surfing', 'Surfing', 'Surfing', 'Surfing', 'Surfing', 'Surfing', 'Surfing', 'Surfing', 'Surfing', 'Surfing', 'Typing', 'Typing', 'Typing', 'Typing', 'Typing', 'Typing', 'Typing', 'Typing', 'Typing', 'Typing', 'Typing', 'Typing', 'Typing', 'Typing', 'Typing', 'Typing', 'Typing', 'Typing', 'Typing', 'Typing', 'Typing', 'Typing', 'Typing', 'Typing', 'Typing', 'Typing', 'Typing', 'Typing', 'Typing', 'Typing', 'Typing', 'Typing', 'Typing', 'Typing', 'Typing', 'Typing', 'Typing', 'Typing', 'Typing', 'Typing', 'Typing', 'Typing', 'Typing', 'WalkingWithDog', 'WalkingWithDog', 'WalkingWithDog', 'WalkingWithDog', 'WalkingWithDog', 'WalkingWithDog', 'WalkingWithDog', 'WalkingWithDog', 'WalkingWithDog', 'WalkingWithDog', 'WalkingWithDog']\n",
      "['BabyCrawling', 'BabyCrawling', 'BabyCrawling', 'BabyCrawling', 'BabyCrawling', 'BabyCrawling', 'BabyCrawling', 'BabyCrawling', 'BabyCrawling', 'BabyCrawling', 'BabyCrawling', 'BabyCrawling', 'BabyCrawling', 'BabyCrawling', 'BabyCrawling', 'BabyCrawling', 'BabyCrawling', 'BabyCrawling', 'BabyCrawling', 'BabyCrawling', 'BabyCrawling', 'BabyCrawling', 'BabyCrawling', 'BabyCrawling', 'BabyCrawling', 'BabyCrawling', 'BabyCrawling', 'BabyCrawling', 'BabyCrawling', 'BabyCrawling', 'BabyCrawling', 'BabyCrawling', 'BabyCrawling', 'BabyCrawling', 'BabyCrawling', 'Surfing', 'Surfing', 'Surfing', 'Surfing', 'Surfing', 'Surfing', 'Surfing', 'Surfing', 'Surfing', 'Surfing', 'Surfing', 'Surfing', 'Surfing', 'Surfing', 'Surfing', 'Surfing', 'Surfing', 'Surfing', 'Surfing', 'Surfing', 'Surfing', 'Surfing', 'Surfing', 'Surfing', 'Surfing', 'Surfing', 'Surfing', 'Surfing', 'Surfing', 'Surfing', 'Surfing', 'Surfing', 'Surfing', 'Typing', 'Typing', 'Typing', 'Typing', 'Typing', 'Typing', 'Typing', 'Typing', 'Typing', 'Typing', 'Typing', 'Typing', 'Typing', 'Typing', 'Typing', 'Typing', 'Typing', 'Typing', 'Typing', 'Typing', 'BabyCrawling', 'Knitting', 'Knitting', 'Knitting', 'Typing', 'Typing', 'Typing', 'Typing', 'Typing', 'Typing', 'Typing', 'Typing', 'Typing', 'Typing', 'Typing', 'Typing', 'Typing', 'Typing', 'Typing', 'Typing', 'Typing', 'Typing', 'Typing', 'WalkingWithDog', 'WalkingWithDog', 'WalkingWithDog', 'WalkingWithDog', 'WalkingWithDog', 'WalkingWithDog', 'WalkingWithDog', 'WalkingWithDog', 'WalkingWithDog', 'WalkingWithDog', 'WalkingWithDog']\n"
     ]
    },
    {
     "name": "stderr",
     "output_type": "stream",
     "text": [
      " 59%|███████████████████████████████████████████████▎                                | 123/208 [02:30<01:50,  1.30s/it]"
     ]
    },
    {
     "name": "stdout",
     "output_type": "stream",
     "text": [
      "['BabyCrawling', 'BabyCrawling', 'BabyCrawling', 'BabyCrawling', 'BabyCrawling', 'BabyCrawling', 'BabyCrawling', 'BabyCrawling', 'BabyCrawling', 'BabyCrawling', 'BabyCrawling', 'BabyCrawling', 'BabyCrawling', 'BabyCrawling', 'BabyCrawling', 'BabyCrawling', 'BabyCrawling', 'BabyCrawling', 'BabyCrawling', 'BabyCrawling', 'BabyCrawling', 'BabyCrawling', 'BabyCrawling', 'BabyCrawling', 'BabyCrawling', 'BabyCrawling', 'BabyCrawling', 'BabyCrawling', 'BabyCrawling', 'BabyCrawling', 'BabyCrawling', 'BabyCrawling', 'BabyCrawling', 'BabyCrawling', 'BabyCrawling', 'Surfing', 'Surfing', 'Surfing', 'Surfing', 'Surfing', 'Surfing', 'Surfing', 'Surfing', 'Surfing', 'Surfing', 'Surfing', 'Surfing', 'Surfing', 'Surfing', 'Surfing', 'Surfing', 'Surfing', 'Surfing', 'Surfing', 'Surfing', 'Surfing', 'Surfing', 'Surfing', 'Surfing', 'Surfing', 'Surfing', 'Surfing', 'Surfing', 'Surfing', 'Surfing', 'Surfing', 'Surfing', 'Surfing', 'Typing', 'Typing', 'Typing', 'Typing', 'Typing', 'Typing', 'Typing', 'Typing', 'Typing', 'Typing', 'Typing', 'Typing', 'Typing', 'Typing', 'Typing', 'Typing', 'Typing', 'Typing', 'Typing', 'Typing', 'Typing', 'Typing', 'Typing', 'Typing', 'Typing', 'Typing', 'Typing', 'Typing', 'Typing', 'Typing', 'Typing', 'Typing', 'Typing', 'Typing', 'Typing', 'Typing', 'Typing', 'Typing', 'Typing', 'Typing', 'Typing', 'Typing', 'Typing', 'WalkingWithDog', 'WalkingWithDog', 'WalkingWithDog', 'WalkingWithDog', 'WalkingWithDog', 'WalkingWithDog', 'WalkingWithDog', 'WalkingWithDog', 'WalkingWithDog', 'WalkingWithDog', 'WalkingWithDog', 'WalkingWithDog']\n",
      "['BabyCrawling', 'BabyCrawling', 'BabyCrawling', 'BabyCrawling', 'BabyCrawling', 'BabyCrawling', 'BabyCrawling', 'BabyCrawling', 'BabyCrawling', 'BabyCrawling', 'BabyCrawling', 'BabyCrawling', 'BabyCrawling', 'BabyCrawling', 'BabyCrawling', 'BabyCrawling', 'BabyCrawling', 'BabyCrawling', 'BabyCrawling', 'BabyCrawling', 'BabyCrawling', 'BabyCrawling', 'BabyCrawling', 'BabyCrawling', 'BabyCrawling', 'BabyCrawling', 'BabyCrawling', 'BabyCrawling', 'BabyCrawling', 'BabyCrawling', 'BabyCrawling', 'BabyCrawling', 'BabyCrawling', 'BabyCrawling', 'BabyCrawling', 'Surfing', 'Surfing', 'Surfing', 'Surfing', 'Surfing', 'Surfing', 'Surfing', 'Surfing', 'Surfing', 'Surfing', 'Surfing', 'Surfing', 'Surfing', 'Surfing', 'Surfing', 'Surfing', 'Surfing', 'Surfing', 'Surfing', 'Surfing', 'Surfing', 'Surfing', 'Surfing', 'Surfing', 'Surfing', 'Surfing', 'Surfing', 'Surfing', 'Surfing', 'Surfing', 'Surfing', 'Surfing', 'Surfing', 'Typing', 'Typing', 'Typing', 'Typing', 'Typing', 'Typing', 'Typing', 'Typing', 'Typing', 'Typing', 'Typing', 'Typing', 'Typing', 'Typing', 'Typing', 'Typing', 'Typing', 'Typing', 'Typing', 'Typing', 'BabyCrawling', 'Knitting', 'Knitting', 'Knitting', 'Typing', 'Typing', 'Typing', 'Typing', 'Typing', 'Typing', 'Typing', 'Typing', 'Typing', 'Typing', 'Typing', 'Typing', 'Typing', 'Typing', 'Typing', 'Typing', 'Typing', 'Typing', 'Typing', 'WalkingWithDog', 'WalkingWithDog', 'WalkingWithDog', 'WalkingWithDog', 'WalkingWithDog', 'WalkingWithDog', 'WalkingWithDog', 'WalkingWithDog', 'WalkingWithDog', 'WalkingWithDog', 'WalkingWithDog', 'WalkingWithDog']\n"
     ]
    },
    {
     "name": "stderr",
     "output_type": "stream",
     "text": [
      " 60%|███████████████████████████████████████████████▋                                | 124/208 [02:31<01:46,  1.27s/it]"
     ]
    },
    {
     "name": "stdout",
     "output_type": "stream",
     "text": [
      "['BabyCrawling', 'BabyCrawling', 'BabyCrawling', 'BabyCrawling', 'BabyCrawling', 'BabyCrawling', 'BabyCrawling', 'BabyCrawling', 'BabyCrawling', 'BabyCrawling', 'BabyCrawling', 'BabyCrawling', 'BabyCrawling', 'BabyCrawling', 'BabyCrawling', 'BabyCrawling', 'BabyCrawling', 'BabyCrawling', 'BabyCrawling', 'BabyCrawling', 'BabyCrawling', 'BabyCrawling', 'BabyCrawling', 'BabyCrawling', 'BabyCrawling', 'BabyCrawling', 'BabyCrawling', 'BabyCrawling', 'BabyCrawling', 'BabyCrawling', 'BabyCrawling', 'BabyCrawling', 'BabyCrawling', 'BabyCrawling', 'BabyCrawling', 'Surfing', 'Surfing', 'Surfing', 'Surfing', 'Surfing', 'Surfing', 'Surfing', 'Surfing', 'Surfing', 'Surfing', 'Surfing', 'Surfing', 'Surfing', 'Surfing', 'Surfing', 'Surfing', 'Surfing', 'Surfing', 'Surfing', 'Surfing', 'Surfing', 'Surfing', 'Surfing', 'Surfing', 'Surfing', 'Surfing', 'Surfing', 'Surfing', 'Surfing', 'Surfing', 'Surfing', 'Surfing', 'Surfing', 'Typing', 'Typing', 'Typing', 'Typing', 'Typing', 'Typing', 'Typing', 'Typing', 'Typing', 'Typing', 'Typing', 'Typing', 'Typing', 'Typing', 'Typing', 'Typing', 'Typing', 'Typing', 'Typing', 'Typing', 'Typing', 'Typing', 'Typing', 'Typing', 'Typing', 'Typing', 'Typing', 'Typing', 'Typing', 'Typing', 'Typing', 'Typing', 'Typing', 'Typing', 'Typing', 'Typing', 'Typing', 'Typing', 'Typing', 'Typing', 'Typing', 'Typing', 'Typing', 'WalkingWithDog', 'WalkingWithDog', 'WalkingWithDog', 'WalkingWithDog', 'WalkingWithDog', 'WalkingWithDog', 'WalkingWithDog', 'WalkingWithDog', 'WalkingWithDog', 'WalkingWithDog', 'WalkingWithDog', 'WalkingWithDog', 'WalkingWithDog']\n",
      "['BabyCrawling', 'BabyCrawling', 'BabyCrawling', 'BabyCrawling', 'BabyCrawling', 'BabyCrawling', 'BabyCrawling', 'BabyCrawling', 'BabyCrawling', 'BabyCrawling', 'BabyCrawling', 'BabyCrawling', 'BabyCrawling', 'BabyCrawling', 'BabyCrawling', 'BabyCrawling', 'BabyCrawling', 'BabyCrawling', 'BabyCrawling', 'BabyCrawling', 'BabyCrawling', 'BabyCrawling', 'BabyCrawling', 'BabyCrawling', 'BabyCrawling', 'BabyCrawling', 'BabyCrawling', 'BabyCrawling', 'BabyCrawling', 'BabyCrawling', 'BabyCrawling', 'BabyCrawling', 'BabyCrawling', 'BabyCrawling', 'BabyCrawling', 'Surfing', 'Surfing', 'Surfing', 'Surfing', 'Surfing', 'Surfing', 'Surfing', 'Surfing', 'Surfing', 'Surfing', 'Surfing', 'Surfing', 'Surfing', 'Surfing', 'Surfing', 'Surfing', 'Surfing', 'Surfing', 'Surfing', 'Surfing', 'Surfing', 'Surfing', 'Surfing', 'Surfing', 'Surfing', 'Surfing', 'Surfing', 'Surfing', 'Surfing', 'Surfing', 'Surfing', 'Surfing', 'Surfing', 'Typing', 'Typing', 'Typing', 'Typing', 'Typing', 'Typing', 'Typing', 'Typing', 'Typing', 'Typing', 'Typing', 'Typing', 'Typing', 'Typing', 'Typing', 'Typing', 'Typing', 'Typing', 'Typing', 'Typing', 'BabyCrawling', 'Knitting', 'Knitting', 'Knitting', 'Typing', 'Typing', 'Typing', 'Typing', 'Typing', 'Typing', 'Typing', 'Typing', 'Typing', 'Typing', 'Typing', 'Typing', 'Typing', 'Typing', 'Typing', 'Typing', 'Typing', 'Typing', 'Typing', 'WalkingWithDog', 'WalkingWithDog', 'WalkingWithDog', 'WalkingWithDog', 'WalkingWithDog', 'WalkingWithDog', 'WalkingWithDog', 'WalkingWithDog', 'WalkingWithDog', 'WalkingWithDog', 'WalkingWithDog', 'WalkingWithDog', 'WalkingWithDog']\n"
     ]
    },
    {
     "name": "stderr",
     "output_type": "stream",
     "text": [
      " 60%|████████████████████████████████████████████████                                | 125/208 [02:32<01:47,  1.29s/it]"
     ]
    },
    {
     "name": "stdout",
     "output_type": "stream",
     "text": [
      "['BabyCrawling', 'BabyCrawling', 'BabyCrawling', 'BabyCrawling', 'BabyCrawling', 'BabyCrawling', 'BabyCrawling', 'BabyCrawling', 'BabyCrawling', 'BabyCrawling', 'BabyCrawling', 'BabyCrawling', 'BabyCrawling', 'BabyCrawling', 'BabyCrawling', 'BabyCrawling', 'BabyCrawling', 'BabyCrawling', 'BabyCrawling', 'BabyCrawling', 'BabyCrawling', 'BabyCrawling', 'BabyCrawling', 'BabyCrawling', 'BabyCrawling', 'BabyCrawling', 'BabyCrawling', 'BabyCrawling', 'BabyCrawling', 'BabyCrawling', 'BabyCrawling', 'BabyCrawling', 'BabyCrawling', 'BabyCrawling', 'BabyCrawling', 'Surfing', 'Surfing', 'Surfing', 'Surfing', 'Surfing', 'Surfing', 'Surfing', 'Surfing', 'Surfing', 'Surfing', 'Surfing', 'Surfing', 'Surfing', 'Surfing', 'Surfing', 'Surfing', 'Surfing', 'Surfing', 'Surfing', 'Surfing', 'Surfing', 'Surfing', 'Surfing', 'Surfing', 'Surfing', 'Surfing', 'Surfing', 'Surfing', 'Surfing', 'Surfing', 'Surfing', 'Surfing', 'Surfing', 'Typing', 'Typing', 'Typing', 'Typing', 'Typing', 'Typing', 'Typing', 'Typing', 'Typing', 'Typing', 'Typing', 'Typing', 'Typing', 'Typing', 'Typing', 'Typing', 'Typing', 'Typing', 'Typing', 'Typing', 'Typing', 'Typing', 'Typing', 'Typing', 'Typing', 'Typing', 'Typing', 'Typing', 'Typing', 'Typing', 'Typing', 'Typing', 'Typing', 'Typing', 'Typing', 'Typing', 'Typing', 'Typing', 'Typing', 'Typing', 'Typing', 'Typing', 'Typing', 'WalkingWithDog', 'WalkingWithDog', 'WalkingWithDog', 'WalkingWithDog', 'WalkingWithDog', 'WalkingWithDog', 'WalkingWithDog', 'WalkingWithDog', 'WalkingWithDog', 'WalkingWithDog', 'WalkingWithDog', 'WalkingWithDog', 'WalkingWithDog', 'WalkingWithDog']\n",
      "['BabyCrawling', 'BabyCrawling', 'BabyCrawling', 'BabyCrawling', 'BabyCrawling', 'BabyCrawling', 'BabyCrawling', 'BabyCrawling', 'BabyCrawling', 'BabyCrawling', 'BabyCrawling', 'BabyCrawling', 'BabyCrawling', 'BabyCrawling', 'BabyCrawling', 'BabyCrawling', 'BabyCrawling', 'BabyCrawling', 'BabyCrawling', 'BabyCrawling', 'BabyCrawling', 'BabyCrawling', 'BabyCrawling', 'BabyCrawling', 'BabyCrawling', 'BabyCrawling', 'BabyCrawling', 'BabyCrawling', 'BabyCrawling', 'BabyCrawling', 'BabyCrawling', 'BabyCrawling', 'BabyCrawling', 'BabyCrawling', 'BabyCrawling', 'Surfing', 'Surfing', 'Surfing', 'Surfing', 'Surfing', 'Surfing', 'Surfing', 'Surfing', 'Surfing', 'Surfing', 'Surfing', 'Surfing', 'Surfing', 'Surfing', 'Surfing', 'Surfing', 'Surfing', 'Surfing', 'Surfing', 'Surfing', 'Surfing', 'Surfing', 'Surfing', 'Surfing', 'Surfing', 'Surfing', 'Surfing', 'Surfing', 'Surfing', 'Surfing', 'Surfing', 'Surfing', 'Surfing', 'Typing', 'Typing', 'Typing', 'Typing', 'Typing', 'Typing', 'Typing', 'Typing', 'Typing', 'Typing', 'Typing', 'Typing', 'Typing', 'Typing', 'Typing', 'Typing', 'Typing', 'Typing', 'Typing', 'Typing', 'BabyCrawling', 'Knitting', 'Knitting', 'Knitting', 'Typing', 'Typing', 'Typing', 'Typing', 'Typing', 'Typing', 'Typing', 'Typing', 'Typing', 'Typing', 'Typing', 'Typing', 'Typing', 'Typing', 'Typing', 'Typing', 'Typing', 'Typing', 'Typing', 'WalkingWithDog', 'WalkingWithDog', 'WalkingWithDog', 'WalkingWithDog', 'WalkingWithDog', 'WalkingWithDog', 'WalkingWithDog', 'WalkingWithDog', 'WalkingWithDog', 'WalkingWithDog', 'WalkingWithDog', 'WalkingWithDog', 'WalkingWithDog', 'WalkingWithDog']\n"
     ]
    },
    {
     "name": "stderr",
     "output_type": "stream",
     "text": [
      " 61%|████████████████████████████████████████████████▍                               | 126/208 [02:34<01:46,  1.30s/it]"
     ]
    },
    {
     "name": "stdout",
     "output_type": "stream",
     "text": [
      "['BabyCrawling', 'BabyCrawling', 'BabyCrawling', 'BabyCrawling', 'BabyCrawling', 'BabyCrawling', 'BabyCrawling', 'BabyCrawling', 'BabyCrawling', 'BabyCrawling', 'BabyCrawling', 'BabyCrawling', 'BabyCrawling', 'BabyCrawling', 'BabyCrawling', 'BabyCrawling', 'BabyCrawling', 'BabyCrawling', 'BabyCrawling', 'BabyCrawling', 'BabyCrawling', 'BabyCrawling', 'BabyCrawling', 'BabyCrawling', 'BabyCrawling', 'BabyCrawling', 'BabyCrawling', 'BabyCrawling', 'BabyCrawling', 'BabyCrawling', 'BabyCrawling', 'BabyCrawling', 'BabyCrawling', 'BabyCrawling', 'BabyCrawling', 'Surfing', 'Surfing', 'Surfing', 'Surfing', 'Surfing', 'Surfing', 'Surfing', 'Surfing', 'Surfing', 'Surfing', 'Surfing', 'Surfing', 'Surfing', 'Surfing', 'Surfing', 'Surfing', 'Surfing', 'Surfing', 'Surfing', 'Surfing', 'Surfing', 'Surfing', 'Surfing', 'Surfing', 'Surfing', 'Surfing', 'Surfing', 'Surfing', 'Surfing', 'Surfing', 'Surfing', 'Surfing', 'Surfing', 'Typing', 'Typing', 'Typing', 'Typing', 'Typing', 'Typing', 'Typing', 'Typing', 'Typing', 'Typing', 'Typing', 'Typing', 'Typing', 'Typing', 'Typing', 'Typing', 'Typing', 'Typing', 'Typing', 'Typing', 'Typing', 'Typing', 'Typing', 'Typing', 'Typing', 'Typing', 'Typing', 'Typing', 'Typing', 'Typing', 'Typing', 'Typing', 'Typing', 'Typing', 'Typing', 'Typing', 'Typing', 'Typing', 'Typing', 'Typing', 'Typing', 'Typing', 'Typing', 'WalkingWithDog', 'WalkingWithDog', 'WalkingWithDog', 'WalkingWithDog', 'WalkingWithDog', 'WalkingWithDog', 'WalkingWithDog', 'WalkingWithDog', 'WalkingWithDog', 'WalkingWithDog', 'WalkingWithDog', 'WalkingWithDog', 'WalkingWithDog', 'WalkingWithDog', 'WalkingWithDog']\n",
      "['BabyCrawling', 'BabyCrawling', 'BabyCrawling', 'BabyCrawling', 'BabyCrawling', 'BabyCrawling', 'BabyCrawling', 'BabyCrawling', 'BabyCrawling', 'BabyCrawling', 'BabyCrawling', 'BabyCrawling', 'BabyCrawling', 'BabyCrawling', 'BabyCrawling', 'BabyCrawling', 'BabyCrawling', 'BabyCrawling', 'BabyCrawling', 'BabyCrawling', 'BabyCrawling', 'BabyCrawling', 'BabyCrawling', 'BabyCrawling', 'BabyCrawling', 'BabyCrawling', 'BabyCrawling', 'BabyCrawling', 'BabyCrawling', 'BabyCrawling', 'BabyCrawling', 'BabyCrawling', 'BabyCrawling', 'BabyCrawling', 'BabyCrawling', 'Surfing', 'Surfing', 'Surfing', 'Surfing', 'Surfing', 'Surfing', 'Surfing', 'Surfing', 'Surfing', 'Surfing', 'Surfing', 'Surfing', 'Surfing', 'Surfing', 'Surfing', 'Surfing', 'Surfing', 'Surfing', 'Surfing', 'Surfing', 'Surfing', 'Surfing', 'Surfing', 'Surfing', 'Surfing', 'Surfing', 'Surfing', 'Surfing', 'Surfing', 'Surfing', 'Surfing', 'Surfing', 'Surfing', 'Typing', 'Typing', 'Typing', 'Typing', 'Typing', 'Typing', 'Typing', 'Typing', 'Typing', 'Typing', 'Typing', 'Typing', 'Typing', 'Typing', 'Typing', 'Typing', 'Typing', 'Typing', 'Typing', 'Typing', 'BabyCrawling', 'Knitting', 'Knitting', 'Knitting', 'Typing', 'Typing', 'Typing', 'Typing', 'Typing', 'Typing', 'Typing', 'Typing', 'Typing', 'Typing', 'Typing', 'Typing', 'Typing', 'Typing', 'Typing', 'Typing', 'Typing', 'Typing', 'Typing', 'WalkingWithDog', 'WalkingWithDog', 'WalkingWithDog', 'WalkingWithDog', 'WalkingWithDog', 'WalkingWithDog', 'WalkingWithDog', 'WalkingWithDog', 'WalkingWithDog', 'WalkingWithDog', 'WalkingWithDog', 'WalkingWithDog', 'WalkingWithDog', 'WalkingWithDog', 'WalkingWithDog']\n"
     ]
    },
    {
     "name": "stderr",
     "output_type": "stream",
     "text": [
      " 61%|████████████████████████████████████████████████▊                               | 127/208 [02:34<01:29,  1.11s/it]"
     ]
    },
    {
     "name": "stdout",
     "output_type": "stream",
     "text": [
      "['BabyCrawling', 'BabyCrawling', 'BabyCrawling', 'BabyCrawling', 'BabyCrawling', 'BabyCrawling', 'BabyCrawling', 'BabyCrawling', 'BabyCrawling', 'BabyCrawling', 'BabyCrawling', 'BabyCrawling', 'BabyCrawling', 'BabyCrawling', 'BabyCrawling', 'BabyCrawling', 'BabyCrawling', 'BabyCrawling', 'BabyCrawling', 'BabyCrawling', 'BabyCrawling', 'BabyCrawling', 'BabyCrawling', 'BabyCrawling', 'BabyCrawling', 'BabyCrawling', 'BabyCrawling', 'BabyCrawling', 'BabyCrawling', 'BabyCrawling', 'BabyCrawling', 'BabyCrawling', 'BabyCrawling', 'BabyCrawling', 'BabyCrawling', 'Surfing', 'Surfing', 'Surfing', 'Surfing', 'Surfing', 'Surfing', 'Surfing', 'Surfing', 'Surfing', 'Surfing', 'Surfing', 'Surfing', 'Surfing', 'Surfing', 'Surfing', 'Surfing', 'Surfing', 'Surfing', 'Surfing', 'Surfing', 'Surfing', 'Surfing', 'Surfing', 'Surfing', 'Surfing', 'Surfing', 'Surfing', 'Surfing', 'Surfing', 'Surfing', 'Surfing', 'Surfing', 'Surfing', 'Typing', 'Typing', 'Typing', 'Typing', 'Typing', 'Typing', 'Typing', 'Typing', 'Typing', 'Typing', 'Typing', 'Typing', 'Typing', 'Typing', 'Typing', 'Typing', 'Typing', 'Typing', 'Typing', 'Typing', 'Typing', 'Typing', 'Typing', 'Typing', 'Typing', 'Typing', 'Typing', 'Typing', 'Typing', 'Typing', 'Typing', 'Typing', 'Typing', 'Typing', 'Typing', 'Typing', 'Typing', 'Typing', 'Typing', 'Typing', 'Typing', 'Typing', 'Typing', 'WalkingWithDog', 'WalkingWithDog', 'WalkingWithDog', 'WalkingWithDog', 'WalkingWithDog', 'WalkingWithDog', 'WalkingWithDog', 'WalkingWithDog', 'WalkingWithDog', 'WalkingWithDog', 'WalkingWithDog', 'WalkingWithDog', 'WalkingWithDog', 'WalkingWithDog', 'WalkingWithDog', 'WalkingWithDog']\n",
      "['BabyCrawling', 'BabyCrawling', 'BabyCrawling', 'BabyCrawling', 'BabyCrawling', 'BabyCrawling', 'BabyCrawling', 'BabyCrawling', 'BabyCrawling', 'BabyCrawling', 'BabyCrawling', 'BabyCrawling', 'BabyCrawling', 'BabyCrawling', 'BabyCrawling', 'BabyCrawling', 'BabyCrawling', 'BabyCrawling', 'BabyCrawling', 'BabyCrawling', 'BabyCrawling', 'BabyCrawling', 'BabyCrawling', 'BabyCrawling', 'BabyCrawling', 'BabyCrawling', 'BabyCrawling', 'BabyCrawling', 'BabyCrawling', 'BabyCrawling', 'BabyCrawling', 'BabyCrawling', 'BabyCrawling', 'BabyCrawling', 'BabyCrawling', 'Surfing', 'Surfing', 'Surfing', 'Surfing', 'Surfing', 'Surfing', 'Surfing', 'Surfing', 'Surfing', 'Surfing', 'Surfing', 'Surfing', 'Surfing', 'Surfing', 'Surfing', 'Surfing', 'Surfing', 'Surfing', 'Surfing', 'Surfing', 'Surfing', 'Surfing', 'Surfing', 'Surfing', 'Surfing', 'Surfing', 'Surfing', 'Surfing', 'Surfing', 'Surfing', 'Surfing', 'Surfing', 'Surfing', 'Typing', 'Typing', 'Typing', 'Typing', 'Typing', 'Typing', 'Typing', 'Typing', 'Typing', 'Typing', 'Typing', 'Typing', 'Typing', 'Typing', 'Typing', 'Typing', 'Typing', 'Typing', 'Typing', 'Typing', 'BabyCrawling', 'Knitting', 'Knitting', 'Knitting', 'Typing', 'Typing', 'Typing', 'Typing', 'Typing', 'Typing', 'Typing', 'Typing', 'Typing', 'Typing', 'Typing', 'Typing', 'Typing', 'Typing', 'Typing', 'Typing', 'Typing', 'Typing', 'Typing', 'WalkingWithDog', 'WalkingWithDog', 'WalkingWithDog', 'WalkingWithDog', 'WalkingWithDog', 'WalkingWithDog', 'WalkingWithDog', 'WalkingWithDog', 'WalkingWithDog', 'WalkingWithDog', 'WalkingWithDog', 'WalkingWithDog', 'WalkingWithDog', 'WalkingWithDog', 'WalkingWithDog', 'Surfing']\n"
     ]
    },
    {
     "name": "stderr",
     "output_type": "stream",
     "text": [
      " 62%|█████████████████████████████████████████████████▏                              | 128/208 [02:36<01:32,  1.15s/it]"
     ]
    },
    {
     "name": "stdout",
     "output_type": "stream",
     "text": [
      "['BabyCrawling', 'BabyCrawling', 'BabyCrawling', 'BabyCrawling', 'BabyCrawling', 'BabyCrawling', 'BabyCrawling', 'BabyCrawling', 'BabyCrawling', 'BabyCrawling', 'BabyCrawling', 'BabyCrawling', 'BabyCrawling', 'BabyCrawling', 'BabyCrawling', 'BabyCrawling', 'BabyCrawling', 'BabyCrawling', 'BabyCrawling', 'BabyCrawling', 'BabyCrawling', 'BabyCrawling', 'BabyCrawling', 'BabyCrawling', 'BabyCrawling', 'BabyCrawling', 'BabyCrawling', 'BabyCrawling', 'BabyCrawling', 'BabyCrawling', 'BabyCrawling', 'BabyCrawling', 'BabyCrawling', 'BabyCrawling', 'BabyCrawling', 'Surfing', 'Surfing', 'Surfing', 'Surfing', 'Surfing', 'Surfing', 'Surfing', 'Surfing', 'Surfing', 'Surfing', 'Surfing', 'Surfing', 'Surfing', 'Surfing', 'Surfing', 'Surfing', 'Surfing', 'Surfing', 'Surfing', 'Surfing', 'Surfing', 'Surfing', 'Surfing', 'Surfing', 'Surfing', 'Surfing', 'Surfing', 'Surfing', 'Surfing', 'Surfing', 'Surfing', 'Surfing', 'Surfing', 'Typing', 'Typing', 'Typing', 'Typing', 'Typing', 'Typing', 'Typing', 'Typing', 'Typing', 'Typing', 'Typing', 'Typing', 'Typing', 'Typing', 'Typing', 'Typing', 'Typing', 'Typing', 'Typing', 'Typing', 'Typing', 'Typing', 'Typing', 'Typing', 'Typing', 'Typing', 'Typing', 'Typing', 'Typing', 'Typing', 'Typing', 'Typing', 'Typing', 'Typing', 'Typing', 'Typing', 'Typing', 'Typing', 'Typing', 'Typing', 'Typing', 'Typing', 'Typing', 'WalkingWithDog', 'WalkingWithDog', 'WalkingWithDog', 'WalkingWithDog', 'WalkingWithDog', 'WalkingWithDog', 'WalkingWithDog', 'WalkingWithDog', 'WalkingWithDog', 'WalkingWithDog', 'WalkingWithDog', 'WalkingWithDog', 'WalkingWithDog', 'WalkingWithDog', 'WalkingWithDog', 'WalkingWithDog', 'WalkingWithDog']\n",
      "['BabyCrawling', 'BabyCrawling', 'BabyCrawling', 'BabyCrawling', 'BabyCrawling', 'BabyCrawling', 'BabyCrawling', 'BabyCrawling', 'BabyCrawling', 'BabyCrawling', 'BabyCrawling', 'BabyCrawling', 'BabyCrawling', 'BabyCrawling', 'BabyCrawling', 'BabyCrawling', 'BabyCrawling', 'BabyCrawling', 'BabyCrawling', 'BabyCrawling', 'BabyCrawling', 'BabyCrawling', 'BabyCrawling', 'BabyCrawling', 'BabyCrawling', 'BabyCrawling', 'BabyCrawling', 'BabyCrawling', 'BabyCrawling', 'BabyCrawling', 'BabyCrawling', 'BabyCrawling', 'BabyCrawling', 'BabyCrawling', 'BabyCrawling', 'Surfing', 'Surfing', 'Surfing', 'Surfing', 'Surfing', 'Surfing', 'Surfing', 'Surfing', 'Surfing', 'Surfing', 'Surfing', 'Surfing', 'Surfing', 'Surfing', 'Surfing', 'Surfing', 'Surfing', 'Surfing', 'Surfing', 'Surfing', 'Surfing', 'Surfing', 'Surfing', 'Surfing', 'Surfing', 'Surfing', 'Surfing', 'Surfing', 'Surfing', 'Surfing', 'Surfing', 'Surfing', 'Surfing', 'Typing', 'Typing', 'Typing', 'Typing', 'Typing', 'Typing', 'Typing', 'Typing', 'Typing', 'Typing', 'Typing', 'Typing', 'Typing', 'Typing', 'Typing', 'Typing', 'Typing', 'Typing', 'Typing', 'Typing', 'BabyCrawling', 'Knitting', 'Knitting', 'Knitting', 'Typing', 'Typing', 'Typing', 'Typing', 'Typing', 'Typing', 'Typing', 'Typing', 'Typing', 'Typing', 'Typing', 'Typing', 'Typing', 'Typing', 'Typing', 'Typing', 'Typing', 'Typing', 'Typing', 'WalkingWithDog', 'WalkingWithDog', 'WalkingWithDog', 'WalkingWithDog', 'WalkingWithDog', 'WalkingWithDog', 'WalkingWithDog', 'WalkingWithDog', 'WalkingWithDog', 'WalkingWithDog', 'WalkingWithDog', 'WalkingWithDog', 'WalkingWithDog', 'WalkingWithDog', 'WalkingWithDog', 'Surfing', 'WalkingWithDog']\n"
     ]
    },
    {
     "name": "stderr",
     "output_type": "stream",
     "text": [
      " 62%|█████████████████████████████████████████████████▌                              | 129/208 [02:37<01:35,  1.21s/it]"
     ]
    },
    {
     "name": "stdout",
     "output_type": "stream",
     "text": [
      "['BabyCrawling', 'BabyCrawling', 'BabyCrawling', 'BabyCrawling', 'BabyCrawling', 'BabyCrawling', 'BabyCrawling', 'BabyCrawling', 'BabyCrawling', 'BabyCrawling', 'BabyCrawling', 'BabyCrawling', 'BabyCrawling', 'BabyCrawling', 'BabyCrawling', 'BabyCrawling', 'BabyCrawling', 'BabyCrawling', 'BabyCrawling', 'BabyCrawling', 'BabyCrawling', 'BabyCrawling', 'BabyCrawling', 'BabyCrawling', 'BabyCrawling', 'BabyCrawling', 'BabyCrawling', 'BabyCrawling', 'BabyCrawling', 'BabyCrawling', 'BabyCrawling', 'BabyCrawling', 'BabyCrawling', 'BabyCrawling', 'BabyCrawling', 'Surfing', 'Surfing', 'Surfing', 'Surfing', 'Surfing', 'Surfing', 'Surfing', 'Surfing', 'Surfing', 'Surfing', 'Surfing', 'Surfing', 'Surfing', 'Surfing', 'Surfing', 'Surfing', 'Surfing', 'Surfing', 'Surfing', 'Surfing', 'Surfing', 'Surfing', 'Surfing', 'Surfing', 'Surfing', 'Surfing', 'Surfing', 'Surfing', 'Surfing', 'Surfing', 'Surfing', 'Surfing', 'Surfing', 'Typing', 'Typing', 'Typing', 'Typing', 'Typing', 'Typing', 'Typing', 'Typing', 'Typing', 'Typing', 'Typing', 'Typing', 'Typing', 'Typing', 'Typing', 'Typing', 'Typing', 'Typing', 'Typing', 'Typing', 'Typing', 'Typing', 'Typing', 'Typing', 'Typing', 'Typing', 'Typing', 'Typing', 'Typing', 'Typing', 'Typing', 'Typing', 'Typing', 'Typing', 'Typing', 'Typing', 'Typing', 'Typing', 'Typing', 'Typing', 'Typing', 'Typing', 'Typing', 'WalkingWithDog', 'WalkingWithDog', 'WalkingWithDog', 'WalkingWithDog', 'WalkingWithDog', 'WalkingWithDog', 'WalkingWithDog', 'WalkingWithDog', 'WalkingWithDog', 'WalkingWithDog', 'WalkingWithDog', 'WalkingWithDog', 'WalkingWithDog', 'WalkingWithDog', 'WalkingWithDog', 'WalkingWithDog', 'WalkingWithDog', 'WalkingWithDog']\n",
      "['BabyCrawling', 'BabyCrawling', 'BabyCrawling', 'BabyCrawling', 'BabyCrawling', 'BabyCrawling', 'BabyCrawling', 'BabyCrawling', 'BabyCrawling', 'BabyCrawling', 'BabyCrawling', 'BabyCrawling', 'BabyCrawling', 'BabyCrawling', 'BabyCrawling', 'BabyCrawling', 'BabyCrawling', 'BabyCrawling', 'BabyCrawling', 'BabyCrawling', 'BabyCrawling', 'BabyCrawling', 'BabyCrawling', 'BabyCrawling', 'BabyCrawling', 'BabyCrawling', 'BabyCrawling', 'BabyCrawling', 'BabyCrawling', 'BabyCrawling', 'BabyCrawling', 'BabyCrawling', 'BabyCrawling', 'BabyCrawling', 'BabyCrawling', 'Surfing', 'Surfing', 'Surfing', 'Surfing', 'Surfing', 'Surfing', 'Surfing', 'Surfing', 'Surfing', 'Surfing', 'Surfing', 'Surfing', 'Surfing', 'Surfing', 'Surfing', 'Surfing', 'Surfing', 'Surfing', 'Surfing', 'Surfing', 'Surfing', 'Surfing', 'Surfing', 'Surfing', 'Surfing', 'Surfing', 'Surfing', 'Surfing', 'Surfing', 'Surfing', 'Surfing', 'Surfing', 'Surfing', 'Typing', 'Typing', 'Typing', 'Typing', 'Typing', 'Typing', 'Typing', 'Typing', 'Typing', 'Typing', 'Typing', 'Typing', 'Typing', 'Typing', 'Typing', 'Typing', 'Typing', 'Typing', 'Typing', 'Typing', 'BabyCrawling', 'Knitting', 'Knitting', 'Knitting', 'Typing', 'Typing', 'Typing', 'Typing', 'Typing', 'Typing', 'Typing', 'Typing', 'Typing', 'Typing', 'Typing', 'Typing', 'Typing', 'Typing', 'Typing', 'Typing', 'Typing', 'Typing', 'Typing', 'WalkingWithDog', 'WalkingWithDog', 'WalkingWithDog', 'WalkingWithDog', 'WalkingWithDog', 'WalkingWithDog', 'WalkingWithDog', 'WalkingWithDog', 'WalkingWithDog', 'WalkingWithDog', 'WalkingWithDog', 'WalkingWithDog', 'WalkingWithDog', 'WalkingWithDog', 'WalkingWithDog', 'Surfing', 'WalkingWithDog', 'WalkingWithDog']\n"
     ]
    },
    {
     "name": "stderr",
     "output_type": "stream",
     "text": [
      " 62%|██████████████████████████████████████████████████                              | 130/208 [02:38<01:34,  1.21s/it]"
     ]
    },
    {
     "name": "stdout",
     "output_type": "stream",
     "text": [
      "['BabyCrawling', 'BabyCrawling', 'BabyCrawling', 'BabyCrawling', 'BabyCrawling', 'BabyCrawling', 'BabyCrawling', 'BabyCrawling', 'BabyCrawling', 'BabyCrawling', 'BabyCrawling', 'BabyCrawling', 'BabyCrawling', 'BabyCrawling', 'BabyCrawling', 'BabyCrawling', 'BabyCrawling', 'BabyCrawling', 'BabyCrawling', 'BabyCrawling', 'BabyCrawling', 'BabyCrawling', 'BabyCrawling', 'BabyCrawling', 'BabyCrawling', 'BabyCrawling', 'BabyCrawling', 'BabyCrawling', 'BabyCrawling', 'BabyCrawling', 'BabyCrawling', 'BabyCrawling', 'BabyCrawling', 'BabyCrawling', 'BabyCrawling', 'Surfing', 'Surfing', 'Surfing', 'Surfing', 'Surfing', 'Surfing', 'Surfing', 'Surfing', 'Surfing', 'Surfing', 'Surfing', 'Surfing', 'Surfing', 'Surfing', 'Surfing', 'Surfing', 'Surfing', 'Surfing', 'Surfing', 'Surfing', 'Surfing', 'Surfing', 'Surfing', 'Surfing', 'Surfing', 'Surfing', 'Surfing', 'Surfing', 'Surfing', 'Surfing', 'Surfing', 'Surfing', 'Surfing', 'Typing', 'Typing', 'Typing', 'Typing', 'Typing', 'Typing', 'Typing', 'Typing', 'Typing', 'Typing', 'Typing', 'Typing', 'Typing', 'Typing', 'Typing', 'Typing', 'Typing', 'Typing', 'Typing', 'Typing', 'Typing', 'Typing', 'Typing', 'Typing', 'Typing', 'Typing', 'Typing', 'Typing', 'Typing', 'Typing', 'Typing', 'Typing', 'Typing', 'Typing', 'Typing', 'Typing', 'Typing', 'Typing', 'Typing', 'Typing', 'Typing', 'Typing', 'Typing', 'WalkingWithDog', 'WalkingWithDog', 'WalkingWithDog', 'WalkingWithDog', 'WalkingWithDog', 'WalkingWithDog', 'WalkingWithDog', 'WalkingWithDog', 'WalkingWithDog', 'WalkingWithDog', 'WalkingWithDog', 'WalkingWithDog', 'WalkingWithDog', 'WalkingWithDog', 'WalkingWithDog', 'WalkingWithDog', 'WalkingWithDog', 'WalkingWithDog', 'WalkingWithDog']\n",
      "['BabyCrawling', 'BabyCrawling', 'BabyCrawling', 'BabyCrawling', 'BabyCrawling', 'BabyCrawling', 'BabyCrawling', 'BabyCrawling', 'BabyCrawling', 'BabyCrawling', 'BabyCrawling', 'BabyCrawling', 'BabyCrawling', 'BabyCrawling', 'BabyCrawling', 'BabyCrawling', 'BabyCrawling', 'BabyCrawling', 'BabyCrawling', 'BabyCrawling', 'BabyCrawling', 'BabyCrawling', 'BabyCrawling', 'BabyCrawling', 'BabyCrawling', 'BabyCrawling', 'BabyCrawling', 'BabyCrawling', 'BabyCrawling', 'BabyCrawling', 'BabyCrawling', 'BabyCrawling', 'BabyCrawling', 'BabyCrawling', 'BabyCrawling', 'Surfing', 'Surfing', 'Surfing', 'Surfing', 'Surfing', 'Surfing', 'Surfing', 'Surfing', 'Surfing', 'Surfing', 'Surfing', 'Surfing', 'Surfing', 'Surfing', 'Surfing', 'Surfing', 'Surfing', 'Surfing', 'Surfing', 'Surfing', 'Surfing', 'Surfing', 'Surfing', 'Surfing', 'Surfing', 'Surfing', 'Surfing', 'Surfing', 'Surfing', 'Surfing', 'Surfing', 'Surfing', 'Surfing', 'Typing', 'Typing', 'Typing', 'Typing', 'Typing', 'Typing', 'Typing', 'Typing', 'Typing', 'Typing', 'Typing', 'Typing', 'Typing', 'Typing', 'Typing', 'Typing', 'Typing', 'Typing', 'Typing', 'Typing', 'BabyCrawling', 'Knitting', 'Knitting', 'Knitting', 'Typing', 'Typing', 'Typing', 'Typing', 'Typing', 'Typing', 'Typing', 'Typing', 'Typing', 'Typing', 'Typing', 'Typing', 'Typing', 'Typing', 'Typing', 'Typing', 'Typing', 'Typing', 'Typing', 'WalkingWithDog', 'WalkingWithDog', 'WalkingWithDog', 'WalkingWithDog', 'WalkingWithDog', 'WalkingWithDog', 'WalkingWithDog', 'WalkingWithDog', 'WalkingWithDog', 'WalkingWithDog', 'WalkingWithDog', 'WalkingWithDog', 'WalkingWithDog', 'WalkingWithDog', 'WalkingWithDog', 'Surfing', 'WalkingWithDog', 'WalkingWithDog', 'WalkingWithDog']\n"
     ]
    },
    {
     "name": "stderr",
     "output_type": "stream",
     "text": [
      " 63%|██████████████████████████████████████████████████▍                             | 131/208 [02:39<01:35,  1.24s/it]"
     ]
    },
    {
     "name": "stdout",
     "output_type": "stream",
     "text": [
      "['BabyCrawling', 'BabyCrawling', 'BabyCrawling', 'BabyCrawling', 'BabyCrawling', 'BabyCrawling', 'BabyCrawling', 'BabyCrawling', 'BabyCrawling', 'BabyCrawling', 'BabyCrawling', 'BabyCrawling', 'BabyCrawling', 'BabyCrawling', 'BabyCrawling', 'BabyCrawling', 'BabyCrawling', 'BabyCrawling', 'BabyCrawling', 'BabyCrawling', 'BabyCrawling', 'BabyCrawling', 'BabyCrawling', 'BabyCrawling', 'BabyCrawling', 'BabyCrawling', 'BabyCrawling', 'BabyCrawling', 'BabyCrawling', 'BabyCrawling', 'BabyCrawling', 'BabyCrawling', 'BabyCrawling', 'BabyCrawling', 'BabyCrawling', 'Surfing', 'Surfing', 'Surfing', 'Surfing', 'Surfing', 'Surfing', 'Surfing', 'Surfing', 'Surfing', 'Surfing', 'Surfing', 'Surfing', 'Surfing', 'Surfing', 'Surfing', 'Surfing', 'Surfing', 'Surfing', 'Surfing', 'Surfing', 'Surfing', 'Surfing', 'Surfing', 'Surfing', 'Surfing', 'Surfing', 'Surfing', 'Surfing', 'Surfing', 'Surfing', 'Surfing', 'Surfing', 'Surfing', 'Typing', 'Typing', 'Typing', 'Typing', 'Typing', 'Typing', 'Typing', 'Typing', 'Typing', 'Typing', 'Typing', 'Typing', 'Typing', 'Typing', 'Typing', 'Typing', 'Typing', 'Typing', 'Typing', 'Typing', 'Typing', 'Typing', 'Typing', 'Typing', 'Typing', 'Typing', 'Typing', 'Typing', 'Typing', 'Typing', 'Typing', 'Typing', 'Typing', 'Typing', 'Typing', 'Typing', 'Typing', 'Typing', 'Typing', 'Typing', 'Typing', 'Typing', 'Typing', 'WalkingWithDog', 'WalkingWithDog', 'WalkingWithDog', 'WalkingWithDog', 'WalkingWithDog', 'WalkingWithDog', 'WalkingWithDog', 'WalkingWithDog', 'WalkingWithDog', 'WalkingWithDog', 'WalkingWithDog', 'WalkingWithDog', 'WalkingWithDog', 'WalkingWithDog', 'WalkingWithDog', 'WalkingWithDog', 'WalkingWithDog', 'WalkingWithDog', 'WalkingWithDog', 'WalkingWithDog']\n",
      "['BabyCrawling', 'BabyCrawling', 'BabyCrawling', 'BabyCrawling', 'BabyCrawling', 'BabyCrawling', 'BabyCrawling', 'BabyCrawling', 'BabyCrawling', 'BabyCrawling', 'BabyCrawling', 'BabyCrawling', 'BabyCrawling', 'BabyCrawling', 'BabyCrawling', 'BabyCrawling', 'BabyCrawling', 'BabyCrawling', 'BabyCrawling', 'BabyCrawling', 'BabyCrawling', 'BabyCrawling', 'BabyCrawling', 'BabyCrawling', 'BabyCrawling', 'BabyCrawling', 'BabyCrawling', 'BabyCrawling', 'BabyCrawling', 'BabyCrawling', 'BabyCrawling', 'BabyCrawling', 'BabyCrawling', 'BabyCrawling', 'BabyCrawling', 'Surfing', 'Surfing', 'Surfing', 'Surfing', 'Surfing', 'Surfing', 'Surfing', 'Surfing', 'Surfing', 'Surfing', 'Surfing', 'Surfing', 'Surfing', 'Surfing', 'Surfing', 'Surfing', 'Surfing', 'Surfing', 'Surfing', 'Surfing', 'Surfing', 'Surfing', 'Surfing', 'Surfing', 'Surfing', 'Surfing', 'Surfing', 'Surfing', 'Surfing', 'Surfing', 'Surfing', 'Surfing', 'Surfing', 'Typing', 'Typing', 'Typing', 'Typing', 'Typing', 'Typing', 'Typing', 'Typing', 'Typing', 'Typing', 'Typing', 'Typing', 'Typing', 'Typing', 'Typing', 'Typing', 'Typing', 'Typing', 'Typing', 'Typing', 'BabyCrawling', 'Knitting', 'Knitting', 'Knitting', 'Typing', 'Typing', 'Typing', 'Typing', 'Typing', 'Typing', 'Typing', 'Typing', 'Typing', 'Typing', 'Typing', 'Typing', 'Typing', 'Typing', 'Typing', 'Typing', 'Typing', 'Typing', 'Typing', 'WalkingWithDog', 'WalkingWithDog', 'WalkingWithDog', 'WalkingWithDog', 'WalkingWithDog', 'WalkingWithDog', 'WalkingWithDog', 'WalkingWithDog', 'WalkingWithDog', 'WalkingWithDog', 'WalkingWithDog', 'WalkingWithDog', 'WalkingWithDog', 'WalkingWithDog', 'WalkingWithDog', 'Surfing', 'WalkingWithDog', 'WalkingWithDog', 'WalkingWithDog', 'WalkingWithDog']\n"
     ]
    },
    {
     "name": "stderr",
     "output_type": "stream",
     "text": [
      " 63%|██████████████████████████████████████████████████▊                             | 132/208 [02:41<01:35,  1.26s/it]"
     ]
    },
    {
     "name": "stdout",
     "output_type": "stream",
     "text": [
      "['BabyCrawling', 'BabyCrawling', 'BabyCrawling', 'BabyCrawling', 'BabyCrawling', 'BabyCrawling', 'BabyCrawling', 'BabyCrawling', 'BabyCrawling', 'BabyCrawling', 'BabyCrawling', 'BabyCrawling', 'BabyCrawling', 'BabyCrawling', 'BabyCrawling', 'BabyCrawling', 'BabyCrawling', 'BabyCrawling', 'BabyCrawling', 'BabyCrawling', 'BabyCrawling', 'BabyCrawling', 'BabyCrawling', 'BabyCrawling', 'BabyCrawling', 'BabyCrawling', 'BabyCrawling', 'BabyCrawling', 'BabyCrawling', 'BabyCrawling', 'BabyCrawling', 'BabyCrawling', 'BabyCrawling', 'BabyCrawling', 'BabyCrawling', 'Surfing', 'Surfing', 'Surfing', 'Surfing', 'Surfing', 'Surfing', 'Surfing', 'Surfing', 'Surfing', 'Surfing', 'Surfing', 'Surfing', 'Surfing', 'Surfing', 'Surfing', 'Surfing', 'Surfing', 'Surfing', 'Surfing', 'Surfing', 'Surfing', 'Surfing', 'Surfing', 'Surfing', 'Surfing', 'Surfing', 'Surfing', 'Surfing', 'Surfing', 'Surfing', 'Surfing', 'Surfing', 'Surfing', 'Typing', 'Typing', 'Typing', 'Typing', 'Typing', 'Typing', 'Typing', 'Typing', 'Typing', 'Typing', 'Typing', 'Typing', 'Typing', 'Typing', 'Typing', 'Typing', 'Typing', 'Typing', 'Typing', 'Typing', 'Typing', 'Typing', 'Typing', 'Typing', 'Typing', 'Typing', 'Typing', 'Typing', 'Typing', 'Typing', 'Typing', 'Typing', 'Typing', 'Typing', 'Typing', 'Typing', 'Typing', 'Typing', 'Typing', 'Typing', 'Typing', 'Typing', 'Typing', 'WalkingWithDog', 'WalkingWithDog', 'WalkingWithDog', 'WalkingWithDog', 'WalkingWithDog', 'WalkingWithDog', 'WalkingWithDog', 'WalkingWithDog', 'WalkingWithDog', 'WalkingWithDog', 'WalkingWithDog', 'WalkingWithDog', 'WalkingWithDog', 'WalkingWithDog', 'WalkingWithDog', 'WalkingWithDog', 'WalkingWithDog', 'WalkingWithDog', 'WalkingWithDog', 'WalkingWithDog', 'WalkingWithDog']\n",
      "['BabyCrawling', 'BabyCrawling', 'BabyCrawling', 'BabyCrawling', 'BabyCrawling', 'BabyCrawling', 'BabyCrawling', 'BabyCrawling', 'BabyCrawling', 'BabyCrawling', 'BabyCrawling', 'BabyCrawling', 'BabyCrawling', 'BabyCrawling', 'BabyCrawling', 'BabyCrawling', 'BabyCrawling', 'BabyCrawling', 'BabyCrawling', 'BabyCrawling', 'BabyCrawling', 'BabyCrawling', 'BabyCrawling', 'BabyCrawling', 'BabyCrawling', 'BabyCrawling', 'BabyCrawling', 'BabyCrawling', 'BabyCrawling', 'BabyCrawling', 'BabyCrawling', 'BabyCrawling', 'BabyCrawling', 'BabyCrawling', 'BabyCrawling', 'Surfing', 'Surfing', 'Surfing', 'Surfing', 'Surfing', 'Surfing', 'Surfing', 'Surfing', 'Surfing', 'Surfing', 'Surfing', 'Surfing', 'Surfing', 'Surfing', 'Surfing', 'Surfing', 'Surfing', 'Surfing', 'Surfing', 'Surfing', 'Surfing', 'Surfing', 'Surfing', 'Surfing', 'Surfing', 'Surfing', 'Surfing', 'Surfing', 'Surfing', 'Surfing', 'Surfing', 'Surfing', 'Surfing', 'Typing', 'Typing', 'Typing', 'Typing', 'Typing', 'Typing', 'Typing', 'Typing', 'Typing', 'Typing', 'Typing', 'Typing', 'Typing', 'Typing', 'Typing', 'Typing', 'Typing', 'Typing', 'Typing', 'Typing', 'BabyCrawling', 'Knitting', 'Knitting', 'Knitting', 'Typing', 'Typing', 'Typing', 'Typing', 'Typing', 'Typing', 'Typing', 'Typing', 'Typing', 'Typing', 'Typing', 'Typing', 'Typing', 'Typing', 'Typing', 'Typing', 'Typing', 'Typing', 'Typing', 'WalkingWithDog', 'WalkingWithDog', 'WalkingWithDog', 'WalkingWithDog', 'WalkingWithDog', 'WalkingWithDog', 'WalkingWithDog', 'WalkingWithDog', 'WalkingWithDog', 'WalkingWithDog', 'WalkingWithDog', 'WalkingWithDog', 'WalkingWithDog', 'WalkingWithDog', 'WalkingWithDog', 'Surfing', 'WalkingWithDog', 'WalkingWithDog', 'WalkingWithDog', 'WalkingWithDog', 'WalkingWithDog']\n"
     ]
    },
    {
     "name": "stderr",
     "output_type": "stream",
     "text": [
      " 64%|███████████████████████████████████████████████████▏                            | 133/208 [02:42<01:35,  1.27s/it]"
     ]
    },
    {
     "name": "stdout",
     "output_type": "stream",
     "text": [
      "['BabyCrawling', 'BabyCrawling', 'BabyCrawling', 'BabyCrawling', 'BabyCrawling', 'BabyCrawling', 'BabyCrawling', 'BabyCrawling', 'BabyCrawling', 'BabyCrawling', 'BabyCrawling', 'BabyCrawling', 'BabyCrawling', 'BabyCrawling', 'BabyCrawling', 'BabyCrawling', 'BabyCrawling', 'BabyCrawling', 'BabyCrawling', 'BabyCrawling', 'BabyCrawling', 'BabyCrawling', 'BabyCrawling', 'BabyCrawling', 'BabyCrawling', 'BabyCrawling', 'BabyCrawling', 'BabyCrawling', 'BabyCrawling', 'BabyCrawling', 'BabyCrawling', 'BabyCrawling', 'BabyCrawling', 'BabyCrawling', 'BabyCrawling', 'Surfing', 'Surfing', 'Surfing', 'Surfing', 'Surfing', 'Surfing', 'Surfing', 'Surfing', 'Surfing', 'Surfing', 'Surfing', 'Surfing', 'Surfing', 'Surfing', 'Surfing', 'Surfing', 'Surfing', 'Surfing', 'Surfing', 'Surfing', 'Surfing', 'Surfing', 'Surfing', 'Surfing', 'Surfing', 'Surfing', 'Surfing', 'Surfing', 'Surfing', 'Surfing', 'Surfing', 'Surfing', 'Surfing', 'Typing', 'Typing', 'Typing', 'Typing', 'Typing', 'Typing', 'Typing', 'Typing', 'Typing', 'Typing', 'Typing', 'Typing', 'Typing', 'Typing', 'Typing', 'Typing', 'Typing', 'Typing', 'Typing', 'Typing', 'Typing', 'Typing', 'Typing', 'Typing', 'Typing', 'Typing', 'Typing', 'Typing', 'Typing', 'Typing', 'Typing', 'Typing', 'Typing', 'Typing', 'Typing', 'Typing', 'Typing', 'Typing', 'Typing', 'Typing', 'Typing', 'Typing', 'Typing', 'WalkingWithDog', 'WalkingWithDog', 'WalkingWithDog', 'WalkingWithDog', 'WalkingWithDog', 'WalkingWithDog', 'WalkingWithDog', 'WalkingWithDog', 'WalkingWithDog', 'WalkingWithDog', 'WalkingWithDog', 'WalkingWithDog', 'WalkingWithDog', 'WalkingWithDog', 'WalkingWithDog', 'WalkingWithDog', 'WalkingWithDog', 'WalkingWithDog', 'WalkingWithDog', 'WalkingWithDog', 'WalkingWithDog', 'WalkingWithDog']\n",
      "['BabyCrawling', 'BabyCrawling', 'BabyCrawling', 'BabyCrawling', 'BabyCrawling', 'BabyCrawling', 'BabyCrawling', 'BabyCrawling', 'BabyCrawling', 'BabyCrawling', 'BabyCrawling', 'BabyCrawling', 'BabyCrawling', 'BabyCrawling', 'BabyCrawling', 'BabyCrawling', 'BabyCrawling', 'BabyCrawling', 'BabyCrawling', 'BabyCrawling', 'BabyCrawling', 'BabyCrawling', 'BabyCrawling', 'BabyCrawling', 'BabyCrawling', 'BabyCrawling', 'BabyCrawling', 'BabyCrawling', 'BabyCrawling', 'BabyCrawling', 'BabyCrawling', 'BabyCrawling', 'BabyCrawling', 'BabyCrawling', 'BabyCrawling', 'Surfing', 'Surfing', 'Surfing', 'Surfing', 'Surfing', 'Surfing', 'Surfing', 'Surfing', 'Surfing', 'Surfing', 'Surfing', 'Surfing', 'Surfing', 'Surfing', 'Surfing', 'Surfing', 'Surfing', 'Surfing', 'Surfing', 'Surfing', 'Surfing', 'Surfing', 'Surfing', 'Surfing', 'Surfing', 'Surfing', 'Surfing', 'Surfing', 'Surfing', 'Surfing', 'Surfing', 'Surfing', 'Surfing', 'Typing', 'Typing', 'Typing', 'Typing', 'Typing', 'Typing', 'Typing', 'Typing', 'Typing', 'Typing', 'Typing', 'Typing', 'Typing', 'Typing', 'Typing', 'Typing', 'Typing', 'Typing', 'Typing', 'Typing', 'BabyCrawling', 'Knitting', 'Knitting', 'Knitting', 'Typing', 'Typing', 'Typing', 'Typing', 'Typing', 'Typing', 'Typing', 'Typing', 'Typing', 'Typing', 'Typing', 'Typing', 'Typing', 'Typing', 'Typing', 'Typing', 'Typing', 'Typing', 'Typing', 'WalkingWithDog', 'WalkingWithDog', 'WalkingWithDog', 'WalkingWithDog', 'WalkingWithDog', 'WalkingWithDog', 'WalkingWithDog', 'WalkingWithDog', 'WalkingWithDog', 'WalkingWithDog', 'WalkingWithDog', 'WalkingWithDog', 'WalkingWithDog', 'WalkingWithDog', 'WalkingWithDog', 'Surfing', 'WalkingWithDog', 'WalkingWithDog', 'WalkingWithDog', 'WalkingWithDog', 'WalkingWithDog', 'WalkingWithDog']\n"
     ]
    },
    {
     "name": "stderr",
     "output_type": "stream",
     "text": [
      " 64%|███████████████████████████████████████████████████▌                            | 134/208 [02:43<01:34,  1.28s/it]"
     ]
    },
    {
     "name": "stdout",
     "output_type": "stream",
     "text": [
      "['BabyCrawling', 'BabyCrawling', 'BabyCrawling', 'BabyCrawling', 'BabyCrawling', 'BabyCrawling', 'BabyCrawling', 'BabyCrawling', 'BabyCrawling', 'BabyCrawling', 'BabyCrawling', 'BabyCrawling', 'BabyCrawling', 'BabyCrawling', 'BabyCrawling', 'BabyCrawling', 'BabyCrawling', 'BabyCrawling', 'BabyCrawling', 'BabyCrawling', 'BabyCrawling', 'BabyCrawling', 'BabyCrawling', 'BabyCrawling', 'BabyCrawling', 'BabyCrawling', 'BabyCrawling', 'BabyCrawling', 'BabyCrawling', 'BabyCrawling', 'BabyCrawling', 'BabyCrawling', 'BabyCrawling', 'BabyCrawling', 'BabyCrawling', 'Surfing', 'Surfing', 'Surfing', 'Surfing', 'Surfing', 'Surfing', 'Surfing', 'Surfing', 'Surfing', 'Surfing', 'Surfing', 'Surfing', 'Surfing', 'Surfing', 'Surfing', 'Surfing', 'Surfing', 'Surfing', 'Surfing', 'Surfing', 'Surfing', 'Surfing', 'Surfing', 'Surfing', 'Surfing', 'Surfing', 'Surfing', 'Surfing', 'Surfing', 'Surfing', 'Surfing', 'Surfing', 'Surfing', 'Typing', 'Typing', 'Typing', 'Typing', 'Typing', 'Typing', 'Typing', 'Typing', 'Typing', 'Typing', 'Typing', 'Typing', 'Typing', 'Typing', 'Typing', 'Typing', 'Typing', 'Typing', 'Typing', 'Typing', 'Typing', 'Typing', 'Typing', 'Typing', 'Typing', 'Typing', 'Typing', 'Typing', 'Typing', 'Typing', 'Typing', 'Typing', 'Typing', 'Typing', 'Typing', 'Typing', 'Typing', 'Typing', 'Typing', 'Typing', 'Typing', 'Typing', 'Typing', 'WalkingWithDog', 'WalkingWithDog', 'WalkingWithDog', 'WalkingWithDog', 'WalkingWithDog', 'WalkingWithDog', 'WalkingWithDog', 'WalkingWithDog', 'WalkingWithDog', 'WalkingWithDog', 'WalkingWithDog', 'WalkingWithDog', 'WalkingWithDog', 'WalkingWithDog', 'WalkingWithDog', 'WalkingWithDog', 'WalkingWithDog', 'WalkingWithDog', 'WalkingWithDog', 'WalkingWithDog', 'WalkingWithDog', 'WalkingWithDog', 'WalkingWithDog']\n",
      "['BabyCrawling', 'BabyCrawling', 'BabyCrawling', 'BabyCrawling', 'BabyCrawling', 'BabyCrawling', 'BabyCrawling', 'BabyCrawling', 'BabyCrawling', 'BabyCrawling', 'BabyCrawling', 'BabyCrawling', 'BabyCrawling', 'BabyCrawling', 'BabyCrawling', 'BabyCrawling', 'BabyCrawling', 'BabyCrawling', 'BabyCrawling', 'BabyCrawling', 'BabyCrawling', 'BabyCrawling', 'BabyCrawling', 'BabyCrawling', 'BabyCrawling', 'BabyCrawling', 'BabyCrawling', 'BabyCrawling', 'BabyCrawling', 'BabyCrawling', 'BabyCrawling', 'BabyCrawling', 'BabyCrawling', 'BabyCrawling', 'BabyCrawling', 'Surfing', 'Surfing', 'Surfing', 'Surfing', 'Surfing', 'Surfing', 'Surfing', 'Surfing', 'Surfing', 'Surfing', 'Surfing', 'Surfing', 'Surfing', 'Surfing', 'Surfing', 'Surfing', 'Surfing', 'Surfing', 'Surfing', 'Surfing', 'Surfing', 'Surfing', 'Surfing', 'Surfing', 'Surfing', 'Surfing', 'Surfing', 'Surfing', 'Surfing', 'Surfing', 'Surfing', 'Surfing', 'Surfing', 'Typing', 'Typing', 'Typing', 'Typing', 'Typing', 'Typing', 'Typing', 'Typing', 'Typing', 'Typing', 'Typing', 'Typing', 'Typing', 'Typing', 'Typing', 'Typing', 'Typing', 'Typing', 'Typing', 'Typing', 'BabyCrawling', 'Knitting', 'Knitting', 'Knitting', 'Typing', 'Typing', 'Typing', 'Typing', 'Typing', 'Typing', 'Typing', 'Typing', 'Typing', 'Typing', 'Typing', 'Typing', 'Typing', 'Typing', 'Typing', 'Typing', 'Typing', 'Typing', 'Typing', 'WalkingWithDog', 'WalkingWithDog', 'WalkingWithDog', 'WalkingWithDog', 'WalkingWithDog', 'WalkingWithDog', 'WalkingWithDog', 'WalkingWithDog', 'WalkingWithDog', 'WalkingWithDog', 'WalkingWithDog', 'WalkingWithDog', 'WalkingWithDog', 'WalkingWithDog', 'WalkingWithDog', 'Surfing', 'WalkingWithDog', 'WalkingWithDog', 'WalkingWithDog', 'WalkingWithDog', 'WalkingWithDog', 'WalkingWithDog', 'WalkingWithDog']\n"
     ]
    },
    {
     "name": "stderr",
     "output_type": "stream",
     "text": [
      " 65%|███████████████████████████████████████████████████▉                            | 135/208 [02:44<01:22,  1.13s/it]"
     ]
    },
    {
     "name": "stdout",
     "output_type": "stream",
     "text": [
      "['BabyCrawling', 'BabyCrawling', 'BabyCrawling', 'BabyCrawling', 'BabyCrawling', 'BabyCrawling', 'BabyCrawling', 'BabyCrawling', 'BabyCrawling', 'BabyCrawling', 'BabyCrawling', 'BabyCrawling', 'BabyCrawling', 'BabyCrawling', 'BabyCrawling', 'BabyCrawling', 'BabyCrawling', 'BabyCrawling', 'BabyCrawling', 'BabyCrawling', 'BabyCrawling', 'BabyCrawling', 'BabyCrawling', 'BabyCrawling', 'BabyCrawling', 'BabyCrawling', 'BabyCrawling', 'BabyCrawling', 'BabyCrawling', 'BabyCrawling', 'BabyCrawling', 'BabyCrawling', 'BabyCrawling', 'BabyCrawling', 'BabyCrawling', 'Surfing', 'Surfing', 'Surfing', 'Surfing', 'Surfing', 'Surfing', 'Surfing', 'Surfing', 'Surfing', 'Surfing', 'Surfing', 'Surfing', 'Surfing', 'Surfing', 'Surfing', 'Surfing', 'Surfing', 'Surfing', 'Surfing', 'Surfing', 'Surfing', 'Surfing', 'Surfing', 'Surfing', 'Surfing', 'Surfing', 'Surfing', 'Surfing', 'Surfing', 'Surfing', 'Surfing', 'Surfing', 'Surfing', 'Typing', 'Typing', 'Typing', 'Typing', 'Typing', 'Typing', 'Typing', 'Typing', 'Typing', 'Typing', 'Typing', 'Typing', 'Typing', 'Typing', 'Typing', 'Typing', 'Typing', 'Typing', 'Typing', 'Typing', 'Typing', 'Typing', 'Typing', 'Typing', 'Typing', 'Typing', 'Typing', 'Typing', 'Typing', 'Typing', 'Typing', 'Typing', 'Typing', 'Typing', 'Typing', 'Typing', 'Typing', 'Typing', 'Typing', 'Typing', 'Typing', 'Typing', 'Typing', 'WalkingWithDog', 'WalkingWithDog', 'WalkingWithDog', 'WalkingWithDog', 'WalkingWithDog', 'WalkingWithDog', 'WalkingWithDog', 'WalkingWithDog', 'WalkingWithDog', 'WalkingWithDog', 'WalkingWithDog', 'WalkingWithDog', 'WalkingWithDog', 'WalkingWithDog', 'WalkingWithDog', 'WalkingWithDog', 'WalkingWithDog', 'WalkingWithDog', 'WalkingWithDog', 'WalkingWithDog', 'WalkingWithDog', 'WalkingWithDog', 'WalkingWithDog', 'WalkingWithDog']\n",
      "['BabyCrawling', 'BabyCrawling', 'BabyCrawling', 'BabyCrawling', 'BabyCrawling', 'BabyCrawling', 'BabyCrawling', 'BabyCrawling', 'BabyCrawling', 'BabyCrawling', 'BabyCrawling', 'BabyCrawling', 'BabyCrawling', 'BabyCrawling', 'BabyCrawling', 'BabyCrawling', 'BabyCrawling', 'BabyCrawling', 'BabyCrawling', 'BabyCrawling', 'BabyCrawling', 'BabyCrawling', 'BabyCrawling', 'BabyCrawling', 'BabyCrawling', 'BabyCrawling', 'BabyCrawling', 'BabyCrawling', 'BabyCrawling', 'BabyCrawling', 'BabyCrawling', 'BabyCrawling', 'BabyCrawling', 'BabyCrawling', 'BabyCrawling', 'Surfing', 'Surfing', 'Surfing', 'Surfing', 'Surfing', 'Surfing', 'Surfing', 'Surfing', 'Surfing', 'Surfing', 'Surfing', 'Surfing', 'Surfing', 'Surfing', 'Surfing', 'Surfing', 'Surfing', 'Surfing', 'Surfing', 'Surfing', 'Surfing', 'Surfing', 'Surfing', 'Surfing', 'Surfing', 'Surfing', 'Surfing', 'Surfing', 'Surfing', 'Surfing', 'Surfing', 'Surfing', 'Surfing', 'Typing', 'Typing', 'Typing', 'Typing', 'Typing', 'Typing', 'Typing', 'Typing', 'Typing', 'Typing', 'Typing', 'Typing', 'Typing', 'Typing', 'Typing', 'Typing', 'Typing', 'Typing', 'Typing', 'Typing', 'BabyCrawling', 'Knitting', 'Knitting', 'Knitting', 'Typing', 'Typing', 'Typing', 'Typing', 'Typing', 'Typing', 'Typing', 'Typing', 'Typing', 'Typing', 'Typing', 'Typing', 'Typing', 'Typing', 'Typing', 'Typing', 'Typing', 'Typing', 'Typing', 'WalkingWithDog', 'WalkingWithDog', 'WalkingWithDog', 'WalkingWithDog', 'WalkingWithDog', 'WalkingWithDog', 'WalkingWithDog', 'WalkingWithDog', 'WalkingWithDog', 'WalkingWithDog', 'WalkingWithDog', 'WalkingWithDog', 'WalkingWithDog', 'WalkingWithDog', 'WalkingWithDog', 'Surfing', 'WalkingWithDog', 'WalkingWithDog', 'WalkingWithDog', 'WalkingWithDog', 'WalkingWithDog', 'WalkingWithDog', 'WalkingWithDog', 'WalkingWithDog']\n"
     ]
    },
    {
     "name": "stderr",
     "output_type": "stream",
     "text": [
      " 65%|████████████████████████████████████████████████████▎                           | 136/208 [02:45<01:14,  1.04s/it]"
     ]
    },
    {
     "name": "stdout",
     "output_type": "stream",
     "text": [
      "['BabyCrawling', 'BabyCrawling', 'BabyCrawling', 'BabyCrawling', 'BabyCrawling', 'BabyCrawling', 'BabyCrawling', 'BabyCrawling', 'BabyCrawling', 'BabyCrawling', 'BabyCrawling', 'BabyCrawling', 'BabyCrawling', 'BabyCrawling', 'BabyCrawling', 'BabyCrawling', 'BabyCrawling', 'BabyCrawling', 'BabyCrawling', 'BabyCrawling', 'BabyCrawling', 'BabyCrawling', 'BabyCrawling', 'BabyCrawling', 'BabyCrawling', 'BabyCrawling', 'BabyCrawling', 'BabyCrawling', 'BabyCrawling', 'BabyCrawling', 'BabyCrawling', 'BabyCrawling', 'BabyCrawling', 'BabyCrawling', 'BabyCrawling', 'Surfing', 'Surfing', 'Surfing', 'Surfing', 'Surfing', 'Surfing', 'Surfing', 'Surfing', 'Surfing', 'Surfing', 'Surfing', 'Surfing', 'Surfing', 'Surfing', 'Surfing', 'Surfing', 'Surfing', 'Surfing', 'Surfing', 'Surfing', 'Surfing', 'Surfing', 'Surfing', 'Surfing', 'Surfing', 'Surfing', 'Surfing', 'Surfing', 'Surfing', 'Surfing', 'Surfing', 'Surfing', 'Surfing', 'Typing', 'Typing', 'Typing', 'Typing', 'Typing', 'Typing', 'Typing', 'Typing', 'Typing', 'Typing', 'Typing', 'Typing', 'Typing', 'Typing', 'Typing', 'Typing', 'Typing', 'Typing', 'Typing', 'Typing', 'Typing', 'Typing', 'Typing', 'Typing', 'Typing', 'Typing', 'Typing', 'Typing', 'Typing', 'Typing', 'Typing', 'Typing', 'Typing', 'Typing', 'Typing', 'Typing', 'Typing', 'Typing', 'Typing', 'Typing', 'Typing', 'Typing', 'Typing', 'WalkingWithDog', 'WalkingWithDog', 'WalkingWithDog', 'WalkingWithDog', 'WalkingWithDog', 'WalkingWithDog', 'WalkingWithDog', 'WalkingWithDog', 'WalkingWithDog', 'WalkingWithDog', 'WalkingWithDog', 'WalkingWithDog', 'WalkingWithDog', 'WalkingWithDog', 'WalkingWithDog', 'WalkingWithDog', 'WalkingWithDog', 'WalkingWithDog', 'WalkingWithDog', 'WalkingWithDog', 'WalkingWithDog', 'WalkingWithDog', 'WalkingWithDog', 'WalkingWithDog', 'WalkingWithDog']\n",
      "['BabyCrawling', 'BabyCrawling', 'BabyCrawling', 'BabyCrawling', 'BabyCrawling', 'BabyCrawling', 'BabyCrawling', 'BabyCrawling', 'BabyCrawling', 'BabyCrawling', 'BabyCrawling', 'BabyCrawling', 'BabyCrawling', 'BabyCrawling', 'BabyCrawling', 'BabyCrawling', 'BabyCrawling', 'BabyCrawling', 'BabyCrawling', 'BabyCrawling', 'BabyCrawling', 'BabyCrawling', 'BabyCrawling', 'BabyCrawling', 'BabyCrawling', 'BabyCrawling', 'BabyCrawling', 'BabyCrawling', 'BabyCrawling', 'BabyCrawling', 'BabyCrawling', 'BabyCrawling', 'BabyCrawling', 'BabyCrawling', 'BabyCrawling', 'Surfing', 'Surfing', 'Surfing', 'Surfing', 'Surfing', 'Surfing', 'Surfing', 'Surfing', 'Surfing', 'Surfing', 'Surfing', 'Surfing', 'Surfing', 'Surfing', 'Surfing', 'Surfing', 'Surfing', 'Surfing', 'Surfing', 'Surfing', 'Surfing', 'Surfing', 'Surfing', 'Surfing', 'Surfing', 'Surfing', 'Surfing', 'Surfing', 'Surfing', 'Surfing', 'Surfing', 'Surfing', 'Surfing', 'Typing', 'Typing', 'Typing', 'Typing', 'Typing', 'Typing', 'Typing', 'Typing', 'Typing', 'Typing', 'Typing', 'Typing', 'Typing', 'Typing', 'Typing', 'Typing', 'Typing', 'Typing', 'Typing', 'Typing', 'BabyCrawling', 'Knitting', 'Knitting', 'Knitting', 'Typing', 'Typing', 'Typing', 'Typing', 'Typing', 'Typing', 'Typing', 'Typing', 'Typing', 'Typing', 'Typing', 'Typing', 'Typing', 'Typing', 'Typing', 'Typing', 'Typing', 'Typing', 'Typing', 'WalkingWithDog', 'WalkingWithDog', 'WalkingWithDog', 'WalkingWithDog', 'WalkingWithDog', 'WalkingWithDog', 'WalkingWithDog', 'WalkingWithDog', 'WalkingWithDog', 'WalkingWithDog', 'WalkingWithDog', 'WalkingWithDog', 'WalkingWithDog', 'WalkingWithDog', 'WalkingWithDog', 'Surfing', 'WalkingWithDog', 'WalkingWithDog', 'WalkingWithDog', 'WalkingWithDog', 'WalkingWithDog', 'WalkingWithDog', 'WalkingWithDog', 'WalkingWithDog', 'WalkingWithDog']\n"
     ]
    },
    {
     "name": "stderr",
     "output_type": "stream",
     "text": [
      " 66%|████████████████████████████████████████████████████▋                           | 137/208 [02:46<01:10,  1.00it/s]"
     ]
    },
    {
     "name": "stdout",
     "output_type": "stream",
     "text": [
      "['BabyCrawling', 'BabyCrawling', 'BabyCrawling', 'BabyCrawling', 'BabyCrawling', 'BabyCrawling', 'BabyCrawling', 'BabyCrawling', 'BabyCrawling', 'BabyCrawling', 'BabyCrawling', 'BabyCrawling', 'BabyCrawling', 'BabyCrawling', 'BabyCrawling', 'BabyCrawling', 'BabyCrawling', 'BabyCrawling', 'BabyCrawling', 'BabyCrawling', 'BabyCrawling', 'BabyCrawling', 'BabyCrawling', 'BabyCrawling', 'BabyCrawling', 'BabyCrawling', 'BabyCrawling', 'BabyCrawling', 'BabyCrawling', 'BabyCrawling', 'BabyCrawling', 'BabyCrawling', 'BabyCrawling', 'BabyCrawling', 'BabyCrawling', 'Surfing', 'Surfing', 'Surfing', 'Surfing', 'Surfing', 'Surfing', 'Surfing', 'Surfing', 'Surfing', 'Surfing', 'Surfing', 'Surfing', 'Surfing', 'Surfing', 'Surfing', 'Surfing', 'Surfing', 'Surfing', 'Surfing', 'Surfing', 'Surfing', 'Surfing', 'Surfing', 'Surfing', 'Surfing', 'Surfing', 'Surfing', 'Surfing', 'Surfing', 'Surfing', 'Surfing', 'Surfing', 'Surfing', 'Typing', 'Typing', 'Typing', 'Typing', 'Typing', 'Typing', 'Typing', 'Typing', 'Typing', 'Typing', 'Typing', 'Typing', 'Typing', 'Typing', 'Typing', 'Typing', 'Typing', 'Typing', 'Typing', 'Typing', 'Typing', 'Typing', 'Typing', 'Typing', 'Typing', 'Typing', 'Typing', 'Typing', 'Typing', 'Typing', 'Typing', 'Typing', 'Typing', 'Typing', 'Typing', 'Typing', 'Typing', 'Typing', 'Typing', 'Typing', 'Typing', 'Typing', 'Typing', 'WalkingWithDog', 'WalkingWithDog', 'WalkingWithDog', 'WalkingWithDog', 'WalkingWithDog', 'WalkingWithDog', 'WalkingWithDog', 'WalkingWithDog', 'WalkingWithDog', 'WalkingWithDog', 'WalkingWithDog', 'WalkingWithDog', 'WalkingWithDog', 'WalkingWithDog', 'WalkingWithDog', 'WalkingWithDog', 'WalkingWithDog', 'WalkingWithDog', 'WalkingWithDog', 'WalkingWithDog', 'WalkingWithDog', 'WalkingWithDog', 'WalkingWithDog', 'WalkingWithDog', 'WalkingWithDog', 'WalkingWithDog']\n",
      "['BabyCrawling', 'BabyCrawling', 'BabyCrawling', 'BabyCrawling', 'BabyCrawling', 'BabyCrawling', 'BabyCrawling', 'BabyCrawling', 'BabyCrawling', 'BabyCrawling', 'BabyCrawling', 'BabyCrawling', 'BabyCrawling', 'BabyCrawling', 'BabyCrawling', 'BabyCrawling', 'BabyCrawling', 'BabyCrawling', 'BabyCrawling', 'BabyCrawling', 'BabyCrawling', 'BabyCrawling', 'BabyCrawling', 'BabyCrawling', 'BabyCrawling', 'BabyCrawling', 'BabyCrawling', 'BabyCrawling', 'BabyCrawling', 'BabyCrawling', 'BabyCrawling', 'BabyCrawling', 'BabyCrawling', 'BabyCrawling', 'BabyCrawling', 'Surfing', 'Surfing', 'Surfing', 'Surfing', 'Surfing', 'Surfing', 'Surfing', 'Surfing', 'Surfing', 'Surfing', 'Surfing', 'Surfing', 'Surfing', 'Surfing', 'Surfing', 'Surfing', 'Surfing', 'Surfing', 'Surfing', 'Surfing', 'Surfing', 'Surfing', 'Surfing', 'Surfing', 'Surfing', 'Surfing', 'Surfing', 'Surfing', 'Surfing', 'Surfing', 'Surfing', 'Surfing', 'Surfing', 'Typing', 'Typing', 'Typing', 'Typing', 'Typing', 'Typing', 'Typing', 'Typing', 'Typing', 'Typing', 'Typing', 'Typing', 'Typing', 'Typing', 'Typing', 'Typing', 'Typing', 'Typing', 'Typing', 'Typing', 'BabyCrawling', 'Knitting', 'Knitting', 'Knitting', 'Typing', 'Typing', 'Typing', 'Typing', 'Typing', 'Typing', 'Typing', 'Typing', 'Typing', 'Typing', 'Typing', 'Typing', 'Typing', 'Typing', 'Typing', 'Typing', 'Typing', 'Typing', 'Typing', 'WalkingWithDog', 'WalkingWithDog', 'WalkingWithDog', 'WalkingWithDog', 'WalkingWithDog', 'WalkingWithDog', 'WalkingWithDog', 'WalkingWithDog', 'WalkingWithDog', 'WalkingWithDog', 'WalkingWithDog', 'WalkingWithDog', 'WalkingWithDog', 'WalkingWithDog', 'WalkingWithDog', 'Surfing', 'WalkingWithDog', 'WalkingWithDog', 'WalkingWithDog', 'WalkingWithDog', 'WalkingWithDog', 'WalkingWithDog', 'WalkingWithDog', 'WalkingWithDog', 'WalkingWithDog', 'WalkingWithDog']\n"
     ]
    },
    {
     "name": "stderr",
     "output_type": "stream",
     "text": [
      " 66%|█████████████████████████████████████████████████████                           | 138/208 [02:47<01:05,  1.07it/s]"
     ]
    },
    {
     "name": "stdout",
     "output_type": "stream",
     "text": [
      "['BabyCrawling', 'BabyCrawling', 'BabyCrawling', 'BabyCrawling', 'BabyCrawling', 'BabyCrawling', 'BabyCrawling', 'BabyCrawling', 'BabyCrawling', 'BabyCrawling', 'BabyCrawling', 'BabyCrawling', 'BabyCrawling', 'BabyCrawling', 'BabyCrawling', 'BabyCrawling', 'BabyCrawling', 'BabyCrawling', 'BabyCrawling', 'BabyCrawling', 'BabyCrawling', 'BabyCrawling', 'BabyCrawling', 'BabyCrawling', 'BabyCrawling', 'BabyCrawling', 'BabyCrawling', 'BabyCrawling', 'BabyCrawling', 'BabyCrawling', 'BabyCrawling', 'BabyCrawling', 'BabyCrawling', 'BabyCrawling', 'BabyCrawling', 'Surfing', 'Surfing', 'Surfing', 'Surfing', 'Surfing', 'Surfing', 'Surfing', 'Surfing', 'Surfing', 'Surfing', 'Surfing', 'Surfing', 'Surfing', 'Surfing', 'Surfing', 'Surfing', 'Surfing', 'Surfing', 'Surfing', 'Surfing', 'Surfing', 'Surfing', 'Surfing', 'Surfing', 'Surfing', 'Surfing', 'Surfing', 'Surfing', 'Surfing', 'Surfing', 'Surfing', 'Surfing', 'Surfing', 'Typing', 'Typing', 'Typing', 'Typing', 'Typing', 'Typing', 'Typing', 'Typing', 'Typing', 'Typing', 'Typing', 'Typing', 'Typing', 'Typing', 'Typing', 'Typing', 'Typing', 'Typing', 'Typing', 'Typing', 'Typing', 'Typing', 'Typing', 'Typing', 'Typing', 'Typing', 'Typing', 'Typing', 'Typing', 'Typing', 'Typing', 'Typing', 'Typing', 'Typing', 'Typing', 'Typing', 'Typing', 'Typing', 'Typing', 'Typing', 'Typing', 'Typing', 'Typing', 'WalkingWithDog', 'WalkingWithDog', 'WalkingWithDog', 'WalkingWithDog', 'WalkingWithDog', 'WalkingWithDog', 'WalkingWithDog', 'WalkingWithDog', 'WalkingWithDog', 'WalkingWithDog', 'WalkingWithDog', 'WalkingWithDog', 'WalkingWithDog', 'WalkingWithDog', 'WalkingWithDog', 'WalkingWithDog', 'WalkingWithDog', 'WalkingWithDog', 'WalkingWithDog', 'WalkingWithDog', 'WalkingWithDog', 'WalkingWithDog', 'WalkingWithDog', 'WalkingWithDog', 'WalkingWithDog', 'WalkingWithDog', 'WalkingWithDog']\n",
      "['BabyCrawling', 'BabyCrawling', 'BabyCrawling', 'BabyCrawling', 'BabyCrawling', 'BabyCrawling', 'BabyCrawling', 'BabyCrawling', 'BabyCrawling', 'BabyCrawling', 'BabyCrawling', 'BabyCrawling', 'BabyCrawling', 'BabyCrawling', 'BabyCrawling', 'BabyCrawling', 'BabyCrawling', 'BabyCrawling', 'BabyCrawling', 'BabyCrawling', 'BabyCrawling', 'BabyCrawling', 'BabyCrawling', 'BabyCrawling', 'BabyCrawling', 'BabyCrawling', 'BabyCrawling', 'BabyCrawling', 'BabyCrawling', 'BabyCrawling', 'BabyCrawling', 'BabyCrawling', 'BabyCrawling', 'BabyCrawling', 'BabyCrawling', 'Surfing', 'Surfing', 'Surfing', 'Surfing', 'Surfing', 'Surfing', 'Surfing', 'Surfing', 'Surfing', 'Surfing', 'Surfing', 'Surfing', 'Surfing', 'Surfing', 'Surfing', 'Surfing', 'Surfing', 'Surfing', 'Surfing', 'Surfing', 'Surfing', 'Surfing', 'Surfing', 'Surfing', 'Surfing', 'Surfing', 'Surfing', 'Surfing', 'Surfing', 'Surfing', 'Surfing', 'Surfing', 'Surfing', 'Typing', 'Typing', 'Typing', 'Typing', 'Typing', 'Typing', 'Typing', 'Typing', 'Typing', 'Typing', 'Typing', 'Typing', 'Typing', 'Typing', 'Typing', 'Typing', 'Typing', 'Typing', 'Typing', 'Typing', 'BabyCrawling', 'Knitting', 'Knitting', 'Knitting', 'Typing', 'Typing', 'Typing', 'Typing', 'Typing', 'Typing', 'Typing', 'Typing', 'Typing', 'Typing', 'Typing', 'Typing', 'Typing', 'Typing', 'Typing', 'Typing', 'Typing', 'Typing', 'Typing', 'WalkingWithDog', 'WalkingWithDog', 'WalkingWithDog', 'WalkingWithDog', 'WalkingWithDog', 'WalkingWithDog', 'WalkingWithDog', 'WalkingWithDog', 'WalkingWithDog', 'WalkingWithDog', 'WalkingWithDog', 'WalkingWithDog', 'WalkingWithDog', 'WalkingWithDog', 'WalkingWithDog', 'Surfing', 'WalkingWithDog', 'WalkingWithDog', 'WalkingWithDog', 'WalkingWithDog', 'WalkingWithDog', 'WalkingWithDog', 'WalkingWithDog', 'WalkingWithDog', 'WalkingWithDog', 'WalkingWithDog', 'WalkingWithDog']\n"
     ]
    },
    {
     "name": "stderr",
     "output_type": "stream",
     "text": [
      " 67%|█████████████████████████████████████████████████████▍                          | 139/208 [02:48<01:10,  1.02s/it]"
     ]
    },
    {
     "name": "stdout",
     "output_type": "stream",
     "text": [
      "['BabyCrawling', 'BabyCrawling', 'BabyCrawling', 'BabyCrawling', 'BabyCrawling', 'BabyCrawling', 'BabyCrawling', 'BabyCrawling', 'BabyCrawling', 'BabyCrawling', 'BabyCrawling', 'BabyCrawling', 'BabyCrawling', 'BabyCrawling', 'BabyCrawling', 'BabyCrawling', 'BabyCrawling', 'BabyCrawling', 'BabyCrawling', 'BabyCrawling', 'BabyCrawling', 'BabyCrawling', 'BabyCrawling', 'BabyCrawling', 'BabyCrawling', 'BabyCrawling', 'BabyCrawling', 'BabyCrawling', 'BabyCrawling', 'BabyCrawling', 'BabyCrawling', 'BabyCrawling', 'BabyCrawling', 'BabyCrawling', 'BabyCrawling', 'Surfing', 'Surfing', 'Surfing', 'Surfing', 'Surfing', 'Surfing', 'Surfing', 'Surfing', 'Surfing', 'Surfing', 'Surfing', 'Surfing', 'Surfing', 'Surfing', 'Surfing', 'Surfing', 'Surfing', 'Surfing', 'Surfing', 'Surfing', 'Surfing', 'Surfing', 'Surfing', 'Surfing', 'Surfing', 'Surfing', 'Surfing', 'Surfing', 'Surfing', 'Surfing', 'Surfing', 'Surfing', 'Surfing', 'Typing', 'Typing', 'Typing', 'Typing', 'Typing', 'Typing', 'Typing', 'Typing', 'Typing', 'Typing', 'Typing', 'Typing', 'Typing', 'Typing', 'Typing', 'Typing', 'Typing', 'Typing', 'Typing', 'Typing', 'Typing', 'Typing', 'Typing', 'Typing', 'Typing', 'Typing', 'Typing', 'Typing', 'Typing', 'Typing', 'Typing', 'Typing', 'Typing', 'Typing', 'Typing', 'Typing', 'Typing', 'Typing', 'Typing', 'Typing', 'Typing', 'Typing', 'Typing', 'WalkingWithDog', 'WalkingWithDog', 'WalkingWithDog', 'WalkingWithDog', 'WalkingWithDog', 'WalkingWithDog', 'WalkingWithDog', 'WalkingWithDog', 'WalkingWithDog', 'WalkingWithDog', 'WalkingWithDog', 'WalkingWithDog', 'WalkingWithDog', 'WalkingWithDog', 'WalkingWithDog', 'WalkingWithDog', 'WalkingWithDog', 'WalkingWithDog', 'WalkingWithDog', 'WalkingWithDog', 'WalkingWithDog', 'WalkingWithDog', 'WalkingWithDog', 'WalkingWithDog', 'WalkingWithDog', 'WalkingWithDog', 'WalkingWithDog', 'WalkingWithDog']\n",
      "['BabyCrawling', 'BabyCrawling', 'BabyCrawling', 'BabyCrawling', 'BabyCrawling', 'BabyCrawling', 'BabyCrawling', 'BabyCrawling', 'BabyCrawling', 'BabyCrawling', 'BabyCrawling', 'BabyCrawling', 'BabyCrawling', 'BabyCrawling', 'BabyCrawling', 'BabyCrawling', 'BabyCrawling', 'BabyCrawling', 'BabyCrawling', 'BabyCrawling', 'BabyCrawling', 'BabyCrawling', 'BabyCrawling', 'BabyCrawling', 'BabyCrawling', 'BabyCrawling', 'BabyCrawling', 'BabyCrawling', 'BabyCrawling', 'BabyCrawling', 'BabyCrawling', 'BabyCrawling', 'BabyCrawling', 'BabyCrawling', 'BabyCrawling', 'Surfing', 'Surfing', 'Surfing', 'Surfing', 'Surfing', 'Surfing', 'Surfing', 'Surfing', 'Surfing', 'Surfing', 'Surfing', 'Surfing', 'Surfing', 'Surfing', 'Surfing', 'Surfing', 'Surfing', 'Surfing', 'Surfing', 'Surfing', 'Surfing', 'Surfing', 'Surfing', 'Surfing', 'Surfing', 'Surfing', 'Surfing', 'Surfing', 'Surfing', 'Surfing', 'Surfing', 'Surfing', 'Surfing', 'Typing', 'Typing', 'Typing', 'Typing', 'Typing', 'Typing', 'Typing', 'Typing', 'Typing', 'Typing', 'Typing', 'Typing', 'Typing', 'Typing', 'Typing', 'Typing', 'Typing', 'Typing', 'Typing', 'Typing', 'BabyCrawling', 'Knitting', 'Knitting', 'Knitting', 'Typing', 'Typing', 'Typing', 'Typing', 'Typing', 'Typing', 'Typing', 'Typing', 'Typing', 'Typing', 'Typing', 'Typing', 'Typing', 'Typing', 'Typing', 'Typing', 'Typing', 'Typing', 'Typing', 'WalkingWithDog', 'WalkingWithDog', 'WalkingWithDog', 'WalkingWithDog', 'WalkingWithDog', 'WalkingWithDog', 'WalkingWithDog', 'WalkingWithDog', 'WalkingWithDog', 'WalkingWithDog', 'WalkingWithDog', 'WalkingWithDog', 'WalkingWithDog', 'WalkingWithDog', 'WalkingWithDog', 'Surfing', 'WalkingWithDog', 'WalkingWithDog', 'WalkingWithDog', 'WalkingWithDog', 'WalkingWithDog', 'WalkingWithDog', 'WalkingWithDog', 'WalkingWithDog', 'WalkingWithDog', 'WalkingWithDog', 'WalkingWithDog', 'WalkingWithDog']\n"
     ]
    },
    {
     "name": "stderr",
     "output_type": "stream",
     "text": [
      " 67%|█████████████████████████████████████████████████████▊                          | 140/208 [02:49<01:13,  1.09s/it]"
     ]
    },
    {
     "name": "stdout",
     "output_type": "stream",
     "text": [
      "['BabyCrawling', 'BabyCrawling', 'BabyCrawling', 'BabyCrawling', 'BabyCrawling', 'BabyCrawling', 'BabyCrawling', 'BabyCrawling', 'BabyCrawling', 'BabyCrawling', 'BabyCrawling', 'BabyCrawling', 'BabyCrawling', 'BabyCrawling', 'BabyCrawling', 'BabyCrawling', 'BabyCrawling', 'BabyCrawling', 'BabyCrawling', 'BabyCrawling', 'BabyCrawling', 'BabyCrawling', 'BabyCrawling', 'BabyCrawling', 'BabyCrawling', 'BabyCrawling', 'BabyCrawling', 'BabyCrawling', 'BabyCrawling', 'BabyCrawling', 'BabyCrawling', 'BabyCrawling', 'BabyCrawling', 'BabyCrawling', 'BabyCrawling', 'Surfing', 'Surfing', 'Surfing', 'Surfing', 'Surfing', 'Surfing', 'Surfing', 'Surfing', 'Surfing', 'Surfing', 'Surfing', 'Surfing', 'Surfing', 'Surfing', 'Surfing', 'Surfing', 'Surfing', 'Surfing', 'Surfing', 'Surfing', 'Surfing', 'Surfing', 'Surfing', 'Surfing', 'Surfing', 'Surfing', 'Surfing', 'Surfing', 'Surfing', 'Surfing', 'Surfing', 'Surfing', 'Surfing', 'Typing', 'Typing', 'Typing', 'Typing', 'Typing', 'Typing', 'Typing', 'Typing', 'Typing', 'Typing', 'Typing', 'Typing', 'Typing', 'Typing', 'Typing', 'Typing', 'Typing', 'Typing', 'Typing', 'Typing', 'Typing', 'Typing', 'Typing', 'Typing', 'Typing', 'Typing', 'Typing', 'Typing', 'Typing', 'Typing', 'Typing', 'Typing', 'Typing', 'Typing', 'Typing', 'Typing', 'Typing', 'Typing', 'Typing', 'Typing', 'Typing', 'Typing', 'Typing', 'WalkingWithDog', 'WalkingWithDog', 'WalkingWithDog', 'WalkingWithDog', 'WalkingWithDog', 'WalkingWithDog', 'WalkingWithDog', 'WalkingWithDog', 'WalkingWithDog', 'WalkingWithDog', 'WalkingWithDog', 'WalkingWithDog', 'WalkingWithDog', 'WalkingWithDog', 'WalkingWithDog', 'WalkingWithDog', 'WalkingWithDog', 'WalkingWithDog', 'WalkingWithDog', 'WalkingWithDog', 'WalkingWithDog', 'WalkingWithDog', 'WalkingWithDog', 'WalkingWithDog', 'WalkingWithDog', 'WalkingWithDog', 'WalkingWithDog', 'WalkingWithDog', 'WalkingWithDog']\n",
      "['BabyCrawling', 'BabyCrawling', 'BabyCrawling', 'BabyCrawling', 'BabyCrawling', 'BabyCrawling', 'BabyCrawling', 'BabyCrawling', 'BabyCrawling', 'BabyCrawling', 'BabyCrawling', 'BabyCrawling', 'BabyCrawling', 'BabyCrawling', 'BabyCrawling', 'BabyCrawling', 'BabyCrawling', 'BabyCrawling', 'BabyCrawling', 'BabyCrawling', 'BabyCrawling', 'BabyCrawling', 'BabyCrawling', 'BabyCrawling', 'BabyCrawling', 'BabyCrawling', 'BabyCrawling', 'BabyCrawling', 'BabyCrawling', 'BabyCrawling', 'BabyCrawling', 'BabyCrawling', 'BabyCrawling', 'BabyCrawling', 'BabyCrawling', 'Surfing', 'Surfing', 'Surfing', 'Surfing', 'Surfing', 'Surfing', 'Surfing', 'Surfing', 'Surfing', 'Surfing', 'Surfing', 'Surfing', 'Surfing', 'Surfing', 'Surfing', 'Surfing', 'Surfing', 'Surfing', 'Surfing', 'Surfing', 'Surfing', 'Surfing', 'Surfing', 'Surfing', 'Surfing', 'Surfing', 'Surfing', 'Surfing', 'Surfing', 'Surfing', 'Surfing', 'Surfing', 'Surfing', 'Typing', 'Typing', 'Typing', 'Typing', 'Typing', 'Typing', 'Typing', 'Typing', 'Typing', 'Typing', 'Typing', 'Typing', 'Typing', 'Typing', 'Typing', 'Typing', 'Typing', 'Typing', 'Typing', 'Typing', 'BabyCrawling', 'Knitting', 'Knitting', 'Knitting', 'Typing', 'Typing', 'Typing', 'Typing', 'Typing', 'Typing', 'Typing', 'Typing', 'Typing', 'Typing', 'Typing', 'Typing', 'Typing', 'Typing', 'Typing', 'Typing', 'Typing', 'Typing', 'Typing', 'WalkingWithDog', 'WalkingWithDog', 'WalkingWithDog', 'WalkingWithDog', 'WalkingWithDog', 'WalkingWithDog', 'WalkingWithDog', 'WalkingWithDog', 'WalkingWithDog', 'WalkingWithDog', 'WalkingWithDog', 'WalkingWithDog', 'WalkingWithDog', 'WalkingWithDog', 'WalkingWithDog', 'Surfing', 'WalkingWithDog', 'WalkingWithDog', 'WalkingWithDog', 'WalkingWithDog', 'WalkingWithDog', 'WalkingWithDog', 'WalkingWithDog', 'WalkingWithDog', 'WalkingWithDog', 'WalkingWithDog', 'WalkingWithDog', 'WalkingWithDog', 'WalkingWithDog']\n"
     ]
    },
    {
     "name": "stderr",
     "output_type": "stream",
     "text": [
      " 68%|██████████████████████████████████████████████████████▏                         | 141/208 [02:50<01:15,  1.12s/it]"
     ]
    },
    {
     "name": "stdout",
     "output_type": "stream",
     "text": [
      "['BabyCrawling', 'BabyCrawling', 'BabyCrawling', 'BabyCrawling', 'BabyCrawling', 'BabyCrawling', 'BabyCrawling', 'BabyCrawling', 'BabyCrawling', 'BabyCrawling', 'BabyCrawling', 'BabyCrawling', 'BabyCrawling', 'BabyCrawling', 'BabyCrawling', 'BabyCrawling', 'BabyCrawling', 'BabyCrawling', 'BabyCrawling', 'BabyCrawling', 'BabyCrawling', 'BabyCrawling', 'BabyCrawling', 'BabyCrawling', 'BabyCrawling', 'BabyCrawling', 'BabyCrawling', 'BabyCrawling', 'BabyCrawling', 'BabyCrawling', 'BabyCrawling', 'BabyCrawling', 'BabyCrawling', 'BabyCrawling', 'BabyCrawling', 'Surfing', 'Surfing', 'Surfing', 'Surfing', 'Surfing', 'Surfing', 'Surfing', 'Surfing', 'Surfing', 'Surfing', 'Surfing', 'Surfing', 'Surfing', 'Surfing', 'Surfing', 'Surfing', 'Surfing', 'Surfing', 'Surfing', 'Surfing', 'Surfing', 'Surfing', 'Surfing', 'Surfing', 'Surfing', 'Surfing', 'Surfing', 'Surfing', 'Surfing', 'Surfing', 'Surfing', 'Surfing', 'Surfing', 'Typing', 'Typing', 'Typing', 'Typing', 'Typing', 'Typing', 'Typing', 'Typing', 'Typing', 'Typing', 'Typing', 'Typing', 'Typing', 'Typing', 'Typing', 'Typing', 'Typing', 'Typing', 'Typing', 'Typing', 'Typing', 'Typing', 'Typing', 'Typing', 'Typing', 'Typing', 'Typing', 'Typing', 'Typing', 'Typing', 'Typing', 'Typing', 'Typing', 'Typing', 'Typing', 'Typing', 'Typing', 'Typing', 'Typing', 'Typing', 'Typing', 'Typing', 'Typing', 'WalkingWithDog', 'WalkingWithDog', 'WalkingWithDog', 'WalkingWithDog', 'WalkingWithDog', 'WalkingWithDog', 'WalkingWithDog', 'WalkingWithDog', 'WalkingWithDog', 'WalkingWithDog', 'WalkingWithDog', 'WalkingWithDog', 'WalkingWithDog', 'WalkingWithDog', 'WalkingWithDog', 'WalkingWithDog', 'WalkingWithDog', 'WalkingWithDog', 'WalkingWithDog', 'WalkingWithDog', 'WalkingWithDog', 'WalkingWithDog', 'WalkingWithDog', 'WalkingWithDog', 'WalkingWithDog', 'WalkingWithDog', 'WalkingWithDog', 'WalkingWithDog', 'WalkingWithDog', 'WalkingWithDog']\n",
      "['BabyCrawling', 'BabyCrawling', 'BabyCrawling', 'BabyCrawling', 'BabyCrawling', 'BabyCrawling', 'BabyCrawling', 'BabyCrawling', 'BabyCrawling', 'BabyCrawling', 'BabyCrawling', 'BabyCrawling', 'BabyCrawling', 'BabyCrawling', 'BabyCrawling', 'BabyCrawling', 'BabyCrawling', 'BabyCrawling', 'BabyCrawling', 'BabyCrawling', 'BabyCrawling', 'BabyCrawling', 'BabyCrawling', 'BabyCrawling', 'BabyCrawling', 'BabyCrawling', 'BabyCrawling', 'BabyCrawling', 'BabyCrawling', 'BabyCrawling', 'BabyCrawling', 'BabyCrawling', 'BabyCrawling', 'BabyCrawling', 'BabyCrawling', 'Surfing', 'Surfing', 'Surfing', 'Surfing', 'Surfing', 'Surfing', 'Surfing', 'Surfing', 'Surfing', 'Surfing', 'Surfing', 'Surfing', 'Surfing', 'Surfing', 'Surfing', 'Surfing', 'Surfing', 'Surfing', 'Surfing', 'Surfing', 'Surfing', 'Surfing', 'Surfing', 'Surfing', 'Surfing', 'Surfing', 'Surfing', 'Surfing', 'Surfing', 'Surfing', 'Surfing', 'Surfing', 'Surfing', 'Typing', 'Typing', 'Typing', 'Typing', 'Typing', 'Typing', 'Typing', 'Typing', 'Typing', 'Typing', 'Typing', 'Typing', 'Typing', 'Typing', 'Typing', 'Typing', 'Typing', 'Typing', 'Typing', 'Typing', 'BabyCrawling', 'Knitting', 'Knitting', 'Knitting', 'Typing', 'Typing', 'Typing', 'Typing', 'Typing', 'Typing', 'Typing', 'Typing', 'Typing', 'Typing', 'Typing', 'Typing', 'Typing', 'Typing', 'Typing', 'Typing', 'Typing', 'Typing', 'Typing', 'WalkingWithDog', 'WalkingWithDog', 'WalkingWithDog', 'WalkingWithDog', 'WalkingWithDog', 'WalkingWithDog', 'WalkingWithDog', 'WalkingWithDog', 'WalkingWithDog', 'WalkingWithDog', 'WalkingWithDog', 'WalkingWithDog', 'WalkingWithDog', 'WalkingWithDog', 'WalkingWithDog', 'Surfing', 'WalkingWithDog', 'WalkingWithDog', 'WalkingWithDog', 'WalkingWithDog', 'WalkingWithDog', 'WalkingWithDog', 'WalkingWithDog', 'WalkingWithDog', 'WalkingWithDog', 'WalkingWithDog', 'WalkingWithDog', 'WalkingWithDog', 'WalkingWithDog', 'WalkingWithDog']\n"
     ]
    },
    {
     "name": "stderr",
     "output_type": "stream",
     "text": [
      " 68%|██████████████████████████████████████████████████████▌                         | 142/208 [02:51<01:05,  1.01it/s]"
     ]
    },
    {
     "name": "stdout",
     "output_type": "stream",
     "text": [
      "['BabyCrawling', 'BabyCrawling', 'BabyCrawling', 'BabyCrawling', 'BabyCrawling', 'BabyCrawling', 'BabyCrawling', 'BabyCrawling', 'BabyCrawling', 'BabyCrawling', 'BabyCrawling', 'BabyCrawling', 'BabyCrawling', 'BabyCrawling', 'BabyCrawling', 'BabyCrawling', 'BabyCrawling', 'BabyCrawling', 'BabyCrawling', 'BabyCrawling', 'BabyCrawling', 'BabyCrawling', 'BabyCrawling', 'BabyCrawling', 'BabyCrawling', 'BabyCrawling', 'BabyCrawling', 'BabyCrawling', 'BabyCrawling', 'BabyCrawling', 'BabyCrawling', 'BabyCrawling', 'BabyCrawling', 'BabyCrawling', 'BabyCrawling', 'Surfing', 'Surfing', 'Surfing', 'Surfing', 'Surfing', 'Surfing', 'Surfing', 'Surfing', 'Surfing', 'Surfing', 'Surfing', 'Surfing', 'Surfing', 'Surfing', 'Surfing', 'Surfing', 'Surfing', 'Surfing', 'Surfing', 'Surfing', 'Surfing', 'Surfing', 'Surfing', 'Surfing', 'Surfing', 'Surfing', 'Surfing', 'Surfing', 'Surfing', 'Surfing', 'Surfing', 'Surfing', 'Surfing', 'Typing', 'Typing', 'Typing', 'Typing', 'Typing', 'Typing', 'Typing', 'Typing', 'Typing', 'Typing', 'Typing', 'Typing', 'Typing', 'Typing', 'Typing', 'Typing', 'Typing', 'Typing', 'Typing', 'Typing', 'Typing', 'Typing', 'Typing', 'Typing', 'Typing', 'Typing', 'Typing', 'Typing', 'Typing', 'Typing', 'Typing', 'Typing', 'Typing', 'Typing', 'Typing', 'Typing', 'Typing', 'Typing', 'Typing', 'Typing', 'Typing', 'Typing', 'Typing', 'WalkingWithDog', 'WalkingWithDog', 'WalkingWithDog', 'WalkingWithDog', 'WalkingWithDog', 'WalkingWithDog', 'WalkingWithDog', 'WalkingWithDog', 'WalkingWithDog', 'WalkingWithDog', 'WalkingWithDog', 'WalkingWithDog', 'WalkingWithDog', 'WalkingWithDog', 'WalkingWithDog', 'WalkingWithDog', 'WalkingWithDog', 'WalkingWithDog', 'WalkingWithDog', 'WalkingWithDog', 'WalkingWithDog', 'WalkingWithDog', 'WalkingWithDog', 'WalkingWithDog', 'WalkingWithDog', 'WalkingWithDog', 'WalkingWithDog', 'WalkingWithDog', 'WalkingWithDog', 'WalkingWithDog', 'WalkingWithDog']\n",
      "['BabyCrawling', 'BabyCrawling', 'BabyCrawling', 'BabyCrawling', 'BabyCrawling', 'BabyCrawling', 'BabyCrawling', 'BabyCrawling', 'BabyCrawling', 'BabyCrawling', 'BabyCrawling', 'BabyCrawling', 'BabyCrawling', 'BabyCrawling', 'BabyCrawling', 'BabyCrawling', 'BabyCrawling', 'BabyCrawling', 'BabyCrawling', 'BabyCrawling', 'BabyCrawling', 'BabyCrawling', 'BabyCrawling', 'BabyCrawling', 'BabyCrawling', 'BabyCrawling', 'BabyCrawling', 'BabyCrawling', 'BabyCrawling', 'BabyCrawling', 'BabyCrawling', 'BabyCrawling', 'BabyCrawling', 'BabyCrawling', 'BabyCrawling', 'Surfing', 'Surfing', 'Surfing', 'Surfing', 'Surfing', 'Surfing', 'Surfing', 'Surfing', 'Surfing', 'Surfing', 'Surfing', 'Surfing', 'Surfing', 'Surfing', 'Surfing', 'Surfing', 'Surfing', 'Surfing', 'Surfing', 'Surfing', 'Surfing', 'Surfing', 'Surfing', 'Surfing', 'Surfing', 'Surfing', 'Surfing', 'Surfing', 'Surfing', 'Surfing', 'Surfing', 'Surfing', 'Surfing', 'Typing', 'Typing', 'Typing', 'Typing', 'Typing', 'Typing', 'Typing', 'Typing', 'Typing', 'Typing', 'Typing', 'Typing', 'Typing', 'Typing', 'Typing', 'Typing', 'Typing', 'Typing', 'Typing', 'Typing', 'BabyCrawling', 'Knitting', 'Knitting', 'Knitting', 'Typing', 'Typing', 'Typing', 'Typing', 'Typing', 'Typing', 'Typing', 'Typing', 'Typing', 'Typing', 'Typing', 'Typing', 'Typing', 'Typing', 'Typing', 'Typing', 'Typing', 'Typing', 'Typing', 'WalkingWithDog', 'WalkingWithDog', 'WalkingWithDog', 'WalkingWithDog', 'WalkingWithDog', 'WalkingWithDog', 'WalkingWithDog', 'WalkingWithDog', 'WalkingWithDog', 'WalkingWithDog', 'WalkingWithDog', 'WalkingWithDog', 'WalkingWithDog', 'WalkingWithDog', 'WalkingWithDog', 'Surfing', 'WalkingWithDog', 'WalkingWithDog', 'WalkingWithDog', 'WalkingWithDog', 'WalkingWithDog', 'WalkingWithDog', 'WalkingWithDog', 'WalkingWithDog', 'WalkingWithDog', 'WalkingWithDog', 'WalkingWithDog', 'WalkingWithDog', 'WalkingWithDog', 'WalkingWithDog', 'WalkingWithDog']\n"
     ]
    },
    {
     "name": "stderr",
     "output_type": "stream",
     "text": [
      " 69%|███████████████████████████████████████████████████████                         | 143/208 [02:52<01:03,  1.02it/s]"
     ]
    },
    {
     "name": "stdout",
     "output_type": "stream",
     "text": [
      "['BabyCrawling', 'BabyCrawling', 'BabyCrawling', 'BabyCrawling', 'BabyCrawling', 'BabyCrawling', 'BabyCrawling', 'BabyCrawling', 'BabyCrawling', 'BabyCrawling', 'BabyCrawling', 'BabyCrawling', 'BabyCrawling', 'BabyCrawling', 'BabyCrawling', 'BabyCrawling', 'BabyCrawling', 'BabyCrawling', 'BabyCrawling', 'BabyCrawling', 'BabyCrawling', 'BabyCrawling', 'BabyCrawling', 'BabyCrawling', 'BabyCrawling', 'BabyCrawling', 'BabyCrawling', 'BabyCrawling', 'BabyCrawling', 'BabyCrawling', 'BabyCrawling', 'BabyCrawling', 'BabyCrawling', 'BabyCrawling', 'BabyCrawling', 'Surfing', 'Surfing', 'Surfing', 'Surfing', 'Surfing', 'Surfing', 'Surfing', 'Surfing', 'Surfing', 'Surfing', 'Surfing', 'Surfing', 'Surfing', 'Surfing', 'Surfing', 'Surfing', 'Surfing', 'Surfing', 'Surfing', 'Surfing', 'Surfing', 'Surfing', 'Surfing', 'Surfing', 'Surfing', 'Surfing', 'Surfing', 'Surfing', 'Surfing', 'Surfing', 'Surfing', 'Surfing', 'Surfing', 'Typing', 'Typing', 'Typing', 'Typing', 'Typing', 'Typing', 'Typing', 'Typing', 'Typing', 'Typing', 'Typing', 'Typing', 'Typing', 'Typing', 'Typing', 'Typing', 'Typing', 'Typing', 'Typing', 'Typing', 'Typing', 'Typing', 'Typing', 'Typing', 'Typing', 'Typing', 'Typing', 'Typing', 'Typing', 'Typing', 'Typing', 'Typing', 'Typing', 'Typing', 'Typing', 'Typing', 'Typing', 'Typing', 'Typing', 'Typing', 'Typing', 'Typing', 'Typing', 'WalkingWithDog', 'WalkingWithDog', 'WalkingWithDog', 'WalkingWithDog', 'WalkingWithDog', 'WalkingWithDog', 'WalkingWithDog', 'WalkingWithDog', 'WalkingWithDog', 'WalkingWithDog', 'WalkingWithDog', 'WalkingWithDog', 'WalkingWithDog', 'WalkingWithDog', 'WalkingWithDog', 'WalkingWithDog', 'WalkingWithDog', 'WalkingWithDog', 'WalkingWithDog', 'WalkingWithDog', 'WalkingWithDog', 'WalkingWithDog', 'WalkingWithDog', 'WalkingWithDog', 'WalkingWithDog', 'WalkingWithDog', 'WalkingWithDog', 'WalkingWithDog', 'WalkingWithDog', 'WalkingWithDog', 'WalkingWithDog', 'WalkingWithDog']\n",
      "['BabyCrawling', 'BabyCrawling', 'BabyCrawling', 'BabyCrawling', 'BabyCrawling', 'BabyCrawling', 'BabyCrawling', 'BabyCrawling', 'BabyCrawling', 'BabyCrawling', 'BabyCrawling', 'BabyCrawling', 'BabyCrawling', 'BabyCrawling', 'BabyCrawling', 'BabyCrawling', 'BabyCrawling', 'BabyCrawling', 'BabyCrawling', 'BabyCrawling', 'BabyCrawling', 'BabyCrawling', 'BabyCrawling', 'BabyCrawling', 'BabyCrawling', 'BabyCrawling', 'BabyCrawling', 'BabyCrawling', 'BabyCrawling', 'BabyCrawling', 'BabyCrawling', 'BabyCrawling', 'BabyCrawling', 'BabyCrawling', 'BabyCrawling', 'Surfing', 'Surfing', 'Surfing', 'Surfing', 'Surfing', 'Surfing', 'Surfing', 'Surfing', 'Surfing', 'Surfing', 'Surfing', 'Surfing', 'Surfing', 'Surfing', 'Surfing', 'Surfing', 'Surfing', 'Surfing', 'Surfing', 'Surfing', 'Surfing', 'Surfing', 'Surfing', 'Surfing', 'Surfing', 'Surfing', 'Surfing', 'Surfing', 'Surfing', 'Surfing', 'Surfing', 'Surfing', 'Surfing', 'Typing', 'Typing', 'Typing', 'Typing', 'Typing', 'Typing', 'Typing', 'Typing', 'Typing', 'Typing', 'Typing', 'Typing', 'Typing', 'Typing', 'Typing', 'Typing', 'Typing', 'Typing', 'Typing', 'Typing', 'BabyCrawling', 'Knitting', 'Knitting', 'Knitting', 'Typing', 'Typing', 'Typing', 'Typing', 'Typing', 'Typing', 'Typing', 'Typing', 'Typing', 'Typing', 'Typing', 'Typing', 'Typing', 'Typing', 'Typing', 'Typing', 'Typing', 'Typing', 'Typing', 'WalkingWithDog', 'WalkingWithDog', 'WalkingWithDog', 'WalkingWithDog', 'WalkingWithDog', 'WalkingWithDog', 'WalkingWithDog', 'WalkingWithDog', 'WalkingWithDog', 'WalkingWithDog', 'WalkingWithDog', 'WalkingWithDog', 'WalkingWithDog', 'WalkingWithDog', 'WalkingWithDog', 'Surfing', 'WalkingWithDog', 'WalkingWithDog', 'WalkingWithDog', 'WalkingWithDog', 'WalkingWithDog', 'WalkingWithDog', 'WalkingWithDog', 'WalkingWithDog', 'WalkingWithDog', 'WalkingWithDog', 'WalkingWithDog', 'WalkingWithDog', 'WalkingWithDog', 'WalkingWithDog', 'WalkingWithDog', 'WalkingWithDog']\n"
     ]
    },
    {
     "name": "stderr",
     "output_type": "stream",
     "text": [
      " 69%|███████████████████████████████████████████████████████▍                        | 144/208 [02:53<01:08,  1.07s/it]"
     ]
    },
    {
     "name": "stdout",
     "output_type": "stream",
     "text": [
      "['BabyCrawling', 'BabyCrawling', 'BabyCrawling', 'BabyCrawling', 'BabyCrawling', 'BabyCrawling', 'BabyCrawling', 'BabyCrawling', 'BabyCrawling', 'BabyCrawling', 'BabyCrawling', 'BabyCrawling', 'BabyCrawling', 'BabyCrawling', 'BabyCrawling', 'BabyCrawling', 'BabyCrawling', 'BabyCrawling', 'BabyCrawling', 'BabyCrawling', 'BabyCrawling', 'BabyCrawling', 'BabyCrawling', 'BabyCrawling', 'BabyCrawling', 'BabyCrawling', 'BabyCrawling', 'BabyCrawling', 'BabyCrawling', 'BabyCrawling', 'BabyCrawling', 'BabyCrawling', 'BabyCrawling', 'BabyCrawling', 'BabyCrawling', 'Surfing', 'Surfing', 'Surfing', 'Surfing', 'Surfing', 'Surfing', 'Surfing', 'Surfing', 'Surfing', 'Surfing', 'Surfing', 'Surfing', 'Surfing', 'Surfing', 'Surfing', 'Surfing', 'Surfing', 'Surfing', 'Surfing', 'Surfing', 'Surfing', 'Surfing', 'Surfing', 'Surfing', 'Surfing', 'Surfing', 'Surfing', 'Surfing', 'Surfing', 'Surfing', 'Surfing', 'Surfing', 'Surfing', 'Typing', 'Typing', 'Typing', 'Typing', 'Typing', 'Typing', 'Typing', 'Typing', 'Typing', 'Typing', 'Typing', 'Typing', 'Typing', 'Typing', 'Typing', 'Typing', 'Typing', 'Typing', 'Typing', 'Typing', 'Typing', 'Typing', 'Typing', 'Typing', 'Typing', 'Typing', 'Typing', 'Typing', 'Typing', 'Typing', 'Typing', 'Typing', 'Typing', 'Typing', 'Typing', 'Typing', 'Typing', 'Typing', 'Typing', 'Typing', 'Typing', 'Typing', 'Typing', 'WalkingWithDog', 'WalkingWithDog', 'WalkingWithDog', 'WalkingWithDog', 'WalkingWithDog', 'WalkingWithDog', 'WalkingWithDog', 'WalkingWithDog', 'WalkingWithDog', 'WalkingWithDog', 'WalkingWithDog', 'WalkingWithDog', 'WalkingWithDog', 'WalkingWithDog', 'WalkingWithDog', 'WalkingWithDog', 'WalkingWithDog', 'WalkingWithDog', 'WalkingWithDog', 'WalkingWithDog', 'WalkingWithDog', 'WalkingWithDog', 'WalkingWithDog', 'WalkingWithDog', 'WalkingWithDog', 'WalkingWithDog', 'WalkingWithDog', 'WalkingWithDog', 'WalkingWithDog', 'WalkingWithDog', 'WalkingWithDog', 'WalkingWithDog', 'WalkingWithDog']\n",
      "['BabyCrawling', 'BabyCrawling', 'BabyCrawling', 'BabyCrawling', 'BabyCrawling', 'BabyCrawling', 'BabyCrawling', 'BabyCrawling', 'BabyCrawling', 'BabyCrawling', 'BabyCrawling', 'BabyCrawling', 'BabyCrawling', 'BabyCrawling', 'BabyCrawling', 'BabyCrawling', 'BabyCrawling', 'BabyCrawling', 'BabyCrawling', 'BabyCrawling', 'BabyCrawling', 'BabyCrawling', 'BabyCrawling', 'BabyCrawling', 'BabyCrawling', 'BabyCrawling', 'BabyCrawling', 'BabyCrawling', 'BabyCrawling', 'BabyCrawling', 'BabyCrawling', 'BabyCrawling', 'BabyCrawling', 'BabyCrawling', 'BabyCrawling', 'Surfing', 'Surfing', 'Surfing', 'Surfing', 'Surfing', 'Surfing', 'Surfing', 'Surfing', 'Surfing', 'Surfing', 'Surfing', 'Surfing', 'Surfing', 'Surfing', 'Surfing', 'Surfing', 'Surfing', 'Surfing', 'Surfing', 'Surfing', 'Surfing', 'Surfing', 'Surfing', 'Surfing', 'Surfing', 'Surfing', 'Surfing', 'Surfing', 'Surfing', 'Surfing', 'Surfing', 'Surfing', 'Surfing', 'Typing', 'Typing', 'Typing', 'Typing', 'Typing', 'Typing', 'Typing', 'Typing', 'Typing', 'Typing', 'Typing', 'Typing', 'Typing', 'Typing', 'Typing', 'Typing', 'Typing', 'Typing', 'Typing', 'Typing', 'BabyCrawling', 'Knitting', 'Knitting', 'Knitting', 'Typing', 'Typing', 'Typing', 'Typing', 'Typing', 'Typing', 'Typing', 'Typing', 'Typing', 'Typing', 'Typing', 'Typing', 'Typing', 'Typing', 'Typing', 'Typing', 'Typing', 'Typing', 'Typing', 'WalkingWithDog', 'WalkingWithDog', 'WalkingWithDog', 'WalkingWithDog', 'WalkingWithDog', 'WalkingWithDog', 'WalkingWithDog', 'WalkingWithDog', 'WalkingWithDog', 'WalkingWithDog', 'WalkingWithDog', 'WalkingWithDog', 'WalkingWithDog', 'WalkingWithDog', 'WalkingWithDog', 'Surfing', 'WalkingWithDog', 'WalkingWithDog', 'WalkingWithDog', 'WalkingWithDog', 'WalkingWithDog', 'WalkingWithDog', 'WalkingWithDog', 'WalkingWithDog', 'WalkingWithDog', 'WalkingWithDog', 'WalkingWithDog', 'WalkingWithDog', 'WalkingWithDog', 'WalkingWithDog', 'WalkingWithDog', 'WalkingWithDog', 'WalkingWithDog']\n"
     ]
    },
    {
     "name": "stderr",
     "output_type": "stream",
     "text": [
      " 70%|███████████████████████████████████████████████████████▊                        | 145/208 [02:54<01:11,  1.13s/it]"
     ]
    },
    {
     "name": "stdout",
     "output_type": "stream",
     "text": [
      "['BabyCrawling', 'BabyCrawling', 'BabyCrawling', 'BabyCrawling', 'BabyCrawling', 'BabyCrawling', 'BabyCrawling', 'BabyCrawling', 'BabyCrawling', 'BabyCrawling', 'BabyCrawling', 'BabyCrawling', 'BabyCrawling', 'BabyCrawling', 'BabyCrawling', 'BabyCrawling', 'BabyCrawling', 'BabyCrawling', 'BabyCrawling', 'BabyCrawling', 'BabyCrawling', 'BabyCrawling', 'BabyCrawling', 'BabyCrawling', 'BabyCrawling', 'BabyCrawling', 'BabyCrawling', 'BabyCrawling', 'BabyCrawling', 'BabyCrawling', 'BabyCrawling', 'BabyCrawling', 'BabyCrawling', 'BabyCrawling', 'BabyCrawling', 'Surfing', 'Surfing', 'Surfing', 'Surfing', 'Surfing', 'Surfing', 'Surfing', 'Surfing', 'Surfing', 'Surfing', 'Surfing', 'Surfing', 'Surfing', 'Surfing', 'Surfing', 'Surfing', 'Surfing', 'Surfing', 'Surfing', 'Surfing', 'Surfing', 'Surfing', 'Surfing', 'Surfing', 'Surfing', 'Surfing', 'Surfing', 'Surfing', 'Surfing', 'Surfing', 'Surfing', 'Surfing', 'Surfing', 'Typing', 'Typing', 'Typing', 'Typing', 'Typing', 'Typing', 'Typing', 'Typing', 'Typing', 'Typing', 'Typing', 'Typing', 'Typing', 'Typing', 'Typing', 'Typing', 'Typing', 'Typing', 'Typing', 'Typing', 'Typing', 'Typing', 'Typing', 'Typing', 'Typing', 'Typing', 'Typing', 'Typing', 'Typing', 'Typing', 'Typing', 'Typing', 'Typing', 'Typing', 'Typing', 'Typing', 'Typing', 'Typing', 'Typing', 'Typing', 'Typing', 'Typing', 'Typing', 'WalkingWithDog', 'WalkingWithDog', 'WalkingWithDog', 'WalkingWithDog', 'WalkingWithDog', 'WalkingWithDog', 'WalkingWithDog', 'WalkingWithDog', 'WalkingWithDog', 'WalkingWithDog', 'WalkingWithDog', 'WalkingWithDog', 'WalkingWithDog', 'WalkingWithDog', 'WalkingWithDog', 'WalkingWithDog', 'WalkingWithDog', 'WalkingWithDog', 'WalkingWithDog', 'WalkingWithDog', 'WalkingWithDog', 'WalkingWithDog', 'WalkingWithDog', 'WalkingWithDog', 'WalkingWithDog', 'WalkingWithDog', 'WalkingWithDog', 'WalkingWithDog', 'WalkingWithDog', 'WalkingWithDog', 'WalkingWithDog', 'WalkingWithDog', 'WalkingWithDog', 'WalkingWithDog']\n",
      "['BabyCrawling', 'BabyCrawling', 'BabyCrawling', 'BabyCrawling', 'BabyCrawling', 'BabyCrawling', 'BabyCrawling', 'BabyCrawling', 'BabyCrawling', 'BabyCrawling', 'BabyCrawling', 'BabyCrawling', 'BabyCrawling', 'BabyCrawling', 'BabyCrawling', 'BabyCrawling', 'BabyCrawling', 'BabyCrawling', 'BabyCrawling', 'BabyCrawling', 'BabyCrawling', 'BabyCrawling', 'BabyCrawling', 'BabyCrawling', 'BabyCrawling', 'BabyCrawling', 'BabyCrawling', 'BabyCrawling', 'BabyCrawling', 'BabyCrawling', 'BabyCrawling', 'BabyCrawling', 'BabyCrawling', 'BabyCrawling', 'BabyCrawling', 'Surfing', 'Surfing', 'Surfing', 'Surfing', 'Surfing', 'Surfing', 'Surfing', 'Surfing', 'Surfing', 'Surfing', 'Surfing', 'Surfing', 'Surfing', 'Surfing', 'Surfing', 'Surfing', 'Surfing', 'Surfing', 'Surfing', 'Surfing', 'Surfing', 'Surfing', 'Surfing', 'Surfing', 'Surfing', 'Surfing', 'Surfing', 'Surfing', 'Surfing', 'Surfing', 'Surfing', 'Surfing', 'Surfing', 'Typing', 'Typing', 'Typing', 'Typing', 'Typing', 'Typing', 'Typing', 'Typing', 'Typing', 'Typing', 'Typing', 'Typing', 'Typing', 'Typing', 'Typing', 'Typing', 'Typing', 'Typing', 'Typing', 'Typing', 'BabyCrawling', 'Knitting', 'Knitting', 'Knitting', 'Typing', 'Typing', 'Typing', 'Typing', 'Typing', 'Typing', 'Typing', 'Typing', 'Typing', 'Typing', 'Typing', 'Typing', 'Typing', 'Typing', 'Typing', 'Typing', 'Typing', 'Typing', 'Typing', 'WalkingWithDog', 'WalkingWithDog', 'WalkingWithDog', 'WalkingWithDog', 'WalkingWithDog', 'WalkingWithDog', 'WalkingWithDog', 'WalkingWithDog', 'WalkingWithDog', 'WalkingWithDog', 'WalkingWithDog', 'WalkingWithDog', 'WalkingWithDog', 'WalkingWithDog', 'WalkingWithDog', 'Surfing', 'WalkingWithDog', 'WalkingWithDog', 'WalkingWithDog', 'WalkingWithDog', 'WalkingWithDog', 'WalkingWithDog', 'WalkingWithDog', 'WalkingWithDog', 'WalkingWithDog', 'WalkingWithDog', 'WalkingWithDog', 'WalkingWithDog', 'WalkingWithDog', 'WalkingWithDog', 'WalkingWithDog', 'WalkingWithDog', 'WalkingWithDog', 'WalkingWithDog']\n"
     ]
    },
    {
     "name": "stderr",
     "output_type": "stream",
     "text": [
      " 70%|████████████████████████████████████████████████████████▏                       | 146/208 [02:56<01:13,  1.18s/it]"
     ]
    },
    {
     "name": "stdout",
     "output_type": "stream",
     "text": [
      "['BabyCrawling', 'BabyCrawling', 'BabyCrawling', 'BabyCrawling', 'BabyCrawling', 'BabyCrawling', 'BabyCrawling', 'BabyCrawling', 'BabyCrawling', 'BabyCrawling', 'BabyCrawling', 'BabyCrawling', 'BabyCrawling', 'BabyCrawling', 'BabyCrawling', 'BabyCrawling', 'BabyCrawling', 'BabyCrawling', 'BabyCrawling', 'BabyCrawling', 'BabyCrawling', 'BabyCrawling', 'BabyCrawling', 'BabyCrawling', 'BabyCrawling', 'BabyCrawling', 'BabyCrawling', 'BabyCrawling', 'BabyCrawling', 'BabyCrawling', 'BabyCrawling', 'BabyCrawling', 'BabyCrawling', 'BabyCrawling', 'BabyCrawling', 'Surfing', 'Surfing', 'Surfing', 'Surfing', 'Surfing', 'Surfing', 'Surfing', 'Surfing', 'Surfing', 'Surfing', 'Surfing', 'Surfing', 'Surfing', 'Surfing', 'Surfing', 'Surfing', 'Surfing', 'Surfing', 'Surfing', 'Surfing', 'Surfing', 'Surfing', 'Surfing', 'Surfing', 'Surfing', 'Surfing', 'Surfing', 'Surfing', 'Surfing', 'Surfing', 'Surfing', 'Surfing', 'Surfing', 'Typing', 'Typing', 'Typing', 'Typing', 'Typing', 'Typing', 'Typing', 'Typing', 'Typing', 'Typing', 'Typing', 'Typing', 'Typing', 'Typing', 'Typing', 'Typing', 'Typing', 'Typing', 'Typing', 'Typing', 'Typing', 'Typing', 'Typing', 'Typing', 'Typing', 'Typing', 'Typing', 'Typing', 'Typing', 'Typing', 'Typing', 'Typing', 'Typing', 'Typing', 'Typing', 'Typing', 'Typing', 'Typing', 'Typing', 'Typing', 'Typing', 'Typing', 'Typing', 'WalkingWithDog', 'WalkingWithDog', 'WalkingWithDog', 'WalkingWithDog', 'WalkingWithDog', 'WalkingWithDog', 'WalkingWithDog', 'WalkingWithDog', 'WalkingWithDog', 'WalkingWithDog', 'WalkingWithDog', 'WalkingWithDog', 'WalkingWithDog', 'WalkingWithDog', 'WalkingWithDog', 'WalkingWithDog', 'WalkingWithDog', 'WalkingWithDog', 'WalkingWithDog', 'WalkingWithDog', 'WalkingWithDog', 'WalkingWithDog', 'WalkingWithDog', 'WalkingWithDog', 'WalkingWithDog', 'WalkingWithDog', 'WalkingWithDog', 'WalkingWithDog', 'WalkingWithDog', 'WalkingWithDog', 'WalkingWithDog', 'WalkingWithDog', 'WalkingWithDog', 'WalkingWithDog', 'WalkingWithDog']\n",
      "['BabyCrawling', 'BabyCrawling', 'BabyCrawling', 'BabyCrawling', 'BabyCrawling', 'BabyCrawling', 'BabyCrawling', 'BabyCrawling', 'BabyCrawling', 'BabyCrawling', 'BabyCrawling', 'BabyCrawling', 'BabyCrawling', 'BabyCrawling', 'BabyCrawling', 'BabyCrawling', 'BabyCrawling', 'BabyCrawling', 'BabyCrawling', 'BabyCrawling', 'BabyCrawling', 'BabyCrawling', 'BabyCrawling', 'BabyCrawling', 'BabyCrawling', 'BabyCrawling', 'BabyCrawling', 'BabyCrawling', 'BabyCrawling', 'BabyCrawling', 'BabyCrawling', 'BabyCrawling', 'BabyCrawling', 'BabyCrawling', 'BabyCrawling', 'Surfing', 'Surfing', 'Surfing', 'Surfing', 'Surfing', 'Surfing', 'Surfing', 'Surfing', 'Surfing', 'Surfing', 'Surfing', 'Surfing', 'Surfing', 'Surfing', 'Surfing', 'Surfing', 'Surfing', 'Surfing', 'Surfing', 'Surfing', 'Surfing', 'Surfing', 'Surfing', 'Surfing', 'Surfing', 'Surfing', 'Surfing', 'Surfing', 'Surfing', 'Surfing', 'Surfing', 'Surfing', 'Surfing', 'Typing', 'Typing', 'Typing', 'Typing', 'Typing', 'Typing', 'Typing', 'Typing', 'Typing', 'Typing', 'Typing', 'Typing', 'Typing', 'Typing', 'Typing', 'Typing', 'Typing', 'Typing', 'Typing', 'Typing', 'BabyCrawling', 'Knitting', 'Knitting', 'Knitting', 'Typing', 'Typing', 'Typing', 'Typing', 'Typing', 'Typing', 'Typing', 'Typing', 'Typing', 'Typing', 'Typing', 'Typing', 'Typing', 'Typing', 'Typing', 'Typing', 'Typing', 'Typing', 'Typing', 'WalkingWithDog', 'WalkingWithDog', 'WalkingWithDog', 'WalkingWithDog', 'WalkingWithDog', 'WalkingWithDog', 'WalkingWithDog', 'WalkingWithDog', 'WalkingWithDog', 'WalkingWithDog', 'WalkingWithDog', 'WalkingWithDog', 'WalkingWithDog', 'WalkingWithDog', 'WalkingWithDog', 'Surfing', 'WalkingWithDog', 'WalkingWithDog', 'WalkingWithDog', 'WalkingWithDog', 'WalkingWithDog', 'WalkingWithDog', 'WalkingWithDog', 'WalkingWithDog', 'WalkingWithDog', 'WalkingWithDog', 'WalkingWithDog', 'WalkingWithDog', 'WalkingWithDog', 'WalkingWithDog', 'WalkingWithDog', 'WalkingWithDog', 'WalkingWithDog', 'WalkingWithDog', 'WalkingWithDog']\n"
     ]
    },
    {
     "name": "stderr",
     "output_type": "stream",
     "text": [
      " 71%|████████████████████████████████████████████████████████▌                       | 147/208 [02:57<01:14,  1.22s/it]"
     ]
    },
    {
     "name": "stdout",
     "output_type": "stream",
     "text": [
      "['BabyCrawling', 'BabyCrawling', 'BabyCrawling', 'BabyCrawling', 'BabyCrawling', 'BabyCrawling', 'BabyCrawling', 'BabyCrawling', 'BabyCrawling', 'BabyCrawling', 'BabyCrawling', 'BabyCrawling', 'BabyCrawling', 'BabyCrawling', 'BabyCrawling', 'BabyCrawling', 'BabyCrawling', 'BabyCrawling', 'BabyCrawling', 'BabyCrawling', 'BabyCrawling', 'BabyCrawling', 'BabyCrawling', 'BabyCrawling', 'BabyCrawling', 'BabyCrawling', 'BabyCrawling', 'BabyCrawling', 'BabyCrawling', 'BabyCrawling', 'BabyCrawling', 'BabyCrawling', 'BabyCrawling', 'BabyCrawling', 'BabyCrawling', 'Surfing', 'Surfing', 'Surfing', 'Surfing', 'Surfing', 'Surfing', 'Surfing', 'Surfing', 'Surfing', 'Surfing', 'Surfing', 'Surfing', 'Surfing', 'Surfing', 'Surfing', 'Surfing', 'Surfing', 'Surfing', 'Surfing', 'Surfing', 'Surfing', 'Surfing', 'Surfing', 'Surfing', 'Surfing', 'Surfing', 'Surfing', 'Surfing', 'Surfing', 'Surfing', 'Surfing', 'Surfing', 'Surfing', 'Typing', 'Typing', 'Typing', 'Typing', 'Typing', 'Typing', 'Typing', 'Typing', 'Typing', 'Typing', 'Typing', 'Typing', 'Typing', 'Typing', 'Typing', 'Typing', 'Typing', 'Typing', 'Typing', 'Typing', 'Typing', 'Typing', 'Typing', 'Typing', 'Typing', 'Typing', 'Typing', 'Typing', 'Typing', 'Typing', 'Typing', 'Typing', 'Typing', 'Typing', 'Typing', 'Typing', 'Typing', 'Typing', 'Typing', 'Typing', 'Typing', 'Typing', 'Typing', 'WalkingWithDog', 'WalkingWithDog', 'WalkingWithDog', 'WalkingWithDog', 'WalkingWithDog', 'WalkingWithDog', 'WalkingWithDog', 'WalkingWithDog', 'WalkingWithDog', 'WalkingWithDog', 'WalkingWithDog', 'WalkingWithDog', 'WalkingWithDog', 'WalkingWithDog', 'WalkingWithDog', 'WalkingWithDog', 'WalkingWithDog', 'WalkingWithDog', 'WalkingWithDog', 'WalkingWithDog', 'WalkingWithDog', 'WalkingWithDog', 'WalkingWithDog', 'WalkingWithDog', 'WalkingWithDog', 'WalkingWithDog', 'WalkingWithDog', 'WalkingWithDog', 'WalkingWithDog', 'WalkingWithDog', 'WalkingWithDog', 'WalkingWithDog', 'WalkingWithDog', 'WalkingWithDog', 'WalkingWithDog', 'WalkingWithDog']\n",
      "['BabyCrawling', 'BabyCrawling', 'BabyCrawling', 'BabyCrawling', 'BabyCrawling', 'BabyCrawling', 'BabyCrawling', 'BabyCrawling', 'BabyCrawling', 'BabyCrawling', 'BabyCrawling', 'BabyCrawling', 'BabyCrawling', 'BabyCrawling', 'BabyCrawling', 'BabyCrawling', 'BabyCrawling', 'BabyCrawling', 'BabyCrawling', 'BabyCrawling', 'BabyCrawling', 'BabyCrawling', 'BabyCrawling', 'BabyCrawling', 'BabyCrawling', 'BabyCrawling', 'BabyCrawling', 'BabyCrawling', 'BabyCrawling', 'BabyCrawling', 'BabyCrawling', 'BabyCrawling', 'BabyCrawling', 'BabyCrawling', 'BabyCrawling', 'Surfing', 'Surfing', 'Surfing', 'Surfing', 'Surfing', 'Surfing', 'Surfing', 'Surfing', 'Surfing', 'Surfing', 'Surfing', 'Surfing', 'Surfing', 'Surfing', 'Surfing', 'Surfing', 'Surfing', 'Surfing', 'Surfing', 'Surfing', 'Surfing', 'Surfing', 'Surfing', 'Surfing', 'Surfing', 'Surfing', 'Surfing', 'Surfing', 'Surfing', 'Surfing', 'Surfing', 'Surfing', 'Surfing', 'Typing', 'Typing', 'Typing', 'Typing', 'Typing', 'Typing', 'Typing', 'Typing', 'Typing', 'Typing', 'Typing', 'Typing', 'Typing', 'Typing', 'Typing', 'Typing', 'Typing', 'Typing', 'Typing', 'Typing', 'BabyCrawling', 'Knitting', 'Knitting', 'Knitting', 'Typing', 'Typing', 'Typing', 'Typing', 'Typing', 'Typing', 'Typing', 'Typing', 'Typing', 'Typing', 'Typing', 'Typing', 'Typing', 'Typing', 'Typing', 'Typing', 'Typing', 'Typing', 'Typing', 'WalkingWithDog', 'WalkingWithDog', 'WalkingWithDog', 'WalkingWithDog', 'WalkingWithDog', 'WalkingWithDog', 'WalkingWithDog', 'WalkingWithDog', 'WalkingWithDog', 'WalkingWithDog', 'WalkingWithDog', 'WalkingWithDog', 'WalkingWithDog', 'WalkingWithDog', 'WalkingWithDog', 'Surfing', 'WalkingWithDog', 'WalkingWithDog', 'WalkingWithDog', 'WalkingWithDog', 'WalkingWithDog', 'WalkingWithDog', 'WalkingWithDog', 'WalkingWithDog', 'WalkingWithDog', 'WalkingWithDog', 'WalkingWithDog', 'WalkingWithDog', 'WalkingWithDog', 'WalkingWithDog', 'WalkingWithDog', 'WalkingWithDog', 'WalkingWithDog', 'WalkingWithDog', 'WalkingWithDog', 'WalkingWithDog']\n"
     ]
    },
    {
     "name": "stderr",
     "output_type": "stream",
     "text": [
      " 71%|████████████████████████████████████████████████████████▉                       | 148/208 [02:59<01:21,  1.35s/it]"
     ]
    },
    {
     "name": "stdout",
     "output_type": "stream",
     "text": [
      "['BabyCrawling', 'BabyCrawling', 'BabyCrawling', 'BabyCrawling', 'BabyCrawling', 'BabyCrawling', 'BabyCrawling', 'BabyCrawling', 'BabyCrawling', 'BabyCrawling', 'BabyCrawling', 'BabyCrawling', 'BabyCrawling', 'BabyCrawling', 'BabyCrawling', 'BabyCrawling', 'BabyCrawling', 'BabyCrawling', 'BabyCrawling', 'BabyCrawling', 'BabyCrawling', 'BabyCrawling', 'BabyCrawling', 'BabyCrawling', 'BabyCrawling', 'BabyCrawling', 'BabyCrawling', 'BabyCrawling', 'BabyCrawling', 'BabyCrawling', 'BabyCrawling', 'BabyCrawling', 'BabyCrawling', 'BabyCrawling', 'BabyCrawling', 'Surfing', 'Surfing', 'Surfing', 'Surfing', 'Surfing', 'Surfing', 'Surfing', 'Surfing', 'Surfing', 'Surfing', 'Surfing', 'Surfing', 'Surfing', 'Surfing', 'Surfing', 'Surfing', 'Surfing', 'Surfing', 'Surfing', 'Surfing', 'Surfing', 'Surfing', 'Surfing', 'Surfing', 'Surfing', 'Surfing', 'Surfing', 'Surfing', 'Surfing', 'Surfing', 'Surfing', 'Surfing', 'Surfing', 'Typing', 'Typing', 'Typing', 'Typing', 'Typing', 'Typing', 'Typing', 'Typing', 'Typing', 'Typing', 'Typing', 'Typing', 'Typing', 'Typing', 'Typing', 'Typing', 'Typing', 'Typing', 'Typing', 'Typing', 'Typing', 'Typing', 'Typing', 'Typing', 'Typing', 'Typing', 'Typing', 'Typing', 'Typing', 'Typing', 'Typing', 'Typing', 'Typing', 'Typing', 'Typing', 'Typing', 'Typing', 'Typing', 'Typing', 'Typing', 'Typing', 'Typing', 'Typing', 'WalkingWithDog', 'WalkingWithDog', 'WalkingWithDog', 'WalkingWithDog', 'WalkingWithDog', 'WalkingWithDog', 'WalkingWithDog', 'WalkingWithDog', 'WalkingWithDog', 'WalkingWithDog', 'WalkingWithDog', 'WalkingWithDog', 'WalkingWithDog', 'WalkingWithDog', 'WalkingWithDog', 'WalkingWithDog', 'WalkingWithDog', 'WalkingWithDog', 'WalkingWithDog', 'WalkingWithDog', 'WalkingWithDog', 'WalkingWithDog', 'WalkingWithDog', 'WalkingWithDog', 'WalkingWithDog', 'WalkingWithDog', 'WalkingWithDog', 'WalkingWithDog', 'WalkingWithDog', 'WalkingWithDog', 'WalkingWithDog', 'WalkingWithDog', 'WalkingWithDog', 'WalkingWithDog', 'WalkingWithDog', 'WalkingWithDog', 'Knitting']\n",
      "['BabyCrawling', 'BabyCrawling', 'BabyCrawling', 'BabyCrawling', 'BabyCrawling', 'BabyCrawling', 'BabyCrawling', 'BabyCrawling', 'BabyCrawling', 'BabyCrawling', 'BabyCrawling', 'BabyCrawling', 'BabyCrawling', 'BabyCrawling', 'BabyCrawling', 'BabyCrawling', 'BabyCrawling', 'BabyCrawling', 'BabyCrawling', 'BabyCrawling', 'BabyCrawling', 'BabyCrawling', 'BabyCrawling', 'BabyCrawling', 'BabyCrawling', 'BabyCrawling', 'BabyCrawling', 'BabyCrawling', 'BabyCrawling', 'BabyCrawling', 'BabyCrawling', 'BabyCrawling', 'BabyCrawling', 'BabyCrawling', 'BabyCrawling', 'Surfing', 'Surfing', 'Surfing', 'Surfing', 'Surfing', 'Surfing', 'Surfing', 'Surfing', 'Surfing', 'Surfing', 'Surfing', 'Surfing', 'Surfing', 'Surfing', 'Surfing', 'Surfing', 'Surfing', 'Surfing', 'Surfing', 'Surfing', 'Surfing', 'Surfing', 'Surfing', 'Surfing', 'Surfing', 'Surfing', 'Surfing', 'Surfing', 'Surfing', 'Surfing', 'Surfing', 'Surfing', 'Surfing', 'Typing', 'Typing', 'Typing', 'Typing', 'Typing', 'Typing', 'Typing', 'Typing', 'Typing', 'Typing', 'Typing', 'Typing', 'Typing', 'Typing', 'Typing', 'Typing', 'Typing', 'Typing', 'Typing', 'Typing', 'BabyCrawling', 'Knitting', 'Knitting', 'Knitting', 'Typing', 'Typing', 'Typing', 'Typing', 'Typing', 'Typing', 'Typing', 'Typing', 'Typing', 'Typing', 'Typing', 'Typing', 'Typing', 'Typing', 'Typing', 'Typing', 'Typing', 'Typing', 'Typing', 'WalkingWithDog', 'WalkingWithDog', 'WalkingWithDog', 'WalkingWithDog', 'WalkingWithDog', 'WalkingWithDog', 'WalkingWithDog', 'WalkingWithDog', 'WalkingWithDog', 'WalkingWithDog', 'WalkingWithDog', 'WalkingWithDog', 'WalkingWithDog', 'WalkingWithDog', 'WalkingWithDog', 'Surfing', 'WalkingWithDog', 'WalkingWithDog', 'WalkingWithDog', 'WalkingWithDog', 'WalkingWithDog', 'WalkingWithDog', 'WalkingWithDog', 'WalkingWithDog', 'WalkingWithDog', 'WalkingWithDog', 'WalkingWithDog', 'WalkingWithDog', 'WalkingWithDog', 'WalkingWithDog', 'WalkingWithDog', 'WalkingWithDog', 'WalkingWithDog', 'WalkingWithDog', 'WalkingWithDog', 'WalkingWithDog', 'Knitting']\n"
     ]
    },
    {
     "name": "stderr",
     "output_type": "stream",
     "text": [
      " 72%|█████████████████████████████████████████████████████████▎                      | 149/208 [03:00<01:21,  1.38s/it]"
     ]
    },
    {
     "name": "stdout",
     "output_type": "stream",
     "text": [
      "['BabyCrawling', 'BabyCrawling', 'BabyCrawling', 'BabyCrawling', 'BabyCrawling', 'BabyCrawling', 'BabyCrawling', 'BabyCrawling', 'BabyCrawling', 'BabyCrawling', 'BabyCrawling', 'BabyCrawling', 'BabyCrawling', 'BabyCrawling', 'BabyCrawling', 'BabyCrawling', 'BabyCrawling', 'BabyCrawling', 'BabyCrawling', 'BabyCrawling', 'BabyCrawling', 'BabyCrawling', 'BabyCrawling', 'BabyCrawling', 'BabyCrawling', 'BabyCrawling', 'BabyCrawling', 'BabyCrawling', 'BabyCrawling', 'BabyCrawling', 'BabyCrawling', 'BabyCrawling', 'BabyCrawling', 'BabyCrawling', 'BabyCrawling', 'Surfing', 'Surfing', 'Surfing', 'Surfing', 'Surfing', 'Surfing', 'Surfing', 'Surfing', 'Surfing', 'Surfing', 'Surfing', 'Surfing', 'Surfing', 'Surfing', 'Surfing', 'Surfing', 'Surfing', 'Surfing', 'Surfing', 'Surfing', 'Surfing', 'Surfing', 'Surfing', 'Surfing', 'Surfing', 'Surfing', 'Surfing', 'Surfing', 'Surfing', 'Surfing', 'Surfing', 'Surfing', 'Surfing', 'Typing', 'Typing', 'Typing', 'Typing', 'Typing', 'Typing', 'Typing', 'Typing', 'Typing', 'Typing', 'Typing', 'Typing', 'Typing', 'Typing', 'Typing', 'Typing', 'Typing', 'Typing', 'Typing', 'Typing', 'Typing', 'Typing', 'Typing', 'Typing', 'Typing', 'Typing', 'Typing', 'Typing', 'Typing', 'Typing', 'Typing', 'Typing', 'Typing', 'Typing', 'Typing', 'Typing', 'Typing', 'Typing', 'Typing', 'Typing', 'Typing', 'Typing', 'Typing', 'WalkingWithDog', 'WalkingWithDog', 'WalkingWithDog', 'WalkingWithDog', 'WalkingWithDog', 'WalkingWithDog', 'WalkingWithDog', 'WalkingWithDog', 'WalkingWithDog', 'WalkingWithDog', 'WalkingWithDog', 'WalkingWithDog', 'WalkingWithDog', 'WalkingWithDog', 'WalkingWithDog', 'WalkingWithDog', 'WalkingWithDog', 'WalkingWithDog', 'WalkingWithDog', 'WalkingWithDog', 'WalkingWithDog', 'WalkingWithDog', 'WalkingWithDog', 'WalkingWithDog', 'WalkingWithDog', 'WalkingWithDog', 'WalkingWithDog', 'WalkingWithDog', 'WalkingWithDog', 'WalkingWithDog', 'WalkingWithDog', 'WalkingWithDog', 'WalkingWithDog', 'WalkingWithDog', 'WalkingWithDog', 'WalkingWithDog', 'Knitting', 'Knitting']\n",
      "['BabyCrawling', 'BabyCrawling', 'BabyCrawling', 'BabyCrawling', 'BabyCrawling', 'BabyCrawling', 'BabyCrawling', 'BabyCrawling', 'BabyCrawling', 'BabyCrawling', 'BabyCrawling', 'BabyCrawling', 'BabyCrawling', 'BabyCrawling', 'BabyCrawling', 'BabyCrawling', 'BabyCrawling', 'BabyCrawling', 'BabyCrawling', 'BabyCrawling', 'BabyCrawling', 'BabyCrawling', 'BabyCrawling', 'BabyCrawling', 'BabyCrawling', 'BabyCrawling', 'BabyCrawling', 'BabyCrawling', 'BabyCrawling', 'BabyCrawling', 'BabyCrawling', 'BabyCrawling', 'BabyCrawling', 'BabyCrawling', 'BabyCrawling', 'Surfing', 'Surfing', 'Surfing', 'Surfing', 'Surfing', 'Surfing', 'Surfing', 'Surfing', 'Surfing', 'Surfing', 'Surfing', 'Surfing', 'Surfing', 'Surfing', 'Surfing', 'Surfing', 'Surfing', 'Surfing', 'Surfing', 'Surfing', 'Surfing', 'Surfing', 'Surfing', 'Surfing', 'Surfing', 'Surfing', 'Surfing', 'Surfing', 'Surfing', 'Surfing', 'Surfing', 'Surfing', 'Surfing', 'Typing', 'Typing', 'Typing', 'Typing', 'Typing', 'Typing', 'Typing', 'Typing', 'Typing', 'Typing', 'Typing', 'Typing', 'Typing', 'Typing', 'Typing', 'Typing', 'Typing', 'Typing', 'Typing', 'Typing', 'BabyCrawling', 'Knitting', 'Knitting', 'Knitting', 'Typing', 'Typing', 'Typing', 'Typing', 'Typing', 'Typing', 'Typing', 'Typing', 'Typing', 'Typing', 'Typing', 'Typing', 'Typing', 'Typing', 'Typing', 'Typing', 'Typing', 'Typing', 'Typing', 'WalkingWithDog', 'WalkingWithDog', 'WalkingWithDog', 'WalkingWithDog', 'WalkingWithDog', 'WalkingWithDog', 'WalkingWithDog', 'WalkingWithDog', 'WalkingWithDog', 'WalkingWithDog', 'WalkingWithDog', 'WalkingWithDog', 'WalkingWithDog', 'WalkingWithDog', 'WalkingWithDog', 'Surfing', 'WalkingWithDog', 'WalkingWithDog', 'WalkingWithDog', 'WalkingWithDog', 'WalkingWithDog', 'WalkingWithDog', 'WalkingWithDog', 'WalkingWithDog', 'WalkingWithDog', 'WalkingWithDog', 'WalkingWithDog', 'WalkingWithDog', 'WalkingWithDog', 'WalkingWithDog', 'WalkingWithDog', 'WalkingWithDog', 'WalkingWithDog', 'WalkingWithDog', 'WalkingWithDog', 'WalkingWithDog', 'Knitting', 'Knitting']\n"
     ]
    },
    {
     "name": "stderr",
     "output_type": "stream",
     "text": [
      " 72%|█████████████████████████████████████████████████████████▋                      | 150/208 [03:02<01:24,  1.45s/it]"
     ]
    },
    {
     "name": "stdout",
     "output_type": "stream",
     "text": [
      "['BabyCrawling', 'BabyCrawling', 'BabyCrawling', 'BabyCrawling', 'BabyCrawling', 'BabyCrawling', 'BabyCrawling', 'BabyCrawling', 'BabyCrawling', 'BabyCrawling', 'BabyCrawling', 'BabyCrawling', 'BabyCrawling', 'BabyCrawling', 'BabyCrawling', 'BabyCrawling', 'BabyCrawling', 'BabyCrawling', 'BabyCrawling', 'BabyCrawling', 'BabyCrawling', 'BabyCrawling', 'BabyCrawling', 'BabyCrawling', 'BabyCrawling', 'BabyCrawling', 'BabyCrawling', 'BabyCrawling', 'BabyCrawling', 'BabyCrawling', 'BabyCrawling', 'BabyCrawling', 'BabyCrawling', 'BabyCrawling', 'BabyCrawling', 'Surfing', 'Surfing', 'Surfing', 'Surfing', 'Surfing', 'Surfing', 'Surfing', 'Surfing', 'Surfing', 'Surfing', 'Surfing', 'Surfing', 'Surfing', 'Surfing', 'Surfing', 'Surfing', 'Surfing', 'Surfing', 'Surfing', 'Surfing', 'Surfing', 'Surfing', 'Surfing', 'Surfing', 'Surfing', 'Surfing', 'Surfing', 'Surfing', 'Surfing', 'Surfing', 'Surfing', 'Surfing', 'Surfing', 'Typing', 'Typing', 'Typing', 'Typing', 'Typing', 'Typing', 'Typing', 'Typing', 'Typing', 'Typing', 'Typing', 'Typing', 'Typing', 'Typing', 'Typing', 'Typing', 'Typing', 'Typing', 'Typing', 'Typing', 'Typing', 'Typing', 'Typing', 'Typing', 'Typing', 'Typing', 'Typing', 'Typing', 'Typing', 'Typing', 'Typing', 'Typing', 'Typing', 'Typing', 'Typing', 'Typing', 'Typing', 'Typing', 'Typing', 'Typing', 'Typing', 'Typing', 'Typing', 'WalkingWithDog', 'WalkingWithDog', 'WalkingWithDog', 'WalkingWithDog', 'WalkingWithDog', 'WalkingWithDog', 'WalkingWithDog', 'WalkingWithDog', 'WalkingWithDog', 'WalkingWithDog', 'WalkingWithDog', 'WalkingWithDog', 'WalkingWithDog', 'WalkingWithDog', 'WalkingWithDog', 'WalkingWithDog', 'WalkingWithDog', 'WalkingWithDog', 'WalkingWithDog', 'WalkingWithDog', 'WalkingWithDog', 'WalkingWithDog', 'WalkingWithDog', 'WalkingWithDog', 'WalkingWithDog', 'WalkingWithDog', 'WalkingWithDog', 'WalkingWithDog', 'WalkingWithDog', 'WalkingWithDog', 'WalkingWithDog', 'WalkingWithDog', 'WalkingWithDog', 'WalkingWithDog', 'WalkingWithDog', 'WalkingWithDog', 'Knitting', 'Knitting', 'Knitting']\n",
      "['BabyCrawling', 'BabyCrawling', 'BabyCrawling', 'BabyCrawling', 'BabyCrawling', 'BabyCrawling', 'BabyCrawling', 'BabyCrawling', 'BabyCrawling', 'BabyCrawling', 'BabyCrawling', 'BabyCrawling', 'BabyCrawling', 'BabyCrawling', 'BabyCrawling', 'BabyCrawling', 'BabyCrawling', 'BabyCrawling', 'BabyCrawling', 'BabyCrawling', 'BabyCrawling', 'BabyCrawling', 'BabyCrawling', 'BabyCrawling', 'BabyCrawling', 'BabyCrawling', 'BabyCrawling', 'BabyCrawling', 'BabyCrawling', 'BabyCrawling', 'BabyCrawling', 'BabyCrawling', 'BabyCrawling', 'BabyCrawling', 'BabyCrawling', 'Surfing', 'Surfing', 'Surfing', 'Surfing', 'Surfing', 'Surfing', 'Surfing', 'Surfing', 'Surfing', 'Surfing', 'Surfing', 'Surfing', 'Surfing', 'Surfing', 'Surfing', 'Surfing', 'Surfing', 'Surfing', 'Surfing', 'Surfing', 'Surfing', 'Surfing', 'Surfing', 'Surfing', 'Surfing', 'Surfing', 'Surfing', 'Surfing', 'Surfing', 'Surfing', 'Surfing', 'Surfing', 'Surfing', 'Typing', 'Typing', 'Typing', 'Typing', 'Typing', 'Typing', 'Typing', 'Typing', 'Typing', 'Typing', 'Typing', 'Typing', 'Typing', 'Typing', 'Typing', 'Typing', 'Typing', 'Typing', 'Typing', 'Typing', 'BabyCrawling', 'Knitting', 'Knitting', 'Knitting', 'Typing', 'Typing', 'Typing', 'Typing', 'Typing', 'Typing', 'Typing', 'Typing', 'Typing', 'Typing', 'Typing', 'Typing', 'Typing', 'Typing', 'Typing', 'Typing', 'Typing', 'Typing', 'Typing', 'WalkingWithDog', 'WalkingWithDog', 'WalkingWithDog', 'WalkingWithDog', 'WalkingWithDog', 'WalkingWithDog', 'WalkingWithDog', 'WalkingWithDog', 'WalkingWithDog', 'WalkingWithDog', 'WalkingWithDog', 'WalkingWithDog', 'WalkingWithDog', 'WalkingWithDog', 'WalkingWithDog', 'Surfing', 'WalkingWithDog', 'WalkingWithDog', 'WalkingWithDog', 'WalkingWithDog', 'WalkingWithDog', 'WalkingWithDog', 'WalkingWithDog', 'WalkingWithDog', 'WalkingWithDog', 'WalkingWithDog', 'WalkingWithDog', 'WalkingWithDog', 'WalkingWithDog', 'WalkingWithDog', 'WalkingWithDog', 'WalkingWithDog', 'WalkingWithDog', 'WalkingWithDog', 'WalkingWithDog', 'WalkingWithDog', 'Knitting', 'Knitting', 'Knitting']\n"
     ]
    },
    {
     "name": "stderr",
     "output_type": "stream",
     "text": [
      " 73%|██████████████████████████████████████████████████████████                      | 151/208 [03:03<01:17,  1.36s/it]"
     ]
    },
    {
     "name": "stdout",
     "output_type": "stream",
     "text": [
      "['BabyCrawling', 'BabyCrawling', 'BabyCrawling', 'BabyCrawling', 'BabyCrawling', 'BabyCrawling', 'BabyCrawling', 'BabyCrawling', 'BabyCrawling', 'BabyCrawling', 'BabyCrawling', 'BabyCrawling', 'BabyCrawling', 'BabyCrawling', 'BabyCrawling', 'BabyCrawling', 'BabyCrawling', 'BabyCrawling', 'BabyCrawling', 'BabyCrawling', 'BabyCrawling', 'BabyCrawling', 'BabyCrawling', 'BabyCrawling', 'BabyCrawling', 'BabyCrawling', 'BabyCrawling', 'BabyCrawling', 'BabyCrawling', 'BabyCrawling', 'BabyCrawling', 'BabyCrawling', 'BabyCrawling', 'BabyCrawling', 'BabyCrawling', 'Surfing', 'Surfing', 'Surfing', 'Surfing', 'Surfing', 'Surfing', 'Surfing', 'Surfing', 'Surfing', 'Surfing', 'Surfing', 'Surfing', 'Surfing', 'Surfing', 'Surfing', 'Surfing', 'Surfing', 'Surfing', 'Surfing', 'Surfing', 'Surfing', 'Surfing', 'Surfing', 'Surfing', 'Surfing', 'Surfing', 'Surfing', 'Surfing', 'Surfing', 'Surfing', 'Surfing', 'Surfing', 'Surfing', 'Typing', 'Typing', 'Typing', 'Typing', 'Typing', 'Typing', 'Typing', 'Typing', 'Typing', 'Typing', 'Typing', 'Typing', 'Typing', 'Typing', 'Typing', 'Typing', 'Typing', 'Typing', 'Typing', 'Typing', 'Typing', 'Typing', 'Typing', 'Typing', 'Typing', 'Typing', 'Typing', 'Typing', 'Typing', 'Typing', 'Typing', 'Typing', 'Typing', 'Typing', 'Typing', 'Typing', 'Typing', 'Typing', 'Typing', 'Typing', 'Typing', 'Typing', 'Typing', 'WalkingWithDog', 'WalkingWithDog', 'WalkingWithDog', 'WalkingWithDog', 'WalkingWithDog', 'WalkingWithDog', 'WalkingWithDog', 'WalkingWithDog', 'WalkingWithDog', 'WalkingWithDog', 'WalkingWithDog', 'WalkingWithDog', 'WalkingWithDog', 'WalkingWithDog', 'WalkingWithDog', 'WalkingWithDog', 'WalkingWithDog', 'WalkingWithDog', 'WalkingWithDog', 'WalkingWithDog', 'WalkingWithDog', 'WalkingWithDog', 'WalkingWithDog', 'WalkingWithDog', 'WalkingWithDog', 'WalkingWithDog', 'WalkingWithDog', 'WalkingWithDog', 'WalkingWithDog', 'WalkingWithDog', 'WalkingWithDog', 'WalkingWithDog', 'WalkingWithDog', 'WalkingWithDog', 'WalkingWithDog', 'WalkingWithDog', 'Knitting', 'Knitting', 'Knitting', 'Knitting']\n",
      "['BabyCrawling', 'BabyCrawling', 'BabyCrawling', 'BabyCrawling', 'BabyCrawling', 'BabyCrawling', 'BabyCrawling', 'BabyCrawling', 'BabyCrawling', 'BabyCrawling', 'BabyCrawling', 'BabyCrawling', 'BabyCrawling', 'BabyCrawling', 'BabyCrawling', 'BabyCrawling', 'BabyCrawling', 'BabyCrawling', 'BabyCrawling', 'BabyCrawling', 'BabyCrawling', 'BabyCrawling', 'BabyCrawling', 'BabyCrawling', 'BabyCrawling', 'BabyCrawling', 'BabyCrawling', 'BabyCrawling', 'BabyCrawling', 'BabyCrawling', 'BabyCrawling', 'BabyCrawling', 'BabyCrawling', 'BabyCrawling', 'BabyCrawling', 'Surfing', 'Surfing', 'Surfing', 'Surfing', 'Surfing', 'Surfing', 'Surfing', 'Surfing', 'Surfing', 'Surfing', 'Surfing', 'Surfing', 'Surfing', 'Surfing', 'Surfing', 'Surfing', 'Surfing', 'Surfing', 'Surfing', 'Surfing', 'Surfing', 'Surfing', 'Surfing', 'Surfing', 'Surfing', 'Surfing', 'Surfing', 'Surfing', 'Surfing', 'Surfing', 'Surfing', 'Surfing', 'Surfing', 'Typing', 'Typing', 'Typing', 'Typing', 'Typing', 'Typing', 'Typing', 'Typing', 'Typing', 'Typing', 'Typing', 'Typing', 'Typing', 'Typing', 'Typing', 'Typing', 'Typing', 'Typing', 'Typing', 'Typing', 'BabyCrawling', 'Knitting', 'Knitting', 'Knitting', 'Typing', 'Typing', 'Typing', 'Typing', 'Typing', 'Typing', 'Typing', 'Typing', 'Typing', 'Typing', 'Typing', 'Typing', 'Typing', 'Typing', 'Typing', 'Typing', 'Typing', 'Typing', 'Typing', 'WalkingWithDog', 'WalkingWithDog', 'WalkingWithDog', 'WalkingWithDog', 'WalkingWithDog', 'WalkingWithDog', 'WalkingWithDog', 'WalkingWithDog', 'WalkingWithDog', 'WalkingWithDog', 'WalkingWithDog', 'WalkingWithDog', 'WalkingWithDog', 'WalkingWithDog', 'WalkingWithDog', 'Surfing', 'WalkingWithDog', 'WalkingWithDog', 'WalkingWithDog', 'WalkingWithDog', 'WalkingWithDog', 'WalkingWithDog', 'WalkingWithDog', 'WalkingWithDog', 'WalkingWithDog', 'WalkingWithDog', 'WalkingWithDog', 'WalkingWithDog', 'WalkingWithDog', 'WalkingWithDog', 'WalkingWithDog', 'WalkingWithDog', 'WalkingWithDog', 'WalkingWithDog', 'WalkingWithDog', 'WalkingWithDog', 'Knitting', 'Knitting', 'Knitting', 'Knitting']\n"
     ]
    },
    {
     "name": "stderr",
     "output_type": "stream",
     "text": [
      " 73%|██████████████████████████████████████████████████████████▍                     | 152/208 [03:04<01:17,  1.38s/it]"
     ]
    },
    {
     "name": "stdout",
     "output_type": "stream",
     "text": [
      "['BabyCrawling', 'BabyCrawling', 'BabyCrawling', 'BabyCrawling', 'BabyCrawling', 'BabyCrawling', 'BabyCrawling', 'BabyCrawling', 'BabyCrawling', 'BabyCrawling', 'BabyCrawling', 'BabyCrawling', 'BabyCrawling', 'BabyCrawling', 'BabyCrawling', 'BabyCrawling', 'BabyCrawling', 'BabyCrawling', 'BabyCrawling', 'BabyCrawling', 'BabyCrawling', 'BabyCrawling', 'BabyCrawling', 'BabyCrawling', 'BabyCrawling', 'BabyCrawling', 'BabyCrawling', 'BabyCrawling', 'BabyCrawling', 'BabyCrawling', 'BabyCrawling', 'BabyCrawling', 'BabyCrawling', 'BabyCrawling', 'BabyCrawling', 'Surfing', 'Surfing', 'Surfing', 'Surfing', 'Surfing', 'Surfing', 'Surfing', 'Surfing', 'Surfing', 'Surfing', 'Surfing', 'Surfing', 'Surfing', 'Surfing', 'Surfing', 'Surfing', 'Surfing', 'Surfing', 'Surfing', 'Surfing', 'Surfing', 'Surfing', 'Surfing', 'Surfing', 'Surfing', 'Surfing', 'Surfing', 'Surfing', 'Surfing', 'Surfing', 'Surfing', 'Surfing', 'Surfing', 'Typing', 'Typing', 'Typing', 'Typing', 'Typing', 'Typing', 'Typing', 'Typing', 'Typing', 'Typing', 'Typing', 'Typing', 'Typing', 'Typing', 'Typing', 'Typing', 'Typing', 'Typing', 'Typing', 'Typing', 'Typing', 'Typing', 'Typing', 'Typing', 'Typing', 'Typing', 'Typing', 'Typing', 'Typing', 'Typing', 'Typing', 'Typing', 'Typing', 'Typing', 'Typing', 'Typing', 'Typing', 'Typing', 'Typing', 'Typing', 'Typing', 'Typing', 'Typing', 'WalkingWithDog', 'WalkingWithDog', 'WalkingWithDog', 'WalkingWithDog', 'WalkingWithDog', 'WalkingWithDog', 'WalkingWithDog', 'WalkingWithDog', 'WalkingWithDog', 'WalkingWithDog', 'WalkingWithDog', 'WalkingWithDog', 'WalkingWithDog', 'WalkingWithDog', 'WalkingWithDog', 'WalkingWithDog', 'WalkingWithDog', 'WalkingWithDog', 'WalkingWithDog', 'WalkingWithDog', 'WalkingWithDog', 'WalkingWithDog', 'WalkingWithDog', 'WalkingWithDog', 'WalkingWithDog', 'WalkingWithDog', 'WalkingWithDog', 'WalkingWithDog', 'WalkingWithDog', 'WalkingWithDog', 'WalkingWithDog', 'WalkingWithDog', 'WalkingWithDog', 'WalkingWithDog', 'WalkingWithDog', 'WalkingWithDog', 'Knitting', 'Knitting', 'Knitting', 'Knitting', 'Knitting']\n",
      "['BabyCrawling', 'BabyCrawling', 'BabyCrawling', 'BabyCrawling', 'BabyCrawling', 'BabyCrawling', 'BabyCrawling', 'BabyCrawling', 'BabyCrawling', 'BabyCrawling', 'BabyCrawling', 'BabyCrawling', 'BabyCrawling', 'BabyCrawling', 'BabyCrawling', 'BabyCrawling', 'BabyCrawling', 'BabyCrawling', 'BabyCrawling', 'BabyCrawling', 'BabyCrawling', 'BabyCrawling', 'BabyCrawling', 'BabyCrawling', 'BabyCrawling', 'BabyCrawling', 'BabyCrawling', 'BabyCrawling', 'BabyCrawling', 'BabyCrawling', 'BabyCrawling', 'BabyCrawling', 'BabyCrawling', 'BabyCrawling', 'BabyCrawling', 'Surfing', 'Surfing', 'Surfing', 'Surfing', 'Surfing', 'Surfing', 'Surfing', 'Surfing', 'Surfing', 'Surfing', 'Surfing', 'Surfing', 'Surfing', 'Surfing', 'Surfing', 'Surfing', 'Surfing', 'Surfing', 'Surfing', 'Surfing', 'Surfing', 'Surfing', 'Surfing', 'Surfing', 'Surfing', 'Surfing', 'Surfing', 'Surfing', 'Surfing', 'Surfing', 'Surfing', 'Surfing', 'Surfing', 'Typing', 'Typing', 'Typing', 'Typing', 'Typing', 'Typing', 'Typing', 'Typing', 'Typing', 'Typing', 'Typing', 'Typing', 'Typing', 'Typing', 'Typing', 'Typing', 'Typing', 'Typing', 'Typing', 'Typing', 'BabyCrawling', 'Knitting', 'Knitting', 'Knitting', 'Typing', 'Typing', 'Typing', 'Typing', 'Typing', 'Typing', 'Typing', 'Typing', 'Typing', 'Typing', 'Typing', 'Typing', 'Typing', 'Typing', 'Typing', 'Typing', 'Typing', 'Typing', 'Typing', 'WalkingWithDog', 'WalkingWithDog', 'WalkingWithDog', 'WalkingWithDog', 'WalkingWithDog', 'WalkingWithDog', 'WalkingWithDog', 'WalkingWithDog', 'WalkingWithDog', 'WalkingWithDog', 'WalkingWithDog', 'WalkingWithDog', 'WalkingWithDog', 'WalkingWithDog', 'WalkingWithDog', 'Surfing', 'WalkingWithDog', 'WalkingWithDog', 'WalkingWithDog', 'WalkingWithDog', 'WalkingWithDog', 'WalkingWithDog', 'WalkingWithDog', 'WalkingWithDog', 'WalkingWithDog', 'WalkingWithDog', 'WalkingWithDog', 'WalkingWithDog', 'WalkingWithDog', 'WalkingWithDog', 'WalkingWithDog', 'WalkingWithDog', 'WalkingWithDog', 'WalkingWithDog', 'WalkingWithDog', 'WalkingWithDog', 'Knitting', 'Knitting', 'Knitting', 'Knitting', 'Knitting']\n"
     ]
    },
    {
     "name": "stderr",
     "output_type": "stream",
     "text": [
      " 74%|██████████████████████████████████████████████████████████▊                     | 153/208 [03:06<01:14,  1.36s/it]"
     ]
    },
    {
     "name": "stdout",
     "output_type": "stream",
     "text": [
      "['BabyCrawling', 'BabyCrawling', 'BabyCrawling', 'BabyCrawling', 'BabyCrawling', 'BabyCrawling', 'BabyCrawling', 'BabyCrawling', 'BabyCrawling', 'BabyCrawling', 'BabyCrawling', 'BabyCrawling', 'BabyCrawling', 'BabyCrawling', 'BabyCrawling', 'BabyCrawling', 'BabyCrawling', 'BabyCrawling', 'BabyCrawling', 'BabyCrawling', 'BabyCrawling', 'BabyCrawling', 'BabyCrawling', 'BabyCrawling', 'BabyCrawling', 'BabyCrawling', 'BabyCrawling', 'BabyCrawling', 'BabyCrawling', 'BabyCrawling', 'BabyCrawling', 'BabyCrawling', 'BabyCrawling', 'BabyCrawling', 'BabyCrawling', 'Surfing', 'Surfing', 'Surfing', 'Surfing', 'Surfing', 'Surfing', 'Surfing', 'Surfing', 'Surfing', 'Surfing', 'Surfing', 'Surfing', 'Surfing', 'Surfing', 'Surfing', 'Surfing', 'Surfing', 'Surfing', 'Surfing', 'Surfing', 'Surfing', 'Surfing', 'Surfing', 'Surfing', 'Surfing', 'Surfing', 'Surfing', 'Surfing', 'Surfing', 'Surfing', 'Surfing', 'Surfing', 'Surfing', 'Typing', 'Typing', 'Typing', 'Typing', 'Typing', 'Typing', 'Typing', 'Typing', 'Typing', 'Typing', 'Typing', 'Typing', 'Typing', 'Typing', 'Typing', 'Typing', 'Typing', 'Typing', 'Typing', 'Typing', 'Typing', 'Typing', 'Typing', 'Typing', 'Typing', 'Typing', 'Typing', 'Typing', 'Typing', 'Typing', 'Typing', 'Typing', 'Typing', 'Typing', 'Typing', 'Typing', 'Typing', 'Typing', 'Typing', 'Typing', 'Typing', 'Typing', 'Typing', 'WalkingWithDog', 'WalkingWithDog', 'WalkingWithDog', 'WalkingWithDog', 'WalkingWithDog', 'WalkingWithDog', 'WalkingWithDog', 'WalkingWithDog', 'WalkingWithDog', 'WalkingWithDog', 'WalkingWithDog', 'WalkingWithDog', 'WalkingWithDog', 'WalkingWithDog', 'WalkingWithDog', 'WalkingWithDog', 'WalkingWithDog', 'WalkingWithDog', 'WalkingWithDog', 'WalkingWithDog', 'WalkingWithDog', 'WalkingWithDog', 'WalkingWithDog', 'WalkingWithDog', 'WalkingWithDog', 'WalkingWithDog', 'WalkingWithDog', 'WalkingWithDog', 'WalkingWithDog', 'WalkingWithDog', 'WalkingWithDog', 'WalkingWithDog', 'WalkingWithDog', 'WalkingWithDog', 'WalkingWithDog', 'WalkingWithDog', 'Knitting', 'Knitting', 'Knitting', 'Knitting', 'Knitting', 'Knitting']\n",
      "['BabyCrawling', 'BabyCrawling', 'BabyCrawling', 'BabyCrawling', 'BabyCrawling', 'BabyCrawling', 'BabyCrawling', 'BabyCrawling', 'BabyCrawling', 'BabyCrawling', 'BabyCrawling', 'BabyCrawling', 'BabyCrawling', 'BabyCrawling', 'BabyCrawling', 'BabyCrawling', 'BabyCrawling', 'BabyCrawling', 'BabyCrawling', 'BabyCrawling', 'BabyCrawling', 'BabyCrawling', 'BabyCrawling', 'BabyCrawling', 'BabyCrawling', 'BabyCrawling', 'BabyCrawling', 'BabyCrawling', 'BabyCrawling', 'BabyCrawling', 'BabyCrawling', 'BabyCrawling', 'BabyCrawling', 'BabyCrawling', 'BabyCrawling', 'Surfing', 'Surfing', 'Surfing', 'Surfing', 'Surfing', 'Surfing', 'Surfing', 'Surfing', 'Surfing', 'Surfing', 'Surfing', 'Surfing', 'Surfing', 'Surfing', 'Surfing', 'Surfing', 'Surfing', 'Surfing', 'Surfing', 'Surfing', 'Surfing', 'Surfing', 'Surfing', 'Surfing', 'Surfing', 'Surfing', 'Surfing', 'Surfing', 'Surfing', 'Surfing', 'Surfing', 'Surfing', 'Surfing', 'Typing', 'Typing', 'Typing', 'Typing', 'Typing', 'Typing', 'Typing', 'Typing', 'Typing', 'Typing', 'Typing', 'Typing', 'Typing', 'Typing', 'Typing', 'Typing', 'Typing', 'Typing', 'Typing', 'Typing', 'BabyCrawling', 'Knitting', 'Knitting', 'Knitting', 'Typing', 'Typing', 'Typing', 'Typing', 'Typing', 'Typing', 'Typing', 'Typing', 'Typing', 'Typing', 'Typing', 'Typing', 'Typing', 'Typing', 'Typing', 'Typing', 'Typing', 'Typing', 'Typing', 'WalkingWithDog', 'WalkingWithDog', 'WalkingWithDog', 'WalkingWithDog', 'WalkingWithDog', 'WalkingWithDog', 'WalkingWithDog', 'WalkingWithDog', 'WalkingWithDog', 'WalkingWithDog', 'WalkingWithDog', 'WalkingWithDog', 'WalkingWithDog', 'WalkingWithDog', 'WalkingWithDog', 'Surfing', 'WalkingWithDog', 'WalkingWithDog', 'WalkingWithDog', 'WalkingWithDog', 'WalkingWithDog', 'WalkingWithDog', 'WalkingWithDog', 'WalkingWithDog', 'WalkingWithDog', 'WalkingWithDog', 'WalkingWithDog', 'WalkingWithDog', 'WalkingWithDog', 'WalkingWithDog', 'WalkingWithDog', 'WalkingWithDog', 'WalkingWithDog', 'WalkingWithDog', 'WalkingWithDog', 'WalkingWithDog', 'Knitting', 'Knitting', 'Knitting', 'Knitting', 'Knitting', 'Knitting']\n"
     ]
    },
    {
     "name": "stderr",
     "output_type": "stream",
     "text": [
      " 74%|███████████████████████████████████████████████████████████▏                    | 154/208 [03:07<01:16,  1.43s/it]"
     ]
    },
    {
     "name": "stdout",
     "output_type": "stream",
     "text": [
      "['BabyCrawling', 'BabyCrawling', 'BabyCrawling', 'BabyCrawling', 'BabyCrawling', 'BabyCrawling', 'BabyCrawling', 'BabyCrawling', 'BabyCrawling', 'BabyCrawling', 'BabyCrawling', 'BabyCrawling', 'BabyCrawling', 'BabyCrawling', 'BabyCrawling', 'BabyCrawling', 'BabyCrawling', 'BabyCrawling', 'BabyCrawling', 'BabyCrawling', 'BabyCrawling', 'BabyCrawling', 'BabyCrawling', 'BabyCrawling', 'BabyCrawling', 'BabyCrawling', 'BabyCrawling', 'BabyCrawling', 'BabyCrawling', 'BabyCrawling', 'BabyCrawling', 'BabyCrawling', 'BabyCrawling', 'BabyCrawling', 'BabyCrawling', 'Surfing', 'Surfing', 'Surfing', 'Surfing', 'Surfing', 'Surfing', 'Surfing', 'Surfing', 'Surfing', 'Surfing', 'Surfing', 'Surfing', 'Surfing', 'Surfing', 'Surfing', 'Surfing', 'Surfing', 'Surfing', 'Surfing', 'Surfing', 'Surfing', 'Surfing', 'Surfing', 'Surfing', 'Surfing', 'Surfing', 'Surfing', 'Surfing', 'Surfing', 'Surfing', 'Surfing', 'Surfing', 'Surfing', 'Typing', 'Typing', 'Typing', 'Typing', 'Typing', 'Typing', 'Typing', 'Typing', 'Typing', 'Typing', 'Typing', 'Typing', 'Typing', 'Typing', 'Typing', 'Typing', 'Typing', 'Typing', 'Typing', 'Typing', 'Typing', 'Typing', 'Typing', 'Typing', 'Typing', 'Typing', 'Typing', 'Typing', 'Typing', 'Typing', 'Typing', 'Typing', 'Typing', 'Typing', 'Typing', 'Typing', 'Typing', 'Typing', 'Typing', 'Typing', 'Typing', 'Typing', 'Typing', 'WalkingWithDog', 'WalkingWithDog', 'WalkingWithDog', 'WalkingWithDog', 'WalkingWithDog', 'WalkingWithDog', 'WalkingWithDog', 'WalkingWithDog', 'WalkingWithDog', 'WalkingWithDog', 'WalkingWithDog', 'WalkingWithDog', 'WalkingWithDog', 'WalkingWithDog', 'WalkingWithDog', 'WalkingWithDog', 'WalkingWithDog', 'WalkingWithDog', 'WalkingWithDog', 'WalkingWithDog', 'WalkingWithDog', 'WalkingWithDog', 'WalkingWithDog', 'WalkingWithDog', 'WalkingWithDog', 'WalkingWithDog', 'WalkingWithDog', 'WalkingWithDog', 'WalkingWithDog', 'WalkingWithDog', 'WalkingWithDog', 'WalkingWithDog', 'WalkingWithDog', 'WalkingWithDog', 'WalkingWithDog', 'WalkingWithDog', 'Knitting', 'Knitting', 'Knitting', 'Knitting', 'Knitting', 'Knitting', 'Knitting']\n",
      "['BabyCrawling', 'BabyCrawling', 'BabyCrawling', 'BabyCrawling', 'BabyCrawling', 'BabyCrawling', 'BabyCrawling', 'BabyCrawling', 'BabyCrawling', 'BabyCrawling', 'BabyCrawling', 'BabyCrawling', 'BabyCrawling', 'BabyCrawling', 'BabyCrawling', 'BabyCrawling', 'BabyCrawling', 'BabyCrawling', 'BabyCrawling', 'BabyCrawling', 'BabyCrawling', 'BabyCrawling', 'BabyCrawling', 'BabyCrawling', 'BabyCrawling', 'BabyCrawling', 'BabyCrawling', 'BabyCrawling', 'BabyCrawling', 'BabyCrawling', 'BabyCrawling', 'BabyCrawling', 'BabyCrawling', 'BabyCrawling', 'BabyCrawling', 'Surfing', 'Surfing', 'Surfing', 'Surfing', 'Surfing', 'Surfing', 'Surfing', 'Surfing', 'Surfing', 'Surfing', 'Surfing', 'Surfing', 'Surfing', 'Surfing', 'Surfing', 'Surfing', 'Surfing', 'Surfing', 'Surfing', 'Surfing', 'Surfing', 'Surfing', 'Surfing', 'Surfing', 'Surfing', 'Surfing', 'Surfing', 'Surfing', 'Surfing', 'Surfing', 'Surfing', 'Surfing', 'Surfing', 'Typing', 'Typing', 'Typing', 'Typing', 'Typing', 'Typing', 'Typing', 'Typing', 'Typing', 'Typing', 'Typing', 'Typing', 'Typing', 'Typing', 'Typing', 'Typing', 'Typing', 'Typing', 'Typing', 'Typing', 'BabyCrawling', 'Knitting', 'Knitting', 'Knitting', 'Typing', 'Typing', 'Typing', 'Typing', 'Typing', 'Typing', 'Typing', 'Typing', 'Typing', 'Typing', 'Typing', 'Typing', 'Typing', 'Typing', 'Typing', 'Typing', 'Typing', 'Typing', 'Typing', 'WalkingWithDog', 'WalkingWithDog', 'WalkingWithDog', 'WalkingWithDog', 'WalkingWithDog', 'WalkingWithDog', 'WalkingWithDog', 'WalkingWithDog', 'WalkingWithDog', 'WalkingWithDog', 'WalkingWithDog', 'WalkingWithDog', 'WalkingWithDog', 'WalkingWithDog', 'WalkingWithDog', 'Surfing', 'WalkingWithDog', 'WalkingWithDog', 'WalkingWithDog', 'WalkingWithDog', 'WalkingWithDog', 'WalkingWithDog', 'WalkingWithDog', 'WalkingWithDog', 'WalkingWithDog', 'WalkingWithDog', 'WalkingWithDog', 'WalkingWithDog', 'WalkingWithDog', 'WalkingWithDog', 'WalkingWithDog', 'WalkingWithDog', 'WalkingWithDog', 'WalkingWithDog', 'WalkingWithDog', 'WalkingWithDog', 'Knitting', 'Knitting', 'Knitting', 'Knitting', 'Knitting', 'Knitting', 'Knitting']\n"
     ]
    },
    {
     "name": "stderr",
     "output_type": "stream",
     "text": [
      " 75%|███████████████████████████████████████████████████████████▌                    | 155/208 [03:09<01:13,  1.39s/it]"
     ]
    },
    {
     "name": "stdout",
     "output_type": "stream",
     "text": [
      "['BabyCrawling', 'BabyCrawling', 'BabyCrawling', 'BabyCrawling', 'BabyCrawling', 'BabyCrawling', 'BabyCrawling', 'BabyCrawling', 'BabyCrawling', 'BabyCrawling', 'BabyCrawling', 'BabyCrawling', 'BabyCrawling', 'BabyCrawling', 'BabyCrawling', 'BabyCrawling', 'BabyCrawling', 'BabyCrawling', 'BabyCrawling', 'BabyCrawling', 'BabyCrawling', 'BabyCrawling', 'BabyCrawling', 'BabyCrawling', 'BabyCrawling', 'BabyCrawling', 'BabyCrawling', 'BabyCrawling', 'BabyCrawling', 'BabyCrawling', 'BabyCrawling', 'BabyCrawling', 'BabyCrawling', 'BabyCrawling', 'BabyCrawling', 'Surfing', 'Surfing', 'Surfing', 'Surfing', 'Surfing', 'Surfing', 'Surfing', 'Surfing', 'Surfing', 'Surfing', 'Surfing', 'Surfing', 'Surfing', 'Surfing', 'Surfing', 'Surfing', 'Surfing', 'Surfing', 'Surfing', 'Surfing', 'Surfing', 'Surfing', 'Surfing', 'Surfing', 'Surfing', 'Surfing', 'Surfing', 'Surfing', 'Surfing', 'Surfing', 'Surfing', 'Surfing', 'Surfing', 'Typing', 'Typing', 'Typing', 'Typing', 'Typing', 'Typing', 'Typing', 'Typing', 'Typing', 'Typing', 'Typing', 'Typing', 'Typing', 'Typing', 'Typing', 'Typing', 'Typing', 'Typing', 'Typing', 'Typing', 'Typing', 'Typing', 'Typing', 'Typing', 'Typing', 'Typing', 'Typing', 'Typing', 'Typing', 'Typing', 'Typing', 'Typing', 'Typing', 'Typing', 'Typing', 'Typing', 'Typing', 'Typing', 'Typing', 'Typing', 'Typing', 'Typing', 'Typing', 'WalkingWithDog', 'WalkingWithDog', 'WalkingWithDog', 'WalkingWithDog', 'WalkingWithDog', 'WalkingWithDog', 'WalkingWithDog', 'WalkingWithDog', 'WalkingWithDog', 'WalkingWithDog', 'WalkingWithDog', 'WalkingWithDog', 'WalkingWithDog', 'WalkingWithDog', 'WalkingWithDog', 'WalkingWithDog', 'WalkingWithDog', 'WalkingWithDog', 'WalkingWithDog', 'WalkingWithDog', 'WalkingWithDog', 'WalkingWithDog', 'WalkingWithDog', 'WalkingWithDog', 'WalkingWithDog', 'WalkingWithDog', 'WalkingWithDog', 'WalkingWithDog', 'WalkingWithDog', 'WalkingWithDog', 'WalkingWithDog', 'WalkingWithDog', 'WalkingWithDog', 'WalkingWithDog', 'WalkingWithDog', 'WalkingWithDog', 'Knitting', 'Knitting', 'Knitting', 'Knitting', 'Knitting', 'Knitting', 'Knitting', 'Knitting']\n",
      "['BabyCrawling', 'BabyCrawling', 'BabyCrawling', 'BabyCrawling', 'BabyCrawling', 'BabyCrawling', 'BabyCrawling', 'BabyCrawling', 'BabyCrawling', 'BabyCrawling', 'BabyCrawling', 'BabyCrawling', 'BabyCrawling', 'BabyCrawling', 'BabyCrawling', 'BabyCrawling', 'BabyCrawling', 'BabyCrawling', 'BabyCrawling', 'BabyCrawling', 'BabyCrawling', 'BabyCrawling', 'BabyCrawling', 'BabyCrawling', 'BabyCrawling', 'BabyCrawling', 'BabyCrawling', 'BabyCrawling', 'BabyCrawling', 'BabyCrawling', 'BabyCrawling', 'BabyCrawling', 'BabyCrawling', 'BabyCrawling', 'BabyCrawling', 'Surfing', 'Surfing', 'Surfing', 'Surfing', 'Surfing', 'Surfing', 'Surfing', 'Surfing', 'Surfing', 'Surfing', 'Surfing', 'Surfing', 'Surfing', 'Surfing', 'Surfing', 'Surfing', 'Surfing', 'Surfing', 'Surfing', 'Surfing', 'Surfing', 'Surfing', 'Surfing', 'Surfing', 'Surfing', 'Surfing', 'Surfing', 'Surfing', 'Surfing', 'Surfing', 'Surfing', 'Surfing', 'Surfing', 'Typing', 'Typing', 'Typing', 'Typing', 'Typing', 'Typing', 'Typing', 'Typing', 'Typing', 'Typing', 'Typing', 'Typing', 'Typing', 'Typing', 'Typing', 'Typing', 'Typing', 'Typing', 'Typing', 'Typing', 'BabyCrawling', 'Knitting', 'Knitting', 'Knitting', 'Typing', 'Typing', 'Typing', 'Typing', 'Typing', 'Typing', 'Typing', 'Typing', 'Typing', 'Typing', 'Typing', 'Typing', 'Typing', 'Typing', 'Typing', 'Typing', 'Typing', 'Typing', 'Typing', 'WalkingWithDog', 'WalkingWithDog', 'WalkingWithDog', 'WalkingWithDog', 'WalkingWithDog', 'WalkingWithDog', 'WalkingWithDog', 'WalkingWithDog', 'WalkingWithDog', 'WalkingWithDog', 'WalkingWithDog', 'WalkingWithDog', 'WalkingWithDog', 'WalkingWithDog', 'WalkingWithDog', 'Surfing', 'WalkingWithDog', 'WalkingWithDog', 'WalkingWithDog', 'WalkingWithDog', 'WalkingWithDog', 'WalkingWithDog', 'WalkingWithDog', 'WalkingWithDog', 'WalkingWithDog', 'WalkingWithDog', 'WalkingWithDog', 'WalkingWithDog', 'WalkingWithDog', 'WalkingWithDog', 'WalkingWithDog', 'WalkingWithDog', 'WalkingWithDog', 'WalkingWithDog', 'WalkingWithDog', 'WalkingWithDog', 'Knitting', 'Knitting', 'Knitting', 'Knitting', 'Knitting', 'Knitting', 'Knitting', 'Knitting']\n"
     ]
    },
    {
     "name": "stderr",
     "output_type": "stream",
     "text": [
      " 75%|████████████████████████████████████████████████████████████                    | 156/208 [03:10<01:12,  1.39s/it]"
     ]
    },
    {
     "name": "stdout",
     "output_type": "stream",
     "text": [
      "['BabyCrawling', 'BabyCrawling', 'BabyCrawling', 'BabyCrawling', 'BabyCrawling', 'BabyCrawling', 'BabyCrawling', 'BabyCrawling', 'BabyCrawling', 'BabyCrawling', 'BabyCrawling', 'BabyCrawling', 'BabyCrawling', 'BabyCrawling', 'BabyCrawling', 'BabyCrawling', 'BabyCrawling', 'BabyCrawling', 'BabyCrawling', 'BabyCrawling', 'BabyCrawling', 'BabyCrawling', 'BabyCrawling', 'BabyCrawling', 'BabyCrawling', 'BabyCrawling', 'BabyCrawling', 'BabyCrawling', 'BabyCrawling', 'BabyCrawling', 'BabyCrawling', 'BabyCrawling', 'BabyCrawling', 'BabyCrawling', 'BabyCrawling', 'Surfing', 'Surfing', 'Surfing', 'Surfing', 'Surfing', 'Surfing', 'Surfing', 'Surfing', 'Surfing', 'Surfing', 'Surfing', 'Surfing', 'Surfing', 'Surfing', 'Surfing', 'Surfing', 'Surfing', 'Surfing', 'Surfing', 'Surfing', 'Surfing', 'Surfing', 'Surfing', 'Surfing', 'Surfing', 'Surfing', 'Surfing', 'Surfing', 'Surfing', 'Surfing', 'Surfing', 'Surfing', 'Surfing', 'Typing', 'Typing', 'Typing', 'Typing', 'Typing', 'Typing', 'Typing', 'Typing', 'Typing', 'Typing', 'Typing', 'Typing', 'Typing', 'Typing', 'Typing', 'Typing', 'Typing', 'Typing', 'Typing', 'Typing', 'Typing', 'Typing', 'Typing', 'Typing', 'Typing', 'Typing', 'Typing', 'Typing', 'Typing', 'Typing', 'Typing', 'Typing', 'Typing', 'Typing', 'Typing', 'Typing', 'Typing', 'Typing', 'Typing', 'Typing', 'Typing', 'Typing', 'Typing', 'WalkingWithDog', 'WalkingWithDog', 'WalkingWithDog', 'WalkingWithDog', 'WalkingWithDog', 'WalkingWithDog', 'WalkingWithDog', 'WalkingWithDog', 'WalkingWithDog', 'WalkingWithDog', 'WalkingWithDog', 'WalkingWithDog', 'WalkingWithDog', 'WalkingWithDog', 'WalkingWithDog', 'WalkingWithDog', 'WalkingWithDog', 'WalkingWithDog', 'WalkingWithDog', 'WalkingWithDog', 'WalkingWithDog', 'WalkingWithDog', 'WalkingWithDog', 'WalkingWithDog', 'WalkingWithDog', 'WalkingWithDog', 'WalkingWithDog', 'WalkingWithDog', 'WalkingWithDog', 'WalkingWithDog', 'WalkingWithDog', 'WalkingWithDog', 'WalkingWithDog', 'WalkingWithDog', 'WalkingWithDog', 'WalkingWithDog', 'Knitting', 'Knitting', 'Knitting', 'Knitting', 'Knitting', 'Knitting', 'Knitting', 'Knitting', 'Knitting']\n",
      "['BabyCrawling', 'BabyCrawling', 'BabyCrawling', 'BabyCrawling', 'BabyCrawling', 'BabyCrawling', 'BabyCrawling', 'BabyCrawling', 'BabyCrawling', 'BabyCrawling', 'BabyCrawling', 'BabyCrawling', 'BabyCrawling', 'BabyCrawling', 'BabyCrawling', 'BabyCrawling', 'BabyCrawling', 'BabyCrawling', 'BabyCrawling', 'BabyCrawling', 'BabyCrawling', 'BabyCrawling', 'BabyCrawling', 'BabyCrawling', 'BabyCrawling', 'BabyCrawling', 'BabyCrawling', 'BabyCrawling', 'BabyCrawling', 'BabyCrawling', 'BabyCrawling', 'BabyCrawling', 'BabyCrawling', 'BabyCrawling', 'BabyCrawling', 'Surfing', 'Surfing', 'Surfing', 'Surfing', 'Surfing', 'Surfing', 'Surfing', 'Surfing', 'Surfing', 'Surfing', 'Surfing', 'Surfing', 'Surfing', 'Surfing', 'Surfing', 'Surfing', 'Surfing', 'Surfing', 'Surfing', 'Surfing', 'Surfing', 'Surfing', 'Surfing', 'Surfing', 'Surfing', 'Surfing', 'Surfing', 'Surfing', 'Surfing', 'Surfing', 'Surfing', 'Surfing', 'Surfing', 'Typing', 'Typing', 'Typing', 'Typing', 'Typing', 'Typing', 'Typing', 'Typing', 'Typing', 'Typing', 'Typing', 'Typing', 'Typing', 'Typing', 'Typing', 'Typing', 'Typing', 'Typing', 'Typing', 'Typing', 'BabyCrawling', 'Knitting', 'Knitting', 'Knitting', 'Typing', 'Typing', 'Typing', 'Typing', 'Typing', 'Typing', 'Typing', 'Typing', 'Typing', 'Typing', 'Typing', 'Typing', 'Typing', 'Typing', 'Typing', 'Typing', 'Typing', 'Typing', 'Typing', 'WalkingWithDog', 'WalkingWithDog', 'WalkingWithDog', 'WalkingWithDog', 'WalkingWithDog', 'WalkingWithDog', 'WalkingWithDog', 'WalkingWithDog', 'WalkingWithDog', 'WalkingWithDog', 'WalkingWithDog', 'WalkingWithDog', 'WalkingWithDog', 'WalkingWithDog', 'WalkingWithDog', 'Surfing', 'WalkingWithDog', 'WalkingWithDog', 'WalkingWithDog', 'WalkingWithDog', 'WalkingWithDog', 'WalkingWithDog', 'WalkingWithDog', 'WalkingWithDog', 'WalkingWithDog', 'WalkingWithDog', 'WalkingWithDog', 'WalkingWithDog', 'WalkingWithDog', 'WalkingWithDog', 'WalkingWithDog', 'WalkingWithDog', 'WalkingWithDog', 'WalkingWithDog', 'WalkingWithDog', 'WalkingWithDog', 'Knitting', 'Knitting', 'Knitting', 'Knitting', 'Knitting', 'Knitting', 'Knitting', 'Knitting', 'Knitting']\n"
     ]
    },
    {
     "name": "stderr",
     "output_type": "stream",
     "text": [
      " 75%|████████████████████████████████████████████████████████████▍                   | 157/208 [03:11<01:10,  1.38s/it]"
     ]
    },
    {
     "name": "stdout",
     "output_type": "stream",
     "text": [
      "['BabyCrawling', 'BabyCrawling', 'BabyCrawling', 'BabyCrawling', 'BabyCrawling', 'BabyCrawling', 'BabyCrawling', 'BabyCrawling', 'BabyCrawling', 'BabyCrawling', 'BabyCrawling', 'BabyCrawling', 'BabyCrawling', 'BabyCrawling', 'BabyCrawling', 'BabyCrawling', 'BabyCrawling', 'BabyCrawling', 'BabyCrawling', 'BabyCrawling', 'BabyCrawling', 'BabyCrawling', 'BabyCrawling', 'BabyCrawling', 'BabyCrawling', 'BabyCrawling', 'BabyCrawling', 'BabyCrawling', 'BabyCrawling', 'BabyCrawling', 'BabyCrawling', 'BabyCrawling', 'BabyCrawling', 'BabyCrawling', 'BabyCrawling', 'Surfing', 'Surfing', 'Surfing', 'Surfing', 'Surfing', 'Surfing', 'Surfing', 'Surfing', 'Surfing', 'Surfing', 'Surfing', 'Surfing', 'Surfing', 'Surfing', 'Surfing', 'Surfing', 'Surfing', 'Surfing', 'Surfing', 'Surfing', 'Surfing', 'Surfing', 'Surfing', 'Surfing', 'Surfing', 'Surfing', 'Surfing', 'Surfing', 'Surfing', 'Surfing', 'Surfing', 'Surfing', 'Surfing', 'Typing', 'Typing', 'Typing', 'Typing', 'Typing', 'Typing', 'Typing', 'Typing', 'Typing', 'Typing', 'Typing', 'Typing', 'Typing', 'Typing', 'Typing', 'Typing', 'Typing', 'Typing', 'Typing', 'Typing', 'Typing', 'Typing', 'Typing', 'Typing', 'Typing', 'Typing', 'Typing', 'Typing', 'Typing', 'Typing', 'Typing', 'Typing', 'Typing', 'Typing', 'Typing', 'Typing', 'Typing', 'Typing', 'Typing', 'Typing', 'Typing', 'Typing', 'Typing', 'WalkingWithDog', 'WalkingWithDog', 'WalkingWithDog', 'WalkingWithDog', 'WalkingWithDog', 'WalkingWithDog', 'WalkingWithDog', 'WalkingWithDog', 'WalkingWithDog', 'WalkingWithDog', 'WalkingWithDog', 'WalkingWithDog', 'WalkingWithDog', 'WalkingWithDog', 'WalkingWithDog', 'WalkingWithDog', 'WalkingWithDog', 'WalkingWithDog', 'WalkingWithDog', 'WalkingWithDog', 'WalkingWithDog', 'WalkingWithDog', 'WalkingWithDog', 'WalkingWithDog', 'WalkingWithDog', 'WalkingWithDog', 'WalkingWithDog', 'WalkingWithDog', 'WalkingWithDog', 'WalkingWithDog', 'WalkingWithDog', 'WalkingWithDog', 'WalkingWithDog', 'WalkingWithDog', 'WalkingWithDog', 'WalkingWithDog', 'Knitting', 'Knitting', 'Knitting', 'Knitting', 'Knitting', 'Knitting', 'Knitting', 'Knitting', 'Knitting', 'Knitting']\n",
      "['BabyCrawling', 'BabyCrawling', 'BabyCrawling', 'BabyCrawling', 'BabyCrawling', 'BabyCrawling', 'BabyCrawling', 'BabyCrawling', 'BabyCrawling', 'BabyCrawling', 'BabyCrawling', 'BabyCrawling', 'BabyCrawling', 'BabyCrawling', 'BabyCrawling', 'BabyCrawling', 'BabyCrawling', 'BabyCrawling', 'BabyCrawling', 'BabyCrawling', 'BabyCrawling', 'BabyCrawling', 'BabyCrawling', 'BabyCrawling', 'BabyCrawling', 'BabyCrawling', 'BabyCrawling', 'BabyCrawling', 'BabyCrawling', 'BabyCrawling', 'BabyCrawling', 'BabyCrawling', 'BabyCrawling', 'BabyCrawling', 'BabyCrawling', 'Surfing', 'Surfing', 'Surfing', 'Surfing', 'Surfing', 'Surfing', 'Surfing', 'Surfing', 'Surfing', 'Surfing', 'Surfing', 'Surfing', 'Surfing', 'Surfing', 'Surfing', 'Surfing', 'Surfing', 'Surfing', 'Surfing', 'Surfing', 'Surfing', 'Surfing', 'Surfing', 'Surfing', 'Surfing', 'Surfing', 'Surfing', 'Surfing', 'Surfing', 'Surfing', 'Surfing', 'Surfing', 'Surfing', 'Typing', 'Typing', 'Typing', 'Typing', 'Typing', 'Typing', 'Typing', 'Typing', 'Typing', 'Typing', 'Typing', 'Typing', 'Typing', 'Typing', 'Typing', 'Typing', 'Typing', 'Typing', 'Typing', 'Typing', 'BabyCrawling', 'Knitting', 'Knitting', 'Knitting', 'Typing', 'Typing', 'Typing', 'Typing', 'Typing', 'Typing', 'Typing', 'Typing', 'Typing', 'Typing', 'Typing', 'Typing', 'Typing', 'Typing', 'Typing', 'Typing', 'Typing', 'Typing', 'Typing', 'WalkingWithDog', 'WalkingWithDog', 'WalkingWithDog', 'WalkingWithDog', 'WalkingWithDog', 'WalkingWithDog', 'WalkingWithDog', 'WalkingWithDog', 'WalkingWithDog', 'WalkingWithDog', 'WalkingWithDog', 'WalkingWithDog', 'WalkingWithDog', 'WalkingWithDog', 'WalkingWithDog', 'Surfing', 'WalkingWithDog', 'WalkingWithDog', 'WalkingWithDog', 'WalkingWithDog', 'WalkingWithDog', 'WalkingWithDog', 'WalkingWithDog', 'WalkingWithDog', 'WalkingWithDog', 'WalkingWithDog', 'WalkingWithDog', 'WalkingWithDog', 'WalkingWithDog', 'WalkingWithDog', 'WalkingWithDog', 'WalkingWithDog', 'WalkingWithDog', 'WalkingWithDog', 'WalkingWithDog', 'WalkingWithDog', 'Knitting', 'Knitting', 'Knitting', 'Knitting', 'Knitting', 'Knitting', 'Knitting', 'Knitting', 'Knitting', 'Knitting']\n"
     ]
    },
    {
     "name": "stderr",
     "output_type": "stream",
     "text": [
      " 76%|████████████████████████████████████████████████████████████▊                   | 158/208 [03:13<01:10,  1.41s/it]"
     ]
    },
    {
     "name": "stdout",
     "output_type": "stream",
     "text": [
      "['BabyCrawling', 'BabyCrawling', 'BabyCrawling', 'BabyCrawling', 'BabyCrawling', 'BabyCrawling', 'BabyCrawling', 'BabyCrawling', 'BabyCrawling', 'BabyCrawling', 'BabyCrawling', 'BabyCrawling', 'BabyCrawling', 'BabyCrawling', 'BabyCrawling', 'BabyCrawling', 'BabyCrawling', 'BabyCrawling', 'BabyCrawling', 'BabyCrawling', 'BabyCrawling', 'BabyCrawling', 'BabyCrawling', 'BabyCrawling', 'BabyCrawling', 'BabyCrawling', 'BabyCrawling', 'BabyCrawling', 'BabyCrawling', 'BabyCrawling', 'BabyCrawling', 'BabyCrawling', 'BabyCrawling', 'BabyCrawling', 'BabyCrawling', 'Surfing', 'Surfing', 'Surfing', 'Surfing', 'Surfing', 'Surfing', 'Surfing', 'Surfing', 'Surfing', 'Surfing', 'Surfing', 'Surfing', 'Surfing', 'Surfing', 'Surfing', 'Surfing', 'Surfing', 'Surfing', 'Surfing', 'Surfing', 'Surfing', 'Surfing', 'Surfing', 'Surfing', 'Surfing', 'Surfing', 'Surfing', 'Surfing', 'Surfing', 'Surfing', 'Surfing', 'Surfing', 'Surfing', 'Typing', 'Typing', 'Typing', 'Typing', 'Typing', 'Typing', 'Typing', 'Typing', 'Typing', 'Typing', 'Typing', 'Typing', 'Typing', 'Typing', 'Typing', 'Typing', 'Typing', 'Typing', 'Typing', 'Typing', 'Typing', 'Typing', 'Typing', 'Typing', 'Typing', 'Typing', 'Typing', 'Typing', 'Typing', 'Typing', 'Typing', 'Typing', 'Typing', 'Typing', 'Typing', 'Typing', 'Typing', 'Typing', 'Typing', 'Typing', 'Typing', 'Typing', 'Typing', 'WalkingWithDog', 'WalkingWithDog', 'WalkingWithDog', 'WalkingWithDog', 'WalkingWithDog', 'WalkingWithDog', 'WalkingWithDog', 'WalkingWithDog', 'WalkingWithDog', 'WalkingWithDog', 'WalkingWithDog', 'WalkingWithDog', 'WalkingWithDog', 'WalkingWithDog', 'WalkingWithDog', 'WalkingWithDog', 'WalkingWithDog', 'WalkingWithDog', 'WalkingWithDog', 'WalkingWithDog', 'WalkingWithDog', 'WalkingWithDog', 'WalkingWithDog', 'WalkingWithDog', 'WalkingWithDog', 'WalkingWithDog', 'WalkingWithDog', 'WalkingWithDog', 'WalkingWithDog', 'WalkingWithDog', 'WalkingWithDog', 'WalkingWithDog', 'WalkingWithDog', 'WalkingWithDog', 'WalkingWithDog', 'WalkingWithDog', 'Knitting', 'Knitting', 'Knitting', 'Knitting', 'Knitting', 'Knitting', 'Knitting', 'Knitting', 'Knitting', 'Knitting', 'Knitting']\n",
      "['BabyCrawling', 'BabyCrawling', 'BabyCrawling', 'BabyCrawling', 'BabyCrawling', 'BabyCrawling', 'BabyCrawling', 'BabyCrawling', 'BabyCrawling', 'BabyCrawling', 'BabyCrawling', 'BabyCrawling', 'BabyCrawling', 'BabyCrawling', 'BabyCrawling', 'BabyCrawling', 'BabyCrawling', 'BabyCrawling', 'BabyCrawling', 'BabyCrawling', 'BabyCrawling', 'BabyCrawling', 'BabyCrawling', 'BabyCrawling', 'BabyCrawling', 'BabyCrawling', 'BabyCrawling', 'BabyCrawling', 'BabyCrawling', 'BabyCrawling', 'BabyCrawling', 'BabyCrawling', 'BabyCrawling', 'BabyCrawling', 'BabyCrawling', 'Surfing', 'Surfing', 'Surfing', 'Surfing', 'Surfing', 'Surfing', 'Surfing', 'Surfing', 'Surfing', 'Surfing', 'Surfing', 'Surfing', 'Surfing', 'Surfing', 'Surfing', 'Surfing', 'Surfing', 'Surfing', 'Surfing', 'Surfing', 'Surfing', 'Surfing', 'Surfing', 'Surfing', 'Surfing', 'Surfing', 'Surfing', 'Surfing', 'Surfing', 'Surfing', 'Surfing', 'Surfing', 'Surfing', 'Typing', 'Typing', 'Typing', 'Typing', 'Typing', 'Typing', 'Typing', 'Typing', 'Typing', 'Typing', 'Typing', 'Typing', 'Typing', 'Typing', 'Typing', 'Typing', 'Typing', 'Typing', 'Typing', 'Typing', 'BabyCrawling', 'Knitting', 'Knitting', 'Knitting', 'Typing', 'Typing', 'Typing', 'Typing', 'Typing', 'Typing', 'Typing', 'Typing', 'Typing', 'Typing', 'Typing', 'Typing', 'Typing', 'Typing', 'Typing', 'Typing', 'Typing', 'Typing', 'Typing', 'WalkingWithDog', 'WalkingWithDog', 'WalkingWithDog', 'WalkingWithDog', 'WalkingWithDog', 'WalkingWithDog', 'WalkingWithDog', 'WalkingWithDog', 'WalkingWithDog', 'WalkingWithDog', 'WalkingWithDog', 'WalkingWithDog', 'WalkingWithDog', 'WalkingWithDog', 'WalkingWithDog', 'Surfing', 'WalkingWithDog', 'WalkingWithDog', 'WalkingWithDog', 'WalkingWithDog', 'WalkingWithDog', 'WalkingWithDog', 'WalkingWithDog', 'WalkingWithDog', 'WalkingWithDog', 'WalkingWithDog', 'WalkingWithDog', 'WalkingWithDog', 'WalkingWithDog', 'WalkingWithDog', 'WalkingWithDog', 'WalkingWithDog', 'WalkingWithDog', 'WalkingWithDog', 'WalkingWithDog', 'WalkingWithDog', 'Knitting', 'Knitting', 'Knitting', 'Knitting', 'Knitting', 'Knitting', 'Knitting', 'Knitting', 'Knitting', 'Knitting', 'Knitting']\n"
     ]
    },
    {
     "name": "stderr",
     "output_type": "stream",
     "text": [
      " 76%|█████████████████████████████████████████████████████████████▏                  | 159/208 [03:14<01:11,  1.46s/it]"
     ]
    },
    {
     "name": "stdout",
     "output_type": "stream",
     "text": [
      "['BabyCrawling', 'BabyCrawling', 'BabyCrawling', 'BabyCrawling', 'BabyCrawling', 'BabyCrawling', 'BabyCrawling', 'BabyCrawling', 'BabyCrawling', 'BabyCrawling', 'BabyCrawling', 'BabyCrawling', 'BabyCrawling', 'BabyCrawling', 'BabyCrawling', 'BabyCrawling', 'BabyCrawling', 'BabyCrawling', 'BabyCrawling', 'BabyCrawling', 'BabyCrawling', 'BabyCrawling', 'BabyCrawling', 'BabyCrawling', 'BabyCrawling', 'BabyCrawling', 'BabyCrawling', 'BabyCrawling', 'BabyCrawling', 'BabyCrawling', 'BabyCrawling', 'BabyCrawling', 'BabyCrawling', 'BabyCrawling', 'BabyCrawling', 'Surfing', 'Surfing', 'Surfing', 'Surfing', 'Surfing', 'Surfing', 'Surfing', 'Surfing', 'Surfing', 'Surfing', 'Surfing', 'Surfing', 'Surfing', 'Surfing', 'Surfing', 'Surfing', 'Surfing', 'Surfing', 'Surfing', 'Surfing', 'Surfing', 'Surfing', 'Surfing', 'Surfing', 'Surfing', 'Surfing', 'Surfing', 'Surfing', 'Surfing', 'Surfing', 'Surfing', 'Surfing', 'Surfing', 'Typing', 'Typing', 'Typing', 'Typing', 'Typing', 'Typing', 'Typing', 'Typing', 'Typing', 'Typing', 'Typing', 'Typing', 'Typing', 'Typing', 'Typing', 'Typing', 'Typing', 'Typing', 'Typing', 'Typing', 'Typing', 'Typing', 'Typing', 'Typing', 'Typing', 'Typing', 'Typing', 'Typing', 'Typing', 'Typing', 'Typing', 'Typing', 'Typing', 'Typing', 'Typing', 'Typing', 'Typing', 'Typing', 'Typing', 'Typing', 'Typing', 'Typing', 'Typing', 'WalkingWithDog', 'WalkingWithDog', 'WalkingWithDog', 'WalkingWithDog', 'WalkingWithDog', 'WalkingWithDog', 'WalkingWithDog', 'WalkingWithDog', 'WalkingWithDog', 'WalkingWithDog', 'WalkingWithDog', 'WalkingWithDog', 'WalkingWithDog', 'WalkingWithDog', 'WalkingWithDog', 'WalkingWithDog', 'WalkingWithDog', 'WalkingWithDog', 'WalkingWithDog', 'WalkingWithDog', 'WalkingWithDog', 'WalkingWithDog', 'WalkingWithDog', 'WalkingWithDog', 'WalkingWithDog', 'WalkingWithDog', 'WalkingWithDog', 'WalkingWithDog', 'WalkingWithDog', 'WalkingWithDog', 'WalkingWithDog', 'WalkingWithDog', 'WalkingWithDog', 'WalkingWithDog', 'WalkingWithDog', 'WalkingWithDog', 'Knitting', 'Knitting', 'Knitting', 'Knitting', 'Knitting', 'Knitting', 'Knitting', 'Knitting', 'Knitting', 'Knitting', 'Knitting', 'Knitting']\n",
      "['BabyCrawling', 'BabyCrawling', 'BabyCrawling', 'BabyCrawling', 'BabyCrawling', 'BabyCrawling', 'BabyCrawling', 'BabyCrawling', 'BabyCrawling', 'BabyCrawling', 'BabyCrawling', 'BabyCrawling', 'BabyCrawling', 'BabyCrawling', 'BabyCrawling', 'BabyCrawling', 'BabyCrawling', 'BabyCrawling', 'BabyCrawling', 'BabyCrawling', 'BabyCrawling', 'BabyCrawling', 'BabyCrawling', 'BabyCrawling', 'BabyCrawling', 'BabyCrawling', 'BabyCrawling', 'BabyCrawling', 'BabyCrawling', 'BabyCrawling', 'BabyCrawling', 'BabyCrawling', 'BabyCrawling', 'BabyCrawling', 'BabyCrawling', 'Surfing', 'Surfing', 'Surfing', 'Surfing', 'Surfing', 'Surfing', 'Surfing', 'Surfing', 'Surfing', 'Surfing', 'Surfing', 'Surfing', 'Surfing', 'Surfing', 'Surfing', 'Surfing', 'Surfing', 'Surfing', 'Surfing', 'Surfing', 'Surfing', 'Surfing', 'Surfing', 'Surfing', 'Surfing', 'Surfing', 'Surfing', 'Surfing', 'Surfing', 'Surfing', 'Surfing', 'Surfing', 'Surfing', 'Typing', 'Typing', 'Typing', 'Typing', 'Typing', 'Typing', 'Typing', 'Typing', 'Typing', 'Typing', 'Typing', 'Typing', 'Typing', 'Typing', 'Typing', 'Typing', 'Typing', 'Typing', 'Typing', 'Typing', 'BabyCrawling', 'Knitting', 'Knitting', 'Knitting', 'Typing', 'Typing', 'Typing', 'Typing', 'Typing', 'Typing', 'Typing', 'Typing', 'Typing', 'Typing', 'Typing', 'Typing', 'Typing', 'Typing', 'Typing', 'Typing', 'Typing', 'Typing', 'Typing', 'WalkingWithDog', 'WalkingWithDog', 'WalkingWithDog', 'WalkingWithDog', 'WalkingWithDog', 'WalkingWithDog', 'WalkingWithDog', 'WalkingWithDog', 'WalkingWithDog', 'WalkingWithDog', 'WalkingWithDog', 'WalkingWithDog', 'WalkingWithDog', 'WalkingWithDog', 'WalkingWithDog', 'Surfing', 'WalkingWithDog', 'WalkingWithDog', 'WalkingWithDog', 'WalkingWithDog', 'WalkingWithDog', 'WalkingWithDog', 'WalkingWithDog', 'WalkingWithDog', 'WalkingWithDog', 'WalkingWithDog', 'WalkingWithDog', 'WalkingWithDog', 'WalkingWithDog', 'WalkingWithDog', 'WalkingWithDog', 'WalkingWithDog', 'WalkingWithDog', 'WalkingWithDog', 'WalkingWithDog', 'WalkingWithDog', 'Knitting', 'Knitting', 'Knitting', 'Knitting', 'Knitting', 'Knitting', 'Knitting', 'Knitting', 'Knitting', 'Knitting', 'Knitting', 'Knitting']\n"
     ]
    },
    {
     "name": "stderr",
     "output_type": "stream",
     "text": [
      " 77%|█████████████████████████████████████████████████████████████▌                  | 160/208 [03:16<01:10,  1.47s/it]"
     ]
    },
    {
     "name": "stdout",
     "output_type": "stream",
     "text": [
      "['BabyCrawling', 'BabyCrawling', 'BabyCrawling', 'BabyCrawling', 'BabyCrawling', 'BabyCrawling', 'BabyCrawling', 'BabyCrawling', 'BabyCrawling', 'BabyCrawling', 'BabyCrawling', 'BabyCrawling', 'BabyCrawling', 'BabyCrawling', 'BabyCrawling', 'BabyCrawling', 'BabyCrawling', 'BabyCrawling', 'BabyCrawling', 'BabyCrawling', 'BabyCrawling', 'BabyCrawling', 'BabyCrawling', 'BabyCrawling', 'BabyCrawling', 'BabyCrawling', 'BabyCrawling', 'BabyCrawling', 'BabyCrawling', 'BabyCrawling', 'BabyCrawling', 'BabyCrawling', 'BabyCrawling', 'BabyCrawling', 'BabyCrawling', 'Surfing', 'Surfing', 'Surfing', 'Surfing', 'Surfing', 'Surfing', 'Surfing', 'Surfing', 'Surfing', 'Surfing', 'Surfing', 'Surfing', 'Surfing', 'Surfing', 'Surfing', 'Surfing', 'Surfing', 'Surfing', 'Surfing', 'Surfing', 'Surfing', 'Surfing', 'Surfing', 'Surfing', 'Surfing', 'Surfing', 'Surfing', 'Surfing', 'Surfing', 'Surfing', 'Surfing', 'Surfing', 'Surfing', 'Typing', 'Typing', 'Typing', 'Typing', 'Typing', 'Typing', 'Typing', 'Typing', 'Typing', 'Typing', 'Typing', 'Typing', 'Typing', 'Typing', 'Typing', 'Typing', 'Typing', 'Typing', 'Typing', 'Typing', 'Typing', 'Typing', 'Typing', 'Typing', 'Typing', 'Typing', 'Typing', 'Typing', 'Typing', 'Typing', 'Typing', 'Typing', 'Typing', 'Typing', 'Typing', 'Typing', 'Typing', 'Typing', 'Typing', 'Typing', 'Typing', 'Typing', 'Typing', 'WalkingWithDog', 'WalkingWithDog', 'WalkingWithDog', 'WalkingWithDog', 'WalkingWithDog', 'WalkingWithDog', 'WalkingWithDog', 'WalkingWithDog', 'WalkingWithDog', 'WalkingWithDog', 'WalkingWithDog', 'WalkingWithDog', 'WalkingWithDog', 'WalkingWithDog', 'WalkingWithDog', 'WalkingWithDog', 'WalkingWithDog', 'WalkingWithDog', 'WalkingWithDog', 'WalkingWithDog', 'WalkingWithDog', 'WalkingWithDog', 'WalkingWithDog', 'WalkingWithDog', 'WalkingWithDog', 'WalkingWithDog', 'WalkingWithDog', 'WalkingWithDog', 'WalkingWithDog', 'WalkingWithDog', 'WalkingWithDog', 'WalkingWithDog', 'WalkingWithDog', 'WalkingWithDog', 'WalkingWithDog', 'WalkingWithDog', 'Knitting', 'Knitting', 'Knitting', 'Knitting', 'Knitting', 'Knitting', 'Knitting', 'Knitting', 'Knitting', 'Knitting', 'Knitting', 'Knitting', 'Knitting']\n",
      "['BabyCrawling', 'BabyCrawling', 'BabyCrawling', 'BabyCrawling', 'BabyCrawling', 'BabyCrawling', 'BabyCrawling', 'BabyCrawling', 'BabyCrawling', 'BabyCrawling', 'BabyCrawling', 'BabyCrawling', 'BabyCrawling', 'BabyCrawling', 'BabyCrawling', 'BabyCrawling', 'BabyCrawling', 'BabyCrawling', 'BabyCrawling', 'BabyCrawling', 'BabyCrawling', 'BabyCrawling', 'BabyCrawling', 'BabyCrawling', 'BabyCrawling', 'BabyCrawling', 'BabyCrawling', 'BabyCrawling', 'BabyCrawling', 'BabyCrawling', 'BabyCrawling', 'BabyCrawling', 'BabyCrawling', 'BabyCrawling', 'BabyCrawling', 'Surfing', 'Surfing', 'Surfing', 'Surfing', 'Surfing', 'Surfing', 'Surfing', 'Surfing', 'Surfing', 'Surfing', 'Surfing', 'Surfing', 'Surfing', 'Surfing', 'Surfing', 'Surfing', 'Surfing', 'Surfing', 'Surfing', 'Surfing', 'Surfing', 'Surfing', 'Surfing', 'Surfing', 'Surfing', 'Surfing', 'Surfing', 'Surfing', 'Surfing', 'Surfing', 'Surfing', 'Surfing', 'Surfing', 'Typing', 'Typing', 'Typing', 'Typing', 'Typing', 'Typing', 'Typing', 'Typing', 'Typing', 'Typing', 'Typing', 'Typing', 'Typing', 'Typing', 'Typing', 'Typing', 'Typing', 'Typing', 'Typing', 'Typing', 'BabyCrawling', 'Knitting', 'Knitting', 'Knitting', 'Typing', 'Typing', 'Typing', 'Typing', 'Typing', 'Typing', 'Typing', 'Typing', 'Typing', 'Typing', 'Typing', 'Typing', 'Typing', 'Typing', 'Typing', 'Typing', 'Typing', 'Typing', 'Typing', 'WalkingWithDog', 'WalkingWithDog', 'WalkingWithDog', 'WalkingWithDog', 'WalkingWithDog', 'WalkingWithDog', 'WalkingWithDog', 'WalkingWithDog', 'WalkingWithDog', 'WalkingWithDog', 'WalkingWithDog', 'WalkingWithDog', 'WalkingWithDog', 'WalkingWithDog', 'WalkingWithDog', 'Surfing', 'WalkingWithDog', 'WalkingWithDog', 'WalkingWithDog', 'WalkingWithDog', 'WalkingWithDog', 'WalkingWithDog', 'WalkingWithDog', 'WalkingWithDog', 'WalkingWithDog', 'WalkingWithDog', 'WalkingWithDog', 'WalkingWithDog', 'WalkingWithDog', 'WalkingWithDog', 'WalkingWithDog', 'WalkingWithDog', 'WalkingWithDog', 'WalkingWithDog', 'WalkingWithDog', 'WalkingWithDog', 'Knitting', 'Knitting', 'Knitting', 'Knitting', 'Knitting', 'Knitting', 'Knitting', 'Knitting', 'Knitting', 'Knitting', 'Knitting', 'Knitting', 'Knitting']\n"
     ]
    },
    {
     "name": "stderr",
     "output_type": "stream",
     "text": [
      " 77%|█████████████████████████████████████████████████████████████▉                  | 161/208 [03:17<01:06,  1.42s/it]"
     ]
    },
    {
     "name": "stdout",
     "output_type": "stream",
     "text": [
      "['BabyCrawling', 'BabyCrawling', 'BabyCrawling', 'BabyCrawling', 'BabyCrawling', 'BabyCrawling', 'BabyCrawling', 'BabyCrawling', 'BabyCrawling', 'BabyCrawling', 'BabyCrawling', 'BabyCrawling', 'BabyCrawling', 'BabyCrawling', 'BabyCrawling', 'BabyCrawling', 'BabyCrawling', 'BabyCrawling', 'BabyCrawling', 'BabyCrawling', 'BabyCrawling', 'BabyCrawling', 'BabyCrawling', 'BabyCrawling', 'BabyCrawling', 'BabyCrawling', 'BabyCrawling', 'BabyCrawling', 'BabyCrawling', 'BabyCrawling', 'BabyCrawling', 'BabyCrawling', 'BabyCrawling', 'BabyCrawling', 'BabyCrawling', 'Surfing', 'Surfing', 'Surfing', 'Surfing', 'Surfing', 'Surfing', 'Surfing', 'Surfing', 'Surfing', 'Surfing', 'Surfing', 'Surfing', 'Surfing', 'Surfing', 'Surfing', 'Surfing', 'Surfing', 'Surfing', 'Surfing', 'Surfing', 'Surfing', 'Surfing', 'Surfing', 'Surfing', 'Surfing', 'Surfing', 'Surfing', 'Surfing', 'Surfing', 'Surfing', 'Surfing', 'Surfing', 'Surfing', 'Typing', 'Typing', 'Typing', 'Typing', 'Typing', 'Typing', 'Typing', 'Typing', 'Typing', 'Typing', 'Typing', 'Typing', 'Typing', 'Typing', 'Typing', 'Typing', 'Typing', 'Typing', 'Typing', 'Typing', 'Typing', 'Typing', 'Typing', 'Typing', 'Typing', 'Typing', 'Typing', 'Typing', 'Typing', 'Typing', 'Typing', 'Typing', 'Typing', 'Typing', 'Typing', 'Typing', 'Typing', 'Typing', 'Typing', 'Typing', 'Typing', 'Typing', 'Typing', 'WalkingWithDog', 'WalkingWithDog', 'WalkingWithDog', 'WalkingWithDog', 'WalkingWithDog', 'WalkingWithDog', 'WalkingWithDog', 'WalkingWithDog', 'WalkingWithDog', 'WalkingWithDog', 'WalkingWithDog', 'WalkingWithDog', 'WalkingWithDog', 'WalkingWithDog', 'WalkingWithDog', 'WalkingWithDog', 'WalkingWithDog', 'WalkingWithDog', 'WalkingWithDog', 'WalkingWithDog', 'WalkingWithDog', 'WalkingWithDog', 'WalkingWithDog', 'WalkingWithDog', 'WalkingWithDog', 'WalkingWithDog', 'WalkingWithDog', 'WalkingWithDog', 'WalkingWithDog', 'WalkingWithDog', 'WalkingWithDog', 'WalkingWithDog', 'WalkingWithDog', 'WalkingWithDog', 'WalkingWithDog', 'WalkingWithDog', 'Knitting', 'Knitting', 'Knitting', 'Knitting', 'Knitting', 'Knitting', 'Knitting', 'Knitting', 'Knitting', 'Knitting', 'Knitting', 'Knitting', 'Knitting', 'Knitting']\n",
      "['BabyCrawling', 'BabyCrawling', 'BabyCrawling', 'BabyCrawling', 'BabyCrawling', 'BabyCrawling', 'BabyCrawling', 'BabyCrawling', 'BabyCrawling', 'BabyCrawling', 'BabyCrawling', 'BabyCrawling', 'BabyCrawling', 'BabyCrawling', 'BabyCrawling', 'BabyCrawling', 'BabyCrawling', 'BabyCrawling', 'BabyCrawling', 'BabyCrawling', 'BabyCrawling', 'BabyCrawling', 'BabyCrawling', 'BabyCrawling', 'BabyCrawling', 'BabyCrawling', 'BabyCrawling', 'BabyCrawling', 'BabyCrawling', 'BabyCrawling', 'BabyCrawling', 'BabyCrawling', 'BabyCrawling', 'BabyCrawling', 'BabyCrawling', 'Surfing', 'Surfing', 'Surfing', 'Surfing', 'Surfing', 'Surfing', 'Surfing', 'Surfing', 'Surfing', 'Surfing', 'Surfing', 'Surfing', 'Surfing', 'Surfing', 'Surfing', 'Surfing', 'Surfing', 'Surfing', 'Surfing', 'Surfing', 'Surfing', 'Surfing', 'Surfing', 'Surfing', 'Surfing', 'Surfing', 'Surfing', 'Surfing', 'Surfing', 'Surfing', 'Surfing', 'Surfing', 'Surfing', 'Typing', 'Typing', 'Typing', 'Typing', 'Typing', 'Typing', 'Typing', 'Typing', 'Typing', 'Typing', 'Typing', 'Typing', 'Typing', 'Typing', 'Typing', 'Typing', 'Typing', 'Typing', 'Typing', 'Typing', 'BabyCrawling', 'Knitting', 'Knitting', 'Knitting', 'Typing', 'Typing', 'Typing', 'Typing', 'Typing', 'Typing', 'Typing', 'Typing', 'Typing', 'Typing', 'Typing', 'Typing', 'Typing', 'Typing', 'Typing', 'Typing', 'Typing', 'Typing', 'Typing', 'WalkingWithDog', 'WalkingWithDog', 'WalkingWithDog', 'WalkingWithDog', 'WalkingWithDog', 'WalkingWithDog', 'WalkingWithDog', 'WalkingWithDog', 'WalkingWithDog', 'WalkingWithDog', 'WalkingWithDog', 'WalkingWithDog', 'WalkingWithDog', 'WalkingWithDog', 'WalkingWithDog', 'Surfing', 'WalkingWithDog', 'WalkingWithDog', 'WalkingWithDog', 'WalkingWithDog', 'WalkingWithDog', 'WalkingWithDog', 'WalkingWithDog', 'WalkingWithDog', 'WalkingWithDog', 'WalkingWithDog', 'WalkingWithDog', 'WalkingWithDog', 'WalkingWithDog', 'WalkingWithDog', 'WalkingWithDog', 'WalkingWithDog', 'WalkingWithDog', 'WalkingWithDog', 'WalkingWithDog', 'WalkingWithDog', 'Knitting', 'Knitting', 'Knitting', 'Knitting', 'Knitting', 'Knitting', 'Knitting', 'Knitting', 'Knitting', 'Knitting', 'Knitting', 'Knitting', 'Knitting', 'Knitting']\n"
     ]
    },
    {
     "name": "stderr",
     "output_type": "stream",
     "text": [
      " 78%|██████████████████████████████████████████████████████████████▎                 | 162/208 [03:18<01:03,  1.38s/it]"
     ]
    },
    {
     "name": "stdout",
     "output_type": "stream",
     "text": [
      "['BabyCrawling', 'BabyCrawling', 'BabyCrawling', 'BabyCrawling', 'BabyCrawling', 'BabyCrawling', 'BabyCrawling', 'BabyCrawling', 'BabyCrawling', 'BabyCrawling', 'BabyCrawling', 'BabyCrawling', 'BabyCrawling', 'BabyCrawling', 'BabyCrawling', 'BabyCrawling', 'BabyCrawling', 'BabyCrawling', 'BabyCrawling', 'BabyCrawling', 'BabyCrawling', 'BabyCrawling', 'BabyCrawling', 'BabyCrawling', 'BabyCrawling', 'BabyCrawling', 'BabyCrawling', 'BabyCrawling', 'BabyCrawling', 'BabyCrawling', 'BabyCrawling', 'BabyCrawling', 'BabyCrawling', 'BabyCrawling', 'BabyCrawling', 'Surfing', 'Surfing', 'Surfing', 'Surfing', 'Surfing', 'Surfing', 'Surfing', 'Surfing', 'Surfing', 'Surfing', 'Surfing', 'Surfing', 'Surfing', 'Surfing', 'Surfing', 'Surfing', 'Surfing', 'Surfing', 'Surfing', 'Surfing', 'Surfing', 'Surfing', 'Surfing', 'Surfing', 'Surfing', 'Surfing', 'Surfing', 'Surfing', 'Surfing', 'Surfing', 'Surfing', 'Surfing', 'Surfing', 'Typing', 'Typing', 'Typing', 'Typing', 'Typing', 'Typing', 'Typing', 'Typing', 'Typing', 'Typing', 'Typing', 'Typing', 'Typing', 'Typing', 'Typing', 'Typing', 'Typing', 'Typing', 'Typing', 'Typing', 'Typing', 'Typing', 'Typing', 'Typing', 'Typing', 'Typing', 'Typing', 'Typing', 'Typing', 'Typing', 'Typing', 'Typing', 'Typing', 'Typing', 'Typing', 'Typing', 'Typing', 'Typing', 'Typing', 'Typing', 'Typing', 'Typing', 'Typing', 'WalkingWithDog', 'WalkingWithDog', 'WalkingWithDog', 'WalkingWithDog', 'WalkingWithDog', 'WalkingWithDog', 'WalkingWithDog', 'WalkingWithDog', 'WalkingWithDog', 'WalkingWithDog', 'WalkingWithDog', 'WalkingWithDog', 'WalkingWithDog', 'WalkingWithDog', 'WalkingWithDog', 'WalkingWithDog', 'WalkingWithDog', 'WalkingWithDog', 'WalkingWithDog', 'WalkingWithDog', 'WalkingWithDog', 'WalkingWithDog', 'WalkingWithDog', 'WalkingWithDog', 'WalkingWithDog', 'WalkingWithDog', 'WalkingWithDog', 'WalkingWithDog', 'WalkingWithDog', 'WalkingWithDog', 'WalkingWithDog', 'WalkingWithDog', 'WalkingWithDog', 'WalkingWithDog', 'WalkingWithDog', 'WalkingWithDog', 'Knitting', 'Knitting', 'Knitting', 'Knitting', 'Knitting', 'Knitting', 'Knitting', 'Knitting', 'Knitting', 'Knitting', 'Knitting', 'Knitting', 'Knitting', 'Knitting', 'Knitting']\n",
      "['BabyCrawling', 'BabyCrawling', 'BabyCrawling', 'BabyCrawling', 'BabyCrawling', 'BabyCrawling', 'BabyCrawling', 'BabyCrawling', 'BabyCrawling', 'BabyCrawling', 'BabyCrawling', 'BabyCrawling', 'BabyCrawling', 'BabyCrawling', 'BabyCrawling', 'BabyCrawling', 'BabyCrawling', 'BabyCrawling', 'BabyCrawling', 'BabyCrawling', 'BabyCrawling', 'BabyCrawling', 'BabyCrawling', 'BabyCrawling', 'BabyCrawling', 'BabyCrawling', 'BabyCrawling', 'BabyCrawling', 'BabyCrawling', 'BabyCrawling', 'BabyCrawling', 'BabyCrawling', 'BabyCrawling', 'BabyCrawling', 'BabyCrawling', 'Surfing', 'Surfing', 'Surfing', 'Surfing', 'Surfing', 'Surfing', 'Surfing', 'Surfing', 'Surfing', 'Surfing', 'Surfing', 'Surfing', 'Surfing', 'Surfing', 'Surfing', 'Surfing', 'Surfing', 'Surfing', 'Surfing', 'Surfing', 'Surfing', 'Surfing', 'Surfing', 'Surfing', 'Surfing', 'Surfing', 'Surfing', 'Surfing', 'Surfing', 'Surfing', 'Surfing', 'Surfing', 'Surfing', 'Typing', 'Typing', 'Typing', 'Typing', 'Typing', 'Typing', 'Typing', 'Typing', 'Typing', 'Typing', 'Typing', 'Typing', 'Typing', 'Typing', 'Typing', 'Typing', 'Typing', 'Typing', 'Typing', 'Typing', 'BabyCrawling', 'Knitting', 'Knitting', 'Knitting', 'Typing', 'Typing', 'Typing', 'Typing', 'Typing', 'Typing', 'Typing', 'Typing', 'Typing', 'Typing', 'Typing', 'Typing', 'Typing', 'Typing', 'Typing', 'Typing', 'Typing', 'Typing', 'Typing', 'WalkingWithDog', 'WalkingWithDog', 'WalkingWithDog', 'WalkingWithDog', 'WalkingWithDog', 'WalkingWithDog', 'WalkingWithDog', 'WalkingWithDog', 'WalkingWithDog', 'WalkingWithDog', 'WalkingWithDog', 'WalkingWithDog', 'WalkingWithDog', 'WalkingWithDog', 'WalkingWithDog', 'Surfing', 'WalkingWithDog', 'WalkingWithDog', 'WalkingWithDog', 'WalkingWithDog', 'WalkingWithDog', 'WalkingWithDog', 'WalkingWithDog', 'WalkingWithDog', 'WalkingWithDog', 'WalkingWithDog', 'WalkingWithDog', 'WalkingWithDog', 'WalkingWithDog', 'WalkingWithDog', 'WalkingWithDog', 'WalkingWithDog', 'WalkingWithDog', 'WalkingWithDog', 'WalkingWithDog', 'WalkingWithDog', 'Knitting', 'Knitting', 'Knitting', 'Knitting', 'Knitting', 'Knitting', 'Knitting', 'Knitting', 'Knitting', 'Knitting', 'Knitting', 'Knitting', 'Knitting', 'Knitting', 'Knitting']\n"
     ]
    },
    {
     "name": "stderr",
     "output_type": "stream",
     "text": [
      " 78%|██████████████████████████████████████████████████████████████▋                 | 163/208 [03:20<01:03,  1.40s/it]"
     ]
    },
    {
     "name": "stdout",
     "output_type": "stream",
     "text": [
      "['BabyCrawling', 'BabyCrawling', 'BabyCrawling', 'BabyCrawling', 'BabyCrawling', 'BabyCrawling', 'BabyCrawling', 'BabyCrawling', 'BabyCrawling', 'BabyCrawling', 'BabyCrawling', 'BabyCrawling', 'BabyCrawling', 'BabyCrawling', 'BabyCrawling', 'BabyCrawling', 'BabyCrawling', 'BabyCrawling', 'BabyCrawling', 'BabyCrawling', 'BabyCrawling', 'BabyCrawling', 'BabyCrawling', 'BabyCrawling', 'BabyCrawling', 'BabyCrawling', 'BabyCrawling', 'BabyCrawling', 'BabyCrawling', 'BabyCrawling', 'BabyCrawling', 'BabyCrawling', 'BabyCrawling', 'BabyCrawling', 'BabyCrawling', 'Surfing', 'Surfing', 'Surfing', 'Surfing', 'Surfing', 'Surfing', 'Surfing', 'Surfing', 'Surfing', 'Surfing', 'Surfing', 'Surfing', 'Surfing', 'Surfing', 'Surfing', 'Surfing', 'Surfing', 'Surfing', 'Surfing', 'Surfing', 'Surfing', 'Surfing', 'Surfing', 'Surfing', 'Surfing', 'Surfing', 'Surfing', 'Surfing', 'Surfing', 'Surfing', 'Surfing', 'Surfing', 'Surfing', 'Typing', 'Typing', 'Typing', 'Typing', 'Typing', 'Typing', 'Typing', 'Typing', 'Typing', 'Typing', 'Typing', 'Typing', 'Typing', 'Typing', 'Typing', 'Typing', 'Typing', 'Typing', 'Typing', 'Typing', 'Typing', 'Typing', 'Typing', 'Typing', 'Typing', 'Typing', 'Typing', 'Typing', 'Typing', 'Typing', 'Typing', 'Typing', 'Typing', 'Typing', 'Typing', 'Typing', 'Typing', 'Typing', 'Typing', 'Typing', 'Typing', 'Typing', 'Typing', 'WalkingWithDog', 'WalkingWithDog', 'WalkingWithDog', 'WalkingWithDog', 'WalkingWithDog', 'WalkingWithDog', 'WalkingWithDog', 'WalkingWithDog', 'WalkingWithDog', 'WalkingWithDog', 'WalkingWithDog', 'WalkingWithDog', 'WalkingWithDog', 'WalkingWithDog', 'WalkingWithDog', 'WalkingWithDog', 'WalkingWithDog', 'WalkingWithDog', 'WalkingWithDog', 'WalkingWithDog', 'WalkingWithDog', 'WalkingWithDog', 'WalkingWithDog', 'WalkingWithDog', 'WalkingWithDog', 'WalkingWithDog', 'WalkingWithDog', 'WalkingWithDog', 'WalkingWithDog', 'WalkingWithDog', 'WalkingWithDog', 'WalkingWithDog', 'WalkingWithDog', 'WalkingWithDog', 'WalkingWithDog', 'WalkingWithDog', 'Knitting', 'Knitting', 'Knitting', 'Knitting', 'Knitting', 'Knitting', 'Knitting', 'Knitting', 'Knitting', 'Knitting', 'Knitting', 'Knitting', 'Knitting', 'Knitting', 'Knitting', 'Knitting']\n",
      "['BabyCrawling', 'BabyCrawling', 'BabyCrawling', 'BabyCrawling', 'BabyCrawling', 'BabyCrawling', 'BabyCrawling', 'BabyCrawling', 'BabyCrawling', 'BabyCrawling', 'BabyCrawling', 'BabyCrawling', 'BabyCrawling', 'BabyCrawling', 'BabyCrawling', 'BabyCrawling', 'BabyCrawling', 'BabyCrawling', 'BabyCrawling', 'BabyCrawling', 'BabyCrawling', 'BabyCrawling', 'BabyCrawling', 'BabyCrawling', 'BabyCrawling', 'BabyCrawling', 'BabyCrawling', 'BabyCrawling', 'BabyCrawling', 'BabyCrawling', 'BabyCrawling', 'BabyCrawling', 'BabyCrawling', 'BabyCrawling', 'BabyCrawling', 'Surfing', 'Surfing', 'Surfing', 'Surfing', 'Surfing', 'Surfing', 'Surfing', 'Surfing', 'Surfing', 'Surfing', 'Surfing', 'Surfing', 'Surfing', 'Surfing', 'Surfing', 'Surfing', 'Surfing', 'Surfing', 'Surfing', 'Surfing', 'Surfing', 'Surfing', 'Surfing', 'Surfing', 'Surfing', 'Surfing', 'Surfing', 'Surfing', 'Surfing', 'Surfing', 'Surfing', 'Surfing', 'Surfing', 'Typing', 'Typing', 'Typing', 'Typing', 'Typing', 'Typing', 'Typing', 'Typing', 'Typing', 'Typing', 'Typing', 'Typing', 'Typing', 'Typing', 'Typing', 'Typing', 'Typing', 'Typing', 'Typing', 'Typing', 'BabyCrawling', 'Knitting', 'Knitting', 'Knitting', 'Typing', 'Typing', 'Typing', 'Typing', 'Typing', 'Typing', 'Typing', 'Typing', 'Typing', 'Typing', 'Typing', 'Typing', 'Typing', 'Typing', 'Typing', 'Typing', 'Typing', 'Typing', 'Typing', 'WalkingWithDog', 'WalkingWithDog', 'WalkingWithDog', 'WalkingWithDog', 'WalkingWithDog', 'WalkingWithDog', 'WalkingWithDog', 'WalkingWithDog', 'WalkingWithDog', 'WalkingWithDog', 'WalkingWithDog', 'WalkingWithDog', 'WalkingWithDog', 'WalkingWithDog', 'WalkingWithDog', 'Surfing', 'WalkingWithDog', 'WalkingWithDog', 'WalkingWithDog', 'WalkingWithDog', 'WalkingWithDog', 'WalkingWithDog', 'WalkingWithDog', 'WalkingWithDog', 'WalkingWithDog', 'WalkingWithDog', 'WalkingWithDog', 'WalkingWithDog', 'WalkingWithDog', 'WalkingWithDog', 'WalkingWithDog', 'WalkingWithDog', 'WalkingWithDog', 'WalkingWithDog', 'WalkingWithDog', 'WalkingWithDog', 'Knitting', 'Knitting', 'Knitting', 'Knitting', 'Knitting', 'Knitting', 'Knitting', 'Knitting', 'Knitting', 'Knitting', 'Knitting', 'Knitting', 'Knitting', 'Knitting', 'Knitting', 'Knitting']\n"
     ]
    },
    {
     "name": "stderr",
     "output_type": "stream",
     "text": [
      " 79%|███████████████████████████████████████████████████████████████                 | 164/208 [03:21<01:02,  1.42s/it]"
     ]
    },
    {
     "name": "stdout",
     "output_type": "stream",
     "text": [
      "['BabyCrawling', 'BabyCrawling', 'BabyCrawling', 'BabyCrawling', 'BabyCrawling', 'BabyCrawling', 'BabyCrawling', 'BabyCrawling', 'BabyCrawling', 'BabyCrawling', 'BabyCrawling', 'BabyCrawling', 'BabyCrawling', 'BabyCrawling', 'BabyCrawling', 'BabyCrawling', 'BabyCrawling', 'BabyCrawling', 'BabyCrawling', 'BabyCrawling', 'BabyCrawling', 'BabyCrawling', 'BabyCrawling', 'BabyCrawling', 'BabyCrawling', 'BabyCrawling', 'BabyCrawling', 'BabyCrawling', 'BabyCrawling', 'BabyCrawling', 'BabyCrawling', 'BabyCrawling', 'BabyCrawling', 'BabyCrawling', 'BabyCrawling', 'Surfing', 'Surfing', 'Surfing', 'Surfing', 'Surfing', 'Surfing', 'Surfing', 'Surfing', 'Surfing', 'Surfing', 'Surfing', 'Surfing', 'Surfing', 'Surfing', 'Surfing', 'Surfing', 'Surfing', 'Surfing', 'Surfing', 'Surfing', 'Surfing', 'Surfing', 'Surfing', 'Surfing', 'Surfing', 'Surfing', 'Surfing', 'Surfing', 'Surfing', 'Surfing', 'Surfing', 'Surfing', 'Surfing', 'Typing', 'Typing', 'Typing', 'Typing', 'Typing', 'Typing', 'Typing', 'Typing', 'Typing', 'Typing', 'Typing', 'Typing', 'Typing', 'Typing', 'Typing', 'Typing', 'Typing', 'Typing', 'Typing', 'Typing', 'Typing', 'Typing', 'Typing', 'Typing', 'Typing', 'Typing', 'Typing', 'Typing', 'Typing', 'Typing', 'Typing', 'Typing', 'Typing', 'Typing', 'Typing', 'Typing', 'Typing', 'Typing', 'Typing', 'Typing', 'Typing', 'Typing', 'Typing', 'WalkingWithDog', 'WalkingWithDog', 'WalkingWithDog', 'WalkingWithDog', 'WalkingWithDog', 'WalkingWithDog', 'WalkingWithDog', 'WalkingWithDog', 'WalkingWithDog', 'WalkingWithDog', 'WalkingWithDog', 'WalkingWithDog', 'WalkingWithDog', 'WalkingWithDog', 'WalkingWithDog', 'WalkingWithDog', 'WalkingWithDog', 'WalkingWithDog', 'WalkingWithDog', 'WalkingWithDog', 'WalkingWithDog', 'WalkingWithDog', 'WalkingWithDog', 'WalkingWithDog', 'WalkingWithDog', 'WalkingWithDog', 'WalkingWithDog', 'WalkingWithDog', 'WalkingWithDog', 'WalkingWithDog', 'WalkingWithDog', 'WalkingWithDog', 'WalkingWithDog', 'WalkingWithDog', 'WalkingWithDog', 'WalkingWithDog', 'Knitting', 'Knitting', 'Knitting', 'Knitting', 'Knitting', 'Knitting', 'Knitting', 'Knitting', 'Knitting', 'Knitting', 'Knitting', 'Knitting', 'Knitting', 'Knitting', 'Knitting', 'Knitting', 'Knitting']\n",
      "['BabyCrawling', 'BabyCrawling', 'BabyCrawling', 'BabyCrawling', 'BabyCrawling', 'BabyCrawling', 'BabyCrawling', 'BabyCrawling', 'BabyCrawling', 'BabyCrawling', 'BabyCrawling', 'BabyCrawling', 'BabyCrawling', 'BabyCrawling', 'BabyCrawling', 'BabyCrawling', 'BabyCrawling', 'BabyCrawling', 'BabyCrawling', 'BabyCrawling', 'BabyCrawling', 'BabyCrawling', 'BabyCrawling', 'BabyCrawling', 'BabyCrawling', 'BabyCrawling', 'BabyCrawling', 'BabyCrawling', 'BabyCrawling', 'BabyCrawling', 'BabyCrawling', 'BabyCrawling', 'BabyCrawling', 'BabyCrawling', 'BabyCrawling', 'Surfing', 'Surfing', 'Surfing', 'Surfing', 'Surfing', 'Surfing', 'Surfing', 'Surfing', 'Surfing', 'Surfing', 'Surfing', 'Surfing', 'Surfing', 'Surfing', 'Surfing', 'Surfing', 'Surfing', 'Surfing', 'Surfing', 'Surfing', 'Surfing', 'Surfing', 'Surfing', 'Surfing', 'Surfing', 'Surfing', 'Surfing', 'Surfing', 'Surfing', 'Surfing', 'Surfing', 'Surfing', 'Surfing', 'Typing', 'Typing', 'Typing', 'Typing', 'Typing', 'Typing', 'Typing', 'Typing', 'Typing', 'Typing', 'Typing', 'Typing', 'Typing', 'Typing', 'Typing', 'Typing', 'Typing', 'Typing', 'Typing', 'Typing', 'BabyCrawling', 'Knitting', 'Knitting', 'Knitting', 'Typing', 'Typing', 'Typing', 'Typing', 'Typing', 'Typing', 'Typing', 'Typing', 'Typing', 'Typing', 'Typing', 'Typing', 'Typing', 'Typing', 'Typing', 'Typing', 'Typing', 'Typing', 'Typing', 'WalkingWithDog', 'WalkingWithDog', 'WalkingWithDog', 'WalkingWithDog', 'WalkingWithDog', 'WalkingWithDog', 'WalkingWithDog', 'WalkingWithDog', 'WalkingWithDog', 'WalkingWithDog', 'WalkingWithDog', 'WalkingWithDog', 'WalkingWithDog', 'WalkingWithDog', 'WalkingWithDog', 'Surfing', 'WalkingWithDog', 'WalkingWithDog', 'WalkingWithDog', 'WalkingWithDog', 'WalkingWithDog', 'WalkingWithDog', 'WalkingWithDog', 'WalkingWithDog', 'WalkingWithDog', 'WalkingWithDog', 'WalkingWithDog', 'WalkingWithDog', 'WalkingWithDog', 'WalkingWithDog', 'WalkingWithDog', 'WalkingWithDog', 'WalkingWithDog', 'WalkingWithDog', 'WalkingWithDog', 'WalkingWithDog', 'Knitting', 'Knitting', 'Knitting', 'Knitting', 'Knitting', 'Knitting', 'Knitting', 'Knitting', 'Knitting', 'Knitting', 'Knitting', 'Knitting', 'Knitting', 'Knitting', 'Knitting', 'Knitting', 'Knitting']\n"
     ]
    },
    {
     "name": "stderr",
     "output_type": "stream",
     "text": [
      " 79%|███████████████████████████████████████████████████████████████▍                | 165/208 [03:23<01:00,  1.41s/it]"
     ]
    },
    {
     "name": "stdout",
     "output_type": "stream",
     "text": [
      "['BabyCrawling', 'BabyCrawling', 'BabyCrawling', 'BabyCrawling', 'BabyCrawling', 'BabyCrawling', 'BabyCrawling', 'BabyCrawling', 'BabyCrawling', 'BabyCrawling', 'BabyCrawling', 'BabyCrawling', 'BabyCrawling', 'BabyCrawling', 'BabyCrawling', 'BabyCrawling', 'BabyCrawling', 'BabyCrawling', 'BabyCrawling', 'BabyCrawling', 'BabyCrawling', 'BabyCrawling', 'BabyCrawling', 'BabyCrawling', 'BabyCrawling', 'BabyCrawling', 'BabyCrawling', 'BabyCrawling', 'BabyCrawling', 'BabyCrawling', 'BabyCrawling', 'BabyCrawling', 'BabyCrawling', 'BabyCrawling', 'BabyCrawling', 'Surfing', 'Surfing', 'Surfing', 'Surfing', 'Surfing', 'Surfing', 'Surfing', 'Surfing', 'Surfing', 'Surfing', 'Surfing', 'Surfing', 'Surfing', 'Surfing', 'Surfing', 'Surfing', 'Surfing', 'Surfing', 'Surfing', 'Surfing', 'Surfing', 'Surfing', 'Surfing', 'Surfing', 'Surfing', 'Surfing', 'Surfing', 'Surfing', 'Surfing', 'Surfing', 'Surfing', 'Surfing', 'Surfing', 'Typing', 'Typing', 'Typing', 'Typing', 'Typing', 'Typing', 'Typing', 'Typing', 'Typing', 'Typing', 'Typing', 'Typing', 'Typing', 'Typing', 'Typing', 'Typing', 'Typing', 'Typing', 'Typing', 'Typing', 'Typing', 'Typing', 'Typing', 'Typing', 'Typing', 'Typing', 'Typing', 'Typing', 'Typing', 'Typing', 'Typing', 'Typing', 'Typing', 'Typing', 'Typing', 'Typing', 'Typing', 'Typing', 'Typing', 'Typing', 'Typing', 'Typing', 'Typing', 'WalkingWithDog', 'WalkingWithDog', 'WalkingWithDog', 'WalkingWithDog', 'WalkingWithDog', 'WalkingWithDog', 'WalkingWithDog', 'WalkingWithDog', 'WalkingWithDog', 'WalkingWithDog', 'WalkingWithDog', 'WalkingWithDog', 'WalkingWithDog', 'WalkingWithDog', 'WalkingWithDog', 'WalkingWithDog', 'WalkingWithDog', 'WalkingWithDog', 'WalkingWithDog', 'WalkingWithDog', 'WalkingWithDog', 'WalkingWithDog', 'WalkingWithDog', 'WalkingWithDog', 'WalkingWithDog', 'WalkingWithDog', 'WalkingWithDog', 'WalkingWithDog', 'WalkingWithDog', 'WalkingWithDog', 'WalkingWithDog', 'WalkingWithDog', 'WalkingWithDog', 'WalkingWithDog', 'WalkingWithDog', 'WalkingWithDog', 'Knitting', 'Knitting', 'Knitting', 'Knitting', 'Knitting', 'Knitting', 'Knitting', 'Knitting', 'Knitting', 'Knitting', 'Knitting', 'Knitting', 'Knitting', 'Knitting', 'Knitting', 'Knitting', 'Knitting', 'Knitting']\n",
      "['BabyCrawling', 'BabyCrawling', 'BabyCrawling', 'BabyCrawling', 'BabyCrawling', 'BabyCrawling', 'BabyCrawling', 'BabyCrawling', 'BabyCrawling', 'BabyCrawling', 'BabyCrawling', 'BabyCrawling', 'BabyCrawling', 'BabyCrawling', 'BabyCrawling', 'BabyCrawling', 'BabyCrawling', 'BabyCrawling', 'BabyCrawling', 'BabyCrawling', 'BabyCrawling', 'BabyCrawling', 'BabyCrawling', 'BabyCrawling', 'BabyCrawling', 'BabyCrawling', 'BabyCrawling', 'BabyCrawling', 'BabyCrawling', 'BabyCrawling', 'BabyCrawling', 'BabyCrawling', 'BabyCrawling', 'BabyCrawling', 'BabyCrawling', 'Surfing', 'Surfing', 'Surfing', 'Surfing', 'Surfing', 'Surfing', 'Surfing', 'Surfing', 'Surfing', 'Surfing', 'Surfing', 'Surfing', 'Surfing', 'Surfing', 'Surfing', 'Surfing', 'Surfing', 'Surfing', 'Surfing', 'Surfing', 'Surfing', 'Surfing', 'Surfing', 'Surfing', 'Surfing', 'Surfing', 'Surfing', 'Surfing', 'Surfing', 'Surfing', 'Surfing', 'Surfing', 'Surfing', 'Typing', 'Typing', 'Typing', 'Typing', 'Typing', 'Typing', 'Typing', 'Typing', 'Typing', 'Typing', 'Typing', 'Typing', 'Typing', 'Typing', 'Typing', 'Typing', 'Typing', 'Typing', 'Typing', 'Typing', 'BabyCrawling', 'Knitting', 'Knitting', 'Knitting', 'Typing', 'Typing', 'Typing', 'Typing', 'Typing', 'Typing', 'Typing', 'Typing', 'Typing', 'Typing', 'Typing', 'Typing', 'Typing', 'Typing', 'Typing', 'Typing', 'Typing', 'Typing', 'Typing', 'WalkingWithDog', 'WalkingWithDog', 'WalkingWithDog', 'WalkingWithDog', 'WalkingWithDog', 'WalkingWithDog', 'WalkingWithDog', 'WalkingWithDog', 'WalkingWithDog', 'WalkingWithDog', 'WalkingWithDog', 'WalkingWithDog', 'WalkingWithDog', 'WalkingWithDog', 'WalkingWithDog', 'Surfing', 'WalkingWithDog', 'WalkingWithDog', 'WalkingWithDog', 'WalkingWithDog', 'WalkingWithDog', 'WalkingWithDog', 'WalkingWithDog', 'WalkingWithDog', 'WalkingWithDog', 'WalkingWithDog', 'WalkingWithDog', 'WalkingWithDog', 'WalkingWithDog', 'WalkingWithDog', 'WalkingWithDog', 'WalkingWithDog', 'WalkingWithDog', 'WalkingWithDog', 'WalkingWithDog', 'WalkingWithDog', 'Knitting', 'Knitting', 'Knitting', 'Knitting', 'Knitting', 'Knitting', 'Knitting', 'Knitting', 'Knitting', 'Knitting', 'Knitting', 'Knitting', 'Knitting', 'Knitting', 'Knitting', 'Knitting', 'Knitting', 'Knitting']\n"
     ]
    },
    {
     "name": "stderr",
     "output_type": "stream",
     "text": [
      " 80%|███████████████████████████████████████████████████████████████▊                | 166/208 [03:24<00:57,  1.37s/it]"
     ]
    },
    {
     "name": "stdout",
     "output_type": "stream",
     "text": [
      "['BabyCrawling', 'BabyCrawling', 'BabyCrawling', 'BabyCrawling', 'BabyCrawling', 'BabyCrawling', 'BabyCrawling', 'BabyCrawling', 'BabyCrawling', 'BabyCrawling', 'BabyCrawling', 'BabyCrawling', 'BabyCrawling', 'BabyCrawling', 'BabyCrawling', 'BabyCrawling', 'BabyCrawling', 'BabyCrawling', 'BabyCrawling', 'BabyCrawling', 'BabyCrawling', 'BabyCrawling', 'BabyCrawling', 'BabyCrawling', 'BabyCrawling', 'BabyCrawling', 'BabyCrawling', 'BabyCrawling', 'BabyCrawling', 'BabyCrawling', 'BabyCrawling', 'BabyCrawling', 'BabyCrawling', 'BabyCrawling', 'BabyCrawling', 'Surfing', 'Surfing', 'Surfing', 'Surfing', 'Surfing', 'Surfing', 'Surfing', 'Surfing', 'Surfing', 'Surfing', 'Surfing', 'Surfing', 'Surfing', 'Surfing', 'Surfing', 'Surfing', 'Surfing', 'Surfing', 'Surfing', 'Surfing', 'Surfing', 'Surfing', 'Surfing', 'Surfing', 'Surfing', 'Surfing', 'Surfing', 'Surfing', 'Surfing', 'Surfing', 'Surfing', 'Surfing', 'Surfing', 'Typing', 'Typing', 'Typing', 'Typing', 'Typing', 'Typing', 'Typing', 'Typing', 'Typing', 'Typing', 'Typing', 'Typing', 'Typing', 'Typing', 'Typing', 'Typing', 'Typing', 'Typing', 'Typing', 'Typing', 'Typing', 'Typing', 'Typing', 'Typing', 'Typing', 'Typing', 'Typing', 'Typing', 'Typing', 'Typing', 'Typing', 'Typing', 'Typing', 'Typing', 'Typing', 'Typing', 'Typing', 'Typing', 'Typing', 'Typing', 'Typing', 'Typing', 'Typing', 'WalkingWithDog', 'WalkingWithDog', 'WalkingWithDog', 'WalkingWithDog', 'WalkingWithDog', 'WalkingWithDog', 'WalkingWithDog', 'WalkingWithDog', 'WalkingWithDog', 'WalkingWithDog', 'WalkingWithDog', 'WalkingWithDog', 'WalkingWithDog', 'WalkingWithDog', 'WalkingWithDog', 'WalkingWithDog', 'WalkingWithDog', 'WalkingWithDog', 'WalkingWithDog', 'WalkingWithDog', 'WalkingWithDog', 'WalkingWithDog', 'WalkingWithDog', 'WalkingWithDog', 'WalkingWithDog', 'WalkingWithDog', 'WalkingWithDog', 'WalkingWithDog', 'WalkingWithDog', 'WalkingWithDog', 'WalkingWithDog', 'WalkingWithDog', 'WalkingWithDog', 'WalkingWithDog', 'WalkingWithDog', 'WalkingWithDog', 'Knitting', 'Knitting', 'Knitting', 'Knitting', 'Knitting', 'Knitting', 'Knitting', 'Knitting', 'Knitting', 'Knitting', 'Knitting', 'Knitting', 'Knitting', 'Knitting', 'Knitting', 'Knitting', 'Knitting', 'Knitting', 'Knitting']\n",
      "['BabyCrawling', 'BabyCrawling', 'BabyCrawling', 'BabyCrawling', 'BabyCrawling', 'BabyCrawling', 'BabyCrawling', 'BabyCrawling', 'BabyCrawling', 'BabyCrawling', 'BabyCrawling', 'BabyCrawling', 'BabyCrawling', 'BabyCrawling', 'BabyCrawling', 'BabyCrawling', 'BabyCrawling', 'BabyCrawling', 'BabyCrawling', 'BabyCrawling', 'BabyCrawling', 'BabyCrawling', 'BabyCrawling', 'BabyCrawling', 'BabyCrawling', 'BabyCrawling', 'BabyCrawling', 'BabyCrawling', 'BabyCrawling', 'BabyCrawling', 'BabyCrawling', 'BabyCrawling', 'BabyCrawling', 'BabyCrawling', 'BabyCrawling', 'Surfing', 'Surfing', 'Surfing', 'Surfing', 'Surfing', 'Surfing', 'Surfing', 'Surfing', 'Surfing', 'Surfing', 'Surfing', 'Surfing', 'Surfing', 'Surfing', 'Surfing', 'Surfing', 'Surfing', 'Surfing', 'Surfing', 'Surfing', 'Surfing', 'Surfing', 'Surfing', 'Surfing', 'Surfing', 'Surfing', 'Surfing', 'Surfing', 'Surfing', 'Surfing', 'Surfing', 'Surfing', 'Surfing', 'Typing', 'Typing', 'Typing', 'Typing', 'Typing', 'Typing', 'Typing', 'Typing', 'Typing', 'Typing', 'Typing', 'Typing', 'Typing', 'Typing', 'Typing', 'Typing', 'Typing', 'Typing', 'Typing', 'Typing', 'BabyCrawling', 'Knitting', 'Knitting', 'Knitting', 'Typing', 'Typing', 'Typing', 'Typing', 'Typing', 'Typing', 'Typing', 'Typing', 'Typing', 'Typing', 'Typing', 'Typing', 'Typing', 'Typing', 'Typing', 'Typing', 'Typing', 'Typing', 'Typing', 'WalkingWithDog', 'WalkingWithDog', 'WalkingWithDog', 'WalkingWithDog', 'WalkingWithDog', 'WalkingWithDog', 'WalkingWithDog', 'WalkingWithDog', 'WalkingWithDog', 'WalkingWithDog', 'WalkingWithDog', 'WalkingWithDog', 'WalkingWithDog', 'WalkingWithDog', 'WalkingWithDog', 'Surfing', 'WalkingWithDog', 'WalkingWithDog', 'WalkingWithDog', 'WalkingWithDog', 'WalkingWithDog', 'WalkingWithDog', 'WalkingWithDog', 'WalkingWithDog', 'WalkingWithDog', 'WalkingWithDog', 'WalkingWithDog', 'WalkingWithDog', 'WalkingWithDog', 'WalkingWithDog', 'WalkingWithDog', 'WalkingWithDog', 'WalkingWithDog', 'WalkingWithDog', 'WalkingWithDog', 'WalkingWithDog', 'Knitting', 'Knitting', 'Knitting', 'Knitting', 'Knitting', 'Knitting', 'Knitting', 'Knitting', 'Knitting', 'Knitting', 'Knitting', 'Knitting', 'Knitting', 'Knitting', 'Knitting', 'Knitting', 'Knitting', 'Knitting', 'Knitting']\n"
     ]
    },
    {
     "name": "stderr",
     "output_type": "stream",
     "text": [
      " 80%|████████████████████████████████████████████████████████████████▏               | 167/208 [03:25<00:56,  1.39s/it]"
     ]
    },
    {
     "name": "stdout",
     "output_type": "stream",
     "text": [
      "['BabyCrawling', 'BabyCrawling', 'BabyCrawling', 'BabyCrawling', 'BabyCrawling', 'BabyCrawling', 'BabyCrawling', 'BabyCrawling', 'BabyCrawling', 'BabyCrawling', 'BabyCrawling', 'BabyCrawling', 'BabyCrawling', 'BabyCrawling', 'BabyCrawling', 'BabyCrawling', 'BabyCrawling', 'BabyCrawling', 'BabyCrawling', 'BabyCrawling', 'BabyCrawling', 'BabyCrawling', 'BabyCrawling', 'BabyCrawling', 'BabyCrawling', 'BabyCrawling', 'BabyCrawling', 'BabyCrawling', 'BabyCrawling', 'BabyCrawling', 'BabyCrawling', 'BabyCrawling', 'BabyCrawling', 'BabyCrawling', 'BabyCrawling', 'Surfing', 'Surfing', 'Surfing', 'Surfing', 'Surfing', 'Surfing', 'Surfing', 'Surfing', 'Surfing', 'Surfing', 'Surfing', 'Surfing', 'Surfing', 'Surfing', 'Surfing', 'Surfing', 'Surfing', 'Surfing', 'Surfing', 'Surfing', 'Surfing', 'Surfing', 'Surfing', 'Surfing', 'Surfing', 'Surfing', 'Surfing', 'Surfing', 'Surfing', 'Surfing', 'Surfing', 'Surfing', 'Surfing', 'Typing', 'Typing', 'Typing', 'Typing', 'Typing', 'Typing', 'Typing', 'Typing', 'Typing', 'Typing', 'Typing', 'Typing', 'Typing', 'Typing', 'Typing', 'Typing', 'Typing', 'Typing', 'Typing', 'Typing', 'Typing', 'Typing', 'Typing', 'Typing', 'Typing', 'Typing', 'Typing', 'Typing', 'Typing', 'Typing', 'Typing', 'Typing', 'Typing', 'Typing', 'Typing', 'Typing', 'Typing', 'Typing', 'Typing', 'Typing', 'Typing', 'Typing', 'Typing', 'WalkingWithDog', 'WalkingWithDog', 'WalkingWithDog', 'WalkingWithDog', 'WalkingWithDog', 'WalkingWithDog', 'WalkingWithDog', 'WalkingWithDog', 'WalkingWithDog', 'WalkingWithDog', 'WalkingWithDog', 'WalkingWithDog', 'WalkingWithDog', 'WalkingWithDog', 'WalkingWithDog', 'WalkingWithDog', 'WalkingWithDog', 'WalkingWithDog', 'WalkingWithDog', 'WalkingWithDog', 'WalkingWithDog', 'WalkingWithDog', 'WalkingWithDog', 'WalkingWithDog', 'WalkingWithDog', 'WalkingWithDog', 'WalkingWithDog', 'WalkingWithDog', 'WalkingWithDog', 'WalkingWithDog', 'WalkingWithDog', 'WalkingWithDog', 'WalkingWithDog', 'WalkingWithDog', 'WalkingWithDog', 'WalkingWithDog', 'Knitting', 'Knitting', 'Knitting', 'Knitting', 'Knitting', 'Knitting', 'Knitting', 'Knitting', 'Knitting', 'Knitting', 'Knitting', 'Knitting', 'Knitting', 'Knitting', 'Knitting', 'Knitting', 'Knitting', 'Knitting', 'Knitting', 'Knitting']\n",
      "['BabyCrawling', 'BabyCrawling', 'BabyCrawling', 'BabyCrawling', 'BabyCrawling', 'BabyCrawling', 'BabyCrawling', 'BabyCrawling', 'BabyCrawling', 'BabyCrawling', 'BabyCrawling', 'BabyCrawling', 'BabyCrawling', 'BabyCrawling', 'BabyCrawling', 'BabyCrawling', 'BabyCrawling', 'BabyCrawling', 'BabyCrawling', 'BabyCrawling', 'BabyCrawling', 'BabyCrawling', 'BabyCrawling', 'BabyCrawling', 'BabyCrawling', 'BabyCrawling', 'BabyCrawling', 'BabyCrawling', 'BabyCrawling', 'BabyCrawling', 'BabyCrawling', 'BabyCrawling', 'BabyCrawling', 'BabyCrawling', 'BabyCrawling', 'Surfing', 'Surfing', 'Surfing', 'Surfing', 'Surfing', 'Surfing', 'Surfing', 'Surfing', 'Surfing', 'Surfing', 'Surfing', 'Surfing', 'Surfing', 'Surfing', 'Surfing', 'Surfing', 'Surfing', 'Surfing', 'Surfing', 'Surfing', 'Surfing', 'Surfing', 'Surfing', 'Surfing', 'Surfing', 'Surfing', 'Surfing', 'Surfing', 'Surfing', 'Surfing', 'Surfing', 'Surfing', 'Surfing', 'Typing', 'Typing', 'Typing', 'Typing', 'Typing', 'Typing', 'Typing', 'Typing', 'Typing', 'Typing', 'Typing', 'Typing', 'Typing', 'Typing', 'Typing', 'Typing', 'Typing', 'Typing', 'Typing', 'Typing', 'BabyCrawling', 'Knitting', 'Knitting', 'Knitting', 'Typing', 'Typing', 'Typing', 'Typing', 'Typing', 'Typing', 'Typing', 'Typing', 'Typing', 'Typing', 'Typing', 'Typing', 'Typing', 'Typing', 'Typing', 'Typing', 'Typing', 'Typing', 'Typing', 'WalkingWithDog', 'WalkingWithDog', 'WalkingWithDog', 'WalkingWithDog', 'WalkingWithDog', 'WalkingWithDog', 'WalkingWithDog', 'WalkingWithDog', 'WalkingWithDog', 'WalkingWithDog', 'WalkingWithDog', 'WalkingWithDog', 'WalkingWithDog', 'WalkingWithDog', 'WalkingWithDog', 'Surfing', 'WalkingWithDog', 'WalkingWithDog', 'WalkingWithDog', 'WalkingWithDog', 'WalkingWithDog', 'WalkingWithDog', 'WalkingWithDog', 'WalkingWithDog', 'WalkingWithDog', 'WalkingWithDog', 'WalkingWithDog', 'WalkingWithDog', 'WalkingWithDog', 'WalkingWithDog', 'WalkingWithDog', 'WalkingWithDog', 'WalkingWithDog', 'WalkingWithDog', 'WalkingWithDog', 'WalkingWithDog', 'Knitting', 'Knitting', 'Knitting', 'Knitting', 'Knitting', 'Knitting', 'Knitting', 'Knitting', 'Knitting', 'Knitting', 'Knitting', 'Knitting', 'Knitting', 'Knitting', 'Knitting', 'Knitting', 'Knitting', 'Knitting', 'Knitting', 'Knitting']\n"
     ]
    },
    {
     "name": "stderr",
     "output_type": "stream",
     "text": [
      " 81%|████████████████████████████████████████████████████████████████▌               | 168/208 [03:27<00:58,  1.45s/it]"
     ]
    },
    {
     "name": "stdout",
     "output_type": "stream",
     "text": [
      "['BabyCrawling', 'BabyCrawling', 'BabyCrawling', 'BabyCrawling', 'BabyCrawling', 'BabyCrawling', 'BabyCrawling', 'BabyCrawling', 'BabyCrawling', 'BabyCrawling', 'BabyCrawling', 'BabyCrawling', 'BabyCrawling', 'BabyCrawling', 'BabyCrawling', 'BabyCrawling', 'BabyCrawling', 'BabyCrawling', 'BabyCrawling', 'BabyCrawling', 'BabyCrawling', 'BabyCrawling', 'BabyCrawling', 'BabyCrawling', 'BabyCrawling', 'BabyCrawling', 'BabyCrawling', 'BabyCrawling', 'BabyCrawling', 'BabyCrawling', 'BabyCrawling', 'BabyCrawling', 'BabyCrawling', 'BabyCrawling', 'BabyCrawling', 'Surfing', 'Surfing', 'Surfing', 'Surfing', 'Surfing', 'Surfing', 'Surfing', 'Surfing', 'Surfing', 'Surfing', 'Surfing', 'Surfing', 'Surfing', 'Surfing', 'Surfing', 'Surfing', 'Surfing', 'Surfing', 'Surfing', 'Surfing', 'Surfing', 'Surfing', 'Surfing', 'Surfing', 'Surfing', 'Surfing', 'Surfing', 'Surfing', 'Surfing', 'Surfing', 'Surfing', 'Surfing', 'Surfing', 'Typing', 'Typing', 'Typing', 'Typing', 'Typing', 'Typing', 'Typing', 'Typing', 'Typing', 'Typing', 'Typing', 'Typing', 'Typing', 'Typing', 'Typing', 'Typing', 'Typing', 'Typing', 'Typing', 'Typing', 'Typing', 'Typing', 'Typing', 'Typing', 'Typing', 'Typing', 'Typing', 'Typing', 'Typing', 'Typing', 'Typing', 'Typing', 'Typing', 'Typing', 'Typing', 'Typing', 'Typing', 'Typing', 'Typing', 'Typing', 'Typing', 'Typing', 'Typing', 'WalkingWithDog', 'WalkingWithDog', 'WalkingWithDog', 'WalkingWithDog', 'WalkingWithDog', 'WalkingWithDog', 'WalkingWithDog', 'WalkingWithDog', 'WalkingWithDog', 'WalkingWithDog', 'WalkingWithDog', 'WalkingWithDog', 'WalkingWithDog', 'WalkingWithDog', 'WalkingWithDog', 'WalkingWithDog', 'WalkingWithDog', 'WalkingWithDog', 'WalkingWithDog', 'WalkingWithDog', 'WalkingWithDog', 'WalkingWithDog', 'WalkingWithDog', 'WalkingWithDog', 'WalkingWithDog', 'WalkingWithDog', 'WalkingWithDog', 'WalkingWithDog', 'WalkingWithDog', 'WalkingWithDog', 'WalkingWithDog', 'WalkingWithDog', 'WalkingWithDog', 'WalkingWithDog', 'WalkingWithDog', 'WalkingWithDog', 'Knitting', 'Knitting', 'Knitting', 'Knitting', 'Knitting', 'Knitting', 'Knitting', 'Knitting', 'Knitting', 'Knitting', 'Knitting', 'Knitting', 'Knitting', 'Knitting', 'Knitting', 'Knitting', 'Knitting', 'Knitting', 'Knitting', 'Knitting', 'Knitting']\n",
      "['BabyCrawling', 'BabyCrawling', 'BabyCrawling', 'BabyCrawling', 'BabyCrawling', 'BabyCrawling', 'BabyCrawling', 'BabyCrawling', 'BabyCrawling', 'BabyCrawling', 'BabyCrawling', 'BabyCrawling', 'BabyCrawling', 'BabyCrawling', 'BabyCrawling', 'BabyCrawling', 'BabyCrawling', 'BabyCrawling', 'BabyCrawling', 'BabyCrawling', 'BabyCrawling', 'BabyCrawling', 'BabyCrawling', 'BabyCrawling', 'BabyCrawling', 'BabyCrawling', 'BabyCrawling', 'BabyCrawling', 'BabyCrawling', 'BabyCrawling', 'BabyCrawling', 'BabyCrawling', 'BabyCrawling', 'BabyCrawling', 'BabyCrawling', 'Surfing', 'Surfing', 'Surfing', 'Surfing', 'Surfing', 'Surfing', 'Surfing', 'Surfing', 'Surfing', 'Surfing', 'Surfing', 'Surfing', 'Surfing', 'Surfing', 'Surfing', 'Surfing', 'Surfing', 'Surfing', 'Surfing', 'Surfing', 'Surfing', 'Surfing', 'Surfing', 'Surfing', 'Surfing', 'Surfing', 'Surfing', 'Surfing', 'Surfing', 'Surfing', 'Surfing', 'Surfing', 'Surfing', 'Typing', 'Typing', 'Typing', 'Typing', 'Typing', 'Typing', 'Typing', 'Typing', 'Typing', 'Typing', 'Typing', 'Typing', 'Typing', 'Typing', 'Typing', 'Typing', 'Typing', 'Typing', 'Typing', 'Typing', 'BabyCrawling', 'Knitting', 'Knitting', 'Knitting', 'Typing', 'Typing', 'Typing', 'Typing', 'Typing', 'Typing', 'Typing', 'Typing', 'Typing', 'Typing', 'Typing', 'Typing', 'Typing', 'Typing', 'Typing', 'Typing', 'Typing', 'Typing', 'Typing', 'WalkingWithDog', 'WalkingWithDog', 'WalkingWithDog', 'WalkingWithDog', 'WalkingWithDog', 'WalkingWithDog', 'WalkingWithDog', 'WalkingWithDog', 'WalkingWithDog', 'WalkingWithDog', 'WalkingWithDog', 'WalkingWithDog', 'WalkingWithDog', 'WalkingWithDog', 'WalkingWithDog', 'Surfing', 'WalkingWithDog', 'WalkingWithDog', 'WalkingWithDog', 'WalkingWithDog', 'WalkingWithDog', 'WalkingWithDog', 'WalkingWithDog', 'WalkingWithDog', 'WalkingWithDog', 'WalkingWithDog', 'WalkingWithDog', 'WalkingWithDog', 'WalkingWithDog', 'WalkingWithDog', 'WalkingWithDog', 'WalkingWithDog', 'WalkingWithDog', 'WalkingWithDog', 'WalkingWithDog', 'WalkingWithDog', 'Knitting', 'Knitting', 'Knitting', 'Knitting', 'Knitting', 'Knitting', 'Knitting', 'Knitting', 'Knitting', 'Knitting', 'Knitting', 'Knitting', 'Knitting', 'Knitting', 'Knitting', 'Knitting', 'Knitting', 'Knitting', 'Knitting', 'Knitting', 'Knitting']\n"
     ]
    },
    {
     "name": "stderr",
     "output_type": "stream",
     "text": [
      " 81%|█████████████████████████████████████████████████████████████████               | 169/208 [03:29<00:58,  1.49s/it]"
     ]
    },
    {
     "name": "stdout",
     "output_type": "stream",
     "text": [
      "['BabyCrawling', 'BabyCrawling', 'BabyCrawling', 'BabyCrawling', 'BabyCrawling', 'BabyCrawling', 'BabyCrawling', 'BabyCrawling', 'BabyCrawling', 'BabyCrawling', 'BabyCrawling', 'BabyCrawling', 'BabyCrawling', 'BabyCrawling', 'BabyCrawling', 'BabyCrawling', 'BabyCrawling', 'BabyCrawling', 'BabyCrawling', 'BabyCrawling', 'BabyCrawling', 'BabyCrawling', 'BabyCrawling', 'BabyCrawling', 'BabyCrawling', 'BabyCrawling', 'BabyCrawling', 'BabyCrawling', 'BabyCrawling', 'BabyCrawling', 'BabyCrawling', 'BabyCrawling', 'BabyCrawling', 'BabyCrawling', 'BabyCrawling', 'Surfing', 'Surfing', 'Surfing', 'Surfing', 'Surfing', 'Surfing', 'Surfing', 'Surfing', 'Surfing', 'Surfing', 'Surfing', 'Surfing', 'Surfing', 'Surfing', 'Surfing', 'Surfing', 'Surfing', 'Surfing', 'Surfing', 'Surfing', 'Surfing', 'Surfing', 'Surfing', 'Surfing', 'Surfing', 'Surfing', 'Surfing', 'Surfing', 'Surfing', 'Surfing', 'Surfing', 'Surfing', 'Surfing', 'Typing', 'Typing', 'Typing', 'Typing', 'Typing', 'Typing', 'Typing', 'Typing', 'Typing', 'Typing', 'Typing', 'Typing', 'Typing', 'Typing', 'Typing', 'Typing', 'Typing', 'Typing', 'Typing', 'Typing', 'Typing', 'Typing', 'Typing', 'Typing', 'Typing', 'Typing', 'Typing', 'Typing', 'Typing', 'Typing', 'Typing', 'Typing', 'Typing', 'Typing', 'Typing', 'Typing', 'Typing', 'Typing', 'Typing', 'Typing', 'Typing', 'Typing', 'Typing', 'WalkingWithDog', 'WalkingWithDog', 'WalkingWithDog', 'WalkingWithDog', 'WalkingWithDog', 'WalkingWithDog', 'WalkingWithDog', 'WalkingWithDog', 'WalkingWithDog', 'WalkingWithDog', 'WalkingWithDog', 'WalkingWithDog', 'WalkingWithDog', 'WalkingWithDog', 'WalkingWithDog', 'WalkingWithDog', 'WalkingWithDog', 'WalkingWithDog', 'WalkingWithDog', 'WalkingWithDog', 'WalkingWithDog', 'WalkingWithDog', 'WalkingWithDog', 'WalkingWithDog', 'WalkingWithDog', 'WalkingWithDog', 'WalkingWithDog', 'WalkingWithDog', 'WalkingWithDog', 'WalkingWithDog', 'WalkingWithDog', 'WalkingWithDog', 'WalkingWithDog', 'WalkingWithDog', 'WalkingWithDog', 'WalkingWithDog', 'Knitting', 'Knitting', 'Knitting', 'Knitting', 'Knitting', 'Knitting', 'Knitting', 'Knitting', 'Knitting', 'Knitting', 'Knitting', 'Knitting', 'Knitting', 'Knitting', 'Knitting', 'Knitting', 'Knitting', 'Knitting', 'Knitting', 'Knitting', 'Knitting', 'Knitting']\n",
      "['BabyCrawling', 'BabyCrawling', 'BabyCrawling', 'BabyCrawling', 'BabyCrawling', 'BabyCrawling', 'BabyCrawling', 'BabyCrawling', 'BabyCrawling', 'BabyCrawling', 'BabyCrawling', 'BabyCrawling', 'BabyCrawling', 'BabyCrawling', 'BabyCrawling', 'BabyCrawling', 'BabyCrawling', 'BabyCrawling', 'BabyCrawling', 'BabyCrawling', 'BabyCrawling', 'BabyCrawling', 'BabyCrawling', 'BabyCrawling', 'BabyCrawling', 'BabyCrawling', 'BabyCrawling', 'BabyCrawling', 'BabyCrawling', 'BabyCrawling', 'BabyCrawling', 'BabyCrawling', 'BabyCrawling', 'BabyCrawling', 'BabyCrawling', 'Surfing', 'Surfing', 'Surfing', 'Surfing', 'Surfing', 'Surfing', 'Surfing', 'Surfing', 'Surfing', 'Surfing', 'Surfing', 'Surfing', 'Surfing', 'Surfing', 'Surfing', 'Surfing', 'Surfing', 'Surfing', 'Surfing', 'Surfing', 'Surfing', 'Surfing', 'Surfing', 'Surfing', 'Surfing', 'Surfing', 'Surfing', 'Surfing', 'Surfing', 'Surfing', 'Surfing', 'Surfing', 'Surfing', 'Typing', 'Typing', 'Typing', 'Typing', 'Typing', 'Typing', 'Typing', 'Typing', 'Typing', 'Typing', 'Typing', 'Typing', 'Typing', 'Typing', 'Typing', 'Typing', 'Typing', 'Typing', 'Typing', 'Typing', 'BabyCrawling', 'Knitting', 'Knitting', 'Knitting', 'Typing', 'Typing', 'Typing', 'Typing', 'Typing', 'Typing', 'Typing', 'Typing', 'Typing', 'Typing', 'Typing', 'Typing', 'Typing', 'Typing', 'Typing', 'Typing', 'Typing', 'Typing', 'Typing', 'WalkingWithDog', 'WalkingWithDog', 'WalkingWithDog', 'WalkingWithDog', 'WalkingWithDog', 'WalkingWithDog', 'WalkingWithDog', 'WalkingWithDog', 'WalkingWithDog', 'WalkingWithDog', 'WalkingWithDog', 'WalkingWithDog', 'WalkingWithDog', 'WalkingWithDog', 'WalkingWithDog', 'Surfing', 'WalkingWithDog', 'WalkingWithDog', 'WalkingWithDog', 'WalkingWithDog', 'WalkingWithDog', 'WalkingWithDog', 'WalkingWithDog', 'WalkingWithDog', 'WalkingWithDog', 'WalkingWithDog', 'WalkingWithDog', 'WalkingWithDog', 'WalkingWithDog', 'WalkingWithDog', 'WalkingWithDog', 'WalkingWithDog', 'WalkingWithDog', 'WalkingWithDog', 'WalkingWithDog', 'WalkingWithDog', 'Knitting', 'Knitting', 'Knitting', 'Knitting', 'Knitting', 'Knitting', 'Knitting', 'Knitting', 'Knitting', 'Knitting', 'Knitting', 'Knitting', 'Knitting', 'Knitting', 'Knitting', 'Knitting', 'Knitting', 'Knitting', 'Knitting', 'Knitting', 'Knitting', 'Knitting']\n"
     ]
    },
    {
     "name": "stderr",
     "output_type": "stream",
     "text": [
      " 82%|█████████████████████████████████████████████████████████████████▍              | 170/208 [03:30<00:57,  1.52s/it]"
     ]
    },
    {
     "name": "stdout",
     "output_type": "stream",
     "text": [
      "['BabyCrawling', 'BabyCrawling', 'BabyCrawling', 'BabyCrawling', 'BabyCrawling', 'BabyCrawling', 'BabyCrawling', 'BabyCrawling', 'BabyCrawling', 'BabyCrawling', 'BabyCrawling', 'BabyCrawling', 'BabyCrawling', 'BabyCrawling', 'BabyCrawling', 'BabyCrawling', 'BabyCrawling', 'BabyCrawling', 'BabyCrawling', 'BabyCrawling', 'BabyCrawling', 'BabyCrawling', 'BabyCrawling', 'BabyCrawling', 'BabyCrawling', 'BabyCrawling', 'BabyCrawling', 'BabyCrawling', 'BabyCrawling', 'BabyCrawling', 'BabyCrawling', 'BabyCrawling', 'BabyCrawling', 'BabyCrawling', 'BabyCrawling', 'Surfing', 'Surfing', 'Surfing', 'Surfing', 'Surfing', 'Surfing', 'Surfing', 'Surfing', 'Surfing', 'Surfing', 'Surfing', 'Surfing', 'Surfing', 'Surfing', 'Surfing', 'Surfing', 'Surfing', 'Surfing', 'Surfing', 'Surfing', 'Surfing', 'Surfing', 'Surfing', 'Surfing', 'Surfing', 'Surfing', 'Surfing', 'Surfing', 'Surfing', 'Surfing', 'Surfing', 'Surfing', 'Surfing', 'Typing', 'Typing', 'Typing', 'Typing', 'Typing', 'Typing', 'Typing', 'Typing', 'Typing', 'Typing', 'Typing', 'Typing', 'Typing', 'Typing', 'Typing', 'Typing', 'Typing', 'Typing', 'Typing', 'Typing', 'Typing', 'Typing', 'Typing', 'Typing', 'Typing', 'Typing', 'Typing', 'Typing', 'Typing', 'Typing', 'Typing', 'Typing', 'Typing', 'Typing', 'Typing', 'Typing', 'Typing', 'Typing', 'Typing', 'Typing', 'Typing', 'Typing', 'Typing', 'WalkingWithDog', 'WalkingWithDog', 'WalkingWithDog', 'WalkingWithDog', 'WalkingWithDog', 'WalkingWithDog', 'WalkingWithDog', 'WalkingWithDog', 'WalkingWithDog', 'WalkingWithDog', 'WalkingWithDog', 'WalkingWithDog', 'WalkingWithDog', 'WalkingWithDog', 'WalkingWithDog', 'WalkingWithDog', 'WalkingWithDog', 'WalkingWithDog', 'WalkingWithDog', 'WalkingWithDog', 'WalkingWithDog', 'WalkingWithDog', 'WalkingWithDog', 'WalkingWithDog', 'WalkingWithDog', 'WalkingWithDog', 'WalkingWithDog', 'WalkingWithDog', 'WalkingWithDog', 'WalkingWithDog', 'WalkingWithDog', 'WalkingWithDog', 'WalkingWithDog', 'WalkingWithDog', 'WalkingWithDog', 'WalkingWithDog', 'Knitting', 'Knitting', 'Knitting', 'Knitting', 'Knitting', 'Knitting', 'Knitting', 'Knitting', 'Knitting', 'Knitting', 'Knitting', 'Knitting', 'Knitting', 'Knitting', 'Knitting', 'Knitting', 'Knitting', 'Knitting', 'Knitting', 'Knitting', 'Knitting', 'Knitting', 'Knitting']\n",
      "['BabyCrawling', 'BabyCrawling', 'BabyCrawling', 'BabyCrawling', 'BabyCrawling', 'BabyCrawling', 'BabyCrawling', 'BabyCrawling', 'BabyCrawling', 'BabyCrawling', 'BabyCrawling', 'BabyCrawling', 'BabyCrawling', 'BabyCrawling', 'BabyCrawling', 'BabyCrawling', 'BabyCrawling', 'BabyCrawling', 'BabyCrawling', 'BabyCrawling', 'BabyCrawling', 'BabyCrawling', 'BabyCrawling', 'BabyCrawling', 'BabyCrawling', 'BabyCrawling', 'BabyCrawling', 'BabyCrawling', 'BabyCrawling', 'BabyCrawling', 'BabyCrawling', 'BabyCrawling', 'BabyCrawling', 'BabyCrawling', 'BabyCrawling', 'Surfing', 'Surfing', 'Surfing', 'Surfing', 'Surfing', 'Surfing', 'Surfing', 'Surfing', 'Surfing', 'Surfing', 'Surfing', 'Surfing', 'Surfing', 'Surfing', 'Surfing', 'Surfing', 'Surfing', 'Surfing', 'Surfing', 'Surfing', 'Surfing', 'Surfing', 'Surfing', 'Surfing', 'Surfing', 'Surfing', 'Surfing', 'Surfing', 'Surfing', 'Surfing', 'Surfing', 'Surfing', 'Surfing', 'Typing', 'Typing', 'Typing', 'Typing', 'Typing', 'Typing', 'Typing', 'Typing', 'Typing', 'Typing', 'Typing', 'Typing', 'Typing', 'Typing', 'Typing', 'Typing', 'Typing', 'Typing', 'Typing', 'Typing', 'BabyCrawling', 'Knitting', 'Knitting', 'Knitting', 'Typing', 'Typing', 'Typing', 'Typing', 'Typing', 'Typing', 'Typing', 'Typing', 'Typing', 'Typing', 'Typing', 'Typing', 'Typing', 'Typing', 'Typing', 'Typing', 'Typing', 'Typing', 'Typing', 'WalkingWithDog', 'WalkingWithDog', 'WalkingWithDog', 'WalkingWithDog', 'WalkingWithDog', 'WalkingWithDog', 'WalkingWithDog', 'WalkingWithDog', 'WalkingWithDog', 'WalkingWithDog', 'WalkingWithDog', 'WalkingWithDog', 'WalkingWithDog', 'WalkingWithDog', 'WalkingWithDog', 'Surfing', 'WalkingWithDog', 'WalkingWithDog', 'WalkingWithDog', 'WalkingWithDog', 'WalkingWithDog', 'WalkingWithDog', 'WalkingWithDog', 'WalkingWithDog', 'WalkingWithDog', 'WalkingWithDog', 'WalkingWithDog', 'WalkingWithDog', 'WalkingWithDog', 'WalkingWithDog', 'WalkingWithDog', 'WalkingWithDog', 'WalkingWithDog', 'WalkingWithDog', 'WalkingWithDog', 'WalkingWithDog', 'Knitting', 'Knitting', 'Knitting', 'Knitting', 'Knitting', 'Knitting', 'Knitting', 'Knitting', 'Knitting', 'Knitting', 'Knitting', 'Knitting', 'Knitting', 'Knitting', 'Knitting', 'Knitting', 'Knitting', 'Knitting', 'Knitting', 'Knitting', 'Knitting', 'Knitting', 'Knitting']\n"
     ]
    },
    {
     "name": "stderr",
     "output_type": "stream",
     "text": [
      " 82%|█████████████████████████████████████████████████████████████████▊              | 171/208 [03:32<00:57,  1.54s/it]"
     ]
    },
    {
     "name": "stdout",
     "output_type": "stream",
     "text": [
      "['BabyCrawling', 'BabyCrawling', 'BabyCrawling', 'BabyCrawling', 'BabyCrawling', 'BabyCrawling', 'BabyCrawling', 'BabyCrawling', 'BabyCrawling', 'BabyCrawling', 'BabyCrawling', 'BabyCrawling', 'BabyCrawling', 'BabyCrawling', 'BabyCrawling', 'BabyCrawling', 'BabyCrawling', 'BabyCrawling', 'BabyCrawling', 'BabyCrawling', 'BabyCrawling', 'BabyCrawling', 'BabyCrawling', 'BabyCrawling', 'BabyCrawling', 'BabyCrawling', 'BabyCrawling', 'BabyCrawling', 'BabyCrawling', 'BabyCrawling', 'BabyCrawling', 'BabyCrawling', 'BabyCrawling', 'BabyCrawling', 'BabyCrawling', 'Surfing', 'Surfing', 'Surfing', 'Surfing', 'Surfing', 'Surfing', 'Surfing', 'Surfing', 'Surfing', 'Surfing', 'Surfing', 'Surfing', 'Surfing', 'Surfing', 'Surfing', 'Surfing', 'Surfing', 'Surfing', 'Surfing', 'Surfing', 'Surfing', 'Surfing', 'Surfing', 'Surfing', 'Surfing', 'Surfing', 'Surfing', 'Surfing', 'Surfing', 'Surfing', 'Surfing', 'Surfing', 'Surfing', 'Typing', 'Typing', 'Typing', 'Typing', 'Typing', 'Typing', 'Typing', 'Typing', 'Typing', 'Typing', 'Typing', 'Typing', 'Typing', 'Typing', 'Typing', 'Typing', 'Typing', 'Typing', 'Typing', 'Typing', 'Typing', 'Typing', 'Typing', 'Typing', 'Typing', 'Typing', 'Typing', 'Typing', 'Typing', 'Typing', 'Typing', 'Typing', 'Typing', 'Typing', 'Typing', 'Typing', 'Typing', 'Typing', 'Typing', 'Typing', 'Typing', 'Typing', 'Typing', 'WalkingWithDog', 'WalkingWithDog', 'WalkingWithDog', 'WalkingWithDog', 'WalkingWithDog', 'WalkingWithDog', 'WalkingWithDog', 'WalkingWithDog', 'WalkingWithDog', 'WalkingWithDog', 'WalkingWithDog', 'WalkingWithDog', 'WalkingWithDog', 'WalkingWithDog', 'WalkingWithDog', 'WalkingWithDog', 'WalkingWithDog', 'WalkingWithDog', 'WalkingWithDog', 'WalkingWithDog', 'WalkingWithDog', 'WalkingWithDog', 'WalkingWithDog', 'WalkingWithDog', 'WalkingWithDog', 'WalkingWithDog', 'WalkingWithDog', 'WalkingWithDog', 'WalkingWithDog', 'WalkingWithDog', 'WalkingWithDog', 'WalkingWithDog', 'WalkingWithDog', 'WalkingWithDog', 'WalkingWithDog', 'WalkingWithDog', 'Knitting', 'Knitting', 'Knitting', 'Knitting', 'Knitting', 'Knitting', 'Knitting', 'Knitting', 'Knitting', 'Knitting', 'Knitting', 'Knitting', 'Knitting', 'Knitting', 'Knitting', 'Knitting', 'Knitting', 'Knitting', 'Knitting', 'Knitting', 'Knitting', 'Knitting', 'Knitting', 'Knitting']\n",
      "['BabyCrawling', 'BabyCrawling', 'BabyCrawling', 'BabyCrawling', 'BabyCrawling', 'BabyCrawling', 'BabyCrawling', 'BabyCrawling', 'BabyCrawling', 'BabyCrawling', 'BabyCrawling', 'BabyCrawling', 'BabyCrawling', 'BabyCrawling', 'BabyCrawling', 'BabyCrawling', 'BabyCrawling', 'BabyCrawling', 'BabyCrawling', 'BabyCrawling', 'BabyCrawling', 'BabyCrawling', 'BabyCrawling', 'BabyCrawling', 'BabyCrawling', 'BabyCrawling', 'BabyCrawling', 'BabyCrawling', 'BabyCrawling', 'BabyCrawling', 'BabyCrawling', 'BabyCrawling', 'BabyCrawling', 'BabyCrawling', 'BabyCrawling', 'Surfing', 'Surfing', 'Surfing', 'Surfing', 'Surfing', 'Surfing', 'Surfing', 'Surfing', 'Surfing', 'Surfing', 'Surfing', 'Surfing', 'Surfing', 'Surfing', 'Surfing', 'Surfing', 'Surfing', 'Surfing', 'Surfing', 'Surfing', 'Surfing', 'Surfing', 'Surfing', 'Surfing', 'Surfing', 'Surfing', 'Surfing', 'Surfing', 'Surfing', 'Surfing', 'Surfing', 'Surfing', 'Surfing', 'Typing', 'Typing', 'Typing', 'Typing', 'Typing', 'Typing', 'Typing', 'Typing', 'Typing', 'Typing', 'Typing', 'Typing', 'Typing', 'Typing', 'Typing', 'Typing', 'Typing', 'Typing', 'Typing', 'Typing', 'BabyCrawling', 'Knitting', 'Knitting', 'Knitting', 'Typing', 'Typing', 'Typing', 'Typing', 'Typing', 'Typing', 'Typing', 'Typing', 'Typing', 'Typing', 'Typing', 'Typing', 'Typing', 'Typing', 'Typing', 'Typing', 'Typing', 'Typing', 'Typing', 'WalkingWithDog', 'WalkingWithDog', 'WalkingWithDog', 'WalkingWithDog', 'WalkingWithDog', 'WalkingWithDog', 'WalkingWithDog', 'WalkingWithDog', 'WalkingWithDog', 'WalkingWithDog', 'WalkingWithDog', 'WalkingWithDog', 'WalkingWithDog', 'WalkingWithDog', 'WalkingWithDog', 'Surfing', 'WalkingWithDog', 'WalkingWithDog', 'WalkingWithDog', 'WalkingWithDog', 'WalkingWithDog', 'WalkingWithDog', 'WalkingWithDog', 'WalkingWithDog', 'WalkingWithDog', 'WalkingWithDog', 'WalkingWithDog', 'WalkingWithDog', 'WalkingWithDog', 'WalkingWithDog', 'WalkingWithDog', 'WalkingWithDog', 'WalkingWithDog', 'WalkingWithDog', 'WalkingWithDog', 'WalkingWithDog', 'Knitting', 'Knitting', 'Knitting', 'Knitting', 'Knitting', 'Knitting', 'Knitting', 'Knitting', 'Knitting', 'Knitting', 'Knitting', 'Knitting', 'Knitting', 'Knitting', 'Knitting', 'Knitting', 'Knitting', 'Knitting', 'Knitting', 'Knitting', 'Knitting', 'Knitting', 'Knitting', 'Knitting']\n"
     ]
    },
    {
     "name": "stderr",
     "output_type": "stream",
     "text": [
      " 83%|██████████████████████████████████████████████████████████████████▏             | 172/208 [03:33<00:54,  1.51s/it]"
     ]
    },
    {
     "name": "stdout",
     "output_type": "stream",
     "text": [
      "['BabyCrawling', 'BabyCrawling', 'BabyCrawling', 'BabyCrawling', 'BabyCrawling', 'BabyCrawling', 'BabyCrawling', 'BabyCrawling', 'BabyCrawling', 'BabyCrawling', 'BabyCrawling', 'BabyCrawling', 'BabyCrawling', 'BabyCrawling', 'BabyCrawling', 'BabyCrawling', 'BabyCrawling', 'BabyCrawling', 'BabyCrawling', 'BabyCrawling', 'BabyCrawling', 'BabyCrawling', 'BabyCrawling', 'BabyCrawling', 'BabyCrawling', 'BabyCrawling', 'BabyCrawling', 'BabyCrawling', 'BabyCrawling', 'BabyCrawling', 'BabyCrawling', 'BabyCrawling', 'BabyCrawling', 'BabyCrawling', 'BabyCrawling', 'Surfing', 'Surfing', 'Surfing', 'Surfing', 'Surfing', 'Surfing', 'Surfing', 'Surfing', 'Surfing', 'Surfing', 'Surfing', 'Surfing', 'Surfing', 'Surfing', 'Surfing', 'Surfing', 'Surfing', 'Surfing', 'Surfing', 'Surfing', 'Surfing', 'Surfing', 'Surfing', 'Surfing', 'Surfing', 'Surfing', 'Surfing', 'Surfing', 'Surfing', 'Surfing', 'Surfing', 'Surfing', 'Surfing', 'Typing', 'Typing', 'Typing', 'Typing', 'Typing', 'Typing', 'Typing', 'Typing', 'Typing', 'Typing', 'Typing', 'Typing', 'Typing', 'Typing', 'Typing', 'Typing', 'Typing', 'Typing', 'Typing', 'Typing', 'Typing', 'Typing', 'Typing', 'Typing', 'Typing', 'Typing', 'Typing', 'Typing', 'Typing', 'Typing', 'Typing', 'Typing', 'Typing', 'Typing', 'Typing', 'Typing', 'Typing', 'Typing', 'Typing', 'Typing', 'Typing', 'Typing', 'Typing', 'WalkingWithDog', 'WalkingWithDog', 'WalkingWithDog', 'WalkingWithDog', 'WalkingWithDog', 'WalkingWithDog', 'WalkingWithDog', 'WalkingWithDog', 'WalkingWithDog', 'WalkingWithDog', 'WalkingWithDog', 'WalkingWithDog', 'WalkingWithDog', 'WalkingWithDog', 'WalkingWithDog', 'WalkingWithDog', 'WalkingWithDog', 'WalkingWithDog', 'WalkingWithDog', 'WalkingWithDog', 'WalkingWithDog', 'WalkingWithDog', 'WalkingWithDog', 'WalkingWithDog', 'WalkingWithDog', 'WalkingWithDog', 'WalkingWithDog', 'WalkingWithDog', 'WalkingWithDog', 'WalkingWithDog', 'WalkingWithDog', 'WalkingWithDog', 'WalkingWithDog', 'WalkingWithDog', 'WalkingWithDog', 'WalkingWithDog', 'Knitting', 'Knitting', 'Knitting', 'Knitting', 'Knitting', 'Knitting', 'Knitting', 'Knitting', 'Knitting', 'Knitting', 'Knitting', 'Knitting', 'Knitting', 'Knitting', 'Knitting', 'Knitting', 'Knitting', 'Knitting', 'Knitting', 'Knitting', 'Knitting', 'Knitting', 'Knitting', 'Knitting', 'Knitting']\n",
      "['BabyCrawling', 'BabyCrawling', 'BabyCrawling', 'BabyCrawling', 'BabyCrawling', 'BabyCrawling', 'BabyCrawling', 'BabyCrawling', 'BabyCrawling', 'BabyCrawling', 'BabyCrawling', 'BabyCrawling', 'BabyCrawling', 'BabyCrawling', 'BabyCrawling', 'BabyCrawling', 'BabyCrawling', 'BabyCrawling', 'BabyCrawling', 'BabyCrawling', 'BabyCrawling', 'BabyCrawling', 'BabyCrawling', 'BabyCrawling', 'BabyCrawling', 'BabyCrawling', 'BabyCrawling', 'BabyCrawling', 'BabyCrawling', 'BabyCrawling', 'BabyCrawling', 'BabyCrawling', 'BabyCrawling', 'BabyCrawling', 'BabyCrawling', 'Surfing', 'Surfing', 'Surfing', 'Surfing', 'Surfing', 'Surfing', 'Surfing', 'Surfing', 'Surfing', 'Surfing', 'Surfing', 'Surfing', 'Surfing', 'Surfing', 'Surfing', 'Surfing', 'Surfing', 'Surfing', 'Surfing', 'Surfing', 'Surfing', 'Surfing', 'Surfing', 'Surfing', 'Surfing', 'Surfing', 'Surfing', 'Surfing', 'Surfing', 'Surfing', 'Surfing', 'Surfing', 'Surfing', 'Typing', 'Typing', 'Typing', 'Typing', 'Typing', 'Typing', 'Typing', 'Typing', 'Typing', 'Typing', 'Typing', 'Typing', 'Typing', 'Typing', 'Typing', 'Typing', 'Typing', 'Typing', 'Typing', 'Typing', 'BabyCrawling', 'Knitting', 'Knitting', 'Knitting', 'Typing', 'Typing', 'Typing', 'Typing', 'Typing', 'Typing', 'Typing', 'Typing', 'Typing', 'Typing', 'Typing', 'Typing', 'Typing', 'Typing', 'Typing', 'Typing', 'Typing', 'Typing', 'Typing', 'WalkingWithDog', 'WalkingWithDog', 'WalkingWithDog', 'WalkingWithDog', 'WalkingWithDog', 'WalkingWithDog', 'WalkingWithDog', 'WalkingWithDog', 'WalkingWithDog', 'WalkingWithDog', 'WalkingWithDog', 'WalkingWithDog', 'WalkingWithDog', 'WalkingWithDog', 'WalkingWithDog', 'Surfing', 'WalkingWithDog', 'WalkingWithDog', 'WalkingWithDog', 'WalkingWithDog', 'WalkingWithDog', 'WalkingWithDog', 'WalkingWithDog', 'WalkingWithDog', 'WalkingWithDog', 'WalkingWithDog', 'WalkingWithDog', 'WalkingWithDog', 'WalkingWithDog', 'WalkingWithDog', 'WalkingWithDog', 'WalkingWithDog', 'WalkingWithDog', 'WalkingWithDog', 'WalkingWithDog', 'WalkingWithDog', 'Knitting', 'Knitting', 'Knitting', 'Knitting', 'Knitting', 'Knitting', 'Knitting', 'Knitting', 'Knitting', 'Knitting', 'Knitting', 'Knitting', 'Knitting', 'Knitting', 'Knitting', 'Knitting', 'Knitting', 'Knitting', 'Knitting', 'Knitting', 'Knitting', 'Knitting', 'Knitting', 'Knitting', 'Knitting']\n"
     ]
    },
    {
     "name": "stderr",
     "output_type": "stream",
     "text": [
      " 83%|██████████████████████████████████████████████████████████████████▌             | 173/208 [03:35<00:50,  1.45s/it]"
     ]
    },
    {
     "name": "stdout",
     "output_type": "stream",
     "text": [
      "['BabyCrawling', 'BabyCrawling', 'BabyCrawling', 'BabyCrawling', 'BabyCrawling', 'BabyCrawling', 'BabyCrawling', 'BabyCrawling', 'BabyCrawling', 'BabyCrawling', 'BabyCrawling', 'BabyCrawling', 'BabyCrawling', 'BabyCrawling', 'BabyCrawling', 'BabyCrawling', 'BabyCrawling', 'BabyCrawling', 'BabyCrawling', 'BabyCrawling', 'BabyCrawling', 'BabyCrawling', 'BabyCrawling', 'BabyCrawling', 'BabyCrawling', 'BabyCrawling', 'BabyCrawling', 'BabyCrawling', 'BabyCrawling', 'BabyCrawling', 'BabyCrawling', 'BabyCrawling', 'BabyCrawling', 'BabyCrawling', 'BabyCrawling', 'Surfing', 'Surfing', 'Surfing', 'Surfing', 'Surfing', 'Surfing', 'Surfing', 'Surfing', 'Surfing', 'Surfing', 'Surfing', 'Surfing', 'Surfing', 'Surfing', 'Surfing', 'Surfing', 'Surfing', 'Surfing', 'Surfing', 'Surfing', 'Surfing', 'Surfing', 'Surfing', 'Surfing', 'Surfing', 'Surfing', 'Surfing', 'Surfing', 'Surfing', 'Surfing', 'Surfing', 'Surfing', 'Surfing', 'Typing', 'Typing', 'Typing', 'Typing', 'Typing', 'Typing', 'Typing', 'Typing', 'Typing', 'Typing', 'Typing', 'Typing', 'Typing', 'Typing', 'Typing', 'Typing', 'Typing', 'Typing', 'Typing', 'Typing', 'Typing', 'Typing', 'Typing', 'Typing', 'Typing', 'Typing', 'Typing', 'Typing', 'Typing', 'Typing', 'Typing', 'Typing', 'Typing', 'Typing', 'Typing', 'Typing', 'Typing', 'Typing', 'Typing', 'Typing', 'Typing', 'Typing', 'Typing', 'WalkingWithDog', 'WalkingWithDog', 'WalkingWithDog', 'WalkingWithDog', 'WalkingWithDog', 'WalkingWithDog', 'WalkingWithDog', 'WalkingWithDog', 'WalkingWithDog', 'WalkingWithDog', 'WalkingWithDog', 'WalkingWithDog', 'WalkingWithDog', 'WalkingWithDog', 'WalkingWithDog', 'WalkingWithDog', 'WalkingWithDog', 'WalkingWithDog', 'WalkingWithDog', 'WalkingWithDog', 'WalkingWithDog', 'WalkingWithDog', 'WalkingWithDog', 'WalkingWithDog', 'WalkingWithDog', 'WalkingWithDog', 'WalkingWithDog', 'WalkingWithDog', 'WalkingWithDog', 'WalkingWithDog', 'WalkingWithDog', 'WalkingWithDog', 'WalkingWithDog', 'WalkingWithDog', 'WalkingWithDog', 'WalkingWithDog', 'Knitting', 'Knitting', 'Knitting', 'Knitting', 'Knitting', 'Knitting', 'Knitting', 'Knitting', 'Knitting', 'Knitting', 'Knitting', 'Knitting', 'Knitting', 'Knitting', 'Knitting', 'Knitting', 'Knitting', 'Knitting', 'Knitting', 'Knitting', 'Knitting', 'Knitting', 'Knitting', 'Knitting', 'Knitting', 'Knitting']\n",
      "['BabyCrawling', 'BabyCrawling', 'BabyCrawling', 'BabyCrawling', 'BabyCrawling', 'BabyCrawling', 'BabyCrawling', 'BabyCrawling', 'BabyCrawling', 'BabyCrawling', 'BabyCrawling', 'BabyCrawling', 'BabyCrawling', 'BabyCrawling', 'BabyCrawling', 'BabyCrawling', 'BabyCrawling', 'BabyCrawling', 'BabyCrawling', 'BabyCrawling', 'BabyCrawling', 'BabyCrawling', 'BabyCrawling', 'BabyCrawling', 'BabyCrawling', 'BabyCrawling', 'BabyCrawling', 'BabyCrawling', 'BabyCrawling', 'BabyCrawling', 'BabyCrawling', 'BabyCrawling', 'BabyCrawling', 'BabyCrawling', 'BabyCrawling', 'Surfing', 'Surfing', 'Surfing', 'Surfing', 'Surfing', 'Surfing', 'Surfing', 'Surfing', 'Surfing', 'Surfing', 'Surfing', 'Surfing', 'Surfing', 'Surfing', 'Surfing', 'Surfing', 'Surfing', 'Surfing', 'Surfing', 'Surfing', 'Surfing', 'Surfing', 'Surfing', 'Surfing', 'Surfing', 'Surfing', 'Surfing', 'Surfing', 'Surfing', 'Surfing', 'Surfing', 'Surfing', 'Surfing', 'Typing', 'Typing', 'Typing', 'Typing', 'Typing', 'Typing', 'Typing', 'Typing', 'Typing', 'Typing', 'Typing', 'Typing', 'Typing', 'Typing', 'Typing', 'Typing', 'Typing', 'Typing', 'Typing', 'Typing', 'BabyCrawling', 'Knitting', 'Knitting', 'Knitting', 'Typing', 'Typing', 'Typing', 'Typing', 'Typing', 'Typing', 'Typing', 'Typing', 'Typing', 'Typing', 'Typing', 'Typing', 'Typing', 'Typing', 'Typing', 'Typing', 'Typing', 'Typing', 'Typing', 'WalkingWithDog', 'WalkingWithDog', 'WalkingWithDog', 'WalkingWithDog', 'WalkingWithDog', 'WalkingWithDog', 'WalkingWithDog', 'WalkingWithDog', 'WalkingWithDog', 'WalkingWithDog', 'WalkingWithDog', 'WalkingWithDog', 'WalkingWithDog', 'WalkingWithDog', 'WalkingWithDog', 'Surfing', 'WalkingWithDog', 'WalkingWithDog', 'WalkingWithDog', 'WalkingWithDog', 'WalkingWithDog', 'WalkingWithDog', 'WalkingWithDog', 'WalkingWithDog', 'WalkingWithDog', 'WalkingWithDog', 'WalkingWithDog', 'WalkingWithDog', 'WalkingWithDog', 'WalkingWithDog', 'WalkingWithDog', 'WalkingWithDog', 'WalkingWithDog', 'WalkingWithDog', 'WalkingWithDog', 'WalkingWithDog', 'Knitting', 'Knitting', 'Knitting', 'Knitting', 'Knitting', 'Knitting', 'Knitting', 'Knitting', 'Knitting', 'Knitting', 'Knitting', 'Knitting', 'Knitting', 'Knitting', 'Knitting', 'Knitting', 'Knitting', 'Knitting', 'Knitting', 'Knitting', 'Knitting', 'Knitting', 'Knitting', 'Knitting', 'Knitting', 'Knitting']\n"
     ]
    },
    {
     "name": "stderr",
     "output_type": "stream",
     "text": [
      " 84%|██████████████████████████████████████████████████████████████████▉             | 174/208 [03:36<00:51,  1.52s/it]"
     ]
    },
    {
     "name": "stdout",
     "output_type": "stream",
     "text": [
      "['BabyCrawling', 'BabyCrawling', 'BabyCrawling', 'BabyCrawling', 'BabyCrawling', 'BabyCrawling', 'BabyCrawling', 'BabyCrawling', 'BabyCrawling', 'BabyCrawling', 'BabyCrawling', 'BabyCrawling', 'BabyCrawling', 'BabyCrawling', 'BabyCrawling', 'BabyCrawling', 'BabyCrawling', 'BabyCrawling', 'BabyCrawling', 'BabyCrawling', 'BabyCrawling', 'BabyCrawling', 'BabyCrawling', 'BabyCrawling', 'BabyCrawling', 'BabyCrawling', 'BabyCrawling', 'BabyCrawling', 'BabyCrawling', 'BabyCrawling', 'BabyCrawling', 'BabyCrawling', 'BabyCrawling', 'BabyCrawling', 'BabyCrawling', 'Surfing', 'Surfing', 'Surfing', 'Surfing', 'Surfing', 'Surfing', 'Surfing', 'Surfing', 'Surfing', 'Surfing', 'Surfing', 'Surfing', 'Surfing', 'Surfing', 'Surfing', 'Surfing', 'Surfing', 'Surfing', 'Surfing', 'Surfing', 'Surfing', 'Surfing', 'Surfing', 'Surfing', 'Surfing', 'Surfing', 'Surfing', 'Surfing', 'Surfing', 'Surfing', 'Surfing', 'Surfing', 'Surfing', 'Typing', 'Typing', 'Typing', 'Typing', 'Typing', 'Typing', 'Typing', 'Typing', 'Typing', 'Typing', 'Typing', 'Typing', 'Typing', 'Typing', 'Typing', 'Typing', 'Typing', 'Typing', 'Typing', 'Typing', 'Typing', 'Typing', 'Typing', 'Typing', 'Typing', 'Typing', 'Typing', 'Typing', 'Typing', 'Typing', 'Typing', 'Typing', 'Typing', 'Typing', 'Typing', 'Typing', 'Typing', 'Typing', 'Typing', 'Typing', 'Typing', 'Typing', 'Typing', 'WalkingWithDog', 'WalkingWithDog', 'WalkingWithDog', 'WalkingWithDog', 'WalkingWithDog', 'WalkingWithDog', 'WalkingWithDog', 'WalkingWithDog', 'WalkingWithDog', 'WalkingWithDog', 'WalkingWithDog', 'WalkingWithDog', 'WalkingWithDog', 'WalkingWithDog', 'WalkingWithDog', 'WalkingWithDog', 'WalkingWithDog', 'WalkingWithDog', 'WalkingWithDog', 'WalkingWithDog', 'WalkingWithDog', 'WalkingWithDog', 'WalkingWithDog', 'WalkingWithDog', 'WalkingWithDog', 'WalkingWithDog', 'WalkingWithDog', 'WalkingWithDog', 'WalkingWithDog', 'WalkingWithDog', 'WalkingWithDog', 'WalkingWithDog', 'WalkingWithDog', 'WalkingWithDog', 'WalkingWithDog', 'WalkingWithDog', 'Knitting', 'Knitting', 'Knitting', 'Knitting', 'Knitting', 'Knitting', 'Knitting', 'Knitting', 'Knitting', 'Knitting', 'Knitting', 'Knitting', 'Knitting', 'Knitting', 'Knitting', 'Knitting', 'Knitting', 'Knitting', 'Knitting', 'Knitting', 'Knitting', 'Knitting', 'Knitting', 'Knitting', 'Knitting', 'Knitting', 'Knitting']\n",
      "['BabyCrawling', 'BabyCrawling', 'BabyCrawling', 'BabyCrawling', 'BabyCrawling', 'BabyCrawling', 'BabyCrawling', 'BabyCrawling', 'BabyCrawling', 'BabyCrawling', 'BabyCrawling', 'BabyCrawling', 'BabyCrawling', 'BabyCrawling', 'BabyCrawling', 'BabyCrawling', 'BabyCrawling', 'BabyCrawling', 'BabyCrawling', 'BabyCrawling', 'BabyCrawling', 'BabyCrawling', 'BabyCrawling', 'BabyCrawling', 'BabyCrawling', 'BabyCrawling', 'BabyCrawling', 'BabyCrawling', 'BabyCrawling', 'BabyCrawling', 'BabyCrawling', 'BabyCrawling', 'BabyCrawling', 'BabyCrawling', 'BabyCrawling', 'Surfing', 'Surfing', 'Surfing', 'Surfing', 'Surfing', 'Surfing', 'Surfing', 'Surfing', 'Surfing', 'Surfing', 'Surfing', 'Surfing', 'Surfing', 'Surfing', 'Surfing', 'Surfing', 'Surfing', 'Surfing', 'Surfing', 'Surfing', 'Surfing', 'Surfing', 'Surfing', 'Surfing', 'Surfing', 'Surfing', 'Surfing', 'Surfing', 'Surfing', 'Surfing', 'Surfing', 'Surfing', 'Surfing', 'Typing', 'Typing', 'Typing', 'Typing', 'Typing', 'Typing', 'Typing', 'Typing', 'Typing', 'Typing', 'Typing', 'Typing', 'Typing', 'Typing', 'Typing', 'Typing', 'Typing', 'Typing', 'Typing', 'Typing', 'BabyCrawling', 'Knitting', 'Knitting', 'Knitting', 'Typing', 'Typing', 'Typing', 'Typing', 'Typing', 'Typing', 'Typing', 'Typing', 'Typing', 'Typing', 'Typing', 'Typing', 'Typing', 'Typing', 'Typing', 'Typing', 'Typing', 'Typing', 'Typing', 'WalkingWithDog', 'WalkingWithDog', 'WalkingWithDog', 'WalkingWithDog', 'WalkingWithDog', 'WalkingWithDog', 'WalkingWithDog', 'WalkingWithDog', 'WalkingWithDog', 'WalkingWithDog', 'WalkingWithDog', 'WalkingWithDog', 'WalkingWithDog', 'WalkingWithDog', 'WalkingWithDog', 'Surfing', 'WalkingWithDog', 'WalkingWithDog', 'WalkingWithDog', 'WalkingWithDog', 'WalkingWithDog', 'WalkingWithDog', 'WalkingWithDog', 'WalkingWithDog', 'WalkingWithDog', 'WalkingWithDog', 'WalkingWithDog', 'WalkingWithDog', 'WalkingWithDog', 'WalkingWithDog', 'WalkingWithDog', 'WalkingWithDog', 'WalkingWithDog', 'WalkingWithDog', 'WalkingWithDog', 'WalkingWithDog', 'Knitting', 'Knitting', 'Knitting', 'Knitting', 'Knitting', 'Knitting', 'Knitting', 'Knitting', 'Knitting', 'Knitting', 'Knitting', 'Knitting', 'Knitting', 'Knitting', 'Knitting', 'Knitting', 'Knitting', 'Knitting', 'Knitting', 'Knitting', 'Knitting', 'Knitting', 'Knitting', 'Knitting', 'Knitting', 'Knitting', 'Knitting']\n"
     ]
    },
    {
     "name": "stderr",
     "output_type": "stream",
     "text": [
      " 84%|███████████████████████████████████████████████████████████████████▎            | 175/208 [03:37<00:44,  1.34s/it]"
     ]
    },
    {
     "name": "stdout",
     "output_type": "stream",
     "text": [
      "['BabyCrawling', 'BabyCrawling', 'BabyCrawling', 'BabyCrawling', 'BabyCrawling', 'BabyCrawling', 'BabyCrawling', 'BabyCrawling', 'BabyCrawling', 'BabyCrawling', 'BabyCrawling', 'BabyCrawling', 'BabyCrawling', 'BabyCrawling', 'BabyCrawling', 'BabyCrawling', 'BabyCrawling', 'BabyCrawling', 'BabyCrawling', 'BabyCrawling', 'BabyCrawling', 'BabyCrawling', 'BabyCrawling', 'BabyCrawling', 'BabyCrawling', 'BabyCrawling', 'BabyCrawling', 'BabyCrawling', 'BabyCrawling', 'BabyCrawling', 'BabyCrawling', 'BabyCrawling', 'BabyCrawling', 'BabyCrawling', 'BabyCrawling', 'Surfing', 'Surfing', 'Surfing', 'Surfing', 'Surfing', 'Surfing', 'Surfing', 'Surfing', 'Surfing', 'Surfing', 'Surfing', 'Surfing', 'Surfing', 'Surfing', 'Surfing', 'Surfing', 'Surfing', 'Surfing', 'Surfing', 'Surfing', 'Surfing', 'Surfing', 'Surfing', 'Surfing', 'Surfing', 'Surfing', 'Surfing', 'Surfing', 'Surfing', 'Surfing', 'Surfing', 'Surfing', 'Surfing', 'Typing', 'Typing', 'Typing', 'Typing', 'Typing', 'Typing', 'Typing', 'Typing', 'Typing', 'Typing', 'Typing', 'Typing', 'Typing', 'Typing', 'Typing', 'Typing', 'Typing', 'Typing', 'Typing', 'Typing', 'Typing', 'Typing', 'Typing', 'Typing', 'Typing', 'Typing', 'Typing', 'Typing', 'Typing', 'Typing', 'Typing', 'Typing', 'Typing', 'Typing', 'Typing', 'Typing', 'Typing', 'Typing', 'Typing', 'Typing', 'Typing', 'Typing', 'Typing', 'WalkingWithDog', 'WalkingWithDog', 'WalkingWithDog', 'WalkingWithDog', 'WalkingWithDog', 'WalkingWithDog', 'WalkingWithDog', 'WalkingWithDog', 'WalkingWithDog', 'WalkingWithDog', 'WalkingWithDog', 'WalkingWithDog', 'WalkingWithDog', 'WalkingWithDog', 'WalkingWithDog', 'WalkingWithDog', 'WalkingWithDog', 'WalkingWithDog', 'WalkingWithDog', 'WalkingWithDog', 'WalkingWithDog', 'WalkingWithDog', 'WalkingWithDog', 'WalkingWithDog', 'WalkingWithDog', 'WalkingWithDog', 'WalkingWithDog', 'WalkingWithDog', 'WalkingWithDog', 'WalkingWithDog', 'WalkingWithDog', 'WalkingWithDog', 'WalkingWithDog', 'WalkingWithDog', 'WalkingWithDog', 'WalkingWithDog', 'Knitting', 'Knitting', 'Knitting', 'Knitting', 'Knitting', 'Knitting', 'Knitting', 'Knitting', 'Knitting', 'Knitting', 'Knitting', 'Knitting', 'Knitting', 'Knitting', 'Knitting', 'Knitting', 'Knitting', 'Knitting', 'Knitting', 'Knitting', 'Knitting', 'Knitting', 'Knitting', 'Knitting', 'Knitting', 'Knitting', 'Knitting', 'Knitting']\n",
      "['BabyCrawling', 'BabyCrawling', 'BabyCrawling', 'BabyCrawling', 'BabyCrawling', 'BabyCrawling', 'BabyCrawling', 'BabyCrawling', 'BabyCrawling', 'BabyCrawling', 'BabyCrawling', 'BabyCrawling', 'BabyCrawling', 'BabyCrawling', 'BabyCrawling', 'BabyCrawling', 'BabyCrawling', 'BabyCrawling', 'BabyCrawling', 'BabyCrawling', 'BabyCrawling', 'BabyCrawling', 'BabyCrawling', 'BabyCrawling', 'BabyCrawling', 'BabyCrawling', 'BabyCrawling', 'BabyCrawling', 'BabyCrawling', 'BabyCrawling', 'BabyCrawling', 'BabyCrawling', 'BabyCrawling', 'BabyCrawling', 'BabyCrawling', 'Surfing', 'Surfing', 'Surfing', 'Surfing', 'Surfing', 'Surfing', 'Surfing', 'Surfing', 'Surfing', 'Surfing', 'Surfing', 'Surfing', 'Surfing', 'Surfing', 'Surfing', 'Surfing', 'Surfing', 'Surfing', 'Surfing', 'Surfing', 'Surfing', 'Surfing', 'Surfing', 'Surfing', 'Surfing', 'Surfing', 'Surfing', 'Surfing', 'Surfing', 'Surfing', 'Surfing', 'Surfing', 'Surfing', 'Typing', 'Typing', 'Typing', 'Typing', 'Typing', 'Typing', 'Typing', 'Typing', 'Typing', 'Typing', 'Typing', 'Typing', 'Typing', 'Typing', 'Typing', 'Typing', 'Typing', 'Typing', 'Typing', 'Typing', 'BabyCrawling', 'Knitting', 'Knitting', 'Knitting', 'Typing', 'Typing', 'Typing', 'Typing', 'Typing', 'Typing', 'Typing', 'Typing', 'Typing', 'Typing', 'Typing', 'Typing', 'Typing', 'Typing', 'Typing', 'Typing', 'Typing', 'Typing', 'Typing', 'WalkingWithDog', 'WalkingWithDog', 'WalkingWithDog', 'WalkingWithDog', 'WalkingWithDog', 'WalkingWithDog', 'WalkingWithDog', 'WalkingWithDog', 'WalkingWithDog', 'WalkingWithDog', 'WalkingWithDog', 'WalkingWithDog', 'WalkingWithDog', 'WalkingWithDog', 'WalkingWithDog', 'Surfing', 'WalkingWithDog', 'WalkingWithDog', 'WalkingWithDog', 'WalkingWithDog', 'WalkingWithDog', 'WalkingWithDog', 'WalkingWithDog', 'WalkingWithDog', 'WalkingWithDog', 'WalkingWithDog', 'WalkingWithDog', 'WalkingWithDog', 'WalkingWithDog', 'WalkingWithDog', 'WalkingWithDog', 'WalkingWithDog', 'WalkingWithDog', 'WalkingWithDog', 'WalkingWithDog', 'WalkingWithDog', 'Knitting', 'Knitting', 'Knitting', 'Knitting', 'Knitting', 'Knitting', 'Knitting', 'Knitting', 'Knitting', 'Knitting', 'Knitting', 'Knitting', 'Knitting', 'Knitting', 'Knitting', 'Knitting', 'Knitting', 'Knitting', 'Knitting', 'Knitting', 'Knitting', 'Knitting', 'Knitting', 'Knitting', 'Knitting', 'Knitting', 'Knitting', 'Knitting']\n"
     ]
    },
    {
     "name": "stderr",
     "output_type": "stream",
     "text": [
      " 85%|███████████████████████████████████████████████████████████████████▋            | 176/208 [03:38<00:37,  1.18s/it]"
     ]
    },
    {
     "name": "stdout",
     "output_type": "stream",
     "text": [
      "['BabyCrawling', 'BabyCrawling', 'BabyCrawling', 'BabyCrawling', 'BabyCrawling', 'BabyCrawling', 'BabyCrawling', 'BabyCrawling', 'BabyCrawling', 'BabyCrawling', 'BabyCrawling', 'BabyCrawling', 'BabyCrawling', 'BabyCrawling', 'BabyCrawling', 'BabyCrawling', 'BabyCrawling', 'BabyCrawling', 'BabyCrawling', 'BabyCrawling', 'BabyCrawling', 'BabyCrawling', 'BabyCrawling', 'BabyCrawling', 'BabyCrawling', 'BabyCrawling', 'BabyCrawling', 'BabyCrawling', 'BabyCrawling', 'BabyCrawling', 'BabyCrawling', 'BabyCrawling', 'BabyCrawling', 'BabyCrawling', 'BabyCrawling', 'Surfing', 'Surfing', 'Surfing', 'Surfing', 'Surfing', 'Surfing', 'Surfing', 'Surfing', 'Surfing', 'Surfing', 'Surfing', 'Surfing', 'Surfing', 'Surfing', 'Surfing', 'Surfing', 'Surfing', 'Surfing', 'Surfing', 'Surfing', 'Surfing', 'Surfing', 'Surfing', 'Surfing', 'Surfing', 'Surfing', 'Surfing', 'Surfing', 'Surfing', 'Surfing', 'Surfing', 'Surfing', 'Surfing', 'Typing', 'Typing', 'Typing', 'Typing', 'Typing', 'Typing', 'Typing', 'Typing', 'Typing', 'Typing', 'Typing', 'Typing', 'Typing', 'Typing', 'Typing', 'Typing', 'Typing', 'Typing', 'Typing', 'Typing', 'Typing', 'Typing', 'Typing', 'Typing', 'Typing', 'Typing', 'Typing', 'Typing', 'Typing', 'Typing', 'Typing', 'Typing', 'Typing', 'Typing', 'Typing', 'Typing', 'Typing', 'Typing', 'Typing', 'Typing', 'Typing', 'Typing', 'Typing', 'WalkingWithDog', 'WalkingWithDog', 'WalkingWithDog', 'WalkingWithDog', 'WalkingWithDog', 'WalkingWithDog', 'WalkingWithDog', 'WalkingWithDog', 'WalkingWithDog', 'WalkingWithDog', 'WalkingWithDog', 'WalkingWithDog', 'WalkingWithDog', 'WalkingWithDog', 'WalkingWithDog', 'WalkingWithDog', 'WalkingWithDog', 'WalkingWithDog', 'WalkingWithDog', 'WalkingWithDog', 'WalkingWithDog', 'WalkingWithDog', 'WalkingWithDog', 'WalkingWithDog', 'WalkingWithDog', 'WalkingWithDog', 'WalkingWithDog', 'WalkingWithDog', 'WalkingWithDog', 'WalkingWithDog', 'WalkingWithDog', 'WalkingWithDog', 'WalkingWithDog', 'WalkingWithDog', 'WalkingWithDog', 'WalkingWithDog', 'Knitting', 'Knitting', 'Knitting', 'Knitting', 'Knitting', 'Knitting', 'Knitting', 'Knitting', 'Knitting', 'Knitting', 'Knitting', 'Knitting', 'Knitting', 'Knitting', 'Knitting', 'Knitting', 'Knitting', 'Knitting', 'Knitting', 'Knitting', 'Knitting', 'Knitting', 'Knitting', 'Knitting', 'Knitting', 'Knitting', 'Knitting', 'Knitting', 'Knitting']\n",
      "['BabyCrawling', 'BabyCrawling', 'BabyCrawling', 'BabyCrawling', 'BabyCrawling', 'BabyCrawling', 'BabyCrawling', 'BabyCrawling', 'BabyCrawling', 'BabyCrawling', 'BabyCrawling', 'BabyCrawling', 'BabyCrawling', 'BabyCrawling', 'BabyCrawling', 'BabyCrawling', 'BabyCrawling', 'BabyCrawling', 'BabyCrawling', 'BabyCrawling', 'BabyCrawling', 'BabyCrawling', 'BabyCrawling', 'BabyCrawling', 'BabyCrawling', 'BabyCrawling', 'BabyCrawling', 'BabyCrawling', 'BabyCrawling', 'BabyCrawling', 'BabyCrawling', 'BabyCrawling', 'BabyCrawling', 'BabyCrawling', 'BabyCrawling', 'Surfing', 'Surfing', 'Surfing', 'Surfing', 'Surfing', 'Surfing', 'Surfing', 'Surfing', 'Surfing', 'Surfing', 'Surfing', 'Surfing', 'Surfing', 'Surfing', 'Surfing', 'Surfing', 'Surfing', 'Surfing', 'Surfing', 'Surfing', 'Surfing', 'Surfing', 'Surfing', 'Surfing', 'Surfing', 'Surfing', 'Surfing', 'Surfing', 'Surfing', 'Surfing', 'Surfing', 'Surfing', 'Surfing', 'Typing', 'Typing', 'Typing', 'Typing', 'Typing', 'Typing', 'Typing', 'Typing', 'Typing', 'Typing', 'Typing', 'Typing', 'Typing', 'Typing', 'Typing', 'Typing', 'Typing', 'Typing', 'Typing', 'Typing', 'BabyCrawling', 'Knitting', 'Knitting', 'Knitting', 'Typing', 'Typing', 'Typing', 'Typing', 'Typing', 'Typing', 'Typing', 'Typing', 'Typing', 'Typing', 'Typing', 'Typing', 'Typing', 'Typing', 'Typing', 'Typing', 'Typing', 'Typing', 'Typing', 'WalkingWithDog', 'WalkingWithDog', 'WalkingWithDog', 'WalkingWithDog', 'WalkingWithDog', 'WalkingWithDog', 'WalkingWithDog', 'WalkingWithDog', 'WalkingWithDog', 'WalkingWithDog', 'WalkingWithDog', 'WalkingWithDog', 'WalkingWithDog', 'WalkingWithDog', 'WalkingWithDog', 'Surfing', 'WalkingWithDog', 'WalkingWithDog', 'WalkingWithDog', 'WalkingWithDog', 'WalkingWithDog', 'WalkingWithDog', 'WalkingWithDog', 'WalkingWithDog', 'WalkingWithDog', 'WalkingWithDog', 'WalkingWithDog', 'WalkingWithDog', 'WalkingWithDog', 'WalkingWithDog', 'WalkingWithDog', 'WalkingWithDog', 'WalkingWithDog', 'WalkingWithDog', 'WalkingWithDog', 'WalkingWithDog', 'Knitting', 'Knitting', 'Knitting', 'Knitting', 'Knitting', 'Knitting', 'Knitting', 'Knitting', 'Knitting', 'Knitting', 'Knitting', 'Knitting', 'Knitting', 'Knitting', 'Knitting', 'Knitting', 'Knitting', 'Knitting', 'Knitting', 'Knitting', 'Knitting', 'Knitting', 'Knitting', 'Knitting', 'Knitting', 'Knitting', 'Knitting', 'Knitting', 'Knitting']\n"
     ]
    },
    {
     "name": "stderr",
     "output_type": "stream",
     "text": [
      " 85%|████████████████████████████████████████████████████████████████████            | 177/208 [03:39<00:39,  1.26s/it]"
     ]
    },
    {
     "name": "stdout",
     "output_type": "stream",
     "text": [
      "['BabyCrawling', 'BabyCrawling', 'BabyCrawling', 'BabyCrawling', 'BabyCrawling', 'BabyCrawling', 'BabyCrawling', 'BabyCrawling', 'BabyCrawling', 'BabyCrawling', 'BabyCrawling', 'BabyCrawling', 'BabyCrawling', 'BabyCrawling', 'BabyCrawling', 'BabyCrawling', 'BabyCrawling', 'BabyCrawling', 'BabyCrawling', 'BabyCrawling', 'BabyCrawling', 'BabyCrawling', 'BabyCrawling', 'BabyCrawling', 'BabyCrawling', 'BabyCrawling', 'BabyCrawling', 'BabyCrawling', 'BabyCrawling', 'BabyCrawling', 'BabyCrawling', 'BabyCrawling', 'BabyCrawling', 'BabyCrawling', 'BabyCrawling', 'Surfing', 'Surfing', 'Surfing', 'Surfing', 'Surfing', 'Surfing', 'Surfing', 'Surfing', 'Surfing', 'Surfing', 'Surfing', 'Surfing', 'Surfing', 'Surfing', 'Surfing', 'Surfing', 'Surfing', 'Surfing', 'Surfing', 'Surfing', 'Surfing', 'Surfing', 'Surfing', 'Surfing', 'Surfing', 'Surfing', 'Surfing', 'Surfing', 'Surfing', 'Surfing', 'Surfing', 'Surfing', 'Surfing', 'Typing', 'Typing', 'Typing', 'Typing', 'Typing', 'Typing', 'Typing', 'Typing', 'Typing', 'Typing', 'Typing', 'Typing', 'Typing', 'Typing', 'Typing', 'Typing', 'Typing', 'Typing', 'Typing', 'Typing', 'Typing', 'Typing', 'Typing', 'Typing', 'Typing', 'Typing', 'Typing', 'Typing', 'Typing', 'Typing', 'Typing', 'Typing', 'Typing', 'Typing', 'Typing', 'Typing', 'Typing', 'Typing', 'Typing', 'Typing', 'Typing', 'Typing', 'Typing', 'WalkingWithDog', 'WalkingWithDog', 'WalkingWithDog', 'WalkingWithDog', 'WalkingWithDog', 'WalkingWithDog', 'WalkingWithDog', 'WalkingWithDog', 'WalkingWithDog', 'WalkingWithDog', 'WalkingWithDog', 'WalkingWithDog', 'WalkingWithDog', 'WalkingWithDog', 'WalkingWithDog', 'WalkingWithDog', 'WalkingWithDog', 'WalkingWithDog', 'WalkingWithDog', 'WalkingWithDog', 'WalkingWithDog', 'WalkingWithDog', 'WalkingWithDog', 'WalkingWithDog', 'WalkingWithDog', 'WalkingWithDog', 'WalkingWithDog', 'WalkingWithDog', 'WalkingWithDog', 'WalkingWithDog', 'WalkingWithDog', 'WalkingWithDog', 'WalkingWithDog', 'WalkingWithDog', 'WalkingWithDog', 'WalkingWithDog', 'Knitting', 'Knitting', 'Knitting', 'Knitting', 'Knitting', 'Knitting', 'Knitting', 'Knitting', 'Knitting', 'Knitting', 'Knitting', 'Knitting', 'Knitting', 'Knitting', 'Knitting', 'Knitting', 'Knitting', 'Knitting', 'Knitting', 'Knitting', 'Knitting', 'Knitting', 'Knitting', 'Knitting', 'Knitting', 'Knitting', 'Knitting', 'Knitting', 'Knitting', 'Knitting']\n",
      "['BabyCrawling', 'BabyCrawling', 'BabyCrawling', 'BabyCrawling', 'BabyCrawling', 'BabyCrawling', 'BabyCrawling', 'BabyCrawling', 'BabyCrawling', 'BabyCrawling', 'BabyCrawling', 'BabyCrawling', 'BabyCrawling', 'BabyCrawling', 'BabyCrawling', 'BabyCrawling', 'BabyCrawling', 'BabyCrawling', 'BabyCrawling', 'BabyCrawling', 'BabyCrawling', 'BabyCrawling', 'BabyCrawling', 'BabyCrawling', 'BabyCrawling', 'BabyCrawling', 'BabyCrawling', 'BabyCrawling', 'BabyCrawling', 'BabyCrawling', 'BabyCrawling', 'BabyCrawling', 'BabyCrawling', 'BabyCrawling', 'BabyCrawling', 'Surfing', 'Surfing', 'Surfing', 'Surfing', 'Surfing', 'Surfing', 'Surfing', 'Surfing', 'Surfing', 'Surfing', 'Surfing', 'Surfing', 'Surfing', 'Surfing', 'Surfing', 'Surfing', 'Surfing', 'Surfing', 'Surfing', 'Surfing', 'Surfing', 'Surfing', 'Surfing', 'Surfing', 'Surfing', 'Surfing', 'Surfing', 'Surfing', 'Surfing', 'Surfing', 'Surfing', 'Surfing', 'Surfing', 'Typing', 'Typing', 'Typing', 'Typing', 'Typing', 'Typing', 'Typing', 'Typing', 'Typing', 'Typing', 'Typing', 'Typing', 'Typing', 'Typing', 'Typing', 'Typing', 'Typing', 'Typing', 'Typing', 'Typing', 'BabyCrawling', 'Knitting', 'Knitting', 'Knitting', 'Typing', 'Typing', 'Typing', 'Typing', 'Typing', 'Typing', 'Typing', 'Typing', 'Typing', 'Typing', 'Typing', 'Typing', 'Typing', 'Typing', 'Typing', 'Typing', 'Typing', 'Typing', 'Typing', 'WalkingWithDog', 'WalkingWithDog', 'WalkingWithDog', 'WalkingWithDog', 'WalkingWithDog', 'WalkingWithDog', 'WalkingWithDog', 'WalkingWithDog', 'WalkingWithDog', 'WalkingWithDog', 'WalkingWithDog', 'WalkingWithDog', 'WalkingWithDog', 'WalkingWithDog', 'WalkingWithDog', 'Surfing', 'WalkingWithDog', 'WalkingWithDog', 'WalkingWithDog', 'WalkingWithDog', 'WalkingWithDog', 'WalkingWithDog', 'WalkingWithDog', 'WalkingWithDog', 'WalkingWithDog', 'WalkingWithDog', 'WalkingWithDog', 'WalkingWithDog', 'WalkingWithDog', 'WalkingWithDog', 'WalkingWithDog', 'WalkingWithDog', 'WalkingWithDog', 'WalkingWithDog', 'WalkingWithDog', 'WalkingWithDog', 'Knitting', 'Knitting', 'Knitting', 'Knitting', 'Knitting', 'Knitting', 'Knitting', 'Knitting', 'Knitting', 'Knitting', 'Knitting', 'Knitting', 'Knitting', 'Knitting', 'Knitting', 'Knitting', 'Knitting', 'Knitting', 'Knitting', 'Knitting', 'Knitting', 'Knitting', 'Knitting', 'Knitting', 'Knitting', 'Knitting', 'Knitting', 'Knitting', 'Knitting', 'Knitting']\n"
     ]
    },
    {
     "name": "stderr",
     "output_type": "stream",
     "text": [
      " 86%|████████████████████████████████████████████████████████████████████▍           | 178/208 [03:41<00:40,  1.34s/it]"
     ]
    },
    {
     "name": "stdout",
     "output_type": "stream",
     "text": [
      "['BabyCrawling', 'BabyCrawling', 'BabyCrawling', 'BabyCrawling', 'BabyCrawling', 'BabyCrawling', 'BabyCrawling', 'BabyCrawling', 'BabyCrawling', 'BabyCrawling', 'BabyCrawling', 'BabyCrawling', 'BabyCrawling', 'BabyCrawling', 'BabyCrawling', 'BabyCrawling', 'BabyCrawling', 'BabyCrawling', 'BabyCrawling', 'BabyCrawling', 'BabyCrawling', 'BabyCrawling', 'BabyCrawling', 'BabyCrawling', 'BabyCrawling', 'BabyCrawling', 'BabyCrawling', 'BabyCrawling', 'BabyCrawling', 'BabyCrawling', 'BabyCrawling', 'BabyCrawling', 'BabyCrawling', 'BabyCrawling', 'BabyCrawling', 'Surfing', 'Surfing', 'Surfing', 'Surfing', 'Surfing', 'Surfing', 'Surfing', 'Surfing', 'Surfing', 'Surfing', 'Surfing', 'Surfing', 'Surfing', 'Surfing', 'Surfing', 'Surfing', 'Surfing', 'Surfing', 'Surfing', 'Surfing', 'Surfing', 'Surfing', 'Surfing', 'Surfing', 'Surfing', 'Surfing', 'Surfing', 'Surfing', 'Surfing', 'Surfing', 'Surfing', 'Surfing', 'Surfing', 'Typing', 'Typing', 'Typing', 'Typing', 'Typing', 'Typing', 'Typing', 'Typing', 'Typing', 'Typing', 'Typing', 'Typing', 'Typing', 'Typing', 'Typing', 'Typing', 'Typing', 'Typing', 'Typing', 'Typing', 'Typing', 'Typing', 'Typing', 'Typing', 'Typing', 'Typing', 'Typing', 'Typing', 'Typing', 'Typing', 'Typing', 'Typing', 'Typing', 'Typing', 'Typing', 'Typing', 'Typing', 'Typing', 'Typing', 'Typing', 'Typing', 'Typing', 'Typing', 'WalkingWithDog', 'WalkingWithDog', 'WalkingWithDog', 'WalkingWithDog', 'WalkingWithDog', 'WalkingWithDog', 'WalkingWithDog', 'WalkingWithDog', 'WalkingWithDog', 'WalkingWithDog', 'WalkingWithDog', 'WalkingWithDog', 'WalkingWithDog', 'WalkingWithDog', 'WalkingWithDog', 'WalkingWithDog', 'WalkingWithDog', 'WalkingWithDog', 'WalkingWithDog', 'WalkingWithDog', 'WalkingWithDog', 'WalkingWithDog', 'WalkingWithDog', 'WalkingWithDog', 'WalkingWithDog', 'WalkingWithDog', 'WalkingWithDog', 'WalkingWithDog', 'WalkingWithDog', 'WalkingWithDog', 'WalkingWithDog', 'WalkingWithDog', 'WalkingWithDog', 'WalkingWithDog', 'WalkingWithDog', 'WalkingWithDog', 'Knitting', 'Knitting', 'Knitting', 'Knitting', 'Knitting', 'Knitting', 'Knitting', 'Knitting', 'Knitting', 'Knitting', 'Knitting', 'Knitting', 'Knitting', 'Knitting', 'Knitting', 'Knitting', 'Knitting', 'Knitting', 'Knitting', 'Knitting', 'Knitting', 'Knitting', 'Knitting', 'Knitting', 'Knitting', 'Knitting', 'Knitting', 'Knitting', 'Knitting', 'Knitting', 'Knitting']\n",
      "['BabyCrawling', 'BabyCrawling', 'BabyCrawling', 'BabyCrawling', 'BabyCrawling', 'BabyCrawling', 'BabyCrawling', 'BabyCrawling', 'BabyCrawling', 'BabyCrawling', 'BabyCrawling', 'BabyCrawling', 'BabyCrawling', 'BabyCrawling', 'BabyCrawling', 'BabyCrawling', 'BabyCrawling', 'BabyCrawling', 'BabyCrawling', 'BabyCrawling', 'BabyCrawling', 'BabyCrawling', 'BabyCrawling', 'BabyCrawling', 'BabyCrawling', 'BabyCrawling', 'BabyCrawling', 'BabyCrawling', 'BabyCrawling', 'BabyCrawling', 'BabyCrawling', 'BabyCrawling', 'BabyCrawling', 'BabyCrawling', 'BabyCrawling', 'Surfing', 'Surfing', 'Surfing', 'Surfing', 'Surfing', 'Surfing', 'Surfing', 'Surfing', 'Surfing', 'Surfing', 'Surfing', 'Surfing', 'Surfing', 'Surfing', 'Surfing', 'Surfing', 'Surfing', 'Surfing', 'Surfing', 'Surfing', 'Surfing', 'Surfing', 'Surfing', 'Surfing', 'Surfing', 'Surfing', 'Surfing', 'Surfing', 'Surfing', 'Surfing', 'Surfing', 'Surfing', 'Surfing', 'Typing', 'Typing', 'Typing', 'Typing', 'Typing', 'Typing', 'Typing', 'Typing', 'Typing', 'Typing', 'Typing', 'Typing', 'Typing', 'Typing', 'Typing', 'Typing', 'Typing', 'Typing', 'Typing', 'Typing', 'BabyCrawling', 'Knitting', 'Knitting', 'Knitting', 'Typing', 'Typing', 'Typing', 'Typing', 'Typing', 'Typing', 'Typing', 'Typing', 'Typing', 'Typing', 'Typing', 'Typing', 'Typing', 'Typing', 'Typing', 'Typing', 'Typing', 'Typing', 'Typing', 'WalkingWithDog', 'WalkingWithDog', 'WalkingWithDog', 'WalkingWithDog', 'WalkingWithDog', 'WalkingWithDog', 'WalkingWithDog', 'WalkingWithDog', 'WalkingWithDog', 'WalkingWithDog', 'WalkingWithDog', 'WalkingWithDog', 'WalkingWithDog', 'WalkingWithDog', 'WalkingWithDog', 'Surfing', 'WalkingWithDog', 'WalkingWithDog', 'WalkingWithDog', 'WalkingWithDog', 'WalkingWithDog', 'WalkingWithDog', 'WalkingWithDog', 'WalkingWithDog', 'WalkingWithDog', 'WalkingWithDog', 'WalkingWithDog', 'WalkingWithDog', 'WalkingWithDog', 'WalkingWithDog', 'WalkingWithDog', 'WalkingWithDog', 'WalkingWithDog', 'WalkingWithDog', 'WalkingWithDog', 'WalkingWithDog', 'Knitting', 'Knitting', 'Knitting', 'Knitting', 'Knitting', 'Knitting', 'Knitting', 'Knitting', 'Knitting', 'Knitting', 'Knitting', 'Knitting', 'Knitting', 'Knitting', 'Knitting', 'Knitting', 'Knitting', 'Knitting', 'Knitting', 'Knitting', 'Knitting', 'Knitting', 'Knitting', 'Knitting', 'Knitting', 'Knitting', 'Knitting', 'Knitting', 'Knitting', 'Knitting', 'Knitting']\n"
     ]
    },
    {
     "name": "stderr",
     "output_type": "stream",
     "text": [
      " 86%|████████████████████████████████████████████████████████████████████▊           | 179/208 [03:42<00:37,  1.30s/it]"
     ]
    },
    {
     "name": "stdout",
     "output_type": "stream",
     "text": [
      "['BabyCrawling', 'BabyCrawling', 'BabyCrawling', 'BabyCrawling', 'BabyCrawling', 'BabyCrawling', 'BabyCrawling', 'BabyCrawling', 'BabyCrawling', 'BabyCrawling', 'BabyCrawling', 'BabyCrawling', 'BabyCrawling', 'BabyCrawling', 'BabyCrawling', 'BabyCrawling', 'BabyCrawling', 'BabyCrawling', 'BabyCrawling', 'BabyCrawling', 'BabyCrawling', 'BabyCrawling', 'BabyCrawling', 'BabyCrawling', 'BabyCrawling', 'BabyCrawling', 'BabyCrawling', 'BabyCrawling', 'BabyCrawling', 'BabyCrawling', 'BabyCrawling', 'BabyCrawling', 'BabyCrawling', 'BabyCrawling', 'BabyCrawling', 'Surfing', 'Surfing', 'Surfing', 'Surfing', 'Surfing', 'Surfing', 'Surfing', 'Surfing', 'Surfing', 'Surfing', 'Surfing', 'Surfing', 'Surfing', 'Surfing', 'Surfing', 'Surfing', 'Surfing', 'Surfing', 'Surfing', 'Surfing', 'Surfing', 'Surfing', 'Surfing', 'Surfing', 'Surfing', 'Surfing', 'Surfing', 'Surfing', 'Surfing', 'Surfing', 'Surfing', 'Surfing', 'Surfing', 'Typing', 'Typing', 'Typing', 'Typing', 'Typing', 'Typing', 'Typing', 'Typing', 'Typing', 'Typing', 'Typing', 'Typing', 'Typing', 'Typing', 'Typing', 'Typing', 'Typing', 'Typing', 'Typing', 'Typing', 'Typing', 'Typing', 'Typing', 'Typing', 'Typing', 'Typing', 'Typing', 'Typing', 'Typing', 'Typing', 'Typing', 'Typing', 'Typing', 'Typing', 'Typing', 'Typing', 'Typing', 'Typing', 'Typing', 'Typing', 'Typing', 'Typing', 'Typing', 'WalkingWithDog', 'WalkingWithDog', 'WalkingWithDog', 'WalkingWithDog', 'WalkingWithDog', 'WalkingWithDog', 'WalkingWithDog', 'WalkingWithDog', 'WalkingWithDog', 'WalkingWithDog', 'WalkingWithDog', 'WalkingWithDog', 'WalkingWithDog', 'WalkingWithDog', 'WalkingWithDog', 'WalkingWithDog', 'WalkingWithDog', 'WalkingWithDog', 'WalkingWithDog', 'WalkingWithDog', 'WalkingWithDog', 'WalkingWithDog', 'WalkingWithDog', 'WalkingWithDog', 'WalkingWithDog', 'WalkingWithDog', 'WalkingWithDog', 'WalkingWithDog', 'WalkingWithDog', 'WalkingWithDog', 'WalkingWithDog', 'WalkingWithDog', 'WalkingWithDog', 'WalkingWithDog', 'WalkingWithDog', 'WalkingWithDog', 'Knitting', 'Knitting', 'Knitting', 'Knitting', 'Knitting', 'Knitting', 'Knitting', 'Knitting', 'Knitting', 'Knitting', 'Knitting', 'Knitting', 'Knitting', 'Knitting', 'Knitting', 'Knitting', 'Knitting', 'Knitting', 'Knitting', 'Knitting', 'Knitting', 'Knitting', 'Knitting', 'Knitting', 'Knitting', 'Knitting', 'Knitting', 'Knitting', 'Knitting', 'Knitting', 'Knitting', 'Knitting']\n",
      "['BabyCrawling', 'BabyCrawling', 'BabyCrawling', 'BabyCrawling', 'BabyCrawling', 'BabyCrawling', 'BabyCrawling', 'BabyCrawling', 'BabyCrawling', 'BabyCrawling', 'BabyCrawling', 'BabyCrawling', 'BabyCrawling', 'BabyCrawling', 'BabyCrawling', 'BabyCrawling', 'BabyCrawling', 'BabyCrawling', 'BabyCrawling', 'BabyCrawling', 'BabyCrawling', 'BabyCrawling', 'BabyCrawling', 'BabyCrawling', 'BabyCrawling', 'BabyCrawling', 'BabyCrawling', 'BabyCrawling', 'BabyCrawling', 'BabyCrawling', 'BabyCrawling', 'BabyCrawling', 'BabyCrawling', 'BabyCrawling', 'BabyCrawling', 'Surfing', 'Surfing', 'Surfing', 'Surfing', 'Surfing', 'Surfing', 'Surfing', 'Surfing', 'Surfing', 'Surfing', 'Surfing', 'Surfing', 'Surfing', 'Surfing', 'Surfing', 'Surfing', 'Surfing', 'Surfing', 'Surfing', 'Surfing', 'Surfing', 'Surfing', 'Surfing', 'Surfing', 'Surfing', 'Surfing', 'Surfing', 'Surfing', 'Surfing', 'Surfing', 'Surfing', 'Surfing', 'Surfing', 'Typing', 'Typing', 'Typing', 'Typing', 'Typing', 'Typing', 'Typing', 'Typing', 'Typing', 'Typing', 'Typing', 'Typing', 'Typing', 'Typing', 'Typing', 'Typing', 'Typing', 'Typing', 'Typing', 'Typing', 'BabyCrawling', 'Knitting', 'Knitting', 'Knitting', 'Typing', 'Typing', 'Typing', 'Typing', 'Typing', 'Typing', 'Typing', 'Typing', 'Typing', 'Typing', 'Typing', 'Typing', 'Typing', 'Typing', 'Typing', 'Typing', 'Typing', 'Typing', 'Typing', 'WalkingWithDog', 'WalkingWithDog', 'WalkingWithDog', 'WalkingWithDog', 'WalkingWithDog', 'WalkingWithDog', 'WalkingWithDog', 'WalkingWithDog', 'WalkingWithDog', 'WalkingWithDog', 'WalkingWithDog', 'WalkingWithDog', 'WalkingWithDog', 'WalkingWithDog', 'WalkingWithDog', 'Surfing', 'WalkingWithDog', 'WalkingWithDog', 'WalkingWithDog', 'WalkingWithDog', 'WalkingWithDog', 'WalkingWithDog', 'WalkingWithDog', 'WalkingWithDog', 'WalkingWithDog', 'WalkingWithDog', 'WalkingWithDog', 'WalkingWithDog', 'WalkingWithDog', 'WalkingWithDog', 'WalkingWithDog', 'WalkingWithDog', 'WalkingWithDog', 'WalkingWithDog', 'WalkingWithDog', 'WalkingWithDog', 'Knitting', 'Knitting', 'Knitting', 'Knitting', 'Knitting', 'Knitting', 'Knitting', 'Knitting', 'Knitting', 'Knitting', 'Knitting', 'Knitting', 'Knitting', 'Knitting', 'Knitting', 'Knitting', 'Knitting', 'Knitting', 'Knitting', 'Knitting', 'Knitting', 'Knitting', 'Knitting', 'Knitting', 'Knitting', 'Knitting', 'Knitting', 'Knitting', 'Knitting', 'Knitting', 'Knitting', 'Knitting']\n"
     ]
    },
    {
     "name": "stderr",
     "output_type": "stream",
     "text": [
      " 87%|█████████████████████████████████████████████████████████████████████▏          | 180/208 [03:43<00:34,  1.23s/it]"
     ]
    },
    {
     "name": "stdout",
     "output_type": "stream",
     "text": [
      "['BabyCrawling', 'BabyCrawling', 'BabyCrawling', 'BabyCrawling', 'BabyCrawling', 'BabyCrawling', 'BabyCrawling', 'BabyCrawling', 'BabyCrawling', 'BabyCrawling', 'BabyCrawling', 'BabyCrawling', 'BabyCrawling', 'BabyCrawling', 'BabyCrawling', 'BabyCrawling', 'BabyCrawling', 'BabyCrawling', 'BabyCrawling', 'BabyCrawling', 'BabyCrawling', 'BabyCrawling', 'BabyCrawling', 'BabyCrawling', 'BabyCrawling', 'BabyCrawling', 'BabyCrawling', 'BabyCrawling', 'BabyCrawling', 'BabyCrawling', 'BabyCrawling', 'BabyCrawling', 'BabyCrawling', 'BabyCrawling', 'BabyCrawling', 'Surfing', 'Surfing', 'Surfing', 'Surfing', 'Surfing', 'Surfing', 'Surfing', 'Surfing', 'Surfing', 'Surfing', 'Surfing', 'Surfing', 'Surfing', 'Surfing', 'Surfing', 'Surfing', 'Surfing', 'Surfing', 'Surfing', 'Surfing', 'Surfing', 'Surfing', 'Surfing', 'Surfing', 'Surfing', 'Surfing', 'Surfing', 'Surfing', 'Surfing', 'Surfing', 'Surfing', 'Surfing', 'Surfing', 'Typing', 'Typing', 'Typing', 'Typing', 'Typing', 'Typing', 'Typing', 'Typing', 'Typing', 'Typing', 'Typing', 'Typing', 'Typing', 'Typing', 'Typing', 'Typing', 'Typing', 'Typing', 'Typing', 'Typing', 'Typing', 'Typing', 'Typing', 'Typing', 'Typing', 'Typing', 'Typing', 'Typing', 'Typing', 'Typing', 'Typing', 'Typing', 'Typing', 'Typing', 'Typing', 'Typing', 'Typing', 'Typing', 'Typing', 'Typing', 'Typing', 'Typing', 'Typing', 'WalkingWithDog', 'WalkingWithDog', 'WalkingWithDog', 'WalkingWithDog', 'WalkingWithDog', 'WalkingWithDog', 'WalkingWithDog', 'WalkingWithDog', 'WalkingWithDog', 'WalkingWithDog', 'WalkingWithDog', 'WalkingWithDog', 'WalkingWithDog', 'WalkingWithDog', 'WalkingWithDog', 'WalkingWithDog', 'WalkingWithDog', 'WalkingWithDog', 'WalkingWithDog', 'WalkingWithDog', 'WalkingWithDog', 'WalkingWithDog', 'WalkingWithDog', 'WalkingWithDog', 'WalkingWithDog', 'WalkingWithDog', 'WalkingWithDog', 'WalkingWithDog', 'WalkingWithDog', 'WalkingWithDog', 'WalkingWithDog', 'WalkingWithDog', 'WalkingWithDog', 'WalkingWithDog', 'WalkingWithDog', 'WalkingWithDog', 'Knitting', 'Knitting', 'Knitting', 'Knitting', 'Knitting', 'Knitting', 'Knitting', 'Knitting', 'Knitting', 'Knitting', 'Knitting', 'Knitting', 'Knitting', 'Knitting', 'Knitting', 'Knitting', 'Knitting', 'Knitting', 'Knitting', 'Knitting', 'Knitting', 'Knitting', 'Knitting', 'Knitting', 'Knitting', 'Knitting', 'Knitting', 'Knitting', 'Knitting', 'Knitting', 'Knitting', 'Knitting', 'Knitting']\n",
      "['BabyCrawling', 'BabyCrawling', 'BabyCrawling', 'BabyCrawling', 'BabyCrawling', 'BabyCrawling', 'BabyCrawling', 'BabyCrawling', 'BabyCrawling', 'BabyCrawling', 'BabyCrawling', 'BabyCrawling', 'BabyCrawling', 'BabyCrawling', 'BabyCrawling', 'BabyCrawling', 'BabyCrawling', 'BabyCrawling', 'BabyCrawling', 'BabyCrawling', 'BabyCrawling', 'BabyCrawling', 'BabyCrawling', 'BabyCrawling', 'BabyCrawling', 'BabyCrawling', 'BabyCrawling', 'BabyCrawling', 'BabyCrawling', 'BabyCrawling', 'BabyCrawling', 'BabyCrawling', 'BabyCrawling', 'BabyCrawling', 'BabyCrawling', 'Surfing', 'Surfing', 'Surfing', 'Surfing', 'Surfing', 'Surfing', 'Surfing', 'Surfing', 'Surfing', 'Surfing', 'Surfing', 'Surfing', 'Surfing', 'Surfing', 'Surfing', 'Surfing', 'Surfing', 'Surfing', 'Surfing', 'Surfing', 'Surfing', 'Surfing', 'Surfing', 'Surfing', 'Surfing', 'Surfing', 'Surfing', 'Surfing', 'Surfing', 'Surfing', 'Surfing', 'Surfing', 'Surfing', 'Typing', 'Typing', 'Typing', 'Typing', 'Typing', 'Typing', 'Typing', 'Typing', 'Typing', 'Typing', 'Typing', 'Typing', 'Typing', 'Typing', 'Typing', 'Typing', 'Typing', 'Typing', 'Typing', 'Typing', 'BabyCrawling', 'Knitting', 'Knitting', 'Knitting', 'Typing', 'Typing', 'Typing', 'Typing', 'Typing', 'Typing', 'Typing', 'Typing', 'Typing', 'Typing', 'Typing', 'Typing', 'Typing', 'Typing', 'Typing', 'Typing', 'Typing', 'Typing', 'Typing', 'WalkingWithDog', 'WalkingWithDog', 'WalkingWithDog', 'WalkingWithDog', 'WalkingWithDog', 'WalkingWithDog', 'WalkingWithDog', 'WalkingWithDog', 'WalkingWithDog', 'WalkingWithDog', 'WalkingWithDog', 'WalkingWithDog', 'WalkingWithDog', 'WalkingWithDog', 'WalkingWithDog', 'Surfing', 'WalkingWithDog', 'WalkingWithDog', 'WalkingWithDog', 'WalkingWithDog', 'WalkingWithDog', 'WalkingWithDog', 'WalkingWithDog', 'WalkingWithDog', 'WalkingWithDog', 'WalkingWithDog', 'WalkingWithDog', 'WalkingWithDog', 'WalkingWithDog', 'WalkingWithDog', 'WalkingWithDog', 'WalkingWithDog', 'WalkingWithDog', 'WalkingWithDog', 'WalkingWithDog', 'WalkingWithDog', 'Knitting', 'Knitting', 'Knitting', 'Knitting', 'Knitting', 'Knitting', 'Knitting', 'Knitting', 'Knitting', 'Knitting', 'Knitting', 'Knitting', 'Knitting', 'Knitting', 'Knitting', 'Knitting', 'Knitting', 'Knitting', 'Knitting', 'Knitting', 'Knitting', 'Knitting', 'Knitting', 'Knitting', 'Knitting', 'Knitting', 'Knitting', 'Knitting', 'Knitting', 'Knitting', 'Knitting', 'Knitting', 'Knitting']\n"
     ]
    },
    {
     "name": "stderr",
     "output_type": "stream",
     "text": [
      " 87%|█████████████████████████████████████████████████████████████████████▌          | 181/208 [03:45<00:34,  1.27s/it]"
     ]
    },
    {
     "name": "stdout",
     "output_type": "stream",
     "text": [
      "['BabyCrawling', 'BabyCrawling', 'BabyCrawling', 'BabyCrawling', 'BabyCrawling', 'BabyCrawling', 'BabyCrawling', 'BabyCrawling', 'BabyCrawling', 'BabyCrawling', 'BabyCrawling', 'BabyCrawling', 'BabyCrawling', 'BabyCrawling', 'BabyCrawling', 'BabyCrawling', 'BabyCrawling', 'BabyCrawling', 'BabyCrawling', 'BabyCrawling', 'BabyCrawling', 'BabyCrawling', 'BabyCrawling', 'BabyCrawling', 'BabyCrawling', 'BabyCrawling', 'BabyCrawling', 'BabyCrawling', 'BabyCrawling', 'BabyCrawling', 'BabyCrawling', 'BabyCrawling', 'BabyCrawling', 'BabyCrawling', 'BabyCrawling', 'Surfing', 'Surfing', 'Surfing', 'Surfing', 'Surfing', 'Surfing', 'Surfing', 'Surfing', 'Surfing', 'Surfing', 'Surfing', 'Surfing', 'Surfing', 'Surfing', 'Surfing', 'Surfing', 'Surfing', 'Surfing', 'Surfing', 'Surfing', 'Surfing', 'Surfing', 'Surfing', 'Surfing', 'Surfing', 'Surfing', 'Surfing', 'Surfing', 'Surfing', 'Surfing', 'Surfing', 'Surfing', 'Surfing', 'Typing', 'Typing', 'Typing', 'Typing', 'Typing', 'Typing', 'Typing', 'Typing', 'Typing', 'Typing', 'Typing', 'Typing', 'Typing', 'Typing', 'Typing', 'Typing', 'Typing', 'Typing', 'Typing', 'Typing', 'Typing', 'Typing', 'Typing', 'Typing', 'Typing', 'Typing', 'Typing', 'Typing', 'Typing', 'Typing', 'Typing', 'Typing', 'Typing', 'Typing', 'Typing', 'Typing', 'Typing', 'Typing', 'Typing', 'Typing', 'Typing', 'Typing', 'Typing', 'WalkingWithDog', 'WalkingWithDog', 'WalkingWithDog', 'WalkingWithDog', 'WalkingWithDog', 'WalkingWithDog', 'WalkingWithDog', 'WalkingWithDog', 'WalkingWithDog', 'WalkingWithDog', 'WalkingWithDog', 'WalkingWithDog', 'WalkingWithDog', 'WalkingWithDog', 'WalkingWithDog', 'WalkingWithDog', 'WalkingWithDog', 'WalkingWithDog', 'WalkingWithDog', 'WalkingWithDog', 'WalkingWithDog', 'WalkingWithDog', 'WalkingWithDog', 'WalkingWithDog', 'WalkingWithDog', 'WalkingWithDog', 'WalkingWithDog', 'WalkingWithDog', 'WalkingWithDog', 'WalkingWithDog', 'WalkingWithDog', 'WalkingWithDog', 'WalkingWithDog', 'WalkingWithDog', 'WalkingWithDog', 'WalkingWithDog', 'Knitting', 'Knitting', 'Knitting', 'Knitting', 'Knitting', 'Knitting', 'Knitting', 'Knitting', 'Knitting', 'Knitting', 'Knitting', 'Knitting', 'Knitting', 'Knitting', 'Knitting', 'Knitting', 'Knitting', 'Knitting', 'Knitting', 'Knitting', 'Knitting', 'Knitting', 'Knitting', 'Knitting', 'Knitting', 'Knitting', 'Knitting', 'Knitting', 'Knitting', 'Knitting', 'Knitting', 'Knitting', 'Knitting', 'Knitting']\n",
      "['BabyCrawling', 'BabyCrawling', 'BabyCrawling', 'BabyCrawling', 'BabyCrawling', 'BabyCrawling', 'BabyCrawling', 'BabyCrawling', 'BabyCrawling', 'BabyCrawling', 'BabyCrawling', 'BabyCrawling', 'BabyCrawling', 'BabyCrawling', 'BabyCrawling', 'BabyCrawling', 'BabyCrawling', 'BabyCrawling', 'BabyCrawling', 'BabyCrawling', 'BabyCrawling', 'BabyCrawling', 'BabyCrawling', 'BabyCrawling', 'BabyCrawling', 'BabyCrawling', 'BabyCrawling', 'BabyCrawling', 'BabyCrawling', 'BabyCrawling', 'BabyCrawling', 'BabyCrawling', 'BabyCrawling', 'BabyCrawling', 'BabyCrawling', 'Surfing', 'Surfing', 'Surfing', 'Surfing', 'Surfing', 'Surfing', 'Surfing', 'Surfing', 'Surfing', 'Surfing', 'Surfing', 'Surfing', 'Surfing', 'Surfing', 'Surfing', 'Surfing', 'Surfing', 'Surfing', 'Surfing', 'Surfing', 'Surfing', 'Surfing', 'Surfing', 'Surfing', 'Surfing', 'Surfing', 'Surfing', 'Surfing', 'Surfing', 'Surfing', 'Surfing', 'Surfing', 'Surfing', 'Typing', 'Typing', 'Typing', 'Typing', 'Typing', 'Typing', 'Typing', 'Typing', 'Typing', 'Typing', 'Typing', 'Typing', 'Typing', 'Typing', 'Typing', 'Typing', 'Typing', 'Typing', 'Typing', 'Typing', 'BabyCrawling', 'Knitting', 'Knitting', 'Knitting', 'Typing', 'Typing', 'Typing', 'Typing', 'Typing', 'Typing', 'Typing', 'Typing', 'Typing', 'Typing', 'Typing', 'Typing', 'Typing', 'Typing', 'Typing', 'Typing', 'Typing', 'Typing', 'Typing', 'WalkingWithDog', 'WalkingWithDog', 'WalkingWithDog', 'WalkingWithDog', 'WalkingWithDog', 'WalkingWithDog', 'WalkingWithDog', 'WalkingWithDog', 'WalkingWithDog', 'WalkingWithDog', 'WalkingWithDog', 'WalkingWithDog', 'WalkingWithDog', 'WalkingWithDog', 'WalkingWithDog', 'Surfing', 'WalkingWithDog', 'WalkingWithDog', 'WalkingWithDog', 'WalkingWithDog', 'WalkingWithDog', 'WalkingWithDog', 'WalkingWithDog', 'WalkingWithDog', 'WalkingWithDog', 'WalkingWithDog', 'WalkingWithDog', 'WalkingWithDog', 'WalkingWithDog', 'WalkingWithDog', 'WalkingWithDog', 'WalkingWithDog', 'WalkingWithDog', 'WalkingWithDog', 'WalkingWithDog', 'WalkingWithDog', 'Knitting', 'Knitting', 'Knitting', 'Knitting', 'Knitting', 'Knitting', 'Knitting', 'Knitting', 'Knitting', 'Knitting', 'Knitting', 'Knitting', 'Knitting', 'Knitting', 'Knitting', 'Knitting', 'Knitting', 'Knitting', 'Knitting', 'Knitting', 'Knitting', 'Knitting', 'Knitting', 'Knitting', 'Knitting', 'Knitting', 'Knitting', 'Knitting', 'Knitting', 'Knitting', 'Knitting', 'Knitting', 'Knitting', 'Knitting']\n"
     ]
    },
    {
     "name": "stderr",
     "output_type": "stream",
     "text": [
      " 88%|██████████████████████████████████████████████████████████████████████          | 182/208 [03:46<00:32,  1.23s/it]"
     ]
    },
    {
     "name": "stdout",
     "output_type": "stream",
     "text": [
      "['BabyCrawling', 'BabyCrawling', 'BabyCrawling', 'BabyCrawling', 'BabyCrawling', 'BabyCrawling', 'BabyCrawling', 'BabyCrawling', 'BabyCrawling', 'BabyCrawling', 'BabyCrawling', 'BabyCrawling', 'BabyCrawling', 'BabyCrawling', 'BabyCrawling', 'BabyCrawling', 'BabyCrawling', 'BabyCrawling', 'BabyCrawling', 'BabyCrawling', 'BabyCrawling', 'BabyCrawling', 'BabyCrawling', 'BabyCrawling', 'BabyCrawling', 'BabyCrawling', 'BabyCrawling', 'BabyCrawling', 'BabyCrawling', 'BabyCrawling', 'BabyCrawling', 'BabyCrawling', 'BabyCrawling', 'BabyCrawling', 'BabyCrawling', 'Surfing', 'Surfing', 'Surfing', 'Surfing', 'Surfing', 'Surfing', 'Surfing', 'Surfing', 'Surfing', 'Surfing', 'Surfing', 'Surfing', 'Surfing', 'Surfing', 'Surfing', 'Surfing', 'Surfing', 'Surfing', 'Surfing', 'Surfing', 'Surfing', 'Surfing', 'Surfing', 'Surfing', 'Surfing', 'Surfing', 'Surfing', 'Surfing', 'Surfing', 'Surfing', 'Surfing', 'Surfing', 'Surfing', 'Typing', 'Typing', 'Typing', 'Typing', 'Typing', 'Typing', 'Typing', 'Typing', 'Typing', 'Typing', 'Typing', 'Typing', 'Typing', 'Typing', 'Typing', 'Typing', 'Typing', 'Typing', 'Typing', 'Typing', 'Typing', 'Typing', 'Typing', 'Typing', 'Typing', 'Typing', 'Typing', 'Typing', 'Typing', 'Typing', 'Typing', 'Typing', 'Typing', 'Typing', 'Typing', 'Typing', 'Typing', 'Typing', 'Typing', 'Typing', 'Typing', 'Typing', 'Typing', 'WalkingWithDog', 'WalkingWithDog', 'WalkingWithDog', 'WalkingWithDog', 'WalkingWithDog', 'WalkingWithDog', 'WalkingWithDog', 'WalkingWithDog', 'WalkingWithDog', 'WalkingWithDog', 'WalkingWithDog', 'WalkingWithDog', 'WalkingWithDog', 'WalkingWithDog', 'WalkingWithDog', 'WalkingWithDog', 'WalkingWithDog', 'WalkingWithDog', 'WalkingWithDog', 'WalkingWithDog', 'WalkingWithDog', 'WalkingWithDog', 'WalkingWithDog', 'WalkingWithDog', 'WalkingWithDog', 'WalkingWithDog', 'WalkingWithDog', 'WalkingWithDog', 'WalkingWithDog', 'WalkingWithDog', 'WalkingWithDog', 'WalkingWithDog', 'WalkingWithDog', 'WalkingWithDog', 'WalkingWithDog', 'WalkingWithDog', 'Knitting', 'Knitting', 'Knitting', 'Knitting', 'Knitting', 'Knitting', 'Knitting', 'Knitting', 'Knitting', 'Knitting', 'Knitting', 'Knitting', 'Knitting', 'Knitting', 'Knitting', 'Knitting', 'Knitting', 'Knitting', 'Knitting', 'Knitting', 'Knitting', 'Knitting', 'Knitting', 'Knitting', 'Knitting', 'Knitting', 'Knitting', 'Knitting', 'Knitting', 'Knitting', 'Knitting', 'Knitting', 'Knitting', 'Knitting', 'PlayingViolin']\n",
      "['BabyCrawling', 'BabyCrawling', 'BabyCrawling', 'BabyCrawling', 'BabyCrawling', 'BabyCrawling', 'BabyCrawling', 'BabyCrawling', 'BabyCrawling', 'BabyCrawling', 'BabyCrawling', 'BabyCrawling', 'BabyCrawling', 'BabyCrawling', 'BabyCrawling', 'BabyCrawling', 'BabyCrawling', 'BabyCrawling', 'BabyCrawling', 'BabyCrawling', 'BabyCrawling', 'BabyCrawling', 'BabyCrawling', 'BabyCrawling', 'BabyCrawling', 'BabyCrawling', 'BabyCrawling', 'BabyCrawling', 'BabyCrawling', 'BabyCrawling', 'BabyCrawling', 'BabyCrawling', 'BabyCrawling', 'BabyCrawling', 'BabyCrawling', 'Surfing', 'Surfing', 'Surfing', 'Surfing', 'Surfing', 'Surfing', 'Surfing', 'Surfing', 'Surfing', 'Surfing', 'Surfing', 'Surfing', 'Surfing', 'Surfing', 'Surfing', 'Surfing', 'Surfing', 'Surfing', 'Surfing', 'Surfing', 'Surfing', 'Surfing', 'Surfing', 'Surfing', 'Surfing', 'Surfing', 'Surfing', 'Surfing', 'Surfing', 'Surfing', 'Surfing', 'Surfing', 'Surfing', 'Typing', 'Typing', 'Typing', 'Typing', 'Typing', 'Typing', 'Typing', 'Typing', 'Typing', 'Typing', 'Typing', 'Typing', 'Typing', 'Typing', 'Typing', 'Typing', 'Typing', 'Typing', 'Typing', 'Typing', 'BabyCrawling', 'Knitting', 'Knitting', 'Knitting', 'Typing', 'Typing', 'Typing', 'Typing', 'Typing', 'Typing', 'Typing', 'Typing', 'Typing', 'Typing', 'Typing', 'Typing', 'Typing', 'Typing', 'Typing', 'Typing', 'Typing', 'Typing', 'Typing', 'WalkingWithDog', 'WalkingWithDog', 'WalkingWithDog', 'WalkingWithDog', 'WalkingWithDog', 'WalkingWithDog', 'WalkingWithDog', 'WalkingWithDog', 'WalkingWithDog', 'WalkingWithDog', 'WalkingWithDog', 'WalkingWithDog', 'WalkingWithDog', 'WalkingWithDog', 'WalkingWithDog', 'Surfing', 'WalkingWithDog', 'WalkingWithDog', 'WalkingWithDog', 'WalkingWithDog', 'WalkingWithDog', 'WalkingWithDog', 'WalkingWithDog', 'WalkingWithDog', 'WalkingWithDog', 'WalkingWithDog', 'WalkingWithDog', 'WalkingWithDog', 'WalkingWithDog', 'WalkingWithDog', 'WalkingWithDog', 'WalkingWithDog', 'WalkingWithDog', 'WalkingWithDog', 'WalkingWithDog', 'WalkingWithDog', 'Knitting', 'Knitting', 'Knitting', 'Knitting', 'Knitting', 'Knitting', 'Knitting', 'Knitting', 'Knitting', 'Knitting', 'Knitting', 'Knitting', 'Knitting', 'Knitting', 'Knitting', 'Knitting', 'Knitting', 'Knitting', 'Knitting', 'Knitting', 'Knitting', 'Knitting', 'Knitting', 'Knitting', 'Knitting', 'Knitting', 'Knitting', 'Knitting', 'Knitting', 'Knitting', 'Knitting', 'Knitting', 'Knitting', 'Knitting', 'PlayingViolin']\n"
     ]
    },
    {
     "name": "stderr",
     "output_type": "stream",
     "text": [
      " 88%|██████████████████████████████████████████████████████████████████████▍         | 183/208 [03:47<00:29,  1.17s/it]"
     ]
    },
    {
     "name": "stdout",
     "output_type": "stream",
     "text": [
      "['BabyCrawling', 'BabyCrawling', 'BabyCrawling', 'BabyCrawling', 'BabyCrawling', 'BabyCrawling', 'BabyCrawling', 'BabyCrawling', 'BabyCrawling', 'BabyCrawling', 'BabyCrawling', 'BabyCrawling', 'BabyCrawling', 'BabyCrawling', 'BabyCrawling', 'BabyCrawling', 'BabyCrawling', 'BabyCrawling', 'BabyCrawling', 'BabyCrawling', 'BabyCrawling', 'BabyCrawling', 'BabyCrawling', 'BabyCrawling', 'BabyCrawling', 'BabyCrawling', 'BabyCrawling', 'BabyCrawling', 'BabyCrawling', 'BabyCrawling', 'BabyCrawling', 'BabyCrawling', 'BabyCrawling', 'BabyCrawling', 'BabyCrawling', 'Surfing', 'Surfing', 'Surfing', 'Surfing', 'Surfing', 'Surfing', 'Surfing', 'Surfing', 'Surfing', 'Surfing', 'Surfing', 'Surfing', 'Surfing', 'Surfing', 'Surfing', 'Surfing', 'Surfing', 'Surfing', 'Surfing', 'Surfing', 'Surfing', 'Surfing', 'Surfing', 'Surfing', 'Surfing', 'Surfing', 'Surfing', 'Surfing', 'Surfing', 'Surfing', 'Surfing', 'Surfing', 'Surfing', 'Typing', 'Typing', 'Typing', 'Typing', 'Typing', 'Typing', 'Typing', 'Typing', 'Typing', 'Typing', 'Typing', 'Typing', 'Typing', 'Typing', 'Typing', 'Typing', 'Typing', 'Typing', 'Typing', 'Typing', 'Typing', 'Typing', 'Typing', 'Typing', 'Typing', 'Typing', 'Typing', 'Typing', 'Typing', 'Typing', 'Typing', 'Typing', 'Typing', 'Typing', 'Typing', 'Typing', 'Typing', 'Typing', 'Typing', 'Typing', 'Typing', 'Typing', 'Typing', 'WalkingWithDog', 'WalkingWithDog', 'WalkingWithDog', 'WalkingWithDog', 'WalkingWithDog', 'WalkingWithDog', 'WalkingWithDog', 'WalkingWithDog', 'WalkingWithDog', 'WalkingWithDog', 'WalkingWithDog', 'WalkingWithDog', 'WalkingWithDog', 'WalkingWithDog', 'WalkingWithDog', 'WalkingWithDog', 'WalkingWithDog', 'WalkingWithDog', 'WalkingWithDog', 'WalkingWithDog', 'WalkingWithDog', 'WalkingWithDog', 'WalkingWithDog', 'WalkingWithDog', 'WalkingWithDog', 'WalkingWithDog', 'WalkingWithDog', 'WalkingWithDog', 'WalkingWithDog', 'WalkingWithDog', 'WalkingWithDog', 'WalkingWithDog', 'WalkingWithDog', 'WalkingWithDog', 'WalkingWithDog', 'WalkingWithDog', 'Knitting', 'Knitting', 'Knitting', 'Knitting', 'Knitting', 'Knitting', 'Knitting', 'Knitting', 'Knitting', 'Knitting', 'Knitting', 'Knitting', 'Knitting', 'Knitting', 'Knitting', 'Knitting', 'Knitting', 'Knitting', 'Knitting', 'Knitting', 'Knitting', 'Knitting', 'Knitting', 'Knitting', 'Knitting', 'Knitting', 'Knitting', 'Knitting', 'Knitting', 'Knitting', 'Knitting', 'Knitting', 'Knitting', 'Knitting', 'PlayingViolin', 'PlayingViolin']\n",
      "['BabyCrawling', 'BabyCrawling', 'BabyCrawling', 'BabyCrawling', 'BabyCrawling', 'BabyCrawling', 'BabyCrawling', 'BabyCrawling', 'BabyCrawling', 'BabyCrawling', 'BabyCrawling', 'BabyCrawling', 'BabyCrawling', 'BabyCrawling', 'BabyCrawling', 'BabyCrawling', 'BabyCrawling', 'BabyCrawling', 'BabyCrawling', 'BabyCrawling', 'BabyCrawling', 'BabyCrawling', 'BabyCrawling', 'BabyCrawling', 'BabyCrawling', 'BabyCrawling', 'BabyCrawling', 'BabyCrawling', 'BabyCrawling', 'BabyCrawling', 'BabyCrawling', 'BabyCrawling', 'BabyCrawling', 'BabyCrawling', 'BabyCrawling', 'Surfing', 'Surfing', 'Surfing', 'Surfing', 'Surfing', 'Surfing', 'Surfing', 'Surfing', 'Surfing', 'Surfing', 'Surfing', 'Surfing', 'Surfing', 'Surfing', 'Surfing', 'Surfing', 'Surfing', 'Surfing', 'Surfing', 'Surfing', 'Surfing', 'Surfing', 'Surfing', 'Surfing', 'Surfing', 'Surfing', 'Surfing', 'Surfing', 'Surfing', 'Surfing', 'Surfing', 'Surfing', 'Surfing', 'Typing', 'Typing', 'Typing', 'Typing', 'Typing', 'Typing', 'Typing', 'Typing', 'Typing', 'Typing', 'Typing', 'Typing', 'Typing', 'Typing', 'Typing', 'Typing', 'Typing', 'Typing', 'Typing', 'Typing', 'BabyCrawling', 'Knitting', 'Knitting', 'Knitting', 'Typing', 'Typing', 'Typing', 'Typing', 'Typing', 'Typing', 'Typing', 'Typing', 'Typing', 'Typing', 'Typing', 'Typing', 'Typing', 'Typing', 'Typing', 'Typing', 'Typing', 'Typing', 'Typing', 'WalkingWithDog', 'WalkingWithDog', 'WalkingWithDog', 'WalkingWithDog', 'WalkingWithDog', 'WalkingWithDog', 'WalkingWithDog', 'WalkingWithDog', 'WalkingWithDog', 'WalkingWithDog', 'WalkingWithDog', 'WalkingWithDog', 'WalkingWithDog', 'WalkingWithDog', 'WalkingWithDog', 'Surfing', 'WalkingWithDog', 'WalkingWithDog', 'WalkingWithDog', 'WalkingWithDog', 'WalkingWithDog', 'WalkingWithDog', 'WalkingWithDog', 'WalkingWithDog', 'WalkingWithDog', 'WalkingWithDog', 'WalkingWithDog', 'WalkingWithDog', 'WalkingWithDog', 'WalkingWithDog', 'WalkingWithDog', 'WalkingWithDog', 'WalkingWithDog', 'WalkingWithDog', 'WalkingWithDog', 'WalkingWithDog', 'Knitting', 'Knitting', 'Knitting', 'Knitting', 'Knitting', 'Knitting', 'Knitting', 'Knitting', 'Knitting', 'Knitting', 'Knitting', 'Knitting', 'Knitting', 'Knitting', 'Knitting', 'Knitting', 'Knitting', 'Knitting', 'Knitting', 'Knitting', 'Knitting', 'Knitting', 'Knitting', 'Knitting', 'Knitting', 'Knitting', 'Knitting', 'Knitting', 'Knitting', 'Knitting', 'Knitting', 'Knitting', 'Knitting', 'Knitting', 'PlayingViolin', 'PlayingViolin']\n"
     ]
    },
    {
     "name": "stderr",
     "output_type": "stream",
     "text": [
      " 88%|██████████████████████████████████████████████████████████████████████▊         | 184/208 [03:48<00:26,  1.12s/it]"
     ]
    },
    {
     "name": "stdout",
     "output_type": "stream",
     "text": [
      "['BabyCrawling', 'BabyCrawling', 'BabyCrawling', 'BabyCrawling', 'BabyCrawling', 'BabyCrawling', 'BabyCrawling', 'BabyCrawling', 'BabyCrawling', 'BabyCrawling', 'BabyCrawling', 'BabyCrawling', 'BabyCrawling', 'BabyCrawling', 'BabyCrawling', 'BabyCrawling', 'BabyCrawling', 'BabyCrawling', 'BabyCrawling', 'BabyCrawling', 'BabyCrawling', 'BabyCrawling', 'BabyCrawling', 'BabyCrawling', 'BabyCrawling', 'BabyCrawling', 'BabyCrawling', 'BabyCrawling', 'BabyCrawling', 'BabyCrawling', 'BabyCrawling', 'BabyCrawling', 'BabyCrawling', 'BabyCrawling', 'BabyCrawling', 'Surfing', 'Surfing', 'Surfing', 'Surfing', 'Surfing', 'Surfing', 'Surfing', 'Surfing', 'Surfing', 'Surfing', 'Surfing', 'Surfing', 'Surfing', 'Surfing', 'Surfing', 'Surfing', 'Surfing', 'Surfing', 'Surfing', 'Surfing', 'Surfing', 'Surfing', 'Surfing', 'Surfing', 'Surfing', 'Surfing', 'Surfing', 'Surfing', 'Surfing', 'Surfing', 'Surfing', 'Surfing', 'Surfing', 'Typing', 'Typing', 'Typing', 'Typing', 'Typing', 'Typing', 'Typing', 'Typing', 'Typing', 'Typing', 'Typing', 'Typing', 'Typing', 'Typing', 'Typing', 'Typing', 'Typing', 'Typing', 'Typing', 'Typing', 'Typing', 'Typing', 'Typing', 'Typing', 'Typing', 'Typing', 'Typing', 'Typing', 'Typing', 'Typing', 'Typing', 'Typing', 'Typing', 'Typing', 'Typing', 'Typing', 'Typing', 'Typing', 'Typing', 'Typing', 'Typing', 'Typing', 'Typing', 'WalkingWithDog', 'WalkingWithDog', 'WalkingWithDog', 'WalkingWithDog', 'WalkingWithDog', 'WalkingWithDog', 'WalkingWithDog', 'WalkingWithDog', 'WalkingWithDog', 'WalkingWithDog', 'WalkingWithDog', 'WalkingWithDog', 'WalkingWithDog', 'WalkingWithDog', 'WalkingWithDog', 'WalkingWithDog', 'WalkingWithDog', 'WalkingWithDog', 'WalkingWithDog', 'WalkingWithDog', 'WalkingWithDog', 'WalkingWithDog', 'WalkingWithDog', 'WalkingWithDog', 'WalkingWithDog', 'WalkingWithDog', 'WalkingWithDog', 'WalkingWithDog', 'WalkingWithDog', 'WalkingWithDog', 'WalkingWithDog', 'WalkingWithDog', 'WalkingWithDog', 'WalkingWithDog', 'WalkingWithDog', 'WalkingWithDog', 'Knitting', 'Knitting', 'Knitting', 'Knitting', 'Knitting', 'Knitting', 'Knitting', 'Knitting', 'Knitting', 'Knitting', 'Knitting', 'Knitting', 'Knitting', 'Knitting', 'Knitting', 'Knitting', 'Knitting', 'Knitting', 'Knitting', 'Knitting', 'Knitting', 'Knitting', 'Knitting', 'Knitting', 'Knitting', 'Knitting', 'Knitting', 'Knitting', 'Knitting', 'Knitting', 'Knitting', 'Knitting', 'Knitting', 'Knitting', 'PlayingViolin', 'PlayingViolin', 'PlayingViolin']\n",
      "['BabyCrawling', 'BabyCrawling', 'BabyCrawling', 'BabyCrawling', 'BabyCrawling', 'BabyCrawling', 'BabyCrawling', 'BabyCrawling', 'BabyCrawling', 'BabyCrawling', 'BabyCrawling', 'BabyCrawling', 'BabyCrawling', 'BabyCrawling', 'BabyCrawling', 'BabyCrawling', 'BabyCrawling', 'BabyCrawling', 'BabyCrawling', 'BabyCrawling', 'BabyCrawling', 'BabyCrawling', 'BabyCrawling', 'BabyCrawling', 'BabyCrawling', 'BabyCrawling', 'BabyCrawling', 'BabyCrawling', 'BabyCrawling', 'BabyCrawling', 'BabyCrawling', 'BabyCrawling', 'BabyCrawling', 'BabyCrawling', 'BabyCrawling', 'Surfing', 'Surfing', 'Surfing', 'Surfing', 'Surfing', 'Surfing', 'Surfing', 'Surfing', 'Surfing', 'Surfing', 'Surfing', 'Surfing', 'Surfing', 'Surfing', 'Surfing', 'Surfing', 'Surfing', 'Surfing', 'Surfing', 'Surfing', 'Surfing', 'Surfing', 'Surfing', 'Surfing', 'Surfing', 'Surfing', 'Surfing', 'Surfing', 'Surfing', 'Surfing', 'Surfing', 'Surfing', 'Surfing', 'Typing', 'Typing', 'Typing', 'Typing', 'Typing', 'Typing', 'Typing', 'Typing', 'Typing', 'Typing', 'Typing', 'Typing', 'Typing', 'Typing', 'Typing', 'Typing', 'Typing', 'Typing', 'Typing', 'Typing', 'BabyCrawling', 'Knitting', 'Knitting', 'Knitting', 'Typing', 'Typing', 'Typing', 'Typing', 'Typing', 'Typing', 'Typing', 'Typing', 'Typing', 'Typing', 'Typing', 'Typing', 'Typing', 'Typing', 'Typing', 'Typing', 'Typing', 'Typing', 'Typing', 'WalkingWithDog', 'WalkingWithDog', 'WalkingWithDog', 'WalkingWithDog', 'WalkingWithDog', 'WalkingWithDog', 'WalkingWithDog', 'WalkingWithDog', 'WalkingWithDog', 'WalkingWithDog', 'WalkingWithDog', 'WalkingWithDog', 'WalkingWithDog', 'WalkingWithDog', 'WalkingWithDog', 'Surfing', 'WalkingWithDog', 'WalkingWithDog', 'WalkingWithDog', 'WalkingWithDog', 'WalkingWithDog', 'WalkingWithDog', 'WalkingWithDog', 'WalkingWithDog', 'WalkingWithDog', 'WalkingWithDog', 'WalkingWithDog', 'WalkingWithDog', 'WalkingWithDog', 'WalkingWithDog', 'WalkingWithDog', 'WalkingWithDog', 'WalkingWithDog', 'WalkingWithDog', 'WalkingWithDog', 'WalkingWithDog', 'Knitting', 'Knitting', 'Knitting', 'Knitting', 'Knitting', 'Knitting', 'Knitting', 'Knitting', 'Knitting', 'Knitting', 'Knitting', 'Knitting', 'Knitting', 'Knitting', 'Knitting', 'Knitting', 'Knitting', 'Knitting', 'Knitting', 'Knitting', 'Knitting', 'Knitting', 'Knitting', 'Knitting', 'Knitting', 'Knitting', 'Knitting', 'Knitting', 'Knitting', 'Knitting', 'Knitting', 'Knitting', 'Knitting', 'Knitting', 'PlayingViolin', 'PlayingViolin', 'PlayingViolin']\n"
     ]
    },
    {
     "name": "stderr",
     "output_type": "stream",
     "text": [
      " 89%|███████████████████████████████████████████████████████████████████████▏        | 185/208 [03:49<00:25,  1.12s/it]"
     ]
    },
    {
     "name": "stdout",
     "output_type": "stream",
     "text": [
      "['BabyCrawling', 'BabyCrawling', 'BabyCrawling', 'BabyCrawling', 'BabyCrawling', 'BabyCrawling', 'BabyCrawling', 'BabyCrawling', 'BabyCrawling', 'BabyCrawling', 'BabyCrawling', 'BabyCrawling', 'BabyCrawling', 'BabyCrawling', 'BabyCrawling', 'BabyCrawling', 'BabyCrawling', 'BabyCrawling', 'BabyCrawling', 'BabyCrawling', 'BabyCrawling', 'BabyCrawling', 'BabyCrawling', 'BabyCrawling', 'BabyCrawling', 'BabyCrawling', 'BabyCrawling', 'BabyCrawling', 'BabyCrawling', 'BabyCrawling', 'BabyCrawling', 'BabyCrawling', 'BabyCrawling', 'BabyCrawling', 'BabyCrawling', 'Surfing', 'Surfing', 'Surfing', 'Surfing', 'Surfing', 'Surfing', 'Surfing', 'Surfing', 'Surfing', 'Surfing', 'Surfing', 'Surfing', 'Surfing', 'Surfing', 'Surfing', 'Surfing', 'Surfing', 'Surfing', 'Surfing', 'Surfing', 'Surfing', 'Surfing', 'Surfing', 'Surfing', 'Surfing', 'Surfing', 'Surfing', 'Surfing', 'Surfing', 'Surfing', 'Surfing', 'Surfing', 'Surfing', 'Typing', 'Typing', 'Typing', 'Typing', 'Typing', 'Typing', 'Typing', 'Typing', 'Typing', 'Typing', 'Typing', 'Typing', 'Typing', 'Typing', 'Typing', 'Typing', 'Typing', 'Typing', 'Typing', 'Typing', 'Typing', 'Typing', 'Typing', 'Typing', 'Typing', 'Typing', 'Typing', 'Typing', 'Typing', 'Typing', 'Typing', 'Typing', 'Typing', 'Typing', 'Typing', 'Typing', 'Typing', 'Typing', 'Typing', 'Typing', 'Typing', 'Typing', 'Typing', 'WalkingWithDog', 'WalkingWithDog', 'WalkingWithDog', 'WalkingWithDog', 'WalkingWithDog', 'WalkingWithDog', 'WalkingWithDog', 'WalkingWithDog', 'WalkingWithDog', 'WalkingWithDog', 'WalkingWithDog', 'WalkingWithDog', 'WalkingWithDog', 'WalkingWithDog', 'WalkingWithDog', 'WalkingWithDog', 'WalkingWithDog', 'WalkingWithDog', 'WalkingWithDog', 'WalkingWithDog', 'WalkingWithDog', 'WalkingWithDog', 'WalkingWithDog', 'WalkingWithDog', 'WalkingWithDog', 'WalkingWithDog', 'WalkingWithDog', 'WalkingWithDog', 'WalkingWithDog', 'WalkingWithDog', 'WalkingWithDog', 'WalkingWithDog', 'WalkingWithDog', 'WalkingWithDog', 'WalkingWithDog', 'WalkingWithDog', 'Knitting', 'Knitting', 'Knitting', 'Knitting', 'Knitting', 'Knitting', 'Knitting', 'Knitting', 'Knitting', 'Knitting', 'Knitting', 'Knitting', 'Knitting', 'Knitting', 'Knitting', 'Knitting', 'Knitting', 'Knitting', 'Knitting', 'Knitting', 'Knitting', 'Knitting', 'Knitting', 'Knitting', 'Knitting', 'Knitting', 'Knitting', 'Knitting', 'Knitting', 'Knitting', 'Knitting', 'Knitting', 'Knitting', 'Knitting', 'PlayingViolin', 'PlayingViolin', 'PlayingViolin', 'PlayingViolin']\n",
      "['BabyCrawling', 'BabyCrawling', 'BabyCrawling', 'BabyCrawling', 'BabyCrawling', 'BabyCrawling', 'BabyCrawling', 'BabyCrawling', 'BabyCrawling', 'BabyCrawling', 'BabyCrawling', 'BabyCrawling', 'BabyCrawling', 'BabyCrawling', 'BabyCrawling', 'BabyCrawling', 'BabyCrawling', 'BabyCrawling', 'BabyCrawling', 'BabyCrawling', 'BabyCrawling', 'BabyCrawling', 'BabyCrawling', 'BabyCrawling', 'BabyCrawling', 'BabyCrawling', 'BabyCrawling', 'BabyCrawling', 'BabyCrawling', 'BabyCrawling', 'BabyCrawling', 'BabyCrawling', 'BabyCrawling', 'BabyCrawling', 'BabyCrawling', 'Surfing', 'Surfing', 'Surfing', 'Surfing', 'Surfing', 'Surfing', 'Surfing', 'Surfing', 'Surfing', 'Surfing', 'Surfing', 'Surfing', 'Surfing', 'Surfing', 'Surfing', 'Surfing', 'Surfing', 'Surfing', 'Surfing', 'Surfing', 'Surfing', 'Surfing', 'Surfing', 'Surfing', 'Surfing', 'Surfing', 'Surfing', 'Surfing', 'Surfing', 'Surfing', 'Surfing', 'Surfing', 'Surfing', 'Typing', 'Typing', 'Typing', 'Typing', 'Typing', 'Typing', 'Typing', 'Typing', 'Typing', 'Typing', 'Typing', 'Typing', 'Typing', 'Typing', 'Typing', 'Typing', 'Typing', 'Typing', 'Typing', 'Typing', 'BabyCrawling', 'Knitting', 'Knitting', 'Knitting', 'Typing', 'Typing', 'Typing', 'Typing', 'Typing', 'Typing', 'Typing', 'Typing', 'Typing', 'Typing', 'Typing', 'Typing', 'Typing', 'Typing', 'Typing', 'Typing', 'Typing', 'Typing', 'Typing', 'WalkingWithDog', 'WalkingWithDog', 'WalkingWithDog', 'WalkingWithDog', 'WalkingWithDog', 'WalkingWithDog', 'WalkingWithDog', 'WalkingWithDog', 'WalkingWithDog', 'WalkingWithDog', 'WalkingWithDog', 'WalkingWithDog', 'WalkingWithDog', 'WalkingWithDog', 'WalkingWithDog', 'Surfing', 'WalkingWithDog', 'WalkingWithDog', 'WalkingWithDog', 'WalkingWithDog', 'WalkingWithDog', 'WalkingWithDog', 'WalkingWithDog', 'WalkingWithDog', 'WalkingWithDog', 'WalkingWithDog', 'WalkingWithDog', 'WalkingWithDog', 'WalkingWithDog', 'WalkingWithDog', 'WalkingWithDog', 'WalkingWithDog', 'WalkingWithDog', 'WalkingWithDog', 'WalkingWithDog', 'WalkingWithDog', 'Knitting', 'Knitting', 'Knitting', 'Knitting', 'Knitting', 'Knitting', 'Knitting', 'Knitting', 'Knitting', 'Knitting', 'Knitting', 'Knitting', 'Knitting', 'Knitting', 'Knitting', 'Knitting', 'Knitting', 'Knitting', 'Knitting', 'Knitting', 'Knitting', 'Knitting', 'Knitting', 'Knitting', 'Knitting', 'Knitting', 'Knitting', 'Knitting', 'Knitting', 'Knitting', 'Knitting', 'Knitting', 'Knitting', 'Knitting', 'PlayingViolin', 'PlayingViolin', 'PlayingViolin', 'PlayingViolin']\n"
     ]
    },
    {
     "name": "stderr",
     "output_type": "stream",
     "text": [
      " 89%|███████████████████████████████████████████████████████████████████████▌        | 186/208 [03:50<00:24,  1.10s/it]"
     ]
    },
    {
     "name": "stdout",
     "output_type": "stream",
     "text": [
      "['BabyCrawling', 'BabyCrawling', 'BabyCrawling', 'BabyCrawling', 'BabyCrawling', 'BabyCrawling', 'BabyCrawling', 'BabyCrawling', 'BabyCrawling', 'BabyCrawling', 'BabyCrawling', 'BabyCrawling', 'BabyCrawling', 'BabyCrawling', 'BabyCrawling', 'BabyCrawling', 'BabyCrawling', 'BabyCrawling', 'BabyCrawling', 'BabyCrawling', 'BabyCrawling', 'BabyCrawling', 'BabyCrawling', 'BabyCrawling', 'BabyCrawling', 'BabyCrawling', 'BabyCrawling', 'BabyCrawling', 'BabyCrawling', 'BabyCrawling', 'BabyCrawling', 'BabyCrawling', 'BabyCrawling', 'BabyCrawling', 'BabyCrawling', 'Surfing', 'Surfing', 'Surfing', 'Surfing', 'Surfing', 'Surfing', 'Surfing', 'Surfing', 'Surfing', 'Surfing', 'Surfing', 'Surfing', 'Surfing', 'Surfing', 'Surfing', 'Surfing', 'Surfing', 'Surfing', 'Surfing', 'Surfing', 'Surfing', 'Surfing', 'Surfing', 'Surfing', 'Surfing', 'Surfing', 'Surfing', 'Surfing', 'Surfing', 'Surfing', 'Surfing', 'Surfing', 'Surfing', 'Typing', 'Typing', 'Typing', 'Typing', 'Typing', 'Typing', 'Typing', 'Typing', 'Typing', 'Typing', 'Typing', 'Typing', 'Typing', 'Typing', 'Typing', 'Typing', 'Typing', 'Typing', 'Typing', 'Typing', 'Typing', 'Typing', 'Typing', 'Typing', 'Typing', 'Typing', 'Typing', 'Typing', 'Typing', 'Typing', 'Typing', 'Typing', 'Typing', 'Typing', 'Typing', 'Typing', 'Typing', 'Typing', 'Typing', 'Typing', 'Typing', 'Typing', 'Typing', 'WalkingWithDog', 'WalkingWithDog', 'WalkingWithDog', 'WalkingWithDog', 'WalkingWithDog', 'WalkingWithDog', 'WalkingWithDog', 'WalkingWithDog', 'WalkingWithDog', 'WalkingWithDog', 'WalkingWithDog', 'WalkingWithDog', 'WalkingWithDog', 'WalkingWithDog', 'WalkingWithDog', 'WalkingWithDog', 'WalkingWithDog', 'WalkingWithDog', 'WalkingWithDog', 'WalkingWithDog', 'WalkingWithDog', 'WalkingWithDog', 'WalkingWithDog', 'WalkingWithDog', 'WalkingWithDog', 'WalkingWithDog', 'WalkingWithDog', 'WalkingWithDog', 'WalkingWithDog', 'WalkingWithDog', 'WalkingWithDog', 'WalkingWithDog', 'WalkingWithDog', 'WalkingWithDog', 'WalkingWithDog', 'WalkingWithDog', 'Knitting', 'Knitting', 'Knitting', 'Knitting', 'Knitting', 'Knitting', 'Knitting', 'Knitting', 'Knitting', 'Knitting', 'Knitting', 'Knitting', 'Knitting', 'Knitting', 'Knitting', 'Knitting', 'Knitting', 'Knitting', 'Knitting', 'Knitting', 'Knitting', 'Knitting', 'Knitting', 'Knitting', 'Knitting', 'Knitting', 'Knitting', 'Knitting', 'Knitting', 'Knitting', 'Knitting', 'Knitting', 'Knitting', 'Knitting', 'PlayingViolin', 'PlayingViolin', 'PlayingViolin', 'PlayingViolin', 'PlayingViolin']\n",
      "['BabyCrawling', 'BabyCrawling', 'BabyCrawling', 'BabyCrawling', 'BabyCrawling', 'BabyCrawling', 'BabyCrawling', 'BabyCrawling', 'BabyCrawling', 'BabyCrawling', 'BabyCrawling', 'BabyCrawling', 'BabyCrawling', 'BabyCrawling', 'BabyCrawling', 'BabyCrawling', 'BabyCrawling', 'BabyCrawling', 'BabyCrawling', 'BabyCrawling', 'BabyCrawling', 'BabyCrawling', 'BabyCrawling', 'BabyCrawling', 'BabyCrawling', 'BabyCrawling', 'BabyCrawling', 'BabyCrawling', 'BabyCrawling', 'BabyCrawling', 'BabyCrawling', 'BabyCrawling', 'BabyCrawling', 'BabyCrawling', 'BabyCrawling', 'Surfing', 'Surfing', 'Surfing', 'Surfing', 'Surfing', 'Surfing', 'Surfing', 'Surfing', 'Surfing', 'Surfing', 'Surfing', 'Surfing', 'Surfing', 'Surfing', 'Surfing', 'Surfing', 'Surfing', 'Surfing', 'Surfing', 'Surfing', 'Surfing', 'Surfing', 'Surfing', 'Surfing', 'Surfing', 'Surfing', 'Surfing', 'Surfing', 'Surfing', 'Surfing', 'Surfing', 'Surfing', 'Surfing', 'Typing', 'Typing', 'Typing', 'Typing', 'Typing', 'Typing', 'Typing', 'Typing', 'Typing', 'Typing', 'Typing', 'Typing', 'Typing', 'Typing', 'Typing', 'Typing', 'Typing', 'Typing', 'Typing', 'Typing', 'BabyCrawling', 'Knitting', 'Knitting', 'Knitting', 'Typing', 'Typing', 'Typing', 'Typing', 'Typing', 'Typing', 'Typing', 'Typing', 'Typing', 'Typing', 'Typing', 'Typing', 'Typing', 'Typing', 'Typing', 'Typing', 'Typing', 'Typing', 'Typing', 'WalkingWithDog', 'WalkingWithDog', 'WalkingWithDog', 'WalkingWithDog', 'WalkingWithDog', 'WalkingWithDog', 'WalkingWithDog', 'WalkingWithDog', 'WalkingWithDog', 'WalkingWithDog', 'WalkingWithDog', 'WalkingWithDog', 'WalkingWithDog', 'WalkingWithDog', 'WalkingWithDog', 'Surfing', 'WalkingWithDog', 'WalkingWithDog', 'WalkingWithDog', 'WalkingWithDog', 'WalkingWithDog', 'WalkingWithDog', 'WalkingWithDog', 'WalkingWithDog', 'WalkingWithDog', 'WalkingWithDog', 'WalkingWithDog', 'WalkingWithDog', 'WalkingWithDog', 'WalkingWithDog', 'WalkingWithDog', 'WalkingWithDog', 'WalkingWithDog', 'WalkingWithDog', 'WalkingWithDog', 'WalkingWithDog', 'Knitting', 'Knitting', 'Knitting', 'Knitting', 'Knitting', 'Knitting', 'Knitting', 'Knitting', 'Knitting', 'Knitting', 'Knitting', 'Knitting', 'Knitting', 'Knitting', 'Knitting', 'Knitting', 'Knitting', 'Knitting', 'Knitting', 'Knitting', 'Knitting', 'Knitting', 'Knitting', 'Knitting', 'Knitting', 'Knitting', 'Knitting', 'Knitting', 'Knitting', 'Knitting', 'Knitting', 'Knitting', 'Knitting', 'Knitting', 'PlayingViolin', 'PlayingViolin', 'PlayingViolin', 'PlayingViolin', 'PlayingViolin']\n"
     ]
    },
    {
     "name": "stderr",
     "output_type": "stream",
     "text": [
      " 90%|███████████████████████████████████████████████████████████████████████▉        | 187/208 [03:52<00:32,  1.53s/it]"
     ]
    },
    {
     "name": "stdout",
     "output_type": "stream",
     "text": [
      "['BabyCrawling', 'BabyCrawling', 'BabyCrawling', 'BabyCrawling', 'BabyCrawling', 'BabyCrawling', 'BabyCrawling', 'BabyCrawling', 'BabyCrawling', 'BabyCrawling', 'BabyCrawling', 'BabyCrawling', 'BabyCrawling', 'BabyCrawling', 'BabyCrawling', 'BabyCrawling', 'BabyCrawling', 'BabyCrawling', 'BabyCrawling', 'BabyCrawling', 'BabyCrawling', 'BabyCrawling', 'BabyCrawling', 'BabyCrawling', 'BabyCrawling', 'BabyCrawling', 'BabyCrawling', 'BabyCrawling', 'BabyCrawling', 'BabyCrawling', 'BabyCrawling', 'BabyCrawling', 'BabyCrawling', 'BabyCrawling', 'BabyCrawling', 'Surfing', 'Surfing', 'Surfing', 'Surfing', 'Surfing', 'Surfing', 'Surfing', 'Surfing', 'Surfing', 'Surfing', 'Surfing', 'Surfing', 'Surfing', 'Surfing', 'Surfing', 'Surfing', 'Surfing', 'Surfing', 'Surfing', 'Surfing', 'Surfing', 'Surfing', 'Surfing', 'Surfing', 'Surfing', 'Surfing', 'Surfing', 'Surfing', 'Surfing', 'Surfing', 'Surfing', 'Surfing', 'Surfing', 'Typing', 'Typing', 'Typing', 'Typing', 'Typing', 'Typing', 'Typing', 'Typing', 'Typing', 'Typing', 'Typing', 'Typing', 'Typing', 'Typing', 'Typing', 'Typing', 'Typing', 'Typing', 'Typing', 'Typing', 'Typing', 'Typing', 'Typing', 'Typing', 'Typing', 'Typing', 'Typing', 'Typing', 'Typing', 'Typing', 'Typing', 'Typing', 'Typing', 'Typing', 'Typing', 'Typing', 'Typing', 'Typing', 'Typing', 'Typing', 'Typing', 'Typing', 'Typing', 'WalkingWithDog', 'WalkingWithDog', 'WalkingWithDog', 'WalkingWithDog', 'WalkingWithDog', 'WalkingWithDog', 'WalkingWithDog', 'WalkingWithDog', 'WalkingWithDog', 'WalkingWithDog', 'WalkingWithDog', 'WalkingWithDog', 'WalkingWithDog', 'WalkingWithDog', 'WalkingWithDog', 'WalkingWithDog', 'WalkingWithDog', 'WalkingWithDog', 'WalkingWithDog', 'WalkingWithDog', 'WalkingWithDog', 'WalkingWithDog', 'WalkingWithDog', 'WalkingWithDog', 'WalkingWithDog', 'WalkingWithDog', 'WalkingWithDog', 'WalkingWithDog', 'WalkingWithDog', 'WalkingWithDog', 'WalkingWithDog', 'WalkingWithDog', 'WalkingWithDog', 'WalkingWithDog', 'WalkingWithDog', 'WalkingWithDog', 'Knitting', 'Knitting', 'Knitting', 'Knitting', 'Knitting', 'Knitting', 'Knitting', 'Knitting', 'Knitting', 'Knitting', 'Knitting', 'Knitting', 'Knitting', 'Knitting', 'Knitting', 'Knitting', 'Knitting', 'Knitting', 'Knitting', 'Knitting', 'Knitting', 'Knitting', 'Knitting', 'Knitting', 'Knitting', 'Knitting', 'Knitting', 'Knitting', 'Knitting', 'Knitting', 'Knitting', 'Knitting', 'Knitting', 'Knitting', 'PlayingViolin', 'PlayingViolin', 'PlayingViolin', 'PlayingViolin', 'PlayingViolin', 'PlayingViolin']\n",
      "['BabyCrawling', 'BabyCrawling', 'BabyCrawling', 'BabyCrawling', 'BabyCrawling', 'BabyCrawling', 'BabyCrawling', 'BabyCrawling', 'BabyCrawling', 'BabyCrawling', 'BabyCrawling', 'BabyCrawling', 'BabyCrawling', 'BabyCrawling', 'BabyCrawling', 'BabyCrawling', 'BabyCrawling', 'BabyCrawling', 'BabyCrawling', 'BabyCrawling', 'BabyCrawling', 'BabyCrawling', 'BabyCrawling', 'BabyCrawling', 'BabyCrawling', 'BabyCrawling', 'BabyCrawling', 'BabyCrawling', 'BabyCrawling', 'BabyCrawling', 'BabyCrawling', 'BabyCrawling', 'BabyCrawling', 'BabyCrawling', 'BabyCrawling', 'Surfing', 'Surfing', 'Surfing', 'Surfing', 'Surfing', 'Surfing', 'Surfing', 'Surfing', 'Surfing', 'Surfing', 'Surfing', 'Surfing', 'Surfing', 'Surfing', 'Surfing', 'Surfing', 'Surfing', 'Surfing', 'Surfing', 'Surfing', 'Surfing', 'Surfing', 'Surfing', 'Surfing', 'Surfing', 'Surfing', 'Surfing', 'Surfing', 'Surfing', 'Surfing', 'Surfing', 'Surfing', 'Surfing', 'Typing', 'Typing', 'Typing', 'Typing', 'Typing', 'Typing', 'Typing', 'Typing', 'Typing', 'Typing', 'Typing', 'Typing', 'Typing', 'Typing', 'Typing', 'Typing', 'Typing', 'Typing', 'Typing', 'Typing', 'BabyCrawling', 'Knitting', 'Knitting', 'Knitting', 'Typing', 'Typing', 'Typing', 'Typing', 'Typing', 'Typing', 'Typing', 'Typing', 'Typing', 'Typing', 'Typing', 'Typing', 'Typing', 'Typing', 'Typing', 'Typing', 'Typing', 'Typing', 'Typing', 'WalkingWithDog', 'WalkingWithDog', 'WalkingWithDog', 'WalkingWithDog', 'WalkingWithDog', 'WalkingWithDog', 'WalkingWithDog', 'WalkingWithDog', 'WalkingWithDog', 'WalkingWithDog', 'WalkingWithDog', 'WalkingWithDog', 'WalkingWithDog', 'WalkingWithDog', 'WalkingWithDog', 'Surfing', 'WalkingWithDog', 'WalkingWithDog', 'WalkingWithDog', 'WalkingWithDog', 'WalkingWithDog', 'WalkingWithDog', 'WalkingWithDog', 'WalkingWithDog', 'WalkingWithDog', 'WalkingWithDog', 'WalkingWithDog', 'WalkingWithDog', 'WalkingWithDog', 'WalkingWithDog', 'WalkingWithDog', 'WalkingWithDog', 'WalkingWithDog', 'WalkingWithDog', 'WalkingWithDog', 'WalkingWithDog', 'Knitting', 'Knitting', 'Knitting', 'Knitting', 'Knitting', 'Knitting', 'Knitting', 'Knitting', 'Knitting', 'Knitting', 'Knitting', 'Knitting', 'Knitting', 'Knitting', 'Knitting', 'Knitting', 'Knitting', 'Knitting', 'Knitting', 'Knitting', 'Knitting', 'Knitting', 'Knitting', 'Knitting', 'Knitting', 'Knitting', 'Knitting', 'Knitting', 'Knitting', 'Knitting', 'Knitting', 'Knitting', 'Knitting', 'Knitting', 'PlayingViolin', 'PlayingViolin', 'PlayingViolin', 'PlayingViolin', 'PlayingViolin', 'PlayingViolin']\n"
     ]
    },
    {
     "name": "stderr",
     "output_type": "stream",
     "text": [
      " 90%|████████████████████████████████████████████████████████████████████████▎       | 188/208 [03:56<00:42,  2.13s/it]"
     ]
    },
    {
     "name": "stdout",
     "output_type": "stream",
     "text": [
      "['BabyCrawling', 'BabyCrawling', 'BabyCrawling', 'BabyCrawling', 'BabyCrawling', 'BabyCrawling', 'BabyCrawling', 'BabyCrawling', 'BabyCrawling', 'BabyCrawling', 'BabyCrawling', 'BabyCrawling', 'BabyCrawling', 'BabyCrawling', 'BabyCrawling', 'BabyCrawling', 'BabyCrawling', 'BabyCrawling', 'BabyCrawling', 'BabyCrawling', 'BabyCrawling', 'BabyCrawling', 'BabyCrawling', 'BabyCrawling', 'BabyCrawling', 'BabyCrawling', 'BabyCrawling', 'BabyCrawling', 'BabyCrawling', 'BabyCrawling', 'BabyCrawling', 'BabyCrawling', 'BabyCrawling', 'BabyCrawling', 'BabyCrawling', 'Surfing', 'Surfing', 'Surfing', 'Surfing', 'Surfing', 'Surfing', 'Surfing', 'Surfing', 'Surfing', 'Surfing', 'Surfing', 'Surfing', 'Surfing', 'Surfing', 'Surfing', 'Surfing', 'Surfing', 'Surfing', 'Surfing', 'Surfing', 'Surfing', 'Surfing', 'Surfing', 'Surfing', 'Surfing', 'Surfing', 'Surfing', 'Surfing', 'Surfing', 'Surfing', 'Surfing', 'Surfing', 'Surfing', 'Typing', 'Typing', 'Typing', 'Typing', 'Typing', 'Typing', 'Typing', 'Typing', 'Typing', 'Typing', 'Typing', 'Typing', 'Typing', 'Typing', 'Typing', 'Typing', 'Typing', 'Typing', 'Typing', 'Typing', 'Typing', 'Typing', 'Typing', 'Typing', 'Typing', 'Typing', 'Typing', 'Typing', 'Typing', 'Typing', 'Typing', 'Typing', 'Typing', 'Typing', 'Typing', 'Typing', 'Typing', 'Typing', 'Typing', 'Typing', 'Typing', 'Typing', 'Typing', 'WalkingWithDog', 'WalkingWithDog', 'WalkingWithDog', 'WalkingWithDog', 'WalkingWithDog', 'WalkingWithDog', 'WalkingWithDog', 'WalkingWithDog', 'WalkingWithDog', 'WalkingWithDog', 'WalkingWithDog', 'WalkingWithDog', 'WalkingWithDog', 'WalkingWithDog', 'WalkingWithDog', 'WalkingWithDog', 'WalkingWithDog', 'WalkingWithDog', 'WalkingWithDog', 'WalkingWithDog', 'WalkingWithDog', 'WalkingWithDog', 'WalkingWithDog', 'WalkingWithDog', 'WalkingWithDog', 'WalkingWithDog', 'WalkingWithDog', 'WalkingWithDog', 'WalkingWithDog', 'WalkingWithDog', 'WalkingWithDog', 'WalkingWithDog', 'WalkingWithDog', 'WalkingWithDog', 'WalkingWithDog', 'WalkingWithDog', 'Knitting', 'Knitting', 'Knitting', 'Knitting', 'Knitting', 'Knitting', 'Knitting', 'Knitting', 'Knitting', 'Knitting', 'Knitting', 'Knitting', 'Knitting', 'Knitting', 'Knitting', 'Knitting', 'Knitting', 'Knitting', 'Knitting', 'Knitting', 'Knitting', 'Knitting', 'Knitting', 'Knitting', 'Knitting', 'Knitting', 'Knitting', 'Knitting', 'Knitting', 'Knitting', 'Knitting', 'Knitting', 'Knitting', 'Knitting', 'PlayingViolin', 'PlayingViolin', 'PlayingViolin', 'PlayingViolin', 'PlayingViolin', 'PlayingViolin', 'PlayingViolin']\n",
      "['BabyCrawling', 'BabyCrawling', 'BabyCrawling', 'BabyCrawling', 'BabyCrawling', 'BabyCrawling', 'BabyCrawling', 'BabyCrawling', 'BabyCrawling', 'BabyCrawling', 'BabyCrawling', 'BabyCrawling', 'BabyCrawling', 'BabyCrawling', 'BabyCrawling', 'BabyCrawling', 'BabyCrawling', 'BabyCrawling', 'BabyCrawling', 'BabyCrawling', 'BabyCrawling', 'BabyCrawling', 'BabyCrawling', 'BabyCrawling', 'BabyCrawling', 'BabyCrawling', 'BabyCrawling', 'BabyCrawling', 'BabyCrawling', 'BabyCrawling', 'BabyCrawling', 'BabyCrawling', 'BabyCrawling', 'BabyCrawling', 'BabyCrawling', 'Surfing', 'Surfing', 'Surfing', 'Surfing', 'Surfing', 'Surfing', 'Surfing', 'Surfing', 'Surfing', 'Surfing', 'Surfing', 'Surfing', 'Surfing', 'Surfing', 'Surfing', 'Surfing', 'Surfing', 'Surfing', 'Surfing', 'Surfing', 'Surfing', 'Surfing', 'Surfing', 'Surfing', 'Surfing', 'Surfing', 'Surfing', 'Surfing', 'Surfing', 'Surfing', 'Surfing', 'Surfing', 'Surfing', 'Typing', 'Typing', 'Typing', 'Typing', 'Typing', 'Typing', 'Typing', 'Typing', 'Typing', 'Typing', 'Typing', 'Typing', 'Typing', 'Typing', 'Typing', 'Typing', 'Typing', 'Typing', 'Typing', 'Typing', 'BabyCrawling', 'Knitting', 'Knitting', 'Knitting', 'Typing', 'Typing', 'Typing', 'Typing', 'Typing', 'Typing', 'Typing', 'Typing', 'Typing', 'Typing', 'Typing', 'Typing', 'Typing', 'Typing', 'Typing', 'Typing', 'Typing', 'Typing', 'Typing', 'WalkingWithDog', 'WalkingWithDog', 'WalkingWithDog', 'WalkingWithDog', 'WalkingWithDog', 'WalkingWithDog', 'WalkingWithDog', 'WalkingWithDog', 'WalkingWithDog', 'WalkingWithDog', 'WalkingWithDog', 'WalkingWithDog', 'WalkingWithDog', 'WalkingWithDog', 'WalkingWithDog', 'Surfing', 'WalkingWithDog', 'WalkingWithDog', 'WalkingWithDog', 'WalkingWithDog', 'WalkingWithDog', 'WalkingWithDog', 'WalkingWithDog', 'WalkingWithDog', 'WalkingWithDog', 'WalkingWithDog', 'WalkingWithDog', 'WalkingWithDog', 'WalkingWithDog', 'WalkingWithDog', 'WalkingWithDog', 'WalkingWithDog', 'WalkingWithDog', 'WalkingWithDog', 'WalkingWithDog', 'WalkingWithDog', 'Knitting', 'Knitting', 'Knitting', 'Knitting', 'Knitting', 'Knitting', 'Knitting', 'Knitting', 'Knitting', 'Knitting', 'Knitting', 'Knitting', 'Knitting', 'Knitting', 'Knitting', 'Knitting', 'Knitting', 'Knitting', 'Knitting', 'Knitting', 'Knitting', 'Knitting', 'Knitting', 'Knitting', 'Knitting', 'Knitting', 'Knitting', 'Knitting', 'Knitting', 'Knitting', 'Knitting', 'Knitting', 'Knitting', 'Knitting', 'PlayingViolin', 'PlayingViolin', 'PlayingViolin', 'PlayingViolin', 'PlayingViolin', 'PlayingViolin', 'PlayingViolin']\n"
     ]
    },
    {
     "name": "stderr",
     "output_type": "stream",
     "text": [
      " 91%|████████████████████████████████████████████████████████████████████████▋       | 189/208 [03:57<00:36,  1.93s/it]"
     ]
    },
    {
     "name": "stdout",
     "output_type": "stream",
     "text": [
      "['BabyCrawling', 'BabyCrawling', 'BabyCrawling', 'BabyCrawling', 'BabyCrawling', 'BabyCrawling', 'BabyCrawling', 'BabyCrawling', 'BabyCrawling', 'BabyCrawling', 'BabyCrawling', 'BabyCrawling', 'BabyCrawling', 'BabyCrawling', 'BabyCrawling', 'BabyCrawling', 'BabyCrawling', 'BabyCrawling', 'BabyCrawling', 'BabyCrawling', 'BabyCrawling', 'BabyCrawling', 'BabyCrawling', 'BabyCrawling', 'BabyCrawling', 'BabyCrawling', 'BabyCrawling', 'BabyCrawling', 'BabyCrawling', 'BabyCrawling', 'BabyCrawling', 'BabyCrawling', 'BabyCrawling', 'BabyCrawling', 'BabyCrawling', 'Surfing', 'Surfing', 'Surfing', 'Surfing', 'Surfing', 'Surfing', 'Surfing', 'Surfing', 'Surfing', 'Surfing', 'Surfing', 'Surfing', 'Surfing', 'Surfing', 'Surfing', 'Surfing', 'Surfing', 'Surfing', 'Surfing', 'Surfing', 'Surfing', 'Surfing', 'Surfing', 'Surfing', 'Surfing', 'Surfing', 'Surfing', 'Surfing', 'Surfing', 'Surfing', 'Surfing', 'Surfing', 'Surfing', 'Typing', 'Typing', 'Typing', 'Typing', 'Typing', 'Typing', 'Typing', 'Typing', 'Typing', 'Typing', 'Typing', 'Typing', 'Typing', 'Typing', 'Typing', 'Typing', 'Typing', 'Typing', 'Typing', 'Typing', 'Typing', 'Typing', 'Typing', 'Typing', 'Typing', 'Typing', 'Typing', 'Typing', 'Typing', 'Typing', 'Typing', 'Typing', 'Typing', 'Typing', 'Typing', 'Typing', 'Typing', 'Typing', 'Typing', 'Typing', 'Typing', 'Typing', 'Typing', 'WalkingWithDog', 'WalkingWithDog', 'WalkingWithDog', 'WalkingWithDog', 'WalkingWithDog', 'WalkingWithDog', 'WalkingWithDog', 'WalkingWithDog', 'WalkingWithDog', 'WalkingWithDog', 'WalkingWithDog', 'WalkingWithDog', 'WalkingWithDog', 'WalkingWithDog', 'WalkingWithDog', 'WalkingWithDog', 'WalkingWithDog', 'WalkingWithDog', 'WalkingWithDog', 'WalkingWithDog', 'WalkingWithDog', 'WalkingWithDog', 'WalkingWithDog', 'WalkingWithDog', 'WalkingWithDog', 'WalkingWithDog', 'WalkingWithDog', 'WalkingWithDog', 'WalkingWithDog', 'WalkingWithDog', 'WalkingWithDog', 'WalkingWithDog', 'WalkingWithDog', 'WalkingWithDog', 'WalkingWithDog', 'WalkingWithDog', 'Knitting', 'Knitting', 'Knitting', 'Knitting', 'Knitting', 'Knitting', 'Knitting', 'Knitting', 'Knitting', 'Knitting', 'Knitting', 'Knitting', 'Knitting', 'Knitting', 'Knitting', 'Knitting', 'Knitting', 'Knitting', 'Knitting', 'Knitting', 'Knitting', 'Knitting', 'Knitting', 'Knitting', 'Knitting', 'Knitting', 'Knitting', 'Knitting', 'Knitting', 'Knitting', 'Knitting', 'Knitting', 'Knitting', 'Knitting', 'PlayingViolin', 'PlayingViolin', 'PlayingViolin', 'PlayingViolin', 'PlayingViolin', 'PlayingViolin', 'PlayingViolin', 'PlayingViolin']\n",
      "['BabyCrawling', 'BabyCrawling', 'BabyCrawling', 'BabyCrawling', 'BabyCrawling', 'BabyCrawling', 'BabyCrawling', 'BabyCrawling', 'BabyCrawling', 'BabyCrawling', 'BabyCrawling', 'BabyCrawling', 'BabyCrawling', 'BabyCrawling', 'BabyCrawling', 'BabyCrawling', 'BabyCrawling', 'BabyCrawling', 'BabyCrawling', 'BabyCrawling', 'BabyCrawling', 'BabyCrawling', 'BabyCrawling', 'BabyCrawling', 'BabyCrawling', 'BabyCrawling', 'BabyCrawling', 'BabyCrawling', 'BabyCrawling', 'BabyCrawling', 'BabyCrawling', 'BabyCrawling', 'BabyCrawling', 'BabyCrawling', 'BabyCrawling', 'Surfing', 'Surfing', 'Surfing', 'Surfing', 'Surfing', 'Surfing', 'Surfing', 'Surfing', 'Surfing', 'Surfing', 'Surfing', 'Surfing', 'Surfing', 'Surfing', 'Surfing', 'Surfing', 'Surfing', 'Surfing', 'Surfing', 'Surfing', 'Surfing', 'Surfing', 'Surfing', 'Surfing', 'Surfing', 'Surfing', 'Surfing', 'Surfing', 'Surfing', 'Surfing', 'Surfing', 'Surfing', 'Surfing', 'Typing', 'Typing', 'Typing', 'Typing', 'Typing', 'Typing', 'Typing', 'Typing', 'Typing', 'Typing', 'Typing', 'Typing', 'Typing', 'Typing', 'Typing', 'Typing', 'Typing', 'Typing', 'Typing', 'Typing', 'BabyCrawling', 'Knitting', 'Knitting', 'Knitting', 'Typing', 'Typing', 'Typing', 'Typing', 'Typing', 'Typing', 'Typing', 'Typing', 'Typing', 'Typing', 'Typing', 'Typing', 'Typing', 'Typing', 'Typing', 'Typing', 'Typing', 'Typing', 'Typing', 'WalkingWithDog', 'WalkingWithDog', 'WalkingWithDog', 'WalkingWithDog', 'WalkingWithDog', 'WalkingWithDog', 'WalkingWithDog', 'WalkingWithDog', 'WalkingWithDog', 'WalkingWithDog', 'WalkingWithDog', 'WalkingWithDog', 'WalkingWithDog', 'WalkingWithDog', 'WalkingWithDog', 'Surfing', 'WalkingWithDog', 'WalkingWithDog', 'WalkingWithDog', 'WalkingWithDog', 'WalkingWithDog', 'WalkingWithDog', 'WalkingWithDog', 'WalkingWithDog', 'WalkingWithDog', 'WalkingWithDog', 'WalkingWithDog', 'WalkingWithDog', 'WalkingWithDog', 'WalkingWithDog', 'WalkingWithDog', 'WalkingWithDog', 'WalkingWithDog', 'WalkingWithDog', 'WalkingWithDog', 'WalkingWithDog', 'Knitting', 'Knitting', 'Knitting', 'Knitting', 'Knitting', 'Knitting', 'Knitting', 'Knitting', 'Knitting', 'Knitting', 'Knitting', 'Knitting', 'Knitting', 'Knitting', 'Knitting', 'Knitting', 'Knitting', 'Knitting', 'Knitting', 'Knitting', 'Knitting', 'Knitting', 'Knitting', 'Knitting', 'Knitting', 'Knitting', 'Knitting', 'Knitting', 'Knitting', 'Knitting', 'Knitting', 'Knitting', 'Knitting', 'Knitting', 'PlayingViolin', 'PlayingViolin', 'PlayingViolin', 'PlayingViolin', 'PlayingViolin', 'PlayingViolin', 'PlayingViolin', 'WalkingWithDog']\n"
     ]
    },
    {
     "name": "stderr",
     "output_type": "stream",
     "text": [
      " 91%|█████████████████████████████████████████████████████████████████████████       | 190/208 [03:59<00:31,  1.74s/it]"
     ]
    },
    {
     "name": "stdout",
     "output_type": "stream",
     "text": [
      "['BabyCrawling', 'BabyCrawling', 'BabyCrawling', 'BabyCrawling', 'BabyCrawling', 'BabyCrawling', 'BabyCrawling', 'BabyCrawling', 'BabyCrawling', 'BabyCrawling', 'BabyCrawling', 'BabyCrawling', 'BabyCrawling', 'BabyCrawling', 'BabyCrawling', 'BabyCrawling', 'BabyCrawling', 'BabyCrawling', 'BabyCrawling', 'BabyCrawling', 'BabyCrawling', 'BabyCrawling', 'BabyCrawling', 'BabyCrawling', 'BabyCrawling', 'BabyCrawling', 'BabyCrawling', 'BabyCrawling', 'BabyCrawling', 'BabyCrawling', 'BabyCrawling', 'BabyCrawling', 'BabyCrawling', 'BabyCrawling', 'BabyCrawling', 'Surfing', 'Surfing', 'Surfing', 'Surfing', 'Surfing', 'Surfing', 'Surfing', 'Surfing', 'Surfing', 'Surfing', 'Surfing', 'Surfing', 'Surfing', 'Surfing', 'Surfing', 'Surfing', 'Surfing', 'Surfing', 'Surfing', 'Surfing', 'Surfing', 'Surfing', 'Surfing', 'Surfing', 'Surfing', 'Surfing', 'Surfing', 'Surfing', 'Surfing', 'Surfing', 'Surfing', 'Surfing', 'Surfing', 'Typing', 'Typing', 'Typing', 'Typing', 'Typing', 'Typing', 'Typing', 'Typing', 'Typing', 'Typing', 'Typing', 'Typing', 'Typing', 'Typing', 'Typing', 'Typing', 'Typing', 'Typing', 'Typing', 'Typing', 'Typing', 'Typing', 'Typing', 'Typing', 'Typing', 'Typing', 'Typing', 'Typing', 'Typing', 'Typing', 'Typing', 'Typing', 'Typing', 'Typing', 'Typing', 'Typing', 'Typing', 'Typing', 'Typing', 'Typing', 'Typing', 'Typing', 'Typing', 'WalkingWithDog', 'WalkingWithDog', 'WalkingWithDog', 'WalkingWithDog', 'WalkingWithDog', 'WalkingWithDog', 'WalkingWithDog', 'WalkingWithDog', 'WalkingWithDog', 'WalkingWithDog', 'WalkingWithDog', 'WalkingWithDog', 'WalkingWithDog', 'WalkingWithDog', 'WalkingWithDog', 'WalkingWithDog', 'WalkingWithDog', 'WalkingWithDog', 'WalkingWithDog', 'WalkingWithDog', 'WalkingWithDog', 'WalkingWithDog', 'WalkingWithDog', 'WalkingWithDog', 'WalkingWithDog', 'WalkingWithDog', 'WalkingWithDog', 'WalkingWithDog', 'WalkingWithDog', 'WalkingWithDog', 'WalkingWithDog', 'WalkingWithDog', 'WalkingWithDog', 'WalkingWithDog', 'WalkingWithDog', 'WalkingWithDog', 'Knitting', 'Knitting', 'Knitting', 'Knitting', 'Knitting', 'Knitting', 'Knitting', 'Knitting', 'Knitting', 'Knitting', 'Knitting', 'Knitting', 'Knitting', 'Knitting', 'Knitting', 'Knitting', 'Knitting', 'Knitting', 'Knitting', 'Knitting', 'Knitting', 'Knitting', 'Knitting', 'Knitting', 'Knitting', 'Knitting', 'Knitting', 'Knitting', 'Knitting', 'Knitting', 'Knitting', 'Knitting', 'Knitting', 'Knitting', 'PlayingViolin', 'PlayingViolin', 'PlayingViolin', 'PlayingViolin', 'PlayingViolin', 'PlayingViolin', 'PlayingViolin', 'PlayingViolin', 'PlayingViolin']\n",
      "['BabyCrawling', 'BabyCrawling', 'BabyCrawling', 'BabyCrawling', 'BabyCrawling', 'BabyCrawling', 'BabyCrawling', 'BabyCrawling', 'BabyCrawling', 'BabyCrawling', 'BabyCrawling', 'BabyCrawling', 'BabyCrawling', 'BabyCrawling', 'BabyCrawling', 'BabyCrawling', 'BabyCrawling', 'BabyCrawling', 'BabyCrawling', 'BabyCrawling', 'BabyCrawling', 'BabyCrawling', 'BabyCrawling', 'BabyCrawling', 'BabyCrawling', 'BabyCrawling', 'BabyCrawling', 'BabyCrawling', 'BabyCrawling', 'BabyCrawling', 'BabyCrawling', 'BabyCrawling', 'BabyCrawling', 'BabyCrawling', 'BabyCrawling', 'Surfing', 'Surfing', 'Surfing', 'Surfing', 'Surfing', 'Surfing', 'Surfing', 'Surfing', 'Surfing', 'Surfing', 'Surfing', 'Surfing', 'Surfing', 'Surfing', 'Surfing', 'Surfing', 'Surfing', 'Surfing', 'Surfing', 'Surfing', 'Surfing', 'Surfing', 'Surfing', 'Surfing', 'Surfing', 'Surfing', 'Surfing', 'Surfing', 'Surfing', 'Surfing', 'Surfing', 'Surfing', 'Surfing', 'Typing', 'Typing', 'Typing', 'Typing', 'Typing', 'Typing', 'Typing', 'Typing', 'Typing', 'Typing', 'Typing', 'Typing', 'Typing', 'Typing', 'Typing', 'Typing', 'Typing', 'Typing', 'Typing', 'Typing', 'BabyCrawling', 'Knitting', 'Knitting', 'Knitting', 'Typing', 'Typing', 'Typing', 'Typing', 'Typing', 'Typing', 'Typing', 'Typing', 'Typing', 'Typing', 'Typing', 'Typing', 'Typing', 'Typing', 'Typing', 'Typing', 'Typing', 'Typing', 'Typing', 'WalkingWithDog', 'WalkingWithDog', 'WalkingWithDog', 'WalkingWithDog', 'WalkingWithDog', 'WalkingWithDog', 'WalkingWithDog', 'WalkingWithDog', 'WalkingWithDog', 'WalkingWithDog', 'WalkingWithDog', 'WalkingWithDog', 'WalkingWithDog', 'WalkingWithDog', 'WalkingWithDog', 'Surfing', 'WalkingWithDog', 'WalkingWithDog', 'WalkingWithDog', 'WalkingWithDog', 'WalkingWithDog', 'WalkingWithDog', 'WalkingWithDog', 'WalkingWithDog', 'WalkingWithDog', 'WalkingWithDog', 'WalkingWithDog', 'WalkingWithDog', 'WalkingWithDog', 'WalkingWithDog', 'WalkingWithDog', 'WalkingWithDog', 'WalkingWithDog', 'WalkingWithDog', 'WalkingWithDog', 'WalkingWithDog', 'Knitting', 'Knitting', 'Knitting', 'Knitting', 'Knitting', 'Knitting', 'Knitting', 'Knitting', 'Knitting', 'Knitting', 'Knitting', 'Knitting', 'Knitting', 'Knitting', 'Knitting', 'Knitting', 'Knitting', 'Knitting', 'Knitting', 'Knitting', 'Knitting', 'Knitting', 'Knitting', 'Knitting', 'Knitting', 'Knitting', 'Knitting', 'Knitting', 'Knitting', 'Knitting', 'Knitting', 'Knitting', 'Knitting', 'Knitting', 'PlayingViolin', 'PlayingViolin', 'PlayingViolin', 'PlayingViolin', 'PlayingViolin', 'PlayingViolin', 'PlayingViolin', 'WalkingWithDog', 'PlayingViolin']\n"
     ]
    },
    {
     "name": "stderr",
     "output_type": "stream",
     "text": [
      " 92%|█████████████████████████████████████████████████████████████████████████▍      | 191/208 [04:00<00:26,  1.56s/it]"
     ]
    },
    {
     "name": "stdout",
     "output_type": "stream",
     "text": [
      "['BabyCrawling', 'BabyCrawling', 'BabyCrawling', 'BabyCrawling', 'BabyCrawling', 'BabyCrawling', 'BabyCrawling', 'BabyCrawling', 'BabyCrawling', 'BabyCrawling', 'BabyCrawling', 'BabyCrawling', 'BabyCrawling', 'BabyCrawling', 'BabyCrawling', 'BabyCrawling', 'BabyCrawling', 'BabyCrawling', 'BabyCrawling', 'BabyCrawling', 'BabyCrawling', 'BabyCrawling', 'BabyCrawling', 'BabyCrawling', 'BabyCrawling', 'BabyCrawling', 'BabyCrawling', 'BabyCrawling', 'BabyCrawling', 'BabyCrawling', 'BabyCrawling', 'BabyCrawling', 'BabyCrawling', 'BabyCrawling', 'BabyCrawling', 'Surfing', 'Surfing', 'Surfing', 'Surfing', 'Surfing', 'Surfing', 'Surfing', 'Surfing', 'Surfing', 'Surfing', 'Surfing', 'Surfing', 'Surfing', 'Surfing', 'Surfing', 'Surfing', 'Surfing', 'Surfing', 'Surfing', 'Surfing', 'Surfing', 'Surfing', 'Surfing', 'Surfing', 'Surfing', 'Surfing', 'Surfing', 'Surfing', 'Surfing', 'Surfing', 'Surfing', 'Surfing', 'Surfing', 'Typing', 'Typing', 'Typing', 'Typing', 'Typing', 'Typing', 'Typing', 'Typing', 'Typing', 'Typing', 'Typing', 'Typing', 'Typing', 'Typing', 'Typing', 'Typing', 'Typing', 'Typing', 'Typing', 'Typing', 'Typing', 'Typing', 'Typing', 'Typing', 'Typing', 'Typing', 'Typing', 'Typing', 'Typing', 'Typing', 'Typing', 'Typing', 'Typing', 'Typing', 'Typing', 'Typing', 'Typing', 'Typing', 'Typing', 'Typing', 'Typing', 'Typing', 'Typing', 'WalkingWithDog', 'WalkingWithDog', 'WalkingWithDog', 'WalkingWithDog', 'WalkingWithDog', 'WalkingWithDog', 'WalkingWithDog', 'WalkingWithDog', 'WalkingWithDog', 'WalkingWithDog', 'WalkingWithDog', 'WalkingWithDog', 'WalkingWithDog', 'WalkingWithDog', 'WalkingWithDog', 'WalkingWithDog', 'WalkingWithDog', 'WalkingWithDog', 'WalkingWithDog', 'WalkingWithDog', 'WalkingWithDog', 'WalkingWithDog', 'WalkingWithDog', 'WalkingWithDog', 'WalkingWithDog', 'WalkingWithDog', 'WalkingWithDog', 'WalkingWithDog', 'WalkingWithDog', 'WalkingWithDog', 'WalkingWithDog', 'WalkingWithDog', 'WalkingWithDog', 'WalkingWithDog', 'WalkingWithDog', 'WalkingWithDog', 'Knitting', 'Knitting', 'Knitting', 'Knitting', 'Knitting', 'Knitting', 'Knitting', 'Knitting', 'Knitting', 'Knitting', 'Knitting', 'Knitting', 'Knitting', 'Knitting', 'Knitting', 'Knitting', 'Knitting', 'Knitting', 'Knitting', 'Knitting', 'Knitting', 'Knitting', 'Knitting', 'Knitting', 'Knitting', 'Knitting', 'Knitting', 'Knitting', 'Knitting', 'Knitting', 'Knitting', 'Knitting', 'Knitting', 'Knitting', 'PlayingViolin', 'PlayingViolin', 'PlayingViolin', 'PlayingViolin', 'PlayingViolin', 'PlayingViolin', 'PlayingViolin', 'PlayingViolin', 'PlayingViolin', 'PlayingViolin']\n",
      "['BabyCrawling', 'BabyCrawling', 'BabyCrawling', 'BabyCrawling', 'BabyCrawling', 'BabyCrawling', 'BabyCrawling', 'BabyCrawling', 'BabyCrawling', 'BabyCrawling', 'BabyCrawling', 'BabyCrawling', 'BabyCrawling', 'BabyCrawling', 'BabyCrawling', 'BabyCrawling', 'BabyCrawling', 'BabyCrawling', 'BabyCrawling', 'BabyCrawling', 'BabyCrawling', 'BabyCrawling', 'BabyCrawling', 'BabyCrawling', 'BabyCrawling', 'BabyCrawling', 'BabyCrawling', 'BabyCrawling', 'BabyCrawling', 'BabyCrawling', 'BabyCrawling', 'BabyCrawling', 'BabyCrawling', 'BabyCrawling', 'BabyCrawling', 'Surfing', 'Surfing', 'Surfing', 'Surfing', 'Surfing', 'Surfing', 'Surfing', 'Surfing', 'Surfing', 'Surfing', 'Surfing', 'Surfing', 'Surfing', 'Surfing', 'Surfing', 'Surfing', 'Surfing', 'Surfing', 'Surfing', 'Surfing', 'Surfing', 'Surfing', 'Surfing', 'Surfing', 'Surfing', 'Surfing', 'Surfing', 'Surfing', 'Surfing', 'Surfing', 'Surfing', 'Surfing', 'Surfing', 'Typing', 'Typing', 'Typing', 'Typing', 'Typing', 'Typing', 'Typing', 'Typing', 'Typing', 'Typing', 'Typing', 'Typing', 'Typing', 'Typing', 'Typing', 'Typing', 'Typing', 'Typing', 'Typing', 'Typing', 'BabyCrawling', 'Knitting', 'Knitting', 'Knitting', 'Typing', 'Typing', 'Typing', 'Typing', 'Typing', 'Typing', 'Typing', 'Typing', 'Typing', 'Typing', 'Typing', 'Typing', 'Typing', 'Typing', 'Typing', 'Typing', 'Typing', 'Typing', 'Typing', 'WalkingWithDog', 'WalkingWithDog', 'WalkingWithDog', 'WalkingWithDog', 'WalkingWithDog', 'WalkingWithDog', 'WalkingWithDog', 'WalkingWithDog', 'WalkingWithDog', 'WalkingWithDog', 'WalkingWithDog', 'WalkingWithDog', 'WalkingWithDog', 'WalkingWithDog', 'WalkingWithDog', 'Surfing', 'WalkingWithDog', 'WalkingWithDog', 'WalkingWithDog', 'WalkingWithDog', 'WalkingWithDog', 'WalkingWithDog', 'WalkingWithDog', 'WalkingWithDog', 'WalkingWithDog', 'WalkingWithDog', 'WalkingWithDog', 'WalkingWithDog', 'WalkingWithDog', 'WalkingWithDog', 'WalkingWithDog', 'WalkingWithDog', 'WalkingWithDog', 'WalkingWithDog', 'WalkingWithDog', 'WalkingWithDog', 'Knitting', 'Knitting', 'Knitting', 'Knitting', 'Knitting', 'Knitting', 'Knitting', 'Knitting', 'Knitting', 'Knitting', 'Knitting', 'Knitting', 'Knitting', 'Knitting', 'Knitting', 'Knitting', 'Knitting', 'Knitting', 'Knitting', 'Knitting', 'Knitting', 'Knitting', 'Knitting', 'Knitting', 'Knitting', 'Knitting', 'Knitting', 'Knitting', 'Knitting', 'Knitting', 'Knitting', 'Knitting', 'Knitting', 'Knitting', 'PlayingViolin', 'PlayingViolin', 'PlayingViolin', 'PlayingViolin', 'PlayingViolin', 'PlayingViolin', 'PlayingViolin', 'WalkingWithDog', 'PlayingViolin', 'PlayingViolin']\n"
     ]
    },
    {
     "name": "stderr",
     "output_type": "stream",
     "text": [
      " 92%|█████████████████████████████████████████████████████████████████████████▊      | 192/208 [04:01<00:23,  1.45s/it]"
     ]
    },
    {
     "name": "stdout",
     "output_type": "stream",
     "text": [
      "['BabyCrawling', 'BabyCrawling', 'BabyCrawling', 'BabyCrawling', 'BabyCrawling', 'BabyCrawling', 'BabyCrawling', 'BabyCrawling', 'BabyCrawling', 'BabyCrawling', 'BabyCrawling', 'BabyCrawling', 'BabyCrawling', 'BabyCrawling', 'BabyCrawling', 'BabyCrawling', 'BabyCrawling', 'BabyCrawling', 'BabyCrawling', 'BabyCrawling', 'BabyCrawling', 'BabyCrawling', 'BabyCrawling', 'BabyCrawling', 'BabyCrawling', 'BabyCrawling', 'BabyCrawling', 'BabyCrawling', 'BabyCrawling', 'BabyCrawling', 'BabyCrawling', 'BabyCrawling', 'BabyCrawling', 'BabyCrawling', 'BabyCrawling', 'Surfing', 'Surfing', 'Surfing', 'Surfing', 'Surfing', 'Surfing', 'Surfing', 'Surfing', 'Surfing', 'Surfing', 'Surfing', 'Surfing', 'Surfing', 'Surfing', 'Surfing', 'Surfing', 'Surfing', 'Surfing', 'Surfing', 'Surfing', 'Surfing', 'Surfing', 'Surfing', 'Surfing', 'Surfing', 'Surfing', 'Surfing', 'Surfing', 'Surfing', 'Surfing', 'Surfing', 'Surfing', 'Surfing', 'Typing', 'Typing', 'Typing', 'Typing', 'Typing', 'Typing', 'Typing', 'Typing', 'Typing', 'Typing', 'Typing', 'Typing', 'Typing', 'Typing', 'Typing', 'Typing', 'Typing', 'Typing', 'Typing', 'Typing', 'Typing', 'Typing', 'Typing', 'Typing', 'Typing', 'Typing', 'Typing', 'Typing', 'Typing', 'Typing', 'Typing', 'Typing', 'Typing', 'Typing', 'Typing', 'Typing', 'Typing', 'Typing', 'Typing', 'Typing', 'Typing', 'Typing', 'Typing', 'WalkingWithDog', 'WalkingWithDog', 'WalkingWithDog', 'WalkingWithDog', 'WalkingWithDog', 'WalkingWithDog', 'WalkingWithDog', 'WalkingWithDog', 'WalkingWithDog', 'WalkingWithDog', 'WalkingWithDog', 'WalkingWithDog', 'WalkingWithDog', 'WalkingWithDog', 'WalkingWithDog', 'WalkingWithDog', 'WalkingWithDog', 'WalkingWithDog', 'WalkingWithDog', 'WalkingWithDog', 'WalkingWithDog', 'WalkingWithDog', 'WalkingWithDog', 'WalkingWithDog', 'WalkingWithDog', 'WalkingWithDog', 'WalkingWithDog', 'WalkingWithDog', 'WalkingWithDog', 'WalkingWithDog', 'WalkingWithDog', 'WalkingWithDog', 'WalkingWithDog', 'WalkingWithDog', 'WalkingWithDog', 'WalkingWithDog', 'Knitting', 'Knitting', 'Knitting', 'Knitting', 'Knitting', 'Knitting', 'Knitting', 'Knitting', 'Knitting', 'Knitting', 'Knitting', 'Knitting', 'Knitting', 'Knitting', 'Knitting', 'Knitting', 'Knitting', 'Knitting', 'Knitting', 'Knitting', 'Knitting', 'Knitting', 'Knitting', 'Knitting', 'Knitting', 'Knitting', 'Knitting', 'Knitting', 'Knitting', 'Knitting', 'Knitting', 'Knitting', 'Knitting', 'Knitting', 'PlayingViolin', 'PlayingViolin', 'PlayingViolin', 'PlayingViolin', 'PlayingViolin', 'PlayingViolin', 'PlayingViolin', 'PlayingViolin', 'PlayingViolin', 'PlayingViolin', 'PlayingViolin']\n",
      "['BabyCrawling', 'BabyCrawling', 'BabyCrawling', 'BabyCrawling', 'BabyCrawling', 'BabyCrawling', 'BabyCrawling', 'BabyCrawling', 'BabyCrawling', 'BabyCrawling', 'BabyCrawling', 'BabyCrawling', 'BabyCrawling', 'BabyCrawling', 'BabyCrawling', 'BabyCrawling', 'BabyCrawling', 'BabyCrawling', 'BabyCrawling', 'BabyCrawling', 'BabyCrawling', 'BabyCrawling', 'BabyCrawling', 'BabyCrawling', 'BabyCrawling', 'BabyCrawling', 'BabyCrawling', 'BabyCrawling', 'BabyCrawling', 'BabyCrawling', 'BabyCrawling', 'BabyCrawling', 'BabyCrawling', 'BabyCrawling', 'BabyCrawling', 'Surfing', 'Surfing', 'Surfing', 'Surfing', 'Surfing', 'Surfing', 'Surfing', 'Surfing', 'Surfing', 'Surfing', 'Surfing', 'Surfing', 'Surfing', 'Surfing', 'Surfing', 'Surfing', 'Surfing', 'Surfing', 'Surfing', 'Surfing', 'Surfing', 'Surfing', 'Surfing', 'Surfing', 'Surfing', 'Surfing', 'Surfing', 'Surfing', 'Surfing', 'Surfing', 'Surfing', 'Surfing', 'Surfing', 'Typing', 'Typing', 'Typing', 'Typing', 'Typing', 'Typing', 'Typing', 'Typing', 'Typing', 'Typing', 'Typing', 'Typing', 'Typing', 'Typing', 'Typing', 'Typing', 'Typing', 'Typing', 'Typing', 'Typing', 'BabyCrawling', 'Knitting', 'Knitting', 'Knitting', 'Typing', 'Typing', 'Typing', 'Typing', 'Typing', 'Typing', 'Typing', 'Typing', 'Typing', 'Typing', 'Typing', 'Typing', 'Typing', 'Typing', 'Typing', 'Typing', 'Typing', 'Typing', 'Typing', 'WalkingWithDog', 'WalkingWithDog', 'WalkingWithDog', 'WalkingWithDog', 'WalkingWithDog', 'WalkingWithDog', 'WalkingWithDog', 'WalkingWithDog', 'WalkingWithDog', 'WalkingWithDog', 'WalkingWithDog', 'WalkingWithDog', 'WalkingWithDog', 'WalkingWithDog', 'WalkingWithDog', 'Surfing', 'WalkingWithDog', 'WalkingWithDog', 'WalkingWithDog', 'WalkingWithDog', 'WalkingWithDog', 'WalkingWithDog', 'WalkingWithDog', 'WalkingWithDog', 'WalkingWithDog', 'WalkingWithDog', 'WalkingWithDog', 'WalkingWithDog', 'WalkingWithDog', 'WalkingWithDog', 'WalkingWithDog', 'WalkingWithDog', 'WalkingWithDog', 'WalkingWithDog', 'WalkingWithDog', 'WalkingWithDog', 'Knitting', 'Knitting', 'Knitting', 'Knitting', 'Knitting', 'Knitting', 'Knitting', 'Knitting', 'Knitting', 'Knitting', 'Knitting', 'Knitting', 'Knitting', 'Knitting', 'Knitting', 'Knitting', 'Knitting', 'Knitting', 'Knitting', 'Knitting', 'Knitting', 'Knitting', 'Knitting', 'Knitting', 'Knitting', 'Knitting', 'Knitting', 'Knitting', 'Knitting', 'Knitting', 'Knitting', 'Knitting', 'Knitting', 'Knitting', 'PlayingViolin', 'PlayingViolin', 'PlayingViolin', 'PlayingViolin', 'PlayingViolin', 'PlayingViolin', 'PlayingViolin', 'WalkingWithDog', 'PlayingViolin', 'PlayingViolin', 'PlayingViolin']\n"
     ]
    },
    {
     "name": "stderr",
     "output_type": "stream",
     "text": [
      " 93%|██████████████████████████████████████████████████████████████████████████▏     | 193/208 [04:02<00:20,  1.37s/it]"
     ]
    },
    {
     "name": "stdout",
     "output_type": "stream",
     "text": [
      "['BabyCrawling', 'BabyCrawling', 'BabyCrawling', 'BabyCrawling', 'BabyCrawling', 'BabyCrawling', 'BabyCrawling', 'BabyCrawling', 'BabyCrawling', 'BabyCrawling', 'BabyCrawling', 'BabyCrawling', 'BabyCrawling', 'BabyCrawling', 'BabyCrawling', 'BabyCrawling', 'BabyCrawling', 'BabyCrawling', 'BabyCrawling', 'BabyCrawling', 'BabyCrawling', 'BabyCrawling', 'BabyCrawling', 'BabyCrawling', 'BabyCrawling', 'BabyCrawling', 'BabyCrawling', 'BabyCrawling', 'BabyCrawling', 'BabyCrawling', 'BabyCrawling', 'BabyCrawling', 'BabyCrawling', 'BabyCrawling', 'BabyCrawling', 'Surfing', 'Surfing', 'Surfing', 'Surfing', 'Surfing', 'Surfing', 'Surfing', 'Surfing', 'Surfing', 'Surfing', 'Surfing', 'Surfing', 'Surfing', 'Surfing', 'Surfing', 'Surfing', 'Surfing', 'Surfing', 'Surfing', 'Surfing', 'Surfing', 'Surfing', 'Surfing', 'Surfing', 'Surfing', 'Surfing', 'Surfing', 'Surfing', 'Surfing', 'Surfing', 'Surfing', 'Surfing', 'Surfing', 'Typing', 'Typing', 'Typing', 'Typing', 'Typing', 'Typing', 'Typing', 'Typing', 'Typing', 'Typing', 'Typing', 'Typing', 'Typing', 'Typing', 'Typing', 'Typing', 'Typing', 'Typing', 'Typing', 'Typing', 'Typing', 'Typing', 'Typing', 'Typing', 'Typing', 'Typing', 'Typing', 'Typing', 'Typing', 'Typing', 'Typing', 'Typing', 'Typing', 'Typing', 'Typing', 'Typing', 'Typing', 'Typing', 'Typing', 'Typing', 'Typing', 'Typing', 'Typing', 'WalkingWithDog', 'WalkingWithDog', 'WalkingWithDog', 'WalkingWithDog', 'WalkingWithDog', 'WalkingWithDog', 'WalkingWithDog', 'WalkingWithDog', 'WalkingWithDog', 'WalkingWithDog', 'WalkingWithDog', 'WalkingWithDog', 'WalkingWithDog', 'WalkingWithDog', 'WalkingWithDog', 'WalkingWithDog', 'WalkingWithDog', 'WalkingWithDog', 'WalkingWithDog', 'WalkingWithDog', 'WalkingWithDog', 'WalkingWithDog', 'WalkingWithDog', 'WalkingWithDog', 'WalkingWithDog', 'WalkingWithDog', 'WalkingWithDog', 'WalkingWithDog', 'WalkingWithDog', 'WalkingWithDog', 'WalkingWithDog', 'WalkingWithDog', 'WalkingWithDog', 'WalkingWithDog', 'WalkingWithDog', 'WalkingWithDog', 'Knitting', 'Knitting', 'Knitting', 'Knitting', 'Knitting', 'Knitting', 'Knitting', 'Knitting', 'Knitting', 'Knitting', 'Knitting', 'Knitting', 'Knitting', 'Knitting', 'Knitting', 'Knitting', 'Knitting', 'Knitting', 'Knitting', 'Knitting', 'Knitting', 'Knitting', 'Knitting', 'Knitting', 'Knitting', 'Knitting', 'Knitting', 'Knitting', 'Knitting', 'Knitting', 'Knitting', 'Knitting', 'Knitting', 'Knitting', 'PlayingViolin', 'PlayingViolin', 'PlayingViolin', 'PlayingViolin', 'PlayingViolin', 'PlayingViolin', 'PlayingViolin', 'PlayingViolin', 'PlayingViolin', 'PlayingViolin', 'PlayingViolin', 'PlayingViolin']\n",
      "['BabyCrawling', 'BabyCrawling', 'BabyCrawling', 'BabyCrawling', 'BabyCrawling', 'BabyCrawling', 'BabyCrawling', 'BabyCrawling', 'BabyCrawling', 'BabyCrawling', 'BabyCrawling', 'BabyCrawling', 'BabyCrawling', 'BabyCrawling', 'BabyCrawling', 'BabyCrawling', 'BabyCrawling', 'BabyCrawling', 'BabyCrawling', 'BabyCrawling', 'BabyCrawling', 'BabyCrawling', 'BabyCrawling', 'BabyCrawling', 'BabyCrawling', 'BabyCrawling', 'BabyCrawling', 'BabyCrawling', 'BabyCrawling', 'BabyCrawling', 'BabyCrawling', 'BabyCrawling', 'BabyCrawling', 'BabyCrawling', 'BabyCrawling', 'Surfing', 'Surfing', 'Surfing', 'Surfing', 'Surfing', 'Surfing', 'Surfing', 'Surfing', 'Surfing', 'Surfing', 'Surfing', 'Surfing', 'Surfing', 'Surfing', 'Surfing', 'Surfing', 'Surfing', 'Surfing', 'Surfing', 'Surfing', 'Surfing', 'Surfing', 'Surfing', 'Surfing', 'Surfing', 'Surfing', 'Surfing', 'Surfing', 'Surfing', 'Surfing', 'Surfing', 'Surfing', 'Surfing', 'Typing', 'Typing', 'Typing', 'Typing', 'Typing', 'Typing', 'Typing', 'Typing', 'Typing', 'Typing', 'Typing', 'Typing', 'Typing', 'Typing', 'Typing', 'Typing', 'Typing', 'Typing', 'Typing', 'Typing', 'BabyCrawling', 'Knitting', 'Knitting', 'Knitting', 'Typing', 'Typing', 'Typing', 'Typing', 'Typing', 'Typing', 'Typing', 'Typing', 'Typing', 'Typing', 'Typing', 'Typing', 'Typing', 'Typing', 'Typing', 'Typing', 'Typing', 'Typing', 'Typing', 'WalkingWithDog', 'WalkingWithDog', 'WalkingWithDog', 'WalkingWithDog', 'WalkingWithDog', 'WalkingWithDog', 'WalkingWithDog', 'WalkingWithDog', 'WalkingWithDog', 'WalkingWithDog', 'WalkingWithDog', 'WalkingWithDog', 'WalkingWithDog', 'WalkingWithDog', 'WalkingWithDog', 'Surfing', 'WalkingWithDog', 'WalkingWithDog', 'WalkingWithDog', 'WalkingWithDog', 'WalkingWithDog', 'WalkingWithDog', 'WalkingWithDog', 'WalkingWithDog', 'WalkingWithDog', 'WalkingWithDog', 'WalkingWithDog', 'WalkingWithDog', 'WalkingWithDog', 'WalkingWithDog', 'WalkingWithDog', 'WalkingWithDog', 'WalkingWithDog', 'WalkingWithDog', 'WalkingWithDog', 'WalkingWithDog', 'Knitting', 'Knitting', 'Knitting', 'Knitting', 'Knitting', 'Knitting', 'Knitting', 'Knitting', 'Knitting', 'Knitting', 'Knitting', 'Knitting', 'Knitting', 'Knitting', 'Knitting', 'Knitting', 'Knitting', 'Knitting', 'Knitting', 'Knitting', 'Knitting', 'Knitting', 'Knitting', 'Knitting', 'Knitting', 'Knitting', 'Knitting', 'Knitting', 'Knitting', 'Knitting', 'Knitting', 'Knitting', 'Knitting', 'Knitting', 'PlayingViolin', 'PlayingViolin', 'PlayingViolin', 'PlayingViolin', 'PlayingViolin', 'PlayingViolin', 'PlayingViolin', 'WalkingWithDog', 'PlayingViolin', 'PlayingViolin', 'PlayingViolin', 'PlayingViolin']\n"
     ]
    },
    {
     "name": "stderr",
     "output_type": "stream",
     "text": [
      " 93%|██████████████████████████████████████████████████████████████████████████▌     | 194/208 [04:03<00:18,  1.31s/it]"
     ]
    },
    {
     "name": "stdout",
     "output_type": "stream",
     "text": [
      "['BabyCrawling', 'BabyCrawling', 'BabyCrawling', 'BabyCrawling', 'BabyCrawling', 'BabyCrawling', 'BabyCrawling', 'BabyCrawling', 'BabyCrawling', 'BabyCrawling', 'BabyCrawling', 'BabyCrawling', 'BabyCrawling', 'BabyCrawling', 'BabyCrawling', 'BabyCrawling', 'BabyCrawling', 'BabyCrawling', 'BabyCrawling', 'BabyCrawling', 'BabyCrawling', 'BabyCrawling', 'BabyCrawling', 'BabyCrawling', 'BabyCrawling', 'BabyCrawling', 'BabyCrawling', 'BabyCrawling', 'BabyCrawling', 'BabyCrawling', 'BabyCrawling', 'BabyCrawling', 'BabyCrawling', 'BabyCrawling', 'BabyCrawling', 'Surfing', 'Surfing', 'Surfing', 'Surfing', 'Surfing', 'Surfing', 'Surfing', 'Surfing', 'Surfing', 'Surfing', 'Surfing', 'Surfing', 'Surfing', 'Surfing', 'Surfing', 'Surfing', 'Surfing', 'Surfing', 'Surfing', 'Surfing', 'Surfing', 'Surfing', 'Surfing', 'Surfing', 'Surfing', 'Surfing', 'Surfing', 'Surfing', 'Surfing', 'Surfing', 'Surfing', 'Surfing', 'Surfing', 'Typing', 'Typing', 'Typing', 'Typing', 'Typing', 'Typing', 'Typing', 'Typing', 'Typing', 'Typing', 'Typing', 'Typing', 'Typing', 'Typing', 'Typing', 'Typing', 'Typing', 'Typing', 'Typing', 'Typing', 'Typing', 'Typing', 'Typing', 'Typing', 'Typing', 'Typing', 'Typing', 'Typing', 'Typing', 'Typing', 'Typing', 'Typing', 'Typing', 'Typing', 'Typing', 'Typing', 'Typing', 'Typing', 'Typing', 'Typing', 'Typing', 'Typing', 'Typing', 'WalkingWithDog', 'WalkingWithDog', 'WalkingWithDog', 'WalkingWithDog', 'WalkingWithDog', 'WalkingWithDog', 'WalkingWithDog', 'WalkingWithDog', 'WalkingWithDog', 'WalkingWithDog', 'WalkingWithDog', 'WalkingWithDog', 'WalkingWithDog', 'WalkingWithDog', 'WalkingWithDog', 'WalkingWithDog', 'WalkingWithDog', 'WalkingWithDog', 'WalkingWithDog', 'WalkingWithDog', 'WalkingWithDog', 'WalkingWithDog', 'WalkingWithDog', 'WalkingWithDog', 'WalkingWithDog', 'WalkingWithDog', 'WalkingWithDog', 'WalkingWithDog', 'WalkingWithDog', 'WalkingWithDog', 'WalkingWithDog', 'WalkingWithDog', 'WalkingWithDog', 'WalkingWithDog', 'WalkingWithDog', 'WalkingWithDog', 'Knitting', 'Knitting', 'Knitting', 'Knitting', 'Knitting', 'Knitting', 'Knitting', 'Knitting', 'Knitting', 'Knitting', 'Knitting', 'Knitting', 'Knitting', 'Knitting', 'Knitting', 'Knitting', 'Knitting', 'Knitting', 'Knitting', 'Knitting', 'Knitting', 'Knitting', 'Knitting', 'Knitting', 'Knitting', 'Knitting', 'Knitting', 'Knitting', 'Knitting', 'Knitting', 'Knitting', 'Knitting', 'Knitting', 'Knitting', 'PlayingViolin', 'PlayingViolin', 'PlayingViolin', 'PlayingViolin', 'PlayingViolin', 'PlayingViolin', 'PlayingViolin', 'PlayingViolin', 'PlayingViolin', 'PlayingViolin', 'PlayingViolin', 'PlayingViolin', 'PlayingViolin']\n",
      "['BabyCrawling', 'BabyCrawling', 'BabyCrawling', 'BabyCrawling', 'BabyCrawling', 'BabyCrawling', 'BabyCrawling', 'BabyCrawling', 'BabyCrawling', 'BabyCrawling', 'BabyCrawling', 'BabyCrawling', 'BabyCrawling', 'BabyCrawling', 'BabyCrawling', 'BabyCrawling', 'BabyCrawling', 'BabyCrawling', 'BabyCrawling', 'BabyCrawling', 'BabyCrawling', 'BabyCrawling', 'BabyCrawling', 'BabyCrawling', 'BabyCrawling', 'BabyCrawling', 'BabyCrawling', 'BabyCrawling', 'BabyCrawling', 'BabyCrawling', 'BabyCrawling', 'BabyCrawling', 'BabyCrawling', 'BabyCrawling', 'BabyCrawling', 'Surfing', 'Surfing', 'Surfing', 'Surfing', 'Surfing', 'Surfing', 'Surfing', 'Surfing', 'Surfing', 'Surfing', 'Surfing', 'Surfing', 'Surfing', 'Surfing', 'Surfing', 'Surfing', 'Surfing', 'Surfing', 'Surfing', 'Surfing', 'Surfing', 'Surfing', 'Surfing', 'Surfing', 'Surfing', 'Surfing', 'Surfing', 'Surfing', 'Surfing', 'Surfing', 'Surfing', 'Surfing', 'Surfing', 'Typing', 'Typing', 'Typing', 'Typing', 'Typing', 'Typing', 'Typing', 'Typing', 'Typing', 'Typing', 'Typing', 'Typing', 'Typing', 'Typing', 'Typing', 'Typing', 'Typing', 'Typing', 'Typing', 'Typing', 'BabyCrawling', 'Knitting', 'Knitting', 'Knitting', 'Typing', 'Typing', 'Typing', 'Typing', 'Typing', 'Typing', 'Typing', 'Typing', 'Typing', 'Typing', 'Typing', 'Typing', 'Typing', 'Typing', 'Typing', 'Typing', 'Typing', 'Typing', 'Typing', 'WalkingWithDog', 'WalkingWithDog', 'WalkingWithDog', 'WalkingWithDog', 'WalkingWithDog', 'WalkingWithDog', 'WalkingWithDog', 'WalkingWithDog', 'WalkingWithDog', 'WalkingWithDog', 'WalkingWithDog', 'WalkingWithDog', 'WalkingWithDog', 'WalkingWithDog', 'WalkingWithDog', 'Surfing', 'WalkingWithDog', 'WalkingWithDog', 'WalkingWithDog', 'WalkingWithDog', 'WalkingWithDog', 'WalkingWithDog', 'WalkingWithDog', 'WalkingWithDog', 'WalkingWithDog', 'WalkingWithDog', 'WalkingWithDog', 'WalkingWithDog', 'WalkingWithDog', 'WalkingWithDog', 'WalkingWithDog', 'WalkingWithDog', 'WalkingWithDog', 'WalkingWithDog', 'WalkingWithDog', 'WalkingWithDog', 'Knitting', 'Knitting', 'Knitting', 'Knitting', 'Knitting', 'Knitting', 'Knitting', 'Knitting', 'Knitting', 'Knitting', 'Knitting', 'Knitting', 'Knitting', 'Knitting', 'Knitting', 'Knitting', 'Knitting', 'Knitting', 'Knitting', 'Knitting', 'Knitting', 'Knitting', 'Knitting', 'Knitting', 'Knitting', 'Knitting', 'Knitting', 'Knitting', 'Knitting', 'Knitting', 'Knitting', 'Knitting', 'Knitting', 'Knitting', 'PlayingViolin', 'PlayingViolin', 'PlayingViolin', 'PlayingViolin', 'PlayingViolin', 'PlayingViolin', 'PlayingViolin', 'WalkingWithDog', 'PlayingViolin', 'PlayingViolin', 'PlayingViolin', 'PlayingViolin', 'PlayingViolin']\n"
     ]
    },
    {
     "name": "stderr",
     "output_type": "stream",
     "text": [
      " 94%|███████████████████████████████████████████████████████████████████████████     | 195/208 [04:05<00:16,  1.24s/it]"
     ]
    },
    {
     "name": "stdout",
     "output_type": "stream",
     "text": [
      "['BabyCrawling', 'BabyCrawling', 'BabyCrawling', 'BabyCrawling', 'BabyCrawling', 'BabyCrawling', 'BabyCrawling', 'BabyCrawling', 'BabyCrawling', 'BabyCrawling', 'BabyCrawling', 'BabyCrawling', 'BabyCrawling', 'BabyCrawling', 'BabyCrawling', 'BabyCrawling', 'BabyCrawling', 'BabyCrawling', 'BabyCrawling', 'BabyCrawling', 'BabyCrawling', 'BabyCrawling', 'BabyCrawling', 'BabyCrawling', 'BabyCrawling', 'BabyCrawling', 'BabyCrawling', 'BabyCrawling', 'BabyCrawling', 'BabyCrawling', 'BabyCrawling', 'BabyCrawling', 'BabyCrawling', 'BabyCrawling', 'BabyCrawling', 'Surfing', 'Surfing', 'Surfing', 'Surfing', 'Surfing', 'Surfing', 'Surfing', 'Surfing', 'Surfing', 'Surfing', 'Surfing', 'Surfing', 'Surfing', 'Surfing', 'Surfing', 'Surfing', 'Surfing', 'Surfing', 'Surfing', 'Surfing', 'Surfing', 'Surfing', 'Surfing', 'Surfing', 'Surfing', 'Surfing', 'Surfing', 'Surfing', 'Surfing', 'Surfing', 'Surfing', 'Surfing', 'Surfing', 'Typing', 'Typing', 'Typing', 'Typing', 'Typing', 'Typing', 'Typing', 'Typing', 'Typing', 'Typing', 'Typing', 'Typing', 'Typing', 'Typing', 'Typing', 'Typing', 'Typing', 'Typing', 'Typing', 'Typing', 'Typing', 'Typing', 'Typing', 'Typing', 'Typing', 'Typing', 'Typing', 'Typing', 'Typing', 'Typing', 'Typing', 'Typing', 'Typing', 'Typing', 'Typing', 'Typing', 'Typing', 'Typing', 'Typing', 'Typing', 'Typing', 'Typing', 'Typing', 'WalkingWithDog', 'WalkingWithDog', 'WalkingWithDog', 'WalkingWithDog', 'WalkingWithDog', 'WalkingWithDog', 'WalkingWithDog', 'WalkingWithDog', 'WalkingWithDog', 'WalkingWithDog', 'WalkingWithDog', 'WalkingWithDog', 'WalkingWithDog', 'WalkingWithDog', 'WalkingWithDog', 'WalkingWithDog', 'WalkingWithDog', 'WalkingWithDog', 'WalkingWithDog', 'WalkingWithDog', 'WalkingWithDog', 'WalkingWithDog', 'WalkingWithDog', 'WalkingWithDog', 'WalkingWithDog', 'WalkingWithDog', 'WalkingWithDog', 'WalkingWithDog', 'WalkingWithDog', 'WalkingWithDog', 'WalkingWithDog', 'WalkingWithDog', 'WalkingWithDog', 'WalkingWithDog', 'WalkingWithDog', 'WalkingWithDog', 'Knitting', 'Knitting', 'Knitting', 'Knitting', 'Knitting', 'Knitting', 'Knitting', 'Knitting', 'Knitting', 'Knitting', 'Knitting', 'Knitting', 'Knitting', 'Knitting', 'Knitting', 'Knitting', 'Knitting', 'Knitting', 'Knitting', 'Knitting', 'Knitting', 'Knitting', 'Knitting', 'Knitting', 'Knitting', 'Knitting', 'Knitting', 'Knitting', 'Knitting', 'Knitting', 'Knitting', 'Knitting', 'Knitting', 'Knitting', 'PlayingViolin', 'PlayingViolin', 'PlayingViolin', 'PlayingViolin', 'PlayingViolin', 'PlayingViolin', 'PlayingViolin', 'PlayingViolin', 'PlayingViolin', 'PlayingViolin', 'PlayingViolin', 'PlayingViolin', 'PlayingViolin', 'PlayingViolin']\n",
      "['BabyCrawling', 'BabyCrawling', 'BabyCrawling', 'BabyCrawling', 'BabyCrawling', 'BabyCrawling', 'BabyCrawling', 'BabyCrawling', 'BabyCrawling', 'BabyCrawling', 'BabyCrawling', 'BabyCrawling', 'BabyCrawling', 'BabyCrawling', 'BabyCrawling', 'BabyCrawling', 'BabyCrawling', 'BabyCrawling', 'BabyCrawling', 'BabyCrawling', 'BabyCrawling', 'BabyCrawling', 'BabyCrawling', 'BabyCrawling', 'BabyCrawling', 'BabyCrawling', 'BabyCrawling', 'BabyCrawling', 'BabyCrawling', 'BabyCrawling', 'BabyCrawling', 'BabyCrawling', 'BabyCrawling', 'BabyCrawling', 'BabyCrawling', 'Surfing', 'Surfing', 'Surfing', 'Surfing', 'Surfing', 'Surfing', 'Surfing', 'Surfing', 'Surfing', 'Surfing', 'Surfing', 'Surfing', 'Surfing', 'Surfing', 'Surfing', 'Surfing', 'Surfing', 'Surfing', 'Surfing', 'Surfing', 'Surfing', 'Surfing', 'Surfing', 'Surfing', 'Surfing', 'Surfing', 'Surfing', 'Surfing', 'Surfing', 'Surfing', 'Surfing', 'Surfing', 'Surfing', 'Typing', 'Typing', 'Typing', 'Typing', 'Typing', 'Typing', 'Typing', 'Typing', 'Typing', 'Typing', 'Typing', 'Typing', 'Typing', 'Typing', 'Typing', 'Typing', 'Typing', 'Typing', 'Typing', 'Typing', 'BabyCrawling', 'Knitting', 'Knitting', 'Knitting', 'Typing', 'Typing', 'Typing', 'Typing', 'Typing', 'Typing', 'Typing', 'Typing', 'Typing', 'Typing', 'Typing', 'Typing', 'Typing', 'Typing', 'Typing', 'Typing', 'Typing', 'Typing', 'Typing', 'WalkingWithDog', 'WalkingWithDog', 'WalkingWithDog', 'WalkingWithDog', 'WalkingWithDog', 'WalkingWithDog', 'WalkingWithDog', 'WalkingWithDog', 'WalkingWithDog', 'WalkingWithDog', 'WalkingWithDog', 'WalkingWithDog', 'WalkingWithDog', 'WalkingWithDog', 'WalkingWithDog', 'Surfing', 'WalkingWithDog', 'WalkingWithDog', 'WalkingWithDog', 'WalkingWithDog', 'WalkingWithDog', 'WalkingWithDog', 'WalkingWithDog', 'WalkingWithDog', 'WalkingWithDog', 'WalkingWithDog', 'WalkingWithDog', 'WalkingWithDog', 'WalkingWithDog', 'WalkingWithDog', 'WalkingWithDog', 'WalkingWithDog', 'WalkingWithDog', 'WalkingWithDog', 'WalkingWithDog', 'WalkingWithDog', 'Knitting', 'Knitting', 'Knitting', 'Knitting', 'Knitting', 'Knitting', 'Knitting', 'Knitting', 'Knitting', 'Knitting', 'Knitting', 'Knitting', 'Knitting', 'Knitting', 'Knitting', 'Knitting', 'Knitting', 'Knitting', 'Knitting', 'Knitting', 'Knitting', 'Knitting', 'Knitting', 'Knitting', 'Knitting', 'Knitting', 'Knitting', 'Knitting', 'Knitting', 'Knitting', 'Knitting', 'Knitting', 'Knitting', 'Knitting', 'PlayingViolin', 'PlayingViolin', 'PlayingViolin', 'PlayingViolin', 'PlayingViolin', 'PlayingViolin', 'PlayingViolin', 'WalkingWithDog', 'PlayingViolin', 'PlayingViolin', 'PlayingViolin', 'PlayingViolin', 'PlayingViolin', 'PlayingViolin']\n"
     ]
    },
    {
     "name": "stderr",
     "output_type": "stream",
     "text": [
      " 94%|███████████████████████████████████████████████████████████████████████████▍    | 196/208 [04:06<00:14,  1.19s/it]"
     ]
    },
    {
     "name": "stdout",
     "output_type": "stream",
     "text": [
      "['BabyCrawling', 'BabyCrawling', 'BabyCrawling', 'BabyCrawling', 'BabyCrawling', 'BabyCrawling', 'BabyCrawling', 'BabyCrawling', 'BabyCrawling', 'BabyCrawling', 'BabyCrawling', 'BabyCrawling', 'BabyCrawling', 'BabyCrawling', 'BabyCrawling', 'BabyCrawling', 'BabyCrawling', 'BabyCrawling', 'BabyCrawling', 'BabyCrawling', 'BabyCrawling', 'BabyCrawling', 'BabyCrawling', 'BabyCrawling', 'BabyCrawling', 'BabyCrawling', 'BabyCrawling', 'BabyCrawling', 'BabyCrawling', 'BabyCrawling', 'BabyCrawling', 'BabyCrawling', 'BabyCrawling', 'BabyCrawling', 'BabyCrawling', 'Surfing', 'Surfing', 'Surfing', 'Surfing', 'Surfing', 'Surfing', 'Surfing', 'Surfing', 'Surfing', 'Surfing', 'Surfing', 'Surfing', 'Surfing', 'Surfing', 'Surfing', 'Surfing', 'Surfing', 'Surfing', 'Surfing', 'Surfing', 'Surfing', 'Surfing', 'Surfing', 'Surfing', 'Surfing', 'Surfing', 'Surfing', 'Surfing', 'Surfing', 'Surfing', 'Surfing', 'Surfing', 'Surfing', 'Typing', 'Typing', 'Typing', 'Typing', 'Typing', 'Typing', 'Typing', 'Typing', 'Typing', 'Typing', 'Typing', 'Typing', 'Typing', 'Typing', 'Typing', 'Typing', 'Typing', 'Typing', 'Typing', 'Typing', 'Typing', 'Typing', 'Typing', 'Typing', 'Typing', 'Typing', 'Typing', 'Typing', 'Typing', 'Typing', 'Typing', 'Typing', 'Typing', 'Typing', 'Typing', 'Typing', 'Typing', 'Typing', 'Typing', 'Typing', 'Typing', 'Typing', 'Typing', 'WalkingWithDog', 'WalkingWithDog', 'WalkingWithDog', 'WalkingWithDog', 'WalkingWithDog', 'WalkingWithDog', 'WalkingWithDog', 'WalkingWithDog', 'WalkingWithDog', 'WalkingWithDog', 'WalkingWithDog', 'WalkingWithDog', 'WalkingWithDog', 'WalkingWithDog', 'WalkingWithDog', 'WalkingWithDog', 'WalkingWithDog', 'WalkingWithDog', 'WalkingWithDog', 'WalkingWithDog', 'WalkingWithDog', 'WalkingWithDog', 'WalkingWithDog', 'WalkingWithDog', 'WalkingWithDog', 'WalkingWithDog', 'WalkingWithDog', 'WalkingWithDog', 'WalkingWithDog', 'WalkingWithDog', 'WalkingWithDog', 'WalkingWithDog', 'WalkingWithDog', 'WalkingWithDog', 'WalkingWithDog', 'WalkingWithDog', 'Knitting', 'Knitting', 'Knitting', 'Knitting', 'Knitting', 'Knitting', 'Knitting', 'Knitting', 'Knitting', 'Knitting', 'Knitting', 'Knitting', 'Knitting', 'Knitting', 'Knitting', 'Knitting', 'Knitting', 'Knitting', 'Knitting', 'Knitting', 'Knitting', 'Knitting', 'Knitting', 'Knitting', 'Knitting', 'Knitting', 'Knitting', 'Knitting', 'Knitting', 'Knitting', 'Knitting', 'Knitting', 'Knitting', 'Knitting', 'PlayingViolin', 'PlayingViolin', 'PlayingViolin', 'PlayingViolin', 'PlayingViolin', 'PlayingViolin', 'PlayingViolin', 'PlayingViolin', 'PlayingViolin', 'PlayingViolin', 'PlayingViolin', 'PlayingViolin', 'PlayingViolin', 'PlayingViolin', 'PlayingViolin']\n",
      "['BabyCrawling', 'BabyCrawling', 'BabyCrawling', 'BabyCrawling', 'BabyCrawling', 'BabyCrawling', 'BabyCrawling', 'BabyCrawling', 'BabyCrawling', 'BabyCrawling', 'BabyCrawling', 'BabyCrawling', 'BabyCrawling', 'BabyCrawling', 'BabyCrawling', 'BabyCrawling', 'BabyCrawling', 'BabyCrawling', 'BabyCrawling', 'BabyCrawling', 'BabyCrawling', 'BabyCrawling', 'BabyCrawling', 'BabyCrawling', 'BabyCrawling', 'BabyCrawling', 'BabyCrawling', 'BabyCrawling', 'BabyCrawling', 'BabyCrawling', 'BabyCrawling', 'BabyCrawling', 'BabyCrawling', 'BabyCrawling', 'BabyCrawling', 'Surfing', 'Surfing', 'Surfing', 'Surfing', 'Surfing', 'Surfing', 'Surfing', 'Surfing', 'Surfing', 'Surfing', 'Surfing', 'Surfing', 'Surfing', 'Surfing', 'Surfing', 'Surfing', 'Surfing', 'Surfing', 'Surfing', 'Surfing', 'Surfing', 'Surfing', 'Surfing', 'Surfing', 'Surfing', 'Surfing', 'Surfing', 'Surfing', 'Surfing', 'Surfing', 'Surfing', 'Surfing', 'Surfing', 'Typing', 'Typing', 'Typing', 'Typing', 'Typing', 'Typing', 'Typing', 'Typing', 'Typing', 'Typing', 'Typing', 'Typing', 'Typing', 'Typing', 'Typing', 'Typing', 'Typing', 'Typing', 'Typing', 'Typing', 'BabyCrawling', 'Knitting', 'Knitting', 'Knitting', 'Typing', 'Typing', 'Typing', 'Typing', 'Typing', 'Typing', 'Typing', 'Typing', 'Typing', 'Typing', 'Typing', 'Typing', 'Typing', 'Typing', 'Typing', 'Typing', 'Typing', 'Typing', 'Typing', 'WalkingWithDog', 'WalkingWithDog', 'WalkingWithDog', 'WalkingWithDog', 'WalkingWithDog', 'WalkingWithDog', 'WalkingWithDog', 'WalkingWithDog', 'WalkingWithDog', 'WalkingWithDog', 'WalkingWithDog', 'WalkingWithDog', 'WalkingWithDog', 'WalkingWithDog', 'WalkingWithDog', 'Surfing', 'WalkingWithDog', 'WalkingWithDog', 'WalkingWithDog', 'WalkingWithDog', 'WalkingWithDog', 'WalkingWithDog', 'WalkingWithDog', 'WalkingWithDog', 'WalkingWithDog', 'WalkingWithDog', 'WalkingWithDog', 'WalkingWithDog', 'WalkingWithDog', 'WalkingWithDog', 'WalkingWithDog', 'WalkingWithDog', 'WalkingWithDog', 'WalkingWithDog', 'WalkingWithDog', 'WalkingWithDog', 'Knitting', 'Knitting', 'Knitting', 'Knitting', 'Knitting', 'Knitting', 'Knitting', 'Knitting', 'Knitting', 'Knitting', 'Knitting', 'Knitting', 'Knitting', 'Knitting', 'Knitting', 'Knitting', 'Knitting', 'Knitting', 'Knitting', 'Knitting', 'Knitting', 'Knitting', 'Knitting', 'Knitting', 'Knitting', 'Knitting', 'Knitting', 'Knitting', 'Knitting', 'Knitting', 'Knitting', 'Knitting', 'Knitting', 'Knitting', 'PlayingViolin', 'PlayingViolin', 'PlayingViolin', 'PlayingViolin', 'PlayingViolin', 'PlayingViolin', 'PlayingViolin', 'WalkingWithDog', 'PlayingViolin', 'PlayingViolin', 'PlayingViolin', 'PlayingViolin', 'PlayingViolin', 'PlayingViolin', 'PlayingViolin']\n"
     ]
    },
    {
     "name": "stderr",
     "output_type": "stream",
     "text": [
      " 95%|███████████████████████████████████████████████████████████████████████████▊    | 197/208 [04:07<00:13,  1.19s/it]"
     ]
    },
    {
     "name": "stdout",
     "output_type": "stream",
     "text": [
      "['BabyCrawling', 'BabyCrawling', 'BabyCrawling', 'BabyCrawling', 'BabyCrawling', 'BabyCrawling', 'BabyCrawling', 'BabyCrawling', 'BabyCrawling', 'BabyCrawling', 'BabyCrawling', 'BabyCrawling', 'BabyCrawling', 'BabyCrawling', 'BabyCrawling', 'BabyCrawling', 'BabyCrawling', 'BabyCrawling', 'BabyCrawling', 'BabyCrawling', 'BabyCrawling', 'BabyCrawling', 'BabyCrawling', 'BabyCrawling', 'BabyCrawling', 'BabyCrawling', 'BabyCrawling', 'BabyCrawling', 'BabyCrawling', 'BabyCrawling', 'BabyCrawling', 'BabyCrawling', 'BabyCrawling', 'BabyCrawling', 'BabyCrawling', 'Surfing', 'Surfing', 'Surfing', 'Surfing', 'Surfing', 'Surfing', 'Surfing', 'Surfing', 'Surfing', 'Surfing', 'Surfing', 'Surfing', 'Surfing', 'Surfing', 'Surfing', 'Surfing', 'Surfing', 'Surfing', 'Surfing', 'Surfing', 'Surfing', 'Surfing', 'Surfing', 'Surfing', 'Surfing', 'Surfing', 'Surfing', 'Surfing', 'Surfing', 'Surfing', 'Surfing', 'Surfing', 'Surfing', 'Typing', 'Typing', 'Typing', 'Typing', 'Typing', 'Typing', 'Typing', 'Typing', 'Typing', 'Typing', 'Typing', 'Typing', 'Typing', 'Typing', 'Typing', 'Typing', 'Typing', 'Typing', 'Typing', 'Typing', 'Typing', 'Typing', 'Typing', 'Typing', 'Typing', 'Typing', 'Typing', 'Typing', 'Typing', 'Typing', 'Typing', 'Typing', 'Typing', 'Typing', 'Typing', 'Typing', 'Typing', 'Typing', 'Typing', 'Typing', 'Typing', 'Typing', 'Typing', 'WalkingWithDog', 'WalkingWithDog', 'WalkingWithDog', 'WalkingWithDog', 'WalkingWithDog', 'WalkingWithDog', 'WalkingWithDog', 'WalkingWithDog', 'WalkingWithDog', 'WalkingWithDog', 'WalkingWithDog', 'WalkingWithDog', 'WalkingWithDog', 'WalkingWithDog', 'WalkingWithDog', 'WalkingWithDog', 'WalkingWithDog', 'WalkingWithDog', 'WalkingWithDog', 'WalkingWithDog', 'WalkingWithDog', 'WalkingWithDog', 'WalkingWithDog', 'WalkingWithDog', 'WalkingWithDog', 'WalkingWithDog', 'WalkingWithDog', 'WalkingWithDog', 'WalkingWithDog', 'WalkingWithDog', 'WalkingWithDog', 'WalkingWithDog', 'WalkingWithDog', 'WalkingWithDog', 'WalkingWithDog', 'WalkingWithDog', 'Knitting', 'Knitting', 'Knitting', 'Knitting', 'Knitting', 'Knitting', 'Knitting', 'Knitting', 'Knitting', 'Knitting', 'Knitting', 'Knitting', 'Knitting', 'Knitting', 'Knitting', 'Knitting', 'Knitting', 'Knitting', 'Knitting', 'Knitting', 'Knitting', 'Knitting', 'Knitting', 'Knitting', 'Knitting', 'Knitting', 'Knitting', 'Knitting', 'Knitting', 'Knitting', 'Knitting', 'Knitting', 'Knitting', 'Knitting', 'PlayingViolin', 'PlayingViolin', 'PlayingViolin', 'PlayingViolin', 'PlayingViolin', 'PlayingViolin', 'PlayingViolin', 'PlayingViolin', 'PlayingViolin', 'PlayingViolin', 'PlayingViolin', 'PlayingViolin', 'PlayingViolin', 'PlayingViolin', 'PlayingViolin', 'PlayingViolin']\n",
      "['BabyCrawling', 'BabyCrawling', 'BabyCrawling', 'BabyCrawling', 'BabyCrawling', 'BabyCrawling', 'BabyCrawling', 'BabyCrawling', 'BabyCrawling', 'BabyCrawling', 'BabyCrawling', 'BabyCrawling', 'BabyCrawling', 'BabyCrawling', 'BabyCrawling', 'BabyCrawling', 'BabyCrawling', 'BabyCrawling', 'BabyCrawling', 'BabyCrawling', 'BabyCrawling', 'BabyCrawling', 'BabyCrawling', 'BabyCrawling', 'BabyCrawling', 'BabyCrawling', 'BabyCrawling', 'BabyCrawling', 'BabyCrawling', 'BabyCrawling', 'BabyCrawling', 'BabyCrawling', 'BabyCrawling', 'BabyCrawling', 'BabyCrawling', 'Surfing', 'Surfing', 'Surfing', 'Surfing', 'Surfing', 'Surfing', 'Surfing', 'Surfing', 'Surfing', 'Surfing', 'Surfing', 'Surfing', 'Surfing', 'Surfing', 'Surfing', 'Surfing', 'Surfing', 'Surfing', 'Surfing', 'Surfing', 'Surfing', 'Surfing', 'Surfing', 'Surfing', 'Surfing', 'Surfing', 'Surfing', 'Surfing', 'Surfing', 'Surfing', 'Surfing', 'Surfing', 'Surfing', 'Typing', 'Typing', 'Typing', 'Typing', 'Typing', 'Typing', 'Typing', 'Typing', 'Typing', 'Typing', 'Typing', 'Typing', 'Typing', 'Typing', 'Typing', 'Typing', 'Typing', 'Typing', 'Typing', 'Typing', 'BabyCrawling', 'Knitting', 'Knitting', 'Knitting', 'Typing', 'Typing', 'Typing', 'Typing', 'Typing', 'Typing', 'Typing', 'Typing', 'Typing', 'Typing', 'Typing', 'Typing', 'Typing', 'Typing', 'Typing', 'Typing', 'Typing', 'Typing', 'Typing', 'WalkingWithDog', 'WalkingWithDog', 'WalkingWithDog', 'WalkingWithDog', 'WalkingWithDog', 'WalkingWithDog', 'WalkingWithDog', 'WalkingWithDog', 'WalkingWithDog', 'WalkingWithDog', 'WalkingWithDog', 'WalkingWithDog', 'WalkingWithDog', 'WalkingWithDog', 'WalkingWithDog', 'Surfing', 'WalkingWithDog', 'WalkingWithDog', 'WalkingWithDog', 'WalkingWithDog', 'WalkingWithDog', 'WalkingWithDog', 'WalkingWithDog', 'WalkingWithDog', 'WalkingWithDog', 'WalkingWithDog', 'WalkingWithDog', 'WalkingWithDog', 'WalkingWithDog', 'WalkingWithDog', 'WalkingWithDog', 'WalkingWithDog', 'WalkingWithDog', 'WalkingWithDog', 'WalkingWithDog', 'WalkingWithDog', 'Knitting', 'Knitting', 'Knitting', 'Knitting', 'Knitting', 'Knitting', 'Knitting', 'Knitting', 'Knitting', 'Knitting', 'Knitting', 'Knitting', 'Knitting', 'Knitting', 'Knitting', 'Knitting', 'Knitting', 'Knitting', 'Knitting', 'Knitting', 'Knitting', 'Knitting', 'Knitting', 'Knitting', 'Knitting', 'Knitting', 'Knitting', 'Knitting', 'Knitting', 'Knitting', 'Knitting', 'Knitting', 'Knitting', 'Knitting', 'PlayingViolin', 'PlayingViolin', 'PlayingViolin', 'PlayingViolin', 'PlayingViolin', 'PlayingViolin', 'PlayingViolin', 'WalkingWithDog', 'PlayingViolin', 'PlayingViolin', 'PlayingViolin', 'PlayingViolin', 'PlayingViolin', 'PlayingViolin', 'PlayingViolin', 'PlayingViolin']\n"
     ]
    },
    {
     "name": "stderr",
     "output_type": "stream",
     "text": [
      " 95%|████████████████████████████████████████████████████████████████████████████▏   | 198/208 [04:08<00:11,  1.18s/it]"
     ]
    },
    {
     "name": "stdout",
     "output_type": "stream",
     "text": [
      "['BabyCrawling', 'BabyCrawling', 'BabyCrawling', 'BabyCrawling', 'BabyCrawling', 'BabyCrawling', 'BabyCrawling', 'BabyCrawling', 'BabyCrawling', 'BabyCrawling', 'BabyCrawling', 'BabyCrawling', 'BabyCrawling', 'BabyCrawling', 'BabyCrawling', 'BabyCrawling', 'BabyCrawling', 'BabyCrawling', 'BabyCrawling', 'BabyCrawling', 'BabyCrawling', 'BabyCrawling', 'BabyCrawling', 'BabyCrawling', 'BabyCrawling', 'BabyCrawling', 'BabyCrawling', 'BabyCrawling', 'BabyCrawling', 'BabyCrawling', 'BabyCrawling', 'BabyCrawling', 'BabyCrawling', 'BabyCrawling', 'BabyCrawling', 'Surfing', 'Surfing', 'Surfing', 'Surfing', 'Surfing', 'Surfing', 'Surfing', 'Surfing', 'Surfing', 'Surfing', 'Surfing', 'Surfing', 'Surfing', 'Surfing', 'Surfing', 'Surfing', 'Surfing', 'Surfing', 'Surfing', 'Surfing', 'Surfing', 'Surfing', 'Surfing', 'Surfing', 'Surfing', 'Surfing', 'Surfing', 'Surfing', 'Surfing', 'Surfing', 'Surfing', 'Surfing', 'Surfing', 'Typing', 'Typing', 'Typing', 'Typing', 'Typing', 'Typing', 'Typing', 'Typing', 'Typing', 'Typing', 'Typing', 'Typing', 'Typing', 'Typing', 'Typing', 'Typing', 'Typing', 'Typing', 'Typing', 'Typing', 'Typing', 'Typing', 'Typing', 'Typing', 'Typing', 'Typing', 'Typing', 'Typing', 'Typing', 'Typing', 'Typing', 'Typing', 'Typing', 'Typing', 'Typing', 'Typing', 'Typing', 'Typing', 'Typing', 'Typing', 'Typing', 'Typing', 'Typing', 'WalkingWithDog', 'WalkingWithDog', 'WalkingWithDog', 'WalkingWithDog', 'WalkingWithDog', 'WalkingWithDog', 'WalkingWithDog', 'WalkingWithDog', 'WalkingWithDog', 'WalkingWithDog', 'WalkingWithDog', 'WalkingWithDog', 'WalkingWithDog', 'WalkingWithDog', 'WalkingWithDog', 'WalkingWithDog', 'WalkingWithDog', 'WalkingWithDog', 'WalkingWithDog', 'WalkingWithDog', 'WalkingWithDog', 'WalkingWithDog', 'WalkingWithDog', 'WalkingWithDog', 'WalkingWithDog', 'WalkingWithDog', 'WalkingWithDog', 'WalkingWithDog', 'WalkingWithDog', 'WalkingWithDog', 'WalkingWithDog', 'WalkingWithDog', 'WalkingWithDog', 'WalkingWithDog', 'WalkingWithDog', 'WalkingWithDog', 'Knitting', 'Knitting', 'Knitting', 'Knitting', 'Knitting', 'Knitting', 'Knitting', 'Knitting', 'Knitting', 'Knitting', 'Knitting', 'Knitting', 'Knitting', 'Knitting', 'Knitting', 'Knitting', 'Knitting', 'Knitting', 'Knitting', 'Knitting', 'Knitting', 'Knitting', 'Knitting', 'Knitting', 'Knitting', 'Knitting', 'Knitting', 'Knitting', 'Knitting', 'Knitting', 'Knitting', 'Knitting', 'Knitting', 'Knitting', 'PlayingViolin', 'PlayingViolin', 'PlayingViolin', 'PlayingViolin', 'PlayingViolin', 'PlayingViolin', 'PlayingViolin', 'PlayingViolin', 'PlayingViolin', 'PlayingViolin', 'PlayingViolin', 'PlayingViolin', 'PlayingViolin', 'PlayingViolin', 'PlayingViolin', 'PlayingViolin', 'PlayingViolin']\n",
      "['BabyCrawling', 'BabyCrawling', 'BabyCrawling', 'BabyCrawling', 'BabyCrawling', 'BabyCrawling', 'BabyCrawling', 'BabyCrawling', 'BabyCrawling', 'BabyCrawling', 'BabyCrawling', 'BabyCrawling', 'BabyCrawling', 'BabyCrawling', 'BabyCrawling', 'BabyCrawling', 'BabyCrawling', 'BabyCrawling', 'BabyCrawling', 'BabyCrawling', 'BabyCrawling', 'BabyCrawling', 'BabyCrawling', 'BabyCrawling', 'BabyCrawling', 'BabyCrawling', 'BabyCrawling', 'BabyCrawling', 'BabyCrawling', 'BabyCrawling', 'BabyCrawling', 'BabyCrawling', 'BabyCrawling', 'BabyCrawling', 'BabyCrawling', 'Surfing', 'Surfing', 'Surfing', 'Surfing', 'Surfing', 'Surfing', 'Surfing', 'Surfing', 'Surfing', 'Surfing', 'Surfing', 'Surfing', 'Surfing', 'Surfing', 'Surfing', 'Surfing', 'Surfing', 'Surfing', 'Surfing', 'Surfing', 'Surfing', 'Surfing', 'Surfing', 'Surfing', 'Surfing', 'Surfing', 'Surfing', 'Surfing', 'Surfing', 'Surfing', 'Surfing', 'Surfing', 'Surfing', 'Typing', 'Typing', 'Typing', 'Typing', 'Typing', 'Typing', 'Typing', 'Typing', 'Typing', 'Typing', 'Typing', 'Typing', 'Typing', 'Typing', 'Typing', 'Typing', 'Typing', 'Typing', 'Typing', 'Typing', 'BabyCrawling', 'Knitting', 'Knitting', 'Knitting', 'Typing', 'Typing', 'Typing', 'Typing', 'Typing', 'Typing', 'Typing', 'Typing', 'Typing', 'Typing', 'Typing', 'Typing', 'Typing', 'Typing', 'Typing', 'Typing', 'Typing', 'Typing', 'Typing', 'WalkingWithDog', 'WalkingWithDog', 'WalkingWithDog', 'WalkingWithDog', 'WalkingWithDog', 'WalkingWithDog', 'WalkingWithDog', 'WalkingWithDog', 'WalkingWithDog', 'WalkingWithDog', 'WalkingWithDog', 'WalkingWithDog', 'WalkingWithDog', 'WalkingWithDog', 'WalkingWithDog', 'Surfing', 'WalkingWithDog', 'WalkingWithDog', 'WalkingWithDog', 'WalkingWithDog', 'WalkingWithDog', 'WalkingWithDog', 'WalkingWithDog', 'WalkingWithDog', 'WalkingWithDog', 'WalkingWithDog', 'WalkingWithDog', 'WalkingWithDog', 'WalkingWithDog', 'WalkingWithDog', 'WalkingWithDog', 'WalkingWithDog', 'WalkingWithDog', 'WalkingWithDog', 'WalkingWithDog', 'WalkingWithDog', 'Knitting', 'Knitting', 'Knitting', 'Knitting', 'Knitting', 'Knitting', 'Knitting', 'Knitting', 'Knitting', 'Knitting', 'Knitting', 'Knitting', 'Knitting', 'Knitting', 'Knitting', 'Knitting', 'Knitting', 'Knitting', 'Knitting', 'Knitting', 'Knitting', 'Knitting', 'Knitting', 'Knitting', 'Knitting', 'Knitting', 'Knitting', 'Knitting', 'Knitting', 'Knitting', 'Knitting', 'Knitting', 'Knitting', 'Knitting', 'PlayingViolin', 'PlayingViolin', 'PlayingViolin', 'PlayingViolin', 'PlayingViolin', 'PlayingViolin', 'PlayingViolin', 'WalkingWithDog', 'PlayingViolin', 'PlayingViolin', 'PlayingViolin', 'PlayingViolin', 'PlayingViolin', 'PlayingViolin', 'PlayingViolin', 'PlayingViolin', 'PlayingViolin']\n"
     ]
    },
    {
     "name": "stderr",
     "output_type": "stream",
     "text": [
      " 96%|████████████████████████████████████████████████████████████████████████████▌   | 199/208 [04:09<00:10,  1.17s/it]"
     ]
    },
    {
     "name": "stdout",
     "output_type": "stream",
     "text": [
      "['BabyCrawling', 'BabyCrawling', 'BabyCrawling', 'BabyCrawling', 'BabyCrawling', 'BabyCrawling', 'BabyCrawling', 'BabyCrawling', 'BabyCrawling', 'BabyCrawling', 'BabyCrawling', 'BabyCrawling', 'BabyCrawling', 'BabyCrawling', 'BabyCrawling', 'BabyCrawling', 'BabyCrawling', 'BabyCrawling', 'BabyCrawling', 'BabyCrawling', 'BabyCrawling', 'BabyCrawling', 'BabyCrawling', 'BabyCrawling', 'BabyCrawling', 'BabyCrawling', 'BabyCrawling', 'BabyCrawling', 'BabyCrawling', 'BabyCrawling', 'BabyCrawling', 'BabyCrawling', 'BabyCrawling', 'BabyCrawling', 'BabyCrawling', 'Surfing', 'Surfing', 'Surfing', 'Surfing', 'Surfing', 'Surfing', 'Surfing', 'Surfing', 'Surfing', 'Surfing', 'Surfing', 'Surfing', 'Surfing', 'Surfing', 'Surfing', 'Surfing', 'Surfing', 'Surfing', 'Surfing', 'Surfing', 'Surfing', 'Surfing', 'Surfing', 'Surfing', 'Surfing', 'Surfing', 'Surfing', 'Surfing', 'Surfing', 'Surfing', 'Surfing', 'Surfing', 'Surfing', 'Typing', 'Typing', 'Typing', 'Typing', 'Typing', 'Typing', 'Typing', 'Typing', 'Typing', 'Typing', 'Typing', 'Typing', 'Typing', 'Typing', 'Typing', 'Typing', 'Typing', 'Typing', 'Typing', 'Typing', 'Typing', 'Typing', 'Typing', 'Typing', 'Typing', 'Typing', 'Typing', 'Typing', 'Typing', 'Typing', 'Typing', 'Typing', 'Typing', 'Typing', 'Typing', 'Typing', 'Typing', 'Typing', 'Typing', 'Typing', 'Typing', 'Typing', 'Typing', 'WalkingWithDog', 'WalkingWithDog', 'WalkingWithDog', 'WalkingWithDog', 'WalkingWithDog', 'WalkingWithDog', 'WalkingWithDog', 'WalkingWithDog', 'WalkingWithDog', 'WalkingWithDog', 'WalkingWithDog', 'WalkingWithDog', 'WalkingWithDog', 'WalkingWithDog', 'WalkingWithDog', 'WalkingWithDog', 'WalkingWithDog', 'WalkingWithDog', 'WalkingWithDog', 'WalkingWithDog', 'WalkingWithDog', 'WalkingWithDog', 'WalkingWithDog', 'WalkingWithDog', 'WalkingWithDog', 'WalkingWithDog', 'WalkingWithDog', 'WalkingWithDog', 'WalkingWithDog', 'WalkingWithDog', 'WalkingWithDog', 'WalkingWithDog', 'WalkingWithDog', 'WalkingWithDog', 'WalkingWithDog', 'WalkingWithDog', 'Knitting', 'Knitting', 'Knitting', 'Knitting', 'Knitting', 'Knitting', 'Knitting', 'Knitting', 'Knitting', 'Knitting', 'Knitting', 'Knitting', 'Knitting', 'Knitting', 'Knitting', 'Knitting', 'Knitting', 'Knitting', 'Knitting', 'Knitting', 'Knitting', 'Knitting', 'Knitting', 'Knitting', 'Knitting', 'Knitting', 'Knitting', 'Knitting', 'Knitting', 'Knitting', 'Knitting', 'Knitting', 'Knitting', 'Knitting', 'PlayingViolin', 'PlayingViolin', 'PlayingViolin', 'PlayingViolin', 'PlayingViolin', 'PlayingViolin', 'PlayingViolin', 'PlayingViolin', 'PlayingViolin', 'PlayingViolin', 'PlayingViolin', 'PlayingViolin', 'PlayingViolin', 'PlayingViolin', 'PlayingViolin', 'PlayingViolin', 'PlayingViolin', 'PlayingViolin']\n",
      "['BabyCrawling', 'BabyCrawling', 'BabyCrawling', 'BabyCrawling', 'BabyCrawling', 'BabyCrawling', 'BabyCrawling', 'BabyCrawling', 'BabyCrawling', 'BabyCrawling', 'BabyCrawling', 'BabyCrawling', 'BabyCrawling', 'BabyCrawling', 'BabyCrawling', 'BabyCrawling', 'BabyCrawling', 'BabyCrawling', 'BabyCrawling', 'BabyCrawling', 'BabyCrawling', 'BabyCrawling', 'BabyCrawling', 'BabyCrawling', 'BabyCrawling', 'BabyCrawling', 'BabyCrawling', 'BabyCrawling', 'BabyCrawling', 'BabyCrawling', 'BabyCrawling', 'BabyCrawling', 'BabyCrawling', 'BabyCrawling', 'BabyCrawling', 'Surfing', 'Surfing', 'Surfing', 'Surfing', 'Surfing', 'Surfing', 'Surfing', 'Surfing', 'Surfing', 'Surfing', 'Surfing', 'Surfing', 'Surfing', 'Surfing', 'Surfing', 'Surfing', 'Surfing', 'Surfing', 'Surfing', 'Surfing', 'Surfing', 'Surfing', 'Surfing', 'Surfing', 'Surfing', 'Surfing', 'Surfing', 'Surfing', 'Surfing', 'Surfing', 'Surfing', 'Surfing', 'Surfing', 'Typing', 'Typing', 'Typing', 'Typing', 'Typing', 'Typing', 'Typing', 'Typing', 'Typing', 'Typing', 'Typing', 'Typing', 'Typing', 'Typing', 'Typing', 'Typing', 'Typing', 'Typing', 'Typing', 'Typing', 'BabyCrawling', 'Knitting', 'Knitting', 'Knitting', 'Typing', 'Typing', 'Typing', 'Typing', 'Typing', 'Typing', 'Typing', 'Typing', 'Typing', 'Typing', 'Typing', 'Typing', 'Typing', 'Typing', 'Typing', 'Typing', 'Typing', 'Typing', 'Typing', 'WalkingWithDog', 'WalkingWithDog', 'WalkingWithDog', 'WalkingWithDog', 'WalkingWithDog', 'WalkingWithDog', 'WalkingWithDog', 'WalkingWithDog', 'WalkingWithDog', 'WalkingWithDog', 'WalkingWithDog', 'WalkingWithDog', 'WalkingWithDog', 'WalkingWithDog', 'WalkingWithDog', 'Surfing', 'WalkingWithDog', 'WalkingWithDog', 'WalkingWithDog', 'WalkingWithDog', 'WalkingWithDog', 'WalkingWithDog', 'WalkingWithDog', 'WalkingWithDog', 'WalkingWithDog', 'WalkingWithDog', 'WalkingWithDog', 'WalkingWithDog', 'WalkingWithDog', 'WalkingWithDog', 'WalkingWithDog', 'WalkingWithDog', 'WalkingWithDog', 'WalkingWithDog', 'WalkingWithDog', 'WalkingWithDog', 'Knitting', 'Knitting', 'Knitting', 'Knitting', 'Knitting', 'Knitting', 'Knitting', 'Knitting', 'Knitting', 'Knitting', 'Knitting', 'Knitting', 'Knitting', 'Knitting', 'Knitting', 'Knitting', 'Knitting', 'Knitting', 'Knitting', 'Knitting', 'Knitting', 'Knitting', 'Knitting', 'Knitting', 'Knitting', 'Knitting', 'Knitting', 'Knitting', 'Knitting', 'Knitting', 'Knitting', 'Knitting', 'Knitting', 'Knitting', 'PlayingViolin', 'PlayingViolin', 'PlayingViolin', 'PlayingViolin', 'PlayingViolin', 'PlayingViolin', 'PlayingViolin', 'WalkingWithDog', 'PlayingViolin', 'PlayingViolin', 'PlayingViolin', 'PlayingViolin', 'PlayingViolin', 'PlayingViolin', 'PlayingViolin', 'PlayingViolin', 'PlayingViolin', 'PlayingViolin']\n"
     ]
    },
    {
     "name": "stderr",
     "output_type": "stream",
     "text": [
      " 96%|████████████████████████████████████████████████████████████████████████████▉   | 200/208 [04:10<00:09,  1.13s/it]"
     ]
    },
    {
     "name": "stdout",
     "output_type": "stream",
     "text": [
      "['BabyCrawling', 'BabyCrawling', 'BabyCrawling', 'BabyCrawling', 'BabyCrawling', 'BabyCrawling', 'BabyCrawling', 'BabyCrawling', 'BabyCrawling', 'BabyCrawling', 'BabyCrawling', 'BabyCrawling', 'BabyCrawling', 'BabyCrawling', 'BabyCrawling', 'BabyCrawling', 'BabyCrawling', 'BabyCrawling', 'BabyCrawling', 'BabyCrawling', 'BabyCrawling', 'BabyCrawling', 'BabyCrawling', 'BabyCrawling', 'BabyCrawling', 'BabyCrawling', 'BabyCrawling', 'BabyCrawling', 'BabyCrawling', 'BabyCrawling', 'BabyCrawling', 'BabyCrawling', 'BabyCrawling', 'BabyCrawling', 'BabyCrawling', 'Surfing', 'Surfing', 'Surfing', 'Surfing', 'Surfing', 'Surfing', 'Surfing', 'Surfing', 'Surfing', 'Surfing', 'Surfing', 'Surfing', 'Surfing', 'Surfing', 'Surfing', 'Surfing', 'Surfing', 'Surfing', 'Surfing', 'Surfing', 'Surfing', 'Surfing', 'Surfing', 'Surfing', 'Surfing', 'Surfing', 'Surfing', 'Surfing', 'Surfing', 'Surfing', 'Surfing', 'Surfing', 'Surfing', 'Typing', 'Typing', 'Typing', 'Typing', 'Typing', 'Typing', 'Typing', 'Typing', 'Typing', 'Typing', 'Typing', 'Typing', 'Typing', 'Typing', 'Typing', 'Typing', 'Typing', 'Typing', 'Typing', 'Typing', 'Typing', 'Typing', 'Typing', 'Typing', 'Typing', 'Typing', 'Typing', 'Typing', 'Typing', 'Typing', 'Typing', 'Typing', 'Typing', 'Typing', 'Typing', 'Typing', 'Typing', 'Typing', 'Typing', 'Typing', 'Typing', 'Typing', 'Typing', 'WalkingWithDog', 'WalkingWithDog', 'WalkingWithDog', 'WalkingWithDog', 'WalkingWithDog', 'WalkingWithDog', 'WalkingWithDog', 'WalkingWithDog', 'WalkingWithDog', 'WalkingWithDog', 'WalkingWithDog', 'WalkingWithDog', 'WalkingWithDog', 'WalkingWithDog', 'WalkingWithDog', 'WalkingWithDog', 'WalkingWithDog', 'WalkingWithDog', 'WalkingWithDog', 'WalkingWithDog', 'WalkingWithDog', 'WalkingWithDog', 'WalkingWithDog', 'WalkingWithDog', 'WalkingWithDog', 'WalkingWithDog', 'WalkingWithDog', 'WalkingWithDog', 'WalkingWithDog', 'WalkingWithDog', 'WalkingWithDog', 'WalkingWithDog', 'WalkingWithDog', 'WalkingWithDog', 'WalkingWithDog', 'WalkingWithDog', 'Knitting', 'Knitting', 'Knitting', 'Knitting', 'Knitting', 'Knitting', 'Knitting', 'Knitting', 'Knitting', 'Knitting', 'Knitting', 'Knitting', 'Knitting', 'Knitting', 'Knitting', 'Knitting', 'Knitting', 'Knitting', 'Knitting', 'Knitting', 'Knitting', 'Knitting', 'Knitting', 'Knitting', 'Knitting', 'Knitting', 'Knitting', 'Knitting', 'Knitting', 'Knitting', 'Knitting', 'Knitting', 'Knitting', 'Knitting', 'PlayingViolin', 'PlayingViolin', 'PlayingViolin', 'PlayingViolin', 'PlayingViolin', 'PlayingViolin', 'PlayingViolin', 'PlayingViolin', 'PlayingViolin', 'PlayingViolin', 'PlayingViolin', 'PlayingViolin', 'PlayingViolin', 'PlayingViolin', 'PlayingViolin', 'PlayingViolin', 'PlayingViolin', 'PlayingViolin', 'PlayingViolin']\n",
      "['BabyCrawling', 'BabyCrawling', 'BabyCrawling', 'BabyCrawling', 'BabyCrawling', 'BabyCrawling', 'BabyCrawling', 'BabyCrawling', 'BabyCrawling', 'BabyCrawling', 'BabyCrawling', 'BabyCrawling', 'BabyCrawling', 'BabyCrawling', 'BabyCrawling', 'BabyCrawling', 'BabyCrawling', 'BabyCrawling', 'BabyCrawling', 'BabyCrawling', 'BabyCrawling', 'BabyCrawling', 'BabyCrawling', 'BabyCrawling', 'BabyCrawling', 'BabyCrawling', 'BabyCrawling', 'BabyCrawling', 'BabyCrawling', 'BabyCrawling', 'BabyCrawling', 'BabyCrawling', 'BabyCrawling', 'BabyCrawling', 'BabyCrawling', 'Surfing', 'Surfing', 'Surfing', 'Surfing', 'Surfing', 'Surfing', 'Surfing', 'Surfing', 'Surfing', 'Surfing', 'Surfing', 'Surfing', 'Surfing', 'Surfing', 'Surfing', 'Surfing', 'Surfing', 'Surfing', 'Surfing', 'Surfing', 'Surfing', 'Surfing', 'Surfing', 'Surfing', 'Surfing', 'Surfing', 'Surfing', 'Surfing', 'Surfing', 'Surfing', 'Surfing', 'Surfing', 'Surfing', 'Typing', 'Typing', 'Typing', 'Typing', 'Typing', 'Typing', 'Typing', 'Typing', 'Typing', 'Typing', 'Typing', 'Typing', 'Typing', 'Typing', 'Typing', 'Typing', 'Typing', 'Typing', 'Typing', 'Typing', 'BabyCrawling', 'Knitting', 'Knitting', 'Knitting', 'Typing', 'Typing', 'Typing', 'Typing', 'Typing', 'Typing', 'Typing', 'Typing', 'Typing', 'Typing', 'Typing', 'Typing', 'Typing', 'Typing', 'Typing', 'Typing', 'Typing', 'Typing', 'Typing', 'WalkingWithDog', 'WalkingWithDog', 'WalkingWithDog', 'WalkingWithDog', 'WalkingWithDog', 'WalkingWithDog', 'WalkingWithDog', 'WalkingWithDog', 'WalkingWithDog', 'WalkingWithDog', 'WalkingWithDog', 'WalkingWithDog', 'WalkingWithDog', 'WalkingWithDog', 'WalkingWithDog', 'Surfing', 'WalkingWithDog', 'WalkingWithDog', 'WalkingWithDog', 'WalkingWithDog', 'WalkingWithDog', 'WalkingWithDog', 'WalkingWithDog', 'WalkingWithDog', 'WalkingWithDog', 'WalkingWithDog', 'WalkingWithDog', 'WalkingWithDog', 'WalkingWithDog', 'WalkingWithDog', 'WalkingWithDog', 'WalkingWithDog', 'WalkingWithDog', 'WalkingWithDog', 'WalkingWithDog', 'WalkingWithDog', 'Knitting', 'Knitting', 'Knitting', 'Knitting', 'Knitting', 'Knitting', 'Knitting', 'Knitting', 'Knitting', 'Knitting', 'Knitting', 'Knitting', 'Knitting', 'Knitting', 'Knitting', 'Knitting', 'Knitting', 'Knitting', 'Knitting', 'Knitting', 'Knitting', 'Knitting', 'Knitting', 'Knitting', 'Knitting', 'Knitting', 'Knitting', 'Knitting', 'Knitting', 'Knitting', 'Knitting', 'Knitting', 'Knitting', 'Knitting', 'PlayingViolin', 'PlayingViolin', 'PlayingViolin', 'PlayingViolin', 'PlayingViolin', 'PlayingViolin', 'PlayingViolin', 'WalkingWithDog', 'PlayingViolin', 'PlayingViolin', 'PlayingViolin', 'PlayingViolin', 'PlayingViolin', 'PlayingViolin', 'PlayingViolin', 'PlayingViolin', 'PlayingViolin', 'PlayingViolin', 'PlayingViolin']\n"
     ]
    },
    {
     "name": "stderr",
     "output_type": "stream",
     "text": [
      " 97%|█████████████████████████████████████████████████████████████████████████████▎  | 201/208 [04:11<00:07,  1.13s/it]"
     ]
    },
    {
     "name": "stdout",
     "output_type": "stream",
     "text": [
      "['BabyCrawling', 'BabyCrawling', 'BabyCrawling', 'BabyCrawling', 'BabyCrawling', 'BabyCrawling', 'BabyCrawling', 'BabyCrawling', 'BabyCrawling', 'BabyCrawling', 'BabyCrawling', 'BabyCrawling', 'BabyCrawling', 'BabyCrawling', 'BabyCrawling', 'BabyCrawling', 'BabyCrawling', 'BabyCrawling', 'BabyCrawling', 'BabyCrawling', 'BabyCrawling', 'BabyCrawling', 'BabyCrawling', 'BabyCrawling', 'BabyCrawling', 'BabyCrawling', 'BabyCrawling', 'BabyCrawling', 'BabyCrawling', 'BabyCrawling', 'BabyCrawling', 'BabyCrawling', 'BabyCrawling', 'BabyCrawling', 'BabyCrawling', 'Surfing', 'Surfing', 'Surfing', 'Surfing', 'Surfing', 'Surfing', 'Surfing', 'Surfing', 'Surfing', 'Surfing', 'Surfing', 'Surfing', 'Surfing', 'Surfing', 'Surfing', 'Surfing', 'Surfing', 'Surfing', 'Surfing', 'Surfing', 'Surfing', 'Surfing', 'Surfing', 'Surfing', 'Surfing', 'Surfing', 'Surfing', 'Surfing', 'Surfing', 'Surfing', 'Surfing', 'Surfing', 'Surfing', 'Typing', 'Typing', 'Typing', 'Typing', 'Typing', 'Typing', 'Typing', 'Typing', 'Typing', 'Typing', 'Typing', 'Typing', 'Typing', 'Typing', 'Typing', 'Typing', 'Typing', 'Typing', 'Typing', 'Typing', 'Typing', 'Typing', 'Typing', 'Typing', 'Typing', 'Typing', 'Typing', 'Typing', 'Typing', 'Typing', 'Typing', 'Typing', 'Typing', 'Typing', 'Typing', 'Typing', 'Typing', 'Typing', 'Typing', 'Typing', 'Typing', 'Typing', 'Typing', 'WalkingWithDog', 'WalkingWithDog', 'WalkingWithDog', 'WalkingWithDog', 'WalkingWithDog', 'WalkingWithDog', 'WalkingWithDog', 'WalkingWithDog', 'WalkingWithDog', 'WalkingWithDog', 'WalkingWithDog', 'WalkingWithDog', 'WalkingWithDog', 'WalkingWithDog', 'WalkingWithDog', 'WalkingWithDog', 'WalkingWithDog', 'WalkingWithDog', 'WalkingWithDog', 'WalkingWithDog', 'WalkingWithDog', 'WalkingWithDog', 'WalkingWithDog', 'WalkingWithDog', 'WalkingWithDog', 'WalkingWithDog', 'WalkingWithDog', 'WalkingWithDog', 'WalkingWithDog', 'WalkingWithDog', 'WalkingWithDog', 'WalkingWithDog', 'WalkingWithDog', 'WalkingWithDog', 'WalkingWithDog', 'WalkingWithDog', 'Knitting', 'Knitting', 'Knitting', 'Knitting', 'Knitting', 'Knitting', 'Knitting', 'Knitting', 'Knitting', 'Knitting', 'Knitting', 'Knitting', 'Knitting', 'Knitting', 'Knitting', 'Knitting', 'Knitting', 'Knitting', 'Knitting', 'Knitting', 'Knitting', 'Knitting', 'Knitting', 'Knitting', 'Knitting', 'Knitting', 'Knitting', 'Knitting', 'Knitting', 'Knitting', 'Knitting', 'Knitting', 'Knitting', 'Knitting', 'PlayingViolin', 'PlayingViolin', 'PlayingViolin', 'PlayingViolin', 'PlayingViolin', 'PlayingViolin', 'PlayingViolin', 'PlayingViolin', 'PlayingViolin', 'PlayingViolin', 'PlayingViolin', 'PlayingViolin', 'PlayingViolin', 'PlayingViolin', 'PlayingViolin', 'PlayingViolin', 'PlayingViolin', 'PlayingViolin', 'PlayingViolin', 'PlayingViolin']\n",
      "['BabyCrawling', 'BabyCrawling', 'BabyCrawling', 'BabyCrawling', 'BabyCrawling', 'BabyCrawling', 'BabyCrawling', 'BabyCrawling', 'BabyCrawling', 'BabyCrawling', 'BabyCrawling', 'BabyCrawling', 'BabyCrawling', 'BabyCrawling', 'BabyCrawling', 'BabyCrawling', 'BabyCrawling', 'BabyCrawling', 'BabyCrawling', 'BabyCrawling', 'BabyCrawling', 'BabyCrawling', 'BabyCrawling', 'BabyCrawling', 'BabyCrawling', 'BabyCrawling', 'BabyCrawling', 'BabyCrawling', 'BabyCrawling', 'BabyCrawling', 'BabyCrawling', 'BabyCrawling', 'BabyCrawling', 'BabyCrawling', 'BabyCrawling', 'Surfing', 'Surfing', 'Surfing', 'Surfing', 'Surfing', 'Surfing', 'Surfing', 'Surfing', 'Surfing', 'Surfing', 'Surfing', 'Surfing', 'Surfing', 'Surfing', 'Surfing', 'Surfing', 'Surfing', 'Surfing', 'Surfing', 'Surfing', 'Surfing', 'Surfing', 'Surfing', 'Surfing', 'Surfing', 'Surfing', 'Surfing', 'Surfing', 'Surfing', 'Surfing', 'Surfing', 'Surfing', 'Surfing', 'Typing', 'Typing', 'Typing', 'Typing', 'Typing', 'Typing', 'Typing', 'Typing', 'Typing', 'Typing', 'Typing', 'Typing', 'Typing', 'Typing', 'Typing', 'Typing', 'Typing', 'Typing', 'Typing', 'Typing', 'BabyCrawling', 'Knitting', 'Knitting', 'Knitting', 'Typing', 'Typing', 'Typing', 'Typing', 'Typing', 'Typing', 'Typing', 'Typing', 'Typing', 'Typing', 'Typing', 'Typing', 'Typing', 'Typing', 'Typing', 'Typing', 'Typing', 'Typing', 'Typing', 'WalkingWithDog', 'WalkingWithDog', 'WalkingWithDog', 'WalkingWithDog', 'WalkingWithDog', 'WalkingWithDog', 'WalkingWithDog', 'WalkingWithDog', 'WalkingWithDog', 'WalkingWithDog', 'WalkingWithDog', 'WalkingWithDog', 'WalkingWithDog', 'WalkingWithDog', 'WalkingWithDog', 'Surfing', 'WalkingWithDog', 'WalkingWithDog', 'WalkingWithDog', 'WalkingWithDog', 'WalkingWithDog', 'WalkingWithDog', 'WalkingWithDog', 'WalkingWithDog', 'WalkingWithDog', 'WalkingWithDog', 'WalkingWithDog', 'WalkingWithDog', 'WalkingWithDog', 'WalkingWithDog', 'WalkingWithDog', 'WalkingWithDog', 'WalkingWithDog', 'WalkingWithDog', 'WalkingWithDog', 'WalkingWithDog', 'Knitting', 'Knitting', 'Knitting', 'Knitting', 'Knitting', 'Knitting', 'Knitting', 'Knitting', 'Knitting', 'Knitting', 'Knitting', 'Knitting', 'Knitting', 'Knitting', 'Knitting', 'Knitting', 'Knitting', 'Knitting', 'Knitting', 'Knitting', 'Knitting', 'Knitting', 'Knitting', 'Knitting', 'Knitting', 'Knitting', 'Knitting', 'Knitting', 'Knitting', 'Knitting', 'Knitting', 'Knitting', 'Knitting', 'Knitting', 'PlayingViolin', 'PlayingViolin', 'PlayingViolin', 'PlayingViolin', 'PlayingViolin', 'PlayingViolin', 'PlayingViolin', 'WalkingWithDog', 'PlayingViolin', 'PlayingViolin', 'PlayingViolin', 'PlayingViolin', 'PlayingViolin', 'PlayingViolin', 'PlayingViolin', 'PlayingViolin', 'PlayingViolin', 'PlayingViolin', 'PlayingViolin', 'PlayingViolin']\n"
     ]
    },
    {
     "name": "stderr",
     "output_type": "stream",
     "text": [
      " 97%|█████████████████████████████████████████████████████████████████████████████▋  | 202/208 [04:12<00:06,  1.14s/it]"
     ]
    },
    {
     "name": "stdout",
     "output_type": "stream",
     "text": [
      "['BabyCrawling', 'BabyCrawling', 'BabyCrawling', 'BabyCrawling', 'BabyCrawling', 'BabyCrawling', 'BabyCrawling', 'BabyCrawling', 'BabyCrawling', 'BabyCrawling', 'BabyCrawling', 'BabyCrawling', 'BabyCrawling', 'BabyCrawling', 'BabyCrawling', 'BabyCrawling', 'BabyCrawling', 'BabyCrawling', 'BabyCrawling', 'BabyCrawling', 'BabyCrawling', 'BabyCrawling', 'BabyCrawling', 'BabyCrawling', 'BabyCrawling', 'BabyCrawling', 'BabyCrawling', 'BabyCrawling', 'BabyCrawling', 'BabyCrawling', 'BabyCrawling', 'BabyCrawling', 'BabyCrawling', 'BabyCrawling', 'BabyCrawling', 'Surfing', 'Surfing', 'Surfing', 'Surfing', 'Surfing', 'Surfing', 'Surfing', 'Surfing', 'Surfing', 'Surfing', 'Surfing', 'Surfing', 'Surfing', 'Surfing', 'Surfing', 'Surfing', 'Surfing', 'Surfing', 'Surfing', 'Surfing', 'Surfing', 'Surfing', 'Surfing', 'Surfing', 'Surfing', 'Surfing', 'Surfing', 'Surfing', 'Surfing', 'Surfing', 'Surfing', 'Surfing', 'Surfing', 'Typing', 'Typing', 'Typing', 'Typing', 'Typing', 'Typing', 'Typing', 'Typing', 'Typing', 'Typing', 'Typing', 'Typing', 'Typing', 'Typing', 'Typing', 'Typing', 'Typing', 'Typing', 'Typing', 'Typing', 'Typing', 'Typing', 'Typing', 'Typing', 'Typing', 'Typing', 'Typing', 'Typing', 'Typing', 'Typing', 'Typing', 'Typing', 'Typing', 'Typing', 'Typing', 'Typing', 'Typing', 'Typing', 'Typing', 'Typing', 'Typing', 'Typing', 'Typing', 'WalkingWithDog', 'WalkingWithDog', 'WalkingWithDog', 'WalkingWithDog', 'WalkingWithDog', 'WalkingWithDog', 'WalkingWithDog', 'WalkingWithDog', 'WalkingWithDog', 'WalkingWithDog', 'WalkingWithDog', 'WalkingWithDog', 'WalkingWithDog', 'WalkingWithDog', 'WalkingWithDog', 'WalkingWithDog', 'WalkingWithDog', 'WalkingWithDog', 'WalkingWithDog', 'WalkingWithDog', 'WalkingWithDog', 'WalkingWithDog', 'WalkingWithDog', 'WalkingWithDog', 'WalkingWithDog', 'WalkingWithDog', 'WalkingWithDog', 'WalkingWithDog', 'WalkingWithDog', 'WalkingWithDog', 'WalkingWithDog', 'WalkingWithDog', 'WalkingWithDog', 'WalkingWithDog', 'WalkingWithDog', 'WalkingWithDog', 'Knitting', 'Knitting', 'Knitting', 'Knitting', 'Knitting', 'Knitting', 'Knitting', 'Knitting', 'Knitting', 'Knitting', 'Knitting', 'Knitting', 'Knitting', 'Knitting', 'Knitting', 'Knitting', 'Knitting', 'Knitting', 'Knitting', 'Knitting', 'Knitting', 'Knitting', 'Knitting', 'Knitting', 'Knitting', 'Knitting', 'Knitting', 'Knitting', 'Knitting', 'Knitting', 'Knitting', 'Knitting', 'Knitting', 'Knitting', 'PlayingViolin', 'PlayingViolin', 'PlayingViolin', 'PlayingViolin', 'PlayingViolin', 'PlayingViolin', 'PlayingViolin', 'PlayingViolin', 'PlayingViolin', 'PlayingViolin', 'PlayingViolin', 'PlayingViolin', 'PlayingViolin', 'PlayingViolin', 'PlayingViolin', 'PlayingViolin', 'PlayingViolin', 'PlayingViolin', 'PlayingViolin', 'PlayingViolin', 'PlayingViolin']\n",
      "['BabyCrawling', 'BabyCrawling', 'BabyCrawling', 'BabyCrawling', 'BabyCrawling', 'BabyCrawling', 'BabyCrawling', 'BabyCrawling', 'BabyCrawling', 'BabyCrawling', 'BabyCrawling', 'BabyCrawling', 'BabyCrawling', 'BabyCrawling', 'BabyCrawling', 'BabyCrawling', 'BabyCrawling', 'BabyCrawling', 'BabyCrawling', 'BabyCrawling', 'BabyCrawling', 'BabyCrawling', 'BabyCrawling', 'BabyCrawling', 'BabyCrawling', 'BabyCrawling', 'BabyCrawling', 'BabyCrawling', 'BabyCrawling', 'BabyCrawling', 'BabyCrawling', 'BabyCrawling', 'BabyCrawling', 'BabyCrawling', 'BabyCrawling', 'Surfing', 'Surfing', 'Surfing', 'Surfing', 'Surfing', 'Surfing', 'Surfing', 'Surfing', 'Surfing', 'Surfing', 'Surfing', 'Surfing', 'Surfing', 'Surfing', 'Surfing', 'Surfing', 'Surfing', 'Surfing', 'Surfing', 'Surfing', 'Surfing', 'Surfing', 'Surfing', 'Surfing', 'Surfing', 'Surfing', 'Surfing', 'Surfing', 'Surfing', 'Surfing', 'Surfing', 'Surfing', 'Surfing', 'Typing', 'Typing', 'Typing', 'Typing', 'Typing', 'Typing', 'Typing', 'Typing', 'Typing', 'Typing', 'Typing', 'Typing', 'Typing', 'Typing', 'Typing', 'Typing', 'Typing', 'Typing', 'Typing', 'Typing', 'BabyCrawling', 'Knitting', 'Knitting', 'Knitting', 'Typing', 'Typing', 'Typing', 'Typing', 'Typing', 'Typing', 'Typing', 'Typing', 'Typing', 'Typing', 'Typing', 'Typing', 'Typing', 'Typing', 'Typing', 'Typing', 'Typing', 'Typing', 'Typing', 'WalkingWithDog', 'WalkingWithDog', 'WalkingWithDog', 'WalkingWithDog', 'WalkingWithDog', 'WalkingWithDog', 'WalkingWithDog', 'WalkingWithDog', 'WalkingWithDog', 'WalkingWithDog', 'WalkingWithDog', 'WalkingWithDog', 'WalkingWithDog', 'WalkingWithDog', 'WalkingWithDog', 'Surfing', 'WalkingWithDog', 'WalkingWithDog', 'WalkingWithDog', 'WalkingWithDog', 'WalkingWithDog', 'WalkingWithDog', 'WalkingWithDog', 'WalkingWithDog', 'WalkingWithDog', 'WalkingWithDog', 'WalkingWithDog', 'WalkingWithDog', 'WalkingWithDog', 'WalkingWithDog', 'WalkingWithDog', 'WalkingWithDog', 'WalkingWithDog', 'WalkingWithDog', 'WalkingWithDog', 'WalkingWithDog', 'Knitting', 'Knitting', 'Knitting', 'Knitting', 'Knitting', 'Knitting', 'Knitting', 'Knitting', 'Knitting', 'Knitting', 'Knitting', 'Knitting', 'Knitting', 'Knitting', 'Knitting', 'Knitting', 'Knitting', 'Knitting', 'Knitting', 'Knitting', 'Knitting', 'Knitting', 'Knitting', 'Knitting', 'Knitting', 'Knitting', 'Knitting', 'Knitting', 'Knitting', 'Knitting', 'Knitting', 'Knitting', 'Knitting', 'Knitting', 'PlayingViolin', 'PlayingViolin', 'PlayingViolin', 'PlayingViolin', 'PlayingViolin', 'PlayingViolin', 'PlayingViolin', 'WalkingWithDog', 'PlayingViolin', 'PlayingViolin', 'PlayingViolin', 'PlayingViolin', 'PlayingViolin', 'PlayingViolin', 'PlayingViolin', 'PlayingViolin', 'PlayingViolin', 'PlayingViolin', 'PlayingViolin', 'PlayingViolin', 'PlayingViolin']\n"
     ]
    },
    {
     "name": "stderr",
     "output_type": "stream",
     "text": [
      " 98%|██████████████████████████████████████████████████████████████████████████████  | 203/208 [04:14<00:05,  1.14s/it]"
     ]
    },
    {
     "name": "stdout",
     "output_type": "stream",
     "text": [
      "['BabyCrawling', 'BabyCrawling', 'BabyCrawling', 'BabyCrawling', 'BabyCrawling', 'BabyCrawling', 'BabyCrawling', 'BabyCrawling', 'BabyCrawling', 'BabyCrawling', 'BabyCrawling', 'BabyCrawling', 'BabyCrawling', 'BabyCrawling', 'BabyCrawling', 'BabyCrawling', 'BabyCrawling', 'BabyCrawling', 'BabyCrawling', 'BabyCrawling', 'BabyCrawling', 'BabyCrawling', 'BabyCrawling', 'BabyCrawling', 'BabyCrawling', 'BabyCrawling', 'BabyCrawling', 'BabyCrawling', 'BabyCrawling', 'BabyCrawling', 'BabyCrawling', 'BabyCrawling', 'BabyCrawling', 'BabyCrawling', 'BabyCrawling', 'Surfing', 'Surfing', 'Surfing', 'Surfing', 'Surfing', 'Surfing', 'Surfing', 'Surfing', 'Surfing', 'Surfing', 'Surfing', 'Surfing', 'Surfing', 'Surfing', 'Surfing', 'Surfing', 'Surfing', 'Surfing', 'Surfing', 'Surfing', 'Surfing', 'Surfing', 'Surfing', 'Surfing', 'Surfing', 'Surfing', 'Surfing', 'Surfing', 'Surfing', 'Surfing', 'Surfing', 'Surfing', 'Surfing', 'Typing', 'Typing', 'Typing', 'Typing', 'Typing', 'Typing', 'Typing', 'Typing', 'Typing', 'Typing', 'Typing', 'Typing', 'Typing', 'Typing', 'Typing', 'Typing', 'Typing', 'Typing', 'Typing', 'Typing', 'Typing', 'Typing', 'Typing', 'Typing', 'Typing', 'Typing', 'Typing', 'Typing', 'Typing', 'Typing', 'Typing', 'Typing', 'Typing', 'Typing', 'Typing', 'Typing', 'Typing', 'Typing', 'Typing', 'Typing', 'Typing', 'Typing', 'Typing', 'WalkingWithDog', 'WalkingWithDog', 'WalkingWithDog', 'WalkingWithDog', 'WalkingWithDog', 'WalkingWithDog', 'WalkingWithDog', 'WalkingWithDog', 'WalkingWithDog', 'WalkingWithDog', 'WalkingWithDog', 'WalkingWithDog', 'WalkingWithDog', 'WalkingWithDog', 'WalkingWithDog', 'WalkingWithDog', 'WalkingWithDog', 'WalkingWithDog', 'WalkingWithDog', 'WalkingWithDog', 'WalkingWithDog', 'WalkingWithDog', 'WalkingWithDog', 'WalkingWithDog', 'WalkingWithDog', 'WalkingWithDog', 'WalkingWithDog', 'WalkingWithDog', 'WalkingWithDog', 'WalkingWithDog', 'WalkingWithDog', 'WalkingWithDog', 'WalkingWithDog', 'WalkingWithDog', 'WalkingWithDog', 'WalkingWithDog', 'Knitting', 'Knitting', 'Knitting', 'Knitting', 'Knitting', 'Knitting', 'Knitting', 'Knitting', 'Knitting', 'Knitting', 'Knitting', 'Knitting', 'Knitting', 'Knitting', 'Knitting', 'Knitting', 'Knitting', 'Knitting', 'Knitting', 'Knitting', 'Knitting', 'Knitting', 'Knitting', 'Knitting', 'Knitting', 'Knitting', 'Knitting', 'Knitting', 'Knitting', 'Knitting', 'Knitting', 'Knitting', 'Knitting', 'Knitting', 'PlayingViolin', 'PlayingViolin', 'PlayingViolin', 'PlayingViolin', 'PlayingViolin', 'PlayingViolin', 'PlayingViolin', 'PlayingViolin', 'PlayingViolin', 'PlayingViolin', 'PlayingViolin', 'PlayingViolin', 'PlayingViolin', 'PlayingViolin', 'PlayingViolin', 'PlayingViolin', 'PlayingViolin', 'PlayingViolin', 'PlayingViolin', 'PlayingViolin', 'PlayingViolin', 'PlayingViolin']\n",
      "['BabyCrawling', 'BabyCrawling', 'BabyCrawling', 'BabyCrawling', 'BabyCrawling', 'BabyCrawling', 'BabyCrawling', 'BabyCrawling', 'BabyCrawling', 'BabyCrawling', 'BabyCrawling', 'BabyCrawling', 'BabyCrawling', 'BabyCrawling', 'BabyCrawling', 'BabyCrawling', 'BabyCrawling', 'BabyCrawling', 'BabyCrawling', 'BabyCrawling', 'BabyCrawling', 'BabyCrawling', 'BabyCrawling', 'BabyCrawling', 'BabyCrawling', 'BabyCrawling', 'BabyCrawling', 'BabyCrawling', 'BabyCrawling', 'BabyCrawling', 'BabyCrawling', 'BabyCrawling', 'BabyCrawling', 'BabyCrawling', 'BabyCrawling', 'Surfing', 'Surfing', 'Surfing', 'Surfing', 'Surfing', 'Surfing', 'Surfing', 'Surfing', 'Surfing', 'Surfing', 'Surfing', 'Surfing', 'Surfing', 'Surfing', 'Surfing', 'Surfing', 'Surfing', 'Surfing', 'Surfing', 'Surfing', 'Surfing', 'Surfing', 'Surfing', 'Surfing', 'Surfing', 'Surfing', 'Surfing', 'Surfing', 'Surfing', 'Surfing', 'Surfing', 'Surfing', 'Surfing', 'Typing', 'Typing', 'Typing', 'Typing', 'Typing', 'Typing', 'Typing', 'Typing', 'Typing', 'Typing', 'Typing', 'Typing', 'Typing', 'Typing', 'Typing', 'Typing', 'Typing', 'Typing', 'Typing', 'Typing', 'BabyCrawling', 'Knitting', 'Knitting', 'Knitting', 'Typing', 'Typing', 'Typing', 'Typing', 'Typing', 'Typing', 'Typing', 'Typing', 'Typing', 'Typing', 'Typing', 'Typing', 'Typing', 'Typing', 'Typing', 'Typing', 'Typing', 'Typing', 'Typing', 'WalkingWithDog', 'WalkingWithDog', 'WalkingWithDog', 'WalkingWithDog', 'WalkingWithDog', 'WalkingWithDog', 'WalkingWithDog', 'WalkingWithDog', 'WalkingWithDog', 'WalkingWithDog', 'WalkingWithDog', 'WalkingWithDog', 'WalkingWithDog', 'WalkingWithDog', 'WalkingWithDog', 'Surfing', 'WalkingWithDog', 'WalkingWithDog', 'WalkingWithDog', 'WalkingWithDog', 'WalkingWithDog', 'WalkingWithDog', 'WalkingWithDog', 'WalkingWithDog', 'WalkingWithDog', 'WalkingWithDog', 'WalkingWithDog', 'WalkingWithDog', 'WalkingWithDog', 'WalkingWithDog', 'WalkingWithDog', 'WalkingWithDog', 'WalkingWithDog', 'WalkingWithDog', 'WalkingWithDog', 'WalkingWithDog', 'Knitting', 'Knitting', 'Knitting', 'Knitting', 'Knitting', 'Knitting', 'Knitting', 'Knitting', 'Knitting', 'Knitting', 'Knitting', 'Knitting', 'Knitting', 'Knitting', 'Knitting', 'Knitting', 'Knitting', 'Knitting', 'Knitting', 'Knitting', 'Knitting', 'Knitting', 'Knitting', 'Knitting', 'Knitting', 'Knitting', 'Knitting', 'Knitting', 'Knitting', 'Knitting', 'Knitting', 'Knitting', 'Knitting', 'Knitting', 'PlayingViolin', 'PlayingViolin', 'PlayingViolin', 'PlayingViolin', 'PlayingViolin', 'PlayingViolin', 'PlayingViolin', 'WalkingWithDog', 'PlayingViolin', 'PlayingViolin', 'PlayingViolin', 'PlayingViolin', 'PlayingViolin', 'PlayingViolin', 'PlayingViolin', 'PlayingViolin', 'PlayingViolin', 'PlayingViolin', 'PlayingViolin', 'PlayingViolin', 'PlayingViolin', 'PlayingViolin']\n"
     ]
    },
    {
     "name": "stderr",
     "output_type": "stream",
     "text": [
      " 98%|██████████████████████████████████████████████████████████████████████████████▍ | 204/208 [04:15<00:04,  1.15s/it]"
     ]
    },
    {
     "name": "stdout",
     "output_type": "stream",
     "text": [
      "['BabyCrawling', 'BabyCrawling', 'BabyCrawling', 'BabyCrawling', 'BabyCrawling', 'BabyCrawling', 'BabyCrawling', 'BabyCrawling', 'BabyCrawling', 'BabyCrawling', 'BabyCrawling', 'BabyCrawling', 'BabyCrawling', 'BabyCrawling', 'BabyCrawling', 'BabyCrawling', 'BabyCrawling', 'BabyCrawling', 'BabyCrawling', 'BabyCrawling', 'BabyCrawling', 'BabyCrawling', 'BabyCrawling', 'BabyCrawling', 'BabyCrawling', 'BabyCrawling', 'BabyCrawling', 'BabyCrawling', 'BabyCrawling', 'BabyCrawling', 'BabyCrawling', 'BabyCrawling', 'BabyCrawling', 'BabyCrawling', 'BabyCrawling', 'Surfing', 'Surfing', 'Surfing', 'Surfing', 'Surfing', 'Surfing', 'Surfing', 'Surfing', 'Surfing', 'Surfing', 'Surfing', 'Surfing', 'Surfing', 'Surfing', 'Surfing', 'Surfing', 'Surfing', 'Surfing', 'Surfing', 'Surfing', 'Surfing', 'Surfing', 'Surfing', 'Surfing', 'Surfing', 'Surfing', 'Surfing', 'Surfing', 'Surfing', 'Surfing', 'Surfing', 'Surfing', 'Surfing', 'Typing', 'Typing', 'Typing', 'Typing', 'Typing', 'Typing', 'Typing', 'Typing', 'Typing', 'Typing', 'Typing', 'Typing', 'Typing', 'Typing', 'Typing', 'Typing', 'Typing', 'Typing', 'Typing', 'Typing', 'Typing', 'Typing', 'Typing', 'Typing', 'Typing', 'Typing', 'Typing', 'Typing', 'Typing', 'Typing', 'Typing', 'Typing', 'Typing', 'Typing', 'Typing', 'Typing', 'Typing', 'Typing', 'Typing', 'Typing', 'Typing', 'Typing', 'Typing', 'WalkingWithDog', 'WalkingWithDog', 'WalkingWithDog', 'WalkingWithDog', 'WalkingWithDog', 'WalkingWithDog', 'WalkingWithDog', 'WalkingWithDog', 'WalkingWithDog', 'WalkingWithDog', 'WalkingWithDog', 'WalkingWithDog', 'WalkingWithDog', 'WalkingWithDog', 'WalkingWithDog', 'WalkingWithDog', 'WalkingWithDog', 'WalkingWithDog', 'WalkingWithDog', 'WalkingWithDog', 'WalkingWithDog', 'WalkingWithDog', 'WalkingWithDog', 'WalkingWithDog', 'WalkingWithDog', 'WalkingWithDog', 'WalkingWithDog', 'WalkingWithDog', 'WalkingWithDog', 'WalkingWithDog', 'WalkingWithDog', 'WalkingWithDog', 'WalkingWithDog', 'WalkingWithDog', 'WalkingWithDog', 'WalkingWithDog', 'Knitting', 'Knitting', 'Knitting', 'Knitting', 'Knitting', 'Knitting', 'Knitting', 'Knitting', 'Knitting', 'Knitting', 'Knitting', 'Knitting', 'Knitting', 'Knitting', 'Knitting', 'Knitting', 'Knitting', 'Knitting', 'Knitting', 'Knitting', 'Knitting', 'Knitting', 'Knitting', 'Knitting', 'Knitting', 'Knitting', 'Knitting', 'Knitting', 'Knitting', 'Knitting', 'Knitting', 'Knitting', 'Knitting', 'Knitting', 'PlayingViolin', 'PlayingViolin', 'PlayingViolin', 'PlayingViolin', 'PlayingViolin', 'PlayingViolin', 'PlayingViolin', 'PlayingViolin', 'PlayingViolin', 'PlayingViolin', 'PlayingViolin', 'PlayingViolin', 'PlayingViolin', 'PlayingViolin', 'PlayingViolin', 'PlayingViolin', 'PlayingViolin', 'PlayingViolin', 'PlayingViolin', 'PlayingViolin', 'PlayingViolin', 'PlayingViolin', 'PlayingViolin']\n",
      "['BabyCrawling', 'BabyCrawling', 'BabyCrawling', 'BabyCrawling', 'BabyCrawling', 'BabyCrawling', 'BabyCrawling', 'BabyCrawling', 'BabyCrawling', 'BabyCrawling', 'BabyCrawling', 'BabyCrawling', 'BabyCrawling', 'BabyCrawling', 'BabyCrawling', 'BabyCrawling', 'BabyCrawling', 'BabyCrawling', 'BabyCrawling', 'BabyCrawling', 'BabyCrawling', 'BabyCrawling', 'BabyCrawling', 'BabyCrawling', 'BabyCrawling', 'BabyCrawling', 'BabyCrawling', 'BabyCrawling', 'BabyCrawling', 'BabyCrawling', 'BabyCrawling', 'BabyCrawling', 'BabyCrawling', 'BabyCrawling', 'BabyCrawling', 'Surfing', 'Surfing', 'Surfing', 'Surfing', 'Surfing', 'Surfing', 'Surfing', 'Surfing', 'Surfing', 'Surfing', 'Surfing', 'Surfing', 'Surfing', 'Surfing', 'Surfing', 'Surfing', 'Surfing', 'Surfing', 'Surfing', 'Surfing', 'Surfing', 'Surfing', 'Surfing', 'Surfing', 'Surfing', 'Surfing', 'Surfing', 'Surfing', 'Surfing', 'Surfing', 'Surfing', 'Surfing', 'Surfing', 'Typing', 'Typing', 'Typing', 'Typing', 'Typing', 'Typing', 'Typing', 'Typing', 'Typing', 'Typing', 'Typing', 'Typing', 'Typing', 'Typing', 'Typing', 'Typing', 'Typing', 'Typing', 'Typing', 'Typing', 'BabyCrawling', 'Knitting', 'Knitting', 'Knitting', 'Typing', 'Typing', 'Typing', 'Typing', 'Typing', 'Typing', 'Typing', 'Typing', 'Typing', 'Typing', 'Typing', 'Typing', 'Typing', 'Typing', 'Typing', 'Typing', 'Typing', 'Typing', 'Typing', 'WalkingWithDog', 'WalkingWithDog', 'WalkingWithDog', 'WalkingWithDog', 'WalkingWithDog', 'WalkingWithDog', 'WalkingWithDog', 'WalkingWithDog', 'WalkingWithDog', 'WalkingWithDog', 'WalkingWithDog', 'WalkingWithDog', 'WalkingWithDog', 'WalkingWithDog', 'WalkingWithDog', 'Surfing', 'WalkingWithDog', 'WalkingWithDog', 'WalkingWithDog', 'WalkingWithDog', 'WalkingWithDog', 'WalkingWithDog', 'WalkingWithDog', 'WalkingWithDog', 'WalkingWithDog', 'WalkingWithDog', 'WalkingWithDog', 'WalkingWithDog', 'WalkingWithDog', 'WalkingWithDog', 'WalkingWithDog', 'WalkingWithDog', 'WalkingWithDog', 'WalkingWithDog', 'WalkingWithDog', 'WalkingWithDog', 'Knitting', 'Knitting', 'Knitting', 'Knitting', 'Knitting', 'Knitting', 'Knitting', 'Knitting', 'Knitting', 'Knitting', 'Knitting', 'Knitting', 'Knitting', 'Knitting', 'Knitting', 'Knitting', 'Knitting', 'Knitting', 'Knitting', 'Knitting', 'Knitting', 'Knitting', 'Knitting', 'Knitting', 'Knitting', 'Knitting', 'Knitting', 'Knitting', 'Knitting', 'Knitting', 'Knitting', 'Knitting', 'Knitting', 'Knitting', 'PlayingViolin', 'PlayingViolin', 'PlayingViolin', 'PlayingViolin', 'PlayingViolin', 'PlayingViolin', 'PlayingViolin', 'WalkingWithDog', 'PlayingViolin', 'PlayingViolin', 'PlayingViolin', 'PlayingViolin', 'PlayingViolin', 'PlayingViolin', 'PlayingViolin', 'PlayingViolin', 'PlayingViolin', 'PlayingViolin', 'PlayingViolin', 'PlayingViolin', 'PlayingViolin', 'PlayingViolin', 'PlayingViolin']\n"
     ]
    },
    {
     "name": "stderr",
     "output_type": "stream",
     "text": [
      " 99%|██████████████████████████████████████████████████████████████████████████████▊ | 205/208 [04:16<00:03,  1.15s/it]"
     ]
    },
    {
     "name": "stdout",
     "output_type": "stream",
     "text": [
      "['BabyCrawling', 'BabyCrawling', 'BabyCrawling', 'BabyCrawling', 'BabyCrawling', 'BabyCrawling', 'BabyCrawling', 'BabyCrawling', 'BabyCrawling', 'BabyCrawling', 'BabyCrawling', 'BabyCrawling', 'BabyCrawling', 'BabyCrawling', 'BabyCrawling', 'BabyCrawling', 'BabyCrawling', 'BabyCrawling', 'BabyCrawling', 'BabyCrawling', 'BabyCrawling', 'BabyCrawling', 'BabyCrawling', 'BabyCrawling', 'BabyCrawling', 'BabyCrawling', 'BabyCrawling', 'BabyCrawling', 'BabyCrawling', 'BabyCrawling', 'BabyCrawling', 'BabyCrawling', 'BabyCrawling', 'BabyCrawling', 'BabyCrawling', 'Surfing', 'Surfing', 'Surfing', 'Surfing', 'Surfing', 'Surfing', 'Surfing', 'Surfing', 'Surfing', 'Surfing', 'Surfing', 'Surfing', 'Surfing', 'Surfing', 'Surfing', 'Surfing', 'Surfing', 'Surfing', 'Surfing', 'Surfing', 'Surfing', 'Surfing', 'Surfing', 'Surfing', 'Surfing', 'Surfing', 'Surfing', 'Surfing', 'Surfing', 'Surfing', 'Surfing', 'Surfing', 'Surfing', 'Typing', 'Typing', 'Typing', 'Typing', 'Typing', 'Typing', 'Typing', 'Typing', 'Typing', 'Typing', 'Typing', 'Typing', 'Typing', 'Typing', 'Typing', 'Typing', 'Typing', 'Typing', 'Typing', 'Typing', 'Typing', 'Typing', 'Typing', 'Typing', 'Typing', 'Typing', 'Typing', 'Typing', 'Typing', 'Typing', 'Typing', 'Typing', 'Typing', 'Typing', 'Typing', 'Typing', 'Typing', 'Typing', 'Typing', 'Typing', 'Typing', 'Typing', 'Typing', 'WalkingWithDog', 'WalkingWithDog', 'WalkingWithDog', 'WalkingWithDog', 'WalkingWithDog', 'WalkingWithDog', 'WalkingWithDog', 'WalkingWithDog', 'WalkingWithDog', 'WalkingWithDog', 'WalkingWithDog', 'WalkingWithDog', 'WalkingWithDog', 'WalkingWithDog', 'WalkingWithDog', 'WalkingWithDog', 'WalkingWithDog', 'WalkingWithDog', 'WalkingWithDog', 'WalkingWithDog', 'WalkingWithDog', 'WalkingWithDog', 'WalkingWithDog', 'WalkingWithDog', 'WalkingWithDog', 'WalkingWithDog', 'WalkingWithDog', 'WalkingWithDog', 'WalkingWithDog', 'WalkingWithDog', 'WalkingWithDog', 'WalkingWithDog', 'WalkingWithDog', 'WalkingWithDog', 'WalkingWithDog', 'WalkingWithDog', 'Knitting', 'Knitting', 'Knitting', 'Knitting', 'Knitting', 'Knitting', 'Knitting', 'Knitting', 'Knitting', 'Knitting', 'Knitting', 'Knitting', 'Knitting', 'Knitting', 'Knitting', 'Knitting', 'Knitting', 'Knitting', 'Knitting', 'Knitting', 'Knitting', 'Knitting', 'Knitting', 'Knitting', 'Knitting', 'Knitting', 'Knitting', 'Knitting', 'Knitting', 'Knitting', 'Knitting', 'Knitting', 'Knitting', 'Knitting', 'PlayingViolin', 'PlayingViolin', 'PlayingViolin', 'PlayingViolin', 'PlayingViolin', 'PlayingViolin', 'PlayingViolin', 'PlayingViolin', 'PlayingViolin', 'PlayingViolin', 'PlayingViolin', 'PlayingViolin', 'PlayingViolin', 'PlayingViolin', 'PlayingViolin', 'PlayingViolin', 'PlayingViolin', 'PlayingViolin', 'PlayingViolin', 'PlayingViolin', 'PlayingViolin', 'PlayingViolin', 'PlayingViolin', 'PlayingViolin']\n",
      "['BabyCrawling', 'BabyCrawling', 'BabyCrawling', 'BabyCrawling', 'BabyCrawling', 'BabyCrawling', 'BabyCrawling', 'BabyCrawling', 'BabyCrawling', 'BabyCrawling', 'BabyCrawling', 'BabyCrawling', 'BabyCrawling', 'BabyCrawling', 'BabyCrawling', 'BabyCrawling', 'BabyCrawling', 'BabyCrawling', 'BabyCrawling', 'BabyCrawling', 'BabyCrawling', 'BabyCrawling', 'BabyCrawling', 'BabyCrawling', 'BabyCrawling', 'BabyCrawling', 'BabyCrawling', 'BabyCrawling', 'BabyCrawling', 'BabyCrawling', 'BabyCrawling', 'BabyCrawling', 'BabyCrawling', 'BabyCrawling', 'BabyCrawling', 'Surfing', 'Surfing', 'Surfing', 'Surfing', 'Surfing', 'Surfing', 'Surfing', 'Surfing', 'Surfing', 'Surfing', 'Surfing', 'Surfing', 'Surfing', 'Surfing', 'Surfing', 'Surfing', 'Surfing', 'Surfing', 'Surfing', 'Surfing', 'Surfing', 'Surfing', 'Surfing', 'Surfing', 'Surfing', 'Surfing', 'Surfing', 'Surfing', 'Surfing', 'Surfing', 'Surfing', 'Surfing', 'Surfing', 'Typing', 'Typing', 'Typing', 'Typing', 'Typing', 'Typing', 'Typing', 'Typing', 'Typing', 'Typing', 'Typing', 'Typing', 'Typing', 'Typing', 'Typing', 'Typing', 'Typing', 'Typing', 'Typing', 'Typing', 'BabyCrawling', 'Knitting', 'Knitting', 'Knitting', 'Typing', 'Typing', 'Typing', 'Typing', 'Typing', 'Typing', 'Typing', 'Typing', 'Typing', 'Typing', 'Typing', 'Typing', 'Typing', 'Typing', 'Typing', 'Typing', 'Typing', 'Typing', 'Typing', 'WalkingWithDog', 'WalkingWithDog', 'WalkingWithDog', 'WalkingWithDog', 'WalkingWithDog', 'WalkingWithDog', 'WalkingWithDog', 'WalkingWithDog', 'WalkingWithDog', 'WalkingWithDog', 'WalkingWithDog', 'WalkingWithDog', 'WalkingWithDog', 'WalkingWithDog', 'WalkingWithDog', 'Surfing', 'WalkingWithDog', 'WalkingWithDog', 'WalkingWithDog', 'WalkingWithDog', 'WalkingWithDog', 'WalkingWithDog', 'WalkingWithDog', 'WalkingWithDog', 'WalkingWithDog', 'WalkingWithDog', 'WalkingWithDog', 'WalkingWithDog', 'WalkingWithDog', 'WalkingWithDog', 'WalkingWithDog', 'WalkingWithDog', 'WalkingWithDog', 'WalkingWithDog', 'WalkingWithDog', 'WalkingWithDog', 'Knitting', 'Knitting', 'Knitting', 'Knitting', 'Knitting', 'Knitting', 'Knitting', 'Knitting', 'Knitting', 'Knitting', 'Knitting', 'Knitting', 'Knitting', 'Knitting', 'Knitting', 'Knitting', 'Knitting', 'Knitting', 'Knitting', 'Knitting', 'Knitting', 'Knitting', 'Knitting', 'Knitting', 'Knitting', 'Knitting', 'Knitting', 'Knitting', 'Knitting', 'Knitting', 'Knitting', 'Knitting', 'Knitting', 'Knitting', 'PlayingViolin', 'PlayingViolin', 'PlayingViolin', 'PlayingViolin', 'PlayingViolin', 'PlayingViolin', 'PlayingViolin', 'WalkingWithDog', 'PlayingViolin', 'PlayingViolin', 'PlayingViolin', 'PlayingViolin', 'PlayingViolin', 'PlayingViolin', 'PlayingViolin', 'PlayingViolin', 'PlayingViolin', 'PlayingViolin', 'PlayingViolin', 'PlayingViolin', 'PlayingViolin', 'PlayingViolin', 'PlayingViolin', 'PlayingViolin']\n"
     ]
    },
    {
     "name": "stderr",
     "output_type": "stream",
     "text": [
      " 99%|███████████████████████████████████████████████████████████████████████████████▏| 206/208 [04:17<00:02,  1.15s/it]"
     ]
    },
    {
     "name": "stdout",
     "output_type": "stream",
     "text": [
      "['BabyCrawling', 'BabyCrawling', 'BabyCrawling', 'BabyCrawling', 'BabyCrawling', 'BabyCrawling', 'BabyCrawling', 'BabyCrawling', 'BabyCrawling', 'BabyCrawling', 'BabyCrawling', 'BabyCrawling', 'BabyCrawling', 'BabyCrawling', 'BabyCrawling', 'BabyCrawling', 'BabyCrawling', 'BabyCrawling', 'BabyCrawling', 'BabyCrawling', 'BabyCrawling', 'BabyCrawling', 'BabyCrawling', 'BabyCrawling', 'BabyCrawling', 'BabyCrawling', 'BabyCrawling', 'BabyCrawling', 'BabyCrawling', 'BabyCrawling', 'BabyCrawling', 'BabyCrawling', 'BabyCrawling', 'BabyCrawling', 'BabyCrawling', 'Surfing', 'Surfing', 'Surfing', 'Surfing', 'Surfing', 'Surfing', 'Surfing', 'Surfing', 'Surfing', 'Surfing', 'Surfing', 'Surfing', 'Surfing', 'Surfing', 'Surfing', 'Surfing', 'Surfing', 'Surfing', 'Surfing', 'Surfing', 'Surfing', 'Surfing', 'Surfing', 'Surfing', 'Surfing', 'Surfing', 'Surfing', 'Surfing', 'Surfing', 'Surfing', 'Surfing', 'Surfing', 'Surfing', 'Typing', 'Typing', 'Typing', 'Typing', 'Typing', 'Typing', 'Typing', 'Typing', 'Typing', 'Typing', 'Typing', 'Typing', 'Typing', 'Typing', 'Typing', 'Typing', 'Typing', 'Typing', 'Typing', 'Typing', 'Typing', 'Typing', 'Typing', 'Typing', 'Typing', 'Typing', 'Typing', 'Typing', 'Typing', 'Typing', 'Typing', 'Typing', 'Typing', 'Typing', 'Typing', 'Typing', 'Typing', 'Typing', 'Typing', 'Typing', 'Typing', 'Typing', 'Typing', 'WalkingWithDog', 'WalkingWithDog', 'WalkingWithDog', 'WalkingWithDog', 'WalkingWithDog', 'WalkingWithDog', 'WalkingWithDog', 'WalkingWithDog', 'WalkingWithDog', 'WalkingWithDog', 'WalkingWithDog', 'WalkingWithDog', 'WalkingWithDog', 'WalkingWithDog', 'WalkingWithDog', 'WalkingWithDog', 'WalkingWithDog', 'WalkingWithDog', 'WalkingWithDog', 'WalkingWithDog', 'WalkingWithDog', 'WalkingWithDog', 'WalkingWithDog', 'WalkingWithDog', 'WalkingWithDog', 'WalkingWithDog', 'WalkingWithDog', 'WalkingWithDog', 'WalkingWithDog', 'WalkingWithDog', 'WalkingWithDog', 'WalkingWithDog', 'WalkingWithDog', 'WalkingWithDog', 'WalkingWithDog', 'WalkingWithDog', 'Knitting', 'Knitting', 'Knitting', 'Knitting', 'Knitting', 'Knitting', 'Knitting', 'Knitting', 'Knitting', 'Knitting', 'Knitting', 'Knitting', 'Knitting', 'Knitting', 'Knitting', 'Knitting', 'Knitting', 'Knitting', 'Knitting', 'Knitting', 'Knitting', 'Knitting', 'Knitting', 'Knitting', 'Knitting', 'Knitting', 'Knitting', 'Knitting', 'Knitting', 'Knitting', 'Knitting', 'Knitting', 'Knitting', 'Knitting', 'PlayingViolin', 'PlayingViolin', 'PlayingViolin', 'PlayingViolin', 'PlayingViolin', 'PlayingViolin', 'PlayingViolin', 'PlayingViolin', 'PlayingViolin', 'PlayingViolin', 'PlayingViolin', 'PlayingViolin', 'PlayingViolin', 'PlayingViolin', 'PlayingViolin', 'PlayingViolin', 'PlayingViolin', 'PlayingViolin', 'PlayingViolin', 'PlayingViolin', 'PlayingViolin', 'PlayingViolin', 'PlayingViolin', 'PlayingViolin', 'PlayingViolin']\n",
      "['BabyCrawling', 'BabyCrawling', 'BabyCrawling', 'BabyCrawling', 'BabyCrawling', 'BabyCrawling', 'BabyCrawling', 'BabyCrawling', 'BabyCrawling', 'BabyCrawling', 'BabyCrawling', 'BabyCrawling', 'BabyCrawling', 'BabyCrawling', 'BabyCrawling', 'BabyCrawling', 'BabyCrawling', 'BabyCrawling', 'BabyCrawling', 'BabyCrawling', 'BabyCrawling', 'BabyCrawling', 'BabyCrawling', 'BabyCrawling', 'BabyCrawling', 'BabyCrawling', 'BabyCrawling', 'BabyCrawling', 'BabyCrawling', 'BabyCrawling', 'BabyCrawling', 'BabyCrawling', 'BabyCrawling', 'BabyCrawling', 'BabyCrawling', 'Surfing', 'Surfing', 'Surfing', 'Surfing', 'Surfing', 'Surfing', 'Surfing', 'Surfing', 'Surfing', 'Surfing', 'Surfing', 'Surfing', 'Surfing', 'Surfing', 'Surfing', 'Surfing', 'Surfing', 'Surfing', 'Surfing', 'Surfing', 'Surfing', 'Surfing', 'Surfing', 'Surfing', 'Surfing', 'Surfing', 'Surfing', 'Surfing', 'Surfing', 'Surfing', 'Surfing', 'Surfing', 'Surfing', 'Typing', 'Typing', 'Typing', 'Typing', 'Typing', 'Typing', 'Typing', 'Typing', 'Typing', 'Typing', 'Typing', 'Typing', 'Typing', 'Typing', 'Typing', 'Typing', 'Typing', 'Typing', 'Typing', 'Typing', 'BabyCrawling', 'Knitting', 'Knitting', 'Knitting', 'Typing', 'Typing', 'Typing', 'Typing', 'Typing', 'Typing', 'Typing', 'Typing', 'Typing', 'Typing', 'Typing', 'Typing', 'Typing', 'Typing', 'Typing', 'Typing', 'Typing', 'Typing', 'Typing', 'WalkingWithDog', 'WalkingWithDog', 'WalkingWithDog', 'WalkingWithDog', 'WalkingWithDog', 'WalkingWithDog', 'WalkingWithDog', 'WalkingWithDog', 'WalkingWithDog', 'WalkingWithDog', 'WalkingWithDog', 'WalkingWithDog', 'WalkingWithDog', 'WalkingWithDog', 'WalkingWithDog', 'Surfing', 'WalkingWithDog', 'WalkingWithDog', 'WalkingWithDog', 'WalkingWithDog', 'WalkingWithDog', 'WalkingWithDog', 'WalkingWithDog', 'WalkingWithDog', 'WalkingWithDog', 'WalkingWithDog', 'WalkingWithDog', 'WalkingWithDog', 'WalkingWithDog', 'WalkingWithDog', 'WalkingWithDog', 'WalkingWithDog', 'WalkingWithDog', 'WalkingWithDog', 'WalkingWithDog', 'WalkingWithDog', 'Knitting', 'Knitting', 'Knitting', 'Knitting', 'Knitting', 'Knitting', 'Knitting', 'Knitting', 'Knitting', 'Knitting', 'Knitting', 'Knitting', 'Knitting', 'Knitting', 'Knitting', 'Knitting', 'Knitting', 'Knitting', 'Knitting', 'Knitting', 'Knitting', 'Knitting', 'Knitting', 'Knitting', 'Knitting', 'Knitting', 'Knitting', 'Knitting', 'Knitting', 'Knitting', 'Knitting', 'Knitting', 'Knitting', 'Knitting', 'PlayingViolin', 'PlayingViolin', 'PlayingViolin', 'PlayingViolin', 'PlayingViolin', 'PlayingViolin', 'PlayingViolin', 'WalkingWithDog', 'PlayingViolin', 'PlayingViolin', 'PlayingViolin', 'PlayingViolin', 'PlayingViolin', 'PlayingViolin', 'PlayingViolin', 'PlayingViolin', 'PlayingViolin', 'PlayingViolin', 'PlayingViolin', 'PlayingViolin', 'PlayingViolin', 'PlayingViolin', 'PlayingViolin', 'PlayingViolin', 'PlayingViolin']\n"
     ]
    },
    {
     "name": "stderr",
     "output_type": "stream",
     "text": [
      "100%|███████████████████████████████████████████████████████████████████████████████▌| 207/208 [04:18<00:01,  1.12s/it]"
     ]
    },
    {
     "name": "stdout",
     "output_type": "stream",
     "text": [
      "['BabyCrawling', 'BabyCrawling', 'BabyCrawling', 'BabyCrawling', 'BabyCrawling', 'BabyCrawling', 'BabyCrawling', 'BabyCrawling', 'BabyCrawling', 'BabyCrawling', 'BabyCrawling', 'BabyCrawling', 'BabyCrawling', 'BabyCrawling', 'BabyCrawling', 'BabyCrawling', 'BabyCrawling', 'BabyCrawling', 'BabyCrawling', 'BabyCrawling', 'BabyCrawling', 'BabyCrawling', 'BabyCrawling', 'BabyCrawling', 'BabyCrawling', 'BabyCrawling', 'BabyCrawling', 'BabyCrawling', 'BabyCrawling', 'BabyCrawling', 'BabyCrawling', 'BabyCrawling', 'BabyCrawling', 'BabyCrawling', 'BabyCrawling', 'Surfing', 'Surfing', 'Surfing', 'Surfing', 'Surfing', 'Surfing', 'Surfing', 'Surfing', 'Surfing', 'Surfing', 'Surfing', 'Surfing', 'Surfing', 'Surfing', 'Surfing', 'Surfing', 'Surfing', 'Surfing', 'Surfing', 'Surfing', 'Surfing', 'Surfing', 'Surfing', 'Surfing', 'Surfing', 'Surfing', 'Surfing', 'Surfing', 'Surfing', 'Surfing', 'Surfing', 'Surfing', 'Surfing', 'Typing', 'Typing', 'Typing', 'Typing', 'Typing', 'Typing', 'Typing', 'Typing', 'Typing', 'Typing', 'Typing', 'Typing', 'Typing', 'Typing', 'Typing', 'Typing', 'Typing', 'Typing', 'Typing', 'Typing', 'Typing', 'Typing', 'Typing', 'Typing', 'Typing', 'Typing', 'Typing', 'Typing', 'Typing', 'Typing', 'Typing', 'Typing', 'Typing', 'Typing', 'Typing', 'Typing', 'Typing', 'Typing', 'Typing', 'Typing', 'Typing', 'Typing', 'Typing', 'WalkingWithDog', 'WalkingWithDog', 'WalkingWithDog', 'WalkingWithDog', 'WalkingWithDog', 'WalkingWithDog', 'WalkingWithDog', 'WalkingWithDog', 'WalkingWithDog', 'WalkingWithDog', 'WalkingWithDog', 'WalkingWithDog', 'WalkingWithDog', 'WalkingWithDog', 'WalkingWithDog', 'WalkingWithDog', 'WalkingWithDog', 'WalkingWithDog', 'WalkingWithDog', 'WalkingWithDog', 'WalkingWithDog', 'WalkingWithDog', 'WalkingWithDog', 'WalkingWithDog', 'WalkingWithDog', 'WalkingWithDog', 'WalkingWithDog', 'WalkingWithDog', 'WalkingWithDog', 'WalkingWithDog', 'WalkingWithDog', 'WalkingWithDog', 'WalkingWithDog', 'WalkingWithDog', 'WalkingWithDog', 'WalkingWithDog', 'Knitting', 'Knitting', 'Knitting', 'Knitting', 'Knitting', 'Knitting', 'Knitting', 'Knitting', 'Knitting', 'Knitting', 'Knitting', 'Knitting', 'Knitting', 'Knitting', 'Knitting', 'Knitting', 'Knitting', 'Knitting', 'Knitting', 'Knitting', 'Knitting', 'Knitting', 'Knitting', 'Knitting', 'Knitting', 'Knitting', 'Knitting', 'Knitting', 'Knitting', 'Knitting', 'Knitting', 'Knitting', 'Knitting', 'Knitting', 'PlayingViolin', 'PlayingViolin', 'PlayingViolin', 'PlayingViolin', 'PlayingViolin', 'PlayingViolin', 'PlayingViolin', 'PlayingViolin', 'PlayingViolin', 'PlayingViolin', 'PlayingViolin', 'PlayingViolin', 'PlayingViolin', 'PlayingViolin', 'PlayingViolin', 'PlayingViolin', 'PlayingViolin', 'PlayingViolin', 'PlayingViolin', 'PlayingViolin', 'PlayingViolin', 'PlayingViolin', 'PlayingViolin', 'PlayingViolin', 'PlayingViolin', 'PlayingViolin']\n",
      "['BabyCrawling', 'BabyCrawling', 'BabyCrawling', 'BabyCrawling', 'BabyCrawling', 'BabyCrawling', 'BabyCrawling', 'BabyCrawling', 'BabyCrawling', 'BabyCrawling', 'BabyCrawling', 'BabyCrawling', 'BabyCrawling', 'BabyCrawling', 'BabyCrawling', 'BabyCrawling', 'BabyCrawling', 'BabyCrawling', 'BabyCrawling', 'BabyCrawling', 'BabyCrawling', 'BabyCrawling', 'BabyCrawling', 'BabyCrawling', 'BabyCrawling', 'BabyCrawling', 'BabyCrawling', 'BabyCrawling', 'BabyCrawling', 'BabyCrawling', 'BabyCrawling', 'BabyCrawling', 'BabyCrawling', 'BabyCrawling', 'BabyCrawling', 'Surfing', 'Surfing', 'Surfing', 'Surfing', 'Surfing', 'Surfing', 'Surfing', 'Surfing', 'Surfing', 'Surfing', 'Surfing', 'Surfing', 'Surfing', 'Surfing', 'Surfing', 'Surfing', 'Surfing', 'Surfing', 'Surfing', 'Surfing', 'Surfing', 'Surfing', 'Surfing', 'Surfing', 'Surfing', 'Surfing', 'Surfing', 'Surfing', 'Surfing', 'Surfing', 'Surfing', 'Surfing', 'Surfing', 'Typing', 'Typing', 'Typing', 'Typing', 'Typing', 'Typing', 'Typing', 'Typing', 'Typing', 'Typing', 'Typing', 'Typing', 'Typing', 'Typing', 'Typing', 'Typing', 'Typing', 'Typing', 'Typing', 'Typing', 'BabyCrawling', 'Knitting', 'Knitting', 'Knitting', 'Typing', 'Typing', 'Typing', 'Typing', 'Typing', 'Typing', 'Typing', 'Typing', 'Typing', 'Typing', 'Typing', 'Typing', 'Typing', 'Typing', 'Typing', 'Typing', 'Typing', 'Typing', 'Typing', 'WalkingWithDog', 'WalkingWithDog', 'WalkingWithDog', 'WalkingWithDog', 'WalkingWithDog', 'WalkingWithDog', 'WalkingWithDog', 'WalkingWithDog', 'WalkingWithDog', 'WalkingWithDog', 'WalkingWithDog', 'WalkingWithDog', 'WalkingWithDog', 'WalkingWithDog', 'WalkingWithDog', 'Surfing', 'WalkingWithDog', 'WalkingWithDog', 'WalkingWithDog', 'WalkingWithDog', 'WalkingWithDog', 'WalkingWithDog', 'WalkingWithDog', 'WalkingWithDog', 'WalkingWithDog', 'WalkingWithDog', 'WalkingWithDog', 'WalkingWithDog', 'WalkingWithDog', 'WalkingWithDog', 'WalkingWithDog', 'WalkingWithDog', 'WalkingWithDog', 'WalkingWithDog', 'WalkingWithDog', 'WalkingWithDog', 'Knitting', 'Knitting', 'Knitting', 'Knitting', 'Knitting', 'Knitting', 'Knitting', 'Knitting', 'Knitting', 'Knitting', 'Knitting', 'Knitting', 'Knitting', 'Knitting', 'Knitting', 'Knitting', 'Knitting', 'Knitting', 'Knitting', 'Knitting', 'Knitting', 'Knitting', 'Knitting', 'Knitting', 'Knitting', 'Knitting', 'Knitting', 'Knitting', 'Knitting', 'Knitting', 'Knitting', 'Knitting', 'Knitting', 'Knitting', 'PlayingViolin', 'PlayingViolin', 'PlayingViolin', 'PlayingViolin', 'PlayingViolin', 'PlayingViolin', 'PlayingViolin', 'WalkingWithDog', 'PlayingViolin', 'PlayingViolin', 'PlayingViolin', 'PlayingViolin', 'PlayingViolin', 'PlayingViolin', 'PlayingViolin', 'PlayingViolin', 'PlayingViolin', 'PlayingViolin', 'PlayingViolin', 'PlayingViolin', 'PlayingViolin', 'PlayingViolin', 'PlayingViolin', 'PlayingViolin', 'PlayingViolin', 'PlayingViolin']\n"
     ]
    },
    {
     "name": "stderr",
     "output_type": "stream",
     "text": [
      "100%|████████████████████████████████████████████████████████████████████████████████| 208/208 [04:19<00:00,  1.25s/it]"
     ]
    },
    {
     "name": "stdout",
     "output_type": "stream",
     "text": [
      "['BabyCrawling', 'BabyCrawling', 'BabyCrawling', 'BabyCrawling', 'BabyCrawling', 'BabyCrawling', 'BabyCrawling', 'BabyCrawling', 'BabyCrawling', 'BabyCrawling', 'BabyCrawling', 'BabyCrawling', 'BabyCrawling', 'BabyCrawling', 'BabyCrawling', 'BabyCrawling', 'BabyCrawling', 'BabyCrawling', 'BabyCrawling', 'BabyCrawling', 'BabyCrawling', 'BabyCrawling', 'BabyCrawling', 'BabyCrawling', 'BabyCrawling', 'BabyCrawling', 'BabyCrawling', 'BabyCrawling', 'BabyCrawling', 'BabyCrawling', 'BabyCrawling', 'BabyCrawling', 'BabyCrawling', 'BabyCrawling', 'BabyCrawling', 'Surfing', 'Surfing', 'Surfing', 'Surfing', 'Surfing', 'Surfing', 'Surfing', 'Surfing', 'Surfing', 'Surfing', 'Surfing', 'Surfing', 'Surfing', 'Surfing', 'Surfing', 'Surfing', 'Surfing', 'Surfing', 'Surfing', 'Surfing', 'Surfing', 'Surfing', 'Surfing', 'Surfing', 'Surfing', 'Surfing', 'Surfing', 'Surfing', 'Surfing', 'Surfing', 'Surfing', 'Surfing', 'Surfing', 'Typing', 'Typing', 'Typing', 'Typing', 'Typing', 'Typing', 'Typing', 'Typing', 'Typing', 'Typing', 'Typing', 'Typing', 'Typing', 'Typing', 'Typing', 'Typing', 'Typing', 'Typing', 'Typing', 'Typing', 'Typing', 'Typing', 'Typing', 'Typing', 'Typing', 'Typing', 'Typing', 'Typing', 'Typing', 'Typing', 'Typing', 'Typing', 'Typing', 'Typing', 'Typing', 'Typing', 'Typing', 'Typing', 'Typing', 'Typing', 'Typing', 'Typing', 'Typing', 'WalkingWithDog', 'WalkingWithDog', 'WalkingWithDog', 'WalkingWithDog', 'WalkingWithDog', 'WalkingWithDog', 'WalkingWithDog', 'WalkingWithDog', 'WalkingWithDog', 'WalkingWithDog', 'WalkingWithDog', 'WalkingWithDog', 'WalkingWithDog', 'WalkingWithDog', 'WalkingWithDog', 'WalkingWithDog', 'WalkingWithDog', 'WalkingWithDog', 'WalkingWithDog', 'WalkingWithDog', 'WalkingWithDog', 'WalkingWithDog', 'WalkingWithDog', 'WalkingWithDog', 'WalkingWithDog', 'WalkingWithDog', 'WalkingWithDog', 'WalkingWithDog', 'WalkingWithDog', 'WalkingWithDog', 'WalkingWithDog', 'WalkingWithDog', 'WalkingWithDog', 'WalkingWithDog', 'WalkingWithDog', 'WalkingWithDog', 'Knitting', 'Knitting', 'Knitting', 'Knitting', 'Knitting', 'Knitting', 'Knitting', 'Knitting', 'Knitting', 'Knitting', 'Knitting', 'Knitting', 'Knitting', 'Knitting', 'Knitting', 'Knitting', 'Knitting', 'Knitting', 'Knitting', 'Knitting', 'Knitting', 'Knitting', 'Knitting', 'Knitting', 'Knitting', 'Knitting', 'Knitting', 'Knitting', 'Knitting', 'Knitting', 'Knitting', 'Knitting', 'Knitting', 'Knitting', 'PlayingViolin', 'PlayingViolin', 'PlayingViolin', 'PlayingViolin', 'PlayingViolin', 'PlayingViolin', 'PlayingViolin', 'PlayingViolin', 'PlayingViolin', 'PlayingViolin', 'PlayingViolin', 'PlayingViolin', 'PlayingViolin', 'PlayingViolin', 'PlayingViolin', 'PlayingViolin', 'PlayingViolin', 'PlayingViolin', 'PlayingViolin', 'PlayingViolin', 'PlayingViolin', 'PlayingViolin', 'PlayingViolin', 'PlayingViolin', 'PlayingViolin', 'PlayingViolin', 'PlayingViolin']\n",
      "['BabyCrawling', 'BabyCrawling', 'BabyCrawling', 'BabyCrawling', 'BabyCrawling', 'BabyCrawling', 'BabyCrawling', 'BabyCrawling', 'BabyCrawling', 'BabyCrawling', 'BabyCrawling', 'BabyCrawling', 'BabyCrawling', 'BabyCrawling', 'BabyCrawling', 'BabyCrawling', 'BabyCrawling', 'BabyCrawling', 'BabyCrawling', 'BabyCrawling', 'BabyCrawling', 'BabyCrawling', 'BabyCrawling', 'BabyCrawling', 'BabyCrawling', 'BabyCrawling', 'BabyCrawling', 'BabyCrawling', 'BabyCrawling', 'BabyCrawling', 'BabyCrawling', 'BabyCrawling', 'BabyCrawling', 'BabyCrawling', 'BabyCrawling', 'Surfing', 'Surfing', 'Surfing', 'Surfing', 'Surfing', 'Surfing', 'Surfing', 'Surfing', 'Surfing', 'Surfing', 'Surfing', 'Surfing', 'Surfing', 'Surfing', 'Surfing', 'Surfing', 'Surfing', 'Surfing', 'Surfing', 'Surfing', 'Surfing', 'Surfing', 'Surfing', 'Surfing', 'Surfing', 'Surfing', 'Surfing', 'Surfing', 'Surfing', 'Surfing', 'Surfing', 'Surfing', 'Surfing', 'Typing', 'Typing', 'Typing', 'Typing', 'Typing', 'Typing', 'Typing', 'Typing', 'Typing', 'Typing', 'Typing', 'Typing', 'Typing', 'Typing', 'Typing', 'Typing', 'Typing', 'Typing', 'Typing', 'Typing', 'BabyCrawling', 'Knitting', 'Knitting', 'Knitting', 'Typing', 'Typing', 'Typing', 'Typing', 'Typing', 'Typing', 'Typing', 'Typing', 'Typing', 'Typing', 'Typing', 'Typing', 'Typing', 'Typing', 'Typing', 'Typing', 'Typing', 'Typing', 'Typing', 'WalkingWithDog', 'WalkingWithDog', 'WalkingWithDog', 'WalkingWithDog', 'WalkingWithDog', 'WalkingWithDog', 'WalkingWithDog', 'WalkingWithDog', 'WalkingWithDog', 'WalkingWithDog', 'WalkingWithDog', 'WalkingWithDog', 'WalkingWithDog', 'WalkingWithDog', 'WalkingWithDog', 'Surfing', 'WalkingWithDog', 'WalkingWithDog', 'WalkingWithDog', 'WalkingWithDog', 'WalkingWithDog', 'WalkingWithDog', 'WalkingWithDog', 'WalkingWithDog', 'WalkingWithDog', 'WalkingWithDog', 'WalkingWithDog', 'WalkingWithDog', 'WalkingWithDog', 'WalkingWithDog', 'WalkingWithDog', 'WalkingWithDog', 'WalkingWithDog', 'WalkingWithDog', 'WalkingWithDog', 'WalkingWithDog', 'Knitting', 'Knitting', 'Knitting', 'Knitting', 'Knitting', 'Knitting', 'Knitting', 'Knitting', 'Knitting', 'Knitting', 'Knitting', 'Knitting', 'Knitting', 'Knitting', 'Knitting', 'Knitting', 'Knitting', 'Knitting', 'Knitting', 'Knitting', 'Knitting', 'Knitting', 'Knitting', 'Knitting', 'Knitting', 'Knitting', 'Knitting', 'Knitting', 'Knitting', 'Knitting', 'Knitting', 'Knitting', 'Knitting', 'Knitting', 'PlayingViolin', 'PlayingViolin', 'PlayingViolin', 'PlayingViolin', 'PlayingViolin', 'PlayingViolin', 'PlayingViolin', 'WalkingWithDog', 'PlayingViolin', 'PlayingViolin', 'PlayingViolin', 'PlayingViolin', 'PlayingViolin', 'PlayingViolin', 'PlayingViolin', 'PlayingViolin', 'PlayingViolin', 'PlayingViolin', 'PlayingViolin', 'PlayingViolin', 'PlayingViolin', 'PlayingViolin', 'PlayingViolin', 'PlayingViolin', 'PlayingViolin', 'PlayingViolin', 'PlayingViolin']\n",
      "Done\n"
     ]
    },
    {
     "name": "stderr",
     "output_type": "stream",
     "text": [
      "\n"
     ]
    },
    {
     "data": {
      "text/plain": [
       "97.11538461538461"
      ]
     },
     "execution_count": 3,
     "metadata": {},
     "output_type": "execute_result"
    }
   ],
   "source": [
    "from keras.preprocessing import image\n",
    "import numpy as np\n",
    "import pandas as pd\n",
    "from tqdm import tqdm\n",
    "import cv2\n",
    "import math\n",
    "from keras.models import model_from_json\n",
    "import os\n",
    "from glob import glob\n",
    "from scipy import stats as s\n",
    "from sklearn.metrics import accuracy_score\n",
    "\n",
    "# opening and store file in a variable\n",
    "\n",
    "json_file = open(\"D:\\\\Python\\\\Pycharm\\\\PycharmProjects\\\\IPFinal\\\\modelsum2.json\", \"r\")\n",
    "loaded_model_json = json_file.read()\n",
    "json_file.close()\n",
    "\n",
    "# use Keras model_from_json to make a loaded model\n",
    "\n",
    "model = model_from_json(loaded_model_json)\n",
    "print(\"model loaded\")\n",
    "# load weights into new model\n",
    "\n",
    "model.load_weights(\"D:\\\\Python\\\\Pycharm\\\\PycharmProjects\\\\IPFinal\\\\FTry2.h5\")\n",
    "print(\"Loaded Model from disk\")\n",
    "print(\"weights loaded\")\n",
    "# compile and evaluate loaded model\n",
    "\n",
    "model.compile(loss='categorical_crossentropy', optimizer='Adam', metrics=['accuracy'])\n",
    "model.summary()\n",
    "print(\"model prepared\")\n",
    "\n",
    "# getting the test list\n",
    "f = open(\"D:\\\\Python\\\\Pycharm\\\\PycharmProjects\\\\IPFinal\\\\ucfTrainTestlist\\\\testlist0203.txt\", \"r\")\n",
    "temp = f.read()\n",
    "videos = temp.split('\\n')\n",
    "\n",
    "# creating the dataframe\n",
    "test = pd.DataFrame()\n",
    "test['video_name'] = videos\n",
    "test = test[:-1]\n",
    "test_videos = test['video_name']\n",
    "test.head()\n",
    "\n",
    "# creating the tags\n",
    "train = pd.read_csv('D:\\\\Python\\\\Pycharm\\\\PycharmProjects\\\\IPFinal\\\\train_new4.csv')\n",
    "y = train['class']\n",
    "y = pd.get_dummies(y)\n",
    "print(\"done\")\n",
    "\n",
    "# creating two lists to store predicted and actual tags\n",
    "predict = []\n",
    "actual = []\n",
    "\n",
    "# for loop to extract frames from each test video\n",
    "for i in tqdm(range(test_videos.shape[0])):\n",
    "    count = 0\n",
    "    videoFile = test_videos[i]\n",
    "    dhgy = \"D:\\\\Python\\\\Pycharm\\\\PycharmProjects\\\\IPFinal\\\\UCF-103\\\\\" + str(videoFile.split('/')[0]) + \"/\" + str(videoFile.split(' ')[0].split('/')[1])\n",
    "    cap = cv2.VideoCapture(dhgy)  # capturing the video from the given path\n",
    "    frameRate = cap.get(5)  # frame rate\n",
    "    x = 1\n",
    "    # removing all other files from the temp folder\n",
    "    files3 = glob('D:\\\\Python\\\\Pycharm\\\\PycharmProjects\\\\IPFinal\\\\temp\\\\temp_2\\\\*')\n",
    "    for f3 in files3:\n",
    "        os.remove(f3)\n",
    "    files4 = glob('D:\\\\Python\\\\Pycharm\\\\PycharmProjects\\\\IPFinal\\\\temp\\\\temp_1\\\\*')\n",
    "    for f4 in files4:\n",
    "        os.remove(f4)\n",
    "    while cap.isOpened():\n",
    "        frameId = cap.get(1)  # current frame number\n",
    "        ret, frame = cap.read()\n",
    "        if ret != True:\n",
    "            break\n",
    "        if frameId % math.floor(frameRate) == 0:\n",
    "            # storing the frames in a new folder named train_1\n",
    "            filename = 'D:\\\\Python\\\\Pycharm\\\\PycharmProjects\\\\IPFinal\\\\temp\\\\temp_2\\\\' + \"_frame%d.jpg\" % count\n",
    "            count += 1\n",
    "            cv2.imwrite(filename, frame)\n",
    "            import cv2\n",
    "            import numpy as np\n",
    "            from PIL import Image\n",
    "            from PIL import ImageFilter\n",
    "\n",
    "            img = cv2.imread(filename)\n",
    "            gamma = 1.1\n",
    "            gamma_corrected = np.array(255 * (img / 255) ** gamma, dtype='uint8')\n",
    "            img = cv2.cvtColor(gamma_corrected, cv2.COLOR_BGR2RGB)\n",
    "            imageObject = Image.fromarray(img)\n",
    "            sharpened1 = imageObject.filter(ImageFilter.SHARPEN)\n",
    "            sharpened2 = sharpened1.filter(ImageFilter.SHARPEN)\n",
    "            im2 = sharpened2.filter(ImageFilter.MedianFilter(size=3))\n",
    "            filename1 = 'D:\\\\Python\\\\Pycharm\\\\PycharmProjects\\\\IPFinal\\\\temp\\\\temp_1\\\\' + \"_frame%d.jpg\" % count\n",
    "            count += 1\n",
    "            im2 = im2.save(filename1)\n",
    "    cap.release()\n",
    "\n",
    "    # reading all the frames from temp folder\n",
    "    images = glob(\"D:\\\\Python\\\\Pycharm\\\\PycharmProjects\\\\IPFinal\\\\temp\\\\temp_1\\\\*.jpg\")\n",
    "\n",
    "    prediction_images = []\n",
    "    for j in range(len(images)):\n",
    "        img = image.load_img(images[j], target_size=(224, 224, 3))\n",
    "        img = image.img_to_array(img)\n",
    "        img = img / 255\n",
    "        prediction_images.append(img)\n",
    "\n",
    "    # converting all the frames for a test video into numpy array\n",
    "    prediction_images = np.array(prediction_images)\n",
    "    prediction = model.predict_classes(prediction_images)\n",
    "    # appending the mode of predictions in predict list to assign the tag to the video\n",
    "    predict.append(y.columns.values[s.mode(prediction)[0][0]])\n",
    "    # appending the actual tag of the video\n",
    "    actual.append(videoFile.split('/')[1].split('_')[1])\n",
    "    files1 = glob('D:\\\\Python\\\\Pycharm\\\\PycharmProjects\\\\IPFinal\\\\temp\\\\temp_1\\\\*')\n",
    "    for f1 in files1:\n",
    "        os.remove(f1)\n",
    "    files2 = glob('D:\\\\Python\\\\Pycharm\\\\PycharmProjects\\\\IPFinal\\\\temp\\\\temp_2\\\\*')\n",
    "    for f2 in files2:\n",
    "        os.remove(f2)\n",
    "# checking the accuracy of the predicted tags\n",
    "accuracy_score(predict, actual) * 100"
   ]
  },
  {
   "cell_type": "code",
   "execution_count": null,
   "metadata": {},
   "outputs": [],
   "source": []
  }
 ],
 "metadata": {
  "kernelspec": {
   "display_name": "Python 3",
   "language": "python",
   "name": "python3"
  },
  "language_info": {
   "codemirror_mode": {
    "name": "ipython",
    "version": 3
   },
   "file_extension": ".py",
   "mimetype": "text/x-python",
   "name": "python",
   "nbconvert_exporter": "python",
   "pygments_lexer": "ipython3",
   "version": "3.8.5"
  }
 },
 "nbformat": 4,
 "nbformat_minor": 4
}
