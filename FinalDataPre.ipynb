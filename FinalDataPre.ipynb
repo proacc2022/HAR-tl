{
 "cells": [
  {
   "cell_type": "code",
   "execution_count": 1,
   "metadata": {},
   "outputs": [],
   "source": [
    "import cv2\n",
    "import math\n",
    "import pandas as pd\n",
    "from glob import glob\n",
    "from tqdm import tqdm\n"
   ]
  },
  {
   "cell_type": "code",
   "execution_count": 2,
   "metadata": {},
   "outputs": [],
   "source": [
    "\n",
    "# open the .txt file which have names of training videos\n",
    "f = open(\"D:\\\\Python\\\\Pycharm\\\\PycharmProjects\\\\IPFinal\\\\ucfTrainTestlist\\\\trainlist0203.txt\", \"r\")\n",
    "temp = f.read()\n",
    "videos = temp.split('\\n')\n",
    "# creating a dataframe having video names\n",
    "train = pd.DataFrame()\n",
    "train['video_name'] = videos\n",
    "train = train[:-1]\n",
    "\n",
    "# open the .txt file which have names of test videos\n",
    "f = open(\"D:\\\\Python\\\\Pycharm\\\\PycharmProjects\\\\IPFinal\\\\ucfTrainTestlist\\\\testlist0203.txt\", \"r\")\n",
    "temp = f.read()\n",
    "videos = temp.split('\\n')\n",
    "# creating a dataframe having video names\n",
    "test = pd.DataFrame()\n",
    "test['video_name'] = videos\n",
    "test = test[:-1]\n",
    "\n",
    "# creating tags for training videos\n",
    "train_video_tag = []\n",
    "for i in range(train.shape[0]):\n",
    "    train_video_tag.append(train['video_name'][i].split('/')[0])\n",
    "train['tag'] = train_video_tag\n",
    "\n",
    "# creating tags for test videos\n",
    "test_video_tag = []\n",
    "for i in range(test.shape[0]):\n",
    "    test_video_tag.append(test['video_name'][i].split('/')[0])\n",
    "test['tag'] = test_video_tag\n"
   ]
  },
  {
   "cell_type": "code",
   "execution_count": 5,
   "metadata": {},
   "outputs": [
    {
     "name": "stderr",
     "output_type": "stream",
     "text": [
      "100%|████████████████████████████████████████████████████████████████████████████████| 530/530 [02:42<00:00,  3.27it/s]\n"
     ]
    }
   ],
   "source": [
    "\n",
    "# storing the frames from training videos\n",
    "for i in tqdm(range(train.shape[0])):\n",
    "    count = 0\n",
    "    videoFile = train['video_name'][i]\n",
    "    dhgy = \"D:\\\\Python\\\\Pycharm\\\\PycharmProjects\\\\IPFinal\\\\UCF-103\\\\\" + str(videoFile.split('/')[0]) + \"/\" + str(videoFile.split(' ')[0].split('/')[1])\n",
    "    cap = cv2.VideoCapture(dhgy)   # capturing the video from the given path\n",
    "    frameRate = cap.get(5)   #frame rate\n",
    "    x = 1\n",
    "    while cap.isOpened():\n",
    "        frameId = cap.get(1)    #current frame number\n",
    "        ret, frame = cap.read()\n",
    "        if ret != True:\n",
    "            break\n",
    "        if frameId % math.floor(frameRate) == 0:\n",
    "            # storing the frames in a new folder named train_1\n",
    "            filename = 'D:\\\\Python\\\\Pycharm\\\\PycharmProjects\\\\IPFinal\\\\train_4\\\\' + videoFile.split('/')[1].split(' ')[0] + \"_frame%d.jpg\" % count\n",
    "            count += 1\n",
    "            cv2.imwrite(filename, frame)\n",
    "            import cv2\n",
    "            import numpy as np\n",
    "            from PIL import Image\n",
    "            from PIL import ImageFilter\n",
    "            img = cv2.imread(filename)\n",
    "            gamma = 1.1\n",
    "            gamma_corrected = np.array(255 * (img / 255) ** gamma, dtype='uint8')\n",
    "            img = cv2.cvtColor(gamma_corrected, cv2.COLOR_BGR2RGB)\n",
    "            imageObject = Image.fromarray(img)\n",
    "            sharpened1 = imageObject.filter(ImageFilter.SHARPEN)\n",
    "            sharpened2 = sharpened1.filter(ImageFilter.SHARPEN)\n",
    "            im2 = sharpened2.filter(ImageFilter.MedianFilter(size=3))\n",
    "            filename1 = 'D:\\\\Python\\\\Pycharm\\\\PycharmProjects\\\\IPFinal\\\\train_6\\\\' + videoFile.split('/')[1].split(' ')[0] + \"_frame%d.jpg\" % count\n",
    "            count += 1\n",
    "            im2 = im2.save(filename1)\n",
    "    cap.release()\n"
   ]
  },
  {
   "cell_type": "code",
   "execution_count": 6,
   "metadata": {},
   "outputs": [
    {
     "name": "stderr",
     "output_type": "stream",
     "text": [
      "100%|██████████████████████████████████████████████████████████████████████████| 4288/4288 [00:00<00:00, 857866.71it/s]\n"
     ]
    }
   ],
   "source": [
    "\n",
    "# getting the names of all the images\n",
    "images = glob(\"D:/Python/Pycharm/PycharmProjects/IPFinal/train_6/*.jpg\")\n",
    "train_image = []\n",
    "train_class = []\n",
    "\n",
    "for i in tqdm(range(len(images))):\n",
    "    # creating the image name\n",
    "    train_image.append(images[i].split('\\\\')[1])\n",
    "    # creating the class of image\n",
    "    train_class.append(images[i].split('\\\\')[1].split('_')[1])\n",
    "# storing the images and their class in a dataframe\n",
    "train_data = pd.DataFrame()\n",
    "train_data['image'] = train_image\n",
    "train_data['class'] = train_class\n",
    "\n",
    "# converting the dataframe into csv file\n",
    "train_data.to_csv('D:\\\\Python\\\\Pycharm\\\\PycharmProjects\\\\IPFinal\\\\train_new4.csv', header=True, index=False)\n"
   ]
  },
  {
   "cell_type": "code",
   "execution_count": null,
   "metadata": {},
   "outputs": [],
   "source": []
  }
 ],
 "metadata": {
  "kernelspec": {
   "display_name": "Python 3",
   "language": "python",
   "name": "python3"
  },
  "language_info": {
   "codemirror_mode": {
    "name": "ipython",
    "version": 3
   },
   "file_extension": ".py",
   "mimetype": "text/x-python",
   "name": "python",
   "nbconvert_exporter": "python",
   "pygments_lexer": "ipython3",
   "version": "3.8.5"
  }
 },
 "nbformat": 4,
 "nbformat_minor": 4
}
